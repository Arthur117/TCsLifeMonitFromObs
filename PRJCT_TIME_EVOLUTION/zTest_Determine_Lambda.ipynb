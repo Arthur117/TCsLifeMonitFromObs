{
 "cells": [
  {
   "cell_type": "markdown",
   "metadata": {},
   "source": [
    "## Test: Determine Lambda empirically"
   ]
  },
  {
   "cell_type": "code",
   "execution_count": 1,
   "metadata": {},
   "outputs": [],
   "source": [
    "# General\n",
    "import glob\n",
    "import re\n",
    "import os.path\n",
    "import warnings\n",
    "# warnings.filterwarnings('ignore')\n",
    "from tqdm.notebook import tqdm\n",
    "import copy\n",
    "\n",
    "# Arrays & Displays\n",
    "import xarray as xr\n",
    "import numpy as np\n",
    "import matplotlib as mpl\n",
    "import matplotlib.pyplot as plt\n",
    "import matplotlib.cm as cm\n",
    "from matplotlib.colors import Normalize\n",
    "import pandas as pd\n",
    "from matplotlib.gridspec import GridSpec\n",
    "from matplotlib.colors import LinearSegmentedColormap\n",
    "\n",
    "# Data treatment\n",
    "from datetime import datetime\n",
    "from scipy.optimize import curve_fit\n",
    "\n",
    "# Statistics\n",
    "from sklearn.linear_model import LinearRegression\n",
    "from sklearn import linear_model, neighbors\n",
    "from pykalman import KalmanFilter\n",
    "\n",
    "# Default parameters\n",
    "mpl.rcParams.update({'font.size': 18})\n",
    "mpl.rcParams['figure.figsize'] = (15, 10)\n",
    "mpl.rcParams['axes.facecolor'] = 'white'\n",
    "mpl.rcParams['figure.facecolor'] = 'white'"
   ]
  },
  {
   "cell_type": "code",
   "execution_count": 2,
   "metadata": {},
   "outputs": [],
   "source": [
    "PRMS = {\n",
    "    'n':              5, # R+ is defined as omega(R+) = n * f\n",
    "    'sav_fgs':        True,\n",
    "}\n",
    "\n",
    "PTHS = {\n",
    "    'dsg_pth':         '/home/arthur/data/cyclobs/SAR_compilations_in_nc/SAR_centered_rotated_files_13052022_with_extra_params.nc',\n",
    "    'sar_dir':         '/home/arthur/data/cyclobs/centered_rotated_files_31012022/',\n",
    "    'sct_dir':         '/home/arthur/data/scatterometer/KNMI/product_JF_rotated_filtered_v3/POLAR/2020/EP182020/',\n",
    "    'sav_dir':         '/home/arthur/results/TCsLifeMonitFromObs/PRJCT_TIME_EVOLUTION/zTest_Determine_Lambda/'\n",
    "}"
   ]
  },
  {
   "cell_type": "markdown",
   "metadata": {},
   "source": [
    "### 1) FUNCTIONS"
   ]
  },
  {
   "cell_type": "code",
   "execution_count": 3,
   "metadata": {},
   "outputs": [],
   "source": [
    "rs = np.linspace(10, 900000, 90000)\n",
    "dr = 10 # meters\n",
    "\n",
    "# rs = np.linspace(10000, 900000, 90)\n",
    "# dr = 10000 # meters\n",
    "\n",
    "def coriolis(lat):\n",
    "    '''Latitude must be in degrees.'''\n",
    "    Omega = 7.2921e-5                             # Earth rotation vector\n",
    "    fcor  = 2 * Omega * np.sin(lat * np.pi / 180) # Coriolis parameter at 20° latitude and assuming it's constant \n",
    "    return fcor\n",
    "\n",
    "def vorticity(r, v):\n",
    "    '''Relative vorticity'''\n",
    "    return (1 / r) * np.gradient(r * v, dr)\n",
    "\n",
    "def v_k10(v0, t, alpha=1., lbda=None):\n",
    "    # Initial\n",
    "    v          = np.zeros_like(v0.rad)                             # Raw v0\n",
    "    v_prop_in  = v0.interp({'rad': v0.rad * np.exp(alpha * t)})    # Inner-core: v0 interpolated on r * e^t\n",
    "    with warnings.catch_warnings():\n",
    "        warnings.simplefilter('ignore', category=RuntimeWarning)\n",
    "        nr_term    = np.sqrt(1 + 2 * (np.log(v0.rad) + alpha * t)) # Near-core (1)\n",
    "    v_prop_nr  = v0.interp({'rad': nr_term})                       # Near-core (2)\n",
    "    ou_term    = np.sqrt(v0.rad ** 2 + 2 * alpha * t)              # Outer-core (1)\n",
    "    v_prop_ou  = v0.interp({'rad': ou_term})                       # Outer-core (2)\n",
    "    \n",
    "    # No friction\n",
    "    if lbda is None:\n",
    "        vin        = v_prop_in * np.exp(alpha * t) + v0.rad * (np.exp(2 * alpha * t) - 1) / (2 * alpha)                                     # Inner-core\n",
    "        vnr        = nr_term * v_prop_nr / v0.rad + (1 - v0.rad ** 2) / (2 * alpha * v0.rad) + np.log(v0.rad) / v0.rad + alpha * t / v0.rad # Near-core\n",
    "        vou        = ou_term * v_prop_ou / v0.rad + alpha * t / v0.rad                                                                      # Outer-core\n",
    "        \n",
    "    # Friction\n",
    "    else:\n",
    "        vin        = v_prop_in * np.exp((alpha - lbda) * t) + alpha * v0.rad * (1 - np.exp((2 * alpha - lbda) * t)) / (lbda - 2 * alpha)                                # Inner-core\n",
    "        vnr        = nr_term * v_prop_nr * np.exp(-lbda * t) / v0.rad + alpha * (lbda * v0.rad ** 2 - 2 * alpha * v0.rad ** (lbda / alpha)) / (lbda * v0.rad * (lbda - 2 * alpha)) - alpha * np.exp(-lbda * t) / (lbda * v0.rad)\n",
    "        vou        = ou_term * v_prop_ou * np.exp(-lbda * t) / v0.rad + alpha * (1 - np.exp(-lbda * t)) / (lbda * v0.rad) # Outer-core\n",
    "\n",
    "    # Declare final output\n",
    "    bd              = np.exp(-alpha * t)\n",
    "    v[v0.rad < bd]  = vin[v0.rad < bd]\n",
    "    v[v0.rad >= bd] = vnr[v0.rad >= bd]\n",
    "    v[v0.rad >= 1]  = vou[v0.rad >= 1]\n",
    "    \n",
    "    return v\n",
    "\n",
    "def compute_RV_plus(r, V, fcor, n=5):\n",
    "    # Compute R+\n",
    "    rm       = r[np.nanargmax(V)]\n",
    "    out      = r > rm          # To find outer-core\n",
    "    r        = r[out]\n",
    "    V        = V[out]\n",
    "    vrt      = vorticity(r, V) # Relative vorticity\n",
    "    vrt_plan = fcor            # Planetary vorticity\n",
    "\n",
    "    try: \n",
    "        R_plus = r[abs(vrt - n * vrt_plan) < 1e-6][0] # R+\n",
    "        V_plus = V[r >= R_plus][0]\n",
    "    except IndexError:\n",
    "        print('Error: R+ non defined.')\n",
    "        R_plus = V_plus = np.nan\n",
    "    \n",
    "    return R_plus, V_plus\n",
    "\n",
    "def holland_profile(r, lat, pn, pc, Vmin, Rmax, Vmax):\n",
    "    '''We assume that rho is constant and equals 1.15 kg.m-3'''\n",
    "    fcor  = abs(coriolis(lat))\n",
    "    rho   = 1.15\n",
    "    B     = ((Vmax - Vmin) ** 2) * rho * np.e / (pn - pc)\n",
    "    A     = Rmax ** B\n",
    "    \n",
    "    r     = r.astype(float) + 0.001 # To avoid dividing by zero\n",
    "    V     = r * 0.\n",
    "    V     = Vmin + np.sqrt(A * B * (pn - pc) * np.exp((-1) * A / (r ** B)) / (rho * r ** B) + (r ** 2 * fcor ** 2) / 4) - (r * fcor / 2)\n",
    "    return V\n",
    "\n",
    "def BL_height(r, a):\n",
    "    '''a is the slope of the BL height'''\n",
    "    return a * r\n",
    "\n",
    "# def BL_height(r, a, Rp):\n",
    "#     return a * (1 - np.exp(-(r / Rp) ** 0.1))\n",
    "\n",
    "# def BL_height(r, a, Rp):\n",
    "#     return (2 * a / np.pi) * np.arctan((r / Rp))\n",
    "\n",
    "def u(r, alpha, fcor_ini, Rp_ini):\n",
    "    u    = np.zeros_like(r) \n",
    "    u_in = -alpha * fcor_ini * r\n",
    "    u_ou = -alpha * fcor_ini * (Rp_ini ** 2) / r\n",
    "    u[r <= Rp_ini] = u_in[r <= Rp_ini]\n",
    "    u[r >= Rp_ini] = u_ou[r >= Rp_ini]\n",
    "    return u # dimensional\n",
    "\n",
    "def propagate(r, a, alpha, V_ini, fcor_ini, dt=1, fitting_mode=False, Cd_plus=2.5e-3):\n",
    "    # Compute R+, V+\n",
    "    R_plus, V_plus = compute_RV_plus(r, V_ini, fcor_ini, PRMS['n'])\n",
    "    # print('R+ = {:.0f}, V+ = {:.1f}'.format(R_plus, V_plus))\n",
    "    \n",
    "    # Compute BL height \n",
    "    h              = BL_height(r, a / 1000)\n",
    "    # h                = a * np.ones_like(r)\n",
    "    # h              = BL_height(r, a, R_plus)\n",
    "    \n",
    "    # Compute lambda\n",
    "    # M_abs          = r * V_ini + 0.5 * fcor_ini * (r ** 2)\n",
    "    M_rel          = r * V_ini\n",
    "    lbda           = float(Cd_plus * R_plus * (V_plus ** 2)) / (h * M_rel) # dimensional\n",
    "    # lbda           = float(Cd_plus * R_plus * (V_plus ** 2)) / (h * M_rel) - (fcor_ini * r * u(r, alpha, fcor_ini, R_plus) / M_rel) # dimensional\n",
    "    lbda           = lbda / fcor_ini                                       # non-dimensional\n",
    "    \n",
    "    # plt.plot(r / 1000, 1e6 / r ** 2, c='k')\n",
    "    # plt.plot(r / 1000, lbda);plt.yscale('log');plt.xlim(0, 300);plt.show()\n",
    "    \n",
    "    # Normalize\n",
    "    V_nrm = xr.DataArray(\n",
    "        data=V_ini / (fcor_ini * R_plus),\n",
    "        coords={'rad': r / R_plus}\n",
    "    )\n",
    "    \n",
    "    # Apply KK10\n",
    "    V = v_k10(V_nrm, dt, alpha, lbda=lbda) * fcor_ini * R_plus             # dimensional\n",
    "    \n",
    "    # # Option 1: Fit the whole curve\n",
    "    # # In fitting mode, match values of nan with values of initial profile so that it doesn't count\n",
    "    # if fitting_mode:\n",
    "    #     V[np.isnan(V)] = V_ini[np.isnan(V)]\n",
    "    \n",
    "    # Option 2: Fit Vmax\n",
    "    if fitting_mode:\n",
    "        V = np.nanmax(V)\n",
    "\n",
    "    return V"
   ]
  },
  {
   "cell_type": "code",
   "execution_count": null,
   "metadata": {},
   "outputs": [],
   "source": []
  },
  {
   "cell_type": "markdown",
   "metadata": {},
   "source": [
    "### 2) SAR DATA"
   ]
  },
  {
   "cell_type": "code",
   "execution_count": 4,
   "metadata": {},
   "outputs": [
    {
     "name": "stderr",
     "output_type": "stream",
     "text": [
      "/home/arthur/anaconda3/envs/paramProfiles/lib/python3.8/site-packages/xarray/backends/plugins.py:71: RuntimeWarning: Engine 'cfgrib' loading failed:\n",
      "/home/arthur/anaconda3/envs/paramProfiles/lib/python3.8/lib-dynload/../../libffi.so.8: version `LIBFFI_CLOSURE_7.0' not found (required by /home/arthur/anaconda3/envs/paramProfiles/lib/python3.8/site-packages/_cffi_backend.cpython-38-x86_64-linux-gnu.so)\n",
      "  warnings.warn(f\"Engine {name!r} loading failed:\\n{ex}\", RuntimeWarning)\n"
     ]
    },
    {
     "name": "stdout",
     "output_type": "stream",
     "text": [
      "Nb of storms: 161\n",
      "SAR Mean Rmax = 31 km\n",
      "SAR Mean R64  = 57 km\n",
      "Mean latitude = 18.9°\n",
      "Mean Coriolis = 4.7e-05\n"
     ]
    }
   ],
   "source": [
    "dsg  = xr.open_dataset(PTHS['dsg_pth'])\n",
    "\n",
    "### FILTER\n",
    "dsg = dsg.where(dsg.distance_to_coast > dsg.R17_1D * 1000, drop=True)\n",
    "dsg = dsg.where(abs(dsg.lat_center) < 30, drop=True)\n",
    "dsg = dsg.where(dsg.B_hol > 0.1, drop=True)\n",
    "dsg = dsg.where(dsg.Vmax_1D > 25, drop=True)\n",
    "print('Nb of storms: {}'.format(len(dsg.time)))\n",
    "\n",
    "print('SAR Mean Rmax = {:.0f} km'.format(dsg.Rmax_1D.mean()))\n",
    "print('SAR Mean R64  = {:.0f} km'.format(dsg.R33_1D.mean()))\n",
    "\n",
    "# Manually add Goni because its R17 is nan (I don't know why)\n",
    "goni      = xr.open_dataset('/home/arthur/data/cyclobs/SAR_compilations_in_nc/Goni_sample.nc')\n",
    "goni['storm_id'] = np.array('wp222020')\n",
    "dsg       = xr.concat((dsg, goni), dim='time')\n",
    "\n",
    "# Select IDs where there are at least 2 SAR images\n",
    "ids, cts  = np.unique(dsg.storm_id, return_counts=True)\n",
    "valid_ids = ids[cts > 1]\n",
    "valid_cts = cts[cts > 1]\n",
    "\n",
    "print('Mean latitude = {:.1f}°'.format(abs(dsg.lat_center).mean()))\n",
    "print('Mean Coriolis = {:.1e}'.format(float(coriolis(abs(dsg.lat_center).mean()))))"
   ]
  },
  {
   "cell_type": "code",
   "execution_count": null,
   "metadata": {},
   "outputs": [],
   "source": []
  },
  {
   "cell_type": "code",
   "execution_count": null,
   "metadata": {},
   "outputs": [],
   "source": []
  },
  {
   "cell_type": "markdown",
   "metadata": {},
   "source": [
    "### 3) Determine lambda"
   ]
  },
  {
   "cell_type": "code",
   "execution_count": 5,
   "metadata": {},
   "outputs": [
    {
     "data": {
      "application/vnd.jupyter.widget-view+json": {
       "model_id": "7be07c630dc24caf845ca019e8e04181",
       "version_major": 2,
       "version_minor": 0
      },
      "text/plain": [
       "  0%|          | 0/14 [00:00<?, ?it/s]"
      ]
     },
     "metadata": {},
     "output_type": "display_data"
    }
   ],
   "source": [
    "# Parameters\n",
    "time_thresh  = 20\n",
    "\n",
    "# id = 3, 10, 15, 20, 25, 30, 35\n",
    "# Intensifying: 3, 40\n",
    "\n",
    "# Iterate\n",
    "for tc_id in tqdm(valid_ids[:14]):\n",
    "    # Iterate other all SAR acquisitions of the TC, 2 by 2\n",
    "    dsi        = dsg.where(dsg.storm_id == tc_id, drop=True).sortby('time')\n",
    "    for idx_ini in range(len(dsi.time) - 1):\n",
    "        for idx_fin in range(idx_ini + 1, len(dsi.time)):\n",
    "            # print(idx_ini, idx_fin)\n",
    "            ds_ini     = dsi.isel(time=idx_ini)\n",
    "            ds_fin     = dsi.isel(time=idx_fin)   \n",
    "            delta_h    = float((ds_fin.time - ds_ini.time) / np.timedelta64(1, 'h'))\n",
    "            # Compute VK10 if delta_h is less than threshold\n",
    "            if (delta_h <= time_thresh) & (delta_h > 1):\n",
    "                V_ini      = ds_ini.wind_speed.mean(dim='theta', skipna=True).interp(coords={'rad': rs})\n",
    "                V_fin      = ds_fin.wind_speed.mean(dim='theta', skipna=True).interp(coords={'rad': rs})\n",
    "                Vh_ini     = holland_profile(rs, float(abs(ds_ini.lat_center)), float(ds_ini.pn_hol), float(ds_ini.pc_hol), float(ds_ini.Vmin_hol), float(ds_ini.Rmax_hol), float(ds_ini.Vmax_hol))\n",
    "                Vh_fin     = holland_profile(rs, float(abs(ds_fin.lat_center)), float(ds_fin.pn_hol), float(ds_fin.pc_hol), float(ds_fin.Vmin_hol), float(ds_fin.Rmax_hol), float(ds_fin.Vmax_hol))\n",
    "                fcor_ini   = float(abs(coriolis(ds_ini.lat_center)))\n",
    "                fcor_fin   = float(abs(coriolis(ds_fin.lat_center)))\n",
    "                \n",
    "                # Compute R+ metrics\n",
    "                Rp_ini, Vp_ini   = compute_RV_plus(rs, Vh_ini,    float(abs(coriolis(ds_ini.lat_center))), PRMS['n'])\n",
    "                \n",
    "                # dt\n",
    "                tau      = ((1 / fcor_ini) / 3600)\n",
    "                dt       = delta_h / tau\n",
    "                \n",
    "                # Alpha\n",
    "                alpha = 1"
   ]
  },
  {
   "cell_type": "code",
   "execution_count": 49,
   "metadata": {},
   "outputs": [],
   "source": [
    "from scipy.optimize import minimize\n",
    "from scipy.optimize import minimize_scalar\n",
    "import warnings\n",
    "warnings.filterwarnings(\"ignore\")\n",
    "\n",
    "def propagate(r, lbda, V_ini, fcor_ini, dt=1, alpha=1, Cd_plus=2.5e-3):\n",
    "    # Compute R+, V+\n",
    "    R_plus, V_plus = compute_RV_plus(r, V_ini, fcor_ini, PRMS['n'])\n",
    "    \n",
    "    # Normalize\n",
    "    V_nrm = xr.DataArray(\n",
    "        data=V_ini / (fcor_ini * R_plus),\n",
    "        coords={'rad': r / R_plus}\n",
    "    )\n",
    "    # lbda = lbda / fcor_ini                                       # non-dimensional\n",
    "    \n",
    "    # Apply KK10\n",
    "    V = v_k10(V_nrm, dt, alpha, lbda=lbda) * fcor_ini * R_plus # dimensional\n",
    "\n",
    "    return V\n",
    "\n",
    "def local_loss(lbda, i, V_ini, V_fin, dt, alpha):\n",
    "    V_mod = propagate(rs, lbda, V_ini, fcor_ini, dt=dt, alpha=alpha)\n",
    "    # print(lbda)\n",
    "    # print(lbda, V_ini[i], V_mod[i])\n",
    "    return np.sqrt((V_fin[i] - V_mod[i]) ** 2)"
   ]
  },
  {
   "cell_type": "code",
   "execution_count": 24,
   "metadata": {},
   "outputs": [
    {
     "data": {
      "application/vnd.jupyter.widget-view+json": {
       "model_id": "e13827f1b2c8462dbdff4a90588019ca",
       "version_major": 2,
       "version_minor": 0
      },
      "text/plain": [
       "  0%|          | 0/39 [00:00<?, ?it/s]"
      ]
     },
     "metadata": {},
     "output_type": "display_data"
    },
    {
     "data": {
      "application/vnd.jupyter.widget-view+json": {
       "model_id": "ecc5b8daf1d647efbd53f447e1f34a40",
       "version_major": 2,
       "version_minor": 0
      },
      "text/plain": [
       "  0%|          | 0/10 [00:00<?, ?it/s]"
      ]
     },
     "metadata": {},
     "output_type": "display_data"
    },
    {
     "data": {
      "application/vnd.jupyter.widget-view+json": {
       "model_id": "ff2e3916d49f416a913e785f5df9a022",
       "version_major": 2,
       "version_minor": 0
      },
      "text/plain": [
       "  0%|          | 0/10 [00:00<?, ?it/s]"
      ]
     },
     "metadata": {},
     "output_type": "display_data"
    },
    {
     "data": {
      "application/vnd.jupyter.widget-view+json": {
       "model_id": "1a111e5b824949f3ad654dfe2915d110",
       "version_major": 2,
       "version_minor": 0
      },
      "text/plain": [
       "  0%|          | 0/10 [00:00<?, ?it/s]"
      ]
     },
     "metadata": {},
     "output_type": "display_data"
    },
    {
     "name": "stderr",
     "output_type": "stream",
     "text": [
      "\n",
      "KeyboardInterrupt\n",
      "\n"
     ]
    },
    {
     "data": {
      "text/plain": [
       "<Figure size 1500x1000 with 0 Axes>"
      ]
     },
     "metadata": {},
     "output_type": "display_data"
    }
   ],
   "source": [
    "# Parameters\n",
    "time_thresh  = 20\n",
    "lbda0        = 0.7\n",
    "alpha        = 1\n",
    "\n",
    "# Iterate\n",
    "for tc_id in tqdm(valid_ids):\n",
    "    # Iterate other all SAR acquisitions of the TC, 2 by 2\n",
    "    dsi        = dsg.where(dsg.storm_id == tc_id, drop=True).sortby('time')\n",
    "    for idx_ini in range(len(dsi.time) - 1):\n",
    "        for idx_fin in range(idx_ini + 1, len(dsi.time)):\n",
    "            # print(idx_ini, idx_fin)\n",
    "            ds_ini     = dsi.isel(time=idx_ini)\n",
    "            ds_fin     = dsi.isel(time=idx_fin)   \n",
    "            delta_h    = float((ds_fin.time - ds_ini.time) / np.timedelta64(1, 'h'))\n",
    "            # Compute VK10 if delta_h is less than threshold\n",
    "            if (delta_h <= time_thresh) & (delta_h > 1):\n",
    "                V_ini      = ds_ini.wind_speed.mean(dim='theta', skipna=True).interp(coords={'rad': rs})\n",
    "                V_fin      = ds_fin.wind_speed.mean(dim='theta', skipna=True).interp(coords={'rad': rs})\n",
    "                Vh_ini     = holland_profile(rs, float(abs(ds_ini.lat_center)), float(ds_ini.pn_hol), float(ds_ini.pc_hol), float(ds_ini.Vmin_hol), float(ds_ini.Rmax_hol), float(ds_ini.Vmax_hol))\n",
    "                Vh_fin     = holland_profile(rs, float(abs(ds_fin.lat_center)), float(ds_fin.pn_hol), float(ds_fin.pc_hol), float(ds_fin.Vmin_hol), float(ds_fin.Rmax_hol), float(ds_fin.Vmax_hol))\n",
    "                fcor_ini   = float(abs(coriolis(ds_ini.lat_center)))\n",
    "                fcor_fin   = float(abs(coriolis(ds_fin.lat_center)))\n",
    "                \n",
    "                # Compute R+ metrics\n",
    "                Rp_ini, Vp_ini   = compute_RV_plus(rs, Vh_ini, float(abs(coriolis(ds_ini.lat_center))), PRMS['n'])\n",
    "                \n",
    "                # dt\n",
    "                tau      = ((1 / fcor_ini) / 3600)\n",
    "                dt       = delta_h / tau\n",
    "                \n",
    "                # Plot profiles\n",
    "                plt.plot(rs / 1000, Vh_ini, c='k', label='SAR ini', linewidth=3)\n",
    "                plt.plot(rs / 1000, Vh_fin, c='orangered', label='SAR fin', linewidth=3)\n",
    "                plt.xlim(0, 300)\n",
    "                plt.grid();plt.legend()\n",
    "                if PRMS['sav_fgs']:\n",
    "                    plt.savefig(PTHS['sav_dir'] + '{}_idx_ini{}_idx_fin{}_profiles'.format(tc_id.item(), idx_ini, idx_fin))\n",
    "                plt.clf()\n",
    "                \n",
    "                # Determine lambda - coarse\n",
    "                LBDAS = []\n",
    "                IS    = []\n",
    "                for i in tqdm(rs[999::1000][:10]):\n",
    "                    i     = int(i / 10)\n",
    "                    opt   = minimize_scalar(local_loss, args=(i, Vh_ini, Vh_fin, dt, alpha), tol=1e-5)\n",
    "                    V     = propagate(rs, opt.x, Vh_ini, fcor_ini, dt=dt, alpha=alpha)\n",
    "                    if abs(Vh_fin[i] - V[i]) > 1:\n",
    "                        print('ERROR')\n",
    "                        # print('FINAL LBDA = {}'.format(opt.x))\n",
    "                        print(i, Vh_fin[i], V[i])\n",
    "                    # Append\n",
    "                    LBDAS.append(opt.x)\n",
    "                    IS.append(i)\n",
    "                plt.scatter(rs[IS] / 1000, LBDAS, c='tab:blue')\n",
    "                \n",
    "                # Determine lambda - fine\n",
    "                LBDAS = []\n",
    "                IS    = []\n",
    "                for i in tqdm(rs[::100][:10]):\n",
    "                    i     = int(i / 10)\n",
    "                    opt   = minimize_scalar(local_loss, args=(i, Vh_ini, Vh_fin, dt, alpha), tol=1e-5)\n",
    "                    V     = propagate(rs, opt.x, Vh_ini, fcor_ini, dt=dt, alpha=alpha)\n",
    "                    if abs(Vh_fin[i] - V[i]) > 1:\n",
    "                        print('ERROR')\n",
    "                        print(i, Vh_fin[i], V[i])\n",
    "                    # Append\n",
    "                    LBDAS.append(opt.x)\n",
    "                    IS.append(i)\n",
    "                plt.scatter(rs[IS] / 1000, LBDAS, c='tab:blue')\n",
    "                \n",
    "                # Plot lambda\n",
    "                plt.plot(rs / 1000, 0.06 * Rp_ini ** 2 / (rs ** 2), c='r', label='0.06 * R+^2 / r^2')\n",
    "                plt.plot(rs / 1000, 0.2 * (Rp_ini / rs) ** 1, c='g', label='0.2 * R+ / r')\n",
    "                plt.plot(rs / 1000, 0.02 * (Rp_ini ** 2 * Vp_ini / (rs ** 2 * Vh_ini)), c='gray', label='0.02 * R+^2 * V+ / (r^2 * v)')\n",
    "                plt.xlim(-1, 100)\n",
    "                plt.ylim(0, 2)\n",
    "                plt.grid();plt.legend()\n",
    "                if PRMS['sav_fgs']:\n",
    "                    plt.savefig(PTHS['sav_dir'] + '{}_idx_ini{}_idx_fin{}_lambdas'.format(tc_id.item(), idx_ini, idx_fin))\n",
    "                plt.clf()"
   ]
  },
  {
   "cell_type": "code",
   "execution_count": 76,
   "metadata": {},
   "outputs": [
    {
     "data": {
      "text/plain": [
       "array([  1.        ,   6.21052632,  11.42105263,  16.63157895,\n",
       "        21.84210526,  27.05263158,  32.26315789,  37.47368421,\n",
       "        42.68421053,  47.89473684,  53.10526316,  58.31578947,\n",
       "        63.52631579,  68.73684211,  73.94736842,  79.15789474,\n",
       "        84.36842105,  89.57894737,  94.78947368, 100.        ])"
      ]
     },
     "execution_count": 76,
     "metadata": {},
     "output_type": "execute_result"
    }
   ],
   "source": [
    "lbda_candidates = np.linspace(1, 100, 20)\n",
    "lbda_candidates"
   ]
  },
  {
   "cell_type": "code",
   "execution_count": null,
   "metadata": {},
   "outputs": [],
   "source": []
  },
  {
   "cell_type": "markdown",
   "metadata": {},
   "source": [
    "### Alpha = 0.5"
   ]
  },
  {
   "cell_type": "code",
   "execution_count": 79,
   "metadata": {},
   "outputs": [
    {
     "data": {
      "application/vnd.jupyter.widget-view+json": {
       "model_id": "4d471b6db09d4e2088f060191eaa5905",
       "version_major": 2,
       "version_minor": 0
      },
      "text/plain": [
       "  0%|          | 0/39 [00:00<?, ?it/s]"
      ]
     },
     "metadata": {},
     "output_type": "display_data"
    },
    {
     "data": {
      "application/vnd.jupyter.widget-view+json": {
       "model_id": "0612e51f4eff49879effc8d337e13f94",
       "version_major": 2,
       "version_minor": 0
      },
      "text/plain": [
       "  0%|          | 0/10 [00:00<?, ?it/s]"
      ]
     },
     "metadata": {},
     "output_type": "display_data"
    },
    {
     "name": "stdout",
     "output_type": "stream",
     "text": [
      "ERROR\n",
      "FINAL LBDA = 1e-05\n",
      "8000 43.56184128999603 40.21563890965484\n",
      "ERROR\n",
      "FINAL LBDA = 1e-05\n",
      "9000 40.834336144180945 36.11023528733816\n",
      "ERROR\n",
      "FINAL LBDA = 1e-05\n",
      "10000 38.03768583847293 32.83040521144442\n"
     ]
    },
    {
     "data": {
      "application/vnd.jupyter.widget-view+json": {
       "model_id": "3856e6e338fb451abffb5e20185cf58e",
       "version_major": 2,
       "version_minor": 0
      },
      "text/plain": [
       "  0%|          | 0/10 [00:00<?, ?it/s]"
      ]
     },
     "metadata": {},
     "output_type": "display_data"
    },
    {
     "data": {
      "application/vnd.jupyter.widget-view+json": {
       "model_id": "4923a8ba42c24ab58382b6280993a2a4",
       "version_major": 2,
       "version_minor": 0
      },
      "text/plain": [
       "  0%|          | 0/10 [00:00<?, ?it/s]"
      ]
     },
     "metadata": {},
     "output_type": "display_data"
    },
    {
     "name": "stdout",
     "output_type": "stream",
     "text": [
      "ERROR\n",
      "FINAL LBDA = 0.15263157894736842\n",
      "7000 38.27313037646122 41.93008387927398\n"
     ]
    },
    {
     "name": "stderr",
     "output_type": "stream",
     "text": [
      "\n",
      "KeyboardInterrupt\n",
      "\n"
     ]
    },
    {
     "data": {
      "text/plain": [
       "<Figure size 1500x1000 with 0 Axes>"
      ]
     },
     "metadata": {},
     "output_type": "display_data"
    }
   ],
   "source": [
    "# Parameters\n",
    "time_thresh     = 20\n",
    "lbda0           = 0.7\n",
    "alpha           = 0.5\n",
    "# lbda_candidates = np.linspace(0.01, 3, 20)\n",
    "lbda_candidates = np.concatenate(([0.00001, 0.0001, 0.0005, 0.001, 0.003, 0.006, 0.01], np.linspace(0.05, 2, 20))) # alpha = 0.5\n",
    "# lbda_candidates = np.linspace(0.1, 15, 30)\n",
    "\n",
    "# Iterate\n",
    "for tc_id in tqdm(valid_ids):\n",
    "    # Iterate other all SAR acquisitions of the TC, 2 by 2\n",
    "    dsi        = dsg.where(dsg.storm_id == tc_id, drop=True).sortby('time')\n",
    "    for idx_ini in range(len(dsi.time) - 1):\n",
    "        for idx_fin in range(idx_ini + 1, len(dsi.time)):\n",
    "            # print(idx_ini, idx_fin)\n",
    "            ds_ini     = dsi.isel(time=idx_ini)\n",
    "            ds_fin     = dsi.isel(time=idx_fin)   \n",
    "            delta_h    = float((ds_fin.time - ds_ini.time) / np.timedelta64(1, 'h'))\n",
    "            # Compute VK10 if delta_h is less than threshold\n",
    "            if (delta_h <= time_thresh) & (delta_h > 1):\n",
    "                V_ini      = ds_ini.wind_speed.mean(dim='theta', skipna=True).interp(coords={'rad': rs})\n",
    "                V_fin      = ds_fin.wind_speed.mean(dim='theta', skipna=True).interp(coords={'rad': rs})\n",
    "                Vh_ini     = holland_profile(rs, float(abs(ds_ini.lat_center)), float(ds_ini.pn_hol), float(ds_ini.pc_hol), float(ds_ini.Vmin_hol), float(ds_ini.Rmax_hol), float(ds_ini.Vmax_hol))\n",
    "                Vh_fin     = holland_profile(rs, float(abs(ds_fin.lat_center)), float(ds_fin.pn_hol), float(ds_fin.pc_hol), float(ds_fin.Vmin_hol), float(ds_fin.Rmax_hol), float(ds_fin.Vmax_hol))\n",
    "                fcor_ini   = float(abs(coriolis(ds_ini.lat_center)))\n",
    "                fcor_fin   = float(abs(coriolis(ds_fin.lat_center)))\n",
    "                \n",
    "                # Compute R+ metrics\n",
    "                Rp_ini, Vp_ini   = compute_RV_plus(rs, Vh_ini, float(abs(coriolis(ds_ini.lat_center))), PRMS['n'])\n",
    "                \n",
    "                # dt\n",
    "                tau      = ((1 / fcor_ini) / 3600)\n",
    "                dt       = delta_h / tau\n",
    "                \n",
    "                # Plot profiles\n",
    "                plt.plot(rs / 1000, Vh_ini, c='k', label='SAR ini', linewidth=3)\n",
    "                plt.plot(rs / 1000, Vh_fin, c='orangered', label='SAR fin', linewidth=3)\n",
    "                plt.xlim(0, 300)\n",
    "                plt.grid();plt.legend()\n",
    "                if PRMS['sav_fgs']:\n",
    "                    plt.savefig(PTHS['sav_dir'] + '{}_idx_ini{}_idx_fin{}_profiles'.format(tc_id.item(), idx_ini, idx_fin))\n",
    "                plt.clf()\n",
    "                \n",
    "                # Determine lambda - coarse\n",
    "                LBDAS = []\n",
    "                IS    = []\n",
    "                for i in tqdm(rs[999::1000][:10]):\n",
    "                    i     = int(i / 10)\n",
    "                    \n",
    "                    losses = []\n",
    "                    for l in lbda_candidates:\n",
    "                        lss = local_loss(l, i, Vh_ini, Vh_fin, dt, alpha)\n",
    "                        losses.append(lss)\n",
    "                    res = lbda_candidates[np.nanargmin(losses)]\n",
    "                    \n",
    "                    V     = propagate(rs, res, Vh_ini, fcor_ini, dt=dt, alpha=alpha)\n",
    "                    if abs(Vh_fin[i] - V[i]) > 3:\n",
    "                        print('ERROR')\n",
    "                        print('FINAL LBDA = {}'.format(res))\n",
    "                        print(i, Vh_fin[i], V[i])\n",
    "                    # Append\n",
    "                    LBDAS.append(res)\n",
    "                    IS.append(i)\n",
    "                plt.scatter(rs[IS] / 1000, LBDAS, c='tab:blue')\n",
    "                \n",
    "                # Determine lambda - fine\n",
    "                LBDAS = []\n",
    "                IS    = []\n",
    "                for i in tqdm(rs[::100][:10]):\n",
    "                    i     = int(i / 10)\n",
    "                    \n",
    "                    losses = []\n",
    "                    for l in lbda_candidates:\n",
    "                        lss = local_loss(l, i, Vh_ini, Vh_fin, dt, alpha)\n",
    "                        losses.append(lss)\n",
    "                    res = lbda_candidates[np.nanargmin(losses)]\n",
    "                    \n",
    "                    V     = propagate(rs, res, Vh_ini, fcor_ini, dt=dt, alpha=alpha)\n",
    "                    if abs(Vh_fin[i] - V[i]) > 3:\n",
    "                        print('ERROR')\n",
    "                        print('FINAL LBDA = {}'.format(res))\n",
    "                        print(i, Vh_fin[i], V[i])\n",
    "                    # Append\n",
    "                    LBDAS.append(res)\n",
    "                    IS.append(i)\n",
    "                plt.scatter(rs[IS] / 1000, LBDAS, c='tab:blue')\n",
    "                \n",
    "                # Plot lambda\n",
    "                plt.plot(rs / 1000, 0.06 * Rp_ini ** 2 / (rs ** 2), c='r', label='0.06 * R+^2 / r^2')\n",
    "                plt.plot(rs / 1000, 0.2 * (Rp_ini / rs) ** 1, c='g', label='0.2 * R+ / r')\n",
    "                plt.plot(rs / 1000, 0.02 * (Rp_ini ** 2 * Vp_ini / (rs ** 2 * Vh_ini)), c='gray', label='0.02 * R+^2 * V+ / (r^2 * v)')\n",
    "                plt.xlim(-1, 100)\n",
    "                plt.ylim(0, 2)\n",
    "                plt.grid();plt.legend()\n",
    "                if PRMS['sav_fgs']:\n",
    "                    plt.savefig(PTHS['sav_dir'] + '{}_idx_ini{}_idx_fin{}_lambdas'.format(tc_id.item(), idx_ini, idx_fin))\n",
    "                plt.clf()"
   ]
  },
  {
   "cell_type": "code",
   "execution_count": null,
   "metadata": {},
   "outputs": [],
   "source": []
  },
  {
   "cell_type": "code",
   "execution_count": null,
   "metadata": {},
   "outputs": [],
   "source": []
  },
  {
   "cell_type": "markdown",
   "metadata": {},
   "source": [
    "### Alpha = 10"
   ]
  },
  {
   "cell_type": "code",
   "execution_count": 92,
   "metadata": {},
   "outputs": [
    {
     "data": {
      "application/vnd.jupyter.widget-view+json": {
       "model_id": "176420faa062464d9bf5ce9a03c04853",
       "version_major": 2,
       "version_minor": 0
      },
      "text/plain": [
       "  0%|          | 0/39 [00:00<?, ?it/s]"
      ]
     },
     "metadata": {},
     "output_type": "display_data"
    },
    {
     "data": {
      "application/vnd.jupyter.widget-view+json": {
       "model_id": "74a5cac7ddef4c28b1a141f9b05bcfb5",
       "version_major": 2,
       "version_minor": 0
      },
      "text/plain": [
       "  0%|          | 0/10 [00:00<?, ?it/s]"
      ]
     },
     "metadata": {},
     "output_type": "display_data"
    },
    {
     "name": "stdout",
     "output_type": "stream",
     "text": [
      "ERROR\n",
      "FINAL LBDA = 1.1275862068965519\n",
      "5000 42.733730670513545 50.86213537316429\n",
      "ERROR\n",
      "FINAL LBDA = 1.1275862068965519\n",
      "6000 46.191267762432524 42.73341256227337\n",
      "ERROR\n",
      "FINAL LBDA = 1.1275862068965519\n",
      "7000 45.71934362230723 36.75009195962985\n",
      "ERROR\n",
      "FINAL LBDA = 1.1275862068965519\n",
      "8000 43.56184128999603 32.17534613161303\n",
      "ERROR\n",
      "FINAL LBDA = 0.6137931034482759\n",
      "9000 40.834336144180945 50.49676843814559\n",
      "ERROR\n",
      "FINAL LBDA = 0.6137931034482759\n",
      "10000 38.03768583847293 45.499098481840626\n"
     ]
    },
    {
     "data": {
      "application/vnd.jupyter.widget-view+json": {
       "model_id": "df82c2484e3c4086afbf086020dd2489",
       "version_major": 2,
       "version_minor": 0
      },
      "text/plain": [
       "  0%|          | 0/10 [00:00<?, ?it/s]"
      ]
     },
     "metadata": {},
     "output_type": "display_data"
    },
    {
     "data": {
      "application/vnd.jupyter.widget-view+json": {
       "model_id": "1db51a6c1bfa430988881cdcbadcc032",
       "version_major": 2,
       "version_minor": 0
      },
      "text/plain": [
       "  0%|          | 0/10 [00:00<?, ?it/s]"
      ]
     },
     "metadata": {},
     "output_type": "display_data"
    },
    {
     "name": "stdout",
     "output_type": "stream",
     "text": [
      "ERROR\n",
      "FINAL LBDA = 1.6413793103448278\n",
      "6000 37.924496927499305 42.44107899823981\n",
      "ERROR\n",
      "FINAL LBDA = 1.6413793103448278\n",
      "8000 37.22843029253929 32.30220389020731\n",
      "ERROR\n",
      "FINAL LBDA = 1.1275862068965519\n",
      "9000 35.56601259231838 42.34506648810088\n",
      "ERROR\n",
      "FINAL LBDA = 1.1275862068965519\n",
      "10000 33.68263071132725 38.11658205228998\n"
     ]
    },
    {
     "data": {
      "application/vnd.jupyter.widget-view+json": {
       "model_id": "56f8f88da16c4b688d52ce871155160e",
       "version_major": 2,
       "version_minor": 0
      },
      "text/plain": [
       "  0%|          | 0/10 [00:00<?, ?it/s]"
      ]
     },
     "metadata": {},
     "output_type": "display_data"
    },
    {
     "data": {
      "application/vnd.jupyter.widget-view+json": {
       "model_id": "edca1e65530a4d4cb3af65e56bf878a0",
       "version_major": 2,
       "version_minor": 0
      },
      "text/plain": [
       "  0%|          | 0/10 [00:00<?, ?it/s]"
      ]
     },
     "metadata": {},
     "output_type": "display_data"
    },
    {
     "name": "stdout",
     "output_type": "stream",
     "text": [
      "ERROR\n",
      "FINAL LBDA = 1.1275862068965519\n",
      "2000 57.0778250356448 68.34564392869291\n",
      "ERROR\n",
      "FINAL LBDA = 1.1275862068965519\n",
      "3000 61.60867192818028 47.15922105895005\n",
      "ERROR\n",
      "FINAL LBDA = 0.6137931034482759\n",
      "4000 54.07235374336616 61.00098291530853\n"
     ]
    },
    {
     "data": {
      "application/vnd.jupyter.widget-view+json": {
       "model_id": "43f0db1e994542789f8593256d57fa06",
       "version_major": 2,
       "version_minor": 0
      },
      "text/plain": [
       "  0%|          | 0/10 [00:00<?, ?it/s]"
      ]
     },
     "metadata": {},
     "output_type": "display_data"
    },
    {
     "data": {
      "application/vnd.jupyter.widget-view+json": {
       "model_id": "6079b33c806d43a1b4f99682677b827f",
       "version_major": 2,
       "version_minor": 0
      },
      "text/plain": [
       "  0%|          | 0/10 [00:00<?, ?it/s]"
      ]
     },
     "metadata": {},
     "output_type": "display_data"
    },
    {
     "name": "stdout",
     "output_type": "stream",
     "text": [
      "ERROR\n",
      "FINAL LBDA = 1.1275862068965519\n",
      "2000 49.55376887261109 36.77034480202663\n",
      "ERROR\n",
      "FINAL LBDA = 0.6137931034482759\n",
      "3000 38.21356191677074 46.70578795050286\n",
      "ERROR\n",
      "FINAL LBDA = 0.6137931034482759\n",
      "4000 30.72111622372971 35.19849059282682\n"
     ]
    },
    {
     "data": {
      "application/vnd.jupyter.widget-view+json": {
       "model_id": "ea9cd590fdd149bc9bd5889e3eed2cec",
       "version_major": 2,
       "version_minor": 0
      },
      "text/plain": [
       "  0%|          | 0/10 [00:00<?, ?it/s]"
      ]
     },
     "metadata": {},
     "output_type": "display_data"
    },
    {
     "name": "stdout",
     "output_type": "stream",
     "text": [
      "ERROR\n",
      "FINAL LBDA = 2.6689655172413795\n",
      "801 26.658829596037936 22.801759922152723\n",
      "ERROR\n",
      "FINAL LBDA = 2.1551724137931036\n",
      "901 34.81836460126533 29.14237784587668\n"
     ]
    },
    {
     "data": {
      "application/vnd.jupyter.widget-view+json": {
       "model_id": "174113f0d84940bba34918f2b69d9911",
       "version_major": 2,
       "version_minor": 0
      },
      "text/plain": [
       "  0%|          | 0/10 [00:00<?, ?it/s]"
      ]
     },
     "metadata": {},
     "output_type": "display_data"
    },
    {
     "name": "stdout",
     "output_type": "stream",
     "text": [
      "ERROR\n",
      "FINAL LBDA = 1.6413793103448278\n",
      "1000 41.65488498356725 38.5705646686472\n",
      "ERROR\n",
      "FINAL LBDA = 0.6137931034482759\n",
      "2000 49.55376887261109 63.39516226731049\n",
      "ERROR\n",
      "FINAL LBDA = 0.6137931034482759\n",
      "3000 38.21356191677074 42.82013596960468\n"
     ]
    },
    {
     "data": {
      "application/vnd.jupyter.widget-view+json": {
       "model_id": "c62a57e2875840b3bf831212ff694eea",
       "version_major": 2,
       "version_minor": 0
      },
      "text/plain": [
       "  0%|          | 0/10 [00:00<?, ?it/s]"
      ]
     },
     "metadata": {},
     "output_type": "display_data"
    },
    {
     "name": "stdout",
     "output_type": "stream",
     "text": [
      "ERROR\n",
      "FINAL LBDA = 2.1551724137931036\n",
      "801 26.658829596037936 30.629809798514334\n",
      "ERROR\n",
      "FINAL LBDA = 2.1551724137931036\n",
      "901 34.81836460126533 27.80317454730105\n"
     ]
    },
    {
     "data": {
      "application/vnd.jupyter.widget-view+json": {
       "model_id": "a31d3ae5fe7d4cc3acb0396e5e93596f",
       "version_major": 2,
       "version_minor": 0
      },
      "text/plain": [
       "  0%|          | 0/10 [00:00<?, ?it/s]"
      ]
     },
     "metadata": {},
     "output_type": "display_data"
    },
    {
     "name": "stdout",
     "output_type": "stream",
     "text": [
      "ERROR\n",
      "FINAL LBDA = 1.6413793103448278\n",
      "1000 34.09466204441958 39.67136035250441\n",
      "ERROR\n",
      "FINAL LBDA = 1.1275862068965519\n",
      "3000 30.362156138703575 24.103050140073687\n",
      "ERROR\n",
      "FINAL LBDA = 1.1275862068965519\n",
      "4000 25.697208379860918 18.172056775950693\n",
      "ERROR\n",
      "FINAL LBDA = 0.6137931034482759\n",
      "5000 22.338541583895125 27.427472813646666\n",
      "ERROR\n",
      "FINAL LBDA = 0.6137931034482759\n",
      "6000 19.842185164736733 22.927562974631634\n"
     ]
    },
    {
     "data": {
      "application/vnd.jupyter.widget-view+json": {
       "model_id": "b2cbab405d474e52ad5f58dccbabc003",
       "version_major": 2,
       "version_minor": 0
      },
      "text/plain": [
       "  0%|          | 0/10 [00:00<?, ?it/s]"
      ]
     },
     "metadata": {},
     "output_type": "display_data"
    },
    {
     "name": "stdout",
     "output_type": "stream",
     "text": [
      "ERROR\n",
      "FINAL LBDA = 2.6689655172413795\n",
      "801 27.194707851854773 23.104528407651905\n"
     ]
    },
    {
     "data": {
      "application/vnd.jupyter.widget-view+json": {
       "model_id": "85d2c6ce52ab4d9bbc20032646922fd8",
       "version_major": 2,
       "version_minor": 0
      },
      "text/plain": [
       "  0%|          | 0/10 [00:00<?, ?it/s]"
      ]
     },
     "metadata": {},
     "output_type": "display_data"
    },
    {
     "name": "stdout",
     "output_type": "stream",
     "text": [
      "ERROR\n",
      "FINAL LBDA = 1.1275862068965519\n",
      "2000 50.19119497260606 45.81750591630713\n",
      "ERROR\n",
      "FINAL LBDA = 1.1275862068965519\n",
      "3000 42.18906178377221 31.336290058764803\n",
      "ERROR\n",
      "FINAL LBDA = 0.6137931034482759\n",
      "4000 34.586790244765716 44.719663856440356\n",
      "ERROR\n",
      "FINAL LBDA = 0.6137931034482759\n",
      "5000 29.324460265268737 35.86876513773797\n",
      "ERROR\n",
      "FINAL LBDA = 0.6137931034482759\n",
      "6000 25.646834325590525 29.975857180132707\n"
     ]
    },
    {
     "data": {
      "application/vnd.jupyter.widget-view+json": {
       "model_id": "b87cc0168d6c4c20a68ed190e9604f5b",
       "version_major": 2,
       "version_minor": 0
      },
      "text/plain": [
       "  0%|          | 0/10 [00:00<?, ?it/s]"
      ]
     },
     "metadata": {},
     "output_type": "display_data"
    },
    {
     "data": {
      "application/vnd.jupyter.widget-view+json": {
       "model_id": "3e4667bc31324beca1855d0392334ef9",
       "version_major": 2,
       "version_minor": 0
      },
      "text/plain": [
       "  0%|          | 0/10 [00:00<?, ?it/s]"
      ]
     },
     "metadata": {},
     "output_type": "display_data"
    },
    {
     "name": "stdout",
     "output_type": "stream",
     "text": [
      "ERROR\n",
      "FINAL LBDA = 2.6689655172413795\n",
      "1000 28.817120832656713 25.133646913571692\n",
      "ERROR\n",
      "FINAL LBDA = 1.1275862068965519\n",
      "3000 41.478727750712174 32.68882108187458\n",
      "ERROR\n",
      "FINAL LBDA = 0.6137931034482759\n",
      "4000 34.822735650080226 41.82048402562135\n",
      "ERROR\n",
      "FINAL LBDA = 0.6137931034482759\n",
      "5000 29.864526922723915 33.577569364751064\n"
     ]
    },
    {
     "data": {
      "application/vnd.jupyter.widget-view+json": {
       "model_id": "cf1a5984340b4d2293aead6fdd8794f1",
       "version_major": 2,
       "version_minor": 0
      },
      "text/plain": [
       "  0%|          | 0/10 [00:00<?, ?it/s]"
      ]
     },
     "metadata": {},
     "output_type": "display_data"
    },
    {
     "name": "stdout",
     "output_type": "stream",
     "text": [
      "ERROR\n",
      "FINAL LBDA = 3.1827586206896554\n",
      "901 23.025997708600272 19.987903782946237\n"
     ]
    },
    {
     "data": {
      "application/vnd.jupyter.widget-view+json": {
       "model_id": "8b0f2f1561c643d5a182c48bed587ad1",
       "version_major": 2,
       "version_minor": 0
      },
      "text/plain": [
       "  0%|          | 0/10 [00:00<?, ?it/s]"
      ]
     },
     "metadata": {},
     "output_type": "display_data"
    },
    {
     "name": "stdout",
     "output_type": "stream",
     "text": [
      "ERROR\n",
      "FINAL LBDA = 1.1275862068965519\n",
      "3000 48.2083295171739 37.86777639648422\n",
      "ERROR\n",
      "FINAL LBDA = 1.1275862068965519\n",
      "4000 40.428456693630324 28.767298876866338\n",
      "ERROR\n",
      "FINAL LBDA = 0.6137931034482759\n",
      "5000 34.477969096936775 42.88652681968844\n",
      "ERROR\n",
      "FINAL LBDA = 0.6137931034482759\n",
      "6000 30.036440262287964 35.84737175513603\n",
      "ERROR\n",
      "FINAL LBDA = 0.6137931034482759\n",
      "7000 26.64706515398859 30.835346278652505\n",
      "ERROR\n",
      "FINAL LBDA = 0.6137931034482759\n",
      "8000 23.988160160384464 27.09015567403141\n"
     ]
    },
    {
     "data": {
      "application/vnd.jupyter.widget-view+json": {
       "model_id": "99e0d4199b43484fafa704867b3cd3e8",
       "version_major": 2,
       "version_minor": 0
      },
      "text/plain": [
       "  0%|          | 0/10 [00:00<?, ?it/s]"
      ]
     },
     "metadata": {},
     "output_type": "display_data"
    },
    {
     "data": {
      "application/vnd.jupyter.widget-view+json": {
       "model_id": "7852f23dfcb14d32952c10d25e663f8b",
       "version_major": 2,
       "version_minor": 0
      },
      "text/plain": [
       "  0%|          | 0/10 [00:00<?, ?it/s]"
      ]
     },
     "metadata": {},
     "output_type": "display_data"
    },
    {
     "name": "stdout",
     "output_type": "stream",
     "text": [
      "ERROR\n",
      "FINAL LBDA = 1.6413793103448278\n",
      "4000 27.14234204442124 22.689534689516844\n",
      "ERROR\n",
      "FINAL LBDA = 1.1275862068965519\n",
      "5000 24.693746346031634 28.88975810737575\n",
      "ERROR\n",
      "FINAL LBDA = 1.1275862068965519\n",
      "10000 17.93172340283351 14.612441014680234\n"
     ]
    },
    {
     "data": {
      "application/vnd.jupyter.widget-view+json": {
       "model_id": "7f94535f86a44e51877fcf74d4178ddb",
       "version_major": 2,
       "version_minor": 0
      },
      "text/plain": [
       "  0%|          | 0/10 [00:00<?, ?it/s]"
      ]
     },
     "metadata": {},
     "output_type": "display_data"
    },
    {
     "data": {
      "application/vnd.jupyter.widget-view+json": {
       "model_id": "1cde0095e3a443e0b7290c7d914c951e",
       "version_major": 2,
       "version_minor": 0
      },
      "text/plain": [
       "  0%|          | 0/10 [00:00<?, ?it/s]"
      ]
     },
     "metadata": {},
     "output_type": "display_data"
    },
    {
     "name": "stdout",
     "output_type": "stream",
     "text": [
      "ERROR\n",
      "FINAL LBDA = 1.6413793103448278\n",
      "2000 36.56314297345139 40.70685496478069\n",
      "ERROR\n",
      "FINAL LBDA = 1.1275862068965519\n",
      "3000 38.5694060285854 46.349618280283806\n",
      "ERROR\n",
      "FINAL LBDA = 1.1275862068965519\n",
      "5000 33.03032099214414 28.417460763194757\n",
      "ERROR\n",
      "FINAL LBDA = 1.1275862068965519\n",
      "6000 30.272858993162593 23.722033230867\n",
      "ERROR\n",
      "FINAL LBDA = 1.1275862068965519\n",
      "7000 27.90282498542202 20.37078688667693\n",
      "ERROR\n",
      "FINAL LBDA = 0.6137931034482759\n",
      "8000 25.88387080993358 32.99581754052513\n",
      "ERROR\n",
      "FINAL LBDA = 0.6137931034482759\n",
      "9000 24.155962990657912 29.427008191680823\n",
      "ERROR\n",
      "FINAL LBDA = 0.6137931034482759\n",
      "10000 22.66439449743793 26.581688945234436\n"
     ]
    },
    {
     "data": {
      "application/vnd.jupyter.widget-view+json": {
       "model_id": "0c0888165dd5499f9d620dc48fa5facc",
       "version_major": 2,
       "version_minor": 0
      },
      "text/plain": [
       "  0%|          | 0/10 [00:00<?, ?it/s]"
      ]
     },
     "metadata": {},
     "output_type": "display_data"
    },
    {
     "data": {
      "application/vnd.jupyter.widget-view+json": {
       "model_id": "69085cc2e4b842fc8a903bc53759e83e",
       "version_major": 2,
       "version_minor": 0
      },
      "text/plain": [
       "  0%|          | 0/10 [00:00<?, ?it/s]"
      ]
     },
     "metadata": {},
     "output_type": "display_data"
    },
    {
     "name": "stdout",
     "output_type": "stream",
     "text": [
      "ERROR\n",
      "FINAL LBDA = 2.1551724137931036\n",
      "3000 38.96272052102802 33.180763539866874\n",
      "ERROR\n",
      "FINAL LBDA = 1.6413793103448278\n",
      "5000 36.43894045895904 30.04363477235111\n",
      "ERROR\n",
      "FINAL LBDA = 1.1275862068965519\n",
      "6000 33.49890548724898 38.19955824680056\n"
     ]
    },
    {
     "data": {
      "application/vnd.jupyter.widget-view+json": {
       "model_id": "c6663ef05e1d42c6b2e738af504b6486",
       "version_major": 2,
       "version_minor": 0
      },
      "text/plain": [
       "  0%|          | 0/10 [00:00<?, ?it/s]"
      ]
     },
     "metadata": {},
     "output_type": "display_data"
    },
    {
     "data": {
      "application/vnd.jupyter.widget-view+json": {
       "model_id": "dc061bd1833b414ba553fbdb9488febf",
       "version_major": 2,
       "version_minor": 0
      },
      "text/plain": [
       "  0%|          | 0/10 [00:00<?, ?it/s]"
      ]
     },
     "metadata": {},
     "output_type": "display_data"
    },
    {
     "name": "stdout",
     "output_type": "stream",
     "text": [
      "ERROR\n",
      "FINAL LBDA = 1.6413793103448278\n",
      "4000 33.74402622374575 37.91332555023312\n",
      "ERROR\n",
      "FINAL LBDA = 1.6413793103448278\n",
      "5000 38.03986391973655 30.973133636708862\n",
      "ERROR\n",
      "FINAL LBDA = 1.1275862068965519\n",
      "8000 34.97296507760964 30.491417743854104\n",
      "ERROR\n",
      "FINAL LBDA = 1.1275862068965519\n",
      "9000 32.9657510785178 27.132720974734866\n",
      "ERROR\n",
      "FINAL LBDA = 1.1275862068965519\n",
      "10000 31.072067285891137 24.448685764909314\n"
     ]
    },
    {
     "data": {
      "application/vnd.jupyter.widget-view+json": {
       "model_id": "50a56768f4424a17955753310df68a35",
       "version_major": 2,
       "version_minor": 0
      },
      "text/plain": [
       "  0%|          | 0/10 [00:00<?, ?it/s]"
      ]
     },
     "metadata": {},
     "output_type": "display_data"
    },
    {
     "data": {
      "application/vnd.jupyter.widget-view+json": {
       "model_id": "2ed997864a4e4947bcd4144c7f65dbbf",
       "version_major": 2,
       "version_minor": 0
      },
      "text/plain": [
       "  0%|          | 0/10 [00:00<?, ?it/s]"
      ]
     },
     "metadata": {},
     "output_type": "display_data"
    },
    {
     "name": "stdout",
     "output_type": "stream",
     "text": [
      "ERROR\n",
      "FINAL LBDA = 1.6413793103448278\n",
      "4000 41.85195308320356 46.10699612110162\n",
      "ERROR\n",
      "FINAL LBDA = 1.6413793103448278\n",
      "5000 44.21989464796439 37.74778673980167\n",
      "ERROR\n",
      "FINAL LBDA = 1.1275862068965519\n",
      "6000 42.62512677340857 49.92747978012838\n",
      "ERROR\n",
      "FINAL LBDA = 1.1275862068965519\n",
      "7000 39.870626849119496 43.083782110441106\n"
     ]
    },
    {
     "data": {
      "application/vnd.jupyter.widget-view+json": {
       "model_id": "a39ea78667d041d4ad3928e50440723e",
       "version_major": 2,
       "version_minor": 0
      },
      "text/plain": [
       "  0%|          | 0/10 [00:00<?, ?it/s]"
      ]
     },
     "metadata": {},
     "output_type": "display_data"
    },
    {
     "data": {
      "application/vnd.jupyter.widget-view+json": {
       "model_id": "486b952369854d23a5d047bb1fb0cb62",
       "version_major": 2,
       "version_minor": 0
      },
      "text/plain": [
       "  0%|          | 0/10 [00:00<?, ?it/s]"
      ]
     },
     "metadata": {},
     "output_type": "display_data"
    },
    {
     "name": "stdout",
     "output_type": "stream",
     "text": [
      "ERROR\n",
      "FINAL LBDA = 1.6413793103448278\n",
      "8000 27.827332740454448 22.869923690525894\n",
      "ERROR\n",
      "FINAL LBDA = 1.1275862068965519\n",
      "9000 26.913333884531756 30.192196181935593\n"
     ]
    },
    {
     "data": {
      "application/vnd.jupyter.widget-view+json": {
       "model_id": "56fb6688712d40aeba7f6b0fb5c40788",
       "version_major": 2,
       "version_minor": 0
      },
      "text/plain": [
       "  0%|          | 0/10 [00:00<?, ?it/s]"
      ]
     },
     "metadata": {},
     "output_type": "display_data"
    },
    {
     "data": {
      "application/vnd.jupyter.widget-view+json": {
       "model_id": "7cd232d05c1a4f2e8272632b3da1ca21",
       "version_major": 2,
       "version_minor": 0
      },
      "text/plain": [
       "  0%|          | 0/10 [00:00<?, ?it/s]"
      ]
     },
     "metadata": {},
     "output_type": "display_data"
    },
    {
     "name": "stdout",
     "output_type": "stream",
     "text": [
      "ERROR\n",
      "FINAL LBDA = 1.1275862068965519\n",
      "2000 49.922372687002856 57.86990039390866\n",
      "ERROR\n",
      "FINAL LBDA = 1.1275862068965519\n",
      "3000 43.49615184645914 39.600326025160356\n",
      "ERROR\n",
      "FINAL LBDA = 1.1275862068965519\n",
      "4000 36.78129264609789 30.102725558587583\n",
      "ERROR\n",
      "FINAL LBDA = 1.1275862068965519\n",
      "5000 31.772831105857172 24.207699222539166\n",
      "ERROR\n",
      "FINAL LBDA = 0.6137931034482759\n",
      "6000 28.076710317955243 34.394585304790375\n",
      "ERROR\n",
      "FINAL LBDA = 0.6137931034482759\n",
      "7000 25.27451703996043 29.58002233764288\n"
     ]
    },
    {
     "data": {
      "application/vnd.jupyter.widget-view+json": {
       "model_id": "aab3aca8cfa649d2b806b4651b16cdf5",
       "version_major": 2,
       "version_minor": 0
      },
      "text/plain": [
       "  0%|          | 0/10 [00:00<?, ?it/s]"
      ]
     },
     "metadata": {},
     "output_type": "display_data"
    },
    {
     "data": {
      "application/vnd.jupyter.widget-view+json": {
       "model_id": "7e6637e896c4443ea2692ae1011bf4ca",
       "version_major": 2,
       "version_minor": 0
      },
      "text/plain": [
       "  0%|          | 0/10 [00:00<?, ?it/s]"
      ]
     },
     "metadata": {},
     "output_type": "display_data"
    },
    {
     "name": "stdout",
     "output_type": "stream",
     "text": [
      "ERROR\n",
      "FINAL LBDA = 1.6413793103448278\n",
      "7000 36.07149638272345 40.166813026461334\n",
      "ERROR\n",
      "FINAL LBDA = 1.6413793103448278\n",
      "9000 36.2841071358885 31.48223054758412\n",
      "ERROR\n",
      "FINAL LBDA = 1.1275862068965519\n",
      "10000 35.03674646254078 41.34063502853193\n"
     ]
    },
    {
     "data": {
      "application/vnd.jupyter.widget-view+json": {
       "model_id": "d74ba39f2a594732aaeeb5217f649113",
       "version_major": 2,
       "version_minor": 0
      },
      "text/plain": [
       "  0%|          | 0/10 [00:00<?, ?it/s]"
      ]
     },
     "metadata": {},
     "output_type": "display_data"
    },
    {
     "data": {
      "application/vnd.jupyter.widget-view+json": {
       "model_id": "767eae6a67614ee5938562f4b746cf30",
       "version_major": 2,
       "version_minor": 0
      },
      "text/plain": [
       "  0%|          | 0/10 [00:00<?, ?it/s]"
      ]
     },
     "metadata": {},
     "output_type": "display_data"
    },
    {
     "name": "stdout",
     "output_type": "stream",
     "text": [
      "ERROR\n",
      "FINAL LBDA = 2.1551724137931036\n",
      "8000 32.068115944807595 28.601247269033895\n",
      "ERROR\n",
      "FINAL LBDA = 1.6413793103448278\n",
      "9000 30.268500201456437 33.82930285049567\n"
     ]
    },
    {
     "data": {
      "application/vnd.jupyter.widget-view+json": {
       "model_id": "452cb254d5b2456085aa6b3dbe28363b",
       "version_major": 2,
       "version_minor": 0
      },
      "text/plain": [
       "  0%|          | 0/10 [00:00<?, ?it/s]"
      ]
     },
     "metadata": {},
     "output_type": "display_data"
    },
    {
     "data": {
      "application/vnd.jupyter.widget-view+json": {
       "model_id": "ad21687f181740fbaaa83abd01c916fc",
       "version_major": 2,
       "version_minor": 0
      },
      "text/plain": [
       "  0%|          | 0/10 [00:00<?, ?it/s]"
      ]
     },
     "metadata": {},
     "output_type": "display_data"
    },
    {
     "name": "stdout",
     "output_type": "stream",
     "text": [
      "ERROR\n",
      "FINAL LBDA = 1.1275862068965519\n",
      "3000 44.264557613355386 51.51686637959099\n",
      "ERROR\n",
      "FINAL LBDA = 1.1275862068965519\n",
      "10000 19.06250530658198 16.00017174212737\n"
     ]
    },
    {
     "data": {
      "application/vnd.jupyter.widget-view+json": {
       "model_id": "c968aea0a73843488cb6b72acb3d14b5",
       "version_major": 2,
       "version_minor": 0
      },
      "text/plain": [
       "  0%|          | 0/10 [00:00<?, ?it/s]"
      ]
     },
     "metadata": {},
     "output_type": "display_data"
    },
    {
     "data": {
      "application/vnd.jupyter.widget-view+json": {
       "model_id": "70c47d2c7d184ae0bb21f4ef7d7fefef",
       "version_major": 2,
       "version_minor": 0
      },
      "text/plain": [
       "  0%|          | 0/10 [00:00<?, ?it/s]"
      ]
     },
     "metadata": {},
     "output_type": "display_data"
    },
    {
     "name": "stdout",
     "output_type": "stream",
     "text": [
      "ERROR\n",
      "FINAL LBDA = 1.6413793103448278\n",
      "5000 31.37129325861244 25.541993424155194\n",
      "ERROR\n",
      "FINAL LBDA = 1.1275862068965519\n",
      "8000 28.090786020473633 24.176728951135928\n",
      "ERROR\n",
      "FINAL LBDA = 1.1275862068965519\n",
      "9000 26.919972287754053 21.498777639382375\n",
      "ERROR\n",
      "FINAL LBDA = 1.1275862068965519\n",
      "10000 25.805463541460536 19.35719699532234\n"
     ]
    },
    {
     "data": {
      "application/vnd.jupyter.widget-view+json": {
       "model_id": "849f65d4561e4f73843f0dfd95fcf642",
       "version_major": 2,
       "version_minor": 0
      },
      "text/plain": [
       "  0%|          | 0/10 [00:00<?, ?it/s]"
      ]
     },
     "metadata": {},
     "output_type": "display_data"
    },
    {
     "ename": "AttributeError",
     "evalue": "'str' object has no attribute 'item'",
     "output_type": "error",
     "traceback": [
      "\u001b[0;31m---------------------------------------------------------------------------\u001b[0m",
      "\u001b[0;31mAttributeError\u001b[0m                            Traceback (most recent call last)",
      "Cell \u001b[0;32mIn [92], line 39\u001b[0m\n\u001b[1;32m     37\u001b[0m plt\u001b[38;5;241m.\u001b[39mgrid();plt\u001b[38;5;241m.\u001b[39mlegend()\n\u001b[1;32m     38\u001b[0m \u001b[38;5;28;01mif\u001b[39;00m PRMS[\u001b[38;5;124m'\u001b[39m\u001b[38;5;124msav_fgs\u001b[39m\u001b[38;5;124m'\u001b[39m]:\n\u001b[0;32m---> 39\u001b[0m     plt\u001b[38;5;241m.\u001b[39msavefig(PTHS[\u001b[38;5;124m'\u001b[39m\u001b[38;5;124msav_dir\u001b[39m\u001b[38;5;124m'\u001b[39m] \u001b[38;5;241m+\u001b[39m \u001b[38;5;124m'\u001b[39m\u001b[38;5;132;01m{}\u001b[39;00m\u001b[38;5;124m_idx_ini\u001b[39m\u001b[38;5;132;01m{}\u001b[39;00m\u001b[38;5;124m_idx_fin\u001b[39m\u001b[38;5;132;01m{}\u001b[39;00m\u001b[38;5;124m_profiles\u001b[39m\u001b[38;5;124m'\u001b[39m\u001b[38;5;241m.\u001b[39mformat(\u001b[43mtc_id\u001b[49m\u001b[38;5;241;43m.\u001b[39;49m\u001b[43mitem\u001b[49m(), idx_ini, idx_fin))\n\u001b[1;32m     40\u001b[0m plt\u001b[38;5;241m.\u001b[39mclf()\n\u001b[1;32m     42\u001b[0m \u001b[38;5;66;03m# Determine lambda - coarse\u001b[39;00m\n",
      "\u001b[0;31mAttributeError\u001b[0m: 'str' object has no attribute 'item'"
     ]
    },
    {
     "data": {
      "image/png": "[encoded data removed]",
      "text/plain": [
       "<Figure size 1500x1000 with 1 Axes>"
      ]
     },
     "metadata": {},
     "output_type": "display_data"
    }
   ],
   "source": [
    "# Parameters\n",
    "time_thresh     = 20\n",
    "lbda0           = 0.7\n",
    "alpha           = 10\n",
    "lbda_candidates = np.linspace(0.1, 15, 30)\n",
    "\n",
    "# Iterate\n",
    "for tc_id in tqdm(valid_ids):\n",
    "    # Iterate other all SAR acquisitions of the TC, 2 by 2\n",
    "    dsi        = dsg.where(dsg.storm_id == tc_id, drop=True).sortby('time')\n",
    "    for idx_ini in range(len(dsi.time) - 1):\n",
    "        for idx_fin in range(idx_ini + 1, len(dsi.time)):\n",
    "            # print(idx_ini, idx_fin)\n",
    "            ds_ini     = dsi.isel(time=idx_ini)\n",
    "            ds_fin     = dsi.isel(time=idx_fin)   \n",
    "            delta_h    = float((ds_fin.time - ds_ini.time) / np.timedelta64(1, 'h'))\n",
    "            # Compute VK10 if delta_h is less than threshold\n",
    "            if (delta_h <= time_thresh) & (delta_h > 1):\n",
    "                V_ini      = ds_ini.wind_speed.mean(dim='theta', skipna=True).interp(coords={'rad': rs})\n",
    "                V_fin      = ds_fin.wind_speed.mean(dim='theta', skipna=True).interp(coords={'rad': rs})\n",
    "                Vh_ini     = holland_profile(rs, float(abs(ds_ini.lat_center)), float(ds_ini.pn_hol), float(ds_ini.pc_hol), float(ds_ini.Vmin_hol), float(ds_ini.Rmax_hol), float(ds_ini.Vmax_hol))\n",
    "                Vh_fin     = holland_profile(rs, float(abs(ds_fin.lat_center)), float(ds_fin.pn_hol), float(ds_fin.pc_hol), float(ds_fin.Vmin_hol), float(ds_fin.Rmax_hol), float(ds_fin.Vmax_hol))\n",
    "                fcor_ini   = float(abs(coriolis(ds_ini.lat_center)))\n",
    "                fcor_fin   = float(abs(coriolis(ds_fin.lat_center)))\n",
    "                \n",
    "                # Compute R+ metrics\n",
    "                Rp_ini, Vp_ini   = compute_RV_plus(rs, Vh_ini, float(abs(coriolis(ds_ini.lat_center))), PRMS['n'])\n",
    "                \n",
    "                # dt\n",
    "                tau      = ((1 / fcor_ini) / 3600)\n",
    "                dt       = delta_h / tau\n",
    "                \n",
    "                # Plot profiles\n",
    "                plt.plot(rs / 1000, Vh_ini, c='k', label='SAR ini', linewidth=3)\n",
    "                plt.plot(rs / 1000, Vh_fin, c='orangered', label='SAR fin', linewidth=3)\n",
    "                plt.xlim(0, 300)\n",
    "                plt.grid();plt.legend()\n",
    "                if PRMS['sav_fgs']:\n",
    "                    plt.savefig(PTHS['sav_dir'] + '{}_idx_ini{}_idx_fin{}_profiles'.format(tc_id.item(), idx_ini, idx_fin))\n",
    "                plt.clf()\n",
    "                \n",
    "                # Determine lambda - coarse\n",
    "                LBDAS = []\n",
    "                IS    = []\n",
    "                for i in tqdm(rs[999::1000][:10]):\n",
    "                    i     = int(i / 10)\n",
    "                    \n",
    "                    losses = []\n",
    "                    for l in lbda_candidates:\n",
    "                        lss = local_loss(l, i, Vh_ini, Vh_fin, dt, alpha)\n",
    "                        losses.append(lss)\n",
    "                    res = lbda_candidates[np.nanargmin(losses)]\n",
    "                    \n",
    "                    V     = propagate(rs, res, Vh_ini, fcor_ini, dt=dt, alpha=alpha)\n",
    "                    if abs(Vh_fin[i] - V[i]) > 3:\n",
    "                        print('ERROR')\n",
    "                        print('FINAL LBDA = {}'.format(res))\n",
    "                        print(i, Vh_fin[i], V[i])\n",
    "                    # Append\n",
    "                    LBDAS.append(res)\n",
    "                    IS.append(i)\n",
    "                plt.scatter(rs[IS] / 1000, LBDAS, c='tab:blue')\n",
    "                \n",
    "                # Determine lambda - fine\n",
    "                LBDAS = []\n",
    "                IS    = []\n",
    "                for i in tqdm(rs[::100][:10]):\n",
    "                    i     = int(i / 10)\n",
    "                    \n",
    "                    losses = []\n",
    "                    for l in lbda_candidates:\n",
    "                        lss = local_loss(l, i, Vh_ini, Vh_fin, dt, alpha)\n",
    "                        losses.append(lss)\n",
    "                    res = lbda_candidates[np.nanargmin(losses)]\n",
    "                    \n",
    "                    V     = propagate(rs, res, Vh_ini, fcor_ini, dt=dt, alpha=alpha)\n",
    "                    if abs(Vh_fin[i] - V[i]) > 3:\n",
    "                        print('ERROR')\n",
    "                        print('FINAL LBDA = {}'.format(res))\n",
    "                        print(i, Vh_fin[i], V[i])\n",
    "                    # Append\n",
    "                    LBDAS.append(res)\n",
    "                    IS.append(i)\n",
    "                plt.scatter(rs[IS] / 1000, LBDAS, c='tab:blue')\n",
    "                \n",
    "                # Plot lambda\n",
    "                plt.plot(rs / 1000,  Rp_ini ** 2 / (rs ** 2), c='r', label='R+^2 / r^2')\n",
    "                plt.plot(rs / 1000,  3 * (Rp_ini / rs) ** 1, c='g', label='3 * R+ / r')\n",
    "                plt.plot(rs / 1000, (Rp_ini ** 2 * Vp_ini / (rs ** 2 * Vh_ini)), c='gray', label='R+^2 * V+ / (r^2 * v)')\n",
    "                plt.xlim(-1, 100)\n",
    "                plt.ylim(0, 15)\n",
    "                plt.grid();plt.legend()\n",
    "                if PRMS['sav_fgs']:\n",
    "                    plt.savefig(PTHS['sav_dir'] + '{}_idx_ini{}_idx_fin{}_lambdas'.format(tc_id.item(), idx_ini, idx_fin))\n",
    "                plt.clf()"
   ]
  },
  {
   "cell_type": "code",
   "execution_count": null,
   "metadata": {},
   "outputs": [],
   "source": []
  },
  {
   "cell_type": "code",
   "execution_count": null,
   "metadata": {},
   "outputs": [],
   "source": []
  },
  {
   "cell_type": "code",
   "execution_count": null,
   "metadata": {},
   "outputs": [],
   "source": []
  },
  {
   "cell_type": "code",
   "execution_count": null,
   "metadata": {},
   "outputs": [],
   "source": []
  },
  {
   "cell_type": "code",
   "execution_count": null,
   "metadata": {},
   "outputs": [],
   "source": []
  },
  {
   "cell_type": "code",
   "execution_count": null,
   "metadata": {},
   "outputs": [],
   "source": []
  },
  {
   "cell_type": "code",
   "execution_count": null,
   "metadata": {},
   "outputs": [],
   "source": []
  },
  {
   "cell_type": "code",
   "execution_count": 90,
   "metadata": {},
   "outputs": [
    {
     "data": {
      "text/plain": [
       "<matplotlib.legend.Legend at 0x7f4244a41190>"
      ]
     },
     "execution_count": 90,
     "metadata": {},
     "output_type": "execute_result"
    },
    {
     "data": {
      "image/png": "[encoded data removed]",
      "text/plain": [
       "<Figure size 1500x1000 with 1 Axes>"
      ]
     },
     "metadata": {},
     "output_type": "display_data"
    }
   ],
   "source": [
    "# Plot lambda\n",
    "plt.plot(rs / 1000,  Rp_ini ** 2 / (rs ** 2), c='r', label='R+^2 / r^2')\n",
    "plt.plot(rs / 1000,  3 * (Rp_ini / rs) ** 1, c='g', label='3 * R+ / r')\n",
    "plt.plot(rs / 1000, (Rp_ini ** 2 * Vp_ini / (rs ** 2 * Vh_ini)), c='gray', label='R+^2 * V+ / (r^2 * v)')\n",
    "plt.xlim(-1, 100)\n",
    "plt.ylim(0, 15)\n",
    "plt.grid();plt.legend()"
   ]
  },
  {
   "cell_type": "code",
   "execution_count": null,
   "metadata": {},
   "outputs": [],
   "source": []
  },
  {
   "cell_type": "code",
   "execution_count": null,
   "metadata": {},
   "outputs": [],
   "source": []
  },
  {
   "cell_type": "code",
   "execution_count": null,
   "metadata": {},
   "outputs": [],
   "source": []
  },
  {
   "cell_type": "code",
   "execution_count": 133,
   "metadata": {},
   "outputs": [],
   "source": []
  },
  {
   "cell_type": "code",
   "execution_count": null,
   "metadata": {},
   "outputs": [],
   "source": []
  },
  {
   "cell_type": "code",
   "execution_count": null,
   "metadata": {},
   "outputs": [],
   "source": []
  },
  {
   "cell_type": "code",
   "execution_count": null,
   "metadata": {},
   "outputs": [],
   "source": []
  },
  {
   "cell_type": "code",
   "execution_count": null,
   "metadata": {},
   "outputs": [],
   "source": []
  },
  {
   "cell_type": "code",
   "execution_count": null,
   "metadata": {},
   "outputs": [],
   "source": []
  },
  {
   "cell_type": "code",
   "execution_count": null,
   "metadata": {},
   "outputs": [],
   "source": []
  }
 ],
 "metadata": {
  "kernelspec": {
   "display_name": "paramProfiles",
   "language": "python",
   "name": "paramprofiles"
  },
  "language_info": {
   "codemirror_mode": {
    "name": "ipython",
    "version": 3
   },
   "file_extension": ".py",
   "mimetype": "text/x-python",
   "name": "python",
   "nbconvert_exporter": "python",
   "pygments_lexer": "ipython3",
   "version": "3.8.15"
  }
 },
 "nbformat": 4,
 "nbformat_minor": 4
}
