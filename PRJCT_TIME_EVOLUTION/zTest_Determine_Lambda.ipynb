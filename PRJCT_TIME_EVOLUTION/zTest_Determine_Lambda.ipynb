{
 "cells": [
  {
   "cell_type": "markdown",
   "metadata": {},
   "source": [
    "## Test: Determine Lambda empirically"
   ]
  },
  {
   "cell_type": "code",
   "execution_count": 1,
   "metadata": {},
   "outputs": [],
   "source": [
    "# General\n",
    "import glob\n",
    "import re\n",
    "import os.path\n",
    "import warnings\n",
    "# warnings.filterwarnings('ignore')\n",
    "from tqdm.notebook import tqdm\n",
    "import copy\n",
    "\n",
    "# Arrays & Displays\n",
    "import xarray as xr\n",
    "import numpy as np\n",
    "import matplotlib as mpl\n",
    "import matplotlib.pyplot as plt\n",
    "import matplotlib.cm as cm\n",
    "from matplotlib.colors import Normalize\n",
    "import pandas as pd\n",
    "from matplotlib.gridspec import GridSpec\n",
    "from matplotlib.colors import LinearSegmentedColormap\n",
    "\n",
    "# Data treatment\n",
    "from datetime import datetime\n",
    "from scipy.optimize import curve_fit\n",
    "\n",
    "# Statistics\n",
    "from sklearn.linear_model import LinearRegression\n",
    "from sklearn import linear_model, neighbors\n",
    "from pykalman import KalmanFilter\n",
    "\n",
    "# Default parameters\n",
    "mpl.rcParams.update({'font.size': 18})\n",
    "mpl.rcParams['figure.figsize'] = (15, 10)\n",
    "mpl.rcParams['axes.facecolor'] = 'white'\n",
    "mpl.rcParams['figure.facecolor'] = 'white'"
   ]
  },
  {
   "cell_type": "code",
   "execution_count": 2,
   "metadata": {},
   "outputs": [],
   "source": [
    "PRMS = {\n",
    "    'n':              5, # R+ is defined as omega(R+) = n * f\n",
    "    'sav_fgs':        False,\n",
    "    'sav_css':        False, # Save cases during fitting\n",
    "    'sav_inf':        False, # Save cases inferences\n",
    "}\n",
    "\n",
    "PTHS = {\n",
    "    'dsg_pth':         '/home/arthur/data/cyclobs/SAR_compilations_in_nc/SAR_centered_rotated_files_13052022_with_extra_params.nc',\n",
    "    'sar_dir':         '/home/arthur/data/cyclobs/centered_rotated_files_31012022/',\n",
    "    'sct_dir':         '/home/arthur/data/scatterometer/KNMI/product_JF_rotated_filtered_v3/POLAR/2020/EP182020/',\n",
    "    'sav_dir':         '/home/arthur/results/TCsLifeMonitFromObs/PRJCT_TIME_EVOLUTION/08_PAPER/'\n",
    "}"
   ]
  },
  {
   "cell_type": "markdown",
   "metadata": {},
   "source": [
    "### 1) FUNCTIONS"
   ]
  },
  {
   "cell_type": "code",
   "execution_count": 3,
   "metadata": {},
   "outputs": [],
   "source": [
    "rs = np.linspace(10, 900000, 90000)\n",
    "dr = 10 # meters\n",
    "\n",
    "# rs = np.linspace(10000, 900000, 90)\n",
    "# dr = 10000 # meters\n",
    "\n",
    "def coriolis(lat):\n",
    "    '''Latitude must be in degrees.'''\n",
    "    Omega = 7.2921e-5                             # Earth rotation vector\n",
    "    fcor  = 2 * Omega * np.sin(lat * np.pi / 180) # Coriolis parameter at 20° latitude and assuming it's constant \n",
    "    return fcor\n",
    "\n",
    "def vorticity(r, v):\n",
    "    '''Relative vorticity'''\n",
    "    return (1 / r) * np.gradient(r * v, dr)\n",
    "\n",
    "def v_k10(v0, t, alpha=1., lbda=None):\n",
    "    # Initial\n",
    "    v          = np.zeros_like(v0.rad)                             # Raw v0\n",
    "    v_prop_in  = v0.interp({'rad': v0.rad * np.exp(alpha * t)})    # Inner-core: v0 interpolated on r * e^t\n",
    "    with warnings.catch_warnings():\n",
    "        warnings.simplefilter('ignore', category=RuntimeWarning)\n",
    "        nr_term    = np.sqrt(1 + 2 * (np.log(v0.rad) + alpha * t)) # Near-core (1)\n",
    "    v_prop_nr  = v0.interp({'rad': nr_term})                       # Near-core (2)\n",
    "    ou_term    = np.sqrt(v0.rad ** 2 + 2 * alpha * t)              # Outer-core (1)\n",
    "    v_prop_ou  = v0.interp({'rad': ou_term})                       # Outer-core (2)\n",
    "    \n",
    "    # No friction\n",
    "    if lbda is None:\n",
    "        vin        = v_prop_in * np.exp(alpha * t) + v0.rad * (np.exp(2 * alpha * t) - 1) / (2 * alpha)                                     # Inner-core\n",
    "        vnr        = nr_term * v_prop_nr / v0.rad + (1 - v0.rad ** 2) / (2 * alpha * v0.rad) + np.log(v0.rad) / v0.rad + alpha * t / v0.rad # Near-core\n",
    "        vou        = ou_term * v_prop_ou / v0.rad + alpha * t / v0.rad                                                                      # Outer-core\n",
    "        \n",
    "    # Friction\n",
    "    else:\n",
    "        vin        = v_prop_in * np.exp((alpha - lbda) * t) + alpha * v0.rad * (1 - np.exp((2 * alpha - lbda) * t)) / (lbda - 2 * alpha)                                # Inner-core\n",
    "        vnr        = nr_term * v_prop_nr * np.exp(-lbda * t) / v0.rad + alpha * (lbda * v0.rad ** 2 - 2 * alpha * v0.rad ** (lbda / alpha)) / (lbda * v0.rad * (lbda - 2 * alpha)) - alpha * np.exp(-lbda * t) / (lbda * v0.rad)\n",
    "        vou        = ou_term * v_prop_ou * np.exp(-lbda * t) / v0.rad + alpha * (1 - np.exp(-lbda * t)) / (lbda * v0.rad) # Outer-core\n",
    "\n",
    "    # Declare final output\n",
    "    bd              = np.exp(-alpha * t)\n",
    "    v[v0.rad < bd]  = vin[v0.rad < bd]\n",
    "    v[v0.rad >= bd] = vnr[v0.rad >= bd]\n",
    "    v[v0.rad >= 1]  = vou[v0.rad >= 1]\n",
    "    \n",
    "    return v\n",
    "\n",
    "def compute_RV_plus(r, V, fcor, n=5):\n",
    "    # Compute R+\n",
    "    rm       = r[np.nanargmax(V)]\n",
    "    out      = r > rm          # To find outer-core\n",
    "    r        = r[out]\n",
    "    V        = V[out]\n",
    "    vrt      = vorticity(r, V) # Relative vorticity\n",
    "    vrt_plan = fcor            # Planetary vorticity\n",
    "\n",
    "    try: \n",
    "        R_plus = r[abs(vrt - n * vrt_plan) < 1e-6][0] # R+\n",
    "        V_plus = V[r >= R_plus][0]\n",
    "    except IndexError:\n",
    "        print('Error: R+ non defined.')\n",
    "        R_plus = V_plus = np.nan\n",
    "    \n",
    "    return R_plus, V_plus\n",
    "\n",
    "def holland_profile(r, lat, pn, pc, Vmin, Rmax, Vmax):\n",
    "    '''We assume that rho is constant and equals 1.15 kg.m-3'''\n",
    "    fcor  = abs(coriolis(lat))\n",
    "    rho   = 1.15\n",
    "    B     = ((Vmax - Vmin) ** 2) * rho * np.e / (pn - pc)\n",
    "    A     = Rmax ** B\n",
    "    \n",
    "    r     = r.astype(float) + 0.001 # To avoid dividing by zero\n",
    "    V     = r * 0.\n",
    "    V     = Vmin + np.sqrt(A * B * (pn - pc) * np.exp((-1) * A / (r ** B)) / (rho * r ** B) + (r ** 2 * fcor ** 2) / 4) - (r * fcor / 2)\n",
    "    return V\n",
    "\n",
    "def BL_height(r, a):\n",
    "    '''a is the slope of the BL height'''\n",
    "    return a * r\n",
    "\n",
    "# def BL_height(r, a, Rp):\n",
    "#     return a * (1 - np.exp(-(r / Rp) ** 0.1))\n",
    "\n",
    "# def BL_height(r, a, Rp):\n",
    "#     return (2 * a / np.pi) * np.arctan((r / Rp))\n",
    "\n",
    "def u(r, alpha, fcor_ini, Rp_ini):\n",
    "    u    = np.zeros_like(r) \n",
    "    u_in = -alpha * fcor_ini * r\n",
    "    u_ou = -alpha * fcor_ini * (Rp_ini ** 2) / r\n",
    "    u[r <= Rp_ini] = u_in[r <= Rp_ini]\n",
    "    u[r >= Rp_ini] = u_ou[r >= Rp_ini]\n",
    "    return u # dimensional\n",
    "\n",
    "def propagate(r, a, alpha, V_ini, fcor_ini, dt=1, fitting_mode=False, Cd_plus=2.5e-3):\n",
    "    # Compute R+, V+\n",
    "    R_plus, V_plus = compute_RV_plus(r, V_ini, fcor_ini, PRMS['n'])\n",
    "    # print('R+ = {:.0f}, V+ = {:.1f}'.format(R_plus, V_plus))\n",
    "    \n",
    "    # Compute BL height \n",
    "    h              = BL_height(r, a / 1000)\n",
    "    # h                = a * np.ones_like(r)\n",
    "    # h              = BL_height(r, a, R_plus)\n",
    "    \n",
    "    # Compute lambda\n",
    "    # M_abs          = r * V_ini + 0.5 * fcor_ini * (r ** 2)\n",
    "    M_rel          = r * V_ini\n",
    "    lbda           = float(Cd_plus * R_plus * (V_plus ** 2)) / (h * M_rel) # dimensional\n",
    "    # lbda           = float(Cd_plus * R_plus * (V_plus ** 2)) / (h * M_rel) - (fcor_ini * r * u(r, alpha, fcor_ini, R_plus) / M_rel) # dimensional\n",
    "    lbda           = lbda / fcor_ini                                       # non-dimensional\n",
    "    \n",
    "    # plt.plot(r / 1000, 1e6 / r ** 2, c='k')\n",
    "    # plt.plot(r / 1000, lbda);plt.yscale('log');plt.xlim(0, 300);plt.show()\n",
    "    \n",
    "    # Normalize\n",
    "    V_nrm = xr.DataArray(\n",
    "        data=V_ini / (fcor_ini * R_plus),\n",
    "        coords={'rad': r / R_plus}\n",
    "    )\n",
    "    \n",
    "    # Apply KK10\n",
    "    V = v_k10(V_nrm, dt, alpha, lbda=lbda) * fcor_ini * R_plus             # dimensional\n",
    "    \n",
    "    # # Option 1: Fit the whole curve\n",
    "    # # In fitting mode, match values of nan with values of initial profile so that it doesn't count\n",
    "    # if fitting_mode:\n",
    "    #     V[np.isnan(V)] = V_ini[np.isnan(V)]\n",
    "    \n",
    "    # Option 2: Fit Vmax\n",
    "    if fitting_mode:\n",
    "        V = np.nanmax(V)\n",
    "\n",
    "    return V"
   ]
  },
  {
   "cell_type": "code",
   "execution_count": null,
   "metadata": {},
   "outputs": [],
   "source": []
  },
  {
   "cell_type": "markdown",
   "metadata": {},
   "source": [
    "### 2) SAR DATA"
   ]
  },
  {
   "cell_type": "code",
   "execution_count": 4,
   "metadata": {},
   "outputs": [
    {
     "name": "stderr",
     "output_type": "stream",
     "text": [
      "/home/arthur/anaconda3/envs/paramProfiles/lib/python3.8/site-packages/xarray/backends/plugins.py:71: RuntimeWarning: Engine 'cfgrib' loading failed:\n",
      "/home/arthur/anaconda3/envs/paramProfiles/lib/python3.8/lib-dynload/../../libffi.so.8: version `LIBFFI_CLOSURE_7.0' not found (required by /home/arthur/anaconda3/envs/paramProfiles/lib/python3.8/site-packages/_cffi_backend.cpython-38-x86_64-linux-gnu.so)\n",
      "  warnings.warn(f\"Engine {name!r} loading failed:\\n{ex}\", RuntimeWarning)\n"
     ]
    },
    {
     "name": "stdout",
     "output_type": "stream",
     "text": [
      "Nb of storms: 161\n",
      "SAR Mean Rmax = 31 km\n",
      "SAR Mean R64  = 57 km\n",
      "Mean latitude = 18.9°\n",
      "Mean Coriolis = 4.7e-05\n"
     ]
    }
   ],
   "source": [
    "dsg  = xr.open_dataset(PTHS['dsg_pth'])\n",
    "\n",
    "### FILTER\n",
    "dsg = dsg.where(dsg.distance_to_coast > dsg.R17_1D * 1000, drop=True)\n",
    "dsg = dsg.where(abs(dsg.lat_center) < 30, drop=True)\n",
    "dsg = dsg.where(dsg.B_hol > 0.1, drop=True)\n",
    "dsg = dsg.where(dsg.Vmax_1D > 25, drop=True)\n",
    "print('Nb of storms: {}'.format(len(dsg.time)))\n",
    "\n",
    "print('SAR Mean Rmax = {:.0f} km'.format(dsg.Rmax_1D.mean()))\n",
    "print('SAR Mean R64  = {:.0f} km'.format(dsg.R33_1D.mean()))\n",
    "\n",
    "# Manually add Goni because its R17 is nan (I don't know why)\n",
    "goni      = xr.open_dataset('/home/arthur/data/cyclobs/SAR_compilations_in_nc/Goni_sample.nc')\n",
    "dsg       = xr.concat((dsg, goni), dim='time')\n",
    "\n",
    "# Select IDs where there are at least 2 SAR images\n",
    "ids, cts  = np.unique(dsg.storm_id, return_counts=True)\n",
    "valid_ids = ids[cts > 1]\n",
    "valid_cts = cts[cts > 1]\n",
    "\n",
    "print('Mean latitude = {:.1f}°'.format(abs(dsg.lat_center).mean()))\n",
    "print('Mean Coriolis = {:.1e}'.format(float(coriolis(abs(dsg.lat_center).mean()))))"
   ]
  },
  {
   "cell_type": "code",
   "execution_count": null,
   "metadata": {},
   "outputs": [],
   "source": []
  },
  {
   "cell_type": "code",
   "execution_count": null,
   "metadata": {},
   "outputs": [],
   "source": []
  },
  {
   "cell_type": "markdown",
   "metadata": {},
   "source": [
    "### 3) Determine lambda"
   ]
  },
  {
   "cell_type": "code",
   "execution_count": 115,
   "metadata": {},
   "outputs": [
    {
     "data": {
      "application/vnd.jupyter.widget-view+json": {
       "model_id": "6aa418bd9ef54e82aa608d1e2980cf19",
       "version_major": 2,
       "version_minor": 0
      },
      "text/plain": [
       "  0%|          | 0/10 [00:00<?, ?it/s]"
      ]
     },
     "metadata": {},
     "output_type": "display_data"
    }
   ],
   "source": [
    "# Parameters\n",
    "time_thresh  = 20\n",
    "\n",
    "# id = 3, 10\n",
    "\n",
    "# Iterate\n",
    "for tc_id in tqdm(valid_ids[:10]):\n",
    "    # Iterate other all SAR acquisitions of the TC, 2 by 2\n",
    "    dsi        = dsg.where(dsg.storm_id == tc_id, drop=True).sortby('time')\n",
    "    for idx_ini in range(len(dsi.time) - 1):\n",
    "        for idx_fin in range(idx_ini + 1, len(dsi.time)):\n",
    "            # print(idx_ini, idx_fin)\n",
    "            ds_ini     = dsi.isel(time=idx_ini)\n",
    "            ds_fin     = dsi.isel(time=idx_fin)   \n",
    "            delta_h    = float((ds_fin.time - ds_ini.time) / np.timedelta64(1, 'h'))\n",
    "            # Compute VK10 if delta_h is less than threshold\n",
    "            if (delta_h <= time_thresh) & (delta_h > 1):\n",
    "                V_ini      = ds_ini.wind_speed.mean(dim='theta', skipna=True).interp(coords={'rad': rs})\n",
    "                V_fin      = ds_fin.wind_speed.mean(dim='theta', skipna=True).interp(coords={'rad': rs})\n",
    "                Vh_ini     = holland_profile(rs, float(abs(ds_ini.lat_center)), float(ds_ini.pn_hol), float(ds_ini.pc_hol), float(ds_ini.Vmin_hol), float(ds_ini.Rmax_hol), float(ds_ini.Vmax_hol))\n",
    "                Vh_fin     = holland_profile(rs, float(abs(ds_fin.lat_center)), float(ds_fin.pn_hol), float(ds_fin.pc_hol), float(ds_fin.Vmin_hol), float(ds_fin.Rmax_hol), float(ds_fin.Vmax_hol))\n",
    "                fcor_ini   = float(abs(coriolis(ds_ini.lat_center)))\n",
    "                fcor_fin   = float(abs(coriolis(ds_fin.lat_center)))\n",
    "                \n",
    "                # dt\n",
    "                tau      = ((1 / fcor_ini) / 3600)\n",
    "                dt       = delta_h / tau\n",
    "                \n",
    "                # Alpha\n",
    "                alpha = 1"
   ]
  },
  {
   "cell_type": "code",
   "execution_count": 116,
   "metadata": {},
   "outputs": [],
   "source": [
    "from scipy.optimize import minimize\n",
    "from scipy.optimize import minimize_scalar\n",
    "\n",
    "def propagate(r, lbda, V_ini, fcor_ini, dt=1, alpha=1, Cd_plus=2.5e-3):\n",
    "    # Compute R+, V+\n",
    "    R_plus, V_plus = compute_RV_plus(r, V_ini, fcor_ini, PRMS['n'])\n",
    "    \n",
    "    # Normalize\n",
    "    V_nrm = xr.DataArray(\n",
    "        data=V_ini / (fcor_ini * R_plus),\n",
    "        coords={'rad': r / R_plus}\n",
    "    )\n",
    "    # lbda = lbda / fcor_ini                                       # non-dimensional\n",
    "    \n",
    "    # Apply KK10\n",
    "    V = v_k10(V_nrm, dt, alpha, lbda=lbda) * fcor_ini * R_plus # dimensional\n",
    "\n",
    "    return V\n",
    "\n",
    "def loss(lbda, V_ini, V_fin):\n",
    "    V_mod = propagate(rs, lbda * V_ini, V_fin, fcor_ini, dt=dt)\n",
    "    return np.sqrt(np.nanmean((V_fin - V_mod) ** 2)) \n",
    "\n",
    "# # Initialize\n",
    "# lbda0    = fcor_ini\n",
    "# # Optimize\n",
    "# lbda_opt = minimize(loss, lbda0, args=(Vh_ini, Vh_fin))\n",
    "\n",
    "# # Plot\n",
    "# V     = propagate(rs, lbda_opt.x * Vh_ini, Vh_ini, fcor_ini, dt=dt)\n",
    "# plt.plot(rs / 1000, Vh_ini, c='k', label='SAR ini', linewidth=3)\n",
    "# plt.plot(rs / 1000, Vh_fin, c='orangered', label='SAR fin', linewidth=3)\n",
    "# plt.plot(rs / 1000, V, linestyle='dashed', c='orangered', label='MODEL')\n",
    "# plt.xlim(0, 300)\n",
    "# plt.grid();plt.legend()"
   ]
  },
  {
   "cell_type": "code",
   "execution_count": 117,
   "metadata": {},
   "outputs": [
    {
     "name": "stderr",
     "output_type": "stream",
     "text": [
      "/home/arthur/anaconda3/envs/paramProfiles/lib/python3.8/site-packages/xarray/core/computation.py:771: RuntimeWarning: divide by zero encountered in divide\n",
      "  result_data = func(*input_data)\n",
      "/home/arthur/anaconda3/envs/paramProfiles/lib/python3.8/site-packages/xarray/core/computation.py:771: RuntimeWarning: invalid value encountered in divide\n",
      "  result_data = func(*input_data)\n"
     ]
    },
    {
     "name": "stdout",
     "output_type": "stream",
     "text": [
      "0.10395169853145735\n",
      "7.699963694300125 8.053606945970202\n"
     ]
    },
    {
     "data": {
      "text/plain": [
       "<matplotlib.legend.Legend at 0x7f04d8fc2b50>"
      ]
     },
     "execution_count": 117,
     "metadata": {},
     "output_type": "execute_result"
    },
    {
     "data": {
      "image/png": "[encoded data removed]",
      "text/plain": [
       "<Figure size 1500x1000 with 1 Axes>"
      ]
     },
     "metadata": {},
     "output_type": "display_data"
    }
   ],
   "source": [
    "def local_loss(lbda, i, V_ini, V_fin):\n",
    "    V_mod = propagate(rs, lbda, V_ini, fcor_ini, dt=dt)\n",
    "    # print(lbda, V_mod[i])\n",
    "    return np.sqrt((V_fin[i] - V_mod[i]) ** 2)\n",
    "\n",
    "i     = 30000\n",
    "\n",
    "lbda0 = 0.7\n",
    "\n",
    "opt   = minimize_scalar(local_loss, args=(i, Vh_ini, Vh_fin), tol=1e-5)\n",
    "# , bounds=([0.5, 1.5], )\n",
    "print(opt.x)\n",
    "\n",
    "# Plot\n",
    "# V     = propagate(rs, opt.x, Vh_ini, fcor_ini, dt=dt)\n",
    "print(Vh_fin[i], V[i])\n",
    "plt.plot(rs / 1000, Vh_ini, c='k', label='SAR ini', linewidth=3)\n",
    "plt.plot(rs / 1000, Vh_fin, c='orangered', label='SAR fin', linewidth=3)\n",
    "# plt.plot(rs / 1000, V, linestyle='dashed', c='orangered', label='MODEL')\n",
    "plt.xlim(0, 300)\n",
    "plt.grid();plt.legend()"
   ]
  },
  {
   "cell_type": "code",
   "execution_count": 118,
   "metadata": {},
   "outputs": [
    {
     "data": {
      "application/vnd.jupyter.widget-view+json": {
       "model_id": "80e492067b4f4841910746aa4bd25660",
       "version_major": 2,
       "version_minor": 0
      },
      "text/plain": [
       "  0%|          | 0/10 [00:00<?, ?it/s]"
      ]
     },
     "metadata": {},
     "output_type": "display_data"
    },
    {
     "name": "stderr",
     "output_type": "stream",
     "text": [
      "/home/arthur/anaconda3/envs/paramProfiles/lib/python3.8/site-packages/xarray/core/computation.py:771: RuntimeWarning: divide by zero encountered in divide\n",
      "  result_data = func(*input_data)\n",
      "/home/arthur/anaconda3/envs/paramProfiles/lib/python3.8/site-packages/xarray/core/computation.py:771: RuntimeWarning: invalid value encountered in divide\n",
      "  result_data = func(*input_data)\n"
     ]
    },
    {
     "name": "stdout",
     "output_type": "stream",
     "text": [
      "34.09466204441958 34.09469448386415\n"
     ]
    },
    {
     "name": "stderr",
     "output_type": "stream",
     "text": [
      "/home/arthur/anaconda3/envs/paramProfiles/lib/python3.8/site-packages/xarray/core/computation.py:771: RuntimeWarning: divide by zero encountered in divide\n",
      "  result_data = func(*input_data)\n",
      "/home/arthur/anaconda3/envs/paramProfiles/lib/python3.8/site-packages/xarray/core/computation.py:771: RuntimeWarning: invalid value encountered in divide\n",
      "  result_data = func(*input_data)\n"
     ]
    },
    {
     "name": "stdout",
     "output_type": "stream",
     "text": [
      "36.42878594491928 36.42879352385044\n"
     ]
    },
    {
     "name": "stderr",
     "output_type": "stream",
     "text": [
      "/home/arthur/anaconda3/envs/paramProfiles/lib/python3.8/site-packages/xarray/core/computation.py:771: RuntimeWarning: divide by zero encountered in divide\n",
      "  result_data = func(*input_data)\n",
      "/home/arthur/anaconda3/envs/paramProfiles/lib/python3.8/site-packages/xarray/core/computation.py:771: RuntimeWarning: invalid value encountered in divide\n",
      "  result_data = func(*input_data)\n"
     ]
    },
    {
     "name": "stdout",
     "output_type": "stream",
     "text": [
      "30.362156138703575 30.36218454298573\n"
     ]
    },
    {
     "name": "stderr",
     "output_type": "stream",
     "text": [
      "/home/arthur/anaconda3/envs/paramProfiles/lib/python3.8/site-packages/xarray/core/computation.py:771: RuntimeWarning: divide by zero encountered in divide\n",
      "  result_data = func(*input_data)\n",
      "/home/arthur/anaconda3/envs/paramProfiles/lib/python3.8/site-packages/xarray/core/computation.py:771: RuntimeWarning: invalid value encountered in divide\n",
      "  result_data = func(*input_data)\n"
     ]
    },
    {
     "name": "stdout",
     "output_type": "stream",
     "text": [
      "25.697208379860918 25.69724783758847\n"
     ]
    },
    {
     "name": "stderr",
     "output_type": "stream",
     "text": [
      "/home/arthur/anaconda3/envs/paramProfiles/lib/python3.8/site-packages/xarray/core/computation.py:771: RuntimeWarning: divide by zero encountered in divide\n",
      "  result_data = func(*input_data)\n",
      "/home/arthur/anaconda3/envs/paramProfiles/lib/python3.8/site-packages/xarray/core/computation.py:771: RuntimeWarning: invalid value encountered in divide\n",
      "  result_data = func(*input_data)\n"
     ]
    },
    {
     "name": "stdout",
     "output_type": "stream",
     "text": [
      "22.338541583895125 22.338572457578103\n"
     ]
    },
    {
     "name": "stderr",
     "output_type": "stream",
     "text": [
      "/home/arthur/anaconda3/envs/paramProfiles/lib/python3.8/site-packages/xarray/core/computation.py:771: RuntimeWarning: divide by zero encountered in divide\n",
      "  result_data = func(*input_data)\n",
      "/home/arthur/anaconda3/envs/paramProfiles/lib/python3.8/site-packages/xarray/core/computation.py:771: RuntimeWarning: invalid value encountered in divide\n",
      "  result_data = func(*input_data)\n"
     ]
    },
    {
     "name": "stdout",
     "output_type": "stream",
     "text": [
      "19.842185164736733 19.842160375401594\n"
     ]
    },
    {
     "name": "stderr",
     "output_type": "stream",
     "text": [
      "/home/arthur/anaconda3/envs/paramProfiles/lib/python3.8/site-packages/xarray/core/computation.py:771: RuntimeWarning: divide by zero encountered in divide\n",
      "  result_data = func(*input_data)\n",
      "/home/arthur/anaconda3/envs/paramProfiles/lib/python3.8/site-packages/xarray/core/computation.py:771: RuntimeWarning: invalid value encountered in divide\n",
      "  result_data = func(*input_data)\n"
     ]
    },
    {
     "name": "stdout",
     "output_type": "stream",
     "text": [
      "17.91604845601052 17.91606172521599\n"
     ]
    },
    {
     "name": "stderr",
     "output_type": "stream",
     "text": [
      "/home/arthur/anaconda3/envs/paramProfiles/lib/python3.8/site-packages/xarray/core/computation.py:771: RuntimeWarning: divide by zero encountered in divide\n",
      "  result_data = func(*input_data)\n",
      "/home/arthur/anaconda3/envs/paramProfiles/lib/python3.8/site-packages/xarray/core/computation.py:771: RuntimeWarning: invalid value encountered in divide\n",
      "  result_data = func(*input_data)\n"
     ]
    },
    {
     "name": "stdout",
     "output_type": "stream",
     "text": [
      "16.382036506146 16.38204578187336\n"
     ]
    },
    {
     "name": "stderr",
     "output_type": "stream",
     "text": [
      "/home/arthur/anaconda3/envs/paramProfiles/lib/python3.8/site-packages/xarray/core/computation.py:771: RuntimeWarning: divide by zero encountered in divide\n",
      "  result_data = func(*input_data)\n",
      "/home/arthur/anaconda3/envs/paramProfiles/lib/python3.8/site-packages/xarray/core/computation.py:771: RuntimeWarning: invalid value encountered in divide\n",
      "  result_data = func(*input_data)\n"
     ]
    },
    {
     "name": "stdout",
     "output_type": "stream",
     "text": [
      "15.129194606010515 15.129188026005467\n"
     ]
    },
    {
     "name": "stderr",
     "output_type": "stream",
     "text": [
      "/home/arthur/anaconda3/envs/paramProfiles/lib/python3.8/site-packages/xarray/core/computation.py:771: RuntimeWarning: divide by zero encountered in divide\n",
      "  result_data = func(*input_data)\n",
      "/home/arthur/anaconda3/envs/paramProfiles/lib/python3.8/site-packages/xarray/core/computation.py:771: RuntimeWarning: invalid value encountered in divide\n",
      "  result_data = func(*input_data)\n"
     ]
    },
    {
     "name": "stdout",
     "output_type": "stream",
     "text": [
      "14.085814548339451 14.085832792967203\n"
     ]
    }
   ],
   "source": [
    "lbda0 = 0.7\n",
    "LBDAS = []\n",
    "IS    = []\n",
    "\n",
    "for i in tqdm(rs[999::1000][:10]):\n",
    "    i     = int(i / 10)\n",
    "    opt   = minimize_scalar(local_loss, args=(i, Vh_ini, Vh_fin), tol=1e-5)\n",
    "\n",
    "    # Plot\n",
    "    V     = propagate(rs, opt.x, Vh_ini, fcor_ini, dt=dt)\n",
    "    print(Vh_fin[i], V[i])\n",
    "    \n",
    "    # Append\n",
    "    LBDAS.append(opt.x)\n",
    "    IS.append(i)"
   ]
  },
  {
   "cell_type": "code",
   "execution_count": null,
   "metadata": {},
   "outputs": [
    {
     "data": {
      "text/plain": [
       "(-1.0, 100.0)"
      ]
     },
     "execution_count": 122,
     "metadata": {},
     "output_type": "execute_result"
    },
    {
     "data": {
      "image/png": "[encoded data removed]",
      "text/plain": [
       "<Figure size 1500x1000 with 1 Axes>"
      ]
     },
     "metadata": {},
     "output_type": "display_data"
    }
   ],
   "source": [
    "plt.plot(rs[IS] / 1000, LBDAS)\n",
    "plt.plot(rs / 1000, rs[np.nanargmax(Vh_ini)] ** 2 / (rs ** 2), c='k')\n",
    "plt.xlim(-1, 100)\n",
    "# plt.ylim(0, 2)"
   ]
  },
  {
   "cell_type": "code",
   "execution_count": null,
   "metadata": {},
   "outputs": [],
   "source": []
  },
  {
   "cell_type": "code",
   "execution_count": null,
   "metadata": {},
   "outputs": [],
   "source": []
  },
  {
   "cell_type": "code",
   "execution_count": null,
   "metadata": {},
   "outputs": [],
   "source": []
  },
  {
   "cell_type": "code",
   "execution_count": null,
   "metadata": {},
   "outputs": [],
   "source": []
  },
  {
   "cell_type": "code",
   "execution_count": null,
   "metadata": {},
   "outputs": [],
   "source": []
  },
  {
   "cell_type": "code",
   "execution_count": null,
   "metadata": {},
   "outputs": [],
   "source": []
  },
  {
   "cell_type": "code",
   "execution_count": null,
   "metadata": {},
   "outputs": [],
   "source": []
  },
  {
   "cell_type": "code",
   "execution_count": 43,
   "metadata": {},
   "outputs": [],
   "source": [
    "# def local_loss(lbda, i, V_ini, V_fin):\n",
    "#     V_mod = propagate(rs, lbda, V_ini, fcor_ini, dt=dt)\n",
    "#     print(lbda, V_mod[i])\n",
    "#     return np.sqrt((V_fin[i] - V_mod[i]) ** 2)\n",
    "\n",
    "\n",
    "# i     = 10000\n",
    "\n",
    "# lbda0 = 0.7\n",
    "\n",
    "# opt   = minimize(local_loss, lbda0, args=(i, Vh_ini, Vh_fin), tol=1e-5)\n",
    "# # , bounds=([0.5, 1.5], )\n",
    "# print(opt.x)\n",
    "\n",
    "# # Plot\n",
    "# V     = propagate(rs, opt.x, Vh_ini, fcor_ini, dt=dt)\n",
    "# print(Vh_fin[i], V[i])\n",
    "# plt.plot(rs / 1000, Vh_ini, c='k', label='SAR ini', linewidth=3)\n",
    "# plt.plot(rs / 1000, Vh_fin, c='orangered', label='SAR fin', linewidth=3)\n",
    "# plt.plot(rs / 1000, V, linestyle='dashed', c='orangered', label='MODEL')\n",
    "# plt.xlim(0, 300)\n",
    "# plt.grid();plt.legend()"
   ]
  },
  {
   "cell_type": "code",
   "execution_count": null,
   "metadata": {},
   "outputs": [],
   "source": []
  },
  {
   "cell_type": "code",
   "execution_count": null,
   "metadata": {},
   "outputs": [],
   "source": []
  },
  {
   "cell_type": "code",
   "execution_count": null,
   "metadata": {},
   "outputs": [],
   "source": []
  },
  {
   "cell_type": "code",
   "execution_count": null,
   "metadata": {},
   "outputs": [],
   "source": []
  },
  {
   "cell_type": "code",
   "execution_count": null,
   "metadata": {},
   "outputs": [],
   "source": []
  },
  {
   "cell_type": "code",
   "execution_count": null,
   "metadata": {},
   "outputs": [],
   "source": []
  },
  {
   "cell_type": "code",
   "execution_count": null,
   "metadata": {},
   "outputs": [],
   "source": []
  },
  {
   "cell_type": "code",
   "execution_count": 133,
   "metadata": {},
   "outputs": [],
   "source": []
  },
  {
   "cell_type": "code",
   "execution_count": null,
   "metadata": {},
   "outputs": [],
   "source": []
  },
  {
   "cell_type": "code",
   "execution_count": null,
   "metadata": {},
   "outputs": [],
   "source": []
  },
  {
   "cell_type": "code",
   "execution_count": null,
   "metadata": {},
   "outputs": [],
   "source": []
  },
  {
   "cell_type": "code",
   "execution_count": null,
   "metadata": {},
   "outputs": [],
   "source": []
  },
  {
   "cell_type": "markdown",
   "metadata": {},
   "source": [
    "### 3) REGRESSION"
   ]
  },
  {
   "cell_type": "code",
   "execution_count": 8,
   "metadata": {},
   "outputs": [
    {
     "data": {
      "application/vnd.jupyter.widget-view+json": {
       "model_id": "7815cff713a44ff3bebf74cd7a98b05d",
       "version_major": 2,
       "version_minor": 0
      },
      "text/plain": [
       "  0%|          | 0/39 [00:00<?, ?it/s]"
      ]
     },
     "metadata": {},
     "output_type": "display_data"
    },
    {
     "name": "stderr",
     "output_type": "stream",
     "text": [
      "/home/arthur/anaconda3/envs/paramProfiles/lib/python3.8/site-packages/scipy/optimize/_minpack_py.py:881: OptimizeWarning: Covariance of the parameters could not be estimated\n",
      "  warnings.warn('Covariance of the parameters could not be estimated',\n"
     ]
    },
    {
     "name": "stdout",
     "output_type": "stream",
     "text": [
      "al122021\n",
      "delta_h = 11.8hr\n",
      "a = 348.99\n"
     ]
    },
    {
     "name": "stderr",
     "output_type": "stream",
     "text": [
      "/home/arthur/anaconda3/envs/paramProfiles/lib/python3.8/site-packages/scipy/optimize/_minpack_py.py:881: OptimizeWarning: Covariance of the parameters could not be estimated\n",
      "  warnings.warn('Covariance of the parameters could not be estimated',\n"
     ]
    },
    {
     "name": "stdout",
     "output_type": "stream",
     "text": [
      "al122021\n",
      "delta_h = 12.3hr\n",
      "a = 138.43\n"
     ]
    },
    {
     "name": "stderr",
     "output_type": "stream",
     "text": [
      "\n",
      "KeyboardInterrupt\n",
      "\n"
     ]
    }
   ],
   "source": [
    "# COLORMAP\n",
    "colors = [mpl.colors.to_rgb('k'), mpl.colors.to_rgb('orangered')] # first color is black, last is red\n",
    "cm     = LinearSegmentedColormap.from_list(\"Custom\", colors, N=20)\n",
    "l      = 5 # nb of model steps to display\n",
    "clrs   = cm(np.linspace(0, 1, l + 1))\n",
    "\n",
    "# Parameters\n",
    "time_thresh  = 20\n",
    "\n",
    "# Initialization\n",
    "IDXS_INI     = []\n",
    "IDXS_FIN     = []\n",
    "TC_IDS       = []\n",
    "DELTA_HS     = []\n",
    "VMXS_INI     = []\n",
    "RMXS_INI     = []\n",
    "FCRS_INI     = []\n",
    "FCRS_FIN     = []\n",
    "VMXS_FIN     = []\n",
    "RMXS_FIN     = []\n",
    "AS           = []\n",
    "RPLS_INI     = []\n",
    "RPLS_FIN     = []\n",
    "RPLS_MOD     = []\n",
    "VPLS_INI     = []\n",
    "VPLS_FIN     = []\n",
    "HPLS         = []\n",
    "HPLS_FIN     = []\n",
    "DMPLS        = []\n",
    "DMPLS_FIN    = []\n",
    "BHOLS        = []\n",
    "# Errors\n",
    "RMSES        = []\n",
    "RMSES_PRS    = []\n",
    "REL_ERRS     = []\n",
    "REL_ERRS_PRS = []\n",
    "r_ref        = np.linspace(0, 10, 1001)\n",
    "\n",
    "# Iterate\n",
    "for tc_id in tqdm(valid_ids):\n",
    "    # Iterate other all SAR acquisitions of the TC, 2 by 2\n",
    "    dsi        = dsg.where(dsg.storm_id == tc_id, drop=True).sortby('time')\n",
    "    for idx_ini in range(len(dsi.time) - 1):\n",
    "        for idx_fin in range(idx_ini + 1, len(dsi.time)):\n",
    "            # print(idx_ini, idx_fin)\n",
    "            ds_ini     = dsi.isel(time=idx_ini)\n",
    "            ds_fin     = dsi.isel(time=idx_fin)   \n",
    "            delta_h    = float((ds_fin.time - ds_ini.time) / np.timedelta64(1, 'h'))\n",
    "            # Compute VK10 if delta_h is less than threshold\n",
    "            if (delta_h <= time_thresh) & (delta_h > 1):\n",
    "                V_ini      = ds_ini.wind_speed.mean(dim='theta', skipna=True).interp(coords={'rad': rs})\n",
    "                V_fin      = ds_fin.wind_speed.mean(dim='theta', skipna=True).interp(coords={'rad': rs})\n",
    "                Vh_ini     = holland_profile(rs, float(abs(ds_ini.lat_center)), float(ds_ini.pn_hol), float(ds_ini.pc_hol), float(ds_ini.Vmin_hol), float(ds_ini.Rmax_hol), float(ds_ini.Vmax_hol))\n",
    "                Vh_fin     = holland_profile(rs, float(abs(ds_fin.lat_center)), float(ds_fin.pn_hol), float(ds_fin.pc_hol), float(ds_fin.Vmin_hol), float(ds_fin.Rmax_hol), float(ds_fin.Vmax_hol))\n",
    "                fcor_ini   = float(abs(coriolis(ds_ini.lat_center)))\n",
    "                fcor_fin   = float(abs(coriolis(ds_fin.lat_center)))\n",
    "                \n",
    "                # dt\n",
    "                tau      = ((1 / fcor_ini) / 3600)\n",
    "                dt       = delta_h / tau\n",
    "                \n",
    "                # Alpha, h is constant\n",
    "                # alpha = 0.1\n",
    "                # alpha = 0.3\n",
    "                alpha = 0.5\n",
    "                # alpha = 1\n",
    "                # alpha = 10\n",
    "                \n",
    "                # Fitting\n",
    "                a_fit, pcov = curve_fit(\n",
    "                    lambda r, a: propagate(r, a, alpha, Vh_ini, fcor_ini, dt, fitting_mode=True),\n",
    "                    rs,\n",
    "                    # Vh_fin,          # Option 1: Fit the whole curve\n",
    "                    np.nanmax(V_fin),  # Option 2: Fit Vmax\n",
    "                    p0=1000,\n",
    "                    bounds=[10, 10000],\n",
    "                    # p0=100,\n",
    "                    # bounds=[10, 1000],\n",
    "                )\n",
    "                \n",
    "                # Model\n",
    "                V = propagate(rs, a_fit, alpha, Vh_ini, fcor_ini, dt=dt)\n",
    "            \n",
    "                print(tc_id)\n",
    "                print('delta_h = {:.1f}hr'.format(delta_h))\n",
    "                print('a = {:.2f}'.format(float(a_fit)))\n",
    "                \n",
    "                # Compute R+ metrics\n",
    "                Rp_ini, Vp_ini   = compute_RV_plus(rs, Vh_ini,    float(abs(coriolis(ds_ini.lat_center))), PRMS['n'])\n",
    "                Rp_fin, Vp_fin   = compute_RV_plus(rs, Vh_fin,    float(abs(coriolis(ds_fin.lat_center))), PRMS['n'])\n",
    "                V                = propagate(rs, a_fit, alpha, Vh_ini, fcor_ini, dt)\n",
    "                Rp_mod, Vp_mod   = compute_RV_plus(rs, V,         float(abs(coriolis(ds_fin.lat_center))), PRMS['n'])\n",
    "                # Hp               = np.nan\n",
    "                Hp               = BL_height(Rp_ini, a_fit / 1000) # see my function propagate() (factor 1000 to suit the curve_fit() bounds)\n",
    "                # Hp               = BL_height(Rp_ini, a_fit, Rp_ini)\n",
    "                dMp              = np.gradient(rs * Vh_ini + 0.5 * fcor_ini * (rs ** 2), dr)[rs >= Rp_ini][0] # dM/dr at R+\n",
    "                dMp_fin          = np.gradient(rs * Vh_fin + 0.5 * float(abs(coriolis(ds_fin.lat_center))) * (rs ** 2), dr)[rs >= Rp_fin][0] # dM/dr at R+\n",
    "                \n",
    "                # Compute RMSE\n",
    "                rmse        = np.sqrt(np.nanmean((V - Vh_fin) ** 2))      # Model\n",
    "                rmse_prs    = np.sqrt(np.nanmean((Vh_ini - Vh_fin) ** 2)) # Persistence    \n",
    "                # Option 1: Compute relative to Holland final profile\n",
    "                rel_err          = (V - Vh_fin) / Vh_fin\n",
    "                rmx              = rs[np.nanargmax(Vh_fin)]\n",
    "                r_star           = rs / rmx\n",
    "                rel_err_star     = np.interp(r_ref, r_star, rel_err)\n",
    "                rel_err_prs      = (Vh_ini - Vh_fin) / Vh_fin             # Persistence\n",
    "                rel_err_prs_star = np.interp(r_ref, r_star, rel_err_prs)  # Persistence\n",
    "                    \n",
    "                # Appends\n",
    "                IDXS_INI.append(idx_ini), IDXS_FIN.append(idx_fin), TC_IDS.append(tc_id), DELTA_HS.append(delta_h), AS.append(float(a_fit))  \n",
    "                VMXS_INI.append(np.nanmax(V_ini)), RMXS_INI.append(rs[np.nanargmax(V_ini)]), FCRS_INI.append(fcor_ini),\n",
    "                VMXS_FIN.append(np.nanmax(V_fin)), RMXS_FIN.append(rs[np.nanargmax(V_fin)]), FCRS_FIN.append(fcor_fin),\n",
    "                RPLS_INI.append(Rp_ini), RPLS_FIN.append(Rp_fin), RPLS_MOD.append(Rp_mod), VPLS_INI.append(Vp_ini), VPLS_FIN.append(Vp_fin),\n",
    "                HPLS.append(float(Hp)), DMPLS.append(float(dMp)), DMPLS_FIN.append(float(dMp_fin)), BHOLS.append(float(ds_ini.B_hol))\n",
    "                RMSES_PRS.append(rmse_prs), RMSES.append(rmse)\n",
    "                REL_ERRS.append(rel_err_star), REL_ERRS_PRS.append(rel_err_prs_star)\n",
    "\n",
    "                # Plot\n",
    "                if PRMS['sav_css']:\n",
    "                    plt.title('{}, idx_ini = {}, idx_fin = {} \\n delta_h = {:.1f} hrs, a = {:.2f}'.format(tc_id, idx_ini, idx_fin, delta_h, float(a_fit)), weight='bold')\n",
    "                    # plt.suptitle('Note that alpha = 0.3')\n",
    "                    # SAR                  \n",
    "                    plt.plot(rs / 1000, V_ini, c='k',         linewidth=3, label=r'SAR, {}'.format(np.datetime_as_string(ds_ini.time, unit='m')[5:]))\n",
    "                    plt.plot(rs / 1000, V_fin, c='orangered', linewidth=3, label=r'SAR, {}'.format(np.datetime_as_string(ds_fin.time, unit='m')[5:]))\n",
    "                    # # Holland\n",
    "                    plt.plot(rs / 1000, Vh_ini, c='k', label='Holland initial')\n",
    "                    # plt.plot(rs / 1000, Vh_fin, linewidth=3, linestyle='dotted', c='orangered', label='Holland final')\n",
    "                    # # Model\n",
    "                    # for k in range(1, l + 1):\n",
    "                    #     V = propagate(rs, a_fit, Vh_ini, fcor_ini, dt=k * dt / l)\n",
    "                    #     plt.plot(rs / 1000, V, linestyle='dashed', c=clrs[k], label='MODEL, step {}'.format(k))\n",
    "                    plt.plot(rs / 1000, V, linestyle='dashed', c='orangered', label='MODEL')\n",
    "                    # V = propagate(rs, a_fit, Vh_ini, fcor_ini, dt=dt)\n",
    "                    # plt.plot(rs / 1000, V, c='orangered', linestyle='dashed', label='MODEL')\n",
    "                    # V2 = propagate(rs, a_fit, Vh_ini, fcor_ini, dt=dt/2)\n",
    "                    # plt.plot(rs / 1000, V2, c='orange', linestyle='dashed', label='MODEL mid-time')\n",
    "                    # Grids\n",
    "                    plt.grid();plt.legend(loc='upper right')\n",
    "                    plt.xlim(0, 300)\n",
    "                    plt.xlabel('r (km)')\n",
    "                    plt.ylabel('Wind speed (m/s)')\n",
    "\n",
    "                    # Save\n",
    "                    plt.savefig(PTHS['sav_dir'] + 'cases/{}_ini{}_fin{}'.format(tc_id, idx_ini, idx_fin));plt.clf()\n",
    "                                   \n",
    "dsf = xr.Dataset(\n",
    "    data_vars={\n",
    "        'tc_id':       ('pair', np.array(TC_IDS).astype(str)),\n",
    "        'idx_ini':     ('pair', IDXS_INI),\n",
    "        'idx_fin':     ('pair', IDXS_FIN),\n",
    "        'delta_h':     ('pair', DELTA_HS),\n",
    "        'a':           ('pair', AS),\n",
    "        'fcor_ini':    ('pair', FCRS_INI),\n",
    "        'fcor_fin':    ('pair', FCRS_FIN),\n",
    "        'vmx_ini':     ('pair', VMXS_INI),\n",
    "        'vmx_fin':     ('pair', VMXS_FIN),\n",
    "        'rmx_ini':     ('pair', RMXS_INI),\n",
    "        'rmx_fin':     ('pair', RMXS_FIN),\n",
    "        'Rp_ini':      ('pair', RPLS_INI),\n",
    "        'Rp_fin':      ('pair', RPLS_FIN),\n",
    "        'Rp_mod':      ('pair', RPLS_MOD),\n",
    "        'Vp_ini':      ('pair', VPLS_INI),\n",
    "        'Vp_fin':      ('pair', VPLS_FIN),\n",
    "        'Hp':          ('pair', HPLS),\n",
    "        'dMp':         ('pair', DMPLS),\n",
    "        'dMp_fin':     ('pair', DMPLS_FIN),\n",
    "        'B_hol':       ('pair', BHOLS),\n",
    "        'rmse':        ('pair', RMSES),\n",
    "        'rmse_prs':    ('pair', RMSES_PRS),\n",
    "        'rel_err':     (('pair', 'r*'), REL_ERRS),\n",
    "        'rel_err_prs': (('pair', 'r*'), REL_ERRS_PRS),\n",
    "    }\n",
    ")"
   ]
  },
  {
   "cell_type": "code",
   "execution_count": null,
   "metadata": {},
   "outputs": [],
   "source": []
  },
  {
   "cell_type": "code",
   "execution_count": null,
   "metadata": {},
   "outputs": [],
   "source": []
  }
 ],
 "metadata": {
  "kernelspec": {
   "display_name": "paramProfiles",
   "language": "python",
   "name": "paramprofiles"
  },
  "language_info": {
   "codemirror_mode": {
    "name": "ipython",
    "version": 3
   },
   "file_extension": ".py",
   "mimetype": "text/x-python",
   "name": "python",
   "nbconvert_exporter": "python",
   "pygments_lexer": "ipython3",
   "version": "3.8.15"
  }
 },
 "nbformat": 4,
 "nbformat_minor": 4
}
