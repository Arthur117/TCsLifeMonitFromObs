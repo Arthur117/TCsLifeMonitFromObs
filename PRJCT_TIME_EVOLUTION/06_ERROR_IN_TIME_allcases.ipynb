{
 "cells": [
  {
   "cell_type": "markdown",
   "metadata": {},
   "source": [
    "## 6) ERROR IN TIME - All cases\n",
    "\n",
    "TODO: Propagate to match exact SAR time"
   ]
  },
  {
   "cell_type": "code",
   "execution_count": 2,
   "metadata": {},
   "outputs": [],
   "source": [
    "# General\n",
    "import glob\n",
    "import re\n",
    "import os.path\n",
    "import warnings\n",
    "# warnings.filterwarnings('ignore')\n",
    "from tqdm.notebook import tqdm\n",
    "import copy\n",
    "\n",
    "# Arrays & Displays\n",
    "import xarray as xr\n",
    "import numpy as np\n",
    "import matplotlib as mpl\n",
    "import matplotlib.pyplot as plt\n",
    "import matplotlib.cm as cm\n",
    "import pandas as pd\n",
    "from matplotlib.gridspec import GridSpec\n",
    "from matplotlib.colors import LinearSegmentedColormap\n",
    "\n",
    "# Data treatment\n",
    "from datetime import datetime\n",
    "from scipy.optimize import curve_fit\n",
    "\n",
    "# Statistics\n",
    "from sklearn import linear_model, neighbors\n",
    "from pykalman import KalmanFilter\n",
    "\n",
    "# Default parameters\n",
    "mpl.rcParams.update({'font.size': 18})\n",
    "mpl.rcParams['figure.figsize'] = (15, 10)\n",
    "mpl.rcParams['axes.facecolor'] = 'white'\n",
    "mpl.rcParams['figure.facecolor'] = 'white'"
   ]
  },
  {
   "cell_type": "code",
   "execution_count": 3,
   "metadata": {},
   "outputs": [],
   "source": [
    "PRMS = {\n",
    "    'n':              5, # R+ is defined as omega(R+) = n * f\n",
    "    'sav_fgs':        False,\n",
    "    'sav_dat':        False,\n",
    "    'sav_css':        False,  # If True, save individual cases (for debugging)\n",
    "}\n",
    "\n",
    "PTHS = {\n",
    "    'dsg_pth':         '/home/arthur/data/cyclobs/SAR_compilations_in_nc/SAR_centered_rotated_files_13052022_with_extra_params.nc',\n",
    "    'sar_dir':         '/home/arthur/data/cyclobs/centered_rotated_files_31012022/',\n",
    "    'ibt_pth':         '/home/arthur/data/ibtracs/IBTrACS.ALL.v04r00.nc',\n",
    "    'sav_dir':         '/home/arthur/results/TCsLifeMonitFromObs/PRJCT_TIME_EVOLUTION/06_ERROR_IN_TIME/'\n",
    "}"
   ]
  },
  {
   "cell_type": "code",
   "execution_count": 4,
   "metadata": {},
   "outputs": [
    {
     "name": "stderr",
     "output_type": "stream",
     "text": [
      "/home/arthur/anaconda3/envs/paramProfiles/lib/python3.8/site-packages/xarray/backends/plugins.py:71: RuntimeWarning: Engine 'cfgrib' loading failed:\n",
      "/home/arthur/anaconda3/envs/paramProfiles/lib/python3.8/lib-dynload/../../libffi.so.8: version `LIBFFI_CLOSURE_7.0' not found (required by /home/arthur/anaconda3/envs/paramProfiles/lib/python3.8/site-packages/_cffi_backend.cpython-38-x86_64-linux-gnu.so)\n",
      "  warnings.warn(f\"Engine {name!r} loading failed:\\n{ex}\", RuntimeWarning)\n"
     ]
    }
   ],
   "source": [
    "### Open IBTrACS\n",
    "IBT_PRMS = {\n",
    "    'ibt_vars2keep':  ['usa_lon', 'usa_lat', 'usa_wind', 'usa_r34', 'usa_r50', 'usa_r64', 'usa_rmw', 'storm_speed', 'storm_dir', 'name', 'sid'],\n",
    "    'ibt_info2keep':  ['sid', 'basin', 'name', 'usa_atcf_id', 'usa_agency', 'iso_time', 'usa_status'],\n",
    "}\n",
    "\n",
    "ds_ibt_raw = xr.open_dataset(PTHS['ibt_pth'])\n",
    "ds_ibt     = ds_ibt_raw[IBT_PRMS['ibt_vars2keep']]\n",
    "ds_ibt[IBT_PRMS['ibt_info2keep']] = ds_ibt_raw[IBT_PRMS['ibt_info2keep']].astype(str, copy=False) # Convert byte arrays to strings\n",
    "\n",
    "start_date = np.datetime64('2010-01-01')\n",
    "fsi        = np.nanargmin(np.abs(ds_ibt['time'][:, 0] - start_date)) # First storm index\n",
    "end_date   = np.datetime64('2023-01-01')\n",
    "lsi        = np.nanargmin(np.abs(ds_ibt['time'][:, 0] - end_date))   # Last storm index\n",
    "ds_ibt     = ds_ibt.isel(storm=slice(fsi, lsi + 1))\n",
    "\n",
    "### CONVERSIONS\n",
    "# Convert to m/s and km units\n",
    "ds_ibt['usa_wind']    *= 0.5144\n",
    "ds_ibt['storm_speed'] *= 0.5144\n",
    "ds_ibt['usa_r34']     *= 1.852\n",
    "ds_ibt['usa_r50']     *= 1.852\n",
    "ds_ibt['usa_r64']     *= 1.852\n",
    "ds_ibt['usa_rmw']     *= 1.852"
   ]
  },
  {
   "cell_type": "code",
   "execution_count": 5,
   "metadata": {},
   "outputs": [],
   "source": [
    "# In order to compute SAR R+\n",
    "# Otherwise I would need to fit a Holland profile before\n",
    "dsr = xr.open_dataset('/home/arthur/results/TCsLifeMonitFromObs/PRJCT_STEADY_STATE_CRIT/03_CHARAC_RADIUS/dsg_rpls.nc')"
   ]
  },
  {
   "cell_type": "markdown",
   "metadata": {},
   "source": [
    "### 1) Functions and model"
   ]
  },
  {
   "cell_type": "code",
   "execution_count": 6,
   "metadata": {},
   "outputs": [],
   "source": [
    "# COLORMAP\n",
    "colors = [mpl.colors.to_rgb('k'), mpl.colors.to_rgb('orangered')] # first color is black, last is red\n",
    "cm     = LinearSegmentedColormap.from_list(\"Custom\", colors, N=20)"
   ]
  },
  {
   "cell_type": "code",
   "execution_count": 98,
   "metadata": {},
   "outputs": [],
   "source": [
    "### RESOLUTION\n",
    "rs = np.linspace(10, 900000, 90000)\n",
    "dr = 10 # meters\n",
    "\n",
    "### FUNCTIONS\n",
    "def coriolis(lat):\n",
    "    '''Latitude must be in degrees.'''\n",
    "    Omega = 7.2921e-5                            # Earth rotation vector\n",
    "    fcor  = 2 * Omega * np.sin(lat * np.pi / 180) # Coriolis parameter at 20° latitude and assuming it's constant \n",
    "    return fcor\n",
    "\n",
    "def holland_profile(r, lat, pn, pc, Vmin, Rmax, Vmax):\n",
    "    '''We assume that rho is constant and equals 1.15 kg.m-3'''\n",
    "    fcor  = abs(coriolis(lat))\n",
    "    rho   = 1.15\n",
    "    B     = ((Vmax - Vmin) ** 2) * rho * np.e / (pn - pc)\n",
    "    A     = Rmax ** B\n",
    "    \n",
    "    r     = r.astype(float) + 0.001 # To avoid dividing by zero\n",
    "    V     = r * 0.\n",
    "    V     = Vmin + np.sqrt(A * B * (pn - pc) * np.exp((-1) * A / (r ** B)) / (rho * r ** B) + (r ** 2 * fcor ** 2) / 4) - (r * fcor / 2)\n",
    "    return V\n",
    "\n",
    "def vorticity(r, v):\n",
    "    '''Relative vorticity'''\n",
    "    return (1 / r) * np.gradient(r * v, dr)\n",
    "\n",
    "def N(r, M):\n",
    "    '''Rotational stability frequency'''\n",
    "    N2 = np.gradient(M ** 2, dr) / (r ** 3)\n",
    "    return np.sqrt(N2)\n",
    "\n",
    "def v_k10(v0, t, lbda=None):\n",
    "    # Initial\n",
    "    v          = np.zeros_like(v0.rad)                     # Raw v0\n",
    "    v_prop_in  = v0.interp({'rad': v0.rad * np.exp(t)})    # Inner-core: v0 interpolated on r * e^t\n",
    "    with warnings.catch_warnings():\n",
    "        warnings.simplefilter('ignore', category=RuntimeWarning)\n",
    "        nr_term    = np.sqrt(1 + 2 * (np.log(v0.rad) + t)) # Near-core (1)\n",
    "    v_prop_nr  = v0.interp({'rad': nr_term})               # Near-core (2)\n",
    "    ou_term    = np.sqrt(v0.rad ** 2 + 2 * t)              # Outer-core (1)\n",
    "    v_prop_ou  = v0.interp({'rad': ou_term})               # Outer-core (2)\n",
    "    \n",
    "    # No friction\n",
    "    if lbda is None:\n",
    "        vin        = v_prop_in * np.exp(t) + v0.rad * (np.exp(2 * t) - 1) / 2                                      # Inner-core\n",
    "        vnr        = nr_term * v_prop_nr / v0.rad + (1 - v0.rad ** 2) / (2 * v0.rad) + np.log(v0.rad) / v0.rad + t / v0.rad # Near-core\n",
    "        vou        = ou_term * v_prop_ou / v0.rad + t / v0.rad                                                     # Outer-core\n",
    "        \n",
    "    # Friction\n",
    "    else:\n",
    "        vin        = v_prop_in * np.exp((1 - lbda) * t) + v0.rad * (1 - np.exp((2 - lbda) * t)) / (lbda - 2)      # Inner-core\n",
    "        vnr        = nr_term * v_prop_nr * np.exp(-lbda * t) / v0.rad + (lbda * v0.rad ** 2 - 2 * v0.rad ** lbda) / (lbda * v0.rad * (lbda - 2)) - np.exp(-lbda * t) / (lbda * v0.rad)\n",
    "        vou        = ou_term * v_prop_ou * np.exp(-lbda * t) / v0.rad + (1 - np.exp(-lbda * t)) / (lbda * v0.rad) # Outer-core\n",
    "\n",
    "    # Declare final output\n",
    "    bd              = np.exp(-t)\n",
    "    v[v0.rad < bd]  = vin[v0.rad < bd]\n",
    "    v[v0.rad >= bd] = vnr[v0.rad >= bd]\n",
    "    v[v0.rad >= 1]  = vou[v0.rad >= 1]\n",
    "    \n",
    "    return v\n",
    "\n",
    "def compute_RV_plus(r, V, fcor, n=5):\n",
    "    # Compute R+\n",
    "    rm       = r[np.nanargmax(V)]\n",
    "    out      = r > rm          # To find outer-core\n",
    "    r        = r[out]\n",
    "    V        = V[out]\n",
    "    vrt      = vorticity(r, V) # Relative vorticity\n",
    "    vrt_plan = fcor            # Planetary vorticity\n",
    "\n",
    "    try: \n",
    "        R_plus = r[abs(vrt - n * vrt_plan) < 1e-6][0] # R+\n",
    "        V_plus = V[r >= R_plus][0]\n",
    "    except IndexError:\n",
    "        print('Error: R+ non defined.')\n",
    "        R_plus = V_plus = np.nan\n",
    "    \n",
    "    return R_plus, V_plus\n",
    "\n",
    "##############################\n",
    "### SMOOTHING WITH HOLLAND ###\n",
    "##############################\n",
    "\n",
    "def get_valid_radii(r, V):\n",
    "    '''Given the wind profile V, returns the largest radius (and asociated V) on which the profile can be fitted. \n",
    "    Indeed, sometimes V isn't defined from r = 0 to r = 500, in this case the largest domain is taken instead.'''\n",
    "    # Initialize first and last indexes\n",
    "    first_valid_index = 0\n",
    "    last_valid_index  = len(r)\n",
    "    \n",
    "    ### Lower bound\n",
    "    # We change it if V[0] = nan\n",
    "    if np.isnan(V[0]):\n",
    "        first_valid_index = np.min(np.where(np.isfinite(V)))\n",
    "        \n",
    "    ### Upper bound\n",
    "    # We change it if there is a nan somewhere\n",
    "    if np.count_nonzero(np.isnan(V[first_valid_index:])) > 0:\n",
    "        last_valid_index  = np.min(np.where(np.isnan(V[first_valid_index:]))[0])# returns the index of the last valid value before the first nan\n",
    "        last_valid_index += first_valid_index - 1\n",
    "        \n",
    "        \n",
    "    # Define r and spdm\n",
    "    r = r[first_valid_index:last_valid_index]\n",
    "    V = V[first_valid_index:last_valid_index]\n",
    "    \n",
    "    return r, V\n",
    "\n",
    "def holland_profile2(r, fcor, B, Vmin, Rmax, Vmax):\n",
    "    '''We assume that rho is constant and equals 1.15 kg.m-3'''\n",
    "    rho    = 1.15\n",
    "\n",
    "    r      = r.astype(float) + 0.001 # To avoid dividing by zero\n",
    "    r_star = (Rmax / r) ** B\n",
    "    V      = r * 0.\n",
    "    V      = Vmin + np.sqrt(((Vmax - Vmin) ** 2) * r_star * np.exp(1 - r_star) + (r * fcor / 2) ** 2) - (r * fcor / 2)\n",
    "    return V\n",
    "\n",
    "def fit_holland2(r, spdm, fcor, B, Vmin, Rmax, Vmax):\n",
    "    '''Fit the Holland profile given initial values of lat, pn, pc, Vmin, Rmax and Vmax.\n",
    "    Returns the optimal parameters found with curve_fit()'''\n",
    "    # Define the bounds\n",
    "    BOUNDS = {\n",
    "        'B':    [1, 3],\n",
    "        'Vmin': [0, 50],\n",
    "        'Rmax': [5 * 1000, 500 * 1000],\n",
    "        'Vmax': [10, 100]\n",
    "        } \n",
    "    # Don't take std into account\n",
    "    sigma = None\n",
    "    # Fit\n",
    "    popt, pcov = curve_fit(\n",
    "        lambda r, B, Vmin, Rmax, Vmax: holland_profile2(r, fcor, B, Vmin, Rmax, Vmax), \n",
    "        r, \n",
    "        spdm, \n",
    "        p0=[B, Vmin, Rmax, Vmax], \n",
    "        bounds=(tuple([BOUNDS[e][0] for e in BOUNDS.keys()]), # NB: lat is fixed\n",
    "                tuple([BOUNDS[e][1] for e in BOUNDS.keys()])\n",
    "               ) \n",
    "    ) \n",
    "    return popt, pcov\n",
    "\n",
    "def smooth_with_holland(r, V, fcor):\n",
    "    # Initialize Holland\n",
    "    B_guess = 1.8\n",
    "    vmx     = np.nanmax(V)\n",
    "    rmx     = r[np.nanargmax(V)]\n",
    "    vmn     = np.nanmin(V)\n",
    "    \n",
    "    # Get valid domain\n",
    "    r_crop, V_crop = get_valid_radii(r, V)\n",
    "    \n",
    "    # Fit Holland\n",
    "    popt, _ = fit_holland2(r_crop, V_crop, fcor, B_guess, vmn, rmx, vmx)\n",
    "    V_fit   = holland_profile2(r, fcor, popt[0], popt[1], popt[2], popt[3])\n",
    "    \n",
    "    return V_fit\n",
    "\n",
    "################\n",
    "### FRICTION ###\n",
    "################\n",
    "\n",
    "def compute_lbda(r, V, fcor, R_plus, V_plus, gamma=1/40, Cd_plus=2e-3, K=10):\n",
    "    M_abs = r * V + 0.5 * fcor * (r ** 2)\n",
    "    M_rel = r * V\n",
    "        \n",
    "    left  = gamma * float(Cd_plus * (V_plus ** 2) * R_plus) / (fcor * M_abs)\n",
    "    right = np.sqrt(N(r, M_abs) / (2 * K))\n",
    "    lbda  = left * right\n",
    "    \n",
    "    return np.array(lbda)\n",
    "\n",
    "###################\n",
    "### CHARAC TIME ###\n",
    "###################\n",
    "\n",
    "def compute_tau_recirculation(r, V, fcor):\n",
    "    vmx = np.nanmax(V)\n",
    "    rmx = r[np.nanargmax(V)]\n",
    "    r0  = np.sqrt(2 * vmx / (fcor * rmx)) * rmx\n",
    "    v0  = V[r >= r0][0]\n",
    "    return (r0 / v0) / 3600\n",
    "\n",
    "#############\n",
    "### MODEL ###\n",
    "#############\n",
    "\n",
    "def propagate_V(r, V_ini, fcor_ini, dt, K=20, gamma=1/40, Cd_plus=2.5e-3):    \n",
    "    # Characteristic scales\n",
    "    R_plus, V_plus = compute_RV_plus(r, V_ini, fcor_ini, PRMS['n'])\n",
    "    L              = R_plus\n",
    "\n",
    "    # Compute lambda USING a Holland parametric profile (else noise appears during computation and is amplified in the iterations)\n",
    "    V_hol = smooth_with_holland(r, V_ini, fcor_ini)\n",
    "    lbda  = compute_lbda(r, V_hol, fcor_ini, R_plus, V_plus, gamma, Cd_plus, K) # non-dimensional\n",
    "\n",
    "    # Normalize\n",
    "    V_nrm = xr.DataArray(\n",
    "        data=V_ini / (fcor_ini * L),\n",
    "        coords={'rad': r / L}\n",
    "    )\n",
    "\n",
    "    # Apply KK10\n",
    "    V = v_k10(V_nrm, t=dt, lbda=lbda) * fcor_ini * L # dimensional\n",
    "    \n",
    "    return V\n",
    "\n",
    "def binary_search(r, V_ini, fcors, vmxs, time_ini, K_low=0, K_hgh=100):\n",
    "    # Debug\n",
    "    vmx_ini  = float(vmxs.dropna(dim='time').interp(coords={'time': time_ini}))\n",
    "    # print('Vmax ini = {:.1f} m/s'.format(vmx_ini))\n",
    "\n",
    "    # Compute dt\n",
    "    fcor_ini = float(fcors.dropna(dim='time').interp(coords={'time': time_ini}))\n",
    "    tau1     = (1 / fcor_ini) / 3600\n",
    "    tau2     = compute_tau_recirculation(r, V_ini, fcor_ini) # Compute R0/V0\n",
    "    # tau2     = compute_tau_recirculation(r, V_ini, fcor_ini) / 2 # Compute R0/V0\n",
    "    dt       = tau2 / tau1\n",
    "    \n",
    "    # Compute Vmax to reach\n",
    "    vmx_fin  = float(vmxs.dropna(dim='time').interp(coords={'time': time_ini + np.timedelta64(int(tau2 * 3600), 's')}))\n",
    "    # print('Vmax fin = {:.1f} m/s'.format(vmx_fin))\n",
    "    \n",
    "    # Initialization of binary search\n",
    "    err    = 999\n",
    "    last_K = 999\n",
    "    \n",
    "    # Accepted error on Vmax is 1 m/s\n",
    "    while abs(err) > 1:\n",
    "        K_mid = (K_hgh + K_low) // 2\n",
    "        # print(K_mid)\n",
    "        \n",
    "        # Raise Error if K_mid = 0\n",
    "        if K_mid == 0:\n",
    "            raise KfitError\n",
    "\n",
    "        # Compute model and error\n",
    "        V        = propagate_V(r, V_ini, fcor_ini, dt, K=K_mid)\n",
    "        err      = np.nanmax(V) - vmx_fin\n",
    "        # plt.plot(r, V)\n",
    "\n",
    "        if err > 0:\n",
    "            K_hgh = K_mid - 1\n",
    "        else:\n",
    "            K_low = K_mid + 1\n",
    "        \n",
    "        if K_mid == last_K:\n",
    "            err = 0\n",
    "        last_K = K_mid\n",
    "            \n",
    "    return V, K_mid, tau2\n",
    "\n",
    "def run_model_until(r, V_ini, fcors, vmxs, time_ini, time_fin):\n",
    "    # Initialize\n",
    "    vk10s = []\n",
    "    Ks    = []\n",
    "    times = []\n",
    "    time  = time_ini\n",
    "    vk10s.append(V_ini)\n",
    "    times.append(time_ini.values)\n",
    "    \n",
    "    # Iterate\n",
    "    while time < time_fin:\n",
    "        V, K, tau2 = binary_search(rs, vk10s[-1], fcors, vmxs, times[-1], K_low=0, K_hgh=100)\n",
    "        time      += np.timedelta64(int(tau2 * 3600), 's')\n",
    "        vk10s.append(V);Ks.append(K);times.append(time.values)\n",
    "        \n",
    "    return vk10s, Ks, times\n",
    "\n",
    "### K fit exception\n",
    "class KfitError(Exception):\n",
    "    \"Raised when Kfit = 0 in the binary search\"\n",
    "    pass"
   ]
  },
  {
   "cell_type": "markdown",
   "metadata": {},
   "source": [
    "### 2) Open SAR data"
   ]
  },
  {
   "cell_type": "code",
   "execution_count": 8,
   "metadata": {},
   "outputs": [
    {
     "name": "stdout",
     "output_type": "stream",
     "text": [
      "Nb of storms: 137\n",
      "SAR Mean Rmax = 30 km\n",
      "SAR Mean R64  = 57 km\n"
     ]
    }
   ],
   "source": [
    "dsg = xr.open_dataset(PTHS['dsg_pth'])\n",
    "\n",
    "### FILTER\n",
    "dsg = dsg.where(dsg.distance_to_coast > dsg.R17_1D * 1000, drop=True)\n",
    "dsg = dsg.where(abs(dsg.lat_center) < 30, drop=True)\n",
    "dsg = dsg.where(dsg.B_hol > 0.1, drop=True)\n",
    "dsg = dsg.where(dsg.Vmax_1D > 30, drop=True)\n",
    "print('Nb of storms: {}'.format(len(dsg.time)))\n",
    "\n",
    "print('SAR Mean Rmax = {:.0f} km'.format(dsg.Rmax_1D.mean()))\n",
    "print('SAR Mean R64  = {:.0f} km'.format(dsg.R33_1D.mean()))\n",
    "\n",
    "# Select IDs where there are at least 2 SAR images\n",
    "ids, cts  = np.unique(dsg.storm_id, return_counts=True)\n",
    "valid_ids = ids[cts > 1]\n",
    "# valid_cts = cts[cts > 1]"
   ]
  },
  {
   "cell_type": "code",
   "execution_count": null,
   "metadata": {},
   "outputs": [],
   "source": []
  },
  {
   "cell_type": "code",
   "execution_count": null,
   "metadata": {},
   "outputs": [],
   "source": []
  },
  {
   "cell_type": "code",
   "execution_count": 43,
   "metadata": {},
   "outputs": [],
   "source": [
    "# Open profiles\n",
    "DSs = dsg.mean(dim='theta', skipna=True)\n",
    "DS  = {} # Datasets\n",
    "VHS = {} # Holland profiles\n",
    "for k, p in enumerate([p1dsg, p2dsg, p3dsg, p4dsg, p5dsg, p6dsg]):\n",
    "    DS[str(k)]  = DSs.where(DSs.sat_file == p, drop=True).isel(time=0)\n",
    "    VHS[str(k)] = holland_profile(rs, float(abs(DS[str(k)].lat_center)), float(DS[str(k)].pn_hol), float(DS[str(k)].pc_hol), float(DS[str(k)].Vmin_hol), float(DS[str(k)].Rmax_hol), float(DS[str(k)].Vmax_hol))\n",
    "    \n",
    "# Initialize Model profiles\n",
    "VK10S = {} # Analytical profiles\n",
    "DTS   = {} # Recirculation time (= Model update time)"
   ]
  },
  {
   "cell_type": "code",
   "execution_count": null,
   "metadata": {},
   "outputs": [],
   "source": []
  },
  {
   "cell_type": "code",
   "execution_count": 50,
   "metadata": {},
   "outputs": [
    {
     "data": {
      "text/html": [
       "<div><svg style=\"position: absolute; width: 0; height: 0; overflow: hidden\">\n",
       "<defs>\n",
       "<symbol id=\"icon-database\" viewBox=\"0 0 32 32\">\n",
       "<path d=\"M16 0c-8.837 0-16 2.239-16 5v4c0 2.761 7.163 5 16 5s16-2.239 16-5v-4c0-2.761-7.163-5-16-5z\"></path>\n",
       "<path d=\"M16 17c-8.837 0-16-2.239-16-5v6c0 2.761 7.163 5 16 5s16-2.239 16-5v-6c0 2.761-7.163 5-16 5z\"></path>\n",
       "<path d=\"M16 26c-8.837 0-16-2.239-16-5v6c0 2.761 7.163 5 16 5s16-2.239 16-5v-6c0 2.761-7.163 5-16 5z\"></path>\n",
       "</symbol>\n",
       "<symbol id=\"icon-file-text2\" viewBox=\"0 0 32 32\">\n",
       "<path d=\"M28.681 7.159c-0.694-0.947-1.662-2.053-2.724-3.116s-2.169-2.030-3.116-2.724c-1.612-1.182-2.393-1.319-2.841-1.319h-15.5c-1.378 0-2.5 1.121-2.5 2.5v27c0 1.378 1.122 2.5 2.5 2.5h23c1.378 0 2.5-1.122 2.5-2.5v-19.5c0-0.448-0.137-1.23-1.319-2.841zM24.543 5.457c0.959 0.959 1.712 1.825 2.268 2.543h-4.811v-4.811c0.718 0.556 1.584 1.309 2.543 2.268zM28 29.5c0 0.271-0.229 0.5-0.5 0.5h-23c-0.271 0-0.5-0.229-0.5-0.5v-27c0-0.271 0.229-0.5 0.5-0.5 0 0 15.499-0 15.5 0v7c0 0.552 0.448 1 1 1h7v19.5z\"></path>\n",
       "<path d=\"M23 26h-14c-0.552 0-1-0.448-1-1s0.448-1 1-1h14c0.552 0 1 0.448 1 1s-0.448 1-1 1z\"></path>\n",
       "<path d=\"M23 22h-14c-0.552 0-1-0.448-1-1s0.448-1 1-1h14c0.552 0 1 0.448 1 1s-0.448 1-1 1z\"></path>\n",
       "<path d=\"M23 18h-14c-0.552 0-1-0.448-1-1s0.448-1 1-1h14c0.552 0 1 0.448 1 1s-0.448 1-1 1z\"></path>\n",
       "</symbol>\n",
       "</defs>\n",
       "</svg>\n",
       "<style>/* CSS stylesheet for displaying xarray objects in jupyterlab.\n",
       " *\n",
       " */\n",
       "\n",
       ":root {\n",
       "  --xr-font-color0: var(--jp-content-font-color0, rgba(0, 0, 0, 1));\n",
       "  --xr-font-color2: var(--jp-content-font-color2, rgba(0, 0, 0, 0.54));\n",
       "  --xr-font-color3: var(--jp-content-font-color3, rgba(0, 0, 0, 0.38));\n",
       "  --xr-border-color: var(--jp-border-color2, #e0e0e0);\n",
       "  --xr-disabled-color: var(--jp-layout-color3, #bdbdbd);\n",
       "  --xr-background-color: var(--jp-layout-color0, white);\n",
       "  --xr-background-color-row-even: var(--jp-layout-color1, white);\n",
       "  --xr-background-color-row-odd: var(--jp-layout-color2, #eeeeee);\n",
       "}\n",
       "\n",
       "html[theme=dark],\n",
       "body[data-theme=dark],\n",
       "body.vscode-dark {\n",
       "  --xr-font-color0: rgba(255, 255, 255, 1);\n",
       "  --xr-font-color2: rgba(255, 255, 255, 0.54);\n",
       "  --xr-font-color3: rgba(255, 255, 255, 0.38);\n",
       "  --xr-border-color: #1F1F1F;\n",
       "  --xr-disabled-color: #515151;\n",
       "  --xr-background-color: #111111;\n",
       "  --xr-background-color-row-even: #111111;\n",
       "  --xr-background-color-row-odd: #313131;\n",
       "}\n",
       "\n",
       ".xr-wrap {\n",
       "  display: block !important;\n",
       "  min-width: 300px;\n",
       "  max-width: 700px;\n",
       "}\n",
       "\n",
       ".xr-text-repr-fallback {\n",
       "  /* fallback to plain text repr when CSS is not injected (untrusted notebook) */\n",
       "  display: none;\n",
       "}\n",
       "\n",
       ".xr-header {\n",
       "  padding-top: 6px;\n",
       "  padding-bottom: 6px;\n",
       "  margin-bottom: 4px;\n",
       "  border-bottom: solid 1px var(--xr-border-color);\n",
       "}\n",
       "\n",
       ".xr-header > div,\n",
       ".xr-header > ul {\n",
       "  display: inline;\n",
       "  margin-top: 0;\n",
       "  margin-bottom: 0;\n",
       "}\n",
       "\n",
       ".xr-obj-type,\n",
       ".xr-array-name {\n",
       "  margin-left: 2px;\n",
       "  margin-right: 10px;\n",
       "}\n",
       "\n",
       ".xr-obj-type {\n",
       "  color: var(--xr-font-color2);\n",
       "}\n",
       "\n",
       ".xr-sections {\n",
       "  padding-left: 0 !important;\n",
       "  display: grid;\n",
       "  grid-template-columns: 150px auto auto 1fr 20px 20px;\n",
       "}\n",
       "\n",
       ".xr-section-item {\n",
       "  display: contents;\n",
       "}\n",
       "\n",
       ".xr-section-item input {\n",
       "  display: none;\n",
       "}\n",
       "\n",
       ".xr-section-item input + label {\n",
       "  color: var(--xr-disabled-color);\n",
       "}\n",
       "\n",
       ".xr-section-item input:enabled + label {\n",
       "  cursor: pointer;\n",
       "  color: var(--xr-font-color2);\n",
       "}\n",
       "\n",
       ".xr-section-item input:enabled + label:hover {\n",
       "  color: var(--xr-font-color0);\n",
       "}\n",
       "\n",
       ".xr-section-summary {\n",
       "  grid-column: 1;\n",
       "  color: var(--xr-font-color2);\n",
       "  font-weight: 500;\n",
       "}\n",
       "\n",
       ".xr-section-summary > span {\n",
       "  display: inline-block;\n",
       "  padding-left: 0.5em;\n",
       "}\n",
       "\n",
       ".xr-section-summary-in:disabled + label {\n",
       "  color: var(--xr-font-color2);\n",
       "}\n",
       "\n",
       ".xr-section-summary-in + label:before {\n",
       "  display: inline-block;\n",
       "  content: '►';\n",
       "  font-size: 11px;\n",
       "  width: 15px;\n",
       "  text-align: center;\n",
       "}\n",
       "\n",
       ".xr-section-summary-in:disabled + label:before {\n",
       "  color: var(--xr-disabled-color);\n",
       "}\n",
       "\n",
       ".xr-section-summary-in:checked + label:before {\n",
       "  content: '▼';\n",
       "}\n",
       "\n",
       ".xr-section-summary-in:checked + label > span {\n",
       "  display: none;\n",
       "}\n",
       "\n",
       ".xr-section-summary,\n",
       ".xr-section-inline-details {\n",
       "  padding-top: 4px;\n",
       "  padding-bottom: 4px;\n",
       "}\n",
       "\n",
       ".xr-section-inline-details {\n",
       "  grid-column: 2 / -1;\n",
       "}\n",
       "\n",
       ".xr-section-details {\n",
       "  display: none;\n",
       "  grid-column: 1 / -1;\n",
       "  margin-bottom: 5px;\n",
       "}\n",
       "\n",
       ".xr-section-summary-in:checked ~ .xr-section-details {\n",
       "  display: contents;\n",
       "}\n",
       "\n",
       ".xr-array-wrap {\n",
       "  grid-column: 1 / -1;\n",
       "  display: grid;\n",
       "  grid-template-columns: 20px auto;\n",
       "}\n",
       "\n",
       ".xr-array-wrap > label {\n",
       "  grid-column: 1;\n",
       "  vertical-align: top;\n",
       "}\n",
       "\n",
       ".xr-preview {\n",
       "  color: var(--xr-font-color3);\n",
       "}\n",
       "\n",
       ".xr-array-preview,\n",
       ".xr-array-data {\n",
       "  padding: 0 5px !important;\n",
       "  grid-column: 2;\n",
       "}\n",
       "\n",
       ".xr-array-data,\n",
       ".xr-array-in:checked ~ .xr-array-preview {\n",
       "  display: none;\n",
       "}\n",
       "\n",
       ".xr-array-in:checked ~ .xr-array-data,\n",
       ".xr-array-preview {\n",
       "  display: inline-block;\n",
       "}\n",
       "\n",
       ".xr-dim-list {\n",
       "  display: inline-block !important;\n",
       "  list-style: none;\n",
       "  padding: 0 !important;\n",
       "  margin: 0;\n",
       "}\n",
       "\n",
       ".xr-dim-list li {\n",
       "  display: inline-block;\n",
       "  padding: 0;\n",
       "  margin: 0;\n",
       "}\n",
       "\n",
       ".xr-dim-list:before {\n",
       "  content: '(';\n",
       "}\n",
       "\n",
       ".xr-dim-list:after {\n",
       "  content: ')';\n",
       "}\n",
       "\n",
       ".xr-dim-list li:not(:last-child):after {\n",
       "  content: ',';\n",
       "  padding-right: 5px;\n",
       "}\n",
       "\n",
       ".xr-has-index {\n",
       "  font-weight: bold;\n",
       "}\n",
       "\n",
       ".xr-var-list,\n",
       ".xr-var-item {\n",
       "  display: contents;\n",
       "}\n",
       "\n",
       ".xr-var-item > div,\n",
       ".xr-var-item label,\n",
       ".xr-var-item > .xr-var-name span {\n",
       "  background-color: var(--xr-background-color-row-even);\n",
       "  margin-bottom: 0;\n",
       "}\n",
       "\n",
       ".xr-var-item > .xr-var-name:hover span {\n",
       "  padding-right: 5px;\n",
       "}\n",
       "\n",
       ".xr-var-list > li:nth-child(odd) > div,\n",
       ".xr-var-list > li:nth-child(odd) > label,\n",
       ".xr-var-list > li:nth-child(odd) > .xr-var-name span {\n",
       "  background-color: var(--xr-background-color-row-odd);\n",
       "}\n",
       "\n",
       ".xr-var-name {\n",
       "  grid-column: 1;\n",
       "}\n",
       "\n",
       ".xr-var-dims {\n",
       "  grid-column: 2;\n",
       "}\n",
       "\n",
       ".xr-var-dtype {\n",
       "  grid-column: 3;\n",
       "  text-align: right;\n",
       "  color: var(--xr-font-color2);\n",
       "}\n",
       "\n",
       ".xr-var-preview {\n",
       "  grid-column: 4;\n",
       "}\n",
       "\n",
       ".xr-index-preview {\n",
       "  grid-column: 2 / 5;\n",
       "  color: var(--xr-font-color2);\n",
       "}\n",
       "\n",
       ".xr-var-name,\n",
       ".xr-var-dims,\n",
       ".xr-var-dtype,\n",
       ".xr-preview,\n",
       ".xr-attrs dt {\n",
       "  white-space: nowrap;\n",
       "  overflow: hidden;\n",
       "  text-overflow: ellipsis;\n",
       "  padding-right: 10px;\n",
       "}\n",
       "\n",
       ".xr-var-name:hover,\n",
       ".xr-var-dims:hover,\n",
       ".xr-var-dtype:hover,\n",
       ".xr-attrs dt:hover {\n",
       "  overflow: visible;\n",
       "  width: auto;\n",
       "  z-index: 1;\n",
       "}\n",
       "\n",
       ".xr-var-attrs,\n",
       ".xr-var-data,\n",
       ".xr-index-data {\n",
       "  display: none;\n",
       "  background-color: var(--xr-background-color) !important;\n",
       "  padding-bottom: 5px !important;\n",
       "}\n",
       "\n",
       ".xr-var-attrs-in:checked ~ .xr-var-attrs,\n",
       ".xr-var-data-in:checked ~ .xr-var-data,\n",
       ".xr-index-data-in:checked ~ .xr-index-data {\n",
       "  display: block;\n",
       "}\n",
       "\n",
       ".xr-var-data > table {\n",
       "  float: right;\n",
       "}\n",
       "\n",
       ".xr-var-name span,\n",
       ".xr-var-data,\n",
       ".xr-index-name div,\n",
       ".xr-index-data,\n",
       ".xr-attrs {\n",
       "  padding-left: 25px !important;\n",
       "}\n",
       "\n",
       ".xr-attrs,\n",
       ".xr-var-attrs,\n",
       ".xr-var-data,\n",
       ".xr-index-data {\n",
       "  grid-column: 1 / -1;\n",
       "}\n",
       "\n",
       "dl.xr-attrs {\n",
       "  padding: 0;\n",
       "  margin: 0;\n",
       "  display: grid;\n",
       "  grid-template-columns: 125px auto;\n",
       "}\n",
       "\n",
       ".xr-attrs dt,\n",
       ".xr-attrs dd {\n",
       "  padding: 0;\n",
       "  margin: 0;\n",
       "  float: left;\n",
       "  padding-right: 10px;\n",
       "  width: auto;\n",
       "}\n",
       "\n",
       ".xr-attrs dt {\n",
       "  font-weight: normal;\n",
       "  grid-column: 1;\n",
       "}\n",
       "\n",
       ".xr-attrs dt:hover span {\n",
       "  display: inline-block;\n",
       "  background: var(--xr-background-color);\n",
       "  padding-right: 10px;\n",
       "}\n",
       "\n",
       ".xr-attrs dd {\n",
       "  grid-column: 2;\n",
       "  white-space: pre-wrap;\n",
       "  word-break: break-all;\n",
       "}\n",
       "\n",
       ".xr-icon-database,\n",
       ".xr-icon-file-text2,\n",
       ".xr-no-icon {\n",
       "  display: inline-block;\n",
       "  vertical-align: middle;\n",
       "  width: 1em;\n",
       "  height: 1.5em !important;\n",
       "  stroke-width: 0;\n",
       "  stroke: currentColor;\n",
       "  fill: currentColor;\n",
       "}\n",
       "</style><pre class='xr-text-repr-fallback'>&lt;xarray.DataArray &#x27;time&#x27; ()&gt;\n",
       "array(&#x27;2021-09-05T21:34:54.000000000&#x27;, dtype=&#x27;datetime64[ns]&#x27;)\n",
       "Coordinates:\n",
       "    time     datetime64[ns] 2021-09-05T21:34:54</pre><div class='xr-wrap' style='display:none'><div class='xr-header'><div class='xr-obj-type'>xarray.DataArray</div><div class='xr-array-name'>'time'</div></div><ul class='xr-sections'><li class='xr-section-item'><div class='xr-array-wrap'><input id='section-a47c09ff-a380-460f-80ce-56d35cfe90aa' class='xr-array-in' type='checkbox' checked><label for='section-a47c09ff-a380-460f-80ce-56d35cfe90aa' title='Show/hide data repr'><svg class='icon xr-icon-database'><use xlink:href='#icon-database'></use></svg></label><div class='xr-array-preview xr-preview'><span>2021-09-05T21:34:54</span></div><div class='xr-array-data'><pre>array(&#x27;2021-09-05T21:34:54.000000000&#x27;, dtype=&#x27;datetime64[ns]&#x27;)</pre></div></div></li><li class='xr-section-item'><input id='section-6f9a2b48-71a0-44a9-889b-26ee54540870' class='xr-section-summary-in' type='checkbox'  checked><label for='section-6f9a2b48-71a0-44a9-889b-26ee54540870' class='xr-section-summary' >Coordinates: <span>(1)</span></label><div class='xr-section-inline-details'></div><div class='xr-section-details'><ul class='xr-var-list'><li class='xr-var-item'><div class='xr-var-name'><span>time</span></div><div class='xr-var-dims'>()</div><div class='xr-var-dtype'>datetime64[ns]</div><div class='xr-var-preview xr-preview'>2021-09-05T21:34:54</div><input id='attrs-33d6d765-fdbe-4924-9cd4-df30735b9842' class='xr-var-attrs-in' type='checkbox' disabled><label for='attrs-33d6d765-fdbe-4924-9cd4-df30735b9842' title='Show/Hide attributes'><svg class='icon xr-icon-file-text2'><use xlink:href='#icon-file-text2'></use></svg></label><input id='data-0793ef17-0d1c-4149-95b0-b2d6b247386d' class='xr-var-data-in' type='checkbox'><label for='data-0793ef17-0d1c-4149-95b0-b2d6b247386d' title='Show/Hide data repr'><svg class='icon xr-icon-database'><use xlink:href='#icon-database'></use></svg></label><div class='xr-var-attrs'><dl class='xr-attrs'></dl></div><div class='xr-var-data'><pre>array(&#x27;2021-09-05T21:34:54.000000000&#x27;, dtype=&#x27;datetime64[ns]&#x27;)</pre></div></li></ul></div></li><li class='xr-section-item'><input id='section-6e0bb1c7-0c88-4466-a775-8dbc7ec7e0d2' class='xr-section-summary-in' type='checkbox' disabled ><label for='section-6e0bb1c7-0c88-4466-a775-8dbc7ec7e0d2' class='xr-section-summary'  title='Expand/collapse section'>Indexes: <span>(0)</span></label><div class='xr-section-inline-details'></div><div class='xr-section-details'><ul class='xr-var-list'></ul></div></li><li class='xr-section-item'><input id='section-0a1b23c7-08cd-4229-a673-17fb455bbd8a' class='xr-section-summary-in' type='checkbox' disabled ><label for='section-0a1b23c7-08cd-4229-a673-17fb455bbd8a' class='xr-section-summary'  title='Expand/collapse section'>Attributes: <span>(0)</span></label><div class='xr-section-inline-details'></div><div class='xr-section-details'><dl class='xr-attrs'></dl></div></li></ul></div></div>"
      ],
      "text/plain": [
       "<xarray.DataArray 'time' ()>\n",
       "array('2021-09-05T21:34:54.000000000', dtype='datetime64[ns]')\n",
       "Coordinates:\n",
       "    time     datetime64[ns] 2021-09-05T21:34:54"
      ]
     },
     "execution_count": 50,
     "metadata": {},
     "output_type": "execute_result"
    }
   ],
   "source": []
  },
  {
   "cell_type": "code",
   "execution_count": 52,
   "metadata": {},
   "outputs": [],
   "source": []
  },
  {
   "cell_type": "code",
   "execution_count": 53,
   "metadata": {},
   "outputs": [
    {
     "data": {
      "text/plain": [
       "45.62126922607422"
      ]
     },
     "execution_count": 53,
     "metadata": {},
     "output_type": "execute_result"
    }
   ],
   "source": [
    "vmx_ibt_ini"
   ]
  },
  {
   "cell_type": "code",
   "execution_count": 54,
   "metadata": {},
   "outputs": [
    {
     "data": {
      "text/plain": [
       "35.4662223233117"
      ]
     },
     "execution_count": 54,
     "metadata": {},
     "output_type": "execute_result"
    }
   ],
   "source": []
  },
  {
   "cell_type": "code",
   "execution_count": null,
   "metadata": {},
   "outputs": [],
   "source": []
  },
  {
   "cell_type": "code",
   "execution_count": 101,
   "metadata": {},
   "outputs": [
    {
     "data": {
      "application/vnd.jupyter.widget-view+json": {
       "model_id": "2de0662924244d039872c5f1f9cb082f",
       "version_major": 2,
       "version_minor": 0
      },
      "text/plain": [
       "  0%|          | 0/31 [00:00<?, ?it/s]"
      ]
     },
     "metadata": {},
     "output_type": "display_data"
    },
    {
     "name": "stdout",
     "output_type": "stream",
     "text": [
      "al052019\n",
      "delta_h = 36.4h\n",
      "al122021\n"
     ]
    },
    {
     "name": "stderr",
     "output_type": "stream",
     "text": [
      "/tmp/ipykernel_17624/463004724.py:23: UserWarning: rename 'date_time' to 'time' does not create an index anymore. Try using swap_dims instead or use set_index after rename to create an indexed coordinate.\n",
      "  vmxs    = 0.6967 * dsi.usa_wind.rename({'date_time': 'time'}) + 6.1992\n",
      "/tmp/ipykernel_17624/463004724.py:24: UserWarning: rename 'date_time' to 'time' does not create an index anymore. Try using swap_dims instead or use set_index after rename to create an indexed coordinate.\n",
      "  fcors   = abs(coriolis(dsi.usa_lat)).rename({'date_time': 'time'})\n",
      "/tmp/ipykernel_17624/463004724.py:23: UserWarning: rename 'date_time' to 'time' does not create an index anymore. Try using swap_dims instead or use set_index after rename to create an indexed coordinate.\n",
      "  vmxs    = 0.6967 * dsi.usa_wind.rename({'date_time': 'time'}) + 6.1992\n",
      "/tmp/ipykernel_17624/463004724.py:24: UserWarning: rename 'date_time' to 'time' does not create an index anymore. Try using swap_dims instead or use set_index after rename to create an indexed coordinate.\n",
      "  fcors   = abs(coriolis(dsi.usa_lat)).rename({'date_time': 'time'})\n"
     ]
    },
    {
     "name": "stdout",
     "output_type": "stream",
     "text": [
      "delta_h = 36.7h\n",
      "delta_h = 48.5h\n",
      "delta_h = 72.6h\n",
      "delta_h = 84.9h\n",
      "delta_h = 11.8h\n",
      "delta_h = 35.9h\n",
      "delta_h = 48.2h\n",
      "delta_h = 24.1h\n",
      "delta_h = 36.4h\n",
      "ok\n",
      "delta_h = 12.3h\n",
      "al182021\n",
      "delta_h = 48.2h\n",
      "delta_h = 84.9h\n",
      "delta_h = 96.8h\n"
     ]
    },
    {
     "name": "stderr",
     "output_type": "stream",
     "text": [
      "/tmp/ipykernel_17624/463004724.py:23: UserWarning: rename 'date_time' to 'time' does not create an index anymore. Try using swap_dims instead or use set_index after rename to create an indexed coordinate.\n",
      "  vmxs    = 0.6967 * dsi.usa_wind.rename({'date_time': 'time'}) + 6.1992\n",
      "/tmp/ipykernel_17624/463004724.py:24: UserWarning: rename 'date_time' to 'time' does not create an index anymore. Try using swap_dims instead or use set_index after rename to create an indexed coordinate.\n",
      "  fcors   = abs(coriolis(dsi.usa_lat)).rename({'date_time': 'time'})\n"
     ]
    },
    {
     "name": "stdout",
     "output_type": "stream",
     "text": [
      "delta_h = 36.7h\n",
      "delta_h = 48.7h\n",
      "delta_h = 11.9h\n",
      "ep062021\n",
      "delta_h = 36.0h\n",
      "ok\n"
     ]
    },
    {
     "name": "stderr",
     "output_type": "stream",
     "text": [
      "/tmp/ipykernel_17624/463004724.py:23: UserWarning: rename 'date_time' to 'time' does not create an index anymore. Try using swap_dims instead or use set_index after rename to create an indexed coordinate.\n",
      "  vmxs    = 0.6967 * dsi.usa_wind.rename({'date_time': 'time'}) + 6.1992\n",
      "/tmp/ipykernel_17624/463004724.py:24: UserWarning: rename 'date_time' to 'time' does not create an index anymore. Try using swap_dims instead or use set_index after rename to create an indexed coordinate.\n",
      "  fcors   = abs(coriolis(dsi.usa_lat)).rename({'date_time': 'time'})\n"
     ]
    },
    {
     "name": "stdout",
     "output_type": "stream",
     "text": [
      "ep082020\n",
      "delta_h = 36.4h\n",
      "ok\n"
     ]
    },
    {
     "name": "stderr",
     "output_type": "stream",
     "text": [
      "/tmp/ipykernel_17624/463004724.py:23: UserWarning: rename 'date_time' to 'time' does not create an index anymore. Try using swap_dims instead or use set_index after rename to create an indexed coordinate.\n",
      "  vmxs    = 0.6967 * dsi.usa_wind.rename({'date_time': 'time'}) + 6.1992\n",
      "/tmp/ipykernel_17624/463004724.py:24: UserWarning: rename 'date_time' to 'time' does not create an index anymore. Try using swap_dims instead or use set_index after rename to create an indexed coordinate.\n",
      "  fcors   = abs(coriolis(dsi.usa_lat)).rename({'date_time': 'time'})\n"
     ]
    },
    {
     "name": "stdout",
     "output_type": "stream",
     "text": [
      "ep092014\n",
      "delta_h = 97.4h\n",
      "ep102018\n"
     ]
    },
    {
     "name": "stderr",
     "output_type": "stream",
     "text": [
      "/tmp/ipykernel_17624/463004724.py:23: UserWarning: rename 'date_time' to 'time' does not create an index anymore. Try using swap_dims instead or use set_index after rename to create an indexed coordinate.\n",
      "  vmxs    = 0.6967 * dsi.usa_wind.rename({'date_time': 'time'}) + 6.1992\n",
      "/tmp/ipykernel_17624/463004724.py:24: UserWarning: rename 'date_time' to 'time' does not create an index anymore. Try using swap_dims instead or use set_index after rename to create an indexed coordinate.\n",
      "  fcors   = abs(coriolis(dsi.usa_lat)).rename({'date_time': 'time'})\n",
      "/tmp/ipykernel_17624/463004724.py:23: UserWarning: rename 'date_time' to 'time' does not create an index anymore. Try using swap_dims instead or use set_index after rename to create an indexed coordinate.\n",
      "  vmxs    = 0.6967 * dsi.usa_wind.rename({'date_time': 'time'}) + 6.1992\n",
      "/tmp/ipykernel_17624/463004724.py:24: UserWarning: rename 'date_time' to 'time' does not create an index anymore. Try using swap_dims instead or use set_index after rename to create an indexed coordinate.\n",
      "  fcors   = abs(coriolis(dsi.usa_lat)).rename({'date_time': 'time'})\n"
     ]
    },
    {
     "name": "stdout",
     "output_type": "stream",
     "text": [
      "delta_h = 48.7h\n",
      "delta_h = 97.4h\n",
      "ok\n",
      "delta_h = 97.4h\n",
      "ok\n",
      "delta_h = 109.9h\n",
      "ok\n",
      "delta_h = 170.6h\n",
      "ok\n",
      "delta_h = 183.1h\n",
      "ok\n",
      "delta_h = 48.7h\n",
      "delta_h = 48.7h\n",
      "delta_h = 61.2h\n",
      "delta_h = 121.9h\n",
      "delta_h = 134.4h\n",
      "delta_h = 0.0h\n",
      "ok\n",
      "delta_h = 12.5h\n",
      "ok\n",
      "delta_h = 73.2h\n",
      "ok\n",
      "delta_h = 85.7h\n",
      "ok\n",
      "delta_h = 12.5h\n",
      "ok\n",
      "delta_h = 73.2h\n",
      "ok\n",
      "delta_h = 85.7h\n",
      "ok\n",
      "delta_h = 60.7h\n",
      "ok\n",
      "delta_h = 73.2h\n",
      "ok\n",
      "delta_h = 12.5h\n",
      "ok\n",
      "ep122015\n",
      "delta_h = 36.0h\n",
      "delta_h = 121.0h\n",
      "ok\n"
     ]
    },
    {
     "name": "stderr",
     "output_type": "stream",
     "text": [
      "/tmp/ipykernel_17624/463004724.py:23: UserWarning: rename 'date_time' to 'time' does not create an index anymore. Try using swap_dims instead or use set_index after rename to create an indexed coordinate.\n",
      "  vmxs    = 0.6967 * dsi.usa_wind.rename({'date_time': 'time'}) + 6.1992\n",
      "/tmp/ipykernel_17624/463004724.py:24: UserWarning: rename 'date_time' to 'time' does not create an index anymore. Try using swap_dims instead or use set_index after rename to create an indexed coordinate.\n",
      "  fcors   = abs(coriolis(dsi.usa_lat)).rename({'date_time': 'time'})\n"
     ]
    },
    {
     "name": "stdout",
     "output_type": "stream",
     "text": [
      "K fitting procedure led to K = 0\n",
      "delta_h = 85.0h\n",
      "ep132016\n",
      "delta_h = 60.8h\n",
      "delta_h = 97.1h\n"
     ]
    },
    {
     "name": "stderr",
     "output_type": "stream",
     "text": [
      "/tmp/ipykernel_17624/463004724.py:23: UserWarning: rename 'date_time' to 'time' does not create an index anymore. Try using swap_dims instead or use set_index after rename to create an indexed coordinate.\n",
      "  vmxs    = 0.6967 * dsi.usa_wind.rename({'date_time': 'time'}) + 6.1992\n",
      "/tmp/ipykernel_17624/463004724.py:24: UserWarning: rename 'date_time' to 'time' does not create an index anymore. Try using swap_dims instead or use set_index after rename to create an indexed coordinate.\n",
      "  fcors   = abs(coriolis(dsi.usa_lat)).rename({'date_time': 'time'})\n"
     ]
    },
    {
     "name": "stdout",
     "output_type": "stream",
     "text": [
      "delta_h = 109.6h\n",
      "delta_h = 158.2h\n",
      "delta_h = 36.3h\n",
      "ok\n",
      "delta_h = 48.8h\n",
      "ok\n",
      "delta_h = 97.4h\n",
      "ok\n",
      "delta_h = 12.5h\n",
      "ok\n",
      "delta_h = 61.1h\n",
      "ok\n",
      "delta_h = 48.6h\n",
      "ok\n",
      "ep142018\n",
      "delta_h = 12.4h\n",
      "delta_h = 85.3h\n",
      "delta_h = 109.6h\n"
     ]
    },
    {
     "name": "stderr",
     "output_type": "stream",
     "text": [
      "/tmp/ipykernel_17624/463004724.py:23: UserWarning: rename 'date_time' to 'time' does not create an index anymore. Try using swap_dims instead or use set_index after rename to create an indexed coordinate.\n",
      "  vmxs    = 0.6967 * dsi.usa_wind.rename({'date_time': 'time'}) + 6.1992\n",
      "/tmp/ipykernel_17624/463004724.py:24: UserWarning: rename 'date_time' to 'time' does not create an index anymore. Try using swap_dims instead or use set_index after rename to create an indexed coordinate.\n",
      "  fcors   = abs(coriolis(dsi.usa_lat)).rename({'date_time': 'time'})\n"
     ]
    },
    {
     "name": "stdout",
     "output_type": "stream",
     "text": [
      "delta_h = 72.8h\n",
      "delta_h = 97.1h\n",
      "delta_h = 24.3h\n",
      "ep152018\n",
      "delta_h = 23.9h\n",
      "ok\n"
     ]
    },
    {
     "name": "stderr",
     "output_type": "stream",
     "text": [
      "/tmp/ipykernel_17624/463004724.py:23: UserWarning: rename 'date_time' to 'time' does not create an index anymore. Try using swap_dims instead or use set_index after rename to create an indexed coordinate.\n",
      "  vmxs    = 0.6967 * dsi.usa_wind.rename({'date_time': 'time'}) + 6.1992\n",
      "/tmp/ipykernel_17624/463004724.py:24: UserWarning: rename 'date_time' to 'time' does not create an index anymore. Try using swap_dims instead or use set_index after rename to create an indexed coordinate.\n",
      "  fcors   = abs(coriolis(dsi.usa_lat)).rename({'date_time': 'time'})\n"
     ]
    },
    {
     "name": "stdout",
     "output_type": "stream",
     "text": [
      "ep162018\n",
      "delta_h = 12.2h\n",
      "delta_h = 73.3h\n",
      "delta_h = 121.8h\n"
     ]
    },
    {
     "name": "stderr",
     "output_type": "stream",
     "text": [
      "/tmp/ipykernel_17624/463004724.py:23: UserWarning: rename 'date_time' to 'time' does not create an index anymore. Try using swap_dims instead or use set_index after rename to create an indexed coordinate.\n",
      "  vmxs    = 0.6967 * dsi.usa_wind.rename({'date_time': 'time'}) + 6.1992\n",
      "/tmp/ipykernel_17624/463004724.py:24: UserWarning: rename 'date_time' to 'time' does not create an index anymore. Try using swap_dims instead or use set_index after rename to create an indexed coordinate.\n",
      "  fcors   = abs(coriolis(dsi.usa_lat)).rename({'date_time': 'time'})\n"
     ]
    },
    {
     "name": "stdout",
     "output_type": "stream",
     "text": [
      "delta_h = 61.1h\n",
      "delta_h = 109.6h\n",
      "delta_h = 48.6h\n",
      "ep172018\n",
      "delta_h = 48.7h\n",
      "ok\n"
     ]
    },
    {
     "name": "stderr",
     "output_type": "stream",
     "text": [
      "/tmp/ipykernel_17624/463004724.py:23: UserWarning: rename 'date_time' to 'time' does not create an index anymore. Try using swap_dims instead or use set_index after rename to create an indexed coordinate.\n",
      "  vmxs    = 0.6967 * dsi.usa_wind.rename({'date_time': 'time'}) + 6.1992\n",
      "/tmp/ipykernel_17624/463004724.py:24: UserWarning: rename 'date_time' to 'time' does not create an index anymore. Try using swap_dims instead or use set_index after rename to create an indexed coordinate.\n",
      "  fcors   = abs(coriolis(dsi.usa_lat)).rename({'date_time': 'time'})\n"
     ]
    },
    {
     "name": "stdout",
     "output_type": "stream",
     "text": [
      "ep182020\n",
      "delta_h = 24.1h\n",
      "delta_h = 35.9h\n",
      "delta_h = 11.9h\n",
      "ep202018\n"
     ]
    },
    {
     "name": "stderr",
     "output_type": "stream",
     "text": [
      "/tmp/ipykernel_17624/463004724.py:23: UserWarning: rename 'date_time' to 'time' does not create an index anymore. Try using swap_dims instead or use set_index after rename to create an indexed coordinate.\n",
      "  vmxs    = 0.6967 * dsi.usa_wind.rename({'date_time': 'time'}) + 6.1992\n",
      "/tmp/ipykernel_17624/463004724.py:24: UserWarning: rename 'date_time' to 'time' does not create an index anymore. Try using swap_dims instead or use set_index after rename to create an indexed coordinate.\n",
      "  fcors   = abs(coriolis(dsi.usa_lat)).rename({'date_time': 'time'})\n",
      "/tmp/ipykernel_17624/463004724.py:23: UserWarning: rename 'date_time' to 'time' does not create an index anymore. Try using swap_dims instead or use set_index after rename to create an indexed coordinate.\n",
      "  vmxs    = 0.6967 * dsi.usa_wind.rename({'date_time': 'time'}) + 6.1992\n",
      "/tmp/ipykernel_17624/463004724.py:24: UserWarning: rename 'date_time' to 'time' does not create an index anymore. Try using swap_dims instead or use set_index after rename to create an indexed coordinate.\n",
      "  fcors   = abs(coriolis(dsi.usa_lat)).rename({'date_time': 'time'})\n"
     ]
    },
    {
     "name": "stdout",
     "output_type": "stream",
     "text": [
      "delta_h = 23.9h\n",
      "ep212018\n",
      "delta_h = 36.1h\n",
      "delta_h = 48.6h\n",
      "delta_h = 108.5h\n"
     ]
    },
    {
     "name": "stderr",
     "output_type": "stream",
     "text": [
      "/tmp/ipykernel_17624/463004724.py:23: UserWarning: rename 'date_time' to 'time' does not create an index anymore. Try using swap_dims instead or use set_index after rename to create an indexed coordinate.\n",
      "  vmxs    = 0.6967 * dsi.usa_wind.rename({'date_time': 'time'}) + 6.1992\n",
      "/tmp/ipykernel_17624/463004724.py:24: UserWarning: rename 'date_time' to 'time' does not create an index anymore. Try using swap_dims instead or use set_index after rename to create an indexed coordinate.\n",
      "  fcors   = abs(coriolis(dsi.usa_lat)).rename({'date_time': 'time'})\n"
     ]
    },
    {
     "name": "stdout",
     "output_type": "stream",
     "text": [
      "delta_h = 121.0h\n",
      "delta_h = 180.9h\n",
      "delta_h = 12.5h\n",
      "delta_h = 72.4h\n",
      "delta_h = 84.9h\n",
      "delta_h = 144.8h\n",
      "delta_h = 59.9h\n",
      "delta_h = 72.4h\n",
      "delta_h = 132.3h\n",
      "delta_h = 12.5h\n",
      "delta_h = 72.4h\n",
      "delta_h = 59.9h\n",
      "ok\n",
      "K fitting procedure led to K = 0\n",
      "io022019\n",
      "delta_h = 60.3h\n",
      "sh072018\n"
     ]
    },
    {
     "name": "stderr",
     "output_type": "stream",
     "text": [
      "/tmp/ipykernel_17624/463004724.py:23: UserWarning: rename 'date_time' to 'time' does not create an index anymore. Try using swap_dims instead or use set_index after rename to create an indexed coordinate.\n",
      "  vmxs    = 0.6967 * dsi.usa_wind.rename({'date_time': 'time'}) + 6.1992\n",
      "/tmp/ipykernel_17624/463004724.py:24: UserWarning: rename 'date_time' to 'time' does not create an index anymore. Try using swap_dims instead or use set_index after rename to create an indexed coordinate.\n",
      "  fcors   = abs(coriolis(dsi.usa_lat)).rename({'date_time': 'time'})\n",
      "/tmp/ipykernel_17624/463004724.py:23: UserWarning: rename 'date_time' to 'time' does not create an index anymore. Try using swap_dims instead or use set_index after rename to create an indexed coordinate.\n",
      "  vmxs    = 0.6967 * dsi.usa_wind.rename({'date_time': 'time'}) + 6.1992\n",
      "/tmp/ipykernel_17624/463004724.py:24: UserWarning: rename 'date_time' to 'time' does not create an index anymore. Try using swap_dims instead or use set_index after rename to create an indexed coordinate.\n",
      "  fcors   = abs(coriolis(dsi.usa_lat)).rename({'date_time': 'time'})\n"
     ]
    },
    {
     "name": "stdout",
     "output_type": "stream",
     "text": [
      "delta_h = 13.0h\n",
      "sh172019\n",
      "delta_h = 72.4h\n",
      "ok\n"
     ]
    },
    {
     "name": "stderr",
     "output_type": "stream",
     "text": [
      "/tmp/ipykernel_17624/463004724.py:23: UserWarning: rename 'date_time' to 'time' does not create an index anymore. Try using swap_dims instead or use set_index after rename to create an indexed coordinate.\n",
      "  vmxs    = 0.6967 * dsi.usa_wind.rename({'date_time': 'time'}) + 6.1992\n",
      "/tmp/ipykernel_17624/463004724.py:24: UserWarning: rename 'date_time' to 'time' does not create an index anymore. Try using swap_dims instead or use set_index after rename to create an indexed coordinate.\n",
      "  fcors   = abs(coriolis(dsi.usa_lat)).rename({'date_time': 'time'})\n"
     ]
    },
    {
     "name": "stdout",
     "output_type": "stream",
     "text": [
      "delta_h = 83.3h\n",
      "ok\n",
      "K fitting procedure led to K = 0\n",
      "delta_h = 10.9h\n",
      "ok\n",
      "K fitting procedure led to K = 0\n",
      "sh192021\n",
      "delta_h = 11.1h\n",
      "ok\n"
     ]
    },
    {
     "name": "stderr",
     "output_type": "stream",
     "text": [
      "/tmp/ipykernel_17624/463004724.py:23: UserWarning: rename 'date_time' to 'time' does not create an index anymore. Try using swap_dims instead or use set_index after rename to create an indexed coordinate.\n",
      "  vmxs    = 0.6967 * dsi.usa_wind.rename({'date_time': 'time'}) + 6.1992\n",
      "/tmp/ipykernel_17624/463004724.py:24: UserWarning: rename 'date_time' to 'time' does not create an index anymore. Try using swap_dims instead or use set_index after rename to create an indexed coordinate.\n",
      "  fcors   = abs(coriolis(dsi.usa_lat)).rename({'date_time': 'time'})\n"
     ]
    },
    {
     "name": "stdout",
     "output_type": "stream",
     "text": [
      "sh222019\n",
      "delta_h = 37.2h\n",
      "delta_h = 48.1h\n",
      "delta_h = 61.0h\n"
     ]
    },
    {
     "name": "stderr",
     "output_type": "stream",
     "text": [
      "/tmp/ipykernel_17624/463004724.py:23: UserWarning: rename 'date_time' to 'time' does not create an index anymore. Try using swap_dims instead or use set_index after rename to create an indexed coordinate.\n",
      "  vmxs    = 0.6967 * dsi.usa_wind.rename({'date_time': 'time'}) + 6.1992\n",
      "/tmp/ipykernel_17624/463004724.py:24: UserWarning: rename 'date_time' to 'time' does not create an index anymore. Try using swap_dims instead or use set_index after rename to create an indexed coordinate.\n",
      "  fcors   = abs(coriolis(dsi.usa_lat)).rename({'date_time': 'time'})\n"
     ]
    },
    {
     "name": "stdout",
     "output_type": "stream",
     "text": [
      "delta_h = 10.9h\n",
      "delta_h = 23.8h\n",
      "delta_h = 12.9h\n",
      "sh242021\n",
      "delta_h = 72.4h\n"
     ]
    },
    {
     "name": "stderr",
     "output_type": "stream",
     "text": [
      "/tmp/ipykernel_17624/463004724.py:23: UserWarning: rename 'date_time' to 'time' does not create an index anymore. Try using swap_dims instead or use set_index after rename to create an indexed coordinate.\n",
      "  vmxs    = 0.6967 * dsi.usa_wind.rename({'date_time': 'time'}) + 6.1992\n",
      "/tmp/ipykernel_17624/463004724.py:24: UserWarning: rename 'date_time' to 'time' does not create an index anymore. Try using swap_dims instead or use set_index after rename to create an indexed coordinate.\n",
      "  fcors   = abs(coriolis(dsi.usa_lat)).rename({'date_time': 'time'})\n"
     ]
    },
    {
     "name": "stdout",
     "output_type": "stream",
     "text": [
      "delta_h = 83.3h\n",
      "delta_h = 155.5h\n",
      "delta_h = 168.6h\n",
      "delta_h = 10.9h\n",
      "delta_h = 83.1h\n",
      "delta_h = 96.2h\n",
      "delta_h = 72.2h\n",
      "delta_h = 85.3h\n",
      "delta_h = 13.1h\n",
      "wp022021\n",
      "delta_h = 24.0h\n",
      "delta_h = 71.6h\n"
     ]
    },
    {
     "name": "stderr",
     "output_type": "stream",
     "text": [
      "/tmp/ipykernel_17624/463004724.py:23: UserWarning: rename 'date_time' to 'time' does not create an index anymore. Try using swap_dims instead or use set_index after rename to create an indexed coordinate.\n",
      "  vmxs    = 0.6967 * dsi.usa_wind.rename({'date_time': 'time'}) + 6.1992\n",
      "/tmp/ipykernel_17624/463004724.py:24: UserWarning: rename 'date_time' to 'time' does not create an index anymore. Try using swap_dims instead or use set_index after rename to create an indexed coordinate.\n",
      "  fcors   = abs(coriolis(dsi.usa_lat)).rename({'date_time': 'time'})\n",
      "/tmp/ipykernel_17624/463004724.py:23: UserWarning: rename 'date_time' to 'time' does not create an index anymore. Try using swap_dims instead or use set_index after rename to create an indexed coordinate.\n",
      "  vmxs    = 0.6967 * dsi.usa_wind.rename({'date_time': 'time'}) + 6.1992\n",
      "/tmp/ipykernel_17624/463004724.py:24: UserWarning: rename 'date_time' to 'time' does not create an index anymore. Try using swap_dims instead or use set_index after rename to create an indexed coordinate.\n",
      "  fcors   = abs(coriolis(dsi.usa_lat)).rename({'date_time': 'time'})\n"
     ]
    },
    {
     "name": "stdout",
     "output_type": "stream",
     "text": [
      "delta_h = 47.6h\n",
      "wp072015\n",
      "delta_h = 48.7h\n",
      "wp122016\n"
     ]
    },
    {
     "name": "stderr",
     "output_type": "stream",
     "text": [
      "/tmp/ipykernel_17624/463004724.py:23: UserWarning: rename 'date_time' to 'time' does not create an index anymore. Try using swap_dims instead or use set_index after rename to create an indexed coordinate.\n",
      "  vmxs    = 0.6967 * dsi.usa_wind.rename({'date_time': 'time'}) + 6.1992\n",
      "/tmp/ipykernel_17624/463004724.py:24: UserWarning: rename 'date_time' to 'time' does not create an index anymore. Try using swap_dims instead or use set_index after rename to create an indexed coordinate.\n",
      "  fcors   = abs(coriolis(dsi.usa_lat)).rename({'date_time': 'time'})\n",
      "/tmp/ipykernel_17624/463004724.py:23: UserWarning: rename 'date_time' to 'time' does not create an index anymore. Try using swap_dims instead or use set_index after rename to create an indexed coordinate.\n",
      "  vmxs    = 0.6967 * dsi.usa_wind.rename({'date_time': 'time'}) + 6.1992\n",
      "/tmp/ipykernel_17624/463004724.py:24: UserWarning: rename 'date_time' to 'time' does not create an index anymore. Try using swap_dims instead or use set_index after rename to create an indexed coordinate.\n",
      "  fcors   = abs(coriolis(dsi.usa_lat)).rename({'date_time': 'time'})\n"
     ]
    },
    {
     "name": "stdout",
     "output_type": "stream",
     "text": [
      "delta_h = 0.0h\n",
      "delta_h = 59.4h\n",
      "delta_h = 59.4h\n",
      "wp152018\n",
      "delta_h = 35.6h\n",
      "wp202021\n"
     ]
    },
    {
     "name": "stderr",
     "output_type": "stream",
     "text": [
      "/tmp/ipykernel_17624/463004724.py:23: UserWarning: rename 'date_time' to 'time' does not create an index anymore. Try using swap_dims instead or use set_index after rename to create an indexed coordinate.\n",
      "  vmxs    = 0.6967 * dsi.usa_wind.rename({'date_time': 'time'}) + 6.1992\n",
      "/tmp/ipykernel_17624/463004724.py:24: UserWarning: rename 'date_time' to 'time' does not create an index anymore. Try using swap_dims instead or use set_index after rename to create an indexed coordinate.\n",
      "  fcors   = abs(coriolis(dsi.usa_lat)).rename({'date_time': 'time'})\n",
      "/tmp/ipykernel_17624/463004724.py:23: UserWarning: rename 'date_time' to 'time' does not create an index anymore. Try using swap_dims instead or use set_index after rename to create an indexed coordinate.\n",
      "  vmxs    = 0.6967 * dsi.usa_wind.rename({'date_time': 'time'}) + 6.1992\n",
      "/tmp/ipykernel_17624/463004724.py:24: UserWarning: rename 'date_time' to 'time' does not create an index anymore. Try using swap_dims instead or use set_index after rename to create an indexed coordinate.\n",
      "  fcors   = abs(coriolis(dsi.usa_lat)).rename({'date_time': 'time'})\n"
     ]
    },
    {
     "name": "stdout",
     "output_type": "stream",
     "text": [
      "delta_h = 0.0h\n",
      "wp222020\n",
      "delta_h = 12.5h\n",
      "ok\n",
      "wp242019\n",
      "delta_h = 23.8h\n",
      "delta_h = 47.7h\n",
      "delta_h = 23.9h\n",
      "ok\n"
     ]
    },
    {
     "name": "stderr",
     "output_type": "stream",
     "text": [
      "/tmp/ipykernel_17624/463004724.py:23: UserWarning: rename 'date_time' to 'time' does not create an index anymore. Try using swap_dims instead or use set_index after rename to create an indexed coordinate.\n",
      "  vmxs    = 0.6967 * dsi.usa_wind.rename({'date_time': 'time'}) + 6.1992\n",
      "/tmp/ipykernel_17624/463004724.py:24: UserWarning: rename 'date_time' to 'time' does not create an index anymore. Try using swap_dims instead or use set_index after rename to create an indexed coordinate.\n",
      "  fcors   = abs(coriolis(dsi.usa_lat)).rename({'date_time': 'time'})\n"
     ]
    },
    {
     "name": "stdout",
     "output_type": "stream",
     "text": [
      "wp252018\n",
      "delta_h = 60.7h\n",
      "wp312018\n",
      "delta_h = 48.5h\n"
     ]
    },
    {
     "name": "stderr",
     "output_type": "stream",
     "text": [
      "/tmp/ipykernel_17624/463004724.py:23: UserWarning: rename 'date_time' to 'time' does not create an index anymore. Try using swap_dims instead or use set_index after rename to create an indexed coordinate.\n",
      "  vmxs    = 0.6967 * dsi.usa_wind.rename({'date_time': 'time'}) + 6.1992\n",
      "/tmp/ipykernel_17624/463004724.py:24: UserWarning: rename 'date_time' to 'time' does not create an index anymore. Try using swap_dims instead or use set_index after rename to create an indexed coordinate.\n",
      "  fcors   = abs(coriolis(dsi.usa_lat)).rename({'date_time': 'time'})\n",
      "/tmp/ipykernel_17624/463004724.py:23: UserWarning: rename 'date_time' to 'time' does not create an index anymore. Try using swap_dims instead or use set_index after rename to create an indexed coordinate.\n",
      "  vmxs    = 0.6967 * dsi.usa_wind.rename({'date_time': 'time'}) + 6.1992\n",
      "/tmp/ipykernel_17624/463004724.py:24: UserWarning: rename 'date_time' to 'time' does not create an index anymore. Try using swap_dims instead or use set_index after rename to create an indexed coordinate.\n",
      "  fcors   = abs(coriolis(dsi.usa_lat)).rename({'date_time': 'time'})\n"
     ]
    },
    {
     "data": {
      "text/plain": [
       "<Figure size 1500x1000 with 0 Axes>"
      ]
     },
     "metadata": {},
     "output_type": "display_data"
    }
   ],
   "source": [
    "vmx_thrs = 5 # m/s\n",
    "\n",
    "# Initialization\n",
    "IDXS_INI     = []\n",
    "IDXS_FIN     = []\n",
    "TC_IDS       = []\n",
    "DELTA_HS     = []\n",
    "VMXS_INI     = []\n",
    "VMXS_FIN     = []\n",
    "RPLS_INI     = []\n",
    "RPLS_FIN     = []\n",
    "RPLS_MOD     = []\n",
    "\n",
    "for tc_id in tqdm(valid_ids):\n",
    "    print(tc_id)\n",
    "    # Open IBTrACS\n",
    "    try:\n",
    "        dsi = ds_ibt.where(ds_ibt.usa_atcf_id == tc_id.item().upper(), drop=True).isel(storm=0)\n",
    "    except ValueError:\n",
    "        nme = dsg.where(dsg.storm_id == tc_id, drop=True).storm_name[0].item().item()\n",
    "        dsi = ds_ibt.where(ds_ibt.name == nme, drop=True).isel(storm=0)\n",
    "    # Get Vmaxs and fcors\n",
    "    vmxs    = 0.6967 * dsi.usa_wind.rename({'date_time': 'time'}) + 6.1992\n",
    "    fcors   = abs(coriolis(dsi.usa_lat)).rename({'date_time': 'time'})\n",
    "    \n",
    "    # Iterate other all SAR acquisitions of the TC, 2 by 2\n",
    "    dsi        = dsg.where(dsg.storm_id == tc_id, drop=True).sortby('time')\n",
    "    for idx_ini in range(len(dsi.time) - 1):\n",
    "        for idx_fin in range(idx_ini + 1, len(dsi.time)):\n",
    "            # print(idx_ini, idx_fin)\n",
    "            ds_ini     = dsi.isel(time=idx_ini)\n",
    "            ds_fin     = dsi.isel(time=idx_fin)   \n",
    "            V_ini      = ds_ini.wind_speed.mean(dim='theta', skipna=True).interp(coords={'rad': rs})\n",
    "            V_fin      = ds_fin.wind_speed.mean(dim='theta', skipna=True).interp(coords={'rad': rs})\n",
    "            Vh_ini     = holland_profile(rs, float(abs(ds_ini.lat_center)), float(ds_ini.pn_hol), float(ds_ini.pc_hol), float(ds_ini.Vmin_hol), float(ds_ini.Rmax_hol), float(ds_ini.Vmax_hol))\n",
    "            Vh_fin     = holland_profile(rs, float(abs(ds_fin.lat_center)), float(ds_fin.pn_hol), float(ds_fin.pc_hol), float(ds_fin.Vmin_hol), float(ds_fin.Rmax_hol), float(ds_fin.Vmax_hol))\n",
    "            delta_h    = float((ds_fin.time - ds_ini.time) / np.timedelta64(1, 'h'))\n",
    "            print(r'delta_h = {:.1f}h'.format(delta_h))\n",
    "            \n",
    "            # Delete when Vmax best-tracks and SAR are inconsistent:\n",
    "            vmx_ibt_ini  = float(vmxs.dropna(dim='time').interp(coords={'time': ds_ini.time.copy(deep=True)}))\n",
    "            vmx_ibt_fin  = float(vmxs.dropna(dim='time').interp(coords={'time': ds_fin.time.copy(deep=True)}))\n",
    "            if (abs(vmx_ibt_ini - np.nanmax(V_ini)) < vmx_thrs) & (abs(vmx_ibt_fin - np.nanmax(V_fin)) < vmx_thrs):\n",
    "                try:\n",
    "                    print('ok')\n",
    "                    # Run model\n",
    "                    VK10S, KS, TIMES = run_model_until(rs, Vh_ini, fcors, vmxs, ds_ini.time.copy(deep=True), ds_fin.time.copy(deep=True))\n",
    "\n",
    "                    # Compute R+\n",
    "                    Rp_SAR_ini = float(dsr.where(dsr.time == ds_ini.time, drop=True).R_plus)\n",
    "                    Rp_SAR_fin = float(dsr.where(dsr.time == ds_fin.time, drop=True).R_plus)\n",
    "                    Rp_MOD, _  = compute_RV_plus(rs, VK10S[-1], float(abs(coriolis(ds_fin.lat_center))), n=5)\n",
    "\n",
    "                    # Appends\n",
    "                    IDXS_INI.append(idx_ini), IDXS_FIN.append(idx_fin), TC_IDS.append(tc_id), DELTA_HS.append(delta_h)\n",
    "                    VMXS_INI.append(np.nanmax(V_ini)), VMXS_FIN.append(np.nanmax(V_fin))\n",
    "                    RPLS_INI.append(Rp_SAR_ini), RPLS_FIN.append(Rp_SAR_fin), RPLS_MOD.append(Rp_MOD)\n",
    "\n",
    "                    # Plot\n",
    "                    if PRMS['sav_css']:\n",
    "                        plt.title('{}, idx_ini = {}, idx_fin = {} \\n delta_h = {:.1f} hrs'.format(tc_id, idx_ini, idx_fin, delta_h), weight='bold')\n",
    "                        # SAR\n",
    "                        plt.plot(rs / 1000, V_ini,  c='k',         linewidth=3,                     label=r'SAR, {}'.format(np.datetime_as_string(ds_ini.time, unit='m')[5:]))\n",
    "                        plt.plot(rs / 1000, V_fin,  c='orangered', linewidth=3,                     label=r'SAR, {}'.format(np.datetime_as_string(ds_fin.time, unit='m')[5:]))\n",
    "                        # Model\n",
    "                        l    = len(VK10S)\n",
    "                        clrs = cm(np.linspace(0, 1, l))\n",
    "                        for i in range(l):\n",
    "                            plt.plot(rs / 1000, VK10S[i], linestyle='dashed', c=clrs[i], label='MODEL, {}'.format(np.datetime_as_string(TIMES[i], unit='m')[5:]))\n",
    "\n",
    "                        plt.legend(frameon=False, loc='upper right')\n",
    "                        plt.xlim(0, 500)\n",
    "                        plt.xlabel('Radius (km)');plt.ylabel('Wind speed (m/s)')\n",
    "                        plt.savefig(PTHS['sav_dir'] + 'cases/{}_ini{}_fin{}'.format(tc_id, idx_ini, idx_fin));plt.clf()\n",
    "                        \n",
    "                except KfitError:\n",
    "                    print('K fitting procedure led to K = 0')\n",
    "                \n",
    "dsf = xr.Dataset(\n",
    "    data_vars={\n",
    "        'tc_id':       ('pair', np.array(TC_IDS).astype(str)),\n",
    "        'idx_ini':     ('pair', IDXS_INI),\n",
    "        'idx_fin':     ('pair', IDXS_FIN),\n",
    "        'delta_h':     ('pair', DELTA_HS),\n",
    "        # 'K':           ('pair', KS),\n",
    "        # 'rmse':        ('pair', RMSES),\n",
    "        # 'rmse_prs':    ('pair', RMSES_PRS),\n",
    "        'vmx_ini':     ('pair', VMXS_INI),\n",
    "        'vmx_fin':     ('pair', VMXS_FIN),\n",
    "        'Rp_ini':      ('pair', RPLS_INI),\n",
    "        'Rp_fin':      ('pair', RPLS_FIN),\n",
    "        'Rp_mod':      ('pair', RPLS_MOD),\n",
    "        # 'rel_err':     (('pair', 'r*'), REL_ERRS),\n",
    "        # 'rel_err_prs': (('pair', 'r*'), REL_ERRS_PRS),\n",
    "    }\n",
    ")               \n",
    "if PRMS['sav_dat']:\n",
    "    dsf.to_netcdf(PTHS['sav_dir'] + 'dsf.nc')"
   ]
  },
  {
   "cell_type": "code",
   "execution_count": 104,
   "metadata": {},
   "outputs": [],
   "source": [
    "# ### LOAD DATA (IF AVAILABLE)\n",
    "# dsf = xr.open_dataset(PTHS['sav_dir'] + 'dsf.nc')"
   ]
  },
  {
   "cell_type": "code",
   "execution_count": null,
   "metadata": {},
   "outputs": [],
   "source": []
  },
  {
   "cell_type": "code",
   "execution_count": null,
   "metadata": {},
   "outputs": [],
   "source": []
  },
  {
   "cell_type": "code",
   "execution_count": null,
   "metadata": {},
   "outputs": [],
   "source": []
  },
  {
   "cell_type": "code",
   "execution_count": 108,
   "metadata": {},
   "outputs": [
    {
     "data": {
      "text/plain": [
       "(array([7., 6., 3., 6., 2., 4., 0., 0., 0., 2.]),\n",
       " array([2.94444444e-02, 1.83351667e+01, 3.66408889e+01, 5.49466111e+01,\n",
       "        7.32523333e+01, 9.15580556e+01, 1.09863778e+02, 1.28169500e+02,\n",
       "        1.46475222e+02, 1.64780944e+02, 1.83086667e+02]),\n",
       " <BarContainer object of 10 artists>)"
      ]
     },
     "execution_count": 108,
     "metadata": {},
     "output_type": "execute_result"
    },
    {
     "data": {
      "image/png": "[encoded data removed]",
      "text/plain": [
       "<Figure size 1500x1000 with 1 Axes>"
      ]
     },
     "metadata": {},
     "output_type": "display_data"
    }
   ],
   "source": [
    "plt.hist(dsf.delta_h)"
   ]
  },
  {
   "cell_type": "code",
   "execution_count": 121,
   "metadata": {},
   "outputs": [
    {
     "data": {
      "text/plain": [
       "(array([1., 0., 0., 0., 0., 1., 1., 2., 1., 5.]),\n",
       " array([-10960.,  -8531.,  -6102.,  -3673.,  -1244.,   1185.,   3614.,\n",
       "          6043.,   8472.,  10901.,  13330.]),\n",
       " <BarContainer object of 10 artists>)"
      ]
     },
     "execution_count": 121,
     "metadata": {},
     "output_type": "execute_result"
    },
    {
     "data": {
      "image/png": "[encoded data removed]",
      "text/plain": [
       "<Figure size 1500x1000 with 1 Axes>"
      ]
     },
     "metadata": {},
     "output_type": "display_data"
    }
   ],
   "source": [
    "# keep = (dsf.delta_h <= 96)\n",
    "keep = (dsf.delta_h <= 128) & (dsf.vmx_fin - dsf.vmx_ini > 0)\n",
    "d    = dsf.where(keep, drop=True)\n",
    "\n",
    "plt.hist(d.Rp_mod - d.Rp_fin, color='r', alpha=0.5)\n",
    "plt.hist(d.Rp_ini - d.Rp_fin, alpha=0.2, color='k')"
   ]
  },
  {
   "cell_type": "code",
   "execution_count": 122,
   "metadata": {},
   "outputs": [
    {
     "data": {
      "text/plain": [
       "[<matplotlib.lines.Line2D at 0x7f4fc4c56eb0>]"
      ]
     },
     "execution_count": 122,
     "metadata": {},
     "output_type": "execute_result"
    },
    {
     "data": {
      "image/png": "[encoded data removed]",
      "text/plain": [
       "<Figure size 1500x1000 with 1 Axes>"
      ]
     },
     "metadata": {},
     "output_type": "display_data"
    }
   ],
   "source": [
    "plt.scatter(d.Rp_fin, d.Rp_mod, c='r')\n",
    "plt.scatter(d.Rp_fin, d.Rp_ini, c='k')\n",
    "plt.plot([30000, 90000], [30000, 90000])"
   ]
  },
  {
   "cell_type": "code",
   "execution_count": null,
   "metadata": {},
   "outputs": [],
   "source": []
  },
  {
   "cell_type": "code",
   "execution_count": null,
   "metadata": {},
   "outputs": [],
   "source": []
  },
  {
   "cell_type": "code",
   "execution_count": null,
   "metadata": {},
   "outputs": [],
   "source": []
  },
  {
   "cell_type": "code",
   "execution_count": null,
   "metadata": {},
   "outputs": [],
   "source": []
  },
  {
   "cell_type": "code",
   "execution_count": null,
   "metadata": {},
   "outputs": [],
   "source": []
  },
  {
   "cell_type": "code",
   "execution_count": null,
   "metadata": {},
   "outputs": [],
   "source": []
  },
  {
   "cell_type": "code",
   "execution_count": null,
   "metadata": {},
   "outputs": [],
   "source": []
  },
  {
   "cell_type": "code",
   "execution_count": null,
   "metadata": {},
   "outputs": [],
   "source": []
  }
 ],
 "metadata": {
  "kernelspec": {
   "display_name": "paramProfiles",
   "language": "python",
   "name": "paramprofiles"
  },
  "language_info": {
   "codemirror_mode": {
    "name": "ipython",
    "version": 3
   },
   "file_extension": ".py",
   "mimetype": "text/x-python",
   "name": "python",
   "nbconvert_exporter": "python",
   "pygments_lexer": "ipython3",
   "version": "3.8.15"
  }
 },
 "nbformat": 4,
 "nbformat_minor": 4
}
