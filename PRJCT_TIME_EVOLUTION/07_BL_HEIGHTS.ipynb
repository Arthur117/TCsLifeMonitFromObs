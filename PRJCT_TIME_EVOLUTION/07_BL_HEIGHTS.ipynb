{
 "cells": [
  {
   "cell_type": "markdown",
   "metadata": {},
   "source": [
    "## Compute BL effective heights"
   ]
  },
  {
   "cell_type": "code",
   "execution_count": 6,
   "metadata": {},
   "outputs": [],
   "source": [
    "# General\n",
    "import glob\n",
    "import re\n",
    "import os.path\n",
    "import warnings\n",
    "# warnings.filterwarnings('ignore')\n",
    "from tqdm.notebook import tqdm\n",
    "import copy\n",
    "\n",
    "# Arrays & Displays\n",
    "import xarray as xr\n",
    "import numpy as np\n",
    "import matplotlib as mpl\n",
    "import matplotlib.pyplot as plt\n",
    "import matplotlib.cm as cm\n",
    "import pandas as pd\n",
    "from matplotlib.gridspec import GridSpec\n",
    "from matplotlib.colors import LinearSegmentedColormap\n",
    "\n",
    "# Data treatment\n",
    "from datetime import datetime\n",
    "from scipy.optimize import curve_fit\n",
    "\n",
    "# Statistics\n",
    "from sklearn import linear_model, neighbors\n",
    "from pykalman import KalmanFilter\n",
    "\n",
    "# Default parameters\n",
    "mpl.rcParams.update({'font.size': 18})\n",
    "mpl.rcParams['figure.figsize'] = (15, 10)\n",
    "mpl.rcParams['axes.facecolor'] = 'white'\n",
    "mpl.rcParams['figure.facecolor'] = 'white'"
   ]
  },
  {
   "cell_type": "code",
   "execution_count": 92,
   "metadata": {},
   "outputs": [],
   "source": [
    "PRMS = {\n",
    "    'n':              5, # R+ is defined as omega(R+) = n * f\n",
    "    'sav_fgs':        False,\n",
    "    'sav_css':        False,\n",
    "}\n",
    "\n",
    "PTHS = {\n",
    "    'dsg_pth':         '/home/arthur/data/cyclobs/SAR_compilations_in_nc/SAR_centered_rotated_files_13052022_with_extra_params.nc',\n",
    "    'sar_dir':         '/home/arthur/data/cyclobs/centered_rotated_files_31012022/',\n",
    "    'sct_dir':         '/home/arthur/data/scatterometer/KNMI/product_JF_rotated_filtered_v3/POLAR/2020/EP182020/',\n",
    "    'sav_dir':         '/home/arthur/results/TCsLifeMonitFromObs/PRJCT_TIME_EVOLUTION/07_BL_HEIGHTS/'\n",
    "}"
   ]
  },
  {
   "cell_type": "markdown",
   "metadata": {},
   "source": [
    "### 1) FUNCTIONS"
   ]
  },
  {
   "cell_type": "code",
   "execution_count": 12,
   "metadata": {},
   "outputs": [],
   "source": [
    "rs = np.linspace(10, 900000, 90000)\n",
    "dr = 10 # meters\n",
    "\n",
    "def coriolis(lat):\n",
    "    '''Latitude must be in degrees.'''\n",
    "    Omega = 7.2921e-5                             # Earth rotation vector\n",
    "    fcor  = 2 * Omega * np.sin(lat * np.pi / 180) # Coriolis parameter at 20° latitude and assuming it's constant \n",
    "    return fcor\n",
    "\n",
    "def vorticity(r, v):\n",
    "    '''Relative vorticity'''\n",
    "    return (1 / r) * np.gradient(r * v, dr)\n",
    "\n",
    "def v_k10(v0, t, lbda=None):\n",
    "    # Initial\n",
    "    v          = np.zeros_like(v0.rad)                     # Raw v0\n",
    "    v_prop_in  = v0.interp({'rad': v0.rad * np.exp(t)})    # Inner-core: v0 interpolated on r * e^t\n",
    "    with warnings.catch_warnings():\n",
    "        warnings.simplefilter('ignore', category=RuntimeWarning)\n",
    "        nr_term    = np.sqrt(1 + 2 * (np.log(v0.rad) + t)) # Near-core (1)\n",
    "    v_prop_nr  = v0.interp({'rad': nr_term})               # Near-core (2)\n",
    "    ou_term    = np.sqrt(v0.rad ** 2 + 2 * t)              # Outer-core (1)\n",
    "    v_prop_ou  = v0.interp({'rad': ou_term})               # Outer-core (2)\n",
    "    \n",
    "    # No friction\n",
    "    if lbda is None:\n",
    "        vin        = v_prop_in * np.exp(t) + v0.rad * (np.exp(2 * t) - 1) / 2                                      # Inner-core\n",
    "        vnr        = nr_term * v_prop_nr / v0.rad + (1 - v0.rad ** 2) / (2 * v0.rad) + np.log(v0.rad) / v0.rad + t / v0.rad # Near-core\n",
    "        vou        = ou_term * v_prop_ou / v0.rad + t / v0.rad                                                     # Outer-core\n",
    "        \n",
    "    # Friction\n",
    "    else:\n",
    "        vin        = v_prop_in * np.exp((1 - lbda) * t) + v0.rad * (1 - np.exp((2 - lbda) * t)) / (lbda - 2)      # Inner-core\n",
    "        vnr        = nr_term * v_prop_nr * np.exp(-lbda * t) / v0.rad + (lbda * v0.rad ** 2 - 2 * v0.rad ** lbda) / (lbda * v0.rad * (lbda - 2)) - np.exp(-lbda * t) / (lbda * v0.rad)\n",
    "        vou        = ou_term * v_prop_ou * np.exp(-lbda * t) / v0.rad + (1 - np.exp(-lbda * t)) / (lbda * v0.rad) # Outer-core\n",
    "\n",
    "    # Declare final output\n",
    "    bd              = np.exp(-t)\n",
    "    v[v0.rad < bd]  = vin[v0.rad < bd]\n",
    "    v[v0.rad >= bd] = vnr[v0.rad >= bd]\n",
    "    v[v0.rad >= 1]  = vou[v0.rad >= 1]\n",
    "    \n",
    "    return v\n",
    "\n",
    "def compute_RV_plus(r, V, fcor, n=5):\n",
    "    # Compute R+\n",
    "    rm       = r[np.nanargmax(V)]\n",
    "    out      = r > rm          # To find outer-core\n",
    "    r        = r[out]\n",
    "    V        = V[out]\n",
    "    vrt      = vorticity(r, V) # Relative vorticity\n",
    "    vrt_plan = fcor            # Planetary vorticity\n",
    "\n",
    "    try: \n",
    "        R_plus = r[abs(vrt - n * vrt_plan) < 1e-6][0] # R+\n",
    "        V_plus = V[r >= R_plus][0]\n",
    "    except IndexError:\n",
    "        print('Error: R+ non defined.')\n",
    "        R_plus = V_plus = np.nan\n",
    "    \n",
    "    return R_plus, V_plus\n",
    "\n",
    "def holland_profile(r, lat, pn, pc, Vmin, Rmax, Vmax):\n",
    "    '''We assume that rho is constant and equals 1.15 kg.m-3'''\n",
    "    fcor  = abs(coriolis(lat))\n",
    "    rho   = 1.15\n",
    "    B     = ((Vmax - Vmin) ** 2) * rho * np.e / (pn - pc)\n",
    "    A     = Rmax ** B\n",
    "    \n",
    "    r     = r.astype(float) + 0.001 # To avoid dividing by zero\n",
    "    V     = r * 0.\n",
    "    V     = Vmin + np.sqrt(A * B * (pn - pc) * np.exp((-1) * A / (r ** B)) / (rho * r ** B) + (r ** 2 * fcor ** 2) / 4) - (r * fcor / 2)\n",
    "    return V"
   ]
  },
  {
   "cell_type": "code",
   "execution_count": 90,
   "metadata": {},
   "outputs": [],
   "source": [
    "# Global parameters\n",
    "\n",
    "def BL_height(r, a):\n",
    "    '''a is the slope of the BL height'''\n",
    "    return a * r\n",
    "\n",
    "# def propagate(r, a, V_ini, fcor_ini, dt=1, Cd_plus=2.5e-3):\n",
    "#     # Compute R+, V+\n",
    "#     R_plus, V_plus = compute_RV_plus(r, V_ini, fcor_ini, PRMS['n'])\n",
    "#     print('R+ = {:.0f}, V+ = {:.1f}'.format(R_plus, V_plus))\n",
    "    \n",
    "#     # Compute BL height \n",
    "#     h              = BL_height(r, a)\n",
    "    \n",
    "#     # Compute lambda\n",
    "#     M_abs          = r * V_ini + 0.5 * fcor_ini * (r ** 2)\n",
    "#     lbda           = float(Cd_plus * R_plus * (V_plus ** 2)) / (h * M_abs) # dimensional\n",
    "#     lbda           = lbda / fcor_ini                                       # non-dimensional\n",
    "    \n",
    "#     # Normalize\n",
    "#     V_nrm = xr.DataArray(\n",
    "#         data=V_ini / (fcor_ini * R_plus),\n",
    "#         coords={'rad': r / R_plus}\n",
    "#     )\n",
    "    \n",
    "#     # Apply KK10\n",
    "#     V = v_k10(V_nrm, t=dt, lbda=lbda) * fcor_ini * R_plus                  # dimensional\n",
    "    \n",
    "#     return V\n",
    "\n",
    "def propagate(r, a, V_ini, fcor_ini, dt=1, fitting_mode=False, Cd_plus=2.5e-3):\n",
    "    # Compute R+, V+\n",
    "    R_plus, V_plus = compute_RV_plus(r, V_ini, fcor_ini, PRMS['n'])\n",
    "    # print('R+ = {:.0f}, V+ = {:.1f}'.format(R_plus, V_plus))\n",
    "    \n",
    "    # Compute BL height \n",
    "    h              = BL_height(r, a)\n",
    "    \n",
    "    # Compute lambda\n",
    "    M_abs          = r * V_ini + 0.5 * fcor_ini * (r ** 2)\n",
    "    lbda           = float(Cd_plus * R_plus * (V_plus ** 2)) / (h * M_abs) # dimensional\n",
    "    lbda           = lbda / fcor_ini                                       # non-dimensional\n",
    "    \n",
    "    # Normalize\n",
    "    V_nrm = xr.DataArray(\n",
    "        data=V_ini / (fcor_ini * R_plus),\n",
    "        coords={'rad': r / R_plus}\n",
    "    )\n",
    "    \n",
    "    # Apply KK10\n",
    "    V = v_k10(V_nrm, t=dt, lbda=lbda) * fcor_ini * R_plus                  # dimensional\n",
    "    \n",
    "    # # Option 1: Fit the whole curve\n",
    "    # # In fitting mode, match values of nan with values of initial profile so that it doesn't count\n",
    "    # if fitting_mode:\n",
    "    #     V[np.isnan(V)] = V_ini[np.isnan(V)]\n",
    "    \n",
    "    # Option 2: Fit Vmax\n",
    "    if fitting_mode:\n",
    "        V = np.nanmax(V)\n",
    "\n",
    "    return V"
   ]
  },
  {
   "cell_type": "markdown",
   "metadata": {},
   "source": [
    "### 2) SAR DATA"
   ]
  },
  {
   "cell_type": "code",
   "execution_count": 175,
   "metadata": {},
   "outputs": [
    {
     "name": "stdout",
     "output_type": "stream",
     "text": [
      "Nb of storms: 161\n",
      "SAR Mean Rmax = 31 km\n",
      "SAR Mean R64  = 57 km\n"
     ]
    }
   ],
   "source": [
    "dsg = xr.open_dataset(PTHS['dsg_pth'])\n",
    "\n",
    "### FILTER\n",
    "dsg = dsg.where(dsg.distance_to_coast > dsg.R17_1D * 1000, drop=True)\n",
    "dsg = dsg.where(abs(dsg.lat_center) < 30, drop=True)\n",
    "dsg = dsg.where(dsg.B_hol > 0.1, drop=True)\n",
    "dsg = dsg.where(dsg.Vmax_1D > 25, drop=True)\n",
    "print('Nb of storms: {}'.format(len(dsg.time)))\n",
    "\n",
    "print('SAR Mean Rmax = {:.0f} km'.format(dsg.Rmax_1D.mean()))\n",
    "print('SAR Mean R64  = {:.0f} km'.format(dsg.R33_1D.mean()))\n",
    "\n",
    "# Select IDs where there are at least 2 SAR images\n",
    "ids, cts  = np.unique(dsg.storm_id, return_counts=True)\n",
    "valid_ids = ids[cts > 1]\n",
    "# valid_cts = cts[cts > 1]"
   ]
  },
  {
   "cell_type": "code",
   "execution_count": 176,
   "metadata": {},
   "outputs": [
    {
     "data": {
      "application/vnd.jupyter.widget-view+json": {
       "model_id": "dfec48a54e45418f83d85afc3741fe70",
       "version_major": 2,
       "version_minor": 0
      },
      "text/plain": [
       "  0%|          | 0/39 [00:00<?, ?it/s]"
      ]
     },
     "metadata": {},
     "output_type": "display_data"
    },
    {
     "name": "stderr",
     "output_type": "stream",
     "text": [
      "/home/arthur/anaconda3/envs/paramProfiles/lib/python3.8/site-packages/scipy/optimize/_minpack_py.py:881: OptimizeWarning: Covariance of the parameters could not be estimated\n",
      "  warnings.warn('Covariance of the parameters could not be estimated',\n"
     ]
    },
    {
     "name": "stdout",
     "output_type": "stream",
     "text": [
      "al122021\n",
      "delta_h = 11.8hr\n",
      "a = 0.21\n"
     ]
    },
    {
     "name": "stderr",
     "output_type": "stream",
     "text": [
      "/home/arthur/anaconda3/envs/paramProfiles/lib/python3.8/site-packages/scipy/optimize/_minpack_py.py:881: OptimizeWarning: Covariance of the parameters could not be estimated\n",
      "  warnings.warn('Covariance of the parameters could not be estimated',\n"
     ]
    },
    {
     "name": "stdout",
     "output_type": "stream",
     "text": [
      "al122021\n",
      "delta_h = 12.3hr\n",
      "a = 0.08\n"
     ]
    },
    {
     "name": "stderr",
     "output_type": "stream",
     "text": [
      "/home/arthur/anaconda3/envs/paramProfiles/lib/python3.8/site-packages/scipy/optimize/_minpack_py.py:881: OptimizeWarning: Covariance of the parameters could not be estimated\n",
      "  warnings.warn('Covariance of the parameters could not be estimated',\n"
     ]
    },
    {
     "name": "stdout",
     "output_type": "stream",
     "text": [
      "al182021\n",
      "delta_h = 11.9hr\n",
      "a = 0.62\n"
     ]
    },
    {
     "name": "stderr",
     "output_type": "stream",
     "text": [
      "/home/arthur/anaconda3/envs/paramProfiles/lib/python3.8/site-packages/scipy/optimize/_minpack_py.py:881: OptimizeWarning: Covariance of the parameters could not be estimated\n",
      "  warnings.warn('Covariance of the parameters could not be estimated',\n"
     ]
    },
    {
     "name": "stdout",
     "output_type": "stream",
     "text": [
      "ep102018\n",
      "delta_h = 12.5hr\n",
      "a = 0.55\n"
     ]
    },
    {
     "name": "stderr",
     "output_type": "stream",
     "text": [
      "/home/arthur/anaconda3/envs/paramProfiles/lib/python3.8/site-packages/scipy/optimize/_minpack_py.py:881: OptimizeWarning: Covariance of the parameters could not be estimated\n",
      "  warnings.warn('Covariance of the parameters could not be estimated',\n"
     ]
    },
    {
     "name": "stdout",
     "output_type": "stream",
     "text": [
      "ep102018\n",
      "delta_h = 12.5hr\n",
      "a = 0.58\n"
     ]
    },
    {
     "name": "stderr",
     "output_type": "stream",
     "text": [
      "/home/arthur/anaconda3/envs/paramProfiles/lib/python3.8/site-packages/scipy/optimize/_minpack_py.py:881: OptimizeWarning: Covariance of the parameters could not be estimated\n",
      "  warnings.warn('Covariance of the parameters could not be estimated',\n"
     ]
    },
    {
     "name": "stdout",
     "output_type": "stream",
     "text": [
      "ep102018\n",
      "delta_h = 12.5hr\n",
      "a = 0.35\n"
     ]
    },
    {
     "name": "stderr",
     "output_type": "stream",
     "text": [
      "/home/arthur/anaconda3/envs/paramProfiles/lib/python3.8/site-packages/scipy/optimize/_minpack_py.py:881: OptimizeWarning: Covariance of the parameters could not be estimated\n",
      "  warnings.warn('Covariance of the parameters could not be estimated',\n"
     ]
    },
    {
     "name": "stdout",
     "output_type": "stream",
     "text": [
      "ep132016\n",
      "delta_h = 12.5hr\n",
      "a = 0.44\n"
     ]
    },
    {
     "name": "stderr",
     "output_type": "stream",
     "text": [
      "/home/arthur/anaconda3/envs/paramProfiles/lib/python3.8/site-packages/scipy/optimize/_minpack_py.py:881: OptimizeWarning: Covariance of the parameters could not be estimated\n",
      "  warnings.warn('Covariance of the parameters could not be estimated',\n"
     ]
    },
    {
     "name": "stdout",
     "output_type": "stream",
     "text": [
      "ep142018\n",
      "delta_h = 12.4hr\n",
      "a = 0.51\n"
     ]
    },
    {
     "name": "stderr",
     "output_type": "stream",
     "text": [
      "/home/arthur/anaconda3/envs/paramProfiles/lib/python3.8/site-packages/scipy/optimize/_minpack_py.py:881: OptimizeWarning: Covariance of the parameters could not be estimated\n",
      "  warnings.warn('Covariance of the parameters could not be estimated',\n"
     ]
    },
    {
     "name": "stdout",
     "output_type": "stream",
     "text": [
      "ep162018\n",
      "delta_h = 12.2hr\n",
      "a = 0.68\n"
     ]
    },
    {
     "name": "stderr",
     "output_type": "stream",
     "text": [
      "/home/arthur/anaconda3/envs/paramProfiles/lib/python3.8/site-packages/scipy/optimize/_minpack_py.py:881: OptimizeWarning: Covariance of the parameters could not be estimated\n",
      "  warnings.warn('Covariance of the parameters could not be estimated',\n"
     ]
    },
    {
     "name": "stdout",
     "output_type": "stream",
     "text": [
      "ep182020\n",
      "delta_h = 12.7hr\n",
      "a = 0.19\n"
     ]
    },
    {
     "name": "stderr",
     "output_type": "stream",
     "text": [
      "/home/arthur/anaconda3/envs/paramProfiles/lib/python3.8/site-packages/scipy/optimize/_minpack_py.py:881: OptimizeWarning: Covariance of the parameters could not be estimated\n",
      "  warnings.warn('Covariance of the parameters could not be estimated',\n"
     ]
    },
    {
     "name": "stdout",
     "output_type": "stream",
     "text": [
      "ep182020\n",
      "delta_h = 11.9hr\n",
      "a = 0.24\n"
     ]
    },
    {
     "name": "stderr",
     "output_type": "stream",
     "text": [
      "/home/arthur/anaconda3/envs/paramProfiles/lib/python3.8/site-packages/scipy/optimize/_minpack_py.py:881: OptimizeWarning: Covariance of the parameters could not be estimated\n",
      "  warnings.warn('Covariance of the parameters could not be estimated',\n"
     ]
    },
    {
     "name": "stdout",
     "output_type": "stream",
     "text": [
      "ep212018\n",
      "delta_h = 12.5hr\n",
      "a = 0.15\n"
     ]
    },
    {
     "name": "stderr",
     "output_type": "stream",
     "text": [
      "/home/arthur/anaconda3/envs/paramProfiles/lib/python3.8/site-packages/scipy/optimize/_minpack_py.py:881: OptimizeWarning: Covariance of the parameters could not be estimated\n",
      "  warnings.warn('Covariance of the parameters could not be estimated',\n"
     ]
    },
    {
     "name": "stdout",
     "output_type": "stream",
     "text": [
      "ep212018\n",
      "delta_h = 12.5hr\n",
      "a = 0.16\n"
     ]
    },
    {
     "name": "stderr",
     "output_type": "stream",
     "text": [
      "/home/arthur/anaconda3/envs/paramProfiles/lib/python3.8/site-packages/scipy/optimize/_minpack_py.py:881: OptimizeWarning: Covariance of the parameters could not be estimated\n",
      "  warnings.warn('Covariance of the parameters could not be estimated',\n"
     ]
    },
    {
     "name": "stdout",
     "output_type": "stream",
     "text": [
      "sh072018\n",
      "delta_h = 13.0hr\n",
      "a = 0.17\n"
     ]
    },
    {
     "name": "stderr",
     "output_type": "stream",
     "text": [
      "/home/arthur/anaconda3/envs/paramProfiles/lib/python3.8/site-packages/scipy/optimize/_minpack_py.py:881: OptimizeWarning: Covariance of the parameters could not be estimated\n",
      "  warnings.warn('Covariance of the parameters could not be estimated',\n"
     ]
    },
    {
     "name": "stdout",
     "output_type": "stream",
     "text": [
      "sh172019\n",
      "delta_h = 10.9hr\n",
      "a = 0.06\n"
     ]
    },
    {
     "name": "stderr",
     "output_type": "stream",
     "text": [
      "/home/arthur/anaconda3/envs/paramProfiles/lib/python3.8/site-packages/scipy/optimize/_minpack_py.py:881: OptimizeWarning: Covariance of the parameters could not be estimated\n",
      "  warnings.warn('Covariance of the parameters could not be estimated',\n"
     ]
    },
    {
     "name": "stdout",
     "output_type": "stream",
     "text": [
      "sh192021\n",
      "delta_h = 11.1hr\n",
      "a = 0.48\n"
     ]
    },
    {
     "name": "stderr",
     "output_type": "stream",
     "text": [
      "/home/arthur/anaconda3/envs/paramProfiles/lib/python3.8/site-packages/scipy/optimize/_minpack_py.py:881: OptimizeWarning: Covariance of the parameters could not be estimated\n",
      "  warnings.warn('Covariance of the parameters could not be estimated',\n"
     ]
    },
    {
     "name": "stdout",
     "output_type": "stream",
     "text": [
      "sh222019\n",
      "delta_h = 10.9hr\n",
      "a = 0.06\n"
     ]
    },
    {
     "name": "stderr",
     "output_type": "stream",
     "text": [
      "/home/arthur/anaconda3/envs/paramProfiles/lib/python3.8/site-packages/scipy/optimize/_minpack_py.py:881: OptimizeWarning: Covariance of the parameters could not be estimated\n",
      "  warnings.warn('Covariance of the parameters could not be estimated',\n"
     ]
    },
    {
     "name": "stdout",
     "output_type": "stream",
     "text": [
      "sh222019\n",
      "delta_h = 12.9hr\n",
      "a = 0.06\n"
     ]
    },
    {
     "name": "stderr",
     "output_type": "stream",
     "text": [
      "/home/arthur/anaconda3/envs/paramProfiles/lib/python3.8/site-packages/scipy/optimize/_minpack_py.py:881: OptimizeWarning: Covariance of the parameters could not be estimated\n",
      "  warnings.warn('Covariance of the parameters could not be estimated',\n"
     ]
    },
    {
     "name": "stdout",
     "output_type": "stream",
     "text": [
      "sh242021\n",
      "delta_h = 10.9hr\n",
      "a = 0.32\n"
     ]
    },
    {
     "name": "stderr",
     "output_type": "stream",
     "text": [
      "/home/arthur/anaconda3/envs/paramProfiles/lib/python3.8/site-packages/scipy/optimize/_minpack_py.py:881: OptimizeWarning: Covariance of the parameters could not be estimated\n",
      "  warnings.warn('Covariance of the parameters could not be estimated',\n"
     ]
    },
    {
     "name": "stdout",
     "output_type": "stream",
     "text": [
      "sh242021\n",
      "delta_h = 13.1hr\n",
      "a = 0.12\n"
     ]
    },
    {
     "name": "stderr",
     "output_type": "stream",
     "text": [
      "/home/arthur/anaconda3/envs/paramProfiles/lib/python3.8/site-packages/scipy/optimize/_minpack_py.py:881: OptimizeWarning: Covariance of the parameters could not be estimated\n",
      "  warnings.warn('Covariance of the parameters could not be estimated',\n"
     ]
    },
    {
     "name": "stdout",
     "output_type": "stream",
     "text": [
      "wp222020\n",
      "delta_h = 12.5hr\n",
      "a = 0.87\n"
     ]
    }
   ],
   "source": [
    "# COLORMAP\n",
    "colors = [mpl.colors.to_rgb('k'), mpl.colors.to_rgb('orangered')] # first color is black, last is red\n",
    "cm     = LinearSegmentedColormap.from_list(\"Custom\", colors, N=20)\n",
    "l      = 5 # nb of model steps to display\n",
    "clrs   = cm(np.linspace(0, 1, l + 1))\n",
    "\n",
    "# Parameters\n",
    "time_thresh  = 20\n",
    "\n",
    "# Initialization\n",
    "IDXS_INI     = []\n",
    "IDXS_FIN     = []\n",
    "TC_IDS       = []\n",
    "DELTA_HS     = []\n",
    "VMXS_INI     = []\n",
    "FCRS_INI     = []\n",
    "VMXS_FIN     = []\n",
    "AS           = []\n",
    "RPLS_INI     = []\n",
    "RPLS_FIN     = []\n",
    "RPLS_MOD     = []\n",
    "VPLS_INI     = []\n",
    "HPLS         = []\n",
    "DMPLS        = []\n",
    "\n",
    "# Iterate\n",
    "for tc_id in tqdm(valid_ids):\n",
    "    # Iterate other all SAR acquisitions of the TC, 2 by 2\n",
    "    dsi        = dsg.where(dsg.storm_id == tc_id, drop=True).sortby('time')\n",
    "    for idx_ini in range(len(dsi.time) - 1):\n",
    "        for idx_fin in range(idx_ini + 1, len(dsi.time)):\n",
    "            # print(idx_ini, idx_fin)\n",
    "            ds_ini     = dsi.isel(time=idx_ini)\n",
    "            ds_fin     = dsi.isel(time=idx_fin)   \n",
    "            V_ini      = ds_ini.wind_speed.mean(dim='theta', skipna=True).interp(coords={'rad': rs})\n",
    "            V_fin      = ds_fin.wind_speed.mean(dim='theta', skipna=True).interp(coords={'rad': rs})\n",
    "            Vh_ini     = holland_profile(rs, float(abs(ds_ini.lat_center)), float(ds_ini.pn_hol), float(ds_ini.pc_hol), float(ds_ini.Vmin_hol), float(ds_ini.Rmax_hol), float(ds_ini.Vmax_hol))\n",
    "            Vh_fin     = holland_profile(rs, float(abs(ds_fin.lat_center)), float(ds_fin.pn_hol), float(ds_fin.pc_hol), float(ds_fin.Vmin_hol), float(ds_fin.Rmax_hol), float(ds_fin.Vmax_hol))\n",
    "            fcor_ini   = float(abs(coriolis(ds_ini.lat_center)))\n",
    "            delta_h    = float((ds_fin.time - ds_ini.time) / np.timedelta64(1, 'h'))\n",
    "            # Compute VK10 if delta_h is less than threshold\n",
    "            if (delta_h <= time_thresh) & (delta_h > 1):\n",
    "                # dt\n",
    "                tau      = ((1 / fcor_ini) / 3600)\n",
    "                dt       = delta_h / tau\n",
    "                \n",
    "                # Fitting\n",
    "                a_fit, pcov = curve_fit(\n",
    "                    lambda r, a: propagate(r, a, Vh_ini, fcor_ini, dt, fitting_mode=True),\n",
    "                    rs,\n",
    "                    # Vh_fin,          # Option 1: Fit the whole curve\n",
    "                    np.nanmax(V_fin),  # Option 2: Fit Vmax\n",
    "                    p0=1/3,\n",
    "                    bounds=[0.01, 1.],\n",
    "                )\n",
    "                \n",
    "                print(tc_id)\n",
    "                print('delta_h = {:.1f}hr'.format(delta_h))\n",
    "                print('a = {:.2f}'.format(float(a_fit)))\n",
    "                \n",
    "                # Compute R+ metrics\n",
    "                Rp_ini, Vp_ini   = compute_RV_plus(rs, Vh_ini,    float(abs(coriolis(ds_ini.lat_center))), PRMS['n'])\n",
    "                Rp_fin, Vp_fin   = compute_RV_plus(rs, Vh_fin,    float(abs(coriolis(ds_fin.lat_center))), PRMS['n'])\n",
    "                V                = propagate(rs, a_fit, Vh_ini, fcor_ini, dt)\n",
    "                Rp_mod, Vp_mod   = compute_RV_plus(rs, V,         float(abs(coriolis(ds_fin.lat_center))), PRMS['n'])\n",
    "                Hp               = BL_height(Rp_ini, a_fit)\n",
    "                dMp              = np.gradient(rs * Vh_ini + 0.5 * fcor_ini * (rs ** 2), dr)[rs >= Rp_ini][0] # dM/dr at R+\n",
    "                    \n",
    "                # Appends\n",
    "                IDXS_INI.append(idx_ini), IDXS_FIN.append(idx_fin), TC_IDS.append(tc_id), DELTA_HS.append(delta_h), FCRS_INI.append(fcor_ini)\n",
    "                VMXS_INI.append(np.nanmax(V_ini)), VMXS_FIN.append(np.nanmax(V_fin)), AS.append(float(a_fit))          \n",
    "                RPLS_INI.append(Rp_ini), RPLS_FIN.append(Rp_fin), RPLS_MOD.append(Rp_mod), VPLS_INI.append(Vp_ini), HPLS.append(float(Hp)), DMPLS.append(float(dMp))\n",
    "\n",
    "                # Plot\n",
    "                if PRMS['sav_css']:\n",
    "                    plt.title('{}, idx_ini = {}, idx_fin = {} \\n delta_h = {:.1f} hrs, a = {:.2f}'.format(tc_id, idx_ini, idx_fin, delta_h, float(a_fit)), weight='bold')\n",
    "                    # SAR                  \n",
    "                    plt.plot(rs / 1000, V_ini, c='k',         linewidth=3, label=r'SAR, {}'.format(np.datetime_as_string(ds_ini.time, unit='m')[5:]))\n",
    "                    plt.plot(rs / 1000, V_fin, c='orangered', linewidth=3, label=r'SAR, {}'.format(np.datetime_as_string(ds_fin.time, unit='m')[5:]))\n",
    "                    # Holland\n",
    "                    plt.plot(rs / 1000, Vh_ini, linewidth=3, linestyle='dotted', c='k', label='Holland initial')\n",
    "                    plt.plot(rs / 1000, Vh_fin, linewidth=3, linestyle='dotted', c='orangered', label='Holland final')\n",
    "                    # Model\n",
    "                    for k in range(1, l + 1):\n",
    "                        V = propagate(rs, a_fit, Vh_ini, fcor_ini, dt=k * dt / l)\n",
    "                        plt.plot(rs / 1000, V, linestyle='dashed', c=clrs[k], label='MODEL, step {}'.format(k))\n",
    "                    # V = propagate(rs, a_fit, Vh_ini, fcor_ini, dt=dt)\n",
    "                    # plt.plot(rs / 1000, V, c='orangered', linestyle='dashed', label='MODEL')\n",
    "                    # V2 = propagate(rs, a_fit, Vh_ini, fcor_ini, dt=dt/2)\n",
    "                    # plt.plot(rs / 1000, V2, c='orange', linestyle='dashed', label='MODEL mid-time')\n",
    "                    # Grids\n",
    "                    plt.grid();plt.legend(loc='upper right')\n",
    "                    plt.xlim(0, 300)\n",
    "                    plt.xlabel('r (km)')\n",
    "                    plt.ylabel('Wind speed (m/s)')\n",
    "\n",
    "                    # Save\n",
    "                    plt.savefig(PTHS['sav_dir'] + 'cases/{}_ini{}_fin{}'.format(tc_id, idx_ini, idx_fin));plt.clf()\n",
    "                    \n",
    "                    \n",
    "dsf = xr.Dataset(\n",
    "    data_vars={\n",
    "        'tc_id':       ('pair', np.array(TC_IDS).astype(str)),\n",
    "        'idx_ini':     ('pair', IDXS_INI),\n",
    "        'idx_fin':     ('pair', IDXS_FIN),\n",
    "        'delta_h':     ('pair', DELTA_HS),\n",
    "        'a':           ('pair', AS),\n",
    "        'fcor_ini':    ('pair', FCRS_INI),\n",
    "        'vmx_ini':     ('pair', VMXS_INI),\n",
    "        'vmx_fin':     ('pair', VMXS_FIN),\n",
    "        'Rp_ini':      ('pair', RPLS_INI),\n",
    "        'Rp_fin':      ('pair', RPLS_FIN),\n",
    "        'Rp_mod':      ('pair', RPLS_MOD),\n",
    "        'Vp_ini':      ('pair', VPLS_INI),\n",
    "        'Hp':          ('pair', HPLS),\n",
    "        'dMp':         ('pair', DMPLS),\n",
    "    }\n",
    ")"
   ]
  },
  {
   "cell_type": "code",
   "execution_count": 177,
   "metadata": {},
   "outputs": [],
   "source": [
    "Cd_plus   = 2.5e-3\n",
    "num       = Cd_plus * dsf.Rp_ini * (dsf.Vp_ini ** 2)\n",
    "a         = np.log(dsf.Vp_ini / (2 * fcor_ini * Rp_ini))\n",
    "ubar      = dsf.Vp_ini * (1 - np.exp(-a)) / (2 * a)\n",
    "den       = ubar * dsf.dMp\n",
    "dsf['hp'] = num / den"
   ]
  },
  {
   "cell_type": "code",
   "execution_count": 192,
   "metadata": {},
   "outputs": [
    {
     "data": {
      "text/plain": [
       "<matplotlib.colorbar.Colorbar at 0x7fbe45b1e910>"
      ]
     },
     "execution_count": 192,
     "metadata": {},
     "output_type": "execute_result"
    },
    {
     "data": {
      "image/png": "[encoded data removed]",
      "text/plain": [
       "<Figure size 1500x1000 with 2 Axes>"
      ]
     },
     "metadata": {},
     "output_type": "display_data"
    }
   ],
   "source": [
    "plt.scatter(dsf.hp, dsf.Hp, c=dsf.vmx_ini ** 2, cmap=mpl.cm.get_cmap('Reds'));plt.colorbar()"
   ]
  },
  {
   "cell_type": "code",
   "execution_count": 200,
   "metadata": {},
   "outputs": [
    {
     "data": {
      "text/plain": [
       "<matplotlib.colorbar.Colorbar at 0x7fbe45583760>"
      ]
     },
     "execution_count": 200,
     "metadata": {},
     "output_type": "execute_result"
    },
    {
     "data": {
      "image/png": "[encoded data removed]",
      "text/plain": [
       "<Figure size 1500x1000 with 2 Axes>"
      ]
     },
     "metadata": {},
     "output_type": "display_data"
    }
   ],
   "source": [
    "plt.scatter(dsf.hp, dsf.Hp, c=dsf.vmx_fin - dsf.vmx_ini, cmap=mpl.cm.get_cmap('coolwarm'), vmin=-15, vmax=15);plt.colorbar()"
   ]
  },
  {
   "cell_type": "code",
   "execution_count": 206,
   "metadata": {},
   "outputs": [
    {
     "data": {
      "text/plain": [
       "Text(0.5, 0, '$\\\\Delta V_{max}$')"
      ]
     },
     "execution_count": 206,
     "metadata": {},
     "output_type": "execute_result"
    },
    {
     "data": {
      "image/png": "[encoded data removed]",
      "text/plain": [
       "<Figure size 1500x1000 with 1 Axes>"
      ]
     },
     "metadata": {},
     "output_type": "display_data"
    }
   ],
   "source": [
    "plt.scatter(dsf.vmx_fin - dsf.vmx_ini, dsf.Hp / dsf.hp)\n",
    "plt.ylabel('H / h')\n",
    "plt.xlabel(r'$\\Delta V_{max}$')"
   ]
  },
  {
   "cell_type": "code",
   "execution_count": null,
   "metadata": {},
   "outputs": [],
   "source": []
  },
  {
   "cell_type": "code",
   "execution_count": 179,
   "metadata": {},
   "outputs": [
    {
     "data": {
      "text/html": [
       "<div><svg style=\"position: absolute; width: 0; height: 0; overflow: hidden\">\n",
       "<defs>\n",
       "<symbol id=\"icon-database\" viewBox=\"0 0 32 32\">\n",
       "<path d=\"M16 0c-8.837 0-16 2.239-16 5v4c0 2.761 7.163 5 16 5s16-2.239 16-5v-4c0-2.761-7.163-5-16-5z\"></path>\n",
       "<path d=\"M16 17c-8.837 0-16-2.239-16-5v6c0 2.761 7.163 5 16 5s16-2.239 16-5v-6c0 2.761-7.163 5-16 5z\"></path>\n",
       "<path d=\"M16 26c-8.837 0-16-2.239-16-5v6c0 2.761 7.163 5 16 5s16-2.239 16-5v-6c0 2.761-7.163 5-16 5z\"></path>\n",
       "</symbol>\n",
       "<symbol id=\"icon-file-text2\" viewBox=\"0 0 32 32\">\n",
       "<path d=\"M28.681 7.159c-0.694-0.947-1.662-2.053-2.724-3.116s-2.169-2.030-3.116-2.724c-1.612-1.182-2.393-1.319-2.841-1.319h-15.5c-1.378 0-2.5 1.121-2.5 2.5v27c0 1.378 1.122 2.5 2.5 2.5h23c1.378 0 2.5-1.122 2.5-2.5v-19.5c0-0.448-0.137-1.23-1.319-2.841zM24.543 5.457c0.959 0.959 1.712 1.825 2.268 2.543h-4.811v-4.811c0.718 0.556 1.584 1.309 2.543 2.268zM28 29.5c0 0.271-0.229 0.5-0.5 0.5h-23c-0.271 0-0.5-0.229-0.5-0.5v-27c0-0.271 0.229-0.5 0.5-0.5 0 0 15.499-0 15.5 0v7c0 0.552 0.448 1 1 1h7v19.5z\"></path>\n",
       "<path d=\"M23 26h-14c-0.552 0-1-0.448-1-1s0.448-1 1-1h14c0.552 0 1 0.448 1 1s-0.448 1-1 1z\"></path>\n",
       "<path d=\"M23 22h-14c-0.552 0-1-0.448-1-1s0.448-1 1-1h14c0.552 0 1 0.448 1 1s-0.448 1-1 1z\"></path>\n",
       "<path d=\"M23 18h-14c-0.552 0-1-0.448-1-1s0.448-1 1-1h14c0.552 0 1 0.448 1 1s-0.448 1-1 1z\"></path>\n",
       "</symbol>\n",
       "</defs>\n",
       "</svg>\n",
       "<style>/* CSS stylesheet for displaying xarray objects in jupyterlab.\n",
       " *\n",
       " */\n",
       "\n",
       ":root {\n",
       "  --xr-font-color0: var(--jp-content-font-color0, rgba(0, 0, 0, 1));\n",
       "  --xr-font-color2: var(--jp-content-font-color2, rgba(0, 0, 0, 0.54));\n",
       "  --xr-font-color3: var(--jp-content-font-color3, rgba(0, 0, 0, 0.38));\n",
       "  --xr-border-color: var(--jp-border-color2, #e0e0e0);\n",
       "  --xr-disabled-color: var(--jp-layout-color3, #bdbdbd);\n",
       "  --xr-background-color: var(--jp-layout-color0, white);\n",
       "  --xr-background-color-row-even: var(--jp-layout-color1, white);\n",
       "  --xr-background-color-row-odd: var(--jp-layout-color2, #eeeeee);\n",
       "}\n",
       "\n",
       "html[theme=dark],\n",
       "body[data-theme=dark],\n",
       "body.vscode-dark {\n",
       "  --xr-font-color0: rgba(255, 255, 255, 1);\n",
       "  --xr-font-color2: rgba(255, 255, 255, 0.54);\n",
       "  --xr-font-color3: rgba(255, 255, 255, 0.38);\n",
       "  --xr-border-color: #1F1F1F;\n",
       "  --xr-disabled-color: #515151;\n",
       "  --xr-background-color: #111111;\n",
       "  --xr-background-color-row-even: #111111;\n",
       "  --xr-background-color-row-odd: #313131;\n",
       "}\n",
       "\n",
       ".xr-wrap {\n",
       "  display: block !important;\n",
       "  min-width: 300px;\n",
       "  max-width: 700px;\n",
       "}\n",
       "\n",
       ".xr-text-repr-fallback {\n",
       "  /* fallback to plain text repr when CSS is not injected (untrusted notebook) */\n",
       "  display: none;\n",
       "}\n",
       "\n",
       ".xr-header {\n",
       "  padding-top: 6px;\n",
       "  padding-bottom: 6px;\n",
       "  margin-bottom: 4px;\n",
       "  border-bottom: solid 1px var(--xr-border-color);\n",
       "}\n",
       "\n",
       ".xr-header > div,\n",
       ".xr-header > ul {\n",
       "  display: inline;\n",
       "  margin-top: 0;\n",
       "  margin-bottom: 0;\n",
       "}\n",
       "\n",
       ".xr-obj-type,\n",
       ".xr-array-name {\n",
       "  margin-left: 2px;\n",
       "  margin-right: 10px;\n",
       "}\n",
       "\n",
       ".xr-obj-type {\n",
       "  color: var(--xr-font-color2);\n",
       "}\n",
       "\n",
       ".xr-sections {\n",
       "  padding-left: 0 !important;\n",
       "  display: grid;\n",
       "  grid-template-columns: 150px auto auto 1fr 20px 20px;\n",
       "}\n",
       "\n",
       ".xr-section-item {\n",
       "  display: contents;\n",
       "}\n",
       "\n",
       ".xr-section-item input {\n",
       "  display: none;\n",
       "}\n",
       "\n",
       ".xr-section-item input + label {\n",
       "  color: var(--xr-disabled-color);\n",
       "}\n",
       "\n",
       ".xr-section-item input:enabled + label {\n",
       "  cursor: pointer;\n",
       "  color: var(--xr-font-color2);\n",
       "}\n",
       "\n",
       ".xr-section-item input:enabled + label:hover {\n",
       "  color: var(--xr-font-color0);\n",
       "}\n",
       "\n",
       ".xr-section-summary {\n",
       "  grid-column: 1;\n",
       "  color: var(--xr-font-color2);\n",
       "  font-weight: 500;\n",
       "}\n",
       "\n",
       ".xr-section-summary > span {\n",
       "  display: inline-block;\n",
       "  padding-left: 0.5em;\n",
       "}\n",
       "\n",
       ".xr-section-summary-in:disabled + label {\n",
       "  color: var(--xr-font-color2);\n",
       "}\n",
       "\n",
       ".xr-section-summary-in + label:before {\n",
       "  display: inline-block;\n",
       "  content: '►';\n",
       "  font-size: 11px;\n",
       "  width: 15px;\n",
       "  text-align: center;\n",
       "}\n",
       "\n",
       ".xr-section-summary-in:disabled + label:before {\n",
       "  color: var(--xr-disabled-color);\n",
       "}\n",
       "\n",
       ".xr-section-summary-in:checked + label:before {\n",
       "  content: '▼';\n",
       "}\n",
       "\n",
       ".xr-section-summary-in:checked + label > span {\n",
       "  display: none;\n",
       "}\n",
       "\n",
       ".xr-section-summary,\n",
       ".xr-section-inline-details {\n",
       "  padding-top: 4px;\n",
       "  padding-bottom: 4px;\n",
       "}\n",
       "\n",
       ".xr-section-inline-details {\n",
       "  grid-column: 2 / -1;\n",
       "}\n",
       "\n",
       ".xr-section-details {\n",
       "  display: none;\n",
       "  grid-column: 1 / -1;\n",
       "  margin-bottom: 5px;\n",
       "}\n",
       "\n",
       ".xr-section-summary-in:checked ~ .xr-section-details {\n",
       "  display: contents;\n",
       "}\n",
       "\n",
       ".xr-array-wrap {\n",
       "  grid-column: 1 / -1;\n",
       "  display: grid;\n",
       "  grid-template-columns: 20px auto;\n",
       "}\n",
       "\n",
       ".xr-array-wrap > label {\n",
       "  grid-column: 1;\n",
       "  vertical-align: top;\n",
       "}\n",
       "\n",
       ".xr-preview {\n",
       "  color: var(--xr-font-color3);\n",
       "}\n",
       "\n",
       ".xr-array-preview,\n",
       ".xr-array-data {\n",
       "  padding: 0 5px !important;\n",
       "  grid-column: 2;\n",
       "}\n",
       "\n",
       ".xr-array-data,\n",
       ".xr-array-in:checked ~ .xr-array-preview {\n",
       "  display: none;\n",
       "}\n",
       "\n",
       ".xr-array-in:checked ~ .xr-array-data,\n",
       ".xr-array-preview {\n",
       "  display: inline-block;\n",
       "}\n",
       "\n",
       ".xr-dim-list {\n",
       "  display: inline-block !important;\n",
       "  list-style: none;\n",
       "  padding: 0 !important;\n",
       "  margin: 0;\n",
       "}\n",
       "\n",
       ".xr-dim-list li {\n",
       "  display: inline-block;\n",
       "  padding: 0;\n",
       "  margin: 0;\n",
       "}\n",
       "\n",
       ".xr-dim-list:before {\n",
       "  content: '(';\n",
       "}\n",
       "\n",
       ".xr-dim-list:after {\n",
       "  content: ')';\n",
       "}\n",
       "\n",
       ".xr-dim-list li:not(:last-child):after {\n",
       "  content: ',';\n",
       "  padding-right: 5px;\n",
       "}\n",
       "\n",
       ".xr-has-index {\n",
       "  font-weight: bold;\n",
       "}\n",
       "\n",
       ".xr-var-list,\n",
       ".xr-var-item {\n",
       "  display: contents;\n",
       "}\n",
       "\n",
       ".xr-var-item > div,\n",
       ".xr-var-item label,\n",
       ".xr-var-item > .xr-var-name span {\n",
       "  background-color: var(--xr-background-color-row-even);\n",
       "  margin-bottom: 0;\n",
       "}\n",
       "\n",
       ".xr-var-item > .xr-var-name:hover span {\n",
       "  padding-right: 5px;\n",
       "}\n",
       "\n",
       ".xr-var-list > li:nth-child(odd) > div,\n",
       ".xr-var-list > li:nth-child(odd) > label,\n",
       ".xr-var-list > li:nth-child(odd) > .xr-var-name span {\n",
       "  background-color: var(--xr-background-color-row-odd);\n",
       "}\n",
       "\n",
       ".xr-var-name {\n",
       "  grid-column: 1;\n",
       "}\n",
       "\n",
       ".xr-var-dims {\n",
       "  grid-column: 2;\n",
       "}\n",
       "\n",
       ".xr-var-dtype {\n",
       "  grid-column: 3;\n",
       "  text-align: right;\n",
       "  color: var(--xr-font-color2);\n",
       "}\n",
       "\n",
       ".xr-var-preview {\n",
       "  grid-column: 4;\n",
       "}\n",
       "\n",
       ".xr-index-preview {\n",
       "  grid-column: 2 / 5;\n",
       "  color: var(--xr-font-color2);\n",
       "}\n",
       "\n",
       ".xr-var-name,\n",
       ".xr-var-dims,\n",
       ".xr-var-dtype,\n",
       ".xr-preview,\n",
       ".xr-attrs dt {\n",
       "  white-space: nowrap;\n",
       "  overflow: hidden;\n",
       "  text-overflow: ellipsis;\n",
       "  padding-right: 10px;\n",
       "}\n",
       "\n",
       ".xr-var-name:hover,\n",
       ".xr-var-dims:hover,\n",
       ".xr-var-dtype:hover,\n",
       ".xr-attrs dt:hover {\n",
       "  overflow: visible;\n",
       "  width: auto;\n",
       "  z-index: 1;\n",
       "}\n",
       "\n",
       ".xr-var-attrs,\n",
       ".xr-var-data,\n",
       ".xr-index-data {\n",
       "  display: none;\n",
       "  background-color: var(--xr-background-color) !important;\n",
       "  padding-bottom: 5px !important;\n",
       "}\n",
       "\n",
       ".xr-var-attrs-in:checked ~ .xr-var-attrs,\n",
       ".xr-var-data-in:checked ~ .xr-var-data,\n",
       ".xr-index-data-in:checked ~ .xr-index-data {\n",
       "  display: block;\n",
       "}\n",
       "\n",
       ".xr-var-data > table {\n",
       "  float: right;\n",
       "}\n",
       "\n",
       ".xr-var-name span,\n",
       ".xr-var-data,\n",
       ".xr-index-name div,\n",
       ".xr-index-data,\n",
       ".xr-attrs {\n",
       "  padding-left: 25px !important;\n",
       "}\n",
       "\n",
       ".xr-attrs,\n",
       ".xr-var-attrs,\n",
       ".xr-var-data,\n",
       ".xr-index-data {\n",
       "  grid-column: 1 / -1;\n",
       "}\n",
       "\n",
       "dl.xr-attrs {\n",
       "  padding: 0;\n",
       "  margin: 0;\n",
       "  display: grid;\n",
       "  grid-template-columns: 125px auto;\n",
       "}\n",
       "\n",
       ".xr-attrs dt,\n",
       ".xr-attrs dd {\n",
       "  padding: 0;\n",
       "  margin: 0;\n",
       "  float: left;\n",
       "  padding-right: 10px;\n",
       "  width: auto;\n",
       "}\n",
       "\n",
       ".xr-attrs dt {\n",
       "  font-weight: normal;\n",
       "  grid-column: 1;\n",
       "}\n",
       "\n",
       ".xr-attrs dt:hover span {\n",
       "  display: inline-block;\n",
       "  background: var(--xr-background-color);\n",
       "  padding-right: 10px;\n",
       "}\n",
       "\n",
       ".xr-attrs dd {\n",
       "  grid-column: 2;\n",
       "  white-space: pre-wrap;\n",
       "  word-break: break-all;\n",
       "}\n",
       "\n",
       ".xr-icon-database,\n",
       ".xr-icon-file-text2,\n",
       ".xr-no-icon {\n",
       "  display: inline-block;\n",
       "  vertical-align: middle;\n",
       "  width: 1em;\n",
       "  height: 1.5em !important;\n",
       "  stroke-width: 0;\n",
       "  stroke: currentColor;\n",
       "  fill: currentColor;\n",
       "}\n",
       "</style><pre class='xr-text-repr-fallback'>&lt;xarray.Dataset&gt;\n",
       "Dimensions:   (pair: 3)\n",
       "Dimensions without coordinates: pair\n",
       "Data variables: (12/15)\n",
       "    tc_id     (pair) object &#x27;al182021&#x27; &#x27;ep162018&#x27; &#x27;wp222020&#x27;\n",
       "    idx_ini   (pair) float64 2.0 0.0 0.0\n",
       "    idx_fin   (pair) float64 3.0 1.0 1.0\n",
       "    delta_h   (pair) float64 11.93 12.2 12.49\n",
       "    a         (pair) float64 0.6194 0.6825 0.8657\n",
       "    fcor_ini  (pair) float64 5.033e-05 4.156e-05 4.098e-05\n",
       "    ...        ...\n",
       "    Rp_fin    (pair) float64 4.745e+04 4.611e+04 4.568e+04\n",
       "    Rp_mod    (pair) float64 4.549e+04 4.401e+04 3.393e+04\n",
       "    Vp_ini    (pair) float64 32.56 33.23 28.04\n",
       "    Hp        (pair) float64 3.446e+04 3.209e+04 3.011e+04\n",
       "    dMp       (pair) float64 16.85 11.77 8.586\n",
       "    hp        (pair) float64 1.427e+03 1.774e+03 1.438e+03</pre><div class='xr-wrap' style='display:none'><div class='xr-header'><div class='xr-obj-type'>xarray.Dataset</div></div><ul class='xr-sections'><li class='xr-section-item'><input id='section-0f44650c-c08d-45f7-9d7a-8fb13087c237' class='xr-section-summary-in' type='checkbox' disabled ><label for='section-0f44650c-c08d-45f7-9d7a-8fb13087c237' class='xr-section-summary'  title='Expand/collapse section'>Dimensions:</label><div class='xr-section-inline-details'><ul class='xr-dim-list'><li><span>pair</span>: 3</li></ul></div><div class='xr-section-details'></div></li><li class='xr-section-item'><input id='section-4da0ffab-c63d-4385-8aa3-e1397b858731' class='xr-section-summary-in' type='checkbox' disabled ><label for='section-4da0ffab-c63d-4385-8aa3-e1397b858731' class='xr-section-summary'  title='Expand/collapse section'>Coordinates: <span>(0)</span></label><div class='xr-section-inline-details'></div><div class='xr-section-details'><ul class='xr-var-list'></ul></div></li><li class='xr-section-item'><input id='section-bc776606-b2f9-472d-9b0c-73f1fa4238e1' class='xr-section-summary-in' type='checkbox'  ><label for='section-bc776606-b2f9-472d-9b0c-73f1fa4238e1' class='xr-section-summary' >Data variables: <span>(15)</span></label><div class='xr-section-inline-details'></div><div class='xr-section-details'><ul class='xr-var-list'><li class='xr-var-item'><div class='xr-var-name'><span>tc_id</span></div><div class='xr-var-dims'>(pair)</div><div class='xr-var-dtype'>object</div><div class='xr-var-preview xr-preview'>&#x27;al182021&#x27; &#x27;ep162018&#x27; &#x27;wp222020&#x27;</div><input id='attrs-fb8efcfc-203d-4ab8-9c55-ba44a4e254ce' class='xr-var-attrs-in' type='checkbox' disabled><label for='attrs-fb8efcfc-203d-4ab8-9c55-ba44a4e254ce' title='Show/Hide attributes'><svg class='icon xr-icon-file-text2'><use xlink:href='#icon-file-text2'></use></svg></label><input id='data-0cd51295-33a3-4fcd-9a33-2d5162cc9e76' class='xr-var-data-in' type='checkbox'><label for='data-0cd51295-33a3-4fcd-9a33-2d5162cc9e76' title='Show/Hide data repr'><svg class='icon xr-icon-database'><use xlink:href='#icon-database'></use></svg></label><div class='xr-var-attrs'><dl class='xr-attrs'></dl></div><div class='xr-var-data'><pre>array([&#x27;al182021&#x27;, &#x27;ep162018&#x27;, &#x27;wp222020&#x27;], dtype=object)</pre></div></li><li class='xr-var-item'><div class='xr-var-name'><span>idx_ini</span></div><div class='xr-var-dims'>(pair)</div><div class='xr-var-dtype'>float64</div><div class='xr-var-preview xr-preview'>2.0 0.0 0.0</div><input id='attrs-3637d5e5-8353-418e-a8db-46fdb4b6ae11' class='xr-var-attrs-in' type='checkbox' disabled><label for='attrs-3637d5e5-8353-418e-a8db-46fdb4b6ae11' title='Show/Hide attributes'><svg class='icon xr-icon-file-text2'><use xlink:href='#icon-file-text2'></use></svg></label><input id='data-bcabddde-8b8a-41cf-b071-0dae7fc09943' class='xr-var-data-in' type='checkbox'><label for='data-bcabddde-8b8a-41cf-b071-0dae7fc09943' title='Show/Hide data repr'><svg class='icon xr-icon-database'><use xlink:href='#icon-database'></use></svg></label><div class='xr-var-attrs'><dl class='xr-attrs'></dl></div><div class='xr-var-data'><pre>array([2., 0., 0.])</pre></div></li><li class='xr-var-item'><div class='xr-var-name'><span>idx_fin</span></div><div class='xr-var-dims'>(pair)</div><div class='xr-var-dtype'>float64</div><div class='xr-var-preview xr-preview'>3.0 1.0 1.0</div><input id='attrs-a138195d-ae51-4c96-9cc9-605b0890b274' class='xr-var-attrs-in' type='checkbox' disabled><label for='attrs-a138195d-ae51-4c96-9cc9-605b0890b274' title='Show/Hide attributes'><svg class='icon xr-icon-file-text2'><use xlink:href='#icon-file-text2'></use></svg></label><input id='data-e0195b3b-bf21-4e17-a351-e30ffab233d1' class='xr-var-data-in' type='checkbox'><label for='data-e0195b3b-bf21-4e17-a351-e30ffab233d1' title='Show/Hide data repr'><svg class='icon xr-icon-database'><use xlink:href='#icon-database'></use></svg></label><div class='xr-var-attrs'><dl class='xr-attrs'></dl></div><div class='xr-var-data'><pre>array([3., 1., 1.])</pre></div></li><li class='xr-var-item'><div class='xr-var-name'><span>delta_h</span></div><div class='xr-var-dims'>(pair)</div><div class='xr-var-dtype'>float64</div><div class='xr-var-preview xr-preview'>11.93 12.2 12.49</div><input id='attrs-a3986d08-a2ab-4a5d-880c-92c529e61f13' class='xr-var-attrs-in' type='checkbox' disabled><label for='attrs-a3986d08-a2ab-4a5d-880c-92c529e61f13' title='Show/Hide attributes'><svg class='icon xr-icon-file-text2'><use xlink:href='#icon-file-text2'></use></svg></label><input id='data-5e648f93-5380-4348-bdd9-33537a5fbea6' class='xr-var-data-in' type='checkbox'><label for='data-5e648f93-5380-4348-bdd9-33537a5fbea6' title='Show/Hide data repr'><svg class='icon xr-icon-database'><use xlink:href='#icon-database'></use></svg></label><div class='xr-var-attrs'><dl class='xr-attrs'></dl></div><div class='xr-var-data'><pre>array([11.92833333, 12.2       , 12.48638889])</pre></div></li><li class='xr-var-item'><div class='xr-var-name'><span>a</span></div><div class='xr-var-dims'>(pair)</div><div class='xr-var-dtype'>float64</div><div class='xr-var-preview xr-preview'>0.6194 0.6825 0.8657</div><input id='attrs-38d1b283-bcee-4fa0-aede-9626d509f1b1' class='xr-var-attrs-in' type='checkbox' disabled><label for='attrs-38d1b283-bcee-4fa0-aede-9626d509f1b1' title='Show/Hide attributes'><svg class='icon xr-icon-file-text2'><use xlink:href='#icon-file-text2'></use></svg></label><input id='data-0f2fdc3a-db6a-42e6-9c68-b7cb86d8296e' class='xr-var-data-in' type='checkbox'><label for='data-0f2fdc3a-db6a-42e6-9c68-b7cb86d8296e' title='Show/Hide data repr'><svg class='icon xr-icon-database'><use xlink:href='#icon-database'></use></svg></label><div class='xr-var-attrs'><dl class='xr-attrs'></dl></div><div class='xr-var-data'><pre>array([0.61936927, 0.68252372, 0.865677  ])</pre></div></li><li class='xr-var-item'><div class='xr-var-name'><span>fcor_ini</span></div><div class='xr-var-dims'>(pair)</div><div class='xr-var-dtype'>float64</div><div class='xr-var-preview xr-preview'>5.033e-05 4.156e-05 4.098e-05</div><input id='attrs-150d6676-beb9-4513-a908-360f52b9af64' class='xr-var-attrs-in' type='checkbox' disabled><label for='attrs-150d6676-beb9-4513-a908-360f52b9af64' title='Show/Hide attributes'><svg class='icon xr-icon-file-text2'><use xlink:href='#icon-file-text2'></use></svg></label><input id='data-88c4bcbc-a118-47bb-98d8-a15b4f8235a2' class='xr-var-data-in' type='checkbox'><label for='data-88c4bcbc-a118-47bb-98d8-a15b4f8235a2' title='Show/Hide data repr'><svg class='icon xr-icon-database'><use xlink:href='#icon-database'></use></svg></label><div class='xr-var-attrs'><dl class='xr-attrs'></dl></div><div class='xr-var-data'><pre>array([5.03258537e-05, 4.15564473e-05, 4.09800560e-05])</pre></div></li><li class='xr-var-item'><div class='xr-var-name'><span>vmx_ini</span></div><div class='xr-var-dims'>(pair)</div><div class='xr-var-dtype'>float64</div><div class='xr-var-preview xr-preview'>44.18 45.17 48.84</div><input id='attrs-9459fdd7-f2a5-4f22-92b5-0e6f2e238ad7' class='xr-var-attrs-in' type='checkbox' disabled><label for='attrs-9459fdd7-f2a5-4f22-92b5-0e6f2e238ad7' title='Show/Hide attributes'><svg class='icon xr-icon-file-text2'><use xlink:href='#icon-file-text2'></use></svg></label><input id='data-49dae2e7-3b8c-4f5c-a3a6-d42ad8182daf' class='xr-var-data-in' type='checkbox'><label for='data-49dae2e7-3b8c-4f5c-a3a6-d42ad8182daf' title='Show/Hide data repr'><svg class='icon xr-icon-database'><use xlink:href='#icon-database'></use></svg></label><div class='xr-var-attrs'><dl class='xr-attrs'></dl></div><div class='xr-var-data'><pre>array([44.17923699, 45.16610181, 48.83949072])</pre></div></li><li class='xr-var-item'><div class='xr-var-name'><span>vmx_fin</span></div><div class='xr-var-dims'>(pair)</div><div class='xr-var-dtype'>float64</div><div class='xr-var-preview xr-preview'>69.24 60.25 59.82</div><input id='attrs-f4db41d7-f390-40ff-a206-03acbdd65457' class='xr-var-attrs-in' type='checkbox' disabled><label for='attrs-f4db41d7-f390-40ff-a206-03acbdd65457' title='Show/Hide attributes'><svg class='icon xr-icon-file-text2'><use xlink:href='#icon-file-text2'></use></svg></label><input id='data-aea0c624-faee-4bd0-aa26-5232e140b062' class='xr-var-data-in' type='checkbox'><label for='data-aea0c624-faee-4bd0-aa26-5232e140b062' title='Show/Hide data repr'><svg class='icon xr-icon-database'><use xlink:href='#icon-database'></use></svg></label><div class='xr-var-attrs'><dl class='xr-attrs'></dl></div><div class='xr-var-data'><pre>array([69.23633278, 60.25455783, 59.82083293])</pre></div></li><li class='xr-var-item'><div class='xr-var-name'><span>Rp_ini</span></div><div class='xr-var-dims'>(pair)</div><div class='xr-var-dtype'>float64</div><div class='xr-var-preview xr-preview'>5.564e+04 4.701e+04 3.478e+04</div><input id='attrs-c22d4ad7-5713-4f2b-a4c7-94ad9941812d' class='xr-var-attrs-in' type='checkbox' disabled><label for='attrs-c22d4ad7-5713-4f2b-a4c7-94ad9941812d' title='Show/Hide attributes'><svg class='icon xr-icon-file-text2'><use xlink:href='#icon-file-text2'></use></svg></label><input id='data-db76f9d8-ba53-4b3d-9507-ce07e455b83c' class='xr-var-data-in' type='checkbox'><label for='data-db76f9d8-ba53-4b3d-9507-ce07e455b83c' title='Show/Hide data repr'><svg class='icon xr-icon-database'><use xlink:href='#icon-database'></use></svg></label><div class='xr-var-attrs'><dl class='xr-attrs'></dl></div><div class='xr-var-data'><pre>array([55640., 47010., 34780.])</pre></div></li><li class='xr-var-item'><div class='xr-var-name'><span>Rp_fin</span></div><div class='xr-var-dims'>(pair)</div><div class='xr-var-dtype'>float64</div><div class='xr-var-preview xr-preview'>4.745e+04 4.611e+04 4.568e+04</div><input id='attrs-c7ef1066-9c20-401c-9fef-825399f3d44f' class='xr-var-attrs-in' type='checkbox' disabled><label for='attrs-c7ef1066-9c20-401c-9fef-825399f3d44f' title='Show/Hide attributes'><svg class='icon xr-icon-file-text2'><use xlink:href='#icon-file-text2'></use></svg></label><input id='data-66df0e6a-980f-4519-bbb7-026fa0a541d8' class='xr-var-data-in' type='checkbox'><label for='data-66df0e6a-980f-4519-bbb7-026fa0a541d8' title='Show/Hide data repr'><svg class='icon xr-icon-database'><use xlink:href='#icon-database'></use></svg></label><div class='xr-var-attrs'><dl class='xr-attrs'></dl></div><div class='xr-var-data'><pre>array([47450., 46110., 45680.])</pre></div></li><li class='xr-var-item'><div class='xr-var-name'><span>Rp_mod</span></div><div class='xr-var-dims'>(pair)</div><div class='xr-var-dtype'>float64</div><div class='xr-var-preview xr-preview'>4.549e+04 4.401e+04 3.393e+04</div><input id='attrs-83db7a59-a270-44c3-9d41-9a1f17a2f30d' class='xr-var-attrs-in' type='checkbox' disabled><label for='attrs-83db7a59-a270-44c3-9d41-9a1f17a2f30d' title='Show/Hide attributes'><svg class='icon xr-icon-file-text2'><use xlink:href='#icon-file-text2'></use></svg></label><input id='data-6501ba85-ccfe-4288-b090-43cd152004aa' class='xr-var-data-in' type='checkbox'><label for='data-6501ba85-ccfe-4288-b090-43cd152004aa' title='Show/Hide data repr'><svg class='icon xr-icon-database'><use xlink:href='#icon-database'></use></svg></label><div class='xr-var-attrs'><dl class='xr-attrs'></dl></div><div class='xr-var-data'><pre>array([45490., 44010., 33930.])</pre></div></li><li class='xr-var-item'><div class='xr-var-name'><span>Vp_ini</span></div><div class='xr-var-dims'>(pair)</div><div class='xr-var-dtype'>float64</div><div class='xr-var-preview xr-preview'>32.56 33.23 28.04</div><input id='attrs-3b366936-220d-401a-a05a-a7629dd17971' class='xr-var-attrs-in' type='checkbox' disabled><label for='attrs-3b366936-220d-401a-a05a-a7629dd17971' title='Show/Hide attributes'><svg class='icon xr-icon-file-text2'><use xlink:href='#icon-file-text2'></use></svg></label><input id='data-3ee5909f-d940-44c1-b291-27902bc8bc4b' class='xr-var-data-in' type='checkbox'><label for='data-3ee5909f-d940-44c1-b291-27902bc8bc4b' title='Show/Hide data repr'><svg class='icon xr-icon-database'><use xlink:href='#icon-database'></use></svg></label><div class='xr-var-attrs'><dl class='xr-attrs'></dl></div><div class='xr-var-data'><pre>array([32.55640061, 33.23222268, 28.04143217])</pre></div></li><li class='xr-var-item'><div class='xr-var-name'><span>Hp</span></div><div class='xr-var-dims'>(pair)</div><div class='xr-var-dtype'>float64</div><div class='xr-var-preview xr-preview'>3.446e+04 3.209e+04 3.011e+04</div><input id='attrs-203e3233-da69-423e-a748-17445502ae27' class='xr-var-attrs-in' type='checkbox' disabled><label for='attrs-203e3233-da69-423e-a748-17445502ae27' title='Show/Hide attributes'><svg class='icon xr-icon-file-text2'><use xlink:href='#icon-file-text2'></use></svg></label><input id='data-18d4f13d-ab51-4f59-b988-a9b067bcc217' class='xr-var-data-in' type='checkbox'><label for='data-18d4f13d-ab51-4f59-b988-a9b067bcc217' title='Show/Hide data repr'><svg class='icon xr-icon-database'><use xlink:href='#icon-database'></use></svg></label><div class='xr-var-attrs'><dl class='xr-attrs'></dl></div><div class='xr-var-data'><pre>array([34461.70633558, 32085.44008295, 30108.24618319])</pre></div></li><li class='xr-var-item'><div class='xr-var-name'><span>dMp</span></div><div class='xr-var-dims'>(pair)</div><div class='xr-var-dtype'>float64</div><div class='xr-var-preview xr-preview'>16.85 11.77 8.586</div><input id='attrs-028e958e-811b-4e31-b8dd-d77cc1c328eb' class='xr-var-attrs-in' type='checkbox' disabled><label for='attrs-028e958e-811b-4e31-b8dd-d77cc1c328eb' title='Show/Hide attributes'><svg class='icon xr-icon-file-text2'><use xlink:href='#icon-file-text2'></use></svg></label><input id='data-dce9144a-f980-442d-8c8e-34d84bcc9f02' class='xr-var-data-in' type='checkbox'><label for='data-dce9144a-f980-442d-8c8e-34d84bcc9f02' title='Show/Hide data repr'><svg class='icon xr-icon-database'><use xlink:href='#icon-database'></use></svg></label><div class='xr-var-attrs'><dl class='xr-attrs'></dl></div><div class='xr-var-data'><pre>array([16.85448084, 11.76549605,  8.58615652])</pre></div></li><li class='xr-var-item'><div class='xr-var-name'><span>hp</span></div><div class='xr-var-dims'>(pair)</div><div class='xr-var-dtype'>float64</div><div class='xr-var-preview xr-preview'>1.427e+03 1.774e+03 1.438e+03</div><input id='attrs-fe361c94-5826-46a3-857f-bbbec89d5d46' class='xr-var-attrs-in' type='checkbox' disabled><label for='attrs-fe361c94-5826-46a3-857f-bbbec89d5d46' title='Show/Hide attributes'><svg class='icon xr-icon-file-text2'><use xlink:href='#icon-file-text2'></use></svg></label><input id='data-f506506d-488a-4d06-b4f3-cb4f1717fde5' class='xr-var-data-in' type='checkbox'><label for='data-f506506d-488a-4d06-b4f3-cb4f1717fde5' title='Show/Hide data repr'><svg class='icon xr-icon-database'><use xlink:href='#icon-database'></use></svg></label><div class='xr-var-attrs'><dl class='xr-attrs'></dl></div><div class='xr-var-data'><pre>array([1426.8814268 , 1774.31308874, 1437.57758585])</pre></div></li></ul></div></li><li class='xr-section-item'><input id='section-ed2f9d3c-9da7-4cea-abf2-b8d1e78d5d10' class='xr-section-summary-in' type='checkbox' disabled ><label for='section-ed2f9d3c-9da7-4cea-abf2-b8d1e78d5d10' class='xr-section-summary'  title='Expand/collapse section'>Indexes: <span>(0)</span></label><div class='xr-section-inline-details'></div><div class='xr-section-details'><ul class='xr-var-list'></ul></div></li><li class='xr-section-item'><input id='section-743cdddc-bca7-4703-b3ca-7476481c0448' class='xr-section-summary-in' type='checkbox' disabled ><label for='section-743cdddc-bca7-4703-b3ca-7476481c0448' class='xr-section-summary'  title='Expand/collapse section'>Attributes: <span>(0)</span></label><div class='xr-section-inline-details'></div><div class='xr-section-details'><dl class='xr-attrs'></dl></div></li></ul></div></div>"
      ],
      "text/plain": [
       "<xarray.Dataset>\n",
       "Dimensions:   (pair: 3)\n",
       "Dimensions without coordinates: pair\n",
       "Data variables: (12/15)\n",
       "    tc_id     (pair) object 'al182021' 'ep162018' 'wp222020'\n",
       "    idx_ini   (pair) float64 2.0 0.0 0.0\n",
       "    idx_fin   (pair) float64 3.0 1.0 1.0\n",
       "    delta_h   (pair) float64 11.93 12.2 12.49\n",
       "    a         (pair) float64 0.6194 0.6825 0.8657\n",
       "    fcor_ini  (pair) float64 5.033e-05 4.156e-05 4.098e-05\n",
       "    ...        ...\n",
       "    Rp_fin    (pair) float64 4.745e+04 4.611e+04 4.568e+04\n",
       "    Rp_mod    (pair) float64 4.549e+04 4.401e+04 3.393e+04\n",
       "    Vp_ini    (pair) float64 32.56 33.23 28.04\n",
       "    Hp        (pair) float64 3.446e+04 3.209e+04 3.011e+04\n",
       "    dMp       (pair) float64 16.85 11.77 8.586\n",
       "    hp        (pair) float64 1.427e+03 1.774e+03 1.438e+03"
      ]
     },
     "execution_count": 179,
     "metadata": {},
     "output_type": "execute_result"
    }
   ],
   "source": [
    "dsf.where(dsf.Hp > 27000, drop=True)"
   ]
  },
  {
   "cell_type": "code",
   "execution_count": 180,
   "metadata": {},
   "outputs": [
    {
     "data": {
      "text/html": [
       "<div><svg style=\"position: absolute; width: 0; height: 0; overflow: hidden\">\n",
       "<defs>\n",
       "<symbol id=\"icon-database\" viewBox=\"0 0 32 32\">\n",
       "<path d=\"M16 0c-8.837 0-16 2.239-16 5v4c0 2.761 7.163 5 16 5s16-2.239 16-5v-4c0-2.761-7.163-5-16-5z\"></path>\n",
       "<path d=\"M16 17c-8.837 0-16-2.239-16-5v6c0 2.761 7.163 5 16 5s16-2.239 16-5v-6c0 2.761-7.163 5-16 5z\"></path>\n",
       "<path d=\"M16 26c-8.837 0-16-2.239-16-5v6c0 2.761 7.163 5 16 5s16-2.239 16-5v-6c0 2.761-7.163 5-16 5z\"></path>\n",
       "</symbol>\n",
       "<symbol id=\"icon-file-text2\" viewBox=\"0 0 32 32\">\n",
       "<path d=\"M28.681 7.159c-0.694-0.947-1.662-2.053-2.724-3.116s-2.169-2.030-3.116-2.724c-1.612-1.182-2.393-1.319-2.841-1.319h-15.5c-1.378 0-2.5 1.121-2.5 2.5v27c0 1.378 1.122 2.5 2.5 2.5h23c1.378 0 2.5-1.122 2.5-2.5v-19.5c0-0.448-0.137-1.23-1.319-2.841zM24.543 5.457c0.959 0.959 1.712 1.825 2.268 2.543h-4.811v-4.811c0.718 0.556 1.584 1.309 2.543 2.268zM28 29.5c0 0.271-0.229 0.5-0.5 0.5h-23c-0.271 0-0.5-0.229-0.5-0.5v-27c0-0.271 0.229-0.5 0.5-0.5 0 0 15.499-0 15.5 0v7c0 0.552 0.448 1 1 1h7v19.5z\"></path>\n",
       "<path d=\"M23 26h-14c-0.552 0-1-0.448-1-1s0.448-1 1-1h14c0.552 0 1 0.448 1 1s-0.448 1-1 1z\"></path>\n",
       "<path d=\"M23 22h-14c-0.552 0-1-0.448-1-1s0.448-1 1-1h14c0.552 0 1 0.448 1 1s-0.448 1-1 1z\"></path>\n",
       "<path d=\"M23 18h-14c-0.552 0-1-0.448-1-1s0.448-1 1-1h14c0.552 0 1 0.448 1 1s-0.448 1-1 1z\"></path>\n",
       "</symbol>\n",
       "</defs>\n",
       "</svg>\n",
       "<style>/* CSS stylesheet for displaying xarray objects in jupyterlab.\n",
       " *\n",
       " */\n",
       "\n",
       ":root {\n",
       "  --xr-font-color0: var(--jp-content-font-color0, rgba(0, 0, 0, 1));\n",
       "  --xr-font-color2: var(--jp-content-font-color2, rgba(0, 0, 0, 0.54));\n",
       "  --xr-font-color3: var(--jp-content-font-color3, rgba(0, 0, 0, 0.38));\n",
       "  --xr-border-color: var(--jp-border-color2, #e0e0e0);\n",
       "  --xr-disabled-color: var(--jp-layout-color3, #bdbdbd);\n",
       "  --xr-background-color: var(--jp-layout-color0, white);\n",
       "  --xr-background-color-row-even: var(--jp-layout-color1, white);\n",
       "  --xr-background-color-row-odd: var(--jp-layout-color2, #eeeeee);\n",
       "}\n",
       "\n",
       "html[theme=dark],\n",
       "body[data-theme=dark],\n",
       "body.vscode-dark {\n",
       "  --xr-font-color0: rgba(255, 255, 255, 1);\n",
       "  --xr-font-color2: rgba(255, 255, 255, 0.54);\n",
       "  --xr-font-color3: rgba(255, 255, 255, 0.38);\n",
       "  --xr-border-color: #1F1F1F;\n",
       "  --xr-disabled-color: #515151;\n",
       "  --xr-background-color: #111111;\n",
       "  --xr-background-color-row-even: #111111;\n",
       "  --xr-background-color-row-odd: #313131;\n",
       "}\n",
       "\n",
       ".xr-wrap {\n",
       "  display: block !important;\n",
       "  min-width: 300px;\n",
       "  max-width: 700px;\n",
       "}\n",
       "\n",
       ".xr-text-repr-fallback {\n",
       "  /* fallback to plain text repr when CSS is not injected (untrusted notebook) */\n",
       "  display: none;\n",
       "}\n",
       "\n",
       ".xr-header {\n",
       "  padding-top: 6px;\n",
       "  padding-bottom: 6px;\n",
       "  margin-bottom: 4px;\n",
       "  border-bottom: solid 1px var(--xr-border-color);\n",
       "}\n",
       "\n",
       ".xr-header > div,\n",
       ".xr-header > ul {\n",
       "  display: inline;\n",
       "  margin-top: 0;\n",
       "  margin-bottom: 0;\n",
       "}\n",
       "\n",
       ".xr-obj-type,\n",
       ".xr-array-name {\n",
       "  margin-left: 2px;\n",
       "  margin-right: 10px;\n",
       "}\n",
       "\n",
       ".xr-obj-type {\n",
       "  color: var(--xr-font-color2);\n",
       "}\n",
       "\n",
       ".xr-sections {\n",
       "  padding-left: 0 !important;\n",
       "  display: grid;\n",
       "  grid-template-columns: 150px auto auto 1fr 20px 20px;\n",
       "}\n",
       "\n",
       ".xr-section-item {\n",
       "  display: contents;\n",
       "}\n",
       "\n",
       ".xr-section-item input {\n",
       "  display: none;\n",
       "}\n",
       "\n",
       ".xr-section-item input + label {\n",
       "  color: var(--xr-disabled-color);\n",
       "}\n",
       "\n",
       ".xr-section-item input:enabled + label {\n",
       "  cursor: pointer;\n",
       "  color: var(--xr-font-color2);\n",
       "}\n",
       "\n",
       ".xr-section-item input:enabled + label:hover {\n",
       "  color: var(--xr-font-color0);\n",
       "}\n",
       "\n",
       ".xr-section-summary {\n",
       "  grid-column: 1;\n",
       "  color: var(--xr-font-color2);\n",
       "  font-weight: 500;\n",
       "}\n",
       "\n",
       ".xr-section-summary > span {\n",
       "  display: inline-block;\n",
       "  padding-left: 0.5em;\n",
       "}\n",
       "\n",
       ".xr-section-summary-in:disabled + label {\n",
       "  color: var(--xr-font-color2);\n",
       "}\n",
       "\n",
       ".xr-section-summary-in + label:before {\n",
       "  display: inline-block;\n",
       "  content: '►';\n",
       "  font-size: 11px;\n",
       "  width: 15px;\n",
       "  text-align: center;\n",
       "}\n",
       "\n",
       ".xr-section-summary-in:disabled + label:before {\n",
       "  color: var(--xr-disabled-color);\n",
       "}\n",
       "\n",
       ".xr-section-summary-in:checked + label:before {\n",
       "  content: '▼';\n",
       "}\n",
       "\n",
       ".xr-section-summary-in:checked + label > span {\n",
       "  display: none;\n",
       "}\n",
       "\n",
       ".xr-section-summary,\n",
       ".xr-section-inline-details {\n",
       "  padding-top: 4px;\n",
       "  padding-bottom: 4px;\n",
       "}\n",
       "\n",
       ".xr-section-inline-details {\n",
       "  grid-column: 2 / -1;\n",
       "}\n",
       "\n",
       ".xr-section-details {\n",
       "  display: none;\n",
       "  grid-column: 1 / -1;\n",
       "  margin-bottom: 5px;\n",
       "}\n",
       "\n",
       ".xr-section-summary-in:checked ~ .xr-section-details {\n",
       "  display: contents;\n",
       "}\n",
       "\n",
       ".xr-array-wrap {\n",
       "  grid-column: 1 / -1;\n",
       "  display: grid;\n",
       "  grid-template-columns: 20px auto;\n",
       "}\n",
       "\n",
       ".xr-array-wrap > label {\n",
       "  grid-column: 1;\n",
       "  vertical-align: top;\n",
       "}\n",
       "\n",
       ".xr-preview {\n",
       "  color: var(--xr-font-color3);\n",
       "}\n",
       "\n",
       ".xr-array-preview,\n",
       ".xr-array-data {\n",
       "  padding: 0 5px !important;\n",
       "  grid-column: 2;\n",
       "}\n",
       "\n",
       ".xr-array-data,\n",
       ".xr-array-in:checked ~ .xr-array-preview {\n",
       "  display: none;\n",
       "}\n",
       "\n",
       ".xr-array-in:checked ~ .xr-array-data,\n",
       ".xr-array-preview {\n",
       "  display: inline-block;\n",
       "}\n",
       "\n",
       ".xr-dim-list {\n",
       "  display: inline-block !important;\n",
       "  list-style: none;\n",
       "  padding: 0 !important;\n",
       "  margin: 0;\n",
       "}\n",
       "\n",
       ".xr-dim-list li {\n",
       "  display: inline-block;\n",
       "  padding: 0;\n",
       "  margin: 0;\n",
       "}\n",
       "\n",
       ".xr-dim-list:before {\n",
       "  content: '(';\n",
       "}\n",
       "\n",
       ".xr-dim-list:after {\n",
       "  content: ')';\n",
       "}\n",
       "\n",
       ".xr-dim-list li:not(:last-child):after {\n",
       "  content: ',';\n",
       "  padding-right: 5px;\n",
       "}\n",
       "\n",
       ".xr-has-index {\n",
       "  font-weight: bold;\n",
       "}\n",
       "\n",
       ".xr-var-list,\n",
       ".xr-var-item {\n",
       "  display: contents;\n",
       "}\n",
       "\n",
       ".xr-var-item > div,\n",
       ".xr-var-item label,\n",
       ".xr-var-item > .xr-var-name span {\n",
       "  background-color: var(--xr-background-color-row-even);\n",
       "  margin-bottom: 0;\n",
       "}\n",
       "\n",
       ".xr-var-item > .xr-var-name:hover span {\n",
       "  padding-right: 5px;\n",
       "}\n",
       "\n",
       ".xr-var-list > li:nth-child(odd) > div,\n",
       ".xr-var-list > li:nth-child(odd) > label,\n",
       ".xr-var-list > li:nth-child(odd) > .xr-var-name span {\n",
       "  background-color: var(--xr-background-color-row-odd);\n",
       "}\n",
       "\n",
       ".xr-var-name {\n",
       "  grid-column: 1;\n",
       "}\n",
       "\n",
       ".xr-var-dims {\n",
       "  grid-column: 2;\n",
       "}\n",
       "\n",
       ".xr-var-dtype {\n",
       "  grid-column: 3;\n",
       "  text-align: right;\n",
       "  color: var(--xr-font-color2);\n",
       "}\n",
       "\n",
       ".xr-var-preview {\n",
       "  grid-column: 4;\n",
       "}\n",
       "\n",
       ".xr-index-preview {\n",
       "  grid-column: 2 / 5;\n",
       "  color: var(--xr-font-color2);\n",
       "}\n",
       "\n",
       ".xr-var-name,\n",
       ".xr-var-dims,\n",
       ".xr-var-dtype,\n",
       ".xr-preview,\n",
       ".xr-attrs dt {\n",
       "  white-space: nowrap;\n",
       "  overflow: hidden;\n",
       "  text-overflow: ellipsis;\n",
       "  padding-right: 10px;\n",
       "}\n",
       "\n",
       ".xr-var-name:hover,\n",
       ".xr-var-dims:hover,\n",
       ".xr-var-dtype:hover,\n",
       ".xr-attrs dt:hover {\n",
       "  overflow: visible;\n",
       "  width: auto;\n",
       "  z-index: 1;\n",
       "}\n",
       "\n",
       ".xr-var-attrs,\n",
       ".xr-var-data,\n",
       ".xr-index-data {\n",
       "  display: none;\n",
       "  background-color: var(--xr-background-color) !important;\n",
       "  padding-bottom: 5px !important;\n",
       "}\n",
       "\n",
       ".xr-var-attrs-in:checked ~ .xr-var-attrs,\n",
       ".xr-var-data-in:checked ~ .xr-var-data,\n",
       ".xr-index-data-in:checked ~ .xr-index-data {\n",
       "  display: block;\n",
       "}\n",
       "\n",
       ".xr-var-data > table {\n",
       "  float: right;\n",
       "}\n",
       "\n",
       ".xr-var-name span,\n",
       ".xr-var-data,\n",
       ".xr-index-name div,\n",
       ".xr-index-data,\n",
       ".xr-attrs {\n",
       "  padding-left: 25px !important;\n",
       "}\n",
       "\n",
       ".xr-attrs,\n",
       ".xr-var-attrs,\n",
       ".xr-var-data,\n",
       ".xr-index-data {\n",
       "  grid-column: 1 / -1;\n",
       "}\n",
       "\n",
       "dl.xr-attrs {\n",
       "  padding: 0;\n",
       "  margin: 0;\n",
       "  display: grid;\n",
       "  grid-template-columns: 125px auto;\n",
       "}\n",
       "\n",
       ".xr-attrs dt,\n",
       ".xr-attrs dd {\n",
       "  padding: 0;\n",
       "  margin: 0;\n",
       "  float: left;\n",
       "  padding-right: 10px;\n",
       "  width: auto;\n",
       "}\n",
       "\n",
       ".xr-attrs dt {\n",
       "  font-weight: normal;\n",
       "  grid-column: 1;\n",
       "}\n",
       "\n",
       ".xr-attrs dt:hover span {\n",
       "  display: inline-block;\n",
       "  background: var(--xr-background-color);\n",
       "  padding-right: 10px;\n",
       "}\n",
       "\n",
       ".xr-attrs dd {\n",
       "  grid-column: 2;\n",
       "  white-space: pre-wrap;\n",
       "  word-break: break-all;\n",
       "}\n",
       "\n",
       ".xr-icon-database,\n",
       ".xr-icon-file-text2,\n",
       ".xr-no-icon {\n",
       "  display: inline-block;\n",
       "  vertical-align: middle;\n",
       "  width: 1em;\n",
       "  height: 1.5em !important;\n",
       "  stroke-width: 0;\n",
       "  stroke: currentColor;\n",
       "  fill: currentColor;\n",
       "}\n",
       "</style><pre class='xr-text-repr-fallback'>&lt;xarray.Dataset&gt;\n",
       "Dimensions:   (pair: 0)\n",
       "Dimensions without coordinates: pair\n",
       "Data variables: (12/15)\n",
       "    tc_id     (pair) object \n",
       "    idx_ini   (pair) float64 \n",
       "    idx_fin   (pair) float64 \n",
       "    delta_h   (pair) float64 \n",
       "    a         (pair) float64 \n",
       "    fcor_ini  (pair) float64 \n",
       "    ...        ...\n",
       "    Rp_fin    (pair) float64 \n",
       "    Rp_mod    (pair) float64 \n",
       "    Vp_ini    (pair) float64 \n",
       "    Hp        (pair) float64 \n",
       "    dMp       (pair) float64 \n",
       "    hp        (pair) float64 </pre><div class='xr-wrap' style='display:none'><div class='xr-header'><div class='xr-obj-type'>xarray.Dataset</div></div><ul class='xr-sections'><li class='xr-section-item'><input id='section-76966e50-e33d-45c0-b0b1-3c5ddca58006' class='xr-section-summary-in' type='checkbox' disabled ><label for='section-76966e50-e33d-45c0-b0b1-3c5ddca58006' class='xr-section-summary'  title='Expand/collapse section'>Dimensions:</label><div class='xr-section-inline-details'><ul class='xr-dim-list'><li><span>pair</span>: 0</li></ul></div><div class='xr-section-details'></div></li><li class='xr-section-item'><input id='section-191e261a-799b-4033-b84b-af883fd21fb2' class='xr-section-summary-in' type='checkbox' disabled ><label for='section-191e261a-799b-4033-b84b-af883fd21fb2' class='xr-section-summary'  title='Expand/collapse section'>Coordinates: <span>(0)</span></label><div class='xr-section-inline-details'></div><div class='xr-section-details'><ul class='xr-var-list'></ul></div></li><li class='xr-section-item'><input id='section-f6fa4ee8-1793-4fce-b087-e7e2c2a924bb' class='xr-section-summary-in' type='checkbox'  ><label for='section-f6fa4ee8-1793-4fce-b087-e7e2c2a924bb' class='xr-section-summary' >Data variables: <span>(15)</span></label><div class='xr-section-inline-details'></div><div class='xr-section-details'><ul class='xr-var-list'><li class='xr-var-item'><div class='xr-var-name'><span>tc_id</span></div><div class='xr-var-dims'>(pair)</div><div class='xr-var-dtype'>object</div><div class='xr-var-preview xr-preview'></div><input id='attrs-f31c5bcd-519f-4a4d-a4ed-b1c5df0aa739' class='xr-var-attrs-in' type='checkbox' disabled><label for='attrs-f31c5bcd-519f-4a4d-a4ed-b1c5df0aa739' title='Show/Hide attributes'><svg class='icon xr-icon-file-text2'><use xlink:href='#icon-file-text2'></use></svg></label><input id='data-e36140c7-f637-43ab-bc84-c8aa9e7cf55c' class='xr-var-data-in' type='checkbox'><label for='data-e36140c7-f637-43ab-bc84-c8aa9e7cf55c' title='Show/Hide data repr'><svg class='icon xr-icon-database'><use xlink:href='#icon-database'></use></svg></label><div class='xr-var-attrs'><dl class='xr-attrs'></dl></div><div class='xr-var-data'><pre>array([], dtype=object)</pre></div></li><li class='xr-var-item'><div class='xr-var-name'><span>idx_ini</span></div><div class='xr-var-dims'>(pair)</div><div class='xr-var-dtype'>float64</div><div class='xr-var-preview xr-preview'></div><input id='attrs-90994cc5-e679-41c0-929f-0ce092ba21e5' class='xr-var-attrs-in' type='checkbox' disabled><label for='attrs-90994cc5-e679-41c0-929f-0ce092ba21e5' title='Show/Hide attributes'><svg class='icon xr-icon-file-text2'><use xlink:href='#icon-file-text2'></use></svg></label><input id='data-2594b169-9206-4529-8ef4-2bcb1f0255df' class='xr-var-data-in' type='checkbox'><label for='data-2594b169-9206-4529-8ef4-2bcb1f0255df' title='Show/Hide data repr'><svg class='icon xr-icon-database'><use xlink:href='#icon-database'></use></svg></label><div class='xr-var-attrs'><dl class='xr-attrs'></dl></div><div class='xr-var-data'><pre>array([], dtype=float64)</pre></div></li><li class='xr-var-item'><div class='xr-var-name'><span>idx_fin</span></div><div class='xr-var-dims'>(pair)</div><div class='xr-var-dtype'>float64</div><div class='xr-var-preview xr-preview'></div><input id='attrs-fc1a0365-fb74-4cd1-a88b-8332b6ff798d' class='xr-var-attrs-in' type='checkbox' disabled><label for='attrs-fc1a0365-fb74-4cd1-a88b-8332b6ff798d' title='Show/Hide attributes'><svg class='icon xr-icon-file-text2'><use xlink:href='#icon-file-text2'></use></svg></label><input id='data-35440b5c-0ceb-409a-8720-eec43767b171' class='xr-var-data-in' type='checkbox'><label for='data-35440b5c-0ceb-409a-8720-eec43767b171' title='Show/Hide data repr'><svg class='icon xr-icon-database'><use xlink:href='#icon-database'></use></svg></label><div class='xr-var-attrs'><dl class='xr-attrs'></dl></div><div class='xr-var-data'><pre>array([], dtype=float64)</pre></div></li><li class='xr-var-item'><div class='xr-var-name'><span>delta_h</span></div><div class='xr-var-dims'>(pair)</div><div class='xr-var-dtype'>float64</div><div class='xr-var-preview xr-preview'></div><input id='attrs-3ed3f87d-0d5b-46d6-9a7b-8aa1889942ce' class='xr-var-attrs-in' type='checkbox' disabled><label for='attrs-3ed3f87d-0d5b-46d6-9a7b-8aa1889942ce' title='Show/Hide attributes'><svg class='icon xr-icon-file-text2'><use xlink:href='#icon-file-text2'></use></svg></label><input id='data-bf766476-b260-4e81-8804-c2c19763ed70' class='xr-var-data-in' type='checkbox'><label for='data-bf766476-b260-4e81-8804-c2c19763ed70' title='Show/Hide data repr'><svg class='icon xr-icon-database'><use xlink:href='#icon-database'></use></svg></label><div class='xr-var-attrs'><dl class='xr-attrs'></dl></div><div class='xr-var-data'><pre>array([], dtype=float64)</pre></div></li><li class='xr-var-item'><div class='xr-var-name'><span>a</span></div><div class='xr-var-dims'>(pair)</div><div class='xr-var-dtype'>float64</div><div class='xr-var-preview xr-preview'></div><input id='attrs-8b7a79a2-1edc-4c77-867c-a5705e5817fb' class='xr-var-attrs-in' type='checkbox' disabled><label for='attrs-8b7a79a2-1edc-4c77-867c-a5705e5817fb' title='Show/Hide attributes'><svg class='icon xr-icon-file-text2'><use xlink:href='#icon-file-text2'></use></svg></label><input id='data-c8c73435-0a4c-4232-bae4-436626bcd537' class='xr-var-data-in' type='checkbox'><label for='data-c8c73435-0a4c-4232-bae4-436626bcd537' title='Show/Hide data repr'><svg class='icon xr-icon-database'><use xlink:href='#icon-database'></use></svg></label><div class='xr-var-attrs'><dl class='xr-attrs'></dl></div><div class='xr-var-data'><pre>array([], dtype=float64)</pre></div></li><li class='xr-var-item'><div class='xr-var-name'><span>fcor_ini</span></div><div class='xr-var-dims'>(pair)</div><div class='xr-var-dtype'>float64</div><div class='xr-var-preview xr-preview'></div><input id='attrs-597d06fe-82e7-45cd-aa01-ffcdf7a81ddf' class='xr-var-attrs-in' type='checkbox' disabled><label for='attrs-597d06fe-82e7-45cd-aa01-ffcdf7a81ddf' title='Show/Hide attributes'><svg class='icon xr-icon-file-text2'><use xlink:href='#icon-file-text2'></use></svg></label><input id='data-830d2144-576b-4c86-9641-31470995c06f' class='xr-var-data-in' type='checkbox'><label for='data-830d2144-576b-4c86-9641-31470995c06f' title='Show/Hide data repr'><svg class='icon xr-icon-database'><use xlink:href='#icon-database'></use></svg></label><div class='xr-var-attrs'><dl class='xr-attrs'></dl></div><div class='xr-var-data'><pre>array([], dtype=float64)</pre></div></li><li class='xr-var-item'><div class='xr-var-name'><span>vmx_ini</span></div><div class='xr-var-dims'>(pair)</div><div class='xr-var-dtype'>float64</div><div class='xr-var-preview xr-preview'></div><input id='attrs-712c8d2f-1559-4826-a02b-5ca4df0868ff' class='xr-var-attrs-in' type='checkbox' disabled><label for='attrs-712c8d2f-1559-4826-a02b-5ca4df0868ff' title='Show/Hide attributes'><svg class='icon xr-icon-file-text2'><use xlink:href='#icon-file-text2'></use></svg></label><input id='data-83d3fcf7-743c-4d90-890d-cb4fadb14236' class='xr-var-data-in' type='checkbox'><label for='data-83d3fcf7-743c-4d90-890d-cb4fadb14236' title='Show/Hide data repr'><svg class='icon xr-icon-database'><use xlink:href='#icon-database'></use></svg></label><div class='xr-var-attrs'><dl class='xr-attrs'></dl></div><div class='xr-var-data'><pre>array([], dtype=float64)</pre></div></li><li class='xr-var-item'><div class='xr-var-name'><span>vmx_fin</span></div><div class='xr-var-dims'>(pair)</div><div class='xr-var-dtype'>float64</div><div class='xr-var-preview xr-preview'></div><input id='attrs-35ff9fcf-20bb-4786-870b-9ed8bef9aa55' class='xr-var-attrs-in' type='checkbox' disabled><label for='attrs-35ff9fcf-20bb-4786-870b-9ed8bef9aa55' title='Show/Hide attributes'><svg class='icon xr-icon-file-text2'><use xlink:href='#icon-file-text2'></use></svg></label><input id='data-b880b4bb-fe85-4af7-ad0c-2bd2031c275e' class='xr-var-data-in' type='checkbox'><label for='data-b880b4bb-fe85-4af7-ad0c-2bd2031c275e' title='Show/Hide data repr'><svg class='icon xr-icon-database'><use xlink:href='#icon-database'></use></svg></label><div class='xr-var-attrs'><dl class='xr-attrs'></dl></div><div class='xr-var-data'><pre>array([], dtype=float64)</pre></div></li><li class='xr-var-item'><div class='xr-var-name'><span>Rp_ini</span></div><div class='xr-var-dims'>(pair)</div><div class='xr-var-dtype'>float64</div><div class='xr-var-preview xr-preview'></div><input id='attrs-08ff705f-85b9-4e01-9153-442d56c97b22' class='xr-var-attrs-in' type='checkbox' disabled><label for='attrs-08ff705f-85b9-4e01-9153-442d56c97b22' title='Show/Hide attributes'><svg class='icon xr-icon-file-text2'><use xlink:href='#icon-file-text2'></use></svg></label><input id='data-64f2d62e-bca3-4f03-9933-065d5ecace95' class='xr-var-data-in' type='checkbox'><label for='data-64f2d62e-bca3-4f03-9933-065d5ecace95' title='Show/Hide data repr'><svg class='icon xr-icon-database'><use xlink:href='#icon-database'></use></svg></label><div class='xr-var-attrs'><dl class='xr-attrs'></dl></div><div class='xr-var-data'><pre>array([], dtype=float64)</pre></div></li><li class='xr-var-item'><div class='xr-var-name'><span>Rp_fin</span></div><div class='xr-var-dims'>(pair)</div><div class='xr-var-dtype'>float64</div><div class='xr-var-preview xr-preview'></div><input id='attrs-5ab43c53-41d7-4bc3-a329-cf34d3ce67ca' class='xr-var-attrs-in' type='checkbox' disabled><label for='attrs-5ab43c53-41d7-4bc3-a329-cf34d3ce67ca' title='Show/Hide attributes'><svg class='icon xr-icon-file-text2'><use xlink:href='#icon-file-text2'></use></svg></label><input id='data-343ed876-d61b-4200-b5dc-eaf97286ad7b' class='xr-var-data-in' type='checkbox'><label for='data-343ed876-d61b-4200-b5dc-eaf97286ad7b' title='Show/Hide data repr'><svg class='icon xr-icon-database'><use xlink:href='#icon-database'></use></svg></label><div class='xr-var-attrs'><dl class='xr-attrs'></dl></div><div class='xr-var-data'><pre>array([], dtype=float64)</pre></div></li><li class='xr-var-item'><div class='xr-var-name'><span>Rp_mod</span></div><div class='xr-var-dims'>(pair)</div><div class='xr-var-dtype'>float64</div><div class='xr-var-preview xr-preview'></div><input id='attrs-974dcb3d-89c4-4747-aec0-8e886ddc853b' class='xr-var-attrs-in' type='checkbox' disabled><label for='attrs-974dcb3d-89c4-4747-aec0-8e886ddc853b' title='Show/Hide attributes'><svg class='icon xr-icon-file-text2'><use xlink:href='#icon-file-text2'></use></svg></label><input id='data-1bd83642-bb2d-4c21-bc15-cf7c964a09e6' class='xr-var-data-in' type='checkbox'><label for='data-1bd83642-bb2d-4c21-bc15-cf7c964a09e6' title='Show/Hide data repr'><svg class='icon xr-icon-database'><use xlink:href='#icon-database'></use></svg></label><div class='xr-var-attrs'><dl class='xr-attrs'></dl></div><div class='xr-var-data'><pre>array([], dtype=float64)</pre></div></li><li class='xr-var-item'><div class='xr-var-name'><span>Vp_ini</span></div><div class='xr-var-dims'>(pair)</div><div class='xr-var-dtype'>float64</div><div class='xr-var-preview xr-preview'></div><input id='attrs-4f01ee27-ba19-4a54-aadc-05a0837a245b' class='xr-var-attrs-in' type='checkbox' disabled><label for='attrs-4f01ee27-ba19-4a54-aadc-05a0837a245b' title='Show/Hide attributes'><svg class='icon xr-icon-file-text2'><use xlink:href='#icon-file-text2'></use></svg></label><input id='data-08b6e8af-160f-43eb-9f5c-e11339b9ce98' class='xr-var-data-in' type='checkbox'><label for='data-08b6e8af-160f-43eb-9f5c-e11339b9ce98' title='Show/Hide data repr'><svg class='icon xr-icon-database'><use xlink:href='#icon-database'></use></svg></label><div class='xr-var-attrs'><dl class='xr-attrs'></dl></div><div class='xr-var-data'><pre>array([], dtype=float64)</pre></div></li><li class='xr-var-item'><div class='xr-var-name'><span>Hp</span></div><div class='xr-var-dims'>(pair)</div><div class='xr-var-dtype'>float64</div><div class='xr-var-preview xr-preview'></div><input id='attrs-f392debb-3b35-4a38-9b6c-2fc908b777bf' class='xr-var-attrs-in' type='checkbox' disabled><label for='attrs-f392debb-3b35-4a38-9b6c-2fc908b777bf' title='Show/Hide attributes'><svg class='icon xr-icon-file-text2'><use xlink:href='#icon-file-text2'></use></svg></label><input id='data-aeddd1a2-ec71-4a1a-a8cc-cb9998d5eb82' class='xr-var-data-in' type='checkbox'><label for='data-aeddd1a2-ec71-4a1a-a8cc-cb9998d5eb82' title='Show/Hide data repr'><svg class='icon xr-icon-database'><use xlink:href='#icon-database'></use></svg></label><div class='xr-var-attrs'><dl class='xr-attrs'></dl></div><div class='xr-var-data'><pre>array([], dtype=float64)</pre></div></li><li class='xr-var-item'><div class='xr-var-name'><span>dMp</span></div><div class='xr-var-dims'>(pair)</div><div class='xr-var-dtype'>float64</div><div class='xr-var-preview xr-preview'></div><input id='attrs-f7b9ff73-8fce-45eb-ac1a-750eb9171d6c' class='xr-var-attrs-in' type='checkbox' disabled><label for='attrs-f7b9ff73-8fce-45eb-ac1a-750eb9171d6c' title='Show/Hide attributes'><svg class='icon xr-icon-file-text2'><use xlink:href='#icon-file-text2'></use></svg></label><input id='data-fe732b75-4650-4e6a-ad9f-9f26f39d0b61' class='xr-var-data-in' type='checkbox'><label for='data-fe732b75-4650-4e6a-ad9f-9f26f39d0b61' title='Show/Hide data repr'><svg class='icon xr-icon-database'><use xlink:href='#icon-database'></use></svg></label><div class='xr-var-attrs'><dl class='xr-attrs'></dl></div><div class='xr-var-data'><pre>array([], dtype=float64)</pre></div></li><li class='xr-var-item'><div class='xr-var-name'><span>hp</span></div><div class='xr-var-dims'>(pair)</div><div class='xr-var-dtype'>float64</div><div class='xr-var-preview xr-preview'></div><input id='attrs-ea5dcbd8-2250-4cef-9447-3867186f3d03' class='xr-var-attrs-in' type='checkbox' disabled><label for='attrs-ea5dcbd8-2250-4cef-9447-3867186f3d03' title='Show/Hide attributes'><svg class='icon xr-icon-file-text2'><use xlink:href='#icon-file-text2'></use></svg></label><input id='data-f1c8219c-7bec-4d46-80be-71df291efbe4' class='xr-var-data-in' type='checkbox'><label for='data-f1c8219c-7bec-4d46-80be-71df291efbe4' title='Show/Hide data repr'><svg class='icon xr-icon-database'><use xlink:href='#icon-database'></use></svg></label><div class='xr-var-attrs'><dl class='xr-attrs'></dl></div><div class='xr-var-data'><pre>array([], dtype=float64)</pre></div></li></ul></div></li><li class='xr-section-item'><input id='section-0b128c46-dcd2-4f90-a94f-571cfa231042' class='xr-section-summary-in' type='checkbox' disabled ><label for='section-0b128c46-dcd2-4f90-a94f-571cfa231042' class='xr-section-summary'  title='Expand/collapse section'>Indexes: <span>(0)</span></label><div class='xr-section-inline-details'></div><div class='xr-section-details'><ul class='xr-var-list'></ul></div></li><li class='xr-section-item'><input id='section-799f3d7d-4238-4ff6-937d-3669c86b506f' class='xr-section-summary-in' type='checkbox' disabled ><label for='section-799f3d7d-4238-4ff6-937d-3669c86b506f' class='xr-section-summary'  title='Expand/collapse section'>Attributes: <span>(0)</span></label><div class='xr-section-inline-details'></div><div class='xr-section-details'><dl class='xr-attrs'></dl></div></li></ul></div></div>"
      ],
      "text/plain": [
       "<xarray.Dataset>\n",
       "Dimensions:   (pair: 0)\n",
       "Dimensions without coordinates: pair\n",
       "Data variables: (12/15)\n",
       "    tc_id     (pair) object \n",
       "    idx_ini   (pair) float64 \n",
       "    idx_fin   (pair) float64 \n",
       "    delta_h   (pair) float64 \n",
       "    a         (pair) float64 \n",
       "    fcor_ini  (pair) float64 \n",
       "    ...        ...\n",
       "    Rp_fin    (pair) float64 \n",
       "    Rp_mod    (pair) float64 \n",
       "    Vp_ini    (pair) float64 \n",
       "    Hp        (pair) float64 \n",
       "    dMp       (pair) float64 \n",
       "    hp        (pair) float64 "
      ]
     },
     "execution_count": 180,
     "metadata": {},
     "output_type": "execute_result"
    }
   ],
   "source": [
    "dsf.where(dsf.hp < 750, drop=True)"
   ]
  },
  {
   "cell_type": "code",
   "execution_count": null,
   "metadata": {},
   "outputs": [],
   "source": []
  },
  {
   "cell_type": "code",
   "execution_count": null,
   "metadata": {},
   "outputs": [],
   "source": []
  },
  {
   "cell_type": "code",
   "execution_count": 144,
   "metadata": {},
   "outputs": [
    {
     "data": {
      "text/plain": [
       "(array([6., 3., 1., 3., 1., 4., 1., 0., 2., 2.]),\n",
       " array([0.04158074, 0.05436104, 0.06714134, 0.07992163, 0.09270193,\n",
       "        0.10548222, 0.11826252, 0.13104282, 0.14382311, 0.15660341,\n",
       "        0.16938371]),\n",
       " <BarContainer object of 10 artists>)"
      ]
     },
     "execution_count": 144,
     "metadata": {},
     "output_type": "execute_result"
    },
    {
     "data": {
      "image/png": "[encoded data removed]",
      "text/plain": [
       "<Figure size 1500x1000 with 1 Axes>"
      ]
     },
     "metadata": {},
     "output_type": "display_data"
    }
   ],
   "source": [
    "plt.hist(dsf.fcor_ini * dsf.Rp_ini / dsf.Vp_ini)"
   ]
  },
  {
   "cell_type": "code",
   "execution_count": 141,
   "metadata": {},
   "outputs": [
    {
     "data": {
      "text/plain": [
       "0.11156508007421492"
      ]
     },
     "execution_count": 141,
     "metadata": {},
     "output_type": "execute_result"
    }
   ],
   "source": [
    "1 / (np.exp(1.5) * 2)"
   ]
  },
  {
   "cell_type": "code",
   "execution_count": null,
   "metadata": {},
   "outputs": [],
   "source": []
  },
  {
   "cell_type": "code",
   "execution_count": 188,
   "metadata": {},
   "outputs": [
    {
     "data": {
      "text/plain": [
       "[<matplotlib.lines.Line2D at 0x7fbe45d11220>]"
      ]
     },
     "execution_count": 188,
     "metadata": {},
     "output_type": "execute_result"
    },
    {
     "data": {
      "image/png": "[encoded data removed]",
      "text/plain": [
       "<Figure size 1500x1000 with 1 Axes>"
      ]
     },
     "metadata": {},
     "output_type": "display_data"
    }
   ],
   "source": [
    "plt.scatter(dsf.vmx_ini ** 2 / 1e-1, dsf.Hp)\n",
    "plt.plot([5000, 30000], [5000, 30000])"
   ]
  },
  {
   "cell_type": "code",
   "execution_count": 184,
   "metadata": {},
   "outputs": [
    {
     "data": {
      "text/plain": [
       "<matplotlib.collections.PathCollection at 0x7fbe45e3af10>"
      ]
     },
     "execution_count": 184,
     "metadata": {},
     "output_type": "execute_result"
    },
    {
     "data": {
      "image/png": "[encoded data removed]",
      "text/plain": [
       "<Figure size 1500x1000 with 1 Axes>"
      ]
     },
     "metadata": {},
     "output_type": "display_data"
    }
   ],
   "source": [
    "plt.scatter(dsf.vmx_ini ** 2, dsf.hp)"
   ]
  },
  {
   "cell_type": "code",
   "execution_count": null,
   "metadata": {},
   "outputs": [],
   "source": []
  },
  {
   "cell_type": "code",
   "execution_count": null,
   "metadata": {},
   "outputs": [],
   "source": []
  },
  {
   "cell_type": "code",
   "execution_count": null,
   "metadata": {},
   "outputs": [],
   "source": []
  },
  {
   "cell_type": "code",
   "execution_count": 129,
   "metadata": {},
   "outputs": [
    {
     "data": {
      "text/plain": [
       "26.56505117707799"
      ]
     },
     "execution_count": 129,
     "metadata": {},
     "output_type": "execute_result"
    }
   ],
   "source": [
    "np.rad2deg(np.arctan(0.5))"
   ]
  },
  {
   "cell_type": "code",
   "execution_count": null,
   "metadata": {},
   "outputs": [],
   "source": []
  },
  {
   "cell_type": "code",
   "execution_count": null,
   "metadata": {},
   "outputs": [],
   "source": []
  },
  {
   "cell_type": "code",
   "execution_count": null,
   "metadata": {},
   "outputs": [],
   "source": []
  }
 ],
 "metadata": {
  "kernelspec": {
   "display_name": "paramProfiles",
   "language": "python",
   "name": "paramprofiles"
  },
  "language_info": {
   "codemirror_mode": {
    "name": "ipython",
    "version": 3
   },
   "file_extension": ".py",
   "mimetype": "text/x-python",
   "name": "python",
   "nbconvert_exporter": "python",
   "pygments_lexer": "ipython3",
   "version": "3.8.15"
  }
 },
 "nbformat": 4,
 "nbformat_minor": 4
}
