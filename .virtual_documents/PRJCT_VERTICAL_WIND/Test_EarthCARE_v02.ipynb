


# General
import os
import glob

# Display
import matplotlib as mpl
import matplotlib.pyplot as plt
from matplotlib.colors import Normalize
from matplotlib.gridspec import GridSpec
import matplotlib.cm as cm

# Data treatment
import xarray as xr
import numpy as np
# from scipy.interpolate import griddata
import pandas as pd 
from tqdm import tqdm
import ephem
import seaborn as sns

# Custom
import sys
sys.path.append('../ectools')
from ectools import ecio
from ectools import ecplot as ecplt
from ectools import colormaps

# Default parameters
fontsize = 16
mpl.rcParams.update({'font.size': fontsize})
mpl.rcParams['figure.figsize'] = (15, 10)
mpl.rcParams['axes.facecolor'] = 'white'
mpl.rcParams['figure.facecolor'] = 'white'


PTHS = {
    'sar_pth': '/home/arthur/results/sar_extended/05_addPRIMED/dsg.nc',
    'sav_dir': '/home/arthur/results/TCsLifeMonitFromObs/PRJCT_VERTICAL_WIND/Test_EarthCARE_v02/',
}


### Open SAR
dsg_sar    = xr.open_dataset(PTHS['sar_pth'])





# Leslie
dss_leslie = dsg_sar.where(dsg_sar.id == 'al132024', drop=True)
dsl        = dss_leslie.isel(time=-1)

# Parameters
lat_center = 22.6
lat_rmx    = lat_center + dsl.rmx / 110574
lat_rps    = lat_center + dsl.rps / 110574
lat_r0     = lat_center + dsl.r0 / 110574
# Latitude: 1 deg = 110.574 km


print(float(lat_rmx), float(lat_rps), float(lat_r0))


### EarthCARE paths
# Level-1b
pCNOM   = '/home/arthur/data/earthCARE/samples/Level_1B/ECA_JXAE_CPR_NOM_1B_20241010T050822Z_20241010T102937Z_02089B/ECA_JXAE_CPR_NOM_1B_20241010T050822Z_20241010T102937Z_02089B.h5'
# Level-1c
pMRGR   = '/home/arthur/data/earthCARE/samples/Level_1C/ECA_EXAD_MSI_RGR_1C_20241010T050822Z_20241010T085245Z_02089B/ECA_EXAD_MSI_RGR_1C_20241010T050822Z_20241010T085245Z_02089B.h5'
# Level-2a
pCCD    = '/home/arthur/data/earthCARE/samples/Level_2A/ECA_EXAA_CPR_CD__2A_20241010T050822Z_20241010T103521Z_02089B/ECA_EXAA_CPR_CD__2A_20241010T050822Z_20241010T103521Z_02089B.h5'
# Level-2b
pACMCAP = '/home/arthur/data/earthCARE/samples/Level_2B/ACM_CAP_2B_2024_10_10/ECA_EXAA_ACM_CAP_2B_20241010T050822Z_20241010T104924Z_02089B/ECA_EXAA_ACM_CAP_2B_20241010T050822Z_20241010T104924Z_02089B.h5'
pACMCLP = '/home/arthur/data/earthCARE/samples/Level_2B/ACM_CLP_2B_2024_10_10/ECA_JXAA_ACM_CLP_2B_20241010T050822Z_20241010T124805Z_02089B/ECA_JXAA_ACM_CLP_2B_20241010T050822Z_20241010T124805Z_02089B.h5'
pACTC   = '/home/arthur/data/earthCARE/samples/Level_2B/ECA_EXAA_AC__TC__2B_20241010T050822Z_20241010T104634Z_02089B/ECA_EXAA_AC__TC__2B_20241010T050822Z_20241010T104634Z_02089B.h5'


# ACTC = ecio.load_ACTC(pACTC)

# fig, axes = ecplt.quicklook_ACTC(ACTC)

# ACTC.close()


lat_boundaries = [22.0, 26.0]

CNOM = ecio.load_CNOM(
    pCNOM,
    trim={'latitude': slice(lat_boundaries[0], lat_boundaries[1])}
)

MRGR = ecio.load_MRGR(
    pMRGR,
    trim={'latitude': slice(lat_boundaries[0], lat_boundaries[1])}
)

CCD = ecio.load_CCD(
    pCCD,
    trim={'latitude': slice(lat_boundaries[0], lat_boundaries[1])}
)

ACMCAP = ecio.load_ACMCAP(
    pACMCAP,
    trim={'latitude': slice(lat_boundaries[0], lat_boundaries[1])}
)

ACMCLP = ecio.load_ACMCLP(
    pACMCLP,
    trim={'latitude': slice(lat_boundaries[0], lat_boundaries[1])}
)

ACTC = ecio.load_ACTC(
    pACTC,
    trim={'latitude': slice(lat_boundaries[0], lat_boundaries[1])}
)

# fig, axes = ecplt.quicklook_ACTC(ACTC)

# ACTC.close()


# ecplt.quicklook_CNOM(CNOM_cropped)

CNOM_cropped = CNOM.where(CNOM.latitude <= 26, drop=True).copy(deep=True)
CNOM_cropped.encoding = CNOM.encoding.copy()
ecplt.quicklook_CNOM(CNOM_cropped)

plt.savefig(PTHS['sav_dir'] + 'Leslie_CNOM', bbox_inches='tight')


hmax = 20000


fig, ax  = plt.subplots(figsize=(20, 10))
ecplt.plot_EC_2D(ax, ACMCAP, 'CPR_doppler_velocity', "doppler velocity", units="m s$^{-1}$", plot_scale='linear', plot_range=[-7, 7], cmap='bwr', hmax=hmax)

plt.savefig(PTHS['sav_dir'] + 'Leslie_Doppler_velocity', bbox_inches='tight')


ACTC_category_colors = [sns.xkcd_rgb['silver'],         #unknown
                        sns.xkcd_rgb['reddish brown'],         #surface and subsurface
                        sns.xkcd_rgb['white'],         #clear
                        sns.xkcd_rgb['dull red'],      #rain in clutter
                        sns.xkcd_rgb['off blue'],     #snow in clutter
                        sns.xkcd_rgb['dull yellow'],   #cloud in clutter
                        sns.xkcd_rgb['dark red'],      #heavy rain',
                        sns.xkcd_rgb["navy blue"],   #heavy mixed-phase precipitation
                        sns.xkcd_rgb['light grey'],    #clear (poss. liquid) 
                        sns.xkcd_rgb['pale yellow'],   #liquid cloud
                        sns.xkcd_rgb['golden'],        #drizzling liquid
                        sns.xkcd_rgb['orange'],        #warm rain
                        sns.xkcd_rgb['bright red'],    #cold rain
                        sns.xkcd_rgb['easter purple'], # melting snow
                        sns.xkcd_rgb['dark sky blue'],        # snow (possible liquid)
                        sns.xkcd_rgb['bright blue'], # snow
                        sns.xkcd_rgb["prussian blue"],   # rimed snow (poss. liquid)
                        sns.xkcd_rgb['dark teal'],   # rimed snow and SLW
                        sns.xkcd_rgb['teal'],              # snow and SLW
                        sns.xkcd_rgb['light green'],   # supercooled liquid
                        sns.xkcd_rgb["sky blue"],      # ice (poss. liquid)
                        sns.xkcd_rgb['bright teal'],   # ice and SLW
                        sns.xkcd_rgb['light blue'],    # ice (no liquid)
                        sns.xkcd_rgb['pale blue'],     # strat. ice, PSC II
                        sns.xkcd_rgb['neon green'],    # PSC Ia
                        sns.xkcd_rgb['greenish cyan'], # PSC Ib
                        sns.xkcd_rgb['ugly green'],    # insects
                        sns.xkcd_rgb['sand'],          # dust
                        sns.xkcd_rgb['pastel pink'],   # sea salt
                        sns.xkcd_rgb['dust'],          # continental pollution
                        sns.xkcd_rgb['purpley grey'],  # smoke
                        sns.xkcd_rgb['dark lavender'], # dusty smoke
                        sns.xkcd_rgb['dusty lavender'],# dusty mix
                        sns.xkcd_rgb['pinkish grey'],  # stratospheric aerosol 1 (ash)
                        sns.xkcd_rgb['light khaki'],       # stratospheric aerosol 2 (sulphate)
                        sns.xkcd_rgb['light grey'],    # stratospheric aerosol 3 (smoke)]
                  ]


fig, ax  = plt.subplots(figsize=(20, 10))

ecplt.plot_EC_target_classification(ax, ACTC, 'synergetic_target_classification_low_resolution', ACTC_category_colors, title_prefix="", label_fontsize=10, hmax=hmax)

plt.savefig(PTHS['sav_dir'] + 'Leslie_Classification', bbox_inches='tight')


fig, ax  = plt.subplots(figsize=(20, 10))
ecplt.plot_EC_2D(ax, ACMCAP, 'ice_water_content', "IWC", units="kgm$^{-3}$", plot_scale='log', plot_range=[1e-7, 10e-3], cmap=colormaps.chiljet2, hmax=hmax)

plt.savefig(PTHS['sav_dir'] + 'Leslie_IWC', bbox_inches='tight')


fig, ax  = plt.subplots(figsize=(20, 10))
ecplt.plot_EC_2D(ax, ACMCAP, 'liquid_water_content', "$L$", units="kgm$^{-3}$", plot_scale='log', plot_range=[1e-7, 2e-3], cmap=colormaps.chiljet2, hmax=hmax)

plt.savefig(PTHS['sav_dir'] + 'Leslie_LWC', bbox_inches='tight')


fig, ax  = plt.subplots(figsize=(20, 10))
ecplt.plot_EC_2D(ax, ACMCAP, 'rain_rate', "IWC", units="mm.hr$^{-1}$", plot_scale='log', plot_range=[1e-3, 20], cmap=colormaps.chiljet2, hmax=hmax)

plt.savefig(PTHS['sav_dir'] + 'Leslie_Rain', bbox_inches='tight')


fig, axes = ecplt.quicklook_CCD(CCD)

plt.savefig(PTHS['sav_dir'] + 'Leslie_CPD_CD', bbox_inches='tight')

CCD.close()


fig, axes = ecplt.plot_ECL1_MSI_TIR(MRGR)

plt.savefig(PTHS['sav_dir'] + 'Leslie_MRGR', bbox_inches='tight')

# MRGR_cropped = MRGR.where(MRGR.selected_latitude <= 26, drop=True).copy(deep=True)
# MRGR_cropped.encoding = MRGR.encoding.copy()
# fig, axes    = ecplt.plot_ECL1_MSI_TIR(MRGR_cropped)


# import copy
# cmap_grey = copy.copy(mpl.cm.get_cmap('Greys'))
# cmap_grey.set_over('magenta', alpha=0.5)
# cmap_grey.set_under('cyan', alpha=0.5)

# title      = 'MSI-RGR brightness temperature (TIR)'
# plot_range = [[210,310]       ,[210,310]        ,[210,310]        ]
# varname    = [ 'TIR1'         , 'TIR2'          , 'TIR3'          ]
# cbarlabel  = [r"BT$_{8.8 \mu m}$",r"BT$_{10.8 \mu m}$",r"BT$_{12.0 \mu m}$"]
# cmap       = cmap_grey
# lmcol      = 'khaki'

# units        = '$K$'
# plot_scale   = 'linear'
# ymax         = 383 # hmax = yaxis upper limit (ymax)
# dx           = 1000
# d0           = 200
# x0           = 200
# across_track = True
# heightvar    = 'across_track'
# latvar       = 'selected_latitude'
# lonvar       = 'selected_longitude'
# ruler_y0     = 0.75

# nrows=3
# fig, axes = plt.subplots(
#     figsize=(25, 4.5 * nrows), 
#     nrows=nrows, 
#     sharex=False, 
#     sharey=False, 
#     gridspec_kw={'hspace':1.5}
# )

# for i in range(3):
#     ecplt.plot_EC_2D(axes[i], MRGR, varname[i], cbarlabel[i], units=units, title=title, 
#               cmap=cmap, plot_scale=plot_scale, hmax=ymax, plot_range=plot_range[i],
#               heightvar=heightvar, latvar=latvar, lonvar=lonvar, across_track=across_track, use_localtime=True)
#     # add_land_sea_border(axes[i], MRGR, col=lmcol)
#     # add_ruler(axes[i], MRGR, timevar='time', dx=dx, d0=d0, x0=x0, pixel_scale_km=0.5, y0=ruler_y0, dark_mode=False)

# # for ax in axes:
# #     add_nadir_track(ax)
    
# # add_subfigure_labels(axes, yloc=1.2)
# # snap_xlims(axes)    


# "doppler velocity", units="m s$^{-1}$", plot_scale='linear', plot_range=[-7, 7], cmap='bwr', 


fig, axes = plt.subplots(figsize=(20, 7), gridspec_kw={'hspace':0.67})

ACMCLP_cropped          = ACMCLP.where(ACMCLP.latitude <= 26, drop=True)
ACMCLP_cropped.encoding = ACMCLP.encoding.copy()

ecplt.plot_EC_2D(axes, ACMCLP_cropped, 'cloud_air_velocity_1km', "Cloud air velocity", title="cloud_air_velocity_1km", units="m s$^{-1}$", plot_scale='linear', plot_range=[-22, 22], cmap='bwr',  hmax=hmax)

plt.savefig(PTHS['sav_dir'] + 'Leslie_Cloud_air_velocity', bbox_inches='tight')








# # I don't manage to select boundaries
# ecplt.quicklook_CNOM(CNOM)


# # I don't manage to print ACMPCLP data correctly... Maybe ask Shannon
# fig, ax  = plt.subplots(figsize=(20, 10))
# ecplt.plot_EC_2D(ax, ACMCLP, 'cloud_air_velocity_1km', 'Cloud air motion', hmax=hmax)














from matplotlib.dates import DateFormatter


fig, ax = plt.subplots(figsize=(15, 8))
plt.title('Rmax')

ax.scatter(dss_leslie.time, dss_leslie.rmx / 1000)

date_form = DateFormatter("%m-%d")
ax.xaxis.set_major_formatter(date_form)
ax.grid()


fig, ax = plt.subplots(figsize=(15, 8))
plt.title('R+')

ax.scatter(dss_leslie.time, dss_leslie.rps / 1000)

date_form = DateFormatter("%m-%d")
ax.xaxis.set_major_formatter(date_form)
ax.grid()


fig, ax = plt.subplots(figsize=(15, 8))
plt.title('B')

ax.scatter(dss_leslie.time, dss_leslie.B_hol)

date_form = DateFormatter("%m-%d")
ax.xaxis.set_major_formatter(date_form)
ax.grid()


fig, ax = plt.subplots(figsize=(15, 8))
plt.title('R0')

ax.scatter(dss_leslie.time, dss_leslie.r0 / 1000)

date_form = DateFormatter("%m-%d")
ax.xaxis.set_major_formatter(date_form)
ax.grid()





### EarthCARE paths
# Level-1b
pCNOM   = '/home/arthur/data/earthCARE/samples/Level_1B/ECA_JXAE_CPR_NOM_1B_20241007T042746Z_20241007T174537Z_02042A/ECA_JXAE_CPR_NOM_1B_20241007T042746Z_20241007T174537Z_02042A.h5'
# Level-1c
pMRGR   = '/home/arthur/data/earthCARE/samples/Level_1C/ECA_EXAD_MSI_RGR_1C_20241007T042746Z_20241007T082257Z_02042A/ECA_EXAD_MSI_RGR_1C_20241007T042746Z_20241007T082257Z_02042A.h5'
# Level-2a
pCCD    = '/home/arthur/data/earthCARE/samples/Level_2A/ECA_EXAA_CPR_CD__2A_20241007T042746Z_20241008T050709Z_02042A/ECA_EXAA_CPR_CD__2A_20241007T042746Z_20241008T050709Z_02042A.h5'
# Level-2b
pACMCAP = None # not in comissioning repo
pACMCLP = '/home/arthur/data/earthCARE/samples/Level_2B/ECA_JXAA_ACM_CLP_2B_20241007T042746Z_20241010T052102Z_02042A/ECA_JXAA_ACM_CLP_2B_20241007T042746Z_20241010T052102Z_02042A.h5' # missing data
pACTC   = None # not in comissioning repo


lat_cen = 15.05
lon_cen = -39.75


lat_boundaries = [13.0, 20.0]

CNOM = ecio.load_CNOM(
    pCNOM,
    trim={'latitude': slice(lat_boundaries[0], lat_boundaries[1])}
)


CNOM_cropped = CNOM.where((CNOM.latitude >= 13) & (CNOM.latitude <= 20), drop=True).copy(deep=True)
CNOM_cropped.encoding = CNOM.encoding.copy()
ecplt.quicklook_CNOM(CNOM_cropped)

# plt.savefig(PTHS['sav_dir'] + 'Leslie2_CNOM', bbox_inches='tight')


MRGR = ecio.load_MRGR(
    pMRGR,
    trim={'latitude': slice(lat_boundaries[0], lat_boundaries[1])}
)


fig, axes = ecplt.plot_ECL1_MSI_TIR(MRGR)

# plt.savefig(PTHS['sav_dir'] + 'Leslie2_MRGR', bbox_inches='tight')


CCD = ecio.load_CCD(
    pCCD,
    trim={'latitude': slice(lat_boundaries[0], lat_boundaries[1])}
)


fig, axes = ecplt.quicklook_CCD(CCD)

# plt.savefig(PTHS['sav_dir'] + 'Leslie2_CPD_CD', bbox_inches='tight')


# ACMCAP = ecio.load_ACMCAP(
#     pACMCAP,
#     trim={'latitude': slice(lat_boundaries[0], lat_boundaries[1])}
# )


ACMCLP = ecio.load_ACMCLP(
    pACMCLP,
    trim={'latitude': slice(lat_boundaries[0], lat_boundaries[1])}
)


fig, axes = plt.subplots(figsize=(20, 7), gridspec_kw={'hspace':0.67})

ACMCLP_cropped          = ACMCLP.where((ACMCLP.latitude >= 13) & (ACMCLP.latitude <= 20), drop=True)
ACMCLP_cropped.encoding = ACMCLP.encoding.copy()

ecplt.plot_EC_2D(axes, ACMCLP_cropped, 'cloud_air_velocity_1km', "Cloud air velocity", title="cloud_air_velocity_1km", units="m s$^{-1}$", plot_scale='linear', plot_range=[-22, 22], cmap='bwr',  hmax=hmax)

plt.savefig(PTHS['sav_dir'] + 'Leslie_Cloud_air_velocity', bbox_inches='tight')


# ACTC = ecio.load_ACTC(
#     pACTC,
#     trim={'latitude': slice(lat_boundaries[0], lat_boundaries[1])}
# )












