# General
import os
import glob

# Display
import matplotlib as mpl
import matplotlib.pyplot as plt
from matplotlib.colors import Normalize
from matplotlib.gridspec import GridSpec
import matplotlib.cm as cm

# Data treatment
import xarray as xr
import numpy as np
# from scipy.interpolate import griddata
import pandas as pd 
from tqdm import tqdm
import ephem

# Default parameters
fontsize = 16
mpl.rcParams.update({'font.size': fontsize})
mpl.rcParams['figure.figsize'] = (15, 10)
mpl.rcParams['axes.facecolor'] = 'white'
mpl.rcParams['figure.facecolor'] = 'white'





# Open SAR
dsg_sar = xr.open_dataset('/home/arthur/results/sar_extended/05_addPRIMED/dsg.nc')


# # Level-1 products
# p   = '/home/arthur/Téléchargements/ECA_JXBA_CPR_NOM_1B_20241110T025059Z_20241111T033223Z_02570A/ECA_JXBA_CPR_NOM_1B_20241110T025059Z_20241111T033223Z_02570A.h5'
# ds  = xr.open_dataset(p, group='/ScienceData/Data')


# plt.pcolormesh(ds.dopplerVelocity)
# plt.colorbar()





p   = '/home/arthur/data/earthCARE/samples/Level_2B/ACM_CLP_2B_2024_10_10/ECA_JXAA_ACM_CLP_2B_20241010T050822Z_20241010T124805Z_02089B/ECA_JXAA_ACM_CLP_2B_20241010T050822Z_20241010T124805Z_02089B.h5'
ds  = xr.open_dataset(p, group='/ScienceData/Data')
dsg = xr.open_dataset(p, group='/ScienceData/Geo')


ds.cloud_air_velocity_1km.plot(vmin=-20, vmax=20, cmap='coolwarm')


from pyproj import Geod

geod = Geod(ellps="WGS84")

lons_start = np.ones_like(dsg.longitude) * float(dsg.longitude[0])
lats_start = np.ones_like(dsg.latitude) * float(dsg.latitude[0])

_, _, r = geod.inv(dsg.longitude, dsg.latitude, lons_start,lats_start)

rs, zs  = np.meshgrid(r / 1000, ds.phony_dim_4)

cloud_air_velocity_1km_valid = ds.cloud_air_velocity_1km.where(((ds.cloud_air_velocity_1km >= -20)) & (ds.cloud_air_velocity_1km <= 20))


fig          = plt.figure(figsize=(15, 8))

# im = plt.pcolormesh(rs, zs, ds.cloud_air_velocity_1km.transpose(), cmap='coolwarm', vmin=-20, vmax=20)
im = plt.pcolormesh(rs, zs, cloud_air_velocity_1km_valid.transpose(), cmap='coolwarm', vmin=-20, vmax=20)
plt.gca().invert_yaxis()
plt.xlabel('Distance between pixels (km)')
plt.ylabel('phony_dim_4')

# Colorbar
cbar  = fig.colorbar(im)
cbar.set_label(r'cloud_air_velocity_1km (m/s)', rotation=90)
cbar.ax.get_yaxis().labelpad=5


TC_lat_cen = 22.6
TC_lon_cen = -49.6

geod = Geod(ellps="WGS84")

lons_start = np.ones_like(dsg.longitude) * float(TC_lon_cen)
lats_start = np.ones_like(dsg.latitude) * float(TC_lat_cen)

_, _, r = geod.inv(dsg.longitude, dsg.latitude, lons_start,lats_start)
rs, zs  = np.meshgrid(r / 1000, ds.phony_dim_4)


fig          = plt.figure(figsize=(15, 8))

# im = plt.pcolormesh(rs, zs, ds.cloud_air_velocity_1km.transpose(), cmap='coolwarm', vmin=-20, vmax=20)
im = plt.pcolormesh(rs, zs, cloud_air_velocity_1km_valid.transpose(), cmap='coolwarm', vmin=-20, vmax=20)
plt.gca().invert_yaxis()
plt.xlabel('Distance from TC center (km)')
plt.ylabel('phony_dim_4')

# Colorbar
cbar  = fig.colorbar(im)
cbar.set_label(r'cloud_air_velocity_1km (m/s)', rotation=90)
cbar.ax.get_yaxis().labelpad=5

plt.axvline(0, c='k')


# Level-1 product
p   = '/home/arthur/data/earthCARE/samples/Level_1B/ECA_JXAE_CPR_NOM_1B_20241010T050822Z_20241010T102937Z_02089B/ECA_JXAE_CPR_NOM_1B_20241010T050822Z_20241010T102937Z_02089B.h5'
ds  = xr.open_dataset(p, group='/ScienceData/Data')
dsg = xr.open_dataset(p, group='/ScienceData/Geo')

ds.dopplerVelocity.plot()
plt.show()

TC_lat_cen = 22.6
TC_lon_cen = -49.6

geod = Geod(ellps="WGS84")

lons_start = np.ones_like(dsg.longitude) * float(TC_lon_cen)
lats_start = np.ones_like(dsg.latitude) * float(TC_lat_cen)

_, _, r = geod.inv(dsg.longitude, dsg.latitude, lons_start,lats_start)
rs, zs  = np.meshgrid(r / 1000, ds.phony_dim_11)

fig          = plt.figure(figsize=(15, 8))

# im = plt.pcolormesh(rs, zs, ds.cloud_air_velocity_1km.transpose(), cmap='coolwarm', vmin=-20, vmax=20)
im = plt.pcolormesh(rs, zs, ds.dopplerVelocity.transpose(), cmap='coolwarm', vmin=-6, vmax=6)
plt.gca().invert_yaxis()
plt.xlabel('Distance from TC center (km)')
plt.ylabel('phony_dim_4')

plt.xlim(0, 1000)

# Colorbar
cbar  = fig.colorbar(im)
cbar.set_label(r'Doppler Velocity (m/s)', rotation=90)
cbar.ax.get_yaxis().labelpad=5

plt.axvline(0, c='k')

















# w       = ds.cloud_air_velocity_1km.isel(phony_dim_4=185)
# w_valid = w.where(w > -21)


# print(dsg.time.mean().data)
# plt.scatter(-50, 22.5, c='k', marker='x', s=200, linewidth=2)
# plt.scatter(dsg.longitude, dsg.latitude, c=w_valid)
# plt.colorbar()
# plt.xlim(-51, -49)
# plt.ylim(21.5, 23.5)
# plt.grid()


print('R+ = {:.0f} km'.format(dsg_sar.where(dsg_sar.name == 'LESLIE', drop=True).isel(time=-1).rmx / 1000))
print('R+ = {:.0f} km'.format(dsg_sar.where(dsg_sar.name == 'LESLIE', drop=True).isel(time=-1).rps / 1000))





p = '/home/arthur/data/earthCARE/samples/Level_2B/ACM_CAP_2B_2024_10_10/ECA_EXAA_ACM_CAP_2B_20241010T050822Z_20241010T104924Z_02089B/ECA_EXAA_ACM_CAP_2B_20241010T050822Z_20241010T104924Z_02089B.h5'
ds  = xr.open_dataset(p, group='/ScienceData')


plt.scatter(-50, 22.5, c='k', marker='x', s=200, linewidth=2)
plt.scatter(ds.longitude, ds.latitude, c=np.log(ds.isel(JSG_height=227).rain_rate), vmin=-12, vmax=-10)
plt.colorbar()
plt.xlim(-51, -49)
plt.ylim(21.5, 23.5)
plt.grid()


np.log(ds.isel(JSG_height=227).rain_rate).max(skipna=True)








p   = '/home/arthur/data/earthCARE/samples/Level_2B/ACM_CLP_2B_2024_08_27/ECA_JXAA_ACM_CLP_2B_20240827T165608Z_20240828T001056Z_01412B/ECA_JXAA_ACM_CLP_2B_20240827T165608Z_20240828T001056Z_01412B.h5'
ds  = xr.open_dataset(p, group='/ScienceData/Data')
dsg = xr.open_dataset(p, group='/ScienceData/Geo')


ds.cloud_air_velocity_1km.plot(vmin=-20, vmax=20, cmap='coolwarm')


geod = Geod(ellps="WGS84")

lons_start = np.ones_like(dsg.longitude) * float(dsg.longitude[0])
lats_start = np.ones_like(dsg.latitude) * float(dsg.latitude[0])

_, _, r = geod.inv(dsg.longitude, dsg.latitude, lons_start,lats_start)

rs, zs  = np.meshgrid(r / 1000, ds.phony_dim_4)

cloud_air_velocity_1km_valid = ds.cloud_air_velocity_1km.where(((ds.cloud_air_velocity_1km >= -20)) & (ds.cloud_air_velocity_1km <= 20))


fig          = plt.figure(figsize=(15, 8))

# im = plt.pcolormesh(rs, zs, ds.cloud_air_velocity_1km.transpose(), cmap='coolwarm', vmin=-20, vmax=20)
im = plt.pcolormesh(rs, zs, cloud_air_velocity_1km_valid.transpose(), cmap='coolwarm', vmin=-20, vmax=20)
plt.gca().invert_yaxis()
plt.xlabel('Distance between pixels (km)')
plt.ylabel('phony_dim_4')

# Colorbar
cbar  = fig.colorbar(im)
cbar.set_label(r'cloud_air_velocity_1km (m/s)', rotation=90)
cbar.ax.get_yaxis().labelpad=5


TC_lat_cen = 22.8
TC_lon_cen = 130.2

geod = Geod(ellps="WGS84")

lons_start = np.ones_like(dsg.longitude) * float(TC_lon_cen)
lats_start = np.ones_like(dsg.latitude) * float(TC_lat_cen)

_, _, r = geod.inv(dsg.longitude, dsg.latitude, lons_start,lats_start)
rs, zs  = np.meshgrid(r / 1000, ds.phony_dim_4)


fig          = plt.figure(figsize=(15, 8))

# im = plt.pcolormesh(rs, zs, ds.cloud_air_velocity_1km.transpose(), cmap='coolwarm', vmin=-20, vmax=20)
im = plt.pcolormesh(rs, zs, cloud_air_velocity_1km_valid.transpose(), cmap='coolwarm', vmin=-20, vmax=20)
plt.gca().invert_yaxis()
plt.xlabel('Distance from TC center (km)')
plt.ylabel('phony_dim_4')

# plt.xlim(0, 1000)

# Colorbar
cbar  = fig.colorbar(im)
cbar.set_label(r'cloud_air_velocity_1km (m/s)', rotation=90)
cbar.ax.get_yaxis().labelpad=5

plt.axvline(0, c='k')





p   = '/home/arthur/data/earthCARE/samples/Level_1B/ECA_JXAC_CPR_NOM_1B_20240828T131104Z_20240829T053723Z_01425C/ECA_JXAC_CPR_NOM_1B_20240828T131104Z_20240829T053723Z_01425C.h5'
ds  = xr.open_dataset(p, group='/ScienceData/Data')
dsg = xr.open_dataset(p, group='/ScienceData/Geo')


ds.dopplerVelocity.plot()
# plt.xlim(0, 1000)


TC_lat_cen = 22.8
TC_lon_cen = 130.2

geod = Geod(ellps="WGS84")

lons_start = np.ones_like(dsg.longitude) * float(TC_lon_cen)
lats_start = np.ones_like(dsg.latitude) * float(TC_lat_cen)

_, _, r = geod.inv(dsg.longitude, dsg.latitude, lons_start,lats_start)
rs, zs  = np.meshgrid(r / 1000, ds.phony_dim_11)


fig          = plt.figure(figsize=(15, 8))

# im = plt.pcolormesh(rs, zs, ds.cloud_air_velocity_1km.transpose(), cmap='coolwarm', vmin=-20, vmax=20)
im = plt.pcolormesh(rs, zs, ds.dopplerVelocity.transpose(), cmap='coolwarm', vmin=-6, vmax=6)
plt.gca().invert_yaxis()
plt.xlabel('Distance from TC center (km)')
plt.ylabel('phony_dim_4')

# plt.xlim(0, 1000)

# Colorbar
cbar  = fig.colorbar(im)
cbar.set_label(r'Doppler Velocity (m/s)', rotation=90)
cbar.ax.get_yaxis().labelpad=5

plt.axvline(0, c='k')


p   = '/home/arthur/data/earthCARE/samples/Level_1B/CPR_NOM_1B_2024_08_28/ECA_JXAC_CPR_NOM_1B_20240828T053922Z_20240828T072505Z_01420D/ECA_JXAC_CPR_NOM_1B_20240828T053922Z_20240828T072505Z_01420D.h5'
ds  = xr.open_dataset(p, group='/ScienceData/Data')
dsg = xr.open_dataset(p, group='/ScienceData/Geo')

ds.dopplerVelocity.plot()
plt.show()

TC_lat_cen = 22.8
TC_lon_cen = 130.2

geod = Geod(ellps="WGS84")

lons_start = np.ones_like(dsg.longitude) * float(TC_lon_cen)
lats_start = np.ones_like(dsg.latitude) * float(TC_lat_cen)

_, _, r = geod.inv(dsg.longitude, dsg.latitude, lons_start,lats_start)
rs, zs  = np.meshgrid(r / 1000, ds.phony_dim_11)

fig          = plt.figure(figsize=(15, 8))

# im = plt.pcolormesh(rs, zs, ds.cloud_air_velocity_1km.transpose(), cmap='coolwarm', vmin=-20, vmax=20)
im = plt.pcolormesh(rs, zs, ds.dopplerVelocity.transpose(), cmap='coolwarm', vmin=-6, vmax=6)
plt.gca().invert_yaxis()
plt.xlabel('Distance from TC center (km)')
plt.ylabel('phony_dim_4')

# plt.xlim(0, 1000)

# Colorbar
cbar  = fig.colorbar(im)
cbar.set_label(r'Doppler Velocity (m/s)', rotation=90)
cbar.ax.get_yaxis().labelpad=5

plt.axvline(0, c='k')


p   = '/home/arthur/data/earthCARE/samples/Level_1B/CPR_NOM_1B_2024_08_28/ECA_JXAC_CPR_NOM_1B_20240828T055108Z_20240828T072444Z_01420E/ECA_JXAC_CPR_NOM_1B_20240828T055108Z_20240828T072444Z_01420E.h5'
ds  = xr.open_dataset(p, group='/ScienceData/Data')
dsg = xr.open_dataset(p, group='/ScienceData/Geo')

ds.dopplerVelocity.plot()
plt.show()

TC_lat_cen = 22.8
TC_lon_cen = 130.2

geod = Geod(ellps="WGS84")

lons_start = np.ones_like(dsg.longitude) * float(TC_lon_cen)
lats_start = np.ones_like(dsg.latitude) * float(TC_lat_cen)

_, _, r = geod.inv(dsg.longitude, dsg.latitude, lons_start,lats_start)
rs, zs  = np.meshgrid(r / 1000, ds.phony_dim_11)

fig          = plt.figure(figsize=(15, 8))

# im = plt.pcolormesh(rs, zs, ds.cloud_air_velocity_1km.transpose(), cmap='coolwarm', vmin=-20, vmax=20)
im = plt.pcolormesh(rs, zs, ds.dopplerVelocity.transpose(), cmap='coolwarm', vmin=-6, vmax=6)
plt.gca().invert_yaxis()
plt.xlabel('Distance from TC center (km)')
plt.ylabel('phony_dim_4')

# plt.xlim(0, 1000)

# Colorbar
cbar  = fig.colorbar(im)
cbar.set_label(r'Doppler Velocity (m/s)', rotation=90)
cbar.ax.get_yaxis().labelpad=5

plt.axvline(0, c='k')


p   = '/home/arthur/data/earthCARE/samples/Level_1B/CPR_NOM_1B_2024_08_28/ECA_JXBA_CPR_NOM_1B_20240828T053922Z_20241118T072330Z_01420D/ECA_JXBA_CPR_NOM_1B_20240828T053922Z_20241118T072330Z_01420D.h5'
ds  = xr.open_dataset(p, group='/ScienceData/Data')
dsg = xr.open_dataset(p, group='/ScienceData/Geo')

ds.dopplerVelocity.plot()
plt.show()

TC_lat_cen = 22.8
TC_lon_cen = 130.2

geod = Geod(ellps="WGS84")

lons_start = np.ones_like(dsg.longitude) * float(TC_lon_cen)
lats_start = np.ones_like(dsg.latitude) * float(TC_lat_cen)

_, _, r = geod.inv(dsg.longitude, dsg.latitude, lons_start,lats_start)
rs, zs  = np.meshgrid(r / 1000, ds.phony_dim_11)

fig          = plt.figure(figsize=(15, 8))

# im = plt.pcolormesh(rs, zs, ds.cloud_air_velocity_1km.transpose(), cmap='coolwarm', vmin=-20, vmax=20)
im = plt.pcolormesh(rs, zs, ds.dopplerVelocity.transpose(), cmap='coolwarm', vmin=-6, vmax=6)
plt.gca().invert_yaxis()
plt.xlabel('Distance from TC center (km)')
plt.ylabel('phony_dim_4')

# plt.xlim(0, 1000)

# Colorbar
cbar  = fig.colorbar(im)
cbar.set_label(r'Doppler Velocity (m/s)', rotation=90)
cbar.ax.get_yaxis().labelpad=5

plt.axvline(0, c='k')


p   = '/home/arthur/data/earthCARE/samples/Level_1B/CPR_NOM_1B_2024_08_28/ECA_JXBA_CPR_NOM_1B_20240828T055108Z_20241118T072738Z_01420E/ECA_JXBA_CPR_NOM_1B_20240828T055108Z_20241118T072738Z_01420E.h5'
ds  = xr.open_dataset(p, group='/ScienceData/Data')
dsg = xr.open_dataset(p, group='/ScienceData/Geo')

ds.dopplerVelocity.plot()
plt.show()

TC_lat_cen = 22.8
TC_lon_cen = 130.2

geod = Geod(ellps="WGS84")

lons_start = np.ones_like(dsg.longitude) * float(TC_lon_cen)
lats_start = np.ones_like(dsg.latitude) * float(TC_lat_cen)

_, _, r = geod.inv(dsg.longitude, dsg.latitude, lons_start,lats_start)
rs, zs  = np.meshgrid(r / 1000, ds.phony_dim_11)

fig          = plt.figure(figsize=(15, 8))

# im = plt.pcolormesh(rs, zs, ds.cloud_air_velocity_1km.transpose(), cmap='coolwarm', vmin=-20, vmax=20)
im = plt.pcolormesh(rs, zs, ds.dopplerVelocity.transpose(), cmap='coolwarm', vmin=-6, vmax=6)
plt.gca().invert_yaxis()
plt.xlabel('Distance from TC center (km)')
plt.ylabel('phony_dim_4')

# plt.xlim(0, 1000)

# Colorbar
cbar  = fig.colorbar(im)
cbar.set_label(r'Doppler Velocity (m/s)', rotation=90)
cbar.ax.get_yaxis().labelpad=5

plt.axvline(0, c='k')


p   = '/home/arthur/data/earthCARE/samples/Level_1B/ECA_JXAC_CPR_NOM_1B_20240827T165608Z_20240827T221835Z_01412B/ECA_JXAC_CPR_NOM_1B_20240827T165608Z_20240827T221835Z_01412B.h5'
ds  = xr.open_dataset(p, group='/ScienceData/Data')
dsg = xr.open_dataset(p, group='/ScienceData/Geo')

ds.dopplerVelocity.plot()
plt.show()

TC_lat_cen = 22.8
TC_lon_cen = 130.2

geod = Geod(ellps="WGS84")

lons_start = np.ones_like(dsg.longitude) * float(TC_lon_cen)
lats_start = np.ones_like(dsg.latitude) * float(TC_lat_cen)

_, _, r = geod.inv(dsg.longitude, dsg.latitude, lons_start,lats_start)
rs, zs  = np.meshgrid(r / 1000, ds.phony_dim_11)

fig          = plt.figure(figsize=(15, 8))

# im = plt.pcolormesh(rs, zs, ds.cloud_air_velocity_1km.transpose(), cmap='coolwarm', vmin=-20, vmax=20)
im = plt.pcolormesh(rs, zs, ds.dopplerVelocity.transpose(), cmap='coolwarm', vmin=-6, vmax=6)
plt.gca().invert_yaxis()
plt.xlabel('Distance from TC center (km)')
plt.ylabel('phony_dim_4')

plt.xlim(0, 1000)

# Colorbar
cbar  = fig.colorbar(im)
cbar.set_label(r'Doppler Velocity (m/s)', rotation=90)
cbar.ax.get_yaxis().labelpad=5

plt.axvline(0, c='k')














### TC Gilma 2024
p   = '/home/arthur/data/earthCARE/samples/Level_1B/CPR_NOM_1B_2024_08_22/ECA_JXAC_CPR_NOM_1B_20240822T101511Z_20240822T105527Z_01330A/ECA_JXAC_CPR_NOM_1B_20240822T101511Z_20240822T105527Z_01330A.h5'
ds  = xr.open_dataset(p, group='/ScienceData/Data')
dsg = xr.open_dataset(p, group='/ScienceData/Geo')

ds.dopplerVelocity.plot()
plt.show()

TC_lat_cen = 17
TC_lon_cen = -125

geod = Geod(ellps="WGS84")

lons_start = np.ones_like(dsg.longitude) * float(TC_lon_cen)
lats_start = np.ones_like(dsg.latitude) * float(TC_lat_cen)

_, _, r = geod.inv(dsg.longitude, dsg.latitude, lons_start,lats_start)
rs, zs  = np.meshgrid(r / 1000, ds.phony_dim_11)

fig          = plt.figure(figsize=(15, 8))

# im = plt.pcolormesh(rs, zs, ds.cloud_air_velocity_1km.transpose(), cmap='coolwarm', vmin=-20, vmax=20)
im = plt.pcolormesh(rs, zs, ds.dopplerVelocity.transpose(), cmap='coolwarm', vmin=-6, vmax=6)
plt.gca().invert_yaxis()
plt.xlabel('Distance from TC center (km)')
plt.ylabel('phony_dim_4')

plt.xlim(0, 1000)

# Colorbar
cbar  = fig.colorbar(im)
cbar.set_label(r'Doppler Velocity (m/s)', rotation=90)
cbar.ax.get_yaxis().labelpad=5

plt.axvline(0, c='k')


dsg.longitude.values


plt.scatter(dsg.longitude, dsg.latitude)





### TC Gilma 2024
p   = '/home/arthur/data/earthCARE/samples/Level_1B/ECA_JXAC_CPR_NOM_1B_20240822T214920Z_20240823T003327Z_01337E/ECA_JXAC_CPR_NOM_1B_20240822T214920Z_20240823T003327Z_01337E.h5'
ds  = xr.open_dataset(p, group='/ScienceData/Data')
dsg = xr.open_dataset(p, group='/ScienceData/Geo')

ds.dopplerVelocity.plot()
plt.show()

TC_lat_cen = 17
# TC_lon_cen = -125
TC_lon_cen = -113

geod = Geod(ellps="WGS84")

lons_start = np.ones_like(dsg.longitude) * float(TC_lon_cen)
lats_start = np.ones_like(dsg.latitude) * float(TC_lat_cen)

_, _, r = geod.inv(dsg.longitude, dsg.latitude, lons_start,lats_start)
rs, zs  = np.meshgrid(r / 1000, ds.phony_dim_11)

fig          = plt.figure(figsize=(15, 8))

# im = plt.pcolormesh(rs, zs, ds.cloud_air_velocity_1km.transpose(), cmap='coolwarm', vmin=-20, vmax=20)
im = plt.pcolormesh(rs, zs, ds.dopplerVelocity.transpose(), cmap='coolwarm', vmin=-6, vmax=6)
plt.gca().invert_yaxis()
plt.xlabel('Distance from TC center (km)')
plt.ylabel('phony_dim_4')

plt.xlim(0, 1000)

# Colorbar
cbar  = fig.colorbar(im)
cbar.set_label(r'Doppler Velocity (m/s)', rotation=90)
cbar.ax.get_yaxis().labelpad=5

plt.axvline(0, c='k')








p   = '/home/arthur/data/earthCARE/samples/Level_2B/ECA_JXAA_ACM_CLP_2B_20240822T214920Z_20240824T002244Z_01337E/ECA_JXAA_ACM_CLP_2B_20240822T214920Z_20240824T002244Z_01337E.h5'
ds  = xr.open_dataset(p, group='/ScienceData/Data')
dsg = xr.open_dataset(p, group='/ScienceData/Geo')

TC_lat_cen = 17
# TC_lon_cen = -125
TC_lon_cen = -113

geod = Geod(ellps="WGS84")

lons_start = np.ones_like(dsg.longitude) * float(TC_lon_cen)
lats_start = np.ones_like(dsg.latitude) * float(TC_lat_cen)

_, _, r = geod.inv(dsg.longitude, dsg.latitude, lons_start,lats_start)
rs, zs  = np.meshgrid(r / 1000, ds.phony_dim_4)

cloud_air_velocity_1km_valid = ds.cloud_air_velocity_1km.where(((ds.cloud_air_velocity_1km >= -20)) & (ds.cloud_air_velocity_1km <= 20))

fig          = plt.figure(figsize=(15, 8))

# im = plt.pcolormesh(rs, zs, ds.cloud_air_velocity_1km.transpose(), cmap='coolwarm', vmin=-20, vmax=20)
im = plt.pcolormesh(rs, zs, cloud_air_velocity_1km_valid.transpose(), cmap='coolwarm', vmin=-20, vmax=20)
plt.gca().invert_yaxis()
plt.xlabel('Distance between pixels (km)')
plt.ylabel('phony_dim_4')

# Colorbar
cbar  = fig.colorbar(im)
cbar.set_label(r'cloud_air_velocity_1km (m/s)', rotation=90)
cbar.ax.get_yaxis().labelpad=5















































# dir_pth = '/home/arthur/data/earthCARE/samples/Level_2B/ACM_CLP_2B_2024_10_10/'
# dir_pth = '/home/arthur/data/earthCARE/samples/Level_2B/ACM_CAP_2B_2024_10_10/'
dir_pth = '/home/arthur/data/earthCARE/samples/Level_1B/CPR_NOM_1B_2024_08_22'
l_pths  = glob.glob(dir_pth + '/*/*.h5')
l_pths.sort()

for pth in l_pths:
    print(pth)
    dsg  = xr.open_dataset(pth, group='/ScienceData/Geo')
    # dsg  = xr.open_dataset(pth, group='/ScienceData')
    plt.scatter(dsg.longitude, dsg.latitude)
    plt.xlim(-129, -121)
    plt.ylim(13, 22)
    plt.show()


















