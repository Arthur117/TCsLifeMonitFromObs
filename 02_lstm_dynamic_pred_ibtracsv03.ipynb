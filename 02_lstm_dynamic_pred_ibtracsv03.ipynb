{
 "cells": [
  {
   "cell_type": "markdown",
   "metadata": {},
   "source": [
    "## Short-term prediction using LSTM and IBTrACS\n",
    "\n",
    "v03: Multi-LSTMs = using 1 LSTM per predicted parameter. MLP and LinearRegression models implemented and tested with PyTorch.\n",
    "\n",
    "Outcome: Linear Regression seems to work better than a MLP to predict next IBTrACS state. It also performs better than MLP. This is not due to our PyTorch implementation of models as a Pytorch-Linear-Regression model gives the same result like scikit-learn module, given a minimum of epochs iterations (~50).\n",
    "\n",
    "Also, predicting unique state parameter (= [Vmax] alone) instead of a multivariate state (= [lon, lat, Vmax, R34, Rmax]) doesn't change anything to the model performance."
   ]
  },
  {
   "cell_type": "code",
   "execution_count": 1,
   "metadata": {},
   "outputs": [],
   "source": [
    "# General\n",
    "# import glob\n",
    "import os.path\n",
    "# import warnings\n",
    "# warnings.filterwarnings('ignore')\n",
    "from tqdm import tqdm\n",
    "\n",
    "# Arrays & Displays\n",
    "import xarray as xr\n",
    "import numpy as np\n",
    "import matplotlib as mpl\n",
    "import matplotlib.pyplot as plt\n",
    "# from mpl_toolkits.axes_grid1 import make_axes_locatable\n",
    "# # from matplotlib.colors import Normalize\n",
    "# # from matplotlib.colors import ListedColormap\n",
    "# # import matplotlib.cm as cm\n",
    "# import pandas as pd\n",
    "\n",
    "# PyTorch\n",
    "import torch\n",
    "import torch.nn as nn\n",
    "from torch.autograd import Variable              # Convert arrays to tensors\n",
    "from torch.utils.data import Dataset, DataLoader # Create a Dataset class to combine with DataLoader (= mini batches selection)\n",
    "import pytorch_lightning as pl\n",
    "\n",
    "# Data treatment\n",
    "# import dask as da\n",
    "# from dask.diagnostics import ProgressBar\n",
    "# import zarr\n",
    "# from scipy.interpolate import griddata\n",
    "from datetime import datetime\n",
    "\n",
    "# Custom\n",
    "import dataUtils    as du\n",
    "import pytorchUtils as pu\n",
    "\n",
    "# Statistics\n",
    "from sklearn import linear_model, neighbors\n",
    "\n",
    "# Default parameters\n",
    "mpl.rcParams.update({'font.size': 18})\n",
    "mpl.rcParams['figure.figsize'] = (15, 10)\n",
    "mpl.rcParams['axes.facecolor'] = 'white'\n",
    "mpl.rcParams['figure.facecolor'] = 'white'"
   ]
  },
  {
   "cell_type": "code",
   "execution_count": 2,
   "metadata": {},
   "outputs": [
    {
     "name": "stdout",
     "output_type": "stream",
     "text": [
      "Using cuda device\n",
      "1 GPU(s) available\n"
     ]
    }
   ],
   "source": [
    "### Setup device\n",
    "device = 'cuda' if torch.cuda.is_available() else 'cpu'\n",
    "print('Using {} device'.format(device))\n",
    "print('{} GPU(s) available'.format(torch.cuda.device_count()))"
   ]
  },
  {
   "cell_type": "code",
   "execution_count": 3,
   "metadata": {},
   "outputs": [],
   "source": [
    "### VARIABLES TO CONSIDER\n",
    "'''Initial dataset has 147 variables, so we select only a subset of these'''\n",
    "# storm speed, time, dist2land, usa_r64, usa_r50\n",
    "params_of_interest = ['usa_lon', 'usa_lat', 'usa_wind', 'usa_r34', 'usa_rmw'] \n",
    "additional_info    = ['numobs', 'sid', 'basin', 'name', 'usa_agency', 'iso_time', 'nature']\n",
    "\n",
    "### PARAMS\n",
    "PARAMS = {'seq_len':     4, # length of the input time series used to predict y(t)\n",
    "          'n_features':  len(params_of_interest),     # nb of output features\n",
    "          \n",
    "          # Model parameters\n",
    "          'input_size':  5,     # nb of input features\n",
    "          'hidden_size': 20,    # nb of features in hidden state\n",
    "          'num_layers':  2,     # nb of stacked lstm layers\n",
    "          'dropout':     0,     # dropout probability\n",
    "    \n",
    "          'batch_size':  8,     \n",
    "          'n_epochs':    30,     # nb of epochs\n",
    "          'learn_rate':  0.001, # learning rate\n",
    "          \n",
    "          'save_figs':       False,\n",
    "          'feature_scaling': True,\n",
    "         }\n",
    "\n",
    "### PATHS\n",
    "PATHS  = {\n",
    "    # Data\n",
    "    'ibtracs_data': '/home/arthur/data/ibtracs/IBTrACS.NA.v04r00.nc', # '/home/arthur/data/ibtracs/IBTrACS.NA.v04r00.nc'\n",
    "    # Save\n",
    "    'lstm_path':    '/home/arthur/results/TCsLifeMonitFromObs/lstm_dynamic_pred_ibtracs/lstmv03.pth', \n",
    "}"
   ]
  },
  {
   "cell_type": "code",
   "execution_count": 4,
   "metadata": {},
   "outputs": [],
   "source": [
    "### OPEN DATASET\n",
    "ds_ibt_raw = xr.open_dataset(PATHS['ibtracs_data'])\n",
    "ds_ibt     = ds_ibt_raw[params_of_interest + additional_info]\n",
    "# ds_ibt_raw"
   ]
  },
  {
   "cell_type": "code",
   "execution_count": 5,
   "metadata": {},
   "outputs": [],
   "source": [
    "### FILTERS\n",
    "# By year\n",
    "start_date = np.datetime64('2000-01-01')\n",
    "fsi        = np.nanargmin(np.abs(ds_ibt['time'][:, 0] - start_date)) # First storm index\n",
    "ds_ibt     = ds_ibt.isel(storm=slice(fsi, -1))\n",
    "# By latitude\n",
    "ds_ibt     = ds_ibt.where(np.abs(ds_ibt['lat']) <= 30)\n",
    "# By removing empty Rmax time series\n",
    "ds_ibt     = ds_ibt.where(ds_ibt['usa_rmw'].notnull().sum(axis=1) > 5)\n",
    "# By removing empty R34 time series\n",
    "ds_ibt     = ds_ibt.where(ds_ibt['usa_r34'].notnull().sum(axis=1) > 5) \n",
    "\n",
    "# ==> Drop NaNs\n",
    "ds_ibt     = ds_ibt.dropna(dim='storm', how='all') # Much quicker to drop NaNs only at the end\n",
    "\n",
    "# Convert to m/s and km units\n",
    "ds_ibt['usa_wind'] *= 0.5144\n",
    "ds_ibt['usa_r34']  *= 1.852\n",
    "ds_ibt['usa_rmw']  *= 1.852"
   ]
  },
  {
   "cell_type": "code",
   "execution_count": 6,
   "metadata": {},
   "outputs": [],
   "source": [
    "# LR_variables = ['usa_lon', 'usa_lat', 'usa_r34']\n",
    "# ds_ibt_LR    = ds_ibt[LR_variables]\n",
    "# ds_ibt_LR"
   ]
  },
  {
   "cell_type": "code",
   "execution_count": 7,
   "metadata": {},
   "outputs": [
    {
     "name": "stdout",
     "output_type": "stream",
     "text": [
      "Train set: 150 storms;   Valid set: 50 storms Test set: 50 storms\n"
     ]
    },
    {
     "name": "stderr",
     "output_type": "stream",
     "text": [
      "100%|█████████████████████████████████████████| 150/150 [00:04<00:00, 30.18it/s]\n",
      "100%|███████████████████████████████████████████| 50/50 [00:01<00:00, 27.15it/s]\n",
      "100%|███████████████████████████████████████████| 50/50 [00:01<00:00, 28.23it/s]"
     ]
    },
    {
     "name": "stdout",
     "output_type": "stream",
     "text": [
      "Shape of predictors matrix X_train:  (4141, 20)\n",
      "Shape of targets matrix y_train:  (4141, 1)\n"
     ]
    },
    {
     "name": "stderr",
     "output_type": "stream",
     "text": [
      "\n"
     ]
    }
   ],
   "source": [
    "### CREATE DATASET (Train and test)\n",
    "# FIRST WE AVERAGE OVER EVERY QUADRANT\n",
    "# Pre-processing\n",
    "param_of_interest = ['usa_wind']\n",
    "\n",
    "MU    = {}\n",
    "SIG   = {}\n",
    "SCALE = {'usa_wind': 3,\n",
    "         'usa_rmw':  3, \n",
    "         'usa_r34':  2,\n",
    "         'usa_lon':  0.5,\n",
    "         'usa_lat':  1,\n",
    "}\n",
    "if PARAMS['feature_scaling']:\n",
    "    for param in params_of_interest:\n",
    "        MU[param]     = float(ds_ibt[param].mean(skipna=True))\n",
    "        SIG[param]    = float(ds_ibt[param].std(skipna=True))\n",
    "        ds_ibt[param] = SCALE[param] * ((ds_ibt[param] - MU[param]) / SIG[param])\n",
    "\n",
    "# Separate train and test set\n",
    "sep1 = int(0.6 * len(ds_ibt['storm'])) # 60% train, 20% valid, 20% test\n",
    "sep2 = int(0.8 * len(ds_ibt['storm']))\n",
    "ds_train, ds_valid, ds_test = ds_ibt.isel(storm=slice(None, sep1)), ds_ibt.isel(storm=slice(sep1, sep2)),  ds_ibt.isel(storm=slice(sep2, None))\n",
    "print('Train set: %i storms;  '%len(ds_train['storm']), 'Valid set: %i storms'%len(ds_valid['storm']), 'Test set: %i storms'%len(ds_test['storm']))\n",
    "\n",
    "# Create Dataset\n",
    "X_train, y_train = du.create_dataset(ds_train, params_of_interest, PARAMS)\n",
    "X_valid, y_valid = du.create_dataset(ds_valid, params_of_interest, PARAMS)\n",
    "X_test, y_test   = du.create_dataset(ds_test,  params_of_interest, PARAMS)\n",
    "\n",
    "# Select only one parameter as target\n",
    "i                = params_of_interest.index(param_of_interest[0])\n",
    "y_train          = np.expand_dims(np.array(y_train)[:, i], axis=1)\n",
    "y_valid          = np.expand_dims(np.array(y_valid)[:, i], axis=1)\n",
    "y_test           = np.expand_dims(np.array(y_test)[:, i], axis=1)\n",
    "\n",
    "\n",
    "print('Shape of predictors matrix X_train: ', np.asarray(X_train).shape)\n",
    "print('Shape of targets matrix y_train: ', np.asarray(y_train).shape)"
   ]
  },
  {
   "cell_type": "code",
   "execution_count": 8,
   "metadata": {},
   "outputs": [
    {
     "name": "stdout",
     "output_type": "stream",
     "text": [
      "Features shape (batch_size, seq_len, n_features): torch.Size([8, 4, 5])\n",
      "Target shape (batch_size, n_features): torch.Size([8, 1])\n"
     ]
    }
   ],
   "source": [
    "# Open Datasets\n",
    "# Train, valid, and test sets are moved to GPU if available\n",
    "train_dataset = pu.ShortTimeseriesDataset(X_train, \n",
    "                                          y_train,\n",
    "                                          PARAMS['n_features'],\n",
    "                                          PARAMS['seq_len'],\n",
    "                                          device\n",
    "                                         )\n",
    "valid_dataset = pu.ShortTimeseriesDataset(X_valid, \n",
    "                                          y_valid,\n",
    "                                          PARAMS['n_features'],\n",
    "                                          PARAMS['seq_len'],\n",
    "                                          device\n",
    "                                         )\n",
    "test_dataset  = pu.ShortTimeseriesDataset(X_test, \n",
    "                                          y_test,\n",
    "                                          PARAMS['n_features'],\n",
    "                                          PARAMS['seq_len'],\n",
    "                                          device\n",
    "                                         )\n",
    "\n",
    "# DataLoader\n",
    "# torch.manual_seed(99)\n",
    "train_loader = DataLoader(train_dataset, batch_size=PARAMS['batch_size'], shuffle=True)\n",
    "valid_loader = DataLoader(valid_dataset, batch_size=PARAMS['batch_size'], shuffle=False)\n",
    "test_loader  = DataLoader(test_dataset,  batch_size=PARAMS['batch_size'], shuffle=False)\n",
    "\n",
    "X, y = next(iter(train_loader)) # Check\n",
    "print(\"Features shape (batch_size, seq_len, n_features):\", X.shape)\n",
    "print(\"Target shape (batch_size, n_features):\", y.shape)"
   ]
  },
  {
   "cell_type": "code",
   "execution_count": 9,
   "metadata": {},
   "outputs": [
    {
     "name": "stdout",
     "output_type": "stream",
     "text": [
      "MLP(\n",
      "  (layers): Sequential(\n",
      "    (0): Flatten(start_dim=1, end_dim=-1)\n",
      "    (1): Linear(in_features=20, out_features=20, bias=True)\n",
      "    (2): ReLU()\n",
      "    (3): Linear(in_features=20, out_features=10, bias=True)\n",
      "    (4): ReLU()\n",
      "    (5): Linear(in_features=10, out_features=1, bias=True)\n",
      "  )\n",
      ")\n",
      "Trainable parameters: 641\n"
     ]
    }
   ],
   "source": [
    "# Declare model\n",
    "# Normally, LSTM1 handles batch_size\n",
    "# model = pu.LSTM1(num_classes=1, \n",
    "#                  input_size=PARAMS['input_size'],\n",
    "#                  hidden_size=PARAMS['hidden_size'],\n",
    "#                  num_layers=PARAMS['num_layers'],\n",
    "#                  seq_len=PARAMS['seq_len'],\n",
    "#                  dropout=PARAMS['dropout'],\n",
    "# )\n",
    "\n",
    "model = pu.MLP(input_size=5, seq_len=4, output_size=1)\n",
    "# model = pu.LinearRegression(input_size=5, seq_len=4, output_size=1)\n",
    "\n",
    "print(model)\n",
    "print('Trainable parameters:', sum(p.numel() for p in model.parameters() if p.requires_grad))\n",
    "# Move to GPU if available\n",
    "model.to(device)\n",
    "\n",
    "# Loss function, optimizer\n",
    "loss_function = torch.nn.MSELoss()    # mean-squared error for regression\n",
    "optimizer     = torch.optim.Adam(model.parameters(), lr=PARAMS['learn_rate']) "
   ]
  },
  {
   "cell_type": "code",
   "execution_count": 10,
   "metadata": {},
   "outputs": [
    {
     "name": "stdout",
     "output_type": "stream",
     "text": [
      "Untrained valid loss\n",
      "--------\n",
      "11.184352001384356\n",
      "\n"
     ]
    },
    {
     "name": "stderr",
     "output_type": "stream",
     "text": [
      "  3%|█▍                                          | 1/30 [00:00<00:23,  1.25it/s]"
     ]
    },
    {
     "name": "stdout",
     "output_type": "stream",
     "text": [
      "Epoch 0 / 30\n",
      "---------\n",
      "Train loss: 1.1763292382287875\n",
      "Valid loss: 0.1759990741349834\n",
      "\n"
     ]
    },
    {
     "name": "stderr",
     "output_type": "stream",
     "text": [
      " 27%|███████████▋                                | 8/30 [00:06<00:18,  1.18it/s]"
     ]
    },
    {
     "name": "stdout",
     "output_type": "stream",
     "text": [
      "Epoch 7 / 30\n",
      "---------\n",
      "Train loss: 0.13906241789942025\n",
      "Valid loss: 0.159599118938489\n",
      "\n"
     ]
    },
    {
     "name": "stderr",
     "output_type": "stream",
     "text": [
      " 50%|█████████████████████▌                     | 15/30 [00:12<00:12,  1.16it/s]"
     ]
    },
    {
     "name": "stdout",
     "output_type": "stream",
     "text": [
      "Epoch 14 / 30\n",
      "---------\n",
      "Train loss: 0.1292043568667125\n",
      "Valid loss: 0.09253575972623515\n",
      "\n"
     ]
    },
    {
     "name": "stderr",
     "output_type": "stream",
     "text": [
      " 73%|███████████████████████████████▌           | 22/30 [00:18<00:06,  1.23it/s]"
     ]
    },
    {
     "name": "stdout",
     "output_type": "stream",
     "text": [
      "Epoch 21 / 30\n",
      "---------\n",
      "Train loss: 0.12177123217286118\n",
      "Valid loss: 0.08765978002160484\n",
      "\n"
     ]
    },
    {
     "name": "stderr",
     "output_type": "stream",
     "text": [
      " 97%|█████████████████████████████████████████▌ | 29/30 [00:24<00:00,  1.19it/s]"
     ]
    },
    {
     "name": "stdout",
     "output_type": "stream",
     "text": [
      "Epoch 28 / 30\n",
      "---------\n",
      "Train loss: 0.11971313871702172\n",
      "Valid loss: 0.11166024251665198\n",
      "\n"
     ]
    },
    {
     "name": "stderr",
     "output_type": "stream",
     "text": [
      "100%|███████████████████████████████████████████| 30/30 [00:25<00:00,  1.20it/s]\n"
     ]
    },
    {
     "data": {
      "text/plain": [
       "<All keys matched successfully>"
      ]
     },
     "execution_count": 10,
     "metadata": {},
     "output_type": "execute_result"
    },
    {
     "data": {
      "image/png": "[encoded data removed]",
      "text/plain": [
       "<Figure size 1080x720 with 1 Axes>"
      ]
     },
     "metadata": {},
     "output_type": "display_data"
    }
   ],
   "source": [
    "def train_model(data_loader, model, loss_function, optimizer):\n",
    "    num_batches = len(data_loader)\n",
    "    total_loss  = 0\n",
    "    model.train()\n",
    "\n",
    "    for X, y in data_loader:\n",
    "        output = model(X)\n",
    "        loss = loss_function(output, y)\n",
    "\n",
    "        optimizer.zero_grad()\n",
    "        loss.backward()\n",
    "        optimizer.step()\n",
    "\n",
    "        total_loss += loss.item()\n",
    "\n",
    "    avg_loss = total_loss / num_batches\n",
    "    # print(f\"Train loss: {avg_loss}\")\n",
    "    return avg_loss\n",
    "\n",
    "def valid_model(data_loader, model, loss_function):\n",
    "    num_batches = len(data_loader)\n",
    "    total_loss  = 0\n",
    "\n",
    "    model.eval()\n",
    "    with torch.no_grad():\n",
    "        for X, y in data_loader:\n",
    "            output = model(X)\n",
    "            total_loss += loss_function(output, y).item()\n",
    "\n",
    "    avg_loss = total_loss / num_batches\n",
    "    # print(f\"Valid loss: {avg_loss}\")\n",
    "    return avg_loss\n",
    "    \n",
    "def test_model(data_loader, model, loss_function):\n",
    "    num_batches = len(data_loader)\n",
    "    total_loss  = 0\n",
    "\n",
    "    model.eval()\n",
    "    with torch.no_grad():\n",
    "        for X, y in data_loader:\n",
    "            output = model(X)\n",
    "            total_loss += loss_function(output, y).item()\n",
    "\n",
    "    avg_loss = total_loss / num_batches\n",
    "    # print(f\"Test loss: {avg_loss}\")\n",
    "    return avg_loss\n",
    "\n",
    "def predict(data_loader, model):\n",
    "    '''\n",
    "    CAVEAT: Model is put onto CPU in this function.\n",
    "    '''\n",
    "    output = torch.tensor([])\n",
    "    \n",
    "    model.cpu()\n",
    "    model.eval()\n",
    "    with torch.no_grad():\n",
    "        for X, _ in data_loader:\n",
    "            y_star = model(X)\n",
    "            output = torch.cat((output, y_star), 0)\n",
    "\n",
    "    return output\n",
    "\n",
    "print(\"Untrained valid loss\\n--------\")\n",
    "best_vl = valid_model(valid_loader, model, loss_function)\n",
    "print(best_vl)\n",
    "print()\n",
    "\n",
    "train_loss = []\n",
    "valid_loss = []\n",
    "test_loss  = []\n",
    "for ix_epoch in tqdm(range(PARAMS['n_epochs'])):\n",
    "    tl = train_model(train_loader, model, loss_function, optimizer=optimizer)\n",
    "    vl = valid_model(valid_loader, model, loss_function)\n",
    "    train_loss.append(tl)\n",
    "    valid_loss.append(vl)\n",
    "    test_loss.append(test_model(test_loader, model, loss_function))\n",
    "    if ix_epoch % (PARAMS['n_epochs'] // 4) == 0:\n",
    "        print(f\"Epoch {ix_epoch} / {PARAMS['n_epochs']}\\n---------\")\n",
    "        print(f\"Train loss: {tl}\\nValid loss: {vl}\\n\")\n",
    "    # Save model\n",
    "    if vl < best_vl:\n",
    "        torch.save(model.state_dict(), PATHS['lstm_path'])\n",
    "\n",
    "# Plot\n",
    "plt.plot(train_loss, label='Train loss', color='tab:blue')\n",
    "plt.plot(valid_loss, label='Valid loss', color='tab:red')\n",
    "plt.plot(test_loss,  label='Test loss',  color='tab:olive')\n",
    "plt.xlabel('Epoch');plt.ylabel('Loss')\n",
    "plt.legend(loc='lower left');plt.grid()\n",
    "\n",
    "# Load best model\n",
    "model.load_state_dict(torch.load(PATHS['lstm_path']))"
   ]
  },
  {
   "cell_type": "code",
   "execution_count": 11,
   "metadata": {},
   "outputs": [
    {
     "name": "stdout",
     "output_type": "stream",
     "text": [
      "==> LINEAR \n",
      "R2:  0.9921485250757598\n",
      "RMSE usa_wind:  1.24\n",
      "\n",
      "==> LSTM\n",
      "RMSE usa_wind:  1.34\n"
     ]
    }
   ],
   "source": [
    "### METRICS\n",
    "# Linear regression\n",
    "lrg = linear_model.LinearRegression()\n",
    "lrg.fit(X_train, y_train)\n",
    "print('==> LINEAR \\nR2: ', lrg.score(X_test, y_test))\n",
    "print('RMSE {}: '.format(param_of_interest[0]), round(du.rmse(du.inverse_scale_normalize(lrg.predict(X_test), MU, SIG, SCALE, param_of_interest[0]), du.inverse_scale_normalize(np.asarray(y_test), MU, SIG, SCALE, param_of_interest[0])), 2))\n",
    "\n",
    "# LSTM\n",
    "test_dataset_cpu = pu.ShortTimeseriesDataset(X_test, y_test, PARAMS['n_features'], PARAMS['seq_len'])\n",
    "test_loader_cpu  = DataLoader(test_dataset_cpu,  batch_size=PARAMS['batch_size'], shuffle=False)\n",
    "preds            = predict(test_loader_cpu, model).cpu().detach().numpy()\n",
    "print('\\n==> LSTM')\n",
    "print('RMSE {}: '.format(param_of_interest[0]), round(du.rmse(du.inverse_scale_normalize(preds, MU, SIG, SCALE, param_of_interest[0]), du.inverse_scale_normalize(np.asarray(y_test), MU, SIG, SCALE, param_of_interest[0])), 2))"
   ]
  }
 ],
 "metadata": {
  "kernelspec": {
   "display_name": "paramProfiles",
   "language": "python",
   "name": "paramprofiles"
  },
  "language_info": {
   "codemirror_mode": {
    "name": "ipython",
    "version": 3
   },
   "file_extension": ".py",
   "mimetype": "text/x-python",
   "name": "python",
   "nbconvert_exporter": "python",
   "pygments_lexer": "ipython3",
   "version": "3.8.11"
  }
 },
 "nbformat": 4,
 "nbformat_minor": 4
}
