{
 "cells": [
  {
   "cell_type": "markdown",
   "metadata": {},
   "source": [
    "## SAR Asymmetries\n",
    "\n",
    "TODO\n",
    "\n",
    "- Find the correct filters\n",
    "\n",
    "- Plot the 2D wind field at the top\n",
    "\n",
    "- Kepert model will fail when the validity area is too small (e.g Goni)... Why? Add that to filters? In fact, if the validity area is too small, the radii inside the validity area are affected by the large gradients at the edges of the area. Analytically, the BL depth delta-1 becomes infinite, at a rate 1 / sqrt(I - V/r), when I ~ V/r."
   ]
  },
  {
   "cell_type": "code",
   "execution_count": 1,
   "metadata": {},
   "outputs": [],
   "source": [
    "# General\n",
    "import glob\n",
    "import re\n",
    "import os.path\n",
    "# import warnings\n",
    "# warnings.filterwarnings('ignore')\n",
    "from tqdm.notebook import tqdm\n",
    "import copy\n",
    "\n",
    "# Arrays & Displays\n",
    "import xarray as xr\n",
    "import numpy as np\n",
    "import matplotlib as mpl\n",
    "import matplotlib.pyplot as plt\n",
    "from matplotlib.colors import Normalize\n",
    "from matplotlib.gridspec import GridSpec\n",
    "import matplotlib.cm as cm\n",
    "import pandas as pd\n",
    "\n",
    "# Data treatment\n",
    "from datetime import datetime\n",
    "from scipy.optimize import curve_fit\n",
    "from scipy.interpolate import griddata\n",
    "\n",
    "# Statistics\n",
    "from sklearn import linear_model, neighbors\n",
    "from pykalman import KalmanFilter\n",
    "\n",
    "# Default parameters\n",
    "mpl.rcParams.update({'font.size': 18})\n",
    "mpl.rcParams['figure.figsize'] = (15, 10)\n",
    "mpl.rcParams['axes.facecolor'] = 'white'\n",
    "mpl.rcParams['figure.facecolor'] = 'white'"
   ]
  },
  {
   "cell_type": "code",
   "execution_count": 34,
   "metadata": {},
   "outputs": [],
   "source": [
    "def wn1(thetas, a, phi, c):\n",
    "    return a * np.cos(thetas + phi) + c\n",
    "\n",
    "def get_wn1(thetas, wind_speed, initial_condition=15, upper_bound=80):\n",
    "    '''\n",
    "    initial_condition: initial conidition for the amplitude and the constant c (just put Vplus)\n",
    "    upper_bound: upper bound for the the amplitude and the constant c (just put Vmax)\n",
    "    '''\n",
    "    # Fitting process\n",
    "    popt, pcov = curve_fit(\n",
    "        f=wn1,\n",
    "        xdata=thetas,\n",
    "        ydata=wind_speed,\n",
    "        p0=[initial_condition, np.pi / 2, initial_condition],\n",
    "        bounds=([0.1, 0., 0.1], [upper_bound, np.pi, upper_bound]) # ([lower bounds], [upper bounds])\n",
    "    )\n",
    "    a, phi, c = popt[0], popt[1], popt[2]\n",
    "    return a, phi, c\n",
    "\n",
    "def I(Rs, Vs, fcor):\n",
    "    dr   = np.diff(Rs[0, :])[0] # meters\n",
    "    ksi  = 2 * Vs / Rs + fcor\n",
    "    zeta = np.gradient(Vs, dr, axis=1) + Vs / Rs + fcor\n",
    "    return np.sqrt(ksi * zeta)\n",
    "\n",
    "def h80(r, vm, rm, B, lat, vmin=0):\n",
    "    '''Holland 1980 profile.'''\n",
    "    fcor = coriolis(lat)\n",
    "    V    = r * 0.\n",
    "    V    = vmin + np.sqrt((vm ** 2) * ((rm / r) ** B) * np.exp(1 - (rm / r) ** B) + (r * fcor / 2) ** 2) - (r * fcor / 2)\n",
    "    return V\n",
    "\n",
    "def pol2cart(rho, phi):\n",
    "    x = rho * np.cos(phi)\n",
    "    y = rho * np.sin(phi)\n",
    "    return(x, y)\n",
    "\n",
    "def coriolis(lat):\n",
    "    '''Latitude must be in degrees.'''\n",
    "    Omega = 7.2921e-5                             # Earth rotation vector\n",
    "    fcor  = 2 * Omega * np.sin(lat * np.pi / 180) # Coriolis parameter assuming it's constant \n",
    "    return fcor\n",
    "\n",
    "def rmse(predictions, targets):\n",
    "    return np.sqrt(((predictions - targets) ** 2).mean())\n",
    "\n",
    "def getColorMap(rgbFile=\"medspiration.rgb\"):\n",
    "    '''\n",
    "    Load a RGB palette provided in ascii file\n",
    "    '''\n",
    "    colors = []\n",
    "    nbCol  =0\n",
    "    for line in open( rgbFile ):\n",
    "        r,g,b = [int(c) for c in line.split()]\n",
    "        colors.append( [r/255.,g/255.,b/255.] )\n",
    "        nbCol += 1\n",
    "    return(mpl.colors.ListedColormap(colors, name=\"custom\", N=nbCol))\n",
    "\n",
    "def pol2cart(r, th):\n",
    "    x = r * np.cos(th)\n",
    "    y = r * np.sin(th)\n",
    "    return x, y\n",
    "\n",
    "palette      = '/home/arthur/scripts/ck22model/PRJCT_RAD_SCAT_CK22_RMW/high_wind_speed.pal'\n",
    "cwnd         = getColorMap(rgbFile=palette)\n",
    "normalizer   = Normalize(0, 80)\n",
    "\n",
    "# Reference grids\n",
    "rs           = np.linspace(100, 5e5, 5000)\n",
    "ths          = np.linspace(0, 2 * np.pi, 361)                         # in radians\n",
    "Rs, THs      = np.meshgrid(rs, ths)                                   # shape (361, 5000)\n",
    "Xs, Ys       = pol2cart(Rs, THs)                                      # to create cartesian dataset\n",
    "dim_ref      = np.linspace(-500, 500, int((500 // 1 * 2) + 1)) * 1000 # to create cartesian dataset\n",
    "x_ref, y_ref = np.meshgrid(dim_ref, dim_ref)                          # to create cartesian dataset"
   ]
  },
  {
   "cell_type": "code",
   "execution_count": 35,
   "metadata": {},
   "outputs": [],
   "source": [
    "# Paths & Params\n",
    "PTHS = {\n",
    "    'dsg_pth': '/home/arthur/results/sar_extended/03_addIBT/dsg.nc',\n",
    "    'sar_dir':  '/home/arthur/data/cyclobs/RCM/sar_files/',\n",
    "    'sav_dir': '/home/arthur/results/winddirection/00_plotSARasymmetries/',\n",
    "}"
   ]
  },
  {
   "cell_type": "code",
   "execution_count": 36,
   "metadata": {},
   "outputs": [
    {
     "name": "stdout",
     "output_type": "stream",
     "text": [
      "Nb of SAR files = 816\n"
     ]
    }
   ],
   "source": [
    "# Open data\n",
    "dsg = xr.open_dataset(PTHS['dsg_pth'])\n",
    "\n",
    "# Open data\n",
    "all_data = glob.glob(PTHS['sar_dir'] + \"*.nc\")\n",
    "print('Nb of SAR files = {}'.format(len(all_data)))"
   ]
  },
  {
   "cell_type": "code",
   "execution_count": 37,
   "metadata": {},
   "outputs": [],
   "source": [
    "# all_data = ['/home/arthur/data/cyclobs/RCM/sar_files/rs2--owi-ca-20201030t211604-20201030t211719-00003-______sw_wp222020_cyclone_polar.nc']\n",
    "# all_data = ['/home/arthur/data/cyclobs/RCM/sar_files/rcm1--owi-ca-20230809t050027-20230809t050143-00003-______sw_ep052023_cyclone_polar.nc']"
   ]
  },
  {
   "cell_type": "code",
   "execution_count": 38,
   "metadata": {},
   "outputs": [
    {
     "data": {
      "application/vnd.jupyter.widget-view+json": {
       "model_id": "5e10655af0bd4493a2dc52d7afaa4bf6",
       "version_major": 2,
       "version_minor": 0
      },
      "text/plain": [
       "0it [00:00, ?it/s]"
      ]
     },
     "metadata": {},
     "output_type": "display_data"
    },
    {
     "name": "stdout",
     "output_type": "stream",
     "text": [
      "0 rs2--owi-cm-20210314t003920-20210314t004036-00003-______sw.nc\n"
     ]
    },
    {
     "data": {
      "application/vnd.jupyter.widget-view+json": {
       "model_id": "8dd4e482f28f4e36b637f0b93fc4a7f5",
       "version_major": 2,
       "version_minor": 0
      },
      "text/plain": [
       "  0%|          | 0/50 [00:00<?, ?it/s]"
      ]
     },
     "metadata": {},
     "output_type": "display_data"
    },
    {
     "name": "stdout",
     "output_type": "stream",
     "text": [
      "1 s1a-ew-owi-cm-20190320t124952-20190320t125126-000003-02F50E_sw.nc\n",
      "2 s1a-ew-owi-cm-20231013t080655-20231013t080759-000003-061D67_sw.nc\n"
     ]
    },
    {
     "data": {
      "application/vnd.jupyter.widget-view+json": {
       "model_id": "08e57c6b92b34c3bbb5b35545e9991e1",
       "version_major": 2,
       "version_minor": 0
      },
      "text/plain": [
       "  0%|          | 0/50 [00:00<?, ?it/s]"
      ]
     },
     "metadata": {},
     "output_type": "display_data"
    },
    {
     "name": "stdout",
     "output_type": "stream",
     "text": [
      "Value error, file skipped.\n",
      "3 s1b-iw-owi-cm-20200921t194728-20200921t194822-000003-02C997_sw.nc\n",
      "4 s1a-ew-owi-cm-20180807t083104-20180807t083409-000003-028367_sw.nc\n",
      "5 rs2--owi-cm-20200726t161050-20200726t161314-00003-______sw.nc\n",
      "6 rs2--owi-cm-20160712t022824-20160712t022940-00003-______sw.nc\n",
      "7 rs2--owi-cm-20220323t111355-20220323t111619-00003-______sw.nc\n",
      "8 rs2--owi-cm-20160825t093014-20160825t093130-00003-______sw.nc\n",
      "9 s1b-ew-owi-cm-20211027t202821-20211027t203105-000003-03800D_sw.nc\n",
      "10 rcm1--owi-cm-20230125t153532-20230125t153649-00003-______sw.nc\n",
      "11 s1a-ew-owi-cm-20181013t071546-20181013t071851-000003-02A2E9_sw.nc\n",
      "12 s1b-iw-owi-cm-20201031t212858-20201031t213128-000003-02DBDB_sw.nc\n",
      "13 s1a-iw-owi-cm-20191002t080415-20191002t080555-000003-0353A1_sw.nc\n",
      "14 s1a-ew-owi-cm-20190322t214643-20190322t214850-000003-02F65C_sw.nc\n"
     ]
    },
    {
     "data": {
      "application/vnd.jupyter.widget-view+json": {
       "model_id": "d895c1af3a9a477ca6d7bdb53f8b58df",
       "version_major": 2,
       "version_minor": 0
      },
      "text/plain": [
       "  0%|          | 0/50 [00:00<?, ?it/s]"
      ]
     },
     "metadata": {},
     "output_type": "display_data"
    },
    {
     "name": "stdout",
     "output_type": "stream",
     "text": [
      "15 s1a-ew-owi-cm-20181009t234305-20181009t234610-000003-02A153_sw.nc\n"
     ]
    },
    {
     "data": {
      "application/vnd.jupyter.widget-view+json": {
       "model_id": "93d0920f9a854777ab9387169df5db02",
       "version_major": 2,
       "version_minor": 0
      },
      "text/plain": [
       "  0%|          | 0/50 [00:00<?, ?it/s]"
      ]
     },
     "metadata": {},
     "output_type": "display_data"
    },
    {
     "name": "stdout",
     "output_type": "stream",
     "text": [
      "16 s1a-ew-owi-cm-20210421t093352-20210421t093556-000003-046D8B_sw.nc\n",
      "17 s1a-ew-owi-cm-20180726t203604-20180726t203909-000003-027E26_sw.nc\n",
      "18 s1a-iw-owi-cm-20200827t000908-20200827t001138-000003-03F518_sw.nc\n",
      "19 rcm2--owi-cm-20221022t124742-20221022t124922-00003-______sw.nc\n"
     ]
    },
    {
     "data": {
      "application/vnd.jupyter.widget-view+json": {
       "model_id": "a31de827cae948f680359bf690f0916c",
       "version_major": 2,
       "version_minor": 0
      },
      "text/plain": [
       "  0%|          | 0/50 [00:00<?, ?it/s]"
      ]
     },
     "metadata": {},
     "output_type": "display_data"
    },
    {
     "name": "stdout",
     "output_type": "stream",
     "text": [
      "20 s1b-ew-owi-cm-20180912t081831-20180912t082017-000003-01765A_sw.nc\n",
      "21 s1a-iw-owi-cm-20230303t072159-20230303t072256-000003-05B333_sw.nc\n",
      "22 s1b-iw-owi-cm-20181002t013418-20181002t013558-000003-017F30_sw.nc\n",
      "23 s1b-ew-owi-cm-20191010t085239-20191010t085526-000003-022AE7_sw.nc\n",
      "24 s1a-ew-owi-cm-20160829t203410-20160829t203614-000003-01437E_sw.nc\n",
      "25 rcm1--owi-cm-20230629t130417-20230629t130535-00003-______sw.nc\n"
     ]
    },
    {
     "data": {
      "application/vnd.jupyter.widget-view+json": {
       "model_id": "0fafa7d1fff54ad6959f429115efe044",
       "version_major": 2,
       "version_minor": 0
      },
      "text/plain": [
       "  0%|          | 0/50 [00:00<?, ?it/s]"
      ]
     },
     "metadata": {},
     "output_type": "display_data"
    },
    {
     "name": "stdout",
     "output_type": "stream",
     "text": [
      "26 rs2--owi-cm-20220916t210335-20220916t210558-00003-______sw.nc\n"
     ]
    },
    {
     "data": {
      "application/vnd.jupyter.widget-view+json": {
       "model_id": "7775db321c0c4f1ea519d5888d10fae7",
       "version_major": 2,
       "version_minor": 0
      },
      "text/plain": [
       "  0%|          | 0/50 [00:00<?, ?it/s]"
      ]
     },
     "metadata": {},
     "output_type": "display_data"
    },
    {
     "name": "stdout",
     "output_type": "stream",
     "text": [
      "27 rs2--owi-cm-20210925t204847-20210925t205110-00003-______sw.nc\n",
      "28 rs2--owi-cm-20160902t035139-20160902t035544-00003-______sw.nc\n"
     ]
    },
    {
     "data": {
      "application/vnd.jupyter.widget-view+json": {
       "model_id": "a9c0604a4ff248238c4ad34b8fe6ec8f",
       "version_major": 2,
       "version_minor": 0
      },
      "text/plain": [
       "  0%|          | 0/50 [00:00<?, ?it/s]"
      ]
     },
     "metadata": {},
     "output_type": "display_data"
    },
    {
     "name": "stdout",
     "output_type": "stream",
     "text": [
      "29 rs2--owi-cm-20220923t220719-20220923t220943-00003-______sw.nc\n",
      "30 s1a-ew-owi-cm-20180925t211906-20180925t212211-000003-029AA3_sw.nc\n"
     ]
    },
    {
     "data": {
      "application/vnd.jupyter.widget-view+json": {
       "model_id": "97069d1d1e4b47828ccc96dba24e7363",
       "version_major": 2,
       "version_minor": 0
      },
      "text/plain": [
       "  0%|          | 0/50 [00:00<?, ?it/s]"
      ]
     },
     "metadata": {},
     "output_type": "display_data"
    },
    {
     "name": "stdout",
     "output_type": "stream",
     "text": [
      "31 s1a-ew-owi-cm-20210927t212900-20210927t213119-000003-04B7A8_sw.nc\n",
      "32 s1a-iw-owi-cm-20220913t184440-20220913t184557-000003-056002_sw.nc\n",
      "33 s1a-ew-owi-cm-20180819t032959-20180819t033303-000003-0288F7_sw.nc\n"
     ]
    },
    {
     "data": {
      "application/vnd.jupyter.widget-view+json": {
       "model_id": "a6296db975504dfe8e0d8df52ad11f29",
       "version_major": 2,
       "version_minor": 0
      },
      "text/plain": [
       "  0%|          | 0/50 [00:00<?, ?it/s]"
      ]
     },
     "metadata": {},
     "output_type": "display_data"
    },
    {
     "name": "stdout",
     "output_type": "stream",
     "text": [
      "34 s1a-ew-owi-cm-20230217t002232-20230217t002412-000003-05AC30_sw.nc\n",
      "35 s1a-ew-owi-cm-20181006t140456-20181006t140700-000003-029FBE_sw.nc\n"
     ]
    },
    {
     "data": {
      "application/vnd.jupyter.widget-view+json": {
       "model_id": "9c77139123974abbacae397ba2abc05a",
       "version_major": 2,
       "version_minor": 0
      },
      "text/plain": [
       "  0%|          | 0/50 [00:00<?, ?it/s]"
      ]
     },
     "metadata": {},
     "output_type": "display_data"
    },
    {
     "name": "stdout",
     "output_type": "stream",
     "text": [
      "36 rcm3--owi-cm-20230518t133754-20230518t133849-00003-______sw.nc\n",
      "37 rcm2--owi-cm-20221114t071250-20221114t071430-00003-______sw.nc\n",
      "38 s1a-iw-owi-cm-20180111t212220-20180111t212340-000003-0224B0_sw.nc\n"
     ]
    },
    {
     "data": {
      "application/vnd.jupyter.widget-view+json": {
       "model_id": "1875ab08bd6b423781ed7669bd1b3e6f",
       "version_major": 2,
       "version_minor": 0
      },
      "text/plain": [
       "  0%|          | 0/50 [00:00<?, ?it/s]"
      ]
     },
     "metadata": {},
     "output_type": "display_data"
    },
    {
     "name": "stdout",
     "output_type": "stream",
     "text": [
      "Value error, file skipped.\n",
      "39 rs2--owi-cm-20210930t095823-20210930t095939-00003-______sw.nc\n",
      "40 rs2--owi-cm-20170908t105352-20170908t105502-00003-______sw.nc\n",
      "41 s1a-iw-owi-cm-20180806t011151-20180806t011245-000003-0282CD_sw.nc\n",
      "42 s1a-ew-owi-cm-20220324t132353-20220324t132628-000003-05105F_sw.nc\n"
     ]
    },
    {
     "data": {
      "application/vnd.jupyter.widget-view+json": {
       "model_id": "68c4b693a2044f9d9bcf2474932da228",
       "version_major": 2,
       "version_minor": 0
      },
      "text/plain": [
       "  0%|          | 0/50 [00:00<?, ?it/s]"
      ]
     },
     "metadata": {},
     "output_type": "display_data"
    },
    {
     "name": "stdout",
     "output_type": "stream",
     "text": [
      "43 rs2--owi-cm-20201028t120710-20201028t120825-00003-______sw.nc\n"
     ]
    },
    {
     "data": {
      "application/vnd.jupyter.widget-view+json": {
       "model_id": "be0bed966a02493499111c0361294183",
       "version_major": 2,
       "version_minor": 0
      },
      "text/plain": [
       "  0%|          | 0/50 [00:00<?, ?it/s]"
      ]
     },
     "metadata": {},
     "output_type": "display_data"
    },
    {
     "name": "stdout",
     "output_type": "stream",
     "text": [
      "44 rs2--owi-cm-20140805t093342-20140805t093535-00003-______sw.nc\n"
     ]
    },
    {
     "data": {
      "application/vnd.jupyter.widget-view+json": {
       "model_id": "b4471e58cf5745d6a165ec48cef80904",
       "version_major": 2,
       "version_minor": 0
      },
      "text/plain": [
       "  0%|          | 0/50 [00:00<?, ?it/s]"
      ]
     },
     "metadata": {},
     "output_type": "display_data"
    },
    {
     "name": "stdout",
     "output_type": "stream",
     "text": [
      "45 rcm1--owi-cm-20230309t030215-20230309t030329-00003-______sw.nc\n",
      "46 rs2--owi-cm-20210220t030329-20210220t030445-00003-______sw.nc\n",
      "47 s1a-ew-owi-cm-20160829t214021-20160829t214342-000003-01438B_sw.nc\n",
      "48 s1a-iw-owi-cm-20170918t221759-20170918t222029-000003-01F0A9_sw.nc\n",
      "49 rcm2--owi-cm-20210818t143906-20210818t144138-00003-______sw.nc\n"
     ]
    },
    {
     "data": {
      "application/vnd.jupyter.widget-view+json": {
       "model_id": "215cb2d38fd140f78109015d6f47dfb5",
       "version_major": 2,
       "version_minor": 0
      },
      "text/plain": [
       "  0%|          | 0/50 [00:00<?, ?it/s]"
      ]
     },
     "metadata": {},
     "output_type": "display_data"
    },
    {
     "name": "stdout",
     "output_type": "stream",
     "text": [
      "50 rcm1--owi-cm-20221108t104306-20221108t104510-00003-______sw.nc\n",
      "51 s1a-iw-owi-cm-20220309t022620-20220309t022739-000003-0508C0_sw.nc\n",
      "52 rs2--owi-cm-20201003t141913-20201003t142136-00003-______sw.nc\n"
     ]
    },
    {
     "data": {
      "application/vnd.jupyter.widget-view+json": {
       "model_id": "430b6bb46ba440f4a6352ac597edad72",
       "version_major": 2,
       "version_minor": 0
      },
      "text/plain": [
       "  0%|          | 0/50 [00:00<?, ?it/s]"
      ]
     },
     "metadata": {},
     "output_type": "display_data"
    },
    {
     "name": "stdout",
     "output_type": "stream",
     "text": [
      "53 rs2--owi-cm-20191023t083016-20191023t083348-00003-______sw.nc\n"
     ]
    },
    {
     "data": {
      "application/vnd.jupyter.widget-view+json": {
       "model_id": "113c9088f1014a519cc946e99968c80f",
       "version_major": 2,
       "version_minor": 0
      },
      "text/plain": [
       "  0%|          | 0/50 [00:00<?, ?it/s]"
      ]
     },
     "metadata": {},
     "output_type": "display_data"
    },
    {
     "name": "stdout",
     "output_type": "stream",
     "text": [
      "54 s1b-iw-owi-cm-20200915t235233-20200915t235417-000003-02C6F9_sw.nc\n"
     ]
    },
    {
     "data": {
      "application/vnd.jupyter.widget-view+json": {
       "model_id": "bf25793730244400842e14b4f96d28bc",
       "version_major": 2,
       "version_minor": 0
      },
      "text/plain": [
       "  0%|          | 0/50 [00:00<?, ?it/s]"
      ]
     },
     "metadata": {},
     "output_type": "display_data"
    },
    {
     "name": "stdout",
     "output_type": "stream",
     "text": [
      "55 rcm2--owi-cm-20230412t213217-20230412t213332-00003-______sw.nc\n"
     ]
    },
    {
     "data": {
      "application/vnd.jupyter.widget-view+json": {
       "model_id": "7a2bfb13582e4fe18ffe6fddbe97b674",
       "version_major": 2,
       "version_minor": 0
      },
      "text/plain": [
       "  0%|          | 0/50 [00:00<?, ?it/s]"
      ]
     },
     "metadata": {},
     "output_type": "display_data"
    },
    {
     "name": "stdout",
     "output_type": "stream",
     "text": [
      "56 s1a-ew-owi-cm-20201026t221102-20201026t221307-000003-041438_sw.nc\n"
     ]
    },
    {
     "data": {
      "application/vnd.jupyter.widget-view+json": {
       "model_id": "d0c8f6398a0a4696936fa0dae5e50eee",
       "version_major": 2,
       "version_minor": 0
      },
      "text/plain": [
       "  0%|          | 0/50 [00:00<?, ?it/s]"
      ]
     },
     "metadata": {},
     "output_type": "display_data"
    },
    {
     "name": "stdout",
     "output_type": "stream",
     "text": [
      "57 rs2--owi-cm-20220220t143954-20220220t144218-00003-______sw.nc\n",
      "58 s1a-iw-owi-cm-20210908t100621-20210908t100801-000003-04ADF7_sw.nc\n",
      "59 s1a-iw-owi-cm-20180815t104101-20180815t104220-000003-02872E_sw.nc\n",
      "60 rs2--owi-cm-20141013t100142-20141013t100258-00003-______sw.nc\n",
      "61 rcm3--owi-cm-20221229t003824-20221229t004004-00003-______sw.nc\n"
     ]
    },
    {
     "data": {
      "application/vnd.jupyter.widget-view+json": {
       "model_id": "d7acd0272ff841188bd160535a62615c",
       "version_major": 2,
       "version_minor": 0
      },
      "text/plain": [
       "  0%|          | 0/50 [00:00<?, ?it/s]"
      ]
     },
     "metadata": {},
     "output_type": "display_data"
    },
    {
     "name": "stdout",
     "output_type": "stream",
     "text": [
      "Value error, file skipped.\n",
      "62 rcm2--owi-cm-20230309t155937-20230309t160053-00003-______sw.nc\n",
      "63 s1b-iw-owi-cm-20191208t022442-20191208t022601-000003-024608_sw.nc\n",
      "64 rcm1--owi-cm-20210219t094038-20210219t094134-00003-______sw.nc\n",
      "65 s1a-ew-owi-cm-20181004t020906-20181004t021111-000003-029E91_sw.nc\n",
      "66 rcm3--owi-cm-20230622t092800-20230622t092916-00003-______sw.nc\n",
      "67 s1a-ew-owi-cm-20180908t040704-20180908t040908-000003-029243_sw.nc\n",
      "68 s1b-ew-owi-cm-20180308t012234-20180308t012539-000003-011FE5_sw.nc\n",
      "69 rs2--owi-cm-20170729t083209-20170729t083300-00003-______sw.nc\n",
      "70 s1a-iw-owi-cm-20180913t221855-20180913t222010-000003-0294F7_sw.nc\n",
      "71 s1a-ew-owi-cm-20180807t154302-20180807t154506-000003-028386_sw.nc\n"
     ]
    },
    {
     "data": {
      "application/vnd.jupyter.widget-view+json": {
       "model_id": "dee8b678c63148589047a851dfa021dc",
       "version_major": 2,
       "version_minor": 0
      },
      "text/plain": [
       "  0%|          | 0/50 [00:00<?, ?it/s]"
      ]
     },
     "metadata": {},
     "output_type": "display_data"
    },
    {
     "name": "stdout",
     "output_type": "stream",
     "text": [
      "72 rs2--owi-cm-20220922t223442-20220922t223705-00003-______sw.nc\n",
      "73 rcm1--owi-cm-20200623t100843-20200623t100939-00003-______sw.nc\n",
      "74 rcm3--owi-cm-20201010t084315-20201010t084427-00003-______sw.nc\n",
      "75 s1b-ew-owi-cm-20190330t135323-20190330t135509-000003-01D369_sw.nc\n"
     ]
    },
    {
     "data": {
      "application/vnd.jupyter.widget-view+json": {
       "model_id": "a2ca5ff33ad747a6af6a65344f0ba61b",
       "version_major": 2,
       "version_minor": 0
      },
      "text/plain": [
       "  0%|          | 0/50 [00:00<?, ?it/s]"
      ]
     },
     "metadata": {},
     "output_type": "display_data"
    },
    {
     "name": "stdout",
     "output_type": "stream",
     "text": [
      "76 rcm3--owi-cm-20230209t221955-20230209t222110-00003-______sw.nc\n",
      "77 rcm3--owi-cm-20230210t222810-20230210t222926-00003-______sw.nc\n"
     ]
    },
    {
     "data": {
      "application/vnd.jupyter.widget-view+json": {
       "model_id": "3086cf4dd47d416ab0497fc97a2a7817",
       "version_major": 2,
       "version_minor": 0
      },
      "text/plain": [
       "  0%|          | 0/50 [00:00<?, ?it/s]"
      ]
     },
     "metadata": {},
     "output_type": "display_data"
    },
    {
     "name": "stdout",
     "output_type": "stream",
     "text": [
      "78 s1a-iw-owi-cm-20190914t231126-20190914t231306-000003-034AF8_sw.nc\n",
      "79 s1a-iw-owi-cm-20170902t133647-20170902t133827-000003-01E94D_sw.nc\n",
      "80 s1a-ew-owi-cm-20191231t144416-20191231t144620-000003-03813D_sw.nc\n",
      "81 rcm1--owi-cm-20230815t205303-20230815t205405-00003-______sw.nc\n",
      "82 s1b-ew-owi-cm-20180728t210603-20180728t210835-000003-0161F6_sw.nc\n",
      "83 rs2--owi-cm-20220112t065152-20220112t065415-00003-______sw.nc\n",
      "84 s1a-ew-owi-cm-20230308t154255-20230308t154359-000003-05B5DE_sw.nc\n",
      "85 s1a-ew-owi-cm-20160827t092124-20160827t092414-000003-014249_sw.nc\n",
      "86 rs2--owi-cm-20140914t090541-20140914t090657-00003-______sw.nc\n",
      "87 rcm1--owi-cm-20230809t165811-20230809t165925-00003-______sw.nc\n",
      "88 rs2--owi-cm-20150602t135643-20150602t135759-00003-______sw.nc\n"
     ]
    },
    {
     "data": {
      "application/vnd.jupyter.widget-view+json": {
       "model_id": "3ccbb2bb126a4c26b021f7b7636c6a4a",
       "version_major": 2,
       "version_minor": 0
      },
      "text/plain": [
       "  0%|          | 0/50 [00:00<?, ?it/s]"
      ]
     },
     "metadata": {},
     "output_type": "display_data"
    },
    {
     "name": "stdout",
     "output_type": "stream",
     "text": [
      "89 rs2--owi-cm-20141020t163921-20141020t164037-00003-______sw.nc\n",
      "90 rcm1--owi-cm-20230917t213237-20230917t213354-00003-______sw.nc\n",
      "91 s1a-iw-owi-cm-20210629t130556-20210629t130711-000003-048CB1_sw.nc\n",
      "92 s1b-ew-owi-cm-20190503t001255-20190503t001459-000003-01E3AE_sw.nc\n"
     ]
    },
    {
     "data": {
      "application/vnd.jupyter.widget-view+json": {
       "model_id": "84fb59c7221e4e24bf61d88fe5737896",
       "version_major": 2,
       "version_minor": 0
      },
      "text/plain": [
       "  0%|          | 0/50 [00:00<?, ?it/s]"
      ]
     },
     "metadata": {},
     "output_type": "display_data"
    },
    {
     "name": "stdout",
     "output_type": "stream",
     "text": [
      "93 rcm1--owi-cm-20230909t220434-20230909t220551-00003-______sw.nc\n"
     ]
    },
    {
     "data": {
      "application/vnd.jupyter.widget-view+json": {
       "model_id": "5754a726ea3345cbb64b2e70963fc80b",
       "version_major": 2,
       "version_minor": 0
      },
      "text/plain": [
       "  0%|          | 0/50 [00:00<?, ?it/s]"
      ]
     },
     "metadata": {},
     "output_type": "display_data"
    },
    {
     "name": "stdout",
     "output_type": "stream",
     "text": [
      "94 rcm3--owi-cm-20230520t135354-20230520t135420-00003-______sw.nc\n",
      "95 s1b-ew-owi-cm-20210927t090902-20210927t091207-000003-03725C_sw.nc\n",
      "96 rcm1--owi-cm-20230912t101305-20230912t101421-00003-______sw.nc\n"
     ]
    },
    {
     "data": {
      "application/vnd.jupyter.widget-view+json": {
       "model_id": "af3303d302204ba59acfc18518d0a9a1",
       "version_major": 2,
       "version_minor": 0
      },
      "text/plain": [
       "  0%|          | 0/50 [00:00<?, ?it/s]"
      ]
     },
     "metadata": {},
     "output_type": "display_data"
    },
    {
     "name": "stdout",
     "output_type": "stream",
     "text": [
      "97 rcm1--owi-cm-20230310t030937-20230310t031117-00003-______sw.nc\n",
      "98 s1b-ew-owi-cm-20201114t103802-20201114t104036-000003-02E20F_sw.nc\n",
      "99 rs2--owi-cm-20160708t024536-20160708t024652-00003-______sw.nc\n"
     ]
    },
    {
     "data": {
      "application/vnd.jupyter.widget-view+json": {
       "model_id": "6d476e52d8fe47d8a26c5ad268ad92fd",
       "version_major": 2,
       "version_minor": 0
      },
      "text/plain": [
       "  0%|          | 0/50 [00:00<?, ?it/s]"
      ]
     },
     "metadata": {},
     "output_type": "display_data"
    },
    {
     "name": "stdout",
     "output_type": "stream",
     "text": [
      "100 s1a-ew-owi-cm-20221229t004058-20221229t004303-000003-0593A7_sw.nc\n",
      "101 s1a-ew-owi-cm-20160926t093348-20160926t093714-000003-01509C_sw.nc\n",
      "102 rs2--owi-cm-20151021t152606-20151021t152722-00003-______sw.nc\n"
     ]
    },
    {
     "data": {
      "application/vnd.jupyter.widget-view+json": {
       "model_id": "1bc72039ba314d2097f52e383faaea02",
       "version_major": 2,
       "version_minor": 0
      },
      "text/plain": [
       "  0%|          | 0/50 [00:00<?, ?it/s]"
      ]
     },
     "metadata": {},
     "output_type": "display_data"
    },
    {
     "name": "stdout",
     "output_type": "stream",
     "text": [
      "103 s1a-ew-owi-cm-20220714t151857-20220714t152046-000003-05438A_sw.nc\n"
     ]
    },
    {
     "data": {
      "application/vnd.jupyter.widget-view+json": {
       "model_id": "d1ef798c90124cffb28d46584a91d8bf",
       "version_major": 2,
       "version_minor": 0
      },
      "text/plain": [
       "  0%|          | 0/50 [00:00<?, ?it/s]"
      ]
     },
     "metadata": {},
     "output_type": "display_data"
    },
    {
     "name": "stdout",
     "output_type": "stream",
     "text": [
      "104 rs2--owi-cm-20150902t201620-20150902t201736-00003-______sw.nc\n",
      "105 rcm1--owi-cm-20230806t145737-20230806t145855-00003-______sw.nc\n",
      "106 s1a-iw-owi-cm-20200916t092622-20200916t092738-000003-03FF8D_sw.nc\n",
      "107 s1b-ew-owi-cm-20180808t082357-20180808t082552-000003-016699_sw.nc\n",
      "108 s1a-ew-owi-cm-20180818t150300-20180818t150604-000003-0288C3_sw.nc\n"
     ]
    },
    {
     "data": {
      "application/vnd.jupyter.widget-view+json": {
       "model_id": "ac90ff85d01548b798aa56a5a9ec1c44",
       "version_major": 2,
       "version_minor": 0
      },
      "text/plain": [
       "  0%|          | 0/50 [00:00<?, ?it/s]"
      ]
     },
     "metadata": {},
     "output_type": "display_data"
    },
    {
     "name": "stdout",
     "output_type": "stream",
     "text": [
      "109 rcm3--owi-cm-20230411t101505-20230411t101649-00003-______sw.nc\n",
      "110 rs2--owi-cm-20150621t104002-20150621t104109-00003-______sw.nc\n",
      "111 s1b-ew-owi-cm-20190802t042011-20190802t042203-000003-020B9A_sw.nc\n",
      "112 s1a-ew-owi-cm-20160920t215441-20160920t215724-000003-014E08_sw.nc\n",
      "113 s1a-ew-owi-cm-20230804t213456-20230804t213559-000003-05FAEB_sw.nc\n",
      "114 rs2--owi-cm-20150803t202943-20150803t203347-00003-______sw.nc\n"
     ]
    },
    {
     "data": {
      "application/vnd.jupyter.widget-view+json": {
       "model_id": "42f03745e68149b4b1dc9b11d14590b8",
       "version_major": 2,
       "version_minor": 0
      },
      "text/plain": [
       "  0%|          | 0/50 [00:00<?, ?it/s]"
      ]
     },
     "metadata": {},
     "output_type": "display_data"
    },
    {
     "name": "stdout",
     "output_type": "stream",
     "text": [
      "115 s1a-ew-owi-cm-20180904t083405-20180904t083710-000003-029075_sw.nc\n",
      "116 s1a-iw-owi-cm-20190906t224121-20190906t224301-000003-0346EC_sw.nc\n",
      "117 rcm2--owi-cm-20230521t005919-20230521t010001-00003-______sw.nc\n",
      "118 s1b-ew-owi-cm-20201225t014342-20201225t014552-000003-02F4F5_sw.nc\n",
      "119 s1a-iw-owi-cm-20231022t222848-20231022t223011-000003-062224_sw.nc\n",
      "120 s1a-iw-owi-cm-20231024t004708-20231024t004802-000003-0622AE_sw.nc\n",
      "121 s1a-iw-owi-cm-20200516t232006-20200516t232121-000003-03C684_sw.nc\n",
      "122 rs2--owi-cm-20210418t093003-20210418t093118-00003-______sw.nc\n",
      "123 rs2--owi-cm-20140814t014651-20140814t014807-00003-______sw.nc\n",
      "124 rcm3--owi-cm-20221103t085346-20221103t085706-00003-______sw.nc\n",
      "125 s1b-iw-owi-cm-20170923t104349-20170923t104554-000003-00D45F_sw.nc\n"
     ]
    },
    {
     "data": {
      "application/vnd.jupyter.widget-view+json": {
       "model_id": "9d1645280c6d4a54b9a131ed937245b8",
       "version_major": 2,
       "version_minor": 0
      },
      "text/plain": [
       "  0%|          | 0/50 [00:00<?, ?it/s]"
      ]
     },
     "metadata": {},
     "output_type": "display_data"
    },
    {
     "name": "stdout",
     "output_type": "stream",
     "text": [
      "126 rcm3--owi-cm-20230410t100737-20230410t100853-00003-______sw.nc\n",
      "127 s1a-ew-owi-cm-20190330t005718-20190330t010032-000003-02FA24_sw.nc\n",
      "128 rs2--owi-cm-20150803t152928-20150803t153044-00003-______sw.nc\n",
      "129 rs2--owi-cm-20180308t012408-20180308t012739-00003-______sw.nc\n",
      "130 s1b-ew-owi-cm-20190906t141103-20190906t141249-000003-021B95_sw.nc\n",
      "131 rs2--owi-cm-20191207t022100-20191207t022324-00003-______sw.nc\n",
      "132 s1b-iw-owi-cm-20171014t193841-20171014t194046-000003-00DD36_sw.nc\n",
      "133 rcm1--owi-cm-20211027t222516-20211027t222640-00003-______sw.nc\n",
      "134 rs2--owi-cm-20141019t044431-20141019t044547-00003-______sw.nc\n",
      "135 s1a-ew-owi-cm-20180928t093504-20180928t093708-000003-029BC7_sw.nc\n"
     ]
    },
    {
     "data": {
      "application/vnd.jupyter.widget-view+json": {
       "model_id": "a2be33ffe71f45fca29670cf5b5c7b93",
       "version_major": 2,
       "version_minor": 0
      },
      "text/plain": [
       "  0%|          | 0/50 [00:00<?, ?it/s]"
      ]
     },
     "metadata": {},
     "output_type": "display_data"
    },
    {
     "name": "stdout",
     "output_type": "stream",
     "text": [
      "136 rcm1--owi-cm-20230305t170112-20230305t170229-00003-______sw.nc\n",
      "137 rcm1--owi-cm-20230614t012242-20230614t012349-00003-______sw.nc\n"
     ]
    },
    {
     "data": {
      "application/vnd.jupyter.widget-view+json": {
       "model_id": "c4e40bf83f8141ff881a158c00a72b3d",
       "version_major": 2,
       "version_minor": 0
      },
      "text/plain": [
       "  0%|          | 0/50 [00:00<?, ?it/s]"
      ]
     },
     "metadata": {},
     "output_type": "display_data"
    },
    {
     "name": "stdout",
     "output_type": "stream",
     "text": [
      "138 rcm1--owi-cm-20230218t135942-20230218t140057-00003-______sw.nc\n"
     ]
    },
    {
     "data": {
      "application/vnd.jupyter.widget-view+json": {
       "model_id": "e48de73bf146467c929ea3901ef0a49d",
       "version_major": 2,
       "version_minor": 0
      },
      "text/plain": [
       "  0%|          | 0/50 [00:00<?, ?it/s]"
      ]
     },
     "metadata": {},
     "output_type": "display_data"
    },
    {
     "name": "stdout",
     "output_type": "stream",
     "text": [
      "139 s1a-iw-owi-cm-20201009t120643-20201009t120826-000003-040B68_sw.nc\n",
      "140 rcm1--owi-cm-20210817t100853-20210817t101301-00003-______sw.nc\n",
      "141 s1a-ew-owi-cm-20190930t210003-20190930t210142-000003-0352F9_sw.nc\n",
      "142 rcm1--owi-cm-20230128t155750-20230128t155907-00003-______sw.nc\n",
      "143 s1a-iw-owi-cm-20230806t211820-20230806t211916-000003-05FBCB_sw.nc\n",
      "144 rcm1--owi-cm-20230223t024649-20230223t024805-00003-______sw.nc\n",
      "145 s1a-ew-owi-cm-20230214t134626-20230214t134830-000003-05AAE6_sw.nc\n",
      "146 rs2--owi-cm-20200903t203531-20200903t203902-00003-______sw.nc\n",
      "147 rcm1--owi-cm-20230809t050027-20230809t050143-00003-______sw.nc\n"
     ]
    },
    {
     "data": {
      "application/vnd.jupyter.widget-view+json": {
       "model_id": "fbaf50dee0854a71a302abd6317584bc",
       "version_major": 2,
       "version_minor": 0
      },
      "text/plain": [
       "  0%|          | 0/50 [00:00<?, ?it/s]"
      ]
     },
     "metadata": {},
     "output_type": "display_data"
    },
    {
     "name": "stdout",
     "output_type": "stream",
     "text": [
      "148 s1a-iw-owi-cm-20220701t104123-20220701t104217-000003-053DCB_sw.nc\n",
      "149 rs2--owi-cm-20210208t125630-20210208t125746-00003-______sw.nc\n"
     ]
    },
    {
     "data": {
      "application/vnd.jupyter.widget-view+json": {
       "model_id": "2ef2ac7daedc46b88eb0489adff91f94",
       "version_major": 2,
       "version_minor": 0
      },
      "text/plain": [
       "  0%|          | 0/50 [00:00<?, ?it/s]"
      ]
     },
     "metadata": {},
     "output_type": "display_data"
    },
    {
     "name": "stdout",
     "output_type": "stream",
     "text": [
      "150 s1b-iw-owi-cm-20201026t235804-20201026t235944-000003-02D99A_sw.nc\n",
      "151 s1b-ew-owi-cm-20190306t135326-20190306t135533-000003-01C808_sw.nc\n"
     ]
    },
    {
     "data": {
      "application/vnd.jupyter.widget-view+json": {
       "model_id": "a73e30ec663942778ec42f19ff8dfdc8",
       "version_major": 2,
       "version_minor": 0
      },
      "text/plain": [
       "  0%|          | 0/50 [00:00<?, ?it/s]"
      ]
     },
     "metadata": {},
     "output_type": "display_data"
    },
    {
     "name": "stdout",
     "output_type": "stream",
     "text": [
      "152 s1a-ew-owi-cm-20220219t013628-20220219t013902-000003-04FFB8_sw.nc\n",
      "153 rs2--owi-cm-20171008t204743-20171008t204859-00003-______sw.nc\n",
      "154 rcm1--owi-cm-20230303t181918-20230303t182032-00003-______sw.nc\n",
      "155 rcm2--owi-cm-20230920t212853-20230920t212959-00003-______sw.nc\n",
      "156 s1a-ew-owi-cm-20201029t205631-20201029t205758-000003-0415BC_sw.nc\n"
     ]
    },
    {
     "data": {
      "application/vnd.jupyter.widget-view+json": {
       "model_id": "088355775c8140908e70412641de5261",
       "version_major": 2,
       "version_minor": 0
      },
      "text/plain": [
       "  0%|          | 0/50 [00:00<?, ?it/s]"
      ]
     },
     "metadata": {},
     "output_type": "display_data"
    },
    {
     "name": "stdout",
     "output_type": "stream",
     "text": [
      "157 rcm1--owi-cm-20221223t124804-20221223t124948-00003-______sw.nc\n"
     ]
    },
    {
     "data": {
      "application/vnd.jupyter.widget-view+json": {
       "model_id": "e28d9a2b5d844fe7b9f3dbb19b805e40",
       "version_major": 2,
       "version_minor": 0
      },
      "text/plain": [
       "  0%|          | 0/50 [00:00<?, ?it/s]"
      ]
     },
     "metadata": {},
     "output_type": "display_data"
    },
    {
     "name": "stdout",
     "output_type": "stream",
     "text": [
      "158 s1a-ew-owi-cm-20191105t195730-20191105t195916-000003-03651B_sw.nc\n"
     ]
    },
    {
     "data": {
      "application/vnd.jupyter.widget-view+json": {
       "model_id": "484c605e160142f3b79db91d70b6292f",
       "version_major": 2,
       "version_minor": 0
      },
      "text/plain": [
       "  0%|          | 0/50 [00:00<?, ?it/s]"
      ]
     },
     "metadata": {},
     "output_type": "display_data"
    },
    {
     "name": "stdout",
     "output_type": "stream",
     "text": [
      "159 rs2--owi-cm-20200901t213245-20200901t213508-00003-______sw.nc\n",
      "160 rcm1--owi-cm-20210902t103929-20210902t104157-00003-______sw.nc\n",
      "161 s1b-iw-owi-cm-20191119t095826-20191119t095943-000003-023D71_sw.nc\n"
     ]
    },
    {
     "data": {
      "application/vnd.jupyter.widget-view+json": {
       "model_id": "3bebd07f6b6a428e8c07f37ca6184ad7",
       "version_major": 2,
       "version_minor": 0
      },
      "text/plain": [
       "  0%|          | 0/50 [00:00<?, ?it/s]"
      ]
     },
     "metadata": {},
     "output_type": "display_data"
    },
    {
     "name": "stdout",
     "output_type": "stream",
     "text": [
      "162 rs2--owi-cm-20190328t005221-20190328t005444-00003-______sw.nc\n"
     ]
    },
    {
     "data": {
      "application/vnd.jupyter.widget-view+json": {
       "model_id": "32fd9b7511274988b64ec46a658ca24a",
       "version_major": 2,
       "version_minor": 0
      },
      "text/plain": [
       "  0%|          | 0/50 [00:00<?, ?it/s]"
      ]
     },
     "metadata": {},
     "output_type": "display_data"
    },
    {
     "name": "stdout",
     "output_type": "stream",
     "text": [
      "163 rcm2--owi-cm-20220918t010744-20220918t011032-00003-______sw.nc\n",
      "164 rs2--owi-cm-20210302t231916-20210302t232032-00003-______sw.nc\n",
      "165 s1b-iw-owi-cm-20180914t111440-20180914t111617-000003-017758_sw.nc\n",
      "166 rs2--owi-cm-20220730t015650-20220730t015805-00003-______sw.nc\n",
      "167 rs2--owi-cm-20190930t083654-20190930t083917-00003-______sw.nc\n",
      "168 s1a-iw-owi-cm-20170818t222630-20170818t222745-000003-01E2E2_sw.nc\n",
      "169 s1b-ew-owi-cm-20201004t142803-20201004t143007-000003-02CF68_sw.nc\n",
      "170 rs2--owi-cm-20220130t004632-20220130t004856-00003-______sw.nc\n",
      "171 rcm2--owi-cm-20230622t221051-20230622t221140-00003-______sw.nc\n",
      "172 rcm1--owi-cm-20230908t215553-20230908t215709-00003-______sw.nc\n"
     ]
    },
    {
     "data": {
      "application/vnd.jupyter.widget-view+json": {
       "model_id": "b95494d2e6ac4235a383ee2b0e6b7a37",
       "version_major": 2,
       "version_minor": 0
      },
      "text/plain": [
       "  0%|          | 0/50 [00:00<?, ?it/s]"
      ]
     },
     "metadata": {},
     "output_type": "display_data"
    },
    {
     "name": "stdout",
     "output_type": "stream",
     "text": [
      "173 s1a-iw-owi-cm-20210628t232129-20210628t232244-000003-048C7A_sw.nc\n",
      "174 s1a-ew-owi-cm-20230125t024334-20230125t024630-000003-05A0FA_sw.nc\n",
      "175 s1a-ew-owi-cm-20211026t203818-20211026t204047-000003-04C656_sw.nc\n",
      "176 rs2--owi-cm-20180807t154512-20180807t154628-00003-______sw.nc\n"
     ]
    },
    {
     "data": {
      "application/vnd.jupyter.widget-view+json": {
       "model_id": "1cd33a047e6e482da3db56f7786618b9",
       "version_major": 2,
       "version_minor": 0
      },
      "text/plain": [
       "  0%|          | 0/50 [00:00<?, ?it/s]"
      ]
     },
     "metadata": {},
     "output_type": "display_data"
    },
    {
     "name": "stdout",
     "output_type": "stream",
     "text": [
      "177 rcm1--owi-cm-20221228t132546-20221228t132754-00003-______sw.nc\n",
      "178 s1a-ew-owi-cm-20180812t172848-20180812t173053-000003-0285E5_sw.nc\n",
      "179 s1b-iw-owi-cm-20191012t084028-20191012t084212-000003-022BD1_sw.nc\n",
      "180 rcm3--owi-cm-20230807t034044-20230807t034200-00003-______sw.nc\n"
     ]
    },
    {
     "data": {
      "application/vnd.jupyter.widget-view+json": {
       "model_id": "2ae77018301143d39ab867a13f8abad7",
       "version_major": 2,
       "version_minor": 0
      },
      "text/plain": [
       "  0%|          | 0/50 [00:00<?, ?it/s]"
      ]
     },
     "metadata": {},
     "output_type": "display_data"
    },
    {
     "name": "stdout",
     "output_type": "stream",
     "text": [
      "181 rs2--owi-cm-20220414t090200-20220414t090423-00003-______sw.nc\n",
      "182 s1b-ew-owi-cm-20181004t093407-20181004t093712-000003-018034_sw.nc\n",
      "183 s1a-ew-owi-cm-20181025t203134-20181025t203308-000003-02A8D5_sw.nc\n"
     ]
    },
    {
     "data": {
      "application/vnd.jupyter.widget-view+json": {
       "model_id": "0ceedab03dd44131ba4457c708b9cf89",
       "version_major": 2,
       "version_minor": 0
      },
      "text/plain": [
       "  0%|          | 0/50 [00:00<?, ?it/s]"
      ]
     },
     "metadata": {},
     "output_type": "display_data"
    },
    {
     "name": "stdout",
     "output_type": "stream",
     "text": [
      "184 rcm3--owi-cm-20220910t094404-20220910t094512-00003-______sw.nc\n",
      "185 s1b-iw-owi-cm-20170704t085708-20170704t085805-000003-00B237_sw.nc\n",
      "186 rcm1--owi-cm-20230817t025319-20230817t025435-00003-______sw.nc\n",
      "187 rcm3--owi-cm-20230220t011738-20230220t011826-00003-______sw.nc\n",
      "188 s1a-ew-owi-cm-20160830t094412-20160830t094716-000003-0143C4_sw.nc\n",
      "189 s1a-iw-owi-cm-20220510t002224-20220510t002319-000003-052704_sw.nc\n",
      "190 s1a-iw-owi-cm-20221014t002357-20221014t002537-000003-056EC6_sw.nc\n",
      "191 s1a-ew-owi-cm-20230908t092521-20230908t092624-000003-060BF1_sw.nc\n"
     ]
    },
    {
     "data": {
      "application/vnd.jupyter.widget-view+json": {
       "model_id": "d8f15b76159547a8b1af7c8ea330263d",
       "version_major": 2,
       "version_minor": 0
      },
      "text/plain": [
       "  0%|          | 0/50 [00:00<?, ?it/s]"
      ]
     },
     "metadata": {},
     "output_type": "display_data"
    },
    {
     "name": "stdout",
     "output_type": "stream",
     "text": [
      "192 rcm1--owi-cm-20230331t112651-20230331t112806-00003-______sw.nc\n"
     ]
    },
    {
     "data": {
      "application/vnd.jupyter.widget-view+json": {
       "model_id": "0f66b3d7b5104a65a2f7ab21ffb7569e",
       "version_major": 2,
       "version_minor": 0
      },
      "text/plain": [
       "  0%|          | 0/50 [00:00<?, ?it/s]"
      ]
     },
     "metadata": {},
     "output_type": "display_data"
    },
    {
     "name": "stdout",
     "output_type": "stream",
     "text": [
      "193 s1a-ew-owi-cm-20200725t034755-20200725t035002-000003-03E50E_sw.nc\n"
     ]
    },
    {
     "data": {
      "application/vnd.jupyter.widget-view+json": {
       "model_id": "9d72348f426b4fa9a51c47689b270314",
       "version_major": 2,
       "version_minor": 0
      },
      "text/plain": [
       "  0%|          | 0/50 [00:00<?, ?it/s]"
      ]
     },
     "metadata": {},
     "output_type": "display_data"
    },
    {
     "name": "stdout",
     "output_type": "stream",
     "text": [
      "194 rs2--owi-cm-20130701t104119-20130701t104235-00003-______sw.nc\n"
     ]
    },
    {
     "data": {
      "application/vnd.jupyter.widget-view+json": {
       "model_id": "6429c5bca2af4db387eee536b34e790f",
       "version_major": 2,
       "version_minor": 0
      },
      "text/plain": [
       "  0%|          | 0/50 [00:00<?, ?it/s]"
      ]
     },
     "metadata": {},
     "output_type": "display_data"
    },
    {
     "name": "stdout",
     "output_type": "stream",
     "text": [
      "195 rs2--owi-cm-20150903t152310-20150903t152714-00003-______sw.nc\n"
     ]
    },
    {
     "data": {
      "application/vnd.jupyter.widget-view+json": {
       "model_id": "7cdc435fac1e438087de037cf74e6367",
       "version_major": 2,
       "version_minor": 0
      },
      "text/plain": [
       "  0%|          | 0/50 [00:00<?, ?it/s]"
      ]
     },
     "metadata": {},
     "output_type": "display_data"
    },
    {
     "name": "stdout",
     "output_type": "stream",
     "text": [
      "196 rs2--owi-cm-20180803t142144-20180803t142259-00003-______sw.nc\n"
     ]
    },
    {
     "data": {
      "application/vnd.jupyter.widget-view+json": {
       "model_id": "1a0d553f29dd41c981350b49179d8d30",
       "version_major": 2,
       "version_minor": 0
      },
      "text/plain": [
       "  0%|          | 0/50 [00:00<?, ?it/s]"
      ]
     },
     "metadata": {},
     "output_type": "display_data"
    },
    {
     "name": "stdout",
     "output_type": "stream",
     "text": [
      "197 rs2--owi-cm-20200831t094052-20200831t094316-00003-______sw.nc\n",
      "198 rs2--owi-cm-20150906t185705-20150906t185821-00003-______sw.nc\n"
     ]
    },
    {
     "data": {
      "application/vnd.jupyter.widget-view+json": {
       "model_id": "c42a3876c8f8448ea3fbc82cc877a4b4",
       "version_major": 2,
       "version_minor": 0
      },
      "text/plain": [
       "  0%|          | 0/50 [00:00<?, ?it/s]"
      ]
     },
     "metadata": {},
     "output_type": "display_data"
    },
    {
     "name": "stdout",
     "output_type": "stream",
     "text": [
      "199 rcm3--owi-cm-20220904t215128-20220904t215227-00003-______sw.nc\n",
      "200 s1a-ew-owi-cm-20210307t144420-20210307t144624-000003-0456E5_sw.nc\n",
      "201 s1a-ew-owi-cm-20231011t203059-20231011t203203-000003-061CAB_sw.nc\n",
      "202 s1a-ew-owi-cm-20190301t062053-20190301t062258-000003-02EAC0_sw.nc\n",
      "203 rcm1--owi-cm-20211010t123945-20211010t124209-00003-______sw.nc\n",
      "204 s1b-iw-owi-cm-20210806t215140-20210806t215226-000003-035B26_sw.nc\n",
      "205 rcm3--owi-cm-20220922t010756-20220922t011044-00003-______sw.nc\n",
      "206 s1a-iw-owi-cm-20230908t215511-20230908t215716-000003-060C3F_sw.nc\n",
      "207 rcm3--owi-cm-20230330t222809-20230330t222926-00003-______sw.nc\n"
     ]
    },
    {
     "data": {
      "application/vnd.jupyter.widget-view+json": {
       "model_id": "38f0f3a90f88492c8b97ee4d2198dc0e",
       "version_major": 2,
       "version_minor": 0
      },
      "text/plain": [
       "  0%|          | 0/50 [00:00<?, ?it/s]"
      ]
     },
     "metadata": {},
     "output_type": "display_data"
    },
    {
     "name": "stdout",
     "output_type": "stream",
     "text": [
      "208 s1a-ew-owi-cm-20190928t084309-20190928t084413-000003-0351A9_sw.nc\n",
      "209 rs2--owi-cm-20200917t212905-20200917t213236-00003-______sw.nc\n",
      "210 rs2--owi-cm-20190801t143241-20190801t143612-00003-______sw.nc\n",
      "211 rcm2--owi-cm-20230913t203204-20230913t203320-00003-______sw.nc\n",
      "212 rcm1--owi-cm-20230907t214712-20230907t214830-00003-______sw.nc\n",
      "213 rcm3--owi-cm-20230624t215539-20230624t215655-00003-______sw.nc\n",
      "214 s1a-ew-owi-cm-20171014t074902-20171014t075202-000003-01FBF4_sw.nc\n",
      "215 s1a-iw-owi-cm-20170504t071401-20170504t071505-000003-01B35C_sw.nc\n"
     ]
    },
    {
     "data": {
      "application/vnd.jupyter.widget-view+json": {
       "model_id": "6ff498e4c1dd400da203698f9657968a",
       "version_major": 2,
       "version_minor": 0
      },
      "text/plain": [
       "  0%|          | 0/50 [00:00<?, ?it/s]"
      ]
     },
     "metadata": {},
     "output_type": "display_data"
    },
    {
     "name": "stdout",
     "output_type": "stream",
     "text": [
      "216 s1a-ew-owi-cm-20230828t223927-20230828t224031-000003-0606CB_sw.nc\n"
     ]
    },
    {
     "data": {
      "application/vnd.jupyter.widget-view+json": {
       "model_id": "0408c75cc37247059bb55e8ac4590a80",
       "version_major": 2,
       "version_minor": 0
      },
      "text/plain": [
       "  0%|          | 0/50 [00:00<?, ?it/s]"
      ]
     },
     "metadata": {},
     "output_type": "display_data"
    },
    {
     "name": "stdout",
     "output_type": "stream",
     "text": [
      "217 rs2--owi-cm-20160920t215512-20160920t215843-00003-______sw.nc\n",
      "218 rcm3--owi-cm-20200830t013418-20200830t013550-00003-______sw.nc\n",
      "219 rs2--owi-cm-20150510t215025-20150510t215141-00003-______sw.nc\n"
     ]
    },
    {
     "data": {
      "application/vnd.jupyter.widget-view+json": {
       "model_id": "83096b351574482b963f43974f05cf2f",
       "version_major": 2,
       "version_minor": 0
      },
      "text/plain": [
       "  0%|          | 0/50 [00:00<?, ?it/s]"
      ]
     },
     "metadata": {},
     "output_type": "display_data"
    },
    {
     "name": "stdout",
     "output_type": "stream",
     "text": [
      "220 s1a-ew-owi-cm-20160904t092033-20160904t092333-000003-014632_sw.nc\n",
      "221 rs2--owi-cm-20140717t102721-20140717t102909-00003-______sw.nc\n"
     ]
    },
    {
     "data": {
      "application/vnd.jupyter.widget-view+json": {
       "model_id": "af3992cbdb9f4a9ba72b2553c2b76c12",
       "version_major": 2,
       "version_minor": 0
      },
      "text/plain": [
       "  0%|          | 0/50 [00:00<?, ?it/s]"
      ]
     },
     "metadata": {},
     "output_type": "display_data"
    },
    {
     "name": "stdout",
     "output_type": "stream",
     "text": [
      "222 rs2--owi-cm-20220918t092524-20220918t092747-00003-______sw.nc\n",
      "223 rcm1--owi-cm-20230528t094334-20230528t094451-00003-______sw.nc\n"
     ]
    },
    {
     "data": {
      "application/vnd.jupyter.widget-view+json": {
       "model_id": "cc9569e026954304bbbfd170615cd6d1",
       "version_major": 2,
       "version_minor": 0
      },
      "text/plain": [
       "  0%|          | 0/50 [00:00<?, ?it/s]"
      ]
     },
     "metadata": {},
     "output_type": "display_data"
    },
    {
     "name": "stdout",
     "output_type": "stream",
     "text": [
      "224 s1a-iw-owi-cm-20210418t212223-20210418t212342-000003-046C42_sw.nc\n",
      "225 s1a-ew-owi-cm-20180908t161305-20180908t161509-000003-029283_sw.nc\n",
      "226 s1b-ew-owi-cm-20210829t125731-20210829t125905-000003-036572_sw.nc\n",
      "227 rcm1--owi-cm-20230911t204541-20230911t204657-00003-______sw.nc\n"
     ]
    },
    {
     "data": {
      "application/vnd.jupyter.widget-view+json": {
       "model_id": "6bb0a37ea196468f8db81d97b88bf621",
       "version_major": 2,
       "version_minor": 0
      },
      "text/plain": [
       "  0%|          | 0/50 [00:00<?, ?it/s]"
      ]
     },
     "metadata": {},
     "output_type": "display_data"
    },
    {
     "name": "stdout",
     "output_type": "stream",
     "text": [
      "228 rs2--owi-cm-20171021t092057-20171021t092213-00003-______sw.nc\n",
      "229 s1a-ew-owi-cm-20160827t205158-20160827t205454-000003-014285_sw.nc\n"
     ]
    },
    {
     "data": {
      "application/vnd.jupyter.widget-view+json": {
       "model_id": "35fd477818ad4022a8cf040adb9b32f5",
       "version_major": 2,
       "version_minor": 0
      },
      "text/plain": [
       "  0%|          | 0/50 [00:00<?, ?it/s]"
      ]
     },
     "metadata": {},
     "output_type": "display_data"
    },
    {
     "name": "stdout",
     "output_type": "stream",
     "text": [
      "230 s1a-ew-owi-cm-20160923t222132-20160923t222431-000003-014F7C_sw.nc\n",
      "231 s1a-ew-owi-cm-20160920t092323-20160920t092627-000003-014DC9_sw.nc\n",
      "232 rcm1--owi-cm-20220926t112558-20220926t112806-00003-______sw.nc\n"
     ]
    },
    {
     "data": {
      "application/vnd.jupyter.widget-view+json": {
       "model_id": "23472ebe1776430ca9cb0784bcf86d18",
       "version_major": 2,
       "version_minor": 0
      },
      "text/plain": [
       "  0%|          | 0/50 [00:00<?, ?it/s]"
      ]
     },
     "metadata": {},
     "output_type": "display_data"
    },
    {
     "name": "stdout",
     "output_type": "stream",
     "text": [
      "233 rcm1--owi-cm-20230909t081338-20230909t081454-00003-______sw.nc\n",
      "234 s1a-ew-owi-cm-20180203t130526-20180203t130830-000003-022F35_sw.nc\n",
      "235 rs2--owi-cm-20191114t201229-20191114t201344-00003-______sw.nc\n"
     ]
    },
    {
     "data": {
      "application/vnd.jupyter.widget-view+json": {
       "model_id": "910fe1aae77b49959ff57ca2f984e7f8",
       "version_major": 2,
       "version_minor": 0
      },
      "text/plain": [
       "  0%|          | 0/50 [00:00<?, ?it/s]"
      ]
     },
     "metadata": {},
     "output_type": "display_data"
    },
    {
     "name": "stdout",
     "output_type": "stream",
     "text": [
      "236 rcm1--owi-cm-20210808t082812-20210808t082944-00003-______sw.nc\n",
      "237 rcm1--owi-cm-20230913t084207-20230913t084324-00003-______sw.nc\n",
      "238 rcm2--owi-cm-20230212t231540-20230212t231720-00003-______sw.nc\n",
      "239 rcm2--owi-cm-20230308t155113-20230308t155229-00003-______sw.nc\n"
     ]
    },
    {
     "data": {
      "application/vnd.jupyter.widget-view+json": {
       "model_id": "5470131166a34ed1838c9b363b1a009d",
       "version_major": 2,
       "version_minor": 0
      },
      "text/plain": [
       "  0%|          | 0/50 [00:00<?, ?it/s]"
      ]
     },
     "metadata": {},
     "output_type": "display_data"
    },
    {
     "name": "stdout",
     "output_type": "stream",
     "text": [
      "240 s1a-ew-owi-cm-20160904t223153-20160904t223504-000003-01467A_sw.nc\n",
      "241 s1a-ew-owi-cm-20190731t034721-20190731t034910-000003-033442_sw.nc\n"
     ]
    },
    {
     "data": {
      "application/vnd.jupyter.widget-view+json": {
       "model_id": "6af2fc7e0f1f4f23a6244124bbb6e2d3",
       "version_major": 2,
       "version_minor": 0
      },
      "text/plain": [
       "  0%|          | 0/50 [00:00<?, ?it/s]"
      ]
     },
     "metadata": {},
     "output_type": "display_data"
    },
    {
     "name": "stdout",
     "output_type": "stream",
     "text": [
      "242 s1a-ew-owi-cm-20181010t114907-20181010t115212-000003-02A192_sw.nc\n"
     ]
    },
    {
     "data": {
      "application/vnd.jupyter.widget-view+json": {
       "model_id": "c1e4a526d6d247fb944a025bbeeb8ccb",
       "version_major": 2,
       "version_minor": 0
      },
      "text/plain": [
       "  0%|          | 0/50 [00:00<?, ?it/s]"
      ]
     },
     "metadata": {},
     "output_type": "display_data"
    },
    {
     "name": "stdout",
     "output_type": "stream",
     "text": [
      "243 s1a-iw-owi-cm-20220907t133107-20220907t133151-000003-055CF5_sw.nc\n",
      "244 s1a-iw-owi-cm-20220916t221920-20220916t222035-000003-056188_sw.nc\n",
      "245 s1b-ew-owi-cm-20200728t050249-20200728t050456-000003-02B05B_sw.nc\n",
      "246 s1a-ew-owi-cm-20181003t134006-20181003t134210-000003-029E52_sw.nc\n"
     ]
    },
    {
     "data": {
      "application/vnd.jupyter.widget-view+json": {
       "model_id": "7b3c2ef7c4834ee2a05835c2d98accf6",
       "version_major": 2,
       "version_minor": 0
      },
      "text/plain": [
       "  0%|          | 0/50 [00:00<?, ?it/s]"
      ]
     },
     "metadata": {},
     "output_type": "display_data"
    },
    {
     "name": "stdout",
     "output_type": "stream",
     "text": [
      "247 s1b-ew-owi-cm-20190929t210610-20190929t210814-000003-02261A_sw.nc\n",
      "248 rs2--owi-cm-20220326t004133-20220326t004249-00003-______sw.nc\n",
      "249 s1b-ew-owi-cm-20190224t085010-20190224t085218-000003-01C31C_sw.nc\n",
      "250 rcm2--owi-cm-20201009t205425-20201009t205537-00003-______sw.nc\n",
      "251 s1a-ew-owi-cm-20200919t081237-20200919t081514-000003-040117_sw.nc\n",
      "252 rs2--owi-cm-20170804t211741-20170804t211857-00003-______sw.nc\n",
      "253 s1a-ew-owi-cm-20230906t090446-20230906t090549-000003-060AF0_sw.nc\n",
      "254 rcm1--owi-cm-20230224t025500-20230224t025617-00003-______sw.nc\n",
      "255 s1b-iw-owi-cm-20201020t095807-20201020t095922-000003-02D69A_sw.nc\n",
      "256 s1b-ew-owi-cm-20190218t184446-20190218t184711-000003-01C08C_sw.nc\n",
      "257 rs2--owi-cm-20160925t092440-20160925t092703-00003-______sw.nc\n",
      "258 rs2--owi-cm-20211026t204501-20211026t204724-00003-______sw.nc\n",
      "259 rs2--owi-cm-20220720t014938-20220720t015054-00003-______sw.nc\n",
      "260 rcm1--owi-cm-20230330t111910-20230330t112038-00003-______sw.nc\n"
     ]
    },
    {
     "data": {
      "application/vnd.jupyter.widget-view+json": {
       "model_id": "c8c2d63b1534460796c06171ced8dd7a",
       "version_major": 2,
       "version_minor": 0
      },
      "text/plain": [
       "  0%|          | 0/50 [00:00<?, ?it/s]"
      ]
     },
     "metadata": {},
     "output_type": "display_data"
    },
    {
     "name": "stdout",
     "output_type": "stream",
     "text": [
      "261 s1a-iw-owi-cm-20210823t161535-20210823t161654-000003-04A612_sw.nc\n",
      "262 rs2--owi-cm-20180829t150350-20180829t150506-00003-______sw.nc\n",
      "263 rs2--owi-cm-20220705t004424-20220705t004648-00003-______sw.nc\n",
      "264 rs2--owi-cm-20210517t010128-20210517t010351-00003-______sw.nc\n"
     ]
    },
    {
     "data": {
      "application/vnd.jupyter.widget-view+json": {
       "model_id": "e8628d4147a9428698fdbb7da6e122cf",
       "version_major": 2,
       "version_minor": 0
      },
      "text/plain": [
       "  0%|          | 0/50 [00:00<?, ?it/s]"
      ]
     },
     "metadata": {},
     "output_type": "display_data"
    },
    {
     "name": "stdout",
     "output_type": "stream",
     "text": [
      "265 s1a-iw-owi-cm-20201103t234046-20201103t234226-000003-04184A_sw.nc\n",
      "266 rs2--owi-cm-20220904t093255-20220904t093518-00003-______sw.nc\n",
      "267 s1a-ew-owi-cm-20160830t144512-20160830t144658-000003-0143DB_sw.nc\n",
      "268 s1a-ew-owi-cm-20200922t101602-20200922t101906-000003-0402C5_sw.nc\n",
      "269 rs2--owi-cm-20150906t045900-20150906t050016-00003-______sw.nc\n",
      "270 s1a-ew-owi-cm-20180905t034104-20180905t034309-000003-0290D7_sw.nc\n",
      "271 s1a-ew-owi-cm-20210924t210331-20210924t210556-000003-04B621_sw.nc\n"
     ]
    },
    {
     "data": {
      "application/vnd.jupyter.widget-view+json": {
       "model_id": "3c7a9ac48c434ddbaaaf16ce492e4a52",
       "version_major": 2,
       "version_minor": 0
      },
      "text/plain": [
       "  0%|          | 0/50 [00:00<?, ?it/s]"
      ]
     },
     "metadata": {},
     "output_type": "display_data"
    },
    {
     "name": "stdout",
     "output_type": "stream",
     "text": [
      "272 rs2--owi-cm-20180117t144402-20180117t144733-00003-______sw.nc\n",
      "273 rcm2--owi-cm-20230213t232405-20230213t232520-00003-______sw.nc\n"
     ]
    },
    {
     "data": {
      "application/vnd.jupyter.widget-view+json": {
       "model_id": "09d5abb72782467c8f48cdc09cf50e51",
       "version_major": 2,
       "version_minor": 0
      },
      "text/plain": [
       "  0%|          | 0/50 [00:00<?, ?it/s]"
      ]
     },
     "metadata": {},
     "output_type": "display_data"
    },
    {
     "name": "stdout",
     "output_type": "stream",
     "text": [
      "274 rcm2--owi-cm-20230804t140912-20230804t141028-00003-______sw.nc\n",
      "275 s1a-ew-owi-cm-20230819t013753-20230819t013856-000003-0601D3_sw.nc\n"
     ]
    },
    {
     "data": {
      "application/vnd.jupyter.widget-view+json": {
       "model_id": "dca856331e10469ea4fdca0ccb1ebe0a",
       "version_major": 2,
       "version_minor": 0
      },
      "text/plain": [
       "  0%|          | 0/50 [00:00<?, ?it/s]"
      ]
     },
     "metadata": {},
     "output_type": "display_data"
    },
    {
     "name": "stdout",
     "output_type": "stream",
     "text": [
      "276 s1a-ew-owi-cm-20201027t103902-20201027t104036-000003-04147D_sw.nc\n"
     ]
    },
    {
     "data": {
      "application/vnd.jupyter.widget-view+json": {
       "model_id": "89f6098caf7446fc8642d8068e043d32",
       "version_major": 2,
       "version_minor": 0
      },
      "text/plain": [
       "  0%|          | 0/50 [00:00<?, ?it/s]"
      ]
     },
     "metadata": {},
     "output_type": "display_data"
    },
    {
     "name": "stdout",
     "output_type": "stream",
     "text": [
      "277 s1a-ew-owi-cm-20230815t085014-20230815t085117-000003-05FFFE_sw.nc\n",
      "278 rcm1--owi-cm-20210907t091103-20210907t091211-00003-______sw.nc\n",
      "279 s1a-iw-owi-cm-20200821t221932-20200821t222047-000003-03F28D_sw.nc\n",
      "280 s1a-ew-owi-cm-20180808t041303-20180808t041507-000003-0283BF_sw.nc\n"
     ]
    },
    {
     "data": {
      "application/vnd.jupyter.widget-view+json": {
       "model_id": "17456e0395214d5eb3eccf652bf16c37",
       "version_major": 2,
       "version_minor": 0
      },
      "text/plain": [
       "  0%|          | 0/50 [00:00<?, ?it/s]"
      ]
     },
     "metadata": {},
     "output_type": "display_data"
    },
    {
     "name": "stdout",
     "output_type": "stream",
     "text": [
      "281 s1b-ew-owi-cm-20190331t004928-20190331t005133-000003-01D3A6_sw.nc\n",
      "282 s1a-ew-owi-cm-20231010t131515-20231010t131619-000003-061BFB_sw.nc\n",
      "283 s1a-iw-owi-cm-20160901t234439-20160901t234559-000003-01450E_sw.nc\n",
      "284 s1a-iw-owi-cm-20190831t105329-20190831t105448-000003-03439C_sw.nc\n",
      "285 s1a-iw-owi-cm-20230614t012641-20230614t012816-000003-05E3BE_sw.nc\n",
      "286 s1a-iw-owi-cm-20180316t204737-20180316t204852-000003-024251_sw.nc\n",
      "287 s1a-iw-owi-cm-20210721t213527-20210721t213718-000003-049689_sw.nc\n",
      "288 s1a-ew-owi-cm-20190706t030714-20190706t030900-000003-03292B_sw.nc\n",
      "289 s1a-iw-owi-cm-20231022t131347-20231022t131505-000003-0621EC_sw.nc\n",
      "290 rcm1--owi-cm-20230820t133314-20230820t133432-00003-______sw.nc\n",
      "291 s1a-ew-owi-cm-20190904t133932-20190904t134121-000003-0345B8_sw.nc\n"
     ]
    },
    {
     "data": {
      "application/vnd.jupyter.widget-view+json": {
       "model_id": "4b377b9ab5dd46249f56ba966c4d0427",
       "version_major": 2,
       "version_minor": 0
      },
      "text/plain": [
       "  0%|          | 0/50 [00:00<?, ?it/s]"
      ]
     },
     "metadata": {},
     "output_type": "display_data"
    },
    {
     "name": "stdout",
     "output_type": "stream",
     "text": [
      "292 s1a-ew-owi-cm-20181009t142906-20181009t143110-000003-02A122_sw.nc\n",
      "293 s1b-ew-owi-cm-20190309t141317-20190309t141622-000003-01C976_sw.nc\n",
      "294 rs2--owi-cm-20160712t131319-20160712t131723-00003-______sw.nc\n",
      "295 s1b-ew-owi-cm-20180901t032311-20180901t032613-000003-01715C_sw.nc\n"
     ]
    },
    {
     "data": {
      "application/vnd.jupyter.widget-view+json": {
       "model_id": "12b1e45bee3f4822a9f23a637bba8f9b",
       "version_major": 2,
       "version_minor": 0
      },
      "text/plain": [
       "  0%|          | 0/50 [00:00<?, ?it/s]"
      ]
     },
     "metadata": {},
     "output_type": "display_data"
    },
    {
     "name": "stdout",
     "output_type": "stream",
     "text": [
      "296 rcm3--owi-cm-20221231t005630-20221231t005810-00003-______sw.nc\n",
      "297 s1b-iw-owi-cm-20170918t082654-20170918t082747-000003-00D23F_sw.nc\n",
      "298 s1a-iw-owi-cm-20170921t224421-20170921t224626-000003-01F204_sw.nc\n"
     ]
    },
    {
     "data": {
      "application/vnd.jupyter.widget-view+json": {
       "model_id": "3e26a896043840fe86d923a5da1caa14",
       "version_major": 2,
       "version_minor": 0
      },
      "text/plain": [
       "  0%|          | 0/50 [00:00<?, ?it/s]"
      ]
     },
     "metadata": {},
     "output_type": "display_data"
    },
    {
     "name": "stdout",
     "output_type": "stream",
     "text": [
      "299 s1b-ew-owi-cm-20190321t201403-20190321t201625-000003-01CF41_sw.nc\n"
     ]
    },
    {
     "data": {
      "application/vnd.jupyter.widget-view+json": {
       "model_id": "7baa471e9297480681cc717fa6bdbd25",
       "version_major": 2,
       "version_minor": 0
      },
      "text/plain": [
       "  0%|          | 0/50 [00:00<?, ?it/s]"
      ]
     },
     "metadata": {},
     "output_type": "display_data"
    },
    {
     "name": "stdout",
     "output_type": "stream",
     "text": [
      "300 s1a-ew-owi-cm-20220201t143621-20220201t143926-000003-04F6DD_sw.nc\n",
      "301 rcm2--owi-cm-20230302t065950-20230302t070054-00003-______sw.nc\n",
      "302 rs2--owi-cm-20210913t213638-20210913t213901-00003-______sw.nc\n",
      "303 rs2--owi-cm-20180805t150354-20180805t150510-00003-______sw.nc\n"
     ]
    },
    {
     "data": {
      "application/vnd.jupyter.widget-view+json": {
       "model_id": "3aff056bff1b433f998af4c9e630e3f4",
       "version_major": 2,
       "version_minor": 0
      },
      "text/plain": [
       "  0%|          | 0/50 [00:00<?, ?it/s]"
      ]
     },
     "metadata": {},
     "output_type": "display_data"
    },
    {
     "name": "stdout",
     "output_type": "stream",
     "text": [
      "304 s1b-ew-owi-cm-20190303t133123-20190303t133257-000003-01C6A0_sw.nc\n",
      "305 s1b-ew-owi-cm-20210929t210033-20210929t210307-000003-03737C_sw.nc\n",
      "306 rs2--owi-cm-20150827t170957-20150827t171231-00003-______sw.nc\n",
      "307 s1b-ew-owi-cm-20180911t204751-20180911t204937-000003-017624_sw.nc\n"
     ]
    },
    {
     "data": {
      "application/vnd.jupyter.widget-view+json": {
       "model_id": "839b845be5544220aae0d133552933d8",
       "version_major": 2,
       "version_minor": 0
      },
      "text/plain": [
       "  0%|          | 0/50 [00:00<?, ?it/s]"
      ]
     },
     "metadata": {},
     "output_type": "display_data"
    },
    {
     "name": "stdout",
     "output_type": "stream",
     "text": [
      "308 s1a-iw-owi-cm-20230116t220908-20230116t221023-000003-059CF8_sw.nc\n",
      "309 rcm3--owi-cm-20230725t215440-20230725t215539-00003-______sw.nc\n",
      "310 rs2--owi-cm-20210718t142039-20210718t142154-00003-______sw.nc\n"
     ]
    },
    {
     "data": {
      "application/vnd.jupyter.widget-view+json": {
       "model_id": "227304945482496fb3c9d21ffe7bf631",
       "version_major": 2,
       "version_minor": 0
      },
      "text/plain": [
       "  0%|          | 0/50 [00:00<?, ?it/s]"
      ]
     },
     "metadata": {},
     "output_type": "display_data"
    },
    {
     "name": "stdout",
     "output_type": "stream",
     "text": [
      "311 s1b-ew-owi-cm-20200728t171208-20200728t171335-000003-02B09D_sw.nc\n",
      "312 s1a-iw-owi-cm-20170910t232726-20170910t232906-000003-01ED26_sw.nc\n",
      "313 rcm3--owi-cm-20230216t004822-20230216t004938-00003-______sw.nc\n",
      "314 rcm3--owi-cm-20230228t004811-20230228t004929-00003-______sw.nc\n",
      "315 s1a-iw-owi-cm-20201008t091245-20201008t091425-000003-040AD1_sw.nc\n",
      "316 rcm1--owi-cm-20210727t082815-20210727t082923-00003-______sw.nc\n",
      "317 s1a-ew-owi-cm-20230723t213803-20230723t213906-000003-05F582_sw.nc\n",
      "318 rs2--owi-cm-20180913t105836-20180913t110059-00003-______sw.nc\n",
      "319 rs2--owi-cm-20141105t203222-20141105t203338-00003-______sw.nc\n",
      "320 s1b-ew-owi-cm-20200820t131330-20200820t131534-000003-02BAD1_sw.nc\n",
      "321 rs2--owi-cm-20220618t130803-20220618t130918-00003-______sw.nc\n",
      "322 rs2--owi-cm-20150601t015945-20150601t020101-00003-______sw.nc\n",
      "323 s1a-iw-owi-cm-20201005t233309-20201005t233449-000003-0409B0_sw.nc\n",
      "324 rs2--owi-cm-20161008t102403-20161008t102520-00003-______sw.nc\n",
      "325 rcm1--owi-cm-20230814t204625-20230814t204715-00003-______sw.nc\n",
      "326 rcm2--owi-cm-20230306t055320-20230306t055504-00003-______sw.nc\n",
      "327 rcm1--owi-cm-20230211t112711-20230211t112851-00003-______sw.nc\n",
      "328 s1a-iw-owi-cm-20191026t080555-20191026t080712-000003-035FAD_sw.nc\n",
      "329 s1a-iw-owi-cm-20190809t100111-20190809t100316-000003-033873_sw.nc\n",
      "330 s1a-ew-owi-cm-20210118t144525-20210118t144726-000003-043E8B_sw.nc\n",
      "331 rs2--owi-cm-20210828t124315-20210828t124431-00003-______sw.nc\n",
      "332 s1b-iw-owi-cm-20171028t092802-20171028t092921-000003-00E2ED_sw.nc\n"
     ]
    },
    {
     "data": {
      "application/vnd.jupyter.widget-view+json": {
       "model_id": "ee4a98abd7314b359be3dbcf008aacea",
       "version_major": 2,
       "version_minor": 0
      },
      "text/plain": [
       "  0%|          | 0/50 [00:00<?, ?it/s]"
      ]
     },
     "metadata": {},
     "output_type": "display_data"
    },
    {
     "name": "stdout",
     "output_type": "stream",
     "text": [
      "333 s1a-ew-owi-cm-20181007t023405-20181007t023610-000003-029FF5_sw.nc\n"
     ]
    },
    {
     "data": {
      "application/vnd.jupyter.widget-view+json": {
       "model_id": "7c99aeb4074948c8aa411bfafb02cbba",
       "version_major": 2,
       "version_minor": 0
      },
      "text/plain": [
       "  0%|          | 0/50 [00:00<?, ?it/s]"
      ]
     },
     "metadata": {},
     "output_type": "display_data"
    },
    {
     "name": "stdout",
     "output_type": "stream",
     "text": [
      "334 s1b-ew-owi-cm-20200918t081938-20200918t082143-000003-02C801_sw.nc\n",
      "335 rs2--owi-cm-20170922t104537-20170922t104653-00003-______sw.nc\n",
      "336 s1b-ew-owi-cm-20180727t082106-20180727t082414-000003-016145_sw.nc\n"
     ]
    },
    {
     "data": {
      "application/vnd.jupyter.widget-view+json": {
       "model_id": "c468eab5735540a3afd1f89a8eddfce6",
       "version_major": 2,
       "version_minor": 0
      },
      "text/plain": [
       "  0%|          | 0/50 [00:00<?, ?it/s]"
      ]
     },
     "metadata": {},
     "output_type": "display_data"
    },
    {
     "name": "stdout",
     "output_type": "stream",
     "text": [
      "337 s1a-iw-owi-cm-20221109t231142-20221109t231322-000003-057B61_sw.nc\n",
      "338 s1a-ew-owi-cm-20230223t025236-20230223t025434-000003-05AF37_sw.nc\n",
      "339 s1a-ew-owi-cm-20190207t020834-20190207t021051-000003-02DF33_sw.nc\n",
      "340 s1a-iw-owi-cm-20200818t102517-20200818t102611-000003-03F0BB_sw.nc\n",
      "341 rcm3--owi-cm-20230517t132956-20230517t133052-00003-______sw.nc\n"
     ]
    },
    {
     "data": {
      "application/vnd.jupyter.widget-view+json": {
       "model_id": "4e6bf26b72bf42299d6b8019f069b62c",
       "version_major": 2,
       "version_minor": 0
      },
      "text/plain": [
       "  0%|          | 0/50 [00:00<?, ?it/s]"
      ]
     },
     "metadata": {},
     "output_type": "display_data"
    },
    {
     "name": "stdout",
     "output_type": "stream",
     "text": [
      "342 rs2--owi-cm-20130929t224120-20130929t224235-00003-______sw.nc\n",
      "343 s1a-ew-owi-cm-20190329t140231-20190329t140436-000003-02F9EC_sw.nc\n"
     ]
    },
    {
     "data": {
      "application/vnd.jupyter.widget-view+json": {
       "model_id": "955d7331fb674b099d090f95f1202f94",
       "version_major": 2,
       "version_minor": 0
      },
      "text/plain": [
       "  0%|          | 0/50 [00:00<?, ?it/s]"
      ]
     },
     "metadata": {},
     "output_type": "display_data"
    },
    {
     "name": "stdout",
     "output_type": "stream",
     "text": [
      "344 rs2--owi-cm-20170730t202309-20170730t202548-00003-______sw.nc\n",
      "345 s1a-iw-owi-cm-20171017t062901-20171017t063016-000003-01FD61_sw.nc\n",
      "346 s1b-ew-owi-cm-20210926t090903-20210926t091107-000003-0371EC_sw.nc\n"
     ]
    },
    {
     "data": {
      "application/vnd.jupyter.widget-view+json": {
       "model_id": "3e112571523244408e15ceb666248c43",
       "version_major": 2,
       "version_minor": 0
      },
      "text/plain": [
       "  0%|          | 0/50 [00:00<?, ?it/s]"
      ]
     },
     "metadata": {},
     "output_type": "display_data"
    },
    {
     "name": "stdout",
     "output_type": "stream",
     "text": [
      "347 rs2--owi-cm-20150515t083749-20150515t083905-00003-______sw.nc\n"
     ]
    },
    {
     "data": {
      "application/vnd.jupyter.widget-view+json": {
       "model_id": "3ea75529779f406f8fc42d313f06950d",
       "version_major": 2,
       "version_minor": 0
      },
      "text/plain": [
       "  0%|          | 0/50 [00:00<?, ?it/s]"
      ]
     },
     "metadata": {},
     "output_type": "display_data"
    },
    {
     "name": "stdout",
     "output_type": "stream",
     "text": [
      "348 s1b-ew-owi-cm-20181027t210308-20181027t210442-000003-018AC3_sw.nc\n",
      "349 rs2--owi-cm-20201001t133839-20201001t133955-00003-______sw.nc\n",
      "350 rcm1--owi-cm-20221224t125515-20221224t125759-00003-______sw.nc\n",
      "351 s1a-iw-owi-cm-20200803t100117-20200803t100257-000003-03E924_sw.nc\n",
      "352 rcm1--owi-cm-20230910t203705-20230910t203821-00003-______sw.nc\n",
      "353 s1a-iw-owi-cm-20200920t000909-20200920t001024-000003-040179_sw.nc\n",
      "354 s1a-ew-owi-cm-20220222t020130-20220222t020435-000003-050156_sw.nc\n",
      "355 s1a-iw-owi-cm-20200921t075828-20200921t075920-000003-04022D_sw.nc\n",
      "356 rs2--owi-cm-20140907t014846-20140907t015037-00003-______sw.nc\n"
     ]
    },
    {
     "data": {
      "application/vnd.jupyter.widget-view+json": {
       "model_id": "6f175f7e88cf4e96b45b42a1690f4761",
       "version_major": 2,
       "version_minor": 0
      },
      "text/plain": [
       "  0%|          | 0/50 [00:00<?, ?it/s]"
      ]
     },
     "metadata": {},
     "output_type": "display_data"
    },
    {
     "name": "stdout",
     "output_type": "stream",
     "text": [
      "357 s1b-iw-owi-cm-20190314t160552-20190314t160801-000003-01CBEE_sw.nc\n"
     ]
    },
    {
     "data": {
      "application/vnd.jupyter.widget-view+json": {
       "model_id": "e2ebc262bba84315ad073a068814dc15",
       "version_major": 2,
       "version_minor": 0
      },
      "text/plain": [
       "  0%|          | 0/50 [00:00<?, ?it/s]"
      ]
     },
     "metadata": {},
     "output_type": "display_data"
    },
    {
     "name": "stdout",
     "output_type": "stream",
     "text": [
      "358 rs2--owi-cm-20220731t135319-20220731t135632-00003-______sw.nc\n"
     ]
    },
    {
     "data": {
      "application/vnd.jupyter.widget-view+json": {
       "model_id": "200d797ab840460ea12997b2ec81988e",
       "version_major": 2,
       "version_minor": 0
      },
      "text/plain": [
       "  0%|          | 0/50 [00:00<?, ?it/s]"
      ]
     },
     "metadata": {},
     "output_type": "display_data"
    },
    {
     "name": "stdout",
     "output_type": "stream",
     "text": [
      "359 rcm1--owi-cm-20210929t204741-20210929t204917-00003-______sw.nc\n"
     ]
    },
    {
     "data": {
      "application/vnd.jupyter.widget-view+json": {
       "model_id": "47d10490ed84468f83858ebda812f588",
       "version_major": 2,
       "version_minor": 0
      },
      "text/plain": [
       "  0%|          | 0/50 [00:00<?, ?it/s]"
      ]
     },
     "metadata": {},
     "output_type": "display_data"
    },
    {
     "name": "stdout",
     "output_type": "stream",
     "text": [
      "Value error, file skipped.\n",
      "360 s1b-ew-owi-cm-20190319t234935-20190319t235109-000003-01CE62_sw.nc\n",
      "361 s1a-iw-owi-cm-20210306t072758-20210306t072942-000003-04562A_sw.nc\n",
      "362 rs2--owi-cm-20150805t211206-20150805t211322-00003-______sw.nc\n"
     ]
    },
    {
     "data": {
      "application/vnd.jupyter.widget-view+json": {
       "model_id": "8fec3bde6c40422ca0514312fd929030",
       "version_major": 2,
       "version_minor": 0
      },
      "text/plain": [
       "  0%|          | 0/50 [00:00<?, ?it/s]"
      ]
     },
     "metadata": {},
     "output_type": "display_data"
    },
    {
     "name": "stdout",
     "output_type": "stream",
     "text": [
      "363 rs2--owi-cm-20180901t151418-20180901t151534-00003-______sw.nc\n",
      "364 s1b-iw-owi-cm-20180703t014325-20180703t014404-000003-015679_sw.nc\n",
      "365 rcm1--owi-cm-20230127t155043-20230127t155158-00003-______sw.nc\n",
      "366 rs2--owi-cm-20200921t100325-20200921t100548-00003-______sw.nc\n",
      "367 s1a-iw-owi-cm-20190827t221901-20190827t222016-000003-0341DA_sw.nc\n",
      "368 s1b-ew-owi-cm-20180829t151005-20180829t151216-000003-01703D_sw.nc\n",
      "369 rcm2--owi-cm-20210821t093301-20210821t093805-00003-______sw.nc\n",
      "370 rcm2--owi-cm-20230521t081240-20230521t081356-00003-______sw.nc\n",
      "371 rcm2--owi-cm-20230513t120024-20230513t120110-00003-______sw.nc\n"
     ]
    },
    {
     "data": {
      "application/vnd.jupyter.widget-view+json": {
       "model_id": "afb815da45364bdb8b7fca5927df6fb5",
       "version_major": 2,
       "version_minor": 0
      },
      "text/plain": [
       "  0%|          | 0/50 [00:00<?, ?it/s]"
      ]
     },
     "metadata": {},
     "output_type": "display_data"
    },
    {
     "name": "stdout",
     "output_type": "stream",
     "text": [
      "372 s1b-iw-owi-cm-20210220t030122-20210220t030237-000003-030FCF_sw.nc\n",
      "373 rs2--owi-cm-20170730t080121-20170730t080401-00003-______sw.nc\n"
     ]
    },
    {
     "data": {
      "application/vnd.jupyter.widget-view+json": {
       "model_id": "e22e4d01ec9d446abf438db65caca0c1",
       "version_major": 2,
       "version_minor": 0
      },
      "text/plain": [
       "  0%|          | 0/50 [00:00<?, ?it/s]"
      ]
     },
     "metadata": {},
     "output_type": "display_data"
    },
    {
     "name": "stdout",
     "output_type": "stream",
     "text": [
      "374 s1a-ew-owi-cm-20180929t020104-20180929t020308-000003-029C16_sw.nc\n"
     ]
    },
    {
     "data": {
      "application/vnd.jupyter.widget-view+json": {
       "model_id": "43d88f08aaa44a0f97b4564c6d03cbdd",
       "version_major": 2,
       "version_minor": 0
      },
      "text/plain": [
       "  0%|          | 0/50 [00:00<?, ?it/s]"
      ]
     },
     "metadata": {},
     "output_type": "display_data"
    },
    {
     "name": "stdout",
     "output_type": "stream",
     "text": [
      "375 s1a-iw-owi-cm-20230830t222518-20230830t222612-000003-0607CE_sw.nc\n",
      "376 s1b-iw-owi-cm-20180929t092736-20180929t092916-000003-017E09_sw.nc\n",
      "377 rcm2--owi-cm-20230307t154258-20230307t154414-00003-______sw.nc\n"
     ]
    },
    {
     "data": {
      "application/vnd.jupyter.widget-view+json": {
       "model_id": "fc71652548124e54ab3a2600971c6f2c",
       "version_major": 2,
       "version_minor": 0
      },
      "text/plain": [
       "  0%|          | 0/50 [00:00<?, ?it/s]"
      ]
     },
     "metadata": {},
     "output_type": "display_data"
    },
    {
     "name": "stdout",
     "output_type": "stream",
     "text": [
      "378 rs2--owi-cm-20160919t212027-20160919t212358-00003-______sw.nc\n",
      "379 s1a-ew-owi-cm-20190214t182852-20190214t182957-000003-02E348_sw.nc\n",
      "380 s1b-ew-owi-cm-20180930t015309-20180930t015513-000003-017E57_sw.nc\n"
     ]
    },
    {
     "data": {
      "application/vnd.jupyter.widget-view+json": {
       "model_id": "e852e0883d21483e93ed910571423150",
       "version_major": 2,
       "version_minor": 0
      },
      "text/plain": [
       "  0%|          | 0/50 [00:00<?, ?it/s]"
      ]
     },
     "metadata": {},
     "output_type": "display_data"
    },
    {
     "name": "stdout",
     "output_type": "stream",
     "text": [
      "381 rcm2--owi-cm-20220919t011743-20220919t011911-00003-______sw.nc\n",
      "382 s1b-iw-owi-cm-20190904t110754-20190904t110934-000003-021A9D_sw.nc\n",
      "383 s1b-ew-owi-cm-20200901t212522-20200901t212726-000003-02C081_sw.nc\n",
      "384 rs2--owi-cm-20210907t092755-20210907t093019-00003-______sw.nc\n"
     ]
    },
    {
     "data": {
      "application/vnd.jupyter.widget-view+json": {
       "model_id": "80a719e9eb1e44c1857a7374411e0fdc",
       "version_major": 2,
       "version_minor": 0
      },
      "text/plain": [
       "  0%|          | 0/50 [00:00<?, ?it/s]"
      ]
     },
     "metadata": {},
     "output_type": "display_data"
    },
    {
     "name": "stdout",
     "output_type": "stream",
     "text": [
      "385 rs2--owi-cm-20160829t022730-20160829t023009-00003-______sw.nc\n"
     ]
    },
    {
     "data": {
      "application/vnd.jupyter.widget-view+json": {
       "model_id": "67eeab121a194e878531f78f9f322ac2",
       "version_major": 2,
       "version_minor": 0
      },
      "text/plain": [
       "  0%|          | 0/50 [00:00<?, ?it/s]"
      ]
     },
     "metadata": {},
     "output_type": "display_data"
    },
    {
     "name": "stdout",
     "output_type": "stream",
     "text": [
      "386 s1b-ew-owi-cm-20181013t093946-20181013t094154-000003-01843A_sw.nc\n",
      "387 s1a-ew-owi-cm-20220707t013653-20220707t013827-000003-054032_sw.nc\n",
      "388 s1a-ew-owi-cm-20180809t013708-20180809t013908-000003-02842F_sw.nc\n",
      "389 s1a-ew-owi-cm-20220213t143725-20220213t143926-000003-04FCF7_sw.nc\n",
      "390 s1a-ew-owi-cm-20230829t104413-20230829t104516-000003-060704_sw.nc\n",
      "391 s1b-iw-owi-cm-20190905t214131-20190905t214336-000003-021B40_sw.nc\n",
      "392 rcm2--owi-cm-20230803t020425-20230803t020534-00003-______sw.nc\n",
      "393 rs2--owi-cm-20210208t235939-20210209t000055-00003-______sw.nc\n"
     ]
    },
    {
     "data": {
      "application/vnd.jupyter.widget-view+json": {
       "model_id": "b4efeca657414741aec9cdac6be565fc",
       "version_major": 2,
       "version_minor": 0
      },
      "text/plain": [
       "  0%|          | 0/50 [00:00<?, ?it/s]"
      ]
     },
     "metadata": {},
     "output_type": "display_data"
    },
    {
     "name": "stdout",
     "output_type": "stream",
     "text": [
      "394 rs2--owi-cm-20220926t111003-20220926t111119-00003-______sw.nc\n",
      "395 s1a-ew-owi-cm-20230828t213725-20230828t213829-000003-0606C6_sw.nc\n"
     ]
    },
    {
     "data": {
      "application/vnd.jupyter.widget-view+json": {
       "model_id": "b38b4498b31040c9815b523012984292",
       "version_major": 2,
       "version_minor": 0
      },
      "text/plain": [
       "  0%|          | 0/50 [00:00<?, ?it/s]"
      ]
     },
     "metadata": {},
     "output_type": "display_data"
    },
    {
     "name": "stdout",
     "output_type": "stream",
     "text": [
      "396 rcm2--owi-cm-20230701t124721-20230701t124816-00003-______sw.nc\n",
      "397 s1b-iw-owi-cm-20181103t184809-20181103t184924-000003-018DFE_sw.nc\n",
      "398 rs2--owi-cm-20170819t140047-20170819t140203-00003-______sw.nc\n",
      "399 rcm1--owi-cm-20230912t205455-20230912t205612-00003-______sw.nc\n",
      "400 rcm1--owi-cm-20230209t111056-20230209t111212-00003-______sw.nc\n",
      "401 s1a-ew-owi-cm-20180117t143557-20180117t143902-000003-022745_sw.nc\n",
      "402 rs2--owi-cm-20201002t022254-20201002t022409-00003-______sw.nc\n"
     ]
    },
    {
     "data": {
      "application/vnd.jupyter.widget-view+json": {
       "model_id": "9fb20ae38e544f918ef587d556633627",
       "version_major": 2,
       "version_minor": 0
      },
      "text/plain": [
       "  0%|          | 0/50 [00:00<?, ?it/s]"
      ]
     },
     "metadata": {},
     "output_type": "display_data"
    },
    {
     "name": "stdout",
     "output_type": "stream",
     "text": [
      "403 rcm1--owi-cm-20230812t203104-20230812t203220-00003-______sw.nc\n",
      "404 s1a-ew-owi-cm-20180905t020104-20180905t020308-000003-0290CC_sw.nc\n",
      "405 s1a-ew-owi-cm-20160905t103205-20160905t103509-000003-0146B3_sw.nc\n",
      "406 rcm3--owi-cm-20230804t094702-20230804t094745-00003-______sw.nc\n",
      "407 s1b-iw-owi-cm-20200802t231913-20200802t232034-000003-02B2DB_sw.nc\n",
      "408 s1a-ew-owi-cm-20181002t211106-20181002t211310-000003-029DF5_sw.nc\n"
     ]
    },
    {
     "data": {
      "application/vnd.jupyter.widget-view+json": {
       "model_id": "e6c438adba6a4efd99238cef13339062",
       "version_major": 2,
       "version_minor": 0
      },
      "text/plain": [
       "  0%|          | 0/50 [00:00<?, ?it/s]"
      ]
     },
     "metadata": {},
     "output_type": "display_data"
    },
    {
     "name": "stdout",
     "output_type": "stream",
     "text": [
      "409 s1a-ew-owi-cm-20190209t015221-20190209t015452-000003-02E046_sw.nc\n",
      "410 rs2--owi-cm-20201009t090404-20201009t090628-00003-______sw.nc\n",
      "411 s1b-ew-owi-cm-20180208t001501-20180208t001905-000003-011249_sw.nc\n",
      "412 rcm3--owi-cm-20230727t101728-20230727t101751-00003-______sw.nc\n",
      "413 rs2--owi-cm-20210926t211822-20210926t212046-00003-______sw.nc\n",
      "414 s1b-ew-owi-cm-20181008t235029-20181008t235233-000003-01824C_sw.nc\n",
      "415 rcm2--owi-cm-20230214t233213-20230214t233329-00003-______sw.nc\n",
      "416 s1b-ew-owi-cm-20181005t015910-20181005t020215-000003-018087_sw.nc\n",
      "417 rcm2--owi-cm-20230803t140124-20230803t140204-00003-______sw.nc\n",
      "418 s1b-iw-owi-cm-20161009t223946-20161009t224047-000003-0041D0_sw.nc\n",
      "419 s1a-ew-owi-cm-20180820t091156-20180820t091400-000003-02898A_sw.nc\n",
      "420 rs2--owi-cm-20161006t223232-20161006t223348-00003-______sw.nc\n",
      "421 rs2--owi-cm-20150715t144252-20150715t144408-00003-______sw.nc\n",
      "422 s1a-ew-owi-cm-20181005t100006-20181005t100311-000003-029F41_sw.nc\n",
      "423 rcm3--owi-cm-20230208t221145-20230208t221301-00003-______sw.nc\n",
      "424 s1a-ew-owi-cm-20170207t015253-20170207t015558-000003-018D33_sw.nc\n",
      "425 s1a-iw-owi-cm-20160829t083147-20160829t083331-000003-014340_sw.nc\n",
      "426 s1a-ew-owi-cm-20231008t133242-20231008t133346-000003-061B15_sw.nc\n",
      "427 s1a-ew-owi-cm-20230726t220124-20230726t220228-000003-05F6DE_sw.nc\n",
      "428 s1b-iw-owi-cm-20180912t042127-20180912t042314-000003-017649_sw.nc\n",
      "429 rcm2--owi-cm-20230531t212914-20230531t213010-00003-______sw.nc\n",
      "430 rcm1--owi-cm-20230210t080328-20230210t080508-00003-______sw.nc\n",
      "431 rcm3--owi-cm-20230215t140518-20230215t140635-00003-______sw.nc\n",
      "432 s1a-ew-owi-cm-20220830t211026-20220830t211206-000003-055937_sw.nc\n"
     ]
    },
    {
     "data": {
      "application/vnd.jupyter.widget-view+json": {
       "model_id": "dd4db5248f964af790100580892d7bc1",
       "version_major": 2,
       "version_minor": 0
      },
      "text/plain": [
       "  0%|          | 0/50 [00:00<?, ?it/s]"
      ]
     },
     "metadata": {},
     "output_type": "display_data"
    },
    {
     "name": "stdout",
     "output_type": "stream",
     "text": [
      "433 s1a-ew-owi-cm-20160924t102535-20160924t102839-000003-014FC1_sw.nc\n",
      "434 s1a-ew-owi-cm-20160826t133953-20160826t134056-000003-0141F0_sw.nc\n",
      "435 rcm1--owi-cm-20221225t233947-20221225t234139-00003-______sw.nc\n",
      "436 s1a-iw-owi-cm-20170918t095058-20170918t095152-000003-01F075_sw.nc\n",
      "437 rs2--owi-cm-20200825t113334-20200825t113556-00003-______sw.nc\n",
      "438 s1a-ew-owi-cm-20181222t132215-20181222t132419-000003-02C6B3_sw.nc\n",
      "439 s1b-ew-owi-cm-20180818t204359-20180818t204703-000003-016B56_sw.nc\n"
     ]
    },
    {
     "data": {
      "application/vnd.jupyter.widget-view+json": {
       "model_id": "3d8d0b93e12549739c34d45cb62f754e",
       "version_major": 2,
       "version_minor": 0
      },
      "text/plain": [
       "  0%|          | 0/50 [00:00<?, ?it/s]"
      ]
     },
     "metadata": {},
     "output_type": "display_data"
    },
    {
     "name": "stdout",
     "output_type": "stream",
     "text": [
      "440 rs2--owi-cm-20200902t084047-20200902t084419-00003-______sw.nc\n",
      "441 s1a-iw-owi-cm-20211027t222538-20211027t222653-000003-04C6E8_sw.nc\n",
      "442 s1b-ew-owi-cm-20190307t004754-20190307t005102-000003-01C845_sw.nc\n"
     ]
    },
    {
     "data": {
      "application/vnd.jupyter.widget-view+json": {
       "model_id": "4054128528fc49c384293c11333a032e",
       "version_major": 2,
       "version_minor": 0
      },
      "text/plain": [
       "  0%|          | 0/50 [00:00<?, ?it/s]"
      ]
     },
     "metadata": {},
     "output_type": "display_data"
    },
    {
     "name": "stdout",
     "output_type": "stream",
     "text": [
      "443 rs2--owi-cm-20160825t093033-20160825t093136-00003-______sw.nc\n",
      "444 s1a-ew-owi-cm-20180831t082803-20180831t083108-000003-028EA1_sw.nc\n",
      "445 rcm3--owi-cm-20220901t212929-20220901t213005-00003-______sw.nc\n",
      "446 rs2--owi-cm-20210912t094420-20210912t094644-00003-______sw.nc\n",
      "447 s1a-ew-owi-cm-20180908t093806-20180908t094010-000003-029263_sw.nc\n",
      "448 rcm1--owi-cm-20230911t082817-20230911t082933-00003-______sw.nc\n",
      "449 s1a-ew-owi-cm-20230701t130657-20230701t130800-000003-05EB71_sw.nc\n",
      "450 rcm1--owi-cm-20230623t211423-20230623t211540-00003-______sw.nc\n",
      "451 rs2--owi-cm-20180910t155203-20180910t155319-00003-______sw.nc\n"
     ]
    },
    {
     "data": {
      "application/vnd.jupyter.widget-view+json": {
       "model_id": "ad5f783ff5234a2d9645da63fe9ad8be",
       "version_major": 2,
       "version_minor": 0
      },
      "text/plain": [
       "  0%|          | 0/50 [00:00<?, ?it/s]"
      ]
     },
     "metadata": {},
     "output_type": "display_data"
    },
    {
     "name": "stdout",
     "output_type": "stream",
     "text": [
      "452 s1a-iw-owi-cm-20231003t100627-20231003t100742-000003-06187A_sw.nc\n",
      "453 rs2--owi-cm-20150514t195522-20150514t195638-00003-______sw.nc\n"
     ]
    },
    {
     "data": {
      "application/vnd.jupyter.widget-view+json": {
       "model_id": "c94cbdd518104d599d8922c6af65092a",
       "version_major": 2,
       "version_minor": 0
      },
      "text/plain": [
       "  0%|          | 0/50 [00:00<?, ?it/s]"
      ]
     },
     "metadata": {},
     "output_type": "display_data"
    },
    {
     "name": "stdout",
     "output_type": "stream",
     "text": [
      "454 rs2--owi-cm-20180831t140405-20180831t140521-00003-______sw.nc\n",
      "455 s1b-ew-owi-cm-20190612t011725-20190612t011929-000003-01F595_sw.nc\n",
      "456 s1a-iw-owi-cm-20200214t021047-20200214t021202-000003-0397D1_sw.nc\n",
      "457 rcm1--owi-cm-20210808t201138-20210808t201358-00003-______sw.nc\n",
      "458 rcm1--owi-cm-20230809t081702-20230809t081819-00003-______sw.nc\n",
      "459 s1a-ew-owi-cm-20220130t010458-20220130t010632-000003-04F596_sw.nc\n"
     ]
    },
    {
     "data": {
      "application/vnd.jupyter.widget-view+json": {
       "model_id": "b7687ae3ff89467cb1f72de9b31729db",
       "version_major": 2,
       "version_minor": 0
      },
      "text/plain": [
       "  0%|          | 0/50 [00:00<?, ?it/s]"
      ]
     },
     "metadata": {},
     "output_type": "display_data"
    },
    {
     "name": "stdout",
     "output_type": "stream",
     "text": [
      "460 rcm1--owi-cm-20230909t094956-20230909t095112-00003-______sw.nc\n"
     ]
    },
    {
     "data": {
      "application/vnd.jupyter.widget-view+json": {
       "model_id": "a64836fb8102472ba5529593d80a4b6c",
       "version_major": 2,
       "version_minor": 0
      },
      "text/plain": [
       "  0%|          | 0/50 [00:00<?, ?it/s]"
      ]
     },
     "metadata": {},
     "output_type": "display_data"
    },
    {
     "name": "stdout",
     "output_type": "stream",
     "text": [
      "461 s1b-iw-owi-cm-20200906t092820-20200906t092940-000003-02C288_sw.nc\n",
      "462 rs2--owi-cm-20220927t232735-20220927t232958-00003-______sw.nc\n"
     ]
    },
    {
     "data": {
      "application/vnd.jupyter.widget-view+json": {
       "model_id": "948a8a7755a64fc288c4120efd88850b",
       "version_major": 2,
       "version_minor": 0
      },
      "text/plain": [
       "  0%|          | 0/50 [00:00<?, ?it/s]"
      ]
     },
     "metadata": {},
     "output_type": "display_data"
    },
    {
     "name": "stdout",
     "output_type": "stream",
     "text": [
      "463 s1a-iw-owi-cm-20160904t163028-20160904t163208-000003-014658_sw.nc\n",
      "464 rcm2--owi-cm-20230815t153814-20230815t153931-00003-______sw.nc\n",
      "465 rs2--owi-cm-20210720t092117-20210720t092234-00003-______sw.nc\n",
      "466 rs2--owi-cm-20180206t131732-20180206t132210-00003-______sw.nc\n",
      "467 rcm2--owi-cm-20221226t123921-20221226t124101-00003-______sw.nc\n",
      "468 s1a-iw-owi-cm-20190902t231101-20190902t231306-000003-0344E3_sw.nc\n",
      "469 rs2--owi-cm-20160718t025234-20160718t025513-00003-______sw.nc\n",
      "470 s1b-iw-owi-cm-20210902t104027-20210902t104142-000003-036731_sw.nc\n",
      "471 s1a-iw-owi-cm-20200902t235812-20200902t235927-000003-03F8BD_sw.nc\n",
      "472 s1a-ew-owi-cm-20180201t132219-20180201t132527-000003-022E2F_sw.nc\n"
     ]
    },
    {
     "data": {
      "application/vnd.jupyter.widget-view+json": {
       "model_id": "9ac2a8f2e4c147af90a5fddac3821889",
       "version_major": 2,
       "version_minor": 0
      },
      "text/plain": [
       "  0%|          | 0/50 [00:00<?, ?it/s]"
      ]
     },
     "metadata": {},
     "output_type": "display_data"
    },
    {
     "name": "stdout",
     "output_type": "stream",
     "text": [
      "473 rcm2--owi-cm-20220606t101751-20220606t102039-00003-______sw.nc\n",
      "474 rcm3--owi-cm-20230625t095038-20230625t095155-00003-______sw.nc\n",
      "475 s1b-iw-owi-cm-20190922t013117-20190922t013211-000003-0222A9_sw.nc\n",
      "476 rcm1--owi-cm-20230910t095738-20230910t095854-00003-______sw.nc\n"
     ]
    },
    {
     "data": {
      "application/vnd.jupyter.widget-view+json": {
       "model_id": "22fccee98d3f48b68592bc2b9338e40c",
       "version_major": 2,
       "version_minor": 0
      },
      "text/plain": [
       "  0%|          | 0/50 [00:00<?, ?it/s]"
      ]
     },
     "metadata": {},
     "output_type": "display_data"
    },
    {
     "name": "stdout",
     "output_type": "stream",
     "text": [
      "477 s1a-ew-owi-cm-20160901t202925-20160901t203108-000003-0144F0_sw.nc\n",
      "478 s1b-ew-owi-cm-20190614t133247-20190614t133442-000003-01F6A9_sw.nc\n"
     ]
    },
    {
     "data": {
      "application/vnd.jupyter.widget-view+json": {
       "model_id": "91e24ac533284d6fba36e6933bca6ae2",
       "version_major": 2,
       "version_minor": 0
      },
      "text/plain": [
       "  0%|          | 0/50 [00:00<?, ?it/s]"
      ]
     },
     "metadata": {},
     "output_type": "display_data"
    },
    {
     "name": "stdout",
     "output_type": "stream",
     "text": [
      "479 s1a-iw-owi-cm-20190613t011023-20190613t011209-000003-031F10_sw.nc\n",
      "480 s1b-ew-owi-cm-20191106t194803-20191106t195007-000003-02377F_sw.nc\n"
     ]
    },
    {
     "data": {
      "application/vnd.jupyter.widget-view+json": {
       "model_id": "6da69ece3df3427591b71a44d2b339bc",
       "version_major": 2,
       "version_minor": 0
      },
      "text/plain": [
       "  0%|          | 0/50 [00:00<?, ?it/s]"
      ]
     },
     "metadata": {},
     "output_type": "display_data"
    },
    {
     "name": "stdout",
     "output_type": "stream",
     "text": [
      "481 s1b-iw-owi-cm-20210122t025113-20210122t025228-000003-030207_sw.nc\n",
      "482 rcm3--owi-cm-20230811t054945-20230811t055101-00003-______sw.nc\n"
     ]
    },
    {
     "data": {
      "application/vnd.jupyter.widget-view+json": {
       "model_id": "7ac076542d3c4e858c2d46327395cecb",
       "version_major": 2,
       "version_minor": 0
      },
      "text/plain": [
       "  0%|          | 0/50 [00:00<?, ?it/s]"
      ]
     },
     "metadata": {},
     "output_type": "display_data"
    },
    {
     "name": "stdout",
     "output_type": "stream",
     "text": [
      "483 rcm1--owi-cm-20230613t133012-20230613t133103-00003-______sw.nc\n",
      "484 s1a-ew-owi-cm-20190227t204007-20190227t204132-000003-02EA0C_sw.nc\n",
      "485 rs2--owi-cm-20170906t211519-20170906t211921-00003-______sw.nc\n",
      "486 s1b-ew-owi-cm-20180907t041406-20180907t041610-000003-017415_sw.nc\n"
     ]
    },
    {
     "data": {
      "application/vnd.jupyter.widget-view+json": {
       "model_id": "40b5b986d7164adfa55395ffbe311028",
       "version_major": 2,
       "version_minor": 0
      },
      "text/plain": [
       "  0%|          | 0/50 [00:00<?, ?it/s]"
      ]
     },
     "metadata": {},
     "output_type": "display_data"
    },
    {
     "name": "stdout",
     "output_type": "stream",
     "text": [
      "487 s1b-ew-owi-cm-20210908t091631-20210908t091835-000003-0369DA_sw.nc\n",
      "488 s1a-iw-owi-cm-20200918t183534-20200918t183649-000003-0400C8_sw.nc\n",
      "489 s1b-iw-owi-cm-20201008t000702-20201008t000846-000003-02D0FE_sw.nc\n"
     ]
    },
    {
     "data": {
      "application/vnd.jupyter.widget-view+json": {
       "model_id": "a7d3ab8619174b8ab8dc5f9461f04ad4",
       "version_major": 2,
       "version_minor": 0
      },
      "text/plain": [
       "  0%|          | 0/50 [00:00<?, ?it/s]"
      ]
     },
     "metadata": {},
     "output_type": "display_data"
    },
    {
     "name": "stdout",
     "output_type": "stream",
     "text": [
      "490 s1b-ew-owi-cm-20180120t020305-20180120t020607-000003-01093D_sw.nc\n",
      "491 s1a-ew-owi-cm-20160902t082858-20160902t083120-000003-014532_sw.nc\n",
      "492 s1a-iw-owi-cm-20180103t145358-20180103t145513-000003-0220D9_sw.nc\n",
      "493 rcm2--owi-cm-20230216t131202-20230216t131317-00003-______sw.nc\n"
     ]
    },
    {
     "data": {
      "application/vnd.jupyter.widget-view+json": {
       "model_id": "352b252d003043108043efdccc53b55a",
       "version_major": 2,
       "version_minor": 0
      },
      "text/plain": [
       "  0%|          | 0/50 [00:00<?, ?it/s]"
      ]
     },
     "metadata": {},
     "output_type": "display_data"
    },
    {
     "name": "stdout",
     "output_type": "stream",
     "text": [
      "494 s1b-iw-owi-cm-20200920t080530-20200920t080636-000003-02C8E1_sw.nc\n",
      "495 s1a-ew-owi-cm-20180831t033103-20180831t033408-000003-028E87_sw.nc\n",
      "496 rs2--owi-cm-20210421t094352-20210421t094508-00003-______sw.nc\n"
     ]
    },
    {
     "data": {
      "application/vnd.jupyter.widget-view+json": {
       "model_id": "1f05e3b3c5d04bb4a73cb8c7153374a3",
       "version_major": 2,
       "version_minor": 0
      },
      "text/plain": [
       "  0%|          | 0/50 [00:00<?, ?it/s]"
      ]
     },
     "metadata": {},
     "output_type": "display_data"
    },
    {
     "name": "stdout",
     "output_type": "stream",
     "text": [
      "497 rs2--owi-cm-20201109t111723-20201109t111839-00003-______sw.nc\n",
      "498 rs2--owi-cm-20210928t091808-20210928t092031-00003-______sw.nc\n",
      "499 s1b-iw-owi-cm-20201007t113512-20201007t113652-000003-02D0BA_sw.nc\n",
      "500 rs2--owi-cm-20201024t215525-20201024t215748-00003-______sw.nc\n",
      "501 s1b-ew-owi-cm-20180907t023408-20180907t023613-000003-01740E_sw.nc\n",
      "502 s1a-ew-owi-cm-20230513t235729-20230513t235826-000003-05D623_sw.nc\n",
      "503 rs2--owi-cm-20170727t201017-20170727t201126-00003-______sw.nc\n",
      "504 rs2--owi-cm-20141103t131130-20141103t131246-00003-______sw.nc\n"
     ]
    },
    {
     "data": {
      "application/vnd.jupyter.widget-view+json": {
       "model_id": "9274e68e074949cebbaf9c559d8ffa5d",
       "version_major": 2,
       "version_minor": 0
      },
      "text/plain": [
       "  0%|          | 0/50 [00:00<?, ?it/s]"
      ]
     },
     "metadata": {},
     "output_type": "display_data"
    },
    {
     "name": "stdout",
     "output_type": "stream",
     "text": [
      "505 rcm2--owi-cm-20230518t003518-20230518t003616-00003-______sw.nc\n",
      "506 rcm3--owi-cm-20230817t082315-20230817t082407-00003-______sw.nc\n",
      "507 s1b-iw-owi-cm-20160930t225814-20160930t225903-000003-003E59_sw.nc\n",
      "508 s1a-ew-owi-cm-20201102t220236-20201102t220406-000003-0417BC_sw.nc\n",
      "509 rcm3--owi-cm-20201010t203044-20201010t203200-00003-______sw.nc\n",
      "510 rcm1--owi-cm-20230911t222124-20230911t222239-00003-______sw.nc\n"
     ]
    },
    {
     "data": {
      "application/vnd.jupyter.widget-view+json": {
       "model_id": "26e2821969e04926a7283c7a389cd6f2",
       "version_major": 2,
       "version_minor": 0
      },
      "text/plain": [
       "  0%|          | 0/50 [00:00<?, ?it/s]"
      ]
     },
     "metadata": {},
     "output_type": "display_data"
    },
    {
     "name": "stdout",
     "output_type": "stream",
     "text": [
      "511 s1b-ew-owi-cm-20190323t104523-20190323t104727-000003-01D003_sw.nc\n",
      "512 s1a-ew-owi-cm-20190213t132857-20190213t133043-000003-02E2A0_sw.nc\n",
      "513 rs2--owi-cm-20190927t082744-20190927t083007-00003-______sw.nc\n",
      "514 rcm1--owi-cm-20221226t234838-20221226t235018-00003-______sw.nc\n"
     ]
    },
    {
     "data": {
      "application/vnd.jupyter.widget-view+json": {
       "model_id": "8b6c8d9048e5495a9a013f10151b0598",
       "version_major": 2,
       "version_minor": 0
      },
      "text/plain": [
       "  0%|          | 0/50 [00:00<?, ?it/s]"
      ]
     },
     "metadata": {},
     "output_type": "display_data"
    },
    {
     "name": "stdout",
     "output_type": "stream",
     "text": [
      "515 rcm2--owi-cm-20220908t012636-20220908t012732-00003-______sw.nc\n",
      "516 rcm3--owi-cm-20230519t134555-20230519t134710-00003-______sw.nc\n",
      "517 s1a-iw-owi-cm-20190920t130548-20190920t130734-000003-034DBE_sw.nc\n",
      "518 s1a-iw-owi-cm-20200406t071235-20200406t071509-000003-03B25D_sw.nc\n",
      "519 s1a-ew-owi-cm-20210423t091848-20210423t092013-000003-046E76_sw.nc\n",
      "520 s1a-iw-owi-cm-20190830t224548-20190830t224705-000003-03435D_sw.nc\n",
      "521 s1a-iw-owi-cm-20180822t210038-20180822t210213-000003-028AA9_sw.nc\n",
      "522 rs2--owi-cm-20141102t011207-20141102t011322-00003-______sw.nc\n",
      "523 s1b-iw-owi-cm-20191031t005540-20191031t005626-000003-023451_sw.nc\n",
      "524 rcm1--owi-cm-20230307t024655-20230307t024811-00003-______sw.nc\n",
      "525 s1a-ew-owi-cm-20201103t103118-20201103t103249-000003-041800_sw.nc\n",
      "526 rcm1--owi-cm-20230918t214210-20230918t214327-00003-______sw.nc\n",
      "527 s1b-iw-owi-cm-20210420t094117-20210420t094300-000003-032B99_sw.nc\n",
      "528 rs2--owi-cm-20160709t144141-20160709t144257-00003-______sw.nc\n",
      "529 s1a-iw-owi-cm-20220924t101500-20220924t101604-000003-05653E_sw.nc\n",
      "530 rcm3--owi-cm-20230413t103016-20230413t103133-00003-______sw.nc\n"
     ]
    },
    {
     "data": {
      "application/vnd.jupyter.widget-view+json": {
       "model_id": "1cf717f1bab64d238783258999933364",
       "version_major": 2,
       "version_minor": 0
      },
      "text/plain": [
       "  0%|          | 0/50 [00:00<?, ?it/s]"
      ]
     },
     "metadata": {},
     "output_type": "display_data"
    },
    {
     "name": "stdout",
     "output_type": "stream",
     "text": [
      "531 rcm2--owi-cm-20230211t073835-20230211t073951-00003-______sw.nc\n"
     ]
    },
    {
     "data": {
      "application/vnd.jupyter.widget-view+json": {
       "model_id": "7b354eecbacc4f179a7c6bc2c5d120b2",
       "version_major": 2,
       "version_minor": 0
      },
      "text/plain": [
       "  0%|          | 0/50 [00:00<?, ?it/s]"
      ]
     },
     "metadata": {},
     "output_type": "display_data"
    },
    {
     "name": "stdout",
     "output_type": "stream",
     "text": [
      "Value error, file skipped.\n",
      "532 rcm1--owi-cm-20230911t100516-20230911t100633-00003-______sw.nc\n"
     ]
    },
    {
     "data": {
      "application/vnd.jupyter.widget-view+json": {
       "model_id": "01debcba8f3c4ecc802c8878ca0673e5",
       "version_major": 2,
       "version_minor": 0
      },
      "text/plain": [
       "  0%|          | 0/50 [00:00<?, ?it/s]"
      ]
     },
     "metadata": {},
     "output_type": "display_data"
    },
    {
     "name": "stdout",
     "output_type": "stream",
     "text": [
      "533 rs2--owi-cm-20140807t155748-20140807t155950-00003-______sw.nc\n",
      "534 rs2--owi-cm-20190904t111553-20190904t111709-00003-______sw.nc\n",
      "535 rcm1--owi-cm-20230301t180411-20230301t180505-00003-______sw.nc\n",
      "536 rcm2--owi-cm-20230815t140018-20230815t140119-00003-______sw.nc\n"
     ]
    },
    {
     "data": {
      "application/vnd.jupyter.widget-view+json": {
       "model_id": "8c84776ea67e41a9a716c24c30a71083",
       "version_major": 2,
       "version_minor": 0
      },
      "text/plain": [
       "  0%|          | 0/50 [00:00<?, ?it/s]"
      ]
     },
     "metadata": {},
     "output_type": "display_data"
    },
    {
     "name": "stdout",
     "output_type": "stream",
     "text": [
      "537 rcm2--owi-cm-20230526t205116-20230526t205205-00003-______sw.nc\n",
      "538 rs2--owi-cm-20220415t083410-20220415t083634-00003-______sw.nc\n",
      "539 s1a-iw-owi-cm-20231022t095844-20231022t095938-000003-0621D7_sw.nc\n",
      "540 rs2--owi-cm-20160807t031052-20160807t031208-00003-______sw.nc\n",
      "541 rs2--owi-cm-20210927t090605-20210927t090829-00003-______sw.nc\n"
     ]
    },
    {
     "data": {
      "application/vnd.jupyter.widget-view+json": {
       "model_id": "479cfa8887004b50aa9534bd84d8c87b",
       "version_major": 2,
       "version_minor": 0
      },
      "text/plain": [
       "  0%|          | 0/50 [00:00<?, ?it/s]"
      ]
     },
     "metadata": {},
     "output_type": "display_data"
    },
    {
     "name": "stdout",
     "output_type": "stream",
     "text": [
      "542 rs2--owi-cm-20190906t094312-20190906t094536-00003-______sw.nc\n",
      "543 rcm1--owi-cm-20230216t001151-20230216t001305-00003-______sw.nc\n"
     ]
    },
    {
     "data": {
      "application/vnd.jupyter.widget-view+json": {
       "model_id": "3b18119c4a2c467e9290c49dbbfe7c35",
       "version_major": 2,
       "version_minor": 0
      },
      "text/plain": [
       "  0%|          | 0/50 [00:00<?, ?it/s]"
      ]
     },
     "metadata": {},
     "output_type": "display_data"
    },
    {
     "name": "stdout",
     "output_type": "stream",
     "text": [
      "544 rs2--owi-cm-20160923t221151-20160923t221415-00003-______sw.nc\n",
      "545 rs2--owi-cm-20150829t034258-20150829t034658-00003-______sw.nc\n",
      "546 rs2--owi-cm-20210717t022156-20210717t022312-00003-______sw.nc\n"
     ]
    },
    {
     "data": {
      "application/vnd.jupyter.widget-view+json": {
       "model_id": "2cfb8cb57eaf4ae4a6a0147776e11e59",
       "version_major": 2,
       "version_minor": 0
      },
      "text/plain": [
       "  0%|          | 0/50 [00:00<?, ?it/s]"
      ]
     },
     "metadata": {},
     "output_type": "display_data"
    },
    {
     "name": "stdout",
     "output_type": "stream",
     "text": [
      "547 rcm1--owi-cm-20230910t082058-20230910t082215-00003-______sw.nc\n",
      "548 rs2--owi-cm-20150516t203538-20150516t203654-00003-______sw.nc\n"
     ]
    },
    {
     "data": {
      "application/vnd.jupyter.widget-view+json": {
       "model_id": "46b9f60b05b9429da0e6f964a8f1d0e2",
       "version_major": 2,
       "version_minor": 0
      },
      "text/plain": [
       "  0%|          | 0/50 [00:00<?, ?it/s]"
      ]
     },
     "metadata": {},
     "output_type": "display_data"
    },
    {
     "name": "stdout",
     "output_type": "stream",
     "text": [
      "549 s1a-iw-owi-cm-20220919t224452-20220919t224657-000003-056306_sw.nc\n",
      "550 s1a-ew-owi-cm-20190324t103803-20190324t103949-000003-02F72C_sw.nc\n"
     ]
    },
    {
     "data": {
      "application/vnd.jupyter.widget-view+json": {
       "model_id": "4579ad9d4be44ce1a3a9ccbf388c350f",
       "version_major": 2,
       "version_minor": 0
      },
      "text/plain": [
       "  0%|          | 0/50 [00:00<?, ?it/s]"
      ]
     },
     "metadata": {},
     "output_type": "display_data"
    },
    {
     "name": "stdout",
     "output_type": "stream",
     "text": [
      "551 s1b-iw-owi-cm-20210908t095420-20210908t095611-000003-0369DE_sw.nc\n",
      "552 s1b-ew-owi-cm-20210422t213524-20210422t213729-000003-032CBB_sw.nc\n",
      "553 s1a-ew-owi-cm-20181026t090105-20181026t090239-000003-02A914_sw.nc\n",
      "554 s1b-ew-owi-cm-20210907t214630-20210907t215005-000003-0369AB_sw.nc\n"
     ]
    },
    {
     "data": {
      "application/vnd.jupyter.widget-view+json": {
       "model_id": "86c786f0679d4ab9ade125f2cf3627ed",
       "version_major": 2,
       "version_minor": 0
      },
      "text/plain": [
       "  0%|          | 0/50 [00:00<?, ?it/s]"
      ]
     },
     "metadata": {},
     "output_type": "display_data"
    },
    {
     "name": "stdout",
     "output_type": "stream",
     "text": [
      "555 s1a-iw-owi-cm-20210909t130625-20210909t130746-000003-04AE83_sw.nc\n"
     ]
    },
    {
     "data": {
      "application/vnd.jupyter.widget-view+json": {
       "model_id": "fcc990f4bcb347a4b27100ae6f0442a5",
       "version_major": 2,
       "version_minor": 0
      },
      "text/plain": [
       "  0%|          | 0/50 [00:00<?, ?it/s]"
      ]
     },
     "metadata": {},
     "output_type": "display_data"
    },
    {
     "name": "stdout",
     "output_type": "stream",
     "text": [
      "556 s1b-ew-owi-cm-20180202t131243-20180202t131637-000003-010FAF_sw.nc\n",
      "557 rcm1--owi-cm-20230308t025432-20230308t025547-00003-______sw.nc\n",
      "558 s1a-ew-owi-cm-20230826t102124-20230826t102228-000003-060585_sw.nc\n",
      "559 rcm2--owi-cm-20230525t084634-20230525t084750-00003-______sw.nc\n"
     ]
    },
    {
     "data": {
      "application/vnd.jupyter.widget-view+json": {
       "model_id": "97f93d0f92994143b86bc94131fe301b",
       "version_major": 2,
       "version_minor": 0
      },
      "text/plain": [
       "  0%|          | 0/50 [00:00<?, ?it/s]"
      ]
     },
     "metadata": {},
     "output_type": "display_data"
    },
    {
     "name": "stdout",
     "output_type": "stream",
     "text": [
      "560 rs2--owi-cm-20220920t104420-20220920t104536-00003-______sw.nc\n",
      "561 rcm2--owi-cm-20230523t082956-20230523t083035-00003-______sw.nc\n"
     ]
    },
    {
     "data": {
      "application/vnd.jupyter.widget-view+json": {
       "model_id": "1263f7420a7547528728a4de4a3e6ef0",
       "version_major": 2,
       "version_minor": 0
      },
      "text/plain": [
       "  0%|          | 0/50 [00:00<?, ?it/s]"
      ]
     },
     "metadata": {},
     "output_type": "display_data"
    },
    {
     "name": "stdout",
     "output_type": "stream",
     "text": [
      "562 s1a-ew-owi-cm-20190221t195241-20190221t195445-000003-02E6EA_sw.nc\n"
     ]
    },
    {
     "data": {
      "application/vnd.jupyter.widget-view+json": {
       "model_id": "8abb8142bfbd4197aa397afe4a9d9eb7",
       "version_major": 2,
       "version_minor": 0
      },
      "text/plain": [
       "  0%|          | 0/50 [00:00<?, ?it/s]"
      ]
     },
     "metadata": {},
     "output_type": "display_data"
    },
    {
     "name": "stdout",
     "output_type": "stream",
     "text": [
      "563 rcm2--owi-cm-20230907t090310-20230907t090426-00003-______sw.nc\n"
     ]
    },
    {
     "data": {
      "application/vnd.jupyter.widget-view+json": {
       "model_id": "086a84a7da35482782dc18a10359cfcd",
       "version_major": 2,
       "version_minor": 0
      },
      "text/plain": [
       "  0%|          | 0/50 [00:00<?, ?it/s]"
      ]
     },
     "metadata": {},
     "output_type": "display_data"
    },
    {
     "name": "stdout",
     "output_type": "stream",
     "text": [
      "564 rs2--owi-cm-20150905t033940-20150905t034345-00003-______sw.nc\n",
      "565 s1a-ew-owi-cm-20160826t211505-20160826t211809-000003-01420D_sw.nc\n",
      "566 rs2--owi-cm-20160910t204800-20160910t204916-00003-______sw.nc\n",
      "567 rcm1--owi-cm-20230810t170623-20230810t170740-00003-______sw.nc\n",
      "568 s1a-iw-owi-cm-20220215t021005-20220215t021149-000003-04FDBB_sw.nc\n",
      "569 s1a-iw-owi-cm-20170829t002530-20170829t002710-000003-01E74D_sw.nc\n",
      "570 s1a-iw-owi-cm-20191121t220435-20191121t220530-000003-036D35_sw.nc\n",
      "571 s1a-ew-owi-cm-20221222t234915-20221222t235128-000003-0590A7_sw.nc\n",
      "572 s1a-iw-owi-cm-20190920t221952-20190920t222132-000003-034DF5_sw.nc\n",
      "573 rs2--owi-cm-20151023t124550-20151023t124825-00003-______sw.nc\n",
      "574 s1b-ew-owi-cm-20190428t122321-20190428t122602-000003-01E172_sw.nc\n"
     ]
    },
    {
     "data": {
      "application/vnd.jupyter.widget-view+json": {
       "model_id": "3c92b05f958e45cb9486e7d95d18ed08",
       "version_major": 2,
       "version_minor": 0
      },
      "text/plain": [
       "  0%|          | 0/50 [00:00<?, ?it/s]"
      ]
     },
     "metadata": {},
     "output_type": "display_data"
    },
    {
     "name": "stdout",
     "output_type": "stream",
     "text": [
      "575 s1a-iw-owi-cm-20160926t214317-20160926t214526-000003-0150DC_sw.nc\n",
      "576 s1a-iw-owi-cm-20191018t002429-20191018t002544-000003-035B80_sw.nc\n",
      "577 s1a-ew-owi-cm-20180904t210504-20180904t210809-000003-0290B5_sw.nc\n",
      "578 rcm1--owi-cm-20230909t202811-20230909t202926-00003-______sw.nc\n",
      "579 rs2--owi-cm-20180707t214952-20180707t215107-00003-______sw.nc\n",
      "580 rs2--owi-cm-20150509t232412-20150509t232525-00003-______sw.nc\n",
      "581 rs2--owi-cm-20190901t110302-20190901t110526-00003-______sw.nc\n",
      "582 s1a-iw-owi-cm-20180824t084311-20180824t084426-000003-028B5C_sw.nc\n",
      "583 rcm1--owi-cm-20230624t091103-20230624t091220-00003-______sw.nc\n",
      "584 rcm2--owi-cm-20211031t204819-20211031t204951-00003-______sw.nc\n",
      "585 rcm1--owi-cm-20230217t002006-20230217t002123-00003-______sw.nc\n",
      "586 s1a-ew-owi-cm-20190308t142434-20190308t142620-000003-02EEA4_sw.nc\n",
      "587 s1a-ew-owi-cm-20191207t023226-20191207t023357-000003-0374DF_sw.nc\n",
      "588 s1a-ew-owi-cm-20200124t144415-20200124t144720-000003-038D72_sw.nc\n",
      "589 s1a-ew-owi-cm-20191008t203040-20191008t203250-000003-0356ED_sw.nc\n"
     ]
    },
    {
     "data": {
      "application/vnd.jupyter.widget-view+json": {
       "model_id": "48b9d5a3ec3e4e7c8c3a8355b4b21923",
       "version_major": 2,
       "version_minor": 0
      },
      "text/plain": [
       "  0%|          | 0/50 [00:00<?, ?it/s]"
      ]
     },
     "metadata": {},
     "output_type": "display_data"
    },
    {
     "name": "stdout",
     "output_type": "stream",
     "text": [
      "590 s1a-iw-owi-cm-20180920t121936-20180920t122030-000003-02980D_sw.nc\n",
      "591 rcm1--owi-cm-20230809t200800-20230809t200917-00003-______sw.nc\n",
      "592 rs2--owi-cm-20220323t221849-20220323t222113-00003-______sw.nc\n",
      "593 rs2--owi-cm-20130802t223244-20130802t223400-00003-______sw.nc\n",
      "594 s1a-ew-owi-cm-20180304t145347-20180304t145548-000003-023CA4_sw.nc\n",
      "595 s1a-ew-owi-cm-20211028t201947-20211028t202249-000003-04C757_sw.nc\n"
     ]
    },
    {
     "data": {
      "application/vnd.jupyter.widget-view+json": {
       "model_id": "ed83bdae28ae449ba488e15349d7e98d",
       "version_major": 2,
       "version_minor": 0
      },
      "text/plain": [
       "  0%|          | 0/50 [00:00<?, ?it/s]"
      ]
     },
     "metadata": {},
     "output_type": "display_data"
    },
    {
     "name": "stdout",
     "output_type": "stream",
     "text": [
      "596 rs2--owi-cm-20160918t211247-20160918t211618-00003-______sw.nc\n",
      "597 rcm3--owi-cm-20230724t084656-20230724t084815-00003-______sw.nc\n",
      "598 rs2--owi-cm-20200825t213536-20200825t213810-00003-______sw.nc\n",
      "599 rs2--owi-cm-20180908t151005-20180908t151121-00003-______sw.nc\n",
      "600 s1a-ew-owi-cm-20180914t095035-20180914t095221-000003-029526_sw.nc\n"
     ]
    },
    {
     "data": {
      "application/vnd.jupyter.widget-view+json": {
       "model_id": "fb5cf626f36b436bb493887fa64b6edc",
       "version_major": 2,
       "version_minor": 0
      },
      "text/plain": [
       "  0%|          | 0/50 [00:00<?, ?it/s]"
      ]
     },
     "metadata": {},
     "output_type": "display_data"
    },
    {
     "name": "stdout",
     "output_type": "stream",
     "text": [
      "601 s1a-ew-owi-cm-20220204t150030-20220204t150335-000003-04F859_sw.nc\n"
     ]
    },
    {
     "data": {
      "application/vnd.jupyter.widget-view+json": {
       "model_id": "7a1995ac6a2948af9e45224e4169bb7d",
       "version_major": 2,
       "version_minor": 0
      },
      "text/plain": [
       "  0%|          | 0/50 [00:00<?, ?it/s]"
      ]
     },
     "metadata": {},
     "output_type": "display_data"
    },
    {
     "name": "stdout",
     "output_type": "stream",
     "text": [
      "602 rs2--owi-cm-20200821t133153-20200821t133416-00003-______sw.nc\n",
      "603 rcm3--owi-cm-20230621t091957-20230621t092112-00003-______sw.nc\n",
      "604 s1a-ew-owi-cm-20190222t081638-20190222t081928-000003-02E72E_sw.nc\n",
      "605 s1a-iw-owi-cm-20230213t172916-20230213t173031-000003-05AA87_sw.nc\n",
      "606 s1b-ew-owi-cm-20191030t015123-20191030t015337-000003-0233DE_sw.nc\n",
      "607 s1a-ew-owi-cm-20230525t204039-20230525t204207-000003-05DB41_sw.nc\n",
      "608 rs2--owi-cm-20141101t205327-20141101t205443-00003-______sw.nc\n"
     ]
    },
    {
     "data": {
      "application/vnd.jupyter.widget-view+json": {
       "model_id": "03da154658bc4597a1cb4fea49ff9905",
       "version_major": 2,
       "version_minor": 0
      },
      "text/plain": [
       "  0%|          | 0/50 [00:00<?, ?it/s]"
      ]
     },
     "metadata": {},
     "output_type": "display_data"
    },
    {
     "name": "stdout",
     "output_type": "stream",
     "text": [
      "609 s1a-iw-owi-cm-20210913t002506-20210913t002621-000003-04B04F_sw.nc\n",
      "610 rs2--owi-cm-20150801t194958-20150801t195113-00003-______sw.nc\n",
      "611 s1a-ew-owi-cm-20220906t203052-20220906t203311-000003-055C9D_sw.nc\n",
      "612 s1a-iw-owi-cm-20210627t011207-20210627t011351-000003-048BAA_sw.nc\n",
      "613 s1b-ew-owi-cm-20190803t032245-20190803t032443-000003-020C12_sw.nc\n",
      "614 s1b-ew-owi-cm-20180902t143708-20180902t143912-000003-01720F_sw.nc\n",
      "615 s1b-iw-owi-cm-20191101t080344-20191101t080524-000003-0234E0_sw.nc\n",
      "616 rcm2--owi-cm-20230520t005112-20230520t005229-00003-______sw.nc\n",
      "617 s1a-iw-owi-cm-20180107t021126-20180107t021241-000003-022264_sw.nc\n",
      "618 s1b-ew-owi-cm-20180207t131831-20180207t132131-000003-01120C_sw.nc\n",
      "619 rcm1--owi-cm-20230910t221257-20230910t221412-00003-______sw.nc\n"
     ]
    },
    {
     "data": {
      "application/vnd.jupyter.widget-view+json": {
       "model_id": "8ce8c8d28f144ec8bf1375ff7b9371a6",
       "version_major": 2,
       "version_minor": 0
      },
      "text/plain": [
       "  0%|          | 0/50 [00:00<?, ?it/s]"
      ]
     },
     "metadata": {},
     "output_type": "display_data"
    },
    {
     "name": "stdout",
     "output_type": "stream",
     "text": [
      "620 s1b-iw-owi-cm-20201006t204525-20201006t204640-000003-02D075_sw.nc\n",
      "621 s1a-ew-owi-cm-20190311t024310-20190311t024514-000003-02F003_sw.nc\n"
     ]
    },
    {
     "data": {
      "application/vnd.jupyter.widget-view+json": {
       "model_id": "b31b0342c04a4bc79898768aadf7ce36",
       "version_major": 2,
       "version_minor": 0
      },
      "text/plain": [
       "  0%|          | 0/50 [00:00<?, ?it/s]"
      ]
     },
     "metadata": {},
     "output_type": "display_data"
    },
    {
     "name": "stdout",
     "output_type": "stream",
     "text": [
      "622 rs2--owi-cm-20210307t130816-20210307t130931-00003-______sw.nc\n"
     ]
    },
    {
     "data": {
      "application/vnd.jupyter.widget-view+json": {
       "model_id": "b546bf95ff6a4a92a30094e9dfe991b2",
       "version_major": 2,
       "version_minor": 0
      },
      "text/plain": [
       "  0%|          | 0/50 [00:00<?, ?it/s]"
      ]
     },
     "metadata": {},
     "output_type": "display_data"
    },
    {
     "name": "stdout",
     "output_type": "stream",
     "text": [
      "623 rs2--owi-cm-20150821t214623-20150821t214717-00003-______sw.nc\n"
     ]
    },
    {
     "data": {
      "application/vnd.jupyter.widget-view+json": {
       "model_id": "fd82e78cdc384faaadb6c0407a52287c",
       "version_major": 2,
       "version_minor": 0
      },
      "text/plain": [
       "  0%|          | 0/50 [00:00<?, ?it/s]"
      ]
     },
     "metadata": {},
     "output_type": "display_data"
    },
    {
     "name": "stdout",
     "output_type": "stream",
     "text": [
      "624 s1a-ew-owi-cm-20230808t161007-20230808t161110-000003-05FCAD_sw.nc\n",
      "625 s1b-iw-owi-cm-20201229t025114-20201229t025257-000003-02F6D8_sw.nc\n",
      "626 rs2--owi-cm-20180724t205425-20180724t205648-00003-______sw.nc\n",
      "627 rcm3--owi-cm-20210615t101629-20210615t101757-00003-______sw.nc\n",
      "628 s1a-ew-owi-cm-20191107t193942-20191107t194146-000003-036628_sw.nc\n",
      "629 s1a-ew-owi-cm-20210906t092329-20210906t092604-000003-04ACFC_sw.nc\n"
     ]
    },
    {
     "data": {
      "application/vnd.jupyter.widget-view+json": {
       "model_id": "1f4f146064ea404a968fc25ecd9026d5",
       "version_major": 2,
       "version_minor": 0
      },
      "text/plain": [
       "  0%|          | 0/50 [00:00<?, ?it/s]"
      ]
     },
     "metadata": {},
     "output_type": "display_data"
    },
    {
     "name": "stdout",
     "output_type": "stream",
     "text": [
      "630 rcm1--owi-cm-20230912t222941-20230912t223057-00003-______sw.nc\n"
     ]
    },
    {
     "data": {
      "application/vnd.jupyter.widget-view+json": {
       "model_id": "f43bed1b02674735837269fdfea2517f",
       "version_major": 2,
       "version_minor": 0
      },
      "text/plain": [
       "  0%|          | 0/50 [00:00<?, ?it/s]"
      ]
     },
     "metadata": {},
     "output_type": "display_data"
    },
    {
     "name": "stdout",
     "output_type": "stream",
     "text": [
      "631 rcm3--owi-cm-20200815t220947-20200815t221051-00003-______sw.nc\n",
      "632 s1b-ew-owi-cm-20181011t142009-20181011t142213-000003-018371_sw.nc\n",
      "633 s1a-iw-owi-cm-20200803t231311-20200803t231426-000003-03E964_sw.nc\n",
      "634 s1a-ew-owi-cm-20200316t020118-20200316t020322-000003-03A788_sw.nc\n",
      "635 rs2--owi-cm-20201030t211604-20201030t211719-00003-______sw.nc\n"
     ]
    },
    {
     "data": {
      "application/vnd.jupyter.widget-view+json": {
       "model_id": "c75f28731bae49b1bd05c0500eea2e68",
       "version_major": 2,
       "version_minor": 0
      },
      "text/plain": [
       "  0%|          | 0/50 [00:00<?, ?it/s]"
      ]
     },
     "metadata": {},
     "output_type": "display_data"
    },
    {
     "name": "stdout",
     "output_type": "stream",
     "text": [
      "636 rs2--owi-cm-20150801t072303-20150801t072419-00003-______sw.nc\n",
      "637 s1a-iw-owi-cm-20190903t111721-20190903t111901-000003-03451E_sw.nc\n",
      "638 s1a-iw-owi-cm-20191109t121137-20191109t121321-000003-0366F3_sw.nc\n",
      "639 s1a-ew-owi-cm-20191011t205230-20191011t205434-000003-03587A_sw.nc\n",
      "640 s1a-ew-owi-cm-20180907t213205-20180907t213409-000003-029225_sw.nc\n",
      "641 s1b-ew-owi-cm-20210424t090925-20210424t091159-000003-032D63_sw.nc\n",
      "642 s1b-iw-owi-cm-20171015t184330-20171015t184511-000003-00DD96_sw.nc\n",
      "643 s1a-iw-owi-cm-20220902t132305-20220902t132357-000003-055A84_sw.nc\n",
      "644 rs2--owi-cm-20220325t133717-20220325t133833-00003-______sw.nc\n",
      "645 s1a-ew-owi-cm-20201003t022600-20201003t022817-000003-04082E_sw.nc\n"
     ]
    },
    {
     "data": {
      "application/vnd.jupyter.widget-view+json": {
       "model_id": "cb348fd0fa1c47d8981546968c40326c",
       "version_major": 2,
       "version_minor": 0
      },
      "text/plain": [
       "  0%|          | 0/50 [00:00<?, ?it/s]"
      ]
     },
     "metadata": {},
     "output_type": "display_data"
    },
    {
     "name": "stdout",
     "output_type": "stream",
     "text": [
      "646 s1b-iw-owi-cm-20200918t064225-20200918t064340-000003-02C7F6_sw.nc\n",
      "647 s1b-iw-owi-cm-20170909t233357-20170909t233602-000003-00CEA5_sw.nc\n",
      "648 s1a-iw-owi-cm-20170907t102951-20170907t103127-000003-01EB76_sw.nc\n"
     ]
    },
    {
     "data": {
      "application/vnd.jupyter.widget-view+json": {
       "model_id": "0127d915ef114d43895a71ee27d10205",
       "version_major": 2,
       "version_minor": 0
      },
      "text/plain": [
       "  0%|          | 0/50 [00:00<?, ?it/s]"
      ]
     },
     "metadata": {},
     "output_type": "display_data"
    },
    {
     "name": "stdout",
     "output_type": "stream",
     "text": [
      "649 s1b-ew-owi-cm-20210314t134429-20210314t134639-000003-031A80_sw.nc\n",
      "650 s1a-iw-owi-cm-20180616t004702-20180616t004817-000003-026C31_sw.nc\n",
      "651 s1b-iw-owi-cm-20211009t104835-20211009t104954-000003-0377A7_sw.nc\n",
      "652 s1a-ew-owi-cm-20230810t051806-20230810t051909-000003-05FD6C_sw.nc\n",
      "653 s1a-iw-owi-cm-20230731t234815-20230731t234931-000003-05F92A_sw.nc\n"
     ]
    },
    {
     "data": {
      "application/vnd.jupyter.widget-view+json": {
       "model_id": "75fdad76da44415dbb10062b1e3bc7cf",
       "version_major": 2,
       "version_minor": 0
      },
      "text/plain": [
       "  0%|          | 0/50 [00:00<?, ?it/s]"
      ]
     },
     "metadata": {},
     "output_type": "display_data"
    },
    {
     "name": "stdout",
     "output_type": "stream",
     "text": [
      "Value error, file skipped.\n",
      "654 rcm1--owi-cm-20230820t014244-20230820t014402-00003-______sw.nc\n",
      "655 rs2--owi-cm-20170918t220558-20170918t221002-00003-______sw.nc\n",
      "656 s1a-iw-owi-cm-20220925t233346-20220925t233501-000003-056602_sw.nc\n",
      "657 s1a-ew-owi-cm-20180315t020105-20180315t020310-000003-024186_sw.nc\n",
      "658 s1a-iw-owi-cm-20170907t230052-20170907t230301-000003-01EBB6_sw.nc\n",
      "659 s1b-ew-owi-cm-20180811t052613-20180811t052854-000003-0167F5_sw.nc\n",
      "660 s1b-ew-owi-cm-20180303t150001-20180303t150306-000003-011DA1_sw.nc\n",
      "661 s1a-ew-owi-cm-20230806t091256-20230806t091359-000003-05FB8C_sw.nc\n",
      "662 s1b-ew-owi-cm-20210904t085102-20210904t085352-000003-036818_sw.nc\n"
     ]
    },
    {
     "data": {
      "application/vnd.jupyter.widget-view+json": {
       "model_id": "b9ced455508e41d7a07081addf61bfb6",
       "version_major": 2,
       "version_minor": 0
      },
      "text/plain": [
       "  0%|          | 0/50 [00:00<?, ?it/s]"
      ]
     },
     "metadata": {},
     "output_type": "display_data"
    },
    {
     "name": "stdout",
     "output_type": "stream",
     "text": [
      "663 rcm1--owi-cm-20211002t015418-20211002t015522-00003-______sw.nc\n",
      "664 rs2--owi-cm-20191007t202139-20191007t202254-00003-______sw.nc\n",
      "665 s1b-ew-owi-cm-20181006t095207-20181006t095411-000003-01811B_sw.nc\n",
      "666 s1b-ew-owi-cm-20180829t075408-20180829t075612-000003-017011_sw.nc\n"
     ]
    },
    {
     "data": {
      "application/vnd.jupyter.widget-view+json": {
       "model_id": "1d09ad53618047b1a301630c0e53d95a",
       "version_major": 2,
       "version_minor": 0
      },
      "text/plain": [
       "  0%|          | 0/50 [00:00<?, ?it/s]"
      ]
     },
     "metadata": {},
     "output_type": "display_data"
    },
    {
     "name": "stdout",
     "output_type": "stream",
     "text": [
      "667 rcm2--owi-cm-20220922t223853-20220922t224117-00003-______sw.nc\n",
      "668 s1a-ew-owi-cm-20231005t222235-20231005t222338-000003-0619B2_sw.nc\n",
      "669 s1b-iw-owi-cm-20190810t095340-20190810t095455-000003-020F3E_sw.nc\n",
      "670 s1b-iw-owi-cm-20210904t102144-20210904t102324-000003-03681F_sw.nc\n",
      "671 s1b-ew-owi-cm-20211216t093851-20211216t094205-000003-03967A_sw.nc\n",
      "672 rcm3--owi-cm-20230625t220440-20230625t220554-00003-______sw.nc\n",
      "673 rcm1--owi-cm-20221031t215842-20221031t220134-00003-______sw.nc\n",
      "674 s1b-iw-owi-cm-20190323t213833-20190323t214017-000003-01D040_sw.nc\n",
      "675 rcm2--owi-cm-20230522t082128-20230522t082226-00003-______sw.nc\n"
     ]
    },
    {
     "data": {
      "application/vnd.jupyter.widget-view+json": {
       "model_id": "2a709253cc2447a1a98fe6c9a6b83c75",
       "version_major": 2,
       "version_minor": 0
      },
      "text/plain": [
       "  0%|          | 0/50 [00:00<?, ?it/s]"
      ]
     },
     "metadata": {},
     "output_type": "display_data"
    },
    {
     "name": "stdout",
     "output_type": "stream",
     "text": [
      "676 rs2--owi-cm-20160721t153232-20160721t153512-00003-______sw.nc\n",
      "677 rcm3--owi-cm-20230224t134245-20230224t134402-00003-______sw.nc\n",
      "678 s1b-iw-owi-cm-20170825t095721-20170825t095901-000003-00C80B_sw.nc\n",
      "679 s1a-ew-owi-cm-20190216t072052-20190216t072256-000003-02E3FF_sw.nc\n",
      "680 s1a-iw-owi-cm-20180807t203457-20180807t203609-000003-02839F_sw.nc\n",
      "681 rcm2--owi-cm-20201024t100124-20201024t100220-00003-______sw.nc\n",
      "682 s1a-iw-owi-cm-20191126t071356-20191126t071511-000003-036F6F_sw.nc\n",
      "683 rcm1--owi-cm-20210805t093804-20210805t093904-00003-______sw.nc\n",
      "684 rs2--owi-cm-20160927t100715-20160927t100932-00003-______sw.nc\n",
      "685 rcm2--owi-cm-20230630t124025-20230630t124115-00003-______sw.nc\n",
      "686 s1a-iw-owi-cm-20210419t094935-20210419t095129-000003-046C7F_sw.nc\n",
      "687 s1b-ew-owi-cm-20191025t081225-20191025t081426-000003-023199_sw.nc\n",
      "688 rs2--owi-cm-20220204t014121-20220204t014345-00003-______sw.nc\n",
      "689 s1a-ew-owi-cm-20160831t031520-20160831t031712-000003-014425_sw.nc\n"
     ]
    },
    {
     "data": {
      "application/vnd.jupyter.widget-view+json": {
       "model_id": "e258692395794bb5921580e01ee94274",
       "version_major": 2,
       "version_minor": 0
      },
      "text/plain": [
       "  0%|          | 0/50 [00:00<?, ?it/s]"
      ]
     },
     "metadata": {},
     "output_type": "display_data"
    },
    {
     "name": "stdout",
     "output_type": "stream",
     "text": [
      "690 s1a-ew-owi-cm-20201225t144526-20201225t144819-000003-04324A_sw.nc\n",
      "691 rcm3--owi-cm-20211103t113747-20211103t113911-00003-______sw.nc\n",
      "692 s1a-iw-owi-cm-20170903t102458-20170903t102552-000003-01E9AD_sw.nc\n",
      "693 rs2--owi-cm-20220407t182127-20220407t182351-00003-______sw.nc\n",
      "694 s1a-iw-owi-cm-20170908t220217-20170908t220421-000003-01EC26_sw.nc\n"
     ]
    },
    {
     "data": {
      "application/vnd.jupyter.widget-view+json": {
       "model_id": "2830423ab8b44d27b8bf509dd57f1294",
       "version_major": 2,
       "version_minor": 0
      },
      "text/plain": [
       "  0%|          | 0/50 [00:00<?, ?it/s]"
      ]
     },
     "metadata": {},
     "output_type": "display_data"
    },
    {
     "name": "stdout",
     "output_type": "stream",
     "text": [
      "695 s1b-ew-owi-cm-20210929t220202-20210929t220436-000003-037380_sw.nc\n",
      "696 rcm1--owi-cm-20230912t083507-20230912t083624-00003-______sw.nc\n"
     ]
    },
    {
     "data": {
      "application/vnd.jupyter.widget-view+json": {
       "model_id": "445d7d3c99a84483936f45ba66714694",
       "version_major": 2,
       "version_minor": 0
      },
      "text/plain": [
       "  0%|          | 0/50 [00:00<?, ?it/s]"
      ]
     },
     "metadata": {},
     "output_type": "display_data"
    },
    {
     "name": "stdout",
     "output_type": "stream",
     "text": [
      "697 s1a-ew-owi-cm-20201030t092540-20201030t092711-000003-0415F8_sw.nc\n"
     ]
    },
    {
     "data": {
      "application/vnd.jupyter.widget-view+json": {
       "model_id": "83e8e640f8bc4ee086d4b5c77f2c070f",
       "version_major": 2,
       "version_minor": 0
      },
      "text/plain": [
       "  0%|          | 0/50 [00:00<?, ?it/s]"
      ]
     },
     "metadata": {},
     "output_type": "display_data"
    },
    {
     "name": "stdout",
     "output_type": "stream",
     "text": [
      "698 rcm2--owi-cm-20230813t063847-20230813t064004-00003-______sw.nc\n",
      "699 rcm1--owi-cm-20230301t072418-20230301t072558-00003-______sw.nc\n",
      "700 rcm3--owi-cm-20230211t223559-20230211t223717-00003-______sw.nc\n",
      "701 s1a-iw-owi-cm-20211011t215414-20211011t215508-000003-04BEC0_sw.nc\n",
      "702 rcm2--owi-cm-20230815t034012-20230815t034128-00003-______sw.nc\n",
      "703 s1a-ew-owi-cm-20190427t123324-20190427t123528-000003-03095B_sw.nc\n",
      "704 rs2--owi-cm-20150904t181517-20150904t181633-00003-______sw.nc\n"
     ]
    },
    {
     "data": {
      "application/vnd.jupyter.widget-view+json": {
       "model_id": "2babf232d913449c962966116499b527",
       "version_major": 2,
       "version_minor": 0
      },
      "text/plain": [
       "  0%|          | 0/50 [00:00<?, ?it/s]"
      ]
     },
     "metadata": {},
     "output_type": "display_data"
    },
    {
     "name": "stdout",
     "output_type": "stream",
     "text": [
      "705 rcm3--owi-cm-20230214t122357-20230214t122511-00003-______sw.nc\n"
     ]
    },
    {
     "data": {
      "application/vnd.jupyter.widget-view+json": {
       "model_id": "cd82e037ccb545e19cd25612b11413be",
       "version_major": 2,
       "version_minor": 0
      },
      "text/plain": [
       "  0%|          | 0/50 [00:00<?, ?it/s]"
      ]
     },
     "metadata": {},
     "output_type": "display_data"
    },
    {
     "name": "stdout",
     "output_type": "stream",
     "text": [
      "706 rs2--owi-cm-20180822t042043-20180822t042200-00003-______sw.nc\n"
     ]
    },
    {
     "data": {
      "application/vnd.jupyter.widget-view+json": {
       "model_id": "9dfc863086c94ca7b9a5a5c1a5db9cfc",
       "version_major": 2,
       "version_minor": 0
      },
      "text/plain": [
       "  0%|          | 0/50 [00:00<?, ?it/s]"
      ]
     },
     "metadata": {},
     "output_type": "display_data"
    },
    {
     "name": "stdout",
     "output_type": "stream",
     "text": [
      "707 rs2--owi-cm-20150830t154150-20150830t154305-00003-______sw.nc\n"
     ]
    },
    {
     "data": {
      "application/vnd.jupyter.widget-view+json": {
       "model_id": "560f34f6a45b49609c830af73013fc76",
       "version_major": 2,
       "version_minor": 0
      },
      "text/plain": [
       "  0%|          | 0/50 [00:00<?, ?it/s]"
      ]
     },
     "metadata": {},
     "output_type": "display_data"
    },
    {
     "name": "stdout",
     "output_type": "stream",
     "text": [
      "708 rs2--owi-cm-20161015t202838-20161015t202954-00003-______sw.nc\n",
      "709 rcm2--owi-cm-20210919t213726-20210919t213938-00003-______sw.nc\n",
      "710 rs2--owi-cm-20210928t210026-20210928t210249-00003-______sw.nc\n",
      "711 rs2--owi-cm-20220905t212253-20220905t212516-00003-______sw.nc\n",
      "712 rcm1--owi-cm-20230421t075617-20230421t075757-00003-______sw.nc\n",
      "713 rs2--owi-cm-20220908t091428-20220908t091544-00003-______sw.nc\n",
      "714 rcm1--owi-cm-20220727t005918-20220727t010014-00003-______sw.nc\n",
      "715 s1a-iw-owi-cm-20180825t163219-20180825t163334-000003-028C00_sw.nc\n",
      "716 rcm2--owi-cm-20230513t235455-20230513t235607-00003-______sw.nc\n",
      "717 rcm1--owi-cm-20230918t092413-20230918t092530-00003-______sw.nc\n",
      "718 rcm3--owi-cm-20200915t212936-20200915t213056-00003-______sw.nc\n",
      "719 s1a-iw-owi-cm-20180823t093905-20180823t093959-000003-028AED_sw.nc\n",
      "720 rcm3--owi-cm-20210823t011746-20210823t011914-00003-______sw.nc\n",
      "721 rcm2--owi-cm-20230302t174042-20230302t174159-00003-______sw.nc\n",
      "722 s1b-ew-owi-cm-20180201t002120-20180201t002425-000003-010EF2_sw.nc\n",
      "723 s1b-iw-owi-cm-20210725t214953-20210725t215108-000003-0355E9_sw.nc\n",
      "724 s1b-ew-owi-cm-20180727t202558-20180727t202902-000003-016188_sw.nc\n",
      "725 rcm2--owi-cm-20230421t192410-20230421t192527-00003-______sw.nc\n",
      "726 s1a-iw-owi-cm-20210907t213854-20210907t214009-000003-04ADC3_sw.nc\n",
      "727 rcm1--owi-cm-20230126t154314-20230126t154431-00003-______sw.nc\n",
      "728 s1a-ew-owi-cm-20180303t020023-20180303t020327-000003-023BFA_sw.nc\n",
      "729 s1a-ew-owi-cm-20181110t020115-20181110t020319-000003-02B0A7_sw.nc\n",
      "730 rcm2--owi-cm-20201103t112751-20201103t112855-00003-______sw.nc\n",
      "731 s1b-ew-owi-cm-20180902t022508-20180902t022712-000003-0171D9_sw.nc\n"
     ]
    },
    {
     "data": {
      "application/vnd.jupyter.widget-view+json": {
       "model_id": "357948a4314b4a67b1a4cd189e2b06ad",
       "version_major": 2,
       "version_minor": 0
      },
      "text/plain": [
       "  0%|          | 0/50 [00:00<?, ?it/s]"
      ]
     },
     "metadata": {},
     "output_type": "display_data"
    },
    {
     "name": "stdout",
     "output_type": "stream",
     "text": [
      "732 rs2--owi-cm-20200930t064859-20200930t065230-00003-______sw.nc\n",
      "733 rs2--owi-cm-20220131t142221-20220131t142445-00003-______sw.nc\n",
      "734 s1b-ew-owi-cm-20190704t023228-20190704t023438-000003-01FF1E_sw.nc\n",
      "735 rs2--owi-cm-20210311t002612-20210311t002728-00003-______sw.nc\n"
     ]
    },
    {
     "data": {
      "application/vnd.jupyter.widget-view+json": {
       "model_id": "128328bf627a43bbafc25c8a909a75f6",
       "version_major": 2,
       "version_minor": 0
      },
      "text/plain": [
       "  0%|          | 0/50 [00:00<?, ?it/s]"
      ]
     },
     "metadata": {},
     "output_type": "display_data"
    },
    {
     "name": "stdout",
     "output_type": "stream",
     "text": [
      "736 s1a-ew-owi-cm-20210925t204659-20210925t204934-000003-04B69E_sw.nc\n"
     ]
    },
    {
     "data": {
      "application/vnd.jupyter.widget-view+json": {
       "model_id": "42c1ee880d4e4f31a6fbd26bb4dd3529",
       "version_major": 2,
       "version_minor": 0
      },
      "text/plain": [
       "  0%|          | 0/50 [00:00<?, ?it/s]"
      ]
     },
     "metadata": {},
     "output_type": "display_data"
    },
    {
     "name": "stdout",
     "output_type": "stream",
     "text": [
      "737 rs2--owi-cm-20141004t210600-20141004t210715-00003-______sw.nc\n"
     ]
    },
    {
     "data": {
      "application/vnd.jupyter.widget-view+json": {
       "model_id": "f96594f7f71f4b35b401ed18270bf5c8",
       "version_major": 2,
       "version_minor": 0
      },
      "text/plain": [
       "  0%|          | 0/50 [00:00<?, ?it/s]"
      ]
     },
     "metadata": {},
     "output_type": "display_data"
    },
    {
     "name": "stdout",
     "output_type": "stream",
     "text": [
      "738 s1a-ew-owi-cm-20200904t210200-20200904t210504-000003-03F9A9_sw.nc\n"
     ]
    },
    {
     "data": {
      "application/vnd.jupyter.widget-view+json": {
       "model_id": "18909895022341b8bd5bcc04d148320f",
       "version_major": 2,
       "version_minor": 0
      },
      "text/plain": [
       "  0%|          | 0/50 [00:00<?, ?it/s]"
      ]
     },
     "metadata": {},
     "output_type": "display_data"
    },
    {
     "name": "stdout",
     "output_type": "stream",
     "text": [
      "739 s1a-ew-owi-cm-20220902t213553-20220902t213720-000003-055AAC_sw.nc\n",
      "740 rcm2--owi-cm-20210218t205250-20210218t210210-00003-______sw.nc\n",
      "741 s1a-iw-owi-cm-20190104t230955-20190104t231135-000003-02CDC3_sw.nc\n",
      "742 rs2--owi-cm-20200916t091217-20200916t091548-00003-______sw.nc\n",
      "743 s1a-ew-owi-cm-20220706t130750-20220706t130915-000003-053FF6_sw.nc\n",
      "744 rcm2--owi-cm-20200623t220134-20200623t220238-00003-______sw.nc\n",
      "745 rs2--owi-cm-20140717t225349-20140717t225504-00003-______sw.nc\n",
      "746 rs2--owi-cm-20210905t213342-20210905t213606-00003-______sw.nc\n"
     ]
    },
    {
     "data": {
      "application/vnd.jupyter.widget-view+json": {
       "model_id": "f123cec251ad43848e2a3988c27b18bc",
       "version_major": 2,
       "version_minor": 0
      },
      "text/plain": [
       "  0%|          | 0/50 [00:00<?, ?it/s]"
      ]
     },
     "metadata": {},
     "output_type": "display_data"
    },
    {
     "name": "stdout",
     "output_type": "stream",
     "text": [
      "747 s1a-ew-owi-cm-20230802t094501-20230802t094605-000003-05F9CD_sw.nc\n",
      "748 rcm2--owi-cm-20230808t161815-20230808t161931-00003-______sw.nc\n"
     ]
    },
    {
     "data": {
      "application/vnd.jupyter.widget-view+json": {
       "model_id": "6b40dce29d9f4e85b4d198bccc21e5c9",
       "version_major": 2,
       "version_minor": 0
      },
      "text/plain": [
       "  0%|          | 0/50 [00:00<?, ?it/s]"
      ]
     },
     "metadata": {},
     "output_type": "display_data"
    },
    {
     "name": "stdout",
     "output_type": "stream",
     "text": [
      "Value error, file skipped.\n",
      "749 s1b-ew-owi-cm-20180927t012700-20180927t012925-000003-017CFC_sw.nc\n",
      "750 s1b-ew-owi-cm-20190426t233222-20190426t233402-000003-01E0B1_sw.nc\n",
      "751 rcm3--owi-cm-20230515t131440-20230515t131555-00003-______sw.nc\n"
     ]
    },
    {
     "data": {
      "application/vnd.jupyter.widget-view+json": {
       "model_id": "61fed650b6aa42bbb31d681882d40b75",
       "version_major": 2,
       "version_minor": 0
      },
      "text/plain": [
       "  0%|          | 0/50 [00:00<?, ?it/s]"
      ]
     },
     "metadata": {},
     "output_type": "display_data"
    },
    {
     "name": "stdout",
     "output_type": "stream",
     "text": [
      "752 s1a-iw-owi-cm-20180823t043704-20180823t043913-000003-028AD1_sw.nc\n"
     ]
    },
    {
     "data": {
      "application/vnd.jupyter.widget-view+json": {
       "model_id": "ec0c13522308433a8cad08e454d9a5b3",
       "version_major": 2,
       "version_minor": 0
      },
      "text/plain": [
       "  0%|          | 0/50 [00:00<?, ?it/s]"
      ]
     },
     "metadata": {},
     "output_type": "display_data"
    },
    {
     "name": "stdout",
     "output_type": "stream",
     "text": [
      "753 s1a-iw-owi-cm-20190827t095110-20190827t095204-000003-03418D_sw.nc\n",
      "754 rs2--owi-cm-20141003t131421-20141003t131537-00003-______sw.nc\n",
      "755 rs2--owi-cm-20150903t044155-20150903t044311-00003-______sw.nc\n",
      "756 rs2--owi-cm-20161105t201351-20161105t201507-00003-______sw.nc\n",
      "757 s1b-iw-owi-cm-20200906t213202-20200906t213312-000003-02C2BE_sw.nc\n",
      "758 s1b-ew-owi-cm-20181003t053409-20181003t053714-000003-017FB4_sw.nc\n",
      "759 rs2--owi-cm-20151001t225145-20151001t225425-00003-______sw.nc\n",
      "760 rs2--owi-cm-20170802t185532-20170802t185648-00003-______sw.nc\n",
      "761 rs2--owi-cm-20201110t233727-20201110t233842-00003-______sw.nc\n",
      "762 rs2--owi-cm-20210820t224430-20210820t224546-00003-______sw.nc\n",
      "763 s1b-ew-owi-cm-20180810t165606-20180810t165822-000003-0167B7_sw.nc\n"
     ]
    },
    {
     "data": {
      "application/vnd.jupyter.widget-view+json": {
       "model_id": "ab32a987e7834e549658732171008516",
       "version_major": 2,
       "version_minor": 0
      },
      "text/plain": [
       "  0%|          | 0/50 [00:00<?, ?it/s]"
      ]
     },
     "metadata": {},
     "output_type": "display_data"
    },
    {
     "name": "stdout",
     "output_type": "stream",
     "text": [
      "764 s1a-iw-owi-cm-20191201t212303-20191201t212357-000003-037255_sw.nc\n",
      "765 rs2--owi-cm-20140803t143514-20140803t143630-00003-______sw.nc\n"
     ]
    },
    {
     "data": {
      "application/vnd.jupyter.widget-view+json": {
       "model_id": "15892c28abf142c296f93b6303c7ed35",
       "version_major": 2,
       "version_minor": 0
      },
      "text/plain": [
       "  0%|          | 0/50 [00:00<?, ?it/s]"
      ]
     },
     "metadata": {},
     "output_type": "display_data"
    },
    {
     "name": "stdout",
     "output_type": "stream",
     "text": [
      "766 rs2--owi-cm-20180912t091024-20180912t091140-00003-______sw.nc\n"
     ]
    },
    {
     "data": {
      "application/vnd.jupyter.widget-view+json": {
       "model_id": "ebded7527cbf439d8f87945943795868",
       "version_major": 2,
       "version_minor": 0
      },
      "text/plain": [
       "  0%|          | 0/50 [00:00<?, ?it/s]"
      ]
     },
     "metadata": {},
     "output_type": "display_data"
    },
    {
     "name": "stdout",
     "output_type": "stream",
     "text": [
      "767 s1b-iw-owi-cm-20170920t102114-20170920t102319-000003-00D31F_sw.nc\n",
      "768 rs2--owi-cm-20200919t221407-20200919t221523-00003-______sw.nc\n",
      "769 rs2--owi-cm-20191105t135113-20191105t135447-00003-______sw.nc\n",
      "770 rs2--owi-cm-20151003t104333-20151003t104734-00003-______sw.nc\n"
     ]
    },
    {
     "data": {
      "application/vnd.jupyter.widget-view+json": {
       "model_id": "30de7086385d482481cfc77b75abe31f",
       "version_major": 2,
       "version_minor": 0
      },
      "text/plain": [
       "  0%|          | 0/50 [00:00<?, ?it/s]"
      ]
     },
     "metadata": {},
     "output_type": "display_data"
    },
    {
     "name": "stdout",
     "output_type": "stream",
     "text": [
      "771 s1a-iw-owi-cm-20201112t232103-20201112t232243-000003-041CD6_sw.nc\n",
      "772 s1b-ew-owi-cm-20190223t202348-20190223t202552-000003-01C2E0_sw.nc\n"
     ]
    },
    {
     "data": {
      "application/vnd.jupyter.widget-view+json": {
       "model_id": "517ae56ef89947c7b074ddbd73caaf9c",
       "version_major": 2,
       "version_minor": 0
      },
      "text/plain": [
       "  0%|          | 0/50 [00:00<?, ?it/s]"
      ]
     },
     "metadata": {},
     "output_type": "display_data"
    },
    {
     "name": "stdout",
     "output_type": "stream",
     "text": [
      "773 rcm3--owi-cm-20221223t235548-20221223t235732-00003-______sw.nc\n"
     ]
    },
    {
     "data": {
      "application/vnd.jupyter.widget-view+json": {
       "model_id": "4c1cafc3a1d7401e9c8b289b7f415aa7",
       "version_major": 2,
       "version_minor": 0
      },
      "text/plain": [
       "  0%|          | 0/50 [00:00<?, ?it/s]"
      ]
     },
     "metadata": {},
     "output_type": "display_data"
    },
    {
     "name": "stdout",
     "output_type": "stream",
     "text": [
      "774 s1b-ew-owi-cm-20180818t083657-20180818t084001-000003-016B1D_sw.nc\n"
     ]
    },
    {
     "data": {
      "application/vnd.jupyter.widget-view+json": {
       "model_id": "a3fc9bdbb21f4f3ab7a139d8442151c7",
       "version_major": 2,
       "version_minor": 0
      },
      "text/plain": [
       "  0%|          | 0/50 [00:00<?, ?it/s]"
      ]
     },
     "metadata": {},
     "output_type": "display_data"
    },
    {
     "name": "stdout",
     "output_type": "stream",
     "text": [
      "775 rs2--owi-cm-20180818t080233-20180818t080350-00003-______sw.nc\n"
     ]
    },
    {
     "data": {
      "application/vnd.jupyter.widget-view+json": {
       "model_id": "5a8b5e4b44c8459e92d5856093b260ae",
       "version_major": 2,
       "version_minor": 0
      },
      "text/plain": [
       "  0%|          | 0/50 [00:00<?, ?it/s]"
      ]
     },
     "metadata": {},
     "output_type": "display_data"
    },
    {
     "name": "stdout",
     "output_type": "stream",
     "text": [
      "776 s1a-iw-owi-cm-20231019t220229-20231019t220344-000003-0620B5_sw.nc\n",
      "777 rs2--owi-cm-20220201t012801-20220201t013025-00003-______sw.nc\n",
      "778 s1a-ew-owi-cm-20170304t144459-20170304t144700-000003-0198B5_sw.nc\n",
      "779 s1b-iw-owi-cm-20190829t102127-20190829t102221-000003-0217F3_sw.nc\n"
     ]
    },
    {
     "data": {
      "application/vnd.jupyter.widget-view+json": {
       "model_id": "a840a2f7f59d404bba153039db0df9ff",
       "version_major": 2,
       "version_minor": 0
      },
      "text/plain": [
       "  0%|          | 0/50 [00:00<?, ?it/s]"
      ]
     },
     "metadata": {},
     "output_type": "display_data"
    },
    {
     "name": "stdout",
     "output_type": "stream",
     "text": [
      "780 s1a-iw-owi-cm-20180614t131412-20180614t131527-000003-026B91_sw.nc\n",
      "781 s1a-ew-owi-cm-20220225t023102-20220225t023202-000003-0502C7_sw.nc\n",
      "782 s1a-ew-owi-cm-20230809t165107-20230809t165210-000003-05FD3D_sw.nc\n"
     ]
    },
    {
     "data": {
      "application/vnd.jupyter.widget-view+json": {
       "model_id": "ec88836fd4f44850a5760bb76235dd48",
       "version_major": 2,
       "version_minor": 0
      },
      "text/plain": [
       "  0%|          | 0/50 [00:00<?, ?it/s]"
      ]
     },
     "metadata": {},
     "output_type": "display_data"
    },
    {
     "name": "stdout",
     "output_type": "stream",
     "text": [
      "783 s1b-ew-owi-cm-20180830t033808-20180830t034113-000003-017077_sw.nc\n",
      "784 s1a-ew-owi-cm-20200921t221437-20200921t221737-000003-040280_sw.nc\n",
      "785 rcm3--owi-cm-20210615t101737-20210615t101821-00003-______sw.nc\n",
      "786 rs2--owi-cm-20220129t134018-20220129t134242-00003-______sw.nc\n",
      "787 s1a-ew-owi-cm-20180831t203802-20180831t204009-000003-028EDA_sw.nc\n"
     ]
    },
    {
     "data": {
      "application/vnd.jupyter.widget-view+json": {
       "model_id": "c6bb0aa8cdf34d33a73ed69372617192",
       "version_major": 2,
       "version_minor": 0
      },
      "text/plain": [
       "  0%|          | 0/50 [00:00<?, ?it/s]"
      ]
     },
     "metadata": {},
     "output_type": "display_data"
    },
    {
     "name": "stdout",
     "output_type": "stream",
     "text": [
      "788 s1a-ew-owi-cm-20210310t133058-20210310t133232-000003-045873_sw.nc\n",
      "789 rs2--owi-cm-20160912t212718-20160912t213122-00003-______sw.nc\n"
     ]
    },
    {
     "data": {
      "application/vnd.jupyter.widget-view+json": {
       "model_id": "66591a1eec66408c94cbdb393220e4f3",
       "version_major": 2,
       "version_minor": 0
      },
      "text/plain": [
       "  0%|          | 0/50 [00:00<?, ?it/s]"
      ]
     },
     "metadata": {},
     "output_type": "display_data"
    },
    {
     "name": "stdout",
     "output_type": "stream",
     "text": [
      "790 rs2--owi-cm-20141101t123041-20141101t123157-00003-______sw.nc\n",
      "791 s1a-ew-owi-cm-20190425t234054-20190425t234228-000003-03087C_sw.nc\n",
      "792 rcm3--owi-cm-20221230t004731-20221230t004911-00003-______sw.nc\n",
      "793 s1a-iw-owi-cm-20221110t111737-20221110t111852-000003-057B92_sw.nc\n",
      "794 s1b-iw-owi-cm-20180806t123350-20180806t123432-000003-0165C4_sw.nc\n",
      "795 s1b-ew-owi-cm-20190926t203852-20190926t204117-000003-0224BA_sw.nc\n",
      "796 rs2--owi-cm-20210419t212838-20210419t212954-00003-______sw.nc\n"
     ]
    },
    {
     "data": {
      "application/vnd.jupyter.widget-view+json": {
       "model_id": "0df249b33769479f87353f31723d955e",
       "version_major": 2,
       "version_minor": 0
      },
      "text/plain": [
       "  0%|          | 0/50 [00:00<?, ?it/s]"
      ]
     },
     "metadata": {},
     "output_type": "display_data"
    },
    {
     "name": "stdout",
     "output_type": "stream",
     "text": [
      "797 rs2--owi-cm-20180707t090716-20180707t090831-00003-______sw.nc\n",
      "798 rcm1--owi-cm-20211003t020213-20211003t020301-00003-______sw.nc\n"
     ]
    },
    {
     "data": {
      "application/vnd.jupyter.widget-view+json": {
       "model_id": "4d277deec44b4b65ba3ec771d3c935e6",
       "version_major": 2,
       "version_minor": 0
      },
      "text/plain": [
       "  0%|          | 0/50 [00:00<?, ?it/s]"
      ]
     },
     "metadata": {},
     "output_type": "display_data"
    },
    {
     "name": "stdout",
     "output_type": "stream",
     "text": [
      "799 rs2--owi-cm-20221001t011932-20221001t012048-00003-______sw.nc\n",
      "800 s1b-ew-owi-cm-20180725t204505-20180725t204810-000003-016099_sw.nc\n",
      "801 rcm3--owi-cm-20230516t132231-20230516t132346-00003-______sw.nc\n"
     ]
    },
    {
     "data": {
      "application/vnd.jupyter.widget-view+json": {
       "model_id": "457e0c1a9c7b4bdc8d6569e80eb43dd8",
       "version_major": 2,
       "version_minor": 0
      },
      "text/plain": [
       "  0%|          | 0/50 [00:00<?, ?it/s]"
      ]
     },
     "metadata": {},
     "output_type": "display_data"
    },
    {
     "name": "stdout",
     "output_type": "stream",
     "text": [
      "802 rs2--owi-cm-20210625t203111-20210625t203227-00003-______sw.nc\n",
      "803 s1a-iw-owi-cm-20170215t161335-20170215t161522-000003-019126_sw.nc\n"
     ]
    },
    {
     "data": {
      "application/vnd.jupyter.widget-view+json": {
       "model_id": "31241052437344639da763e20b85ec61",
       "version_major": 2,
       "version_minor": 0
      },
      "text/plain": [
       "  0%|          | 0/50 [00:00<?, ?it/s]"
      ]
     },
     "metadata": {},
     "output_type": "display_data"
    },
    {
     "name": "stdout",
     "output_type": "stream",
     "text": [
      "804 rs2--owi-cm-20191024t202109-20191024t202332-00003-______sw.nc\n",
      "805 rcm1--owi-cm-20210929t085655-20210929t085807-00003-______sw.nc\n"
     ]
    },
    {
     "data": {
      "application/vnd.jupyter.widget-view+json": {
       "model_id": "d189005b587b42459daa881228eef2da",
       "version_major": 2,
       "version_minor": 0
      },
      "text/plain": [
       "  0%|          | 0/50 [00:00<?, ?it/s]"
      ]
     },
     "metadata": {},
     "output_type": "display_data"
    },
    {
     "name": "stdout",
     "output_type": "stream",
     "text": [
      "806 rs2--owi-cm-20210821t002115-20210821t002339-00003-______sw.nc\n"
     ]
    },
    {
     "data": {
      "application/vnd.jupyter.widget-view+json": {
       "model_id": "5c620de6f83e4c99b6d589e72ae9bb76",
       "version_major": 2,
       "version_minor": 0
      },
      "text/plain": [
       "  0%|          | 0/50 [00:00<?, ?it/s]"
      ]
     },
     "metadata": {},
     "output_type": "display_data"
    },
    {
     "name": "stdout",
     "output_type": "stream",
     "text": [
      "807 s1b-iw-owi-cm-20210920t095734-20210920t095828-000003-036F42_sw.nc\n",
      "808 s1a-ew-owi-cm-20160825t210916-20160825t211126-000003-014199_sw.nc\n",
      "809 s1b-ew-owi-cm-20180930t140209-20180930t140413-000003-017E8D_sw.nc\n",
      "810 rs2--owi-cm-20160724t140547-20160724t140702-00003-______sw.nc\n"
     ]
    },
    {
     "data": {
      "application/vnd.jupyter.widget-view+json": {
       "model_id": "b72dd3dbb93248008feb177f8b7140b2",
       "version_major": 2,
       "version_minor": 0
      },
      "text/plain": [
       "  0%|          | 0/50 [00:00<?, ?it/s]"
      ]
     },
     "metadata": {},
     "output_type": "display_data"
    },
    {
     "name": "stdout",
     "output_type": "stream",
     "text": [
      "811 rs2--owi-cm-20201008t115043-20201008t115306-00003-______sw.nc\n",
      "812 rcm3--owi-cm-20230215t003856-20230215t004011-00003-______sw.nc\n",
      "813 s1a-ew-owi-cm-20180831t140403-20180831t140607-000003-028EBB_sw.nc\n",
      "814 s1a-iw-owi-cm-20210724t095328-20210724t095512-000003-049797_sw.nc\n",
      "815 s1b-ew-owi-cm-20181222t002236-20181222t002440-000003-01A498_sw.nc\n"
     ]
    },
    {
     "data": {
      "text/plain": [
       "<Figure size 1500x1000 with 0 Axes>"
      ]
     },
     "metadata": {},
     "output_type": "display_data"
    }
   ],
   "source": [
    "for idx, file in tqdm(enumerate(all_data)):\n",
    "    try: \n",
    "        # Open file\n",
    "        dsp = xr.open_dataset(file).isel(time=0)\n",
    "        ds  = dsg.where(dsg.file == dsp.attrs['Source satellite file'], drop=True).isel(time=0)\n",
    "\n",
    "        # Fixed parameters\n",
    "        vmx = float(ds.vmx)\n",
    "        rmx = float(ds.rmx)\n",
    "        vmn = float(ds.vmn)\n",
    "        B   = float(ds.B_hol)\n",
    "        lat = float(ds.lat)\n",
    "        fcr = float(ds.fcor)\n",
    "        \n",
    "        # Holland with fixed parameters\n",
    "        V   = h80(rs, vmx, rmx, B, lat, vmn)\n",
    "        Vs  = np.stack([V for i in range(np.shape(THs)[0])]) # Shape (361, 5000)\n",
    "        \n",
    "        # Area of model validity\n",
    "        try:\n",
    "            I_Vr         = (I(Rs, Vs, fcr) - Vs / rs)[0, :]    # I - V/r\n",
    "            r_stt, r_end = rs[I_Vr <= 0][0], rs[I_Vr <= 0][-1] # Define the bounds\n",
    "        except IndexError:\n",
    "            pass\n",
    "        \n",
    "        # Prepare averagings\n",
    "        timescale   = 1 / I(Rs, Vs, fcr)[0, :] # time needed for the BL to develop\n",
    "        radialscale = timescale * Vs[0, :] / 5 # radial distance travelled by an air parcel in the meantime, considering that U/V = 5\n",
    "        tangenscale = timescale * Vs[0, :]     # tangential distance travelled by an air parcel in the meantime\n",
    "        thetascale  = 360 * tangenscale / (2 * np.pi * rs) # convert this tangential distance to theta\n",
    "        \n",
    "        print(idx, ds.file.item())\n",
    "        \n",
    "        if (ds.center_quality_flag < 2) & (ds.percent_outside < 10) & (abs(ds.lat) < 30) & (ds.vmx >= 33):\n",
    "            # x-axis\n",
    "            xs = np.linspace(ds.rmx, 2 * ds.rps, 50)\n",
    "\n",
    "            # Asymmetries\n",
    "            ASS  = []\n",
    "            AS2  = []\n",
    "            AS3  = []\n",
    "            ASQ  = []\n",
    "            rads = []\n",
    "            ERR  = []\n",
    "            for rad in tqdm(xs):\n",
    "                try:\n",
    "                    # dsp.sel(rad=rad, method='nearest').wind_speed.fillna(dsp.sel(rad=rad, method='nearest').wind_speed.mean(skipna=True)).plot()\n",
    "                    # ass, _, _ = get_wn1(np.deg2rad(dsp.theta), dsp.sel(rad=rad, method='nearest').wind_speed.fillna(dsp.sel(rad=rad, method='nearest').wind_speed.mean(skipna=True)), float(ds.vps), float(ds.vmx))\n",
    "                    valid_dsp     = dsp.sel(rad=rad, method='nearest').dropna(subset=['wind_speed'], dim='theta')\n",
    "                    ass, phi, c   = get_wn1(np.deg2rad(valid_dsp.theta), valid_dsp.wind_speed, float(ds.vps), float(ds.vmx))\n",
    "                    error         = float(rmse(wn1(np.deg2rad(valid_dsp.theta), ass, phi, c), valid_dsp.wind_speed)) \n",
    "                    ASS.append(ass)\n",
    "                    ERR.append(error)\n",
    "                    \n",
    "                    # Preparing averagings\n",
    "                    avg_on_u = radialscale[rs >= rad][0]\n",
    "                    avg_on_v = int(thetascale[rs >= rad][0])\n",
    "                    \n",
    "                    # Average on theta\n",
    "                    valid_dsp2      = dsp.sel(rad=rad, method='nearest').rolling(theta=avg_on_v, center=True, min_periods=2).mean().dropna(subset=['wind_speed'], dim='theta')\n",
    "                    as2, phi2, c2   = get_wn1(np.deg2rad(valid_dsp2.theta), valid_dsp2.wind_speed, float(ds.vps), float(ds.vmx))\n",
    "                    AS2.append(as2)\n",
    "\n",
    "                    # Average on theta AND r\n",
    "                    valid_dsp3      = dsp.sel(rad=slice(rad - avg_on_u, rad + avg_on_u))[['wind_speed']].mean(dim='rad', skipna=True).rolling(theta=avg_on_v, center=True, min_periods=2).mean().dropna(dim='theta')\n",
    "                    as3, phi3, c3   = get_wn1(np.deg2rad(valid_dsp3.theta), valid_dsp3.wind_speed, float(ds.vps), float(ds.vmx))\n",
    "                    AS3.append(as3)\n",
    "                    \n",
    "                    # Add radius\n",
    "                    rads.append(rad)\n",
    "                    \n",
    "                    \n",
    "                except RuntimeError:\n",
    "                    break\n",
    "                # Asymmetries with the quantiles\n",
    "                a_qtl = dsp.sel(rad=rad, method='nearest').wind_speed.quantile(0.9) - dsp.sel(rad=rad, method='nearest').wind_speed.quantile(0.1)\n",
    "                ASQ.append(a_qtl)\n",
    "                    \n",
    "            ### Plot\n",
    "            # First save the SAR image\n",
    "            dr, th       = np.meshgrid(dsp.rad, np.deg2rad(dsp.theta))\n",
    "            ds_x, ds_y   = pol2cart(dr, th)\n",
    "            ws_car       = griddata((ds_x.flatten(), ds_y.flatten()), np.array(dsp.wind_speed.transpose()).flatten(), (x_ref, y_ref), method='nearest')\n",
    "\n",
    "            plt.title('{}, Translation speed = {:.1f} m/s'.format(ds.id.item(), ds.speed))\n",
    "            plt.pcolormesh(x_ref / 1000, y_ref / 1000, ws_car, cmap=cwnd, norm=normalizer);plt.colorbar()\n",
    "            plt.xlabel('x (km)');plt.ylabel('y (km)')\n",
    "            plt.grid()\n",
    "\n",
    "            plt.savefig(PTHS['sav_dir'] + ds.file.item().split('.')[0] + '_2Dwindfield', bbox_inches='tight', format='png');plt.clf()\n",
    "              \n",
    "            # Then plot the asymmetry profiles\n",
    "            plt.plot(rads, ASS, c='k',          linewidth=3,        label='Amplitude of cosine')\n",
    "            plt.plot(rads, AS2, c='k',                              label='Amplitude of cosine, avg. on th')\n",
    "            plt.plot(rads, AS3, c='k',          linestyle='dashed', label='Amplitude of cosine, avg. on th AND r')\n",
    "            plt.plot(rads, ERR, c='tab:purple', linestyle='dashed', label='RMSE in fitting cosine (non-avg.)')\n",
    "            plt.plot(rads, ASQ, c='tab:blue',   linewidth=3,        label='10%-quantile difference')\n",
    "            plt.axvline(ds.rmx, c='tab:red',    linewidth=3,        label='Rmax')\n",
    "            plt.axvline(ds.rps, c='tab:red',    label='R+')\n",
    "            plt.axvspan(r_stt, r_end, color='tab:green', alpha=0.3, label='Inertial stability area (i.e where model is valid)')\n",
    "            plt.xlabel('r (m)')\n",
    "            plt.ylabel('Asymmetry - amplitude of WN1 (m/s)')\n",
    "            plt.title('{}, Translation speed = {:.1f} m/s'.format(ds.id.item(), ds.speed))\n",
    "            plt.legend(frameon=False)\n",
    "\n",
    "            # ### Save\n",
    "            plt.savefig(PTHS['sav_dir'] + ds.file.item().split('.')[0] + '_asym', bbox_inches='tight', format='png');plt.clf()\n",
    "\n",
    "    except ValueError:\n",
    "        print('Value error, file skipped.')"
   ]
  },
  {
   "cell_type": "code",
   "execution_count": null,
   "metadata": {},
   "outputs": [],
   "source": []
  },
  {
   "cell_type": "code",
   "execution_count": null,
   "metadata": {},
   "outputs": [],
   "source": []
  },
  {
   "cell_type": "code",
   "execution_count": null,
   "metadata": {},
   "outputs": [],
   "source": []
  },
  {
   "cell_type": "code",
   "execution_count": null,
   "metadata": {},
   "outputs": [],
   "source": []
  },
  {
   "cell_type": "code",
   "execution_count": null,
   "metadata": {},
   "outputs": [],
   "source": [
    "# valid_dsp.wind_speed.plot()\n",
    "# plt.plot(valid_dsp.theta,  wn1(np.deg2rad(valid_dsp.theta), a, phi, c))"
   ]
  },
  {
   "cell_type": "code",
   "execution_count": null,
   "metadata": {},
   "outputs": [],
   "source": []
  },
  {
   "cell_type": "code",
   "execution_count": null,
   "metadata": {},
   "outputs": [],
   "source": []
  },
  {
   "cell_type": "code",
   "execution_count": 7,
   "metadata": {},
   "outputs": [
    {
     "data": {
      "text/html": [
       "<div><svg style=\"position: absolute; width: 0; height: 0; overflow: hidden\">\n",
       "<defs>\n",
       "<symbol id=\"icon-database\" viewBox=\"0 0 32 32\">\n",
       "<path d=\"M16 0c-8.837 0-16 2.239-16 5v4c0 2.761 7.163 5 16 5s16-2.239 16-5v-4c0-2.761-7.163-5-16-5z\"></path>\n",
       "<path d=\"M16 17c-8.837 0-16-2.239-16-5v6c0 2.761 7.163 5 16 5s16-2.239 16-5v-6c0 2.761-7.163 5-16 5z\"></path>\n",
       "<path d=\"M16 26c-8.837 0-16-2.239-16-5v6c0 2.761 7.163 5 16 5s16-2.239 16-5v-6c0 2.761-7.163 5-16 5z\"></path>\n",
       "</symbol>\n",
       "<symbol id=\"icon-file-text2\" viewBox=\"0 0 32 32\">\n",
       "<path d=\"M28.681 7.159c-0.694-0.947-1.662-2.053-2.724-3.116s-2.169-2.030-3.116-2.724c-1.612-1.182-2.393-1.319-2.841-1.319h-15.5c-1.378 0-2.5 1.121-2.5 2.5v27c0 1.378 1.122 2.5 2.5 2.5h23c1.378 0 2.5-1.122 2.5-2.5v-19.5c0-0.448-0.137-1.23-1.319-2.841zM24.543 5.457c0.959 0.959 1.712 1.825 2.268 2.543h-4.811v-4.811c0.718 0.556 1.584 1.309 2.543 2.268zM28 29.5c0 0.271-0.229 0.5-0.5 0.5h-23c-0.271 0-0.5-0.229-0.5-0.5v-27c0-0.271 0.229-0.5 0.5-0.5 0 0 15.499-0 15.5 0v7c0 0.552 0.448 1 1 1h7v19.5z\"></path>\n",
       "<path d=\"M23 26h-14c-0.552 0-1-0.448-1-1s0.448-1 1-1h14c0.552 0 1 0.448 1 1s-0.448 1-1 1z\"></path>\n",
       "<path d=\"M23 22h-14c-0.552 0-1-0.448-1-1s0.448-1 1-1h14c0.552 0 1 0.448 1 1s-0.448 1-1 1z\"></path>\n",
       "<path d=\"M23 18h-14c-0.552 0-1-0.448-1-1s0.448-1 1-1h14c0.552 0 1 0.448 1 1s-0.448 1-1 1z\"></path>\n",
       "</symbol>\n",
       "</defs>\n",
       "</svg>\n",
       "<style>/* CSS stylesheet for displaying xarray objects in jupyterlab.\n",
       " *\n",
       " */\n",
       "\n",
       ":root {\n",
       "  --xr-font-color0: var(--jp-content-font-color0, rgba(0, 0, 0, 1));\n",
       "  --xr-font-color2: var(--jp-content-font-color2, rgba(0, 0, 0, 0.54));\n",
       "  --xr-font-color3: var(--jp-content-font-color3, rgba(0, 0, 0, 0.38));\n",
       "  --xr-border-color: var(--jp-border-color2, #e0e0e0);\n",
       "  --xr-disabled-color: var(--jp-layout-color3, #bdbdbd);\n",
       "  --xr-background-color: var(--jp-layout-color0, white);\n",
       "  --xr-background-color-row-even: var(--jp-layout-color1, white);\n",
       "  --xr-background-color-row-odd: var(--jp-layout-color2, #eeeeee);\n",
       "}\n",
       "\n",
       "html[theme=dark],\n",
       "body[data-theme=dark],\n",
       "body.vscode-dark {\n",
       "  --xr-font-color0: rgba(255, 255, 255, 1);\n",
       "  --xr-font-color2: rgba(255, 255, 255, 0.54);\n",
       "  --xr-font-color3: rgba(255, 255, 255, 0.38);\n",
       "  --xr-border-color: #1F1F1F;\n",
       "  --xr-disabled-color: #515151;\n",
       "  --xr-background-color: #111111;\n",
       "  --xr-background-color-row-even: #111111;\n",
       "  --xr-background-color-row-odd: #313131;\n",
       "}\n",
       "\n",
       ".xr-wrap {\n",
       "  display: block !important;\n",
       "  min-width: 300px;\n",
       "  max-width: 700px;\n",
       "}\n",
       "\n",
       ".xr-text-repr-fallback {\n",
       "  /* fallback to plain text repr when CSS is not injected (untrusted notebook) */\n",
       "  display: none;\n",
       "}\n",
       "\n",
       ".xr-header {\n",
       "  padding-top: 6px;\n",
       "  padding-bottom: 6px;\n",
       "  margin-bottom: 4px;\n",
       "  border-bottom: solid 1px var(--xr-border-color);\n",
       "}\n",
       "\n",
       ".xr-header > div,\n",
       ".xr-header > ul {\n",
       "  display: inline;\n",
       "  margin-top: 0;\n",
       "  margin-bottom: 0;\n",
       "}\n",
       "\n",
       ".xr-obj-type,\n",
       ".xr-array-name {\n",
       "  margin-left: 2px;\n",
       "  margin-right: 10px;\n",
       "}\n",
       "\n",
       ".xr-obj-type {\n",
       "  color: var(--xr-font-color2);\n",
       "}\n",
       "\n",
       ".xr-sections {\n",
       "  padding-left: 0 !important;\n",
       "  display: grid;\n",
       "  grid-template-columns: 150px auto auto 1fr 20px 20px;\n",
       "}\n",
       "\n",
       ".xr-section-item {\n",
       "  display: contents;\n",
       "}\n",
       "\n",
       ".xr-section-item input {\n",
       "  display: none;\n",
       "}\n",
       "\n",
       ".xr-section-item input + label {\n",
       "  color: var(--xr-disabled-color);\n",
       "}\n",
       "\n",
       ".xr-section-item input:enabled + label {\n",
       "  cursor: pointer;\n",
       "  color: var(--xr-font-color2);\n",
       "}\n",
       "\n",
       ".xr-section-item input:enabled + label:hover {\n",
       "  color: var(--xr-font-color0);\n",
       "}\n",
       "\n",
       ".xr-section-summary {\n",
       "  grid-column: 1;\n",
       "  color: var(--xr-font-color2);\n",
       "  font-weight: 500;\n",
       "}\n",
       "\n",
       ".xr-section-summary > span {\n",
       "  display: inline-block;\n",
       "  padding-left: 0.5em;\n",
       "}\n",
       "\n",
       ".xr-section-summary-in:disabled + label {\n",
       "  color: var(--xr-font-color2);\n",
       "}\n",
       "\n",
       ".xr-section-summary-in + label:before {\n",
       "  display: inline-block;\n",
       "  content: '►';\n",
       "  font-size: 11px;\n",
       "  width: 15px;\n",
       "  text-align: center;\n",
       "}\n",
       "\n",
       ".xr-section-summary-in:disabled + label:before {\n",
       "  color: var(--xr-disabled-color);\n",
       "}\n",
       "\n",
       ".xr-section-summary-in:checked + label:before {\n",
       "  content: '▼';\n",
       "}\n",
       "\n",
       ".xr-section-summary-in:checked + label > span {\n",
       "  display: none;\n",
       "}\n",
       "\n",
       ".xr-section-summary,\n",
       ".xr-section-inline-details {\n",
       "  padding-top: 4px;\n",
       "  padding-bottom: 4px;\n",
       "}\n",
       "\n",
       ".xr-section-inline-details {\n",
       "  grid-column: 2 / -1;\n",
       "}\n",
       "\n",
       ".xr-section-details {\n",
       "  display: none;\n",
       "  grid-column: 1 / -1;\n",
       "  margin-bottom: 5px;\n",
       "}\n",
       "\n",
       ".xr-section-summary-in:checked ~ .xr-section-details {\n",
       "  display: contents;\n",
       "}\n",
       "\n",
       ".xr-array-wrap {\n",
       "  grid-column: 1 / -1;\n",
       "  display: grid;\n",
       "  grid-template-columns: 20px auto;\n",
       "}\n",
       "\n",
       ".xr-array-wrap > label {\n",
       "  grid-column: 1;\n",
       "  vertical-align: top;\n",
       "}\n",
       "\n",
       ".xr-preview {\n",
       "  color: var(--xr-font-color3);\n",
       "}\n",
       "\n",
       ".xr-array-preview,\n",
       ".xr-array-data {\n",
       "  padding: 0 5px !important;\n",
       "  grid-column: 2;\n",
       "}\n",
       "\n",
       ".xr-array-data,\n",
       ".xr-array-in:checked ~ .xr-array-preview {\n",
       "  display: none;\n",
       "}\n",
       "\n",
       ".xr-array-in:checked ~ .xr-array-data,\n",
       ".xr-array-preview {\n",
       "  display: inline-block;\n",
       "}\n",
       "\n",
       ".xr-dim-list {\n",
       "  display: inline-block !important;\n",
       "  list-style: none;\n",
       "  padding: 0 !important;\n",
       "  margin: 0;\n",
       "}\n",
       "\n",
       ".xr-dim-list li {\n",
       "  display: inline-block;\n",
       "  padding: 0;\n",
       "  margin: 0;\n",
       "}\n",
       "\n",
       ".xr-dim-list:before {\n",
       "  content: '(';\n",
       "}\n",
       "\n",
       ".xr-dim-list:after {\n",
       "  content: ')';\n",
       "}\n",
       "\n",
       ".xr-dim-list li:not(:last-child):after {\n",
       "  content: ',';\n",
       "  padding-right: 5px;\n",
       "}\n",
       "\n",
       ".xr-has-index {\n",
       "  font-weight: bold;\n",
       "}\n",
       "\n",
       ".xr-var-list,\n",
       ".xr-var-item {\n",
       "  display: contents;\n",
       "}\n",
       "\n",
       ".xr-var-item > div,\n",
       ".xr-var-item label,\n",
       ".xr-var-item > .xr-var-name span {\n",
       "  background-color: var(--xr-background-color-row-even);\n",
       "  margin-bottom: 0;\n",
       "}\n",
       "\n",
       ".xr-var-item > .xr-var-name:hover span {\n",
       "  padding-right: 5px;\n",
       "}\n",
       "\n",
       ".xr-var-list > li:nth-child(odd) > div,\n",
       ".xr-var-list > li:nth-child(odd) > label,\n",
       ".xr-var-list > li:nth-child(odd) > .xr-var-name span {\n",
       "  background-color: var(--xr-background-color-row-odd);\n",
       "}\n",
       "\n",
       ".xr-var-name {\n",
       "  grid-column: 1;\n",
       "}\n",
       "\n",
       ".xr-var-dims {\n",
       "  grid-column: 2;\n",
       "}\n",
       "\n",
       ".xr-var-dtype {\n",
       "  grid-column: 3;\n",
       "  text-align: right;\n",
       "  color: var(--xr-font-color2);\n",
       "}\n",
       "\n",
       ".xr-var-preview {\n",
       "  grid-column: 4;\n",
       "}\n",
       "\n",
       ".xr-index-preview {\n",
       "  grid-column: 2 / 5;\n",
       "  color: var(--xr-font-color2);\n",
       "}\n",
       "\n",
       ".xr-var-name,\n",
       ".xr-var-dims,\n",
       ".xr-var-dtype,\n",
       ".xr-preview,\n",
       ".xr-attrs dt {\n",
       "  white-space: nowrap;\n",
       "  overflow: hidden;\n",
       "  text-overflow: ellipsis;\n",
       "  padding-right: 10px;\n",
       "}\n",
       "\n",
       ".xr-var-name:hover,\n",
       ".xr-var-dims:hover,\n",
       ".xr-var-dtype:hover,\n",
       ".xr-attrs dt:hover {\n",
       "  overflow: visible;\n",
       "  width: auto;\n",
       "  z-index: 1;\n",
       "}\n",
       "\n",
       ".xr-var-attrs,\n",
       ".xr-var-data,\n",
       ".xr-index-data {\n",
       "  display: none;\n",
       "  background-color: var(--xr-background-color) !important;\n",
       "  padding-bottom: 5px !important;\n",
       "}\n",
       "\n",
       ".xr-var-attrs-in:checked ~ .xr-var-attrs,\n",
       ".xr-var-data-in:checked ~ .xr-var-data,\n",
       ".xr-index-data-in:checked ~ .xr-index-data {\n",
       "  display: block;\n",
       "}\n",
       "\n",
       ".xr-var-data > table {\n",
       "  float: right;\n",
       "}\n",
       "\n",
       ".xr-var-name span,\n",
       ".xr-var-data,\n",
       ".xr-index-name div,\n",
       ".xr-index-data,\n",
       ".xr-attrs {\n",
       "  padding-left: 25px !important;\n",
       "}\n",
       "\n",
       ".xr-attrs,\n",
       ".xr-var-attrs,\n",
       ".xr-var-data,\n",
       ".xr-index-data {\n",
       "  grid-column: 1 / -1;\n",
       "}\n",
       "\n",
       "dl.xr-attrs {\n",
       "  padding: 0;\n",
       "  margin: 0;\n",
       "  display: grid;\n",
       "  grid-template-columns: 125px auto;\n",
       "}\n",
       "\n",
       ".xr-attrs dt,\n",
       ".xr-attrs dd {\n",
       "  padding: 0;\n",
       "  margin: 0;\n",
       "  float: left;\n",
       "  padding-right: 10px;\n",
       "  width: auto;\n",
       "}\n",
       "\n",
       ".xr-attrs dt {\n",
       "  font-weight: normal;\n",
       "  grid-column: 1;\n",
       "}\n",
       "\n",
       ".xr-attrs dt:hover span {\n",
       "  display: inline-block;\n",
       "  background: var(--xr-background-color);\n",
       "  padding-right: 10px;\n",
       "}\n",
       "\n",
       ".xr-attrs dd {\n",
       "  grid-column: 2;\n",
       "  white-space: pre-wrap;\n",
       "  word-break: break-all;\n",
       "}\n",
       "\n",
       ".xr-icon-database,\n",
       ".xr-icon-file-text2,\n",
       ".xr-no-icon {\n",
       "  display: inline-block;\n",
       "  vertical-align: middle;\n",
       "  width: 1em;\n",
       "  height: 1.5em !important;\n",
       "  stroke-width: 0;\n",
       "  stroke: currentColor;\n",
       "  fill: currentColor;\n",
       "}\n",
       "</style><pre class='xr-text-repr-fallback'>&lt;xarray.DataArray &#x27;file&#x27; ()&gt;\n",
       "array(&#x27;rs2--owi-cm-20210314t003920-20210314t004036-00003-______sw.nc&#x27;,\n",
       "      dtype=object)\n",
       "Coordinates:\n",
       "    time     datetime64[ns] 2021-03-14T00:39:58\n",
       "Attributes:\n",
       "    long_name:    Satellite file of the SAR acquisition\n",
       "    description:  Taken from Ifremer TCVA product</pre><div class='xr-wrap' style='display:none'><div class='xr-header'><div class='xr-obj-type'>xarray.DataArray</div><div class='xr-array-name'>'file'</div></div><ul class='xr-sections'><li class='xr-section-item'><div class='xr-array-wrap'><input id='section-9d596625-f467-4bd6-8aae-ac652572fea8' class='xr-array-in' type='checkbox' checked><label for='section-9d596625-f467-4bd6-8aae-ac652572fea8' title='Show/hide data repr'><svg class='icon xr-icon-database'><use xlink:href='#icon-database'></use></svg></label><div class='xr-array-preview xr-preview'><span>&#x27;rs2--owi-cm-20210314t003920-20210314t004036-00003-______sw.nc&#x27;</span></div><div class='xr-array-data'><pre>array(&#x27;rs2--owi-cm-20210314t003920-20210314t004036-00003-______sw.nc&#x27;,\n",
       "      dtype=object)</pre></div></div></li><li class='xr-section-item'><input id='section-f012676a-e267-4b3d-805e-db156e35526d' class='xr-section-summary-in' type='checkbox'  checked><label for='section-f012676a-e267-4b3d-805e-db156e35526d' class='xr-section-summary' >Coordinates: <span>(1)</span></label><div class='xr-section-inline-details'></div><div class='xr-section-details'><ul class='xr-var-list'><li class='xr-var-item'><div class='xr-var-name'><span>time</span></div><div class='xr-var-dims'>()</div><div class='xr-var-dtype'>datetime64[ns]</div><div class='xr-var-preview xr-preview'>2021-03-14T00:39:58</div><input id='attrs-96e3646f-9f14-446b-b755-a1c90f47dce3' class='xr-var-attrs-in' type='checkbox' ><label for='attrs-96e3646f-9f14-446b-b755-a1c90f47dce3' title='Show/Hide attributes'><svg class='icon xr-icon-file-text2'><use xlink:href='#icon-file-text2'></use></svg></label><input id='data-051d9646-9ad7-4384-9a01-e03a6e9c3166' class='xr-var-data-in' type='checkbox'><label for='data-051d9646-9ad7-4384-9a01-e03a6e9c3166' title='Show/Hide data repr'><svg class='icon xr-icon-database'><use xlink:href='#icon-database'></use></svg></label><div class='xr-var-attrs'><dl class='xr-attrs'><dt><span>long_name :</span></dt><dd>Acquisition time</dd><dt><span>description :</span></dt><dd>Taken from Ifremer TCVA product</dd></dl></div><div class='xr-var-data'><pre>array(&#x27;2021-03-14T00:39:58.000000000&#x27;, dtype=&#x27;datetime64[ns]&#x27;)</pre></div></li></ul></div></li><li class='xr-section-item'><input id='section-7f5724bf-2892-4371-958c-967ce2c26584' class='xr-section-summary-in' type='checkbox' disabled ><label for='section-7f5724bf-2892-4371-958c-967ce2c26584' class='xr-section-summary'  title='Expand/collapse section'>Indexes: <span>(0)</span></label><div class='xr-section-inline-details'></div><div class='xr-section-details'><ul class='xr-var-list'></ul></div></li><li class='xr-section-item'><input id='section-f1018968-2d70-4b32-bd0c-336c55b52f9e' class='xr-section-summary-in' type='checkbox'  checked><label for='section-f1018968-2d70-4b32-bd0c-336c55b52f9e' class='xr-section-summary' >Attributes: <span>(2)</span></label><div class='xr-section-inline-details'></div><div class='xr-section-details'><dl class='xr-attrs'><dt><span>long_name :</span></dt><dd>Satellite file of the SAR acquisition</dd><dt><span>description :</span></dt><dd>Taken from Ifremer TCVA product</dd></dl></div></li></ul></div></div>"
      ],
      "text/plain": [
       "<xarray.DataArray 'file' ()>\n",
       "array('rs2--owi-cm-20210314t003920-20210314t004036-00003-______sw.nc',\n",
       "      dtype=object)\n",
       "Coordinates:\n",
       "    time     datetime64[ns] 2021-03-14T00:39:58\n",
       "Attributes:\n",
       "    long_name:    Satellite file of the SAR acquisition\n",
       "    description:  Taken from Ifremer TCVA product"
      ]
     },
     "execution_count": 7,
     "metadata": {},
     "output_type": "execute_result"
    }
   ],
   "source": [
    "ds.file"
   ]
  },
  {
   "cell_type": "code",
   "execution_count": 8,
   "metadata": {},
   "outputs": [
    {
     "data": {
      "text/html": [
       "<div><svg style=\"position: absolute; width: 0; height: 0; overflow: hidden\">\n",
       "<defs>\n",
       "<symbol id=\"icon-database\" viewBox=\"0 0 32 32\">\n",
       "<path d=\"M16 0c-8.837 0-16 2.239-16 5v4c0 2.761 7.163 5 16 5s16-2.239 16-5v-4c0-2.761-7.163-5-16-5z\"></path>\n",
       "<path d=\"M16 17c-8.837 0-16-2.239-16-5v6c0 2.761 7.163 5 16 5s16-2.239 16-5v-6c0 2.761-7.163 5-16 5z\"></path>\n",
       "<path d=\"M16 26c-8.837 0-16-2.239-16-5v6c0 2.761 7.163 5 16 5s16-2.239 16-5v-6c0 2.761-7.163 5-16 5z\"></path>\n",
       "</symbol>\n",
       "<symbol id=\"icon-file-text2\" viewBox=\"0 0 32 32\">\n",
       "<path d=\"M28.681 7.159c-0.694-0.947-1.662-2.053-2.724-3.116s-2.169-2.030-3.116-2.724c-1.612-1.182-2.393-1.319-2.841-1.319h-15.5c-1.378 0-2.5 1.121-2.5 2.5v27c0 1.378 1.122 2.5 2.5 2.5h23c1.378 0 2.5-1.122 2.5-2.5v-19.5c0-0.448-0.137-1.23-1.319-2.841zM24.543 5.457c0.959 0.959 1.712 1.825 2.268 2.543h-4.811v-4.811c0.718 0.556 1.584 1.309 2.543 2.268zM28 29.5c0 0.271-0.229 0.5-0.5 0.5h-23c-0.271 0-0.5-0.229-0.5-0.5v-27c0-0.271 0.229-0.5 0.5-0.5 0 0 15.499-0 15.5 0v7c0 0.552 0.448 1 1 1h7v19.5z\"></path>\n",
       "<path d=\"M23 26h-14c-0.552 0-1-0.448-1-1s0.448-1 1-1h14c0.552 0 1 0.448 1 1s-0.448 1-1 1z\"></path>\n",
       "<path d=\"M23 22h-14c-0.552 0-1-0.448-1-1s0.448-1 1-1h14c0.552 0 1 0.448 1 1s-0.448 1-1 1z\"></path>\n",
       "<path d=\"M23 18h-14c-0.552 0-1-0.448-1-1s0.448-1 1-1h14c0.552 0 1 0.448 1 1s-0.448 1-1 1z\"></path>\n",
       "</symbol>\n",
       "</defs>\n",
       "</svg>\n",
       "<style>/* CSS stylesheet for displaying xarray objects in jupyterlab.\n",
       " *\n",
       " */\n",
       "\n",
       ":root {\n",
       "  --xr-font-color0: var(--jp-content-font-color0, rgba(0, 0, 0, 1));\n",
       "  --xr-font-color2: var(--jp-content-font-color2, rgba(0, 0, 0, 0.54));\n",
       "  --xr-font-color3: var(--jp-content-font-color3, rgba(0, 0, 0, 0.38));\n",
       "  --xr-border-color: var(--jp-border-color2, #e0e0e0);\n",
       "  --xr-disabled-color: var(--jp-layout-color3, #bdbdbd);\n",
       "  --xr-background-color: var(--jp-layout-color0, white);\n",
       "  --xr-background-color-row-even: var(--jp-layout-color1, white);\n",
       "  --xr-background-color-row-odd: var(--jp-layout-color2, #eeeeee);\n",
       "}\n",
       "\n",
       "html[theme=dark],\n",
       "body[data-theme=dark],\n",
       "body.vscode-dark {\n",
       "  --xr-font-color0: rgba(255, 255, 255, 1);\n",
       "  --xr-font-color2: rgba(255, 255, 255, 0.54);\n",
       "  --xr-font-color3: rgba(255, 255, 255, 0.38);\n",
       "  --xr-border-color: #1F1F1F;\n",
       "  --xr-disabled-color: #515151;\n",
       "  --xr-background-color: #111111;\n",
       "  --xr-background-color-row-even: #111111;\n",
       "  --xr-background-color-row-odd: #313131;\n",
       "}\n",
       "\n",
       ".xr-wrap {\n",
       "  display: block !important;\n",
       "  min-width: 300px;\n",
       "  max-width: 700px;\n",
       "}\n",
       "\n",
       ".xr-text-repr-fallback {\n",
       "  /* fallback to plain text repr when CSS is not injected (untrusted notebook) */\n",
       "  display: none;\n",
       "}\n",
       "\n",
       ".xr-header {\n",
       "  padding-top: 6px;\n",
       "  padding-bottom: 6px;\n",
       "  margin-bottom: 4px;\n",
       "  border-bottom: solid 1px var(--xr-border-color);\n",
       "}\n",
       "\n",
       ".xr-header > div,\n",
       ".xr-header > ul {\n",
       "  display: inline;\n",
       "  margin-top: 0;\n",
       "  margin-bottom: 0;\n",
       "}\n",
       "\n",
       ".xr-obj-type,\n",
       ".xr-array-name {\n",
       "  margin-left: 2px;\n",
       "  margin-right: 10px;\n",
       "}\n",
       "\n",
       ".xr-obj-type {\n",
       "  color: var(--xr-font-color2);\n",
       "}\n",
       "\n",
       ".xr-sections {\n",
       "  padding-left: 0 !important;\n",
       "  display: grid;\n",
       "  grid-template-columns: 150px auto auto 1fr 20px 20px;\n",
       "}\n",
       "\n",
       ".xr-section-item {\n",
       "  display: contents;\n",
       "}\n",
       "\n",
       ".xr-section-item input {\n",
       "  display: none;\n",
       "}\n",
       "\n",
       ".xr-section-item input + label {\n",
       "  color: var(--xr-disabled-color);\n",
       "}\n",
       "\n",
       ".xr-section-item input:enabled + label {\n",
       "  cursor: pointer;\n",
       "  color: var(--xr-font-color2);\n",
       "}\n",
       "\n",
       ".xr-section-item input:enabled + label:hover {\n",
       "  color: var(--xr-font-color0);\n",
       "}\n",
       "\n",
       ".xr-section-summary {\n",
       "  grid-column: 1;\n",
       "  color: var(--xr-font-color2);\n",
       "  font-weight: 500;\n",
       "}\n",
       "\n",
       ".xr-section-summary > span {\n",
       "  display: inline-block;\n",
       "  padding-left: 0.5em;\n",
       "}\n",
       "\n",
       ".xr-section-summary-in:disabled + label {\n",
       "  color: var(--xr-font-color2);\n",
       "}\n",
       "\n",
       ".xr-section-summary-in + label:before {\n",
       "  display: inline-block;\n",
       "  content: '►';\n",
       "  font-size: 11px;\n",
       "  width: 15px;\n",
       "  text-align: center;\n",
       "}\n",
       "\n",
       ".xr-section-summary-in:disabled + label:before {\n",
       "  color: var(--xr-disabled-color);\n",
       "}\n",
       "\n",
       ".xr-section-summary-in:checked + label:before {\n",
       "  content: '▼';\n",
       "}\n",
       "\n",
       ".xr-section-summary-in:checked + label > span {\n",
       "  display: none;\n",
       "}\n",
       "\n",
       ".xr-section-summary,\n",
       ".xr-section-inline-details {\n",
       "  padding-top: 4px;\n",
       "  padding-bottom: 4px;\n",
       "}\n",
       "\n",
       ".xr-section-inline-details {\n",
       "  grid-column: 2 / -1;\n",
       "}\n",
       "\n",
       ".xr-section-details {\n",
       "  display: none;\n",
       "  grid-column: 1 / -1;\n",
       "  margin-bottom: 5px;\n",
       "}\n",
       "\n",
       ".xr-section-summary-in:checked ~ .xr-section-details {\n",
       "  display: contents;\n",
       "}\n",
       "\n",
       ".xr-array-wrap {\n",
       "  grid-column: 1 / -1;\n",
       "  display: grid;\n",
       "  grid-template-columns: 20px auto;\n",
       "}\n",
       "\n",
       ".xr-array-wrap > label {\n",
       "  grid-column: 1;\n",
       "  vertical-align: top;\n",
       "}\n",
       "\n",
       ".xr-preview {\n",
       "  color: var(--xr-font-color3);\n",
       "}\n",
       "\n",
       ".xr-array-preview,\n",
       ".xr-array-data {\n",
       "  padding: 0 5px !important;\n",
       "  grid-column: 2;\n",
       "}\n",
       "\n",
       ".xr-array-data,\n",
       ".xr-array-in:checked ~ .xr-array-preview {\n",
       "  display: none;\n",
       "}\n",
       "\n",
       ".xr-array-in:checked ~ .xr-array-data,\n",
       ".xr-array-preview {\n",
       "  display: inline-block;\n",
       "}\n",
       "\n",
       ".xr-dim-list {\n",
       "  display: inline-block !important;\n",
       "  list-style: none;\n",
       "  padding: 0 !important;\n",
       "  margin: 0;\n",
       "}\n",
       "\n",
       ".xr-dim-list li {\n",
       "  display: inline-block;\n",
       "  padding: 0;\n",
       "  margin: 0;\n",
       "}\n",
       "\n",
       ".xr-dim-list:before {\n",
       "  content: '(';\n",
       "}\n",
       "\n",
       ".xr-dim-list:after {\n",
       "  content: ')';\n",
       "}\n",
       "\n",
       ".xr-dim-list li:not(:last-child):after {\n",
       "  content: ',';\n",
       "  padding-right: 5px;\n",
       "}\n",
       "\n",
       ".xr-has-index {\n",
       "  font-weight: bold;\n",
       "}\n",
       "\n",
       ".xr-var-list,\n",
       ".xr-var-item {\n",
       "  display: contents;\n",
       "}\n",
       "\n",
       ".xr-var-item > div,\n",
       ".xr-var-item label,\n",
       ".xr-var-item > .xr-var-name span {\n",
       "  background-color: var(--xr-background-color-row-even);\n",
       "  margin-bottom: 0;\n",
       "}\n",
       "\n",
       ".xr-var-item > .xr-var-name:hover span {\n",
       "  padding-right: 5px;\n",
       "}\n",
       "\n",
       ".xr-var-list > li:nth-child(odd) > div,\n",
       ".xr-var-list > li:nth-child(odd) > label,\n",
       ".xr-var-list > li:nth-child(odd) > .xr-var-name span {\n",
       "  background-color: var(--xr-background-color-row-odd);\n",
       "}\n",
       "\n",
       ".xr-var-name {\n",
       "  grid-column: 1;\n",
       "}\n",
       "\n",
       ".xr-var-dims {\n",
       "  grid-column: 2;\n",
       "}\n",
       "\n",
       ".xr-var-dtype {\n",
       "  grid-column: 3;\n",
       "  text-align: right;\n",
       "  color: var(--xr-font-color2);\n",
       "}\n",
       "\n",
       ".xr-var-preview {\n",
       "  grid-column: 4;\n",
       "}\n",
       "\n",
       ".xr-index-preview {\n",
       "  grid-column: 2 / 5;\n",
       "  color: var(--xr-font-color2);\n",
       "}\n",
       "\n",
       ".xr-var-name,\n",
       ".xr-var-dims,\n",
       ".xr-var-dtype,\n",
       ".xr-preview,\n",
       ".xr-attrs dt {\n",
       "  white-space: nowrap;\n",
       "  overflow: hidden;\n",
       "  text-overflow: ellipsis;\n",
       "  padding-right: 10px;\n",
       "}\n",
       "\n",
       ".xr-var-name:hover,\n",
       ".xr-var-dims:hover,\n",
       ".xr-var-dtype:hover,\n",
       ".xr-attrs dt:hover {\n",
       "  overflow: visible;\n",
       "  width: auto;\n",
       "  z-index: 1;\n",
       "}\n",
       "\n",
       ".xr-var-attrs,\n",
       ".xr-var-data,\n",
       ".xr-index-data {\n",
       "  display: none;\n",
       "  background-color: var(--xr-background-color) !important;\n",
       "  padding-bottom: 5px !important;\n",
       "}\n",
       "\n",
       ".xr-var-attrs-in:checked ~ .xr-var-attrs,\n",
       ".xr-var-data-in:checked ~ .xr-var-data,\n",
       ".xr-index-data-in:checked ~ .xr-index-data {\n",
       "  display: block;\n",
       "}\n",
       "\n",
       ".xr-var-data > table {\n",
       "  float: right;\n",
       "}\n",
       "\n",
       ".xr-var-name span,\n",
       ".xr-var-data,\n",
       ".xr-index-name div,\n",
       ".xr-index-data,\n",
       ".xr-attrs {\n",
       "  padding-left: 25px !important;\n",
       "}\n",
       "\n",
       ".xr-attrs,\n",
       ".xr-var-attrs,\n",
       ".xr-var-data,\n",
       ".xr-index-data {\n",
       "  grid-column: 1 / -1;\n",
       "}\n",
       "\n",
       "dl.xr-attrs {\n",
       "  padding: 0;\n",
       "  margin: 0;\n",
       "  display: grid;\n",
       "  grid-template-columns: 125px auto;\n",
       "}\n",
       "\n",
       ".xr-attrs dt,\n",
       ".xr-attrs dd {\n",
       "  padding: 0;\n",
       "  margin: 0;\n",
       "  float: left;\n",
       "  padding-right: 10px;\n",
       "  width: auto;\n",
       "}\n",
       "\n",
       ".xr-attrs dt {\n",
       "  font-weight: normal;\n",
       "  grid-column: 1;\n",
       "}\n",
       "\n",
       ".xr-attrs dt:hover span {\n",
       "  display: inline-block;\n",
       "  background: var(--xr-background-color);\n",
       "  padding-right: 10px;\n",
       "}\n",
       "\n",
       ".xr-attrs dd {\n",
       "  grid-column: 2;\n",
       "  white-space: pre-wrap;\n",
       "  word-break: break-all;\n",
       "}\n",
       "\n",
       ".xr-icon-database,\n",
       ".xr-icon-file-text2,\n",
       ".xr-no-icon {\n",
       "  display: inline-block;\n",
       "  vertical-align: middle;\n",
       "  width: 1em;\n",
       "  height: 1.5em !important;\n",
       "  stroke-width: 0;\n",
       "  stroke: currentColor;\n",
       "  fill: currentColor;\n",
       "}\n",
       "</style><pre class='xr-text-repr-fallback'>&lt;xarray.DataArray &#x27;rmx&#x27; ()&gt;\n",
       "array(33000.)\n",
       "Coordinates:\n",
       "    time     datetime64[ns] 2021-03-14T00:39:58\n",
       "Attributes:\n",
       "    long_name:  Radius of maximum wind speed of the SAR axisymmetric wind pro...\n",
       "    units:      meters</pre><div class='xr-wrap' style='display:none'><div class='xr-header'><div class='xr-obj-type'>xarray.DataArray</div><div class='xr-array-name'>'rmx'</div></div><ul class='xr-sections'><li class='xr-section-item'><div class='xr-array-wrap'><input id='section-4de2fd43-1652-4ac2-866e-983c4fa185cc' class='xr-array-in' type='checkbox' checked><label for='section-4de2fd43-1652-4ac2-866e-983c4fa185cc' title='Show/hide data repr'><svg class='icon xr-icon-database'><use xlink:href='#icon-database'></use></svg></label><div class='xr-array-preview xr-preview'><span>3.3e+04</span></div><div class='xr-array-data'><pre>array(33000.)</pre></div></div></li><li class='xr-section-item'><input id='section-d866d92f-1071-4114-b632-47f77fe9a45e' class='xr-section-summary-in' type='checkbox'  checked><label for='section-d866d92f-1071-4114-b632-47f77fe9a45e' class='xr-section-summary' >Coordinates: <span>(1)</span></label><div class='xr-section-inline-details'></div><div class='xr-section-details'><ul class='xr-var-list'><li class='xr-var-item'><div class='xr-var-name'><span>time</span></div><div class='xr-var-dims'>()</div><div class='xr-var-dtype'>datetime64[ns]</div><div class='xr-var-preview xr-preview'>2021-03-14T00:39:58</div><input id='attrs-060e42fb-5a5c-4c57-b0b5-5a9c229c4050' class='xr-var-attrs-in' type='checkbox' ><label for='attrs-060e42fb-5a5c-4c57-b0b5-5a9c229c4050' title='Show/Hide attributes'><svg class='icon xr-icon-file-text2'><use xlink:href='#icon-file-text2'></use></svg></label><input id='data-2521a936-6d48-4cb7-9d84-38ac74301331' class='xr-var-data-in' type='checkbox'><label for='data-2521a936-6d48-4cb7-9d84-38ac74301331' title='Show/Hide data repr'><svg class='icon xr-icon-database'><use xlink:href='#icon-database'></use></svg></label><div class='xr-var-attrs'><dl class='xr-attrs'><dt><span>long_name :</span></dt><dd>Acquisition time</dd><dt><span>description :</span></dt><dd>Taken from Ifremer TCVA product</dd></dl></div><div class='xr-var-data'><pre>array(&#x27;2021-03-14T00:39:58.000000000&#x27;, dtype=&#x27;datetime64[ns]&#x27;)</pre></div></li></ul></div></li><li class='xr-section-item'><input id='section-8e96d693-4012-457d-ae08-6bf285938966' class='xr-section-summary-in' type='checkbox' disabled ><label for='section-8e96d693-4012-457d-ae08-6bf285938966' class='xr-section-summary'  title='Expand/collapse section'>Indexes: <span>(0)</span></label><div class='xr-section-inline-details'></div><div class='xr-section-details'><ul class='xr-var-list'></ul></div></li><li class='xr-section-item'><input id='section-6c6702ba-1795-4c2a-9ecd-0c45ecf34b50' class='xr-section-summary-in' type='checkbox'  checked><label for='section-6c6702ba-1795-4c2a-9ecd-0c45ecf34b50' class='xr-section-summary' >Attributes: <span>(2)</span></label><div class='xr-section-inline-details'></div><div class='xr-section-details'><dl class='xr-attrs'><dt><span>long_name :</span></dt><dd>Radius of maximum wind speed of the SAR axisymmetric wind profile</dd><dt><span>units :</span></dt><dd>meters</dd></dl></div></li></ul></div></div>"
      ],
      "text/plain": [
       "<xarray.DataArray 'rmx' ()>\n",
       "array(33000.)\n",
       "Coordinates:\n",
       "    time     datetime64[ns] 2021-03-14T00:39:58\n",
       "Attributes:\n",
       "    long_name:  Radius of maximum wind speed of the SAR axisymmetric wind pro...\n",
       "    units:      meters"
      ]
     },
     "execution_count": 8,
     "metadata": {},
     "output_type": "execute_result"
    }
   ],
   "source": [
    "ds.rmx"
   ]
  },
  {
   "cell_type": "code",
   "execution_count": 9,
   "metadata": {},
   "outputs": [
    {
     "data": {
      "text/html": [
       "<div><svg style=\"position: absolute; width: 0; height: 0; overflow: hidden\">\n",
       "<defs>\n",
       "<symbol id=\"icon-database\" viewBox=\"0 0 32 32\">\n",
       "<path d=\"M16 0c-8.837 0-16 2.239-16 5v4c0 2.761 7.163 5 16 5s16-2.239 16-5v-4c0-2.761-7.163-5-16-5z\"></path>\n",
       "<path d=\"M16 17c-8.837 0-16-2.239-16-5v6c0 2.761 7.163 5 16 5s16-2.239 16-5v-6c0 2.761-7.163 5-16 5z\"></path>\n",
       "<path d=\"M16 26c-8.837 0-16-2.239-16-5v6c0 2.761 7.163 5 16 5s16-2.239 16-5v-6c0 2.761-7.163 5-16 5z\"></path>\n",
       "</symbol>\n",
       "<symbol id=\"icon-file-text2\" viewBox=\"0 0 32 32\">\n",
       "<path d=\"M28.681 7.159c-0.694-0.947-1.662-2.053-2.724-3.116s-2.169-2.030-3.116-2.724c-1.612-1.182-2.393-1.319-2.841-1.319h-15.5c-1.378 0-2.5 1.121-2.5 2.5v27c0 1.378 1.122 2.5 2.5 2.5h23c1.378 0 2.5-1.122 2.5-2.5v-19.5c0-0.448-0.137-1.23-1.319-2.841zM24.543 5.457c0.959 0.959 1.712 1.825 2.268 2.543h-4.811v-4.811c0.718 0.556 1.584 1.309 2.543 2.268zM28 29.5c0 0.271-0.229 0.5-0.5 0.5h-23c-0.271 0-0.5-0.229-0.5-0.5v-27c0-0.271 0.229-0.5 0.5-0.5 0 0 15.499-0 15.5 0v7c0 0.552 0.448 1 1 1h7v19.5z\"></path>\n",
       "<path d=\"M23 26h-14c-0.552 0-1-0.448-1-1s0.448-1 1-1h14c0.552 0 1 0.448 1 1s-0.448 1-1 1z\"></path>\n",
       "<path d=\"M23 22h-14c-0.552 0-1-0.448-1-1s0.448-1 1-1h14c0.552 0 1 0.448 1 1s-0.448 1-1 1z\"></path>\n",
       "<path d=\"M23 18h-14c-0.552 0-1-0.448-1-1s0.448-1 1-1h14c0.552 0 1 0.448 1 1s-0.448 1-1 1z\"></path>\n",
       "</symbol>\n",
       "</defs>\n",
       "</svg>\n",
       "<style>/* CSS stylesheet for displaying xarray objects in jupyterlab.\n",
       " *\n",
       " */\n",
       "\n",
       ":root {\n",
       "  --xr-font-color0: var(--jp-content-font-color0, rgba(0, 0, 0, 1));\n",
       "  --xr-font-color2: var(--jp-content-font-color2, rgba(0, 0, 0, 0.54));\n",
       "  --xr-font-color3: var(--jp-content-font-color3, rgba(0, 0, 0, 0.38));\n",
       "  --xr-border-color: var(--jp-border-color2, #e0e0e0);\n",
       "  --xr-disabled-color: var(--jp-layout-color3, #bdbdbd);\n",
       "  --xr-background-color: var(--jp-layout-color0, white);\n",
       "  --xr-background-color-row-even: var(--jp-layout-color1, white);\n",
       "  --xr-background-color-row-odd: var(--jp-layout-color2, #eeeeee);\n",
       "}\n",
       "\n",
       "html[theme=dark],\n",
       "body[data-theme=dark],\n",
       "body.vscode-dark {\n",
       "  --xr-font-color0: rgba(255, 255, 255, 1);\n",
       "  --xr-font-color2: rgba(255, 255, 255, 0.54);\n",
       "  --xr-font-color3: rgba(255, 255, 255, 0.38);\n",
       "  --xr-border-color: #1F1F1F;\n",
       "  --xr-disabled-color: #515151;\n",
       "  --xr-background-color: #111111;\n",
       "  --xr-background-color-row-even: #111111;\n",
       "  --xr-background-color-row-odd: #313131;\n",
       "}\n",
       "\n",
       ".xr-wrap {\n",
       "  display: block !important;\n",
       "  min-width: 300px;\n",
       "  max-width: 700px;\n",
       "}\n",
       "\n",
       ".xr-text-repr-fallback {\n",
       "  /* fallback to plain text repr when CSS is not injected (untrusted notebook) */\n",
       "  display: none;\n",
       "}\n",
       "\n",
       ".xr-header {\n",
       "  padding-top: 6px;\n",
       "  padding-bottom: 6px;\n",
       "  margin-bottom: 4px;\n",
       "  border-bottom: solid 1px var(--xr-border-color);\n",
       "}\n",
       "\n",
       ".xr-header > div,\n",
       ".xr-header > ul {\n",
       "  display: inline;\n",
       "  margin-top: 0;\n",
       "  margin-bottom: 0;\n",
       "}\n",
       "\n",
       ".xr-obj-type,\n",
       ".xr-array-name {\n",
       "  margin-left: 2px;\n",
       "  margin-right: 10px;\n",
       "}\n",
       "\n",
       ".xr-obj-type {\n",
       "  color: var(--xr-font-color2);\n",
       "}\n",
       "\n",
       ".xr-sections {\n",
       "  padding-left: 0 !important;\n",
       "  display: grid;\n",
       "  grid-template-columns: 150px auto auto 1fr 20px 20px;\n",
       "}\n",
       "\n",
       ".xr-section-item {\n",
       "  display: contents;\n",
       "}\n",
       "\n",
       ".xr-section-item input {\n",
       "  display: none;\n",
       "}\n",
       "\n",
       ".xr-section-item input + label {\n",
       "  color: var(--xr-disabled-color);\n",
       "}\n",
       "\n",
       ".xr-section-item input:enabled + label {\n",
       "  cursor: pointer;\n",
       "  color: var(--xr-font-color2);\n",
       "}\n",
       "\n",
       ".xr-section-item input:enabled + label:hover {\n",
       "  color: var(--xr-font-color0);\n",
       "}\n",
       "\n",
       ".xr-section-summary {\n",
       "  grid-column: 1;\n",
       "  color: var(--xr-font-color2);\n",
       "  font-weight: 500;\n",
       "}\n",
       "\n",
       ".xr-section-summary > span {\n",
       "  display: inline-block;\n",
       "  padding-left: 0.5em;\n",
       "}\n",
       "\n",
       ".xr-section-summary-in:disabled + label {\n",
       "  color: var(--xr-font-color2);\n",
       "}\n",
       "\n",
       ".xr-section-summary-in + label:before {\n",
       "  display: inline-block;\n",
       "  content: '►';\n",
       "  font-size: 11px;\n",
       "  width: 15px;\n",
       "  text-align: center;\n",
       "}\n",
       "\n",
       ".xr-section-summary-in:disabled + label:before {\n",
       "  color: var(--xr-disabled-color);\n",
       "}\n",
       "\n",
       ".xr-section-summary-in:checked + label:before {\n",
       "  content: '▼';\n",
       "}\n",
       "\n",
       ".xr-section-summary-in:checked + label > span {\n",
       "  display: none;\n",
       "}\n",
       "\n",
       ".xr-section-summary,\n",
       ".xr-section-inline-details {\n",
       "  padding-top: 4px;\n",
       "  padding-bottom: 4px;\n",
       "}\n",
       "\n",
       ".xr-section-inline-details {\n",
       "  grid-column: 2 / -1;\n",
       "}\n",
       "\n",
       ".xr-section-details {\n",
       "  display: none;\n",
       "  grid-column: 1 / -1;\n",
       "  margin-bottom: 5px;\n",
       "}\n",
       "\n",
       ".xr-section-summary-in:checked ~ .xr-section-details {\n",
       "  display: contents;\n",
       "}\n",
       "\n",
       ".xr-array-wrap {\n",
       "  grid-column: 1 / -1;\n",
       "  display: grid;\n",
       "  grid-template-columns: 20px auto;\n",
       "}\n",
       "\n",
       ".xr-array-wrap > label {\n",
       "  grid-column: 1;\n",
       "  vertical-align: top;\n",
       "}\n",
       "\n",
       ".xr-preview {\n",
       "  color: var(--xr-font-color3);\n",
       "}\n",
       "\n",
       ".xr-array-preview,\n",
       ".xr-array-data {\n",
       "  padding: 0 5px !important;\n",
       "  grid-column: 2;\n",
       "}\n",
       "\n",
       ".xr-array-data,\n",
       ".xr-array-in:checked ~ .xr-array-preview {\n",
       "  display: none;\n",
       "}\n",
       "\n",
       ".xr-array-in:checked ~ .xr-array-data,\n",
       ".xr-array-preview {\n",
       "  display: inline-block;\n",
       "}\n",
       "\n",
       ".xr-dim-list {\n",
       "  display: inline-block !important;\n",
       "  list-style: none;\n",
       "  padding: 0 !important;\n",
       "  margin: 0;\n",
       "}\n",
       "\n",
       ".xr-dim-list li {\n",
       "  display: inline-block;\n",
       "  padding: 0;\n",
       "  margin: 0;\n",
       "}\n",
       "\n",
       ".xr-dim-list:before {\n",
       "  content: '(';\n",
       "}\n",
       "\n",
       ".xr-dim-list:after {\n",
       "  content: ')';\n",
       "}\n",
       "\n",
       ".xr-dim-list li:not(:last-child):after {\n",
       "  content: ',';\n",
       "  padding-right: 5px;\n",
       "}\n",
       "\n",
       ".xr-has-index {\n",
       "  font-weight: bold;\n",
       "}\n",
       "\n",
       ".xr-var-list,\n",
       ".xr-var-item {\n",
       "  display: contents;\n",
       "}\n",
       "\n",
       ".xr-var-item > div,\n",
       ".xr-var-item label,\n",
       ".xr-var-item > .xr-var-name span {\n",
       "  background-color: var(--xr-background-color-row-even);\n",
       "  margin-bottom: 0;\n",
       "}\n",
       "\n",
       ".xr-var-item > .xr-var-name:hover span {\n",
       "  padding-right: 5px;\n",
       "}\n",
       "\n",
       ".xr-var-list > li:nth-child(odd) > div,\n",
       ".xr-var-list > li:nth-child(odd) > label,\n",
       ".xr-var-list > li:nth-child(odd) > .xr-var-name span {\n",
       "  background-color: var(--xr-background-color-row-odd);\n",
       "}\n",
       "\n",
       ".xr-var-name {\n",
       "  grid-column: 1;\n",
       "}\n",
       "\n",
       ".xr-var-dims {\n",
       "  grid-column: 2;\n",
       "}\n",
       "\n",
       ".xr-var-dtype {\n",
       "  grid-column: 3;\n",
       "  text-align: right;\n",
       "  color: var(--xr-font-color2);\n",
       "}\n",
       "\n",
       ".xr-var-preview {\n",
       "  grid-column: 4;\n",
       "}\n",
       "\n",
       ".xr-index-preview {\n",
       "  grid-column: 2 / 5;\n",
       "  color: var(--xr-font-color2);\n",
       "}\n",
       "\n",
       ".xr-var-name,\n",
       ".xr-var-dims,\n",
       ".xr-var-dtype,\n",
       ".xr-preview,\n",
       ".xr-attrs dt {\n",
       "  white-space: nowrap;\n",
       "  overflow: hidden;\n",
       "  text-overflow: ellipsis;\n",
       "  padding-right: 10px;\n",
       "}\n",
       "\n",
       ".xr-var-name:hover,\n",
       ".xr-var-dims:hover,\n",
       ".xr-var-dtype:hover,\n",
       ".xr-attrs dt:hover {\n",
       "  overflow: visible;\n",
       "  width: auto;\n",
       "  z-index: 1;\n",
       "}\n",
       "\n",
       ".xr-var-attrs,\n",
       ".xr-var-data,\n",
       ".xr-index-data {\n",
       "  display: none;\n",
       "  background-color: var(--xr-background-color) !important;\n",
       "  padding-bottom: 5px !important;\n",
       "}\n",
       "\n",
       ".xr-var-attrs-in:checked ~ .xr-var-attrs,\n",
       ".xr-var-data-in:checked ~ .xr-var-data,\n",
       ".xr-index-data-in:checked ~ .xr-index-data {\n",
       "  display: block;\n",
       "}\n",
       "\n",
       ".xr-var-data > table {\n",
       "  float: right;\n",
       "}\n",
       "\n",
       ".xr-var-name span,\n",
       ".xr-var-data,\n",
       ".xr-index-name div,\n",
       ".xr-index-data,\n",
       ".xr-attrs {\n",
       "  padding-left: 25px !important;\n",
       "}\n",
       "\n",
       ".xr-attrs,\n",
       ".xr-var-attrs,\n",
       ".xr-var-data,\n",
       ".xr-index-data {\n",
       "  grid-column: 1 / -1;\n",
       "}\n",
       "\n",
       "dl.xr-attrs {\n",
       "  padding: 0;\n",
       "  margin: 0;\n",
       "  display: grid;\n",
       "  grid-template-columns: 125px auto;\n",
       "}\n",
       "\n",
       ".xr-attrs dt,\n",
       ".xr-attrs dd {\n",
       "  padding: 0;\n",
       "  margin: 0;\n",
       "  float: left;\n",
       "  padding-right: 10px;\n",
       "  width: auto;\n",
       "}\n",
       "\n",
       ".xr-attrs dt {\n",
       "  font-weight: normal;\n",
       "  grid-column: 1;\n",
       "}\n",
       "\n",
       ".xr-attrs dt:hover span {\n",
       "  display: inline-block;\n",
       "  background: var(--xr-background-color);\n",
       "  padding-right: 10px;\n",
       "}\n",
       "\n",
       ".xr-attrs dd {\n",
       "  grid-column: 2;\n",
       "  white-space: pre-wrap;\n",
       "  word-break: break-all;\n",
       "}\n",
       "\n",
       ".xr-icon-database,\n",
       ".xr-icon-file-text2,\n",
       ".xr-no-icon {\n",
       "  display: inline-block;\n",
       "  vertical-align: middle;\n",
       "  width: 1em;\n",
       "  height: 1.5em !important;\n",
       "  stroke-width: 0;\n",
       "  stroke: currentColor;\n",
       "  fill: currentColor;\n",
       "}\n",
       "</style><pre class='xr-text-repr-fallback'>&lt;xarray.DataArray &#x27;speed&#x27; ()&gt;\n",
       "array(1.73750678)\n",
       "Coordinates:\n",
       "    time     datetime64[ns] 2021-03-14T00:39:58\n",
       "Attributes:\n",
       "    long_name:    Estimated cyclone propagation speed\n",
       "    description:  Taken from Ifremer TCVA product\n",
       "    units:        m/s</pre><div class='xr-wrap' style='display:none'><div class='xr-header'><div class='xr-obj-type'>xarray.DataArray</div><div class='xr-array-name'>'speed'</div></div><ul class='xr-sections'><li class='xr-section-item'><div class='xr-array-wrap'><input id='section-4dc32373-efc2-417f-9bd3-a905e9a47141' class='xr-array-in' type='checkbox' checked><label for='section-4dc32373-efc2-417f-9bd3-a905e9a47141' title='Show/hide data repr'><svg class='icon xr-icon-database'><use xlink:href='#icon-database'></use></svg></label><div class='xr-array-preview xr-preview'><span>1.738</span></div><div class='xr-array-data'><pre>array(1.73750678)</pre></div></div></li><li class='xr-section-item'><input id='section-7304510d-ddf5-4036-8ed3-cfee9aaa6710' class='xr-section-summary-in' type='checkbox'  checked><label for='section-7304510d-ddf5-4036-8ed3-cfee9aaa6710' class='xr-section-summary' >Coordinates: <span>(1)</span></label><div class='xr-section-inline-details'></div><div class='xr-section-details'><ul class='xr-var-list'><li class='xr-var-item'><div class='xr-var-name'><span>time</span></div><div class='xr-var-dims'>()</div><div class='xr-var-dtype'>datetime64[ns]</div><div class='xr-var-preview xr-preview'>2021-03-14T00:39:58</div><input id='attrs-95560750-d8ec-4fa9-bdfd-deea2747d146' class='xr-var-attrs-in' type='checkbox' ><label for='attrs-95560750-d8ec-4fa9-bdfd-deea2747d146' title='Show/Hide attributes'><svg class='icon xr-icon-file-text2'><use xlink:href='#icon-file-text2'></use></svg></label><input id='data-71dbbe60-1911-4dcf-b6f8-db9807e000fe' class='xr-var-data-in' type='checkbox'><label for='data-71dbbe60-1911-4dcf-b6f8-db9807e000fe' title='Show/Hide data repr'><svg class='icon xr-icon-database'><use xlink:href='#icon-database'></use></svg></label><div class='xr-var-attrs'><dl class='xr-attrs'><dt><span>long_name :</span></dt><dd>Acquisition time</dd><dt><span>description :</span></dt><dd>Taken from Ifremer TCVA product</dd></dl></div><div class='xr-var-data'><pre>array(&#x27;2021-03-14T00:39:58.000000000&#x27;, dtype=&#x27;datetime64[ns]&#x27;)</pre></div></li></ul></div></li><li class='xr-section-item'><input id='section-07e734f8-9631-49fb-92f1-4b9309efa238' class='xr-section-summary-in' type='checkbox' disabled ><label for='section-07e734f8-9631-49fb-92f1-4b9309efa238' class='xr-section-summary'  title='Expand/collapse section'>Indexes: <span>(0)</span></label><div class='xr-section-inline-details'></div><div class='xr-section-details'><ul class='xr-var-list'></ul></div></li><li class='xr-section-item'><input id='section-ea3243d5-4b93-432a-a176-4d2403f84f51' class='xr-section-summary-in' type='checkbox'  checked><label for='section-ea3243d5-4b93-432a-a176-4d2403f84f51' class='xr-section-summary' >Attributes: <span>(3)</span></label><div class='xr-section-inline-details'></div><div class='xr-section-details'><dl class='xr-attrs'><dt><span>long_name :</span></dt><dd>Estimated cyclone propagation speed</dd><dt><span>description :</span></dt><dd>Taken from Ifremer TCVA product</dd><dt><span>units :</span></dt><dd>m/s</dd></dl></div></li></ul></div></div>"
      ],
      "text/plain": [
       "<xarray.DataArray 'speed' ()>\n",
       "array(1.73750678)\n",
       "Coordinates:\n",
       "    time     datetime64[ns] 2021-03-14T00:39:58\n",
       "Attributes:\n",
       "    long_name:    Estimated cyclone propagation speed\n",
       "    description:  Taken from Ifremer TCVA product\n",
       "    units:        m/s"
      ]
     },
     "execution_count": 9,
     "metadata": {},
     "output_type": "execute_result"
    }
   ],
   "source": [
    "ds.speed"
   ]
  },
  {
   "cell_type": "code",
   "execution_count": 10,
   "metadata": {},
   "outputs": [
    {
     "name": "stdout",
     "output_type": "stream",
     "text": [
      "1.1118304994309294\n"
     ]
    },
    {
     "data": {
      "text/plain": [
       "[<matplotlib.lines.Line2D at 0x7f21de68c220>]"
      ]
     },
     "execution_count": 10,
     "metadata": {},
     "output_type": "execute_result"
    },
    {
     "data": {
      "image/png": "[encoded data removed]",
      "text/plain": [
       "<Figure size 1500x1000 with 1 Axes>"
      ]
     },
     "metadata": {},
     "output_type": "display_data"
    }
   ],
   "source": [
    "rad = 1.8 * ds.rmx\n",
    "dsp.sel(rad=rad, method='nearest').wind_speed.fillna(dsp.sel(rad=rad, method='nearest').wind_speed.mean(skipna=True)).plot()\n",
    "\n",
    "a, phi, c = get_wn1(np.deg2rad(dsp.theta), dsp.sel(rad=rad, method='nearest').wind_speed.fillna(dsp.sel(rad=rad, method='nearest').wind_speed.mean(skipna=True)), float(ds.vps), float(ds.vmx))\n",
    "print(a) \n",
    "plt.plot(dsp.theta, wn1(np.deg2rad(dsp.theta), a, phi, c))"
   ]
  },
  {
   "cell_type": "code",
   "execution_count": null,
   "metadata": {},
   "outputs": [],
   "source": []
  },
  {
   "cell_type": "code",
   "execution_count": null,
   "metadata": {},
   "outputs": [],
   "source": []
  },
  {
   "cell_type": "code",
   "execution_count": 68,
   "metadata": {},
   "outputs": [],
   "source": []
  },
  {
   "cell_type": "code",
   "execution_count": null,
   "metadata": {},
   "outputs": [],
   "source": []
  },
  {
   "cell_type": "code",
   "execution_count": null,
   "metadata": {},
   "outputs": [],
   "source": []
  },
  {
   "cell_type": "code",
   "execution_count": 18,
   "metadata": {},
   "outputs": [
    {
     "data": {
      "text/plain": [
       "[<matplotlib.lines.Line2D at 0x7f4e05d90fd0>]"
      ]
     },
     "execution_count": 18,
     "metadata": {},
     "output_type": "execute_result"
    },
    {
     "data": {
      "image/png": "[encoded data removed]",
      "text/plain": [
       "<Figure size 1500x1000 with 1 Axes>"
      ]
     },
     "metadata": {},
     "output_type": "display_data"
    }
   ],
   "source": [
    "dsp.sel(rad=slice(rad - 3000, rad + 3000)).wind_speed.mean(dim='rad', skipna=True).rolling(theta=60, center=True, min_periods=2).mean().plot()"
   ]
  },
  {
   "cell_type": "code",
   "execution_count": null,
   "metadata": {},
   "outputs": [],
   "source": []
  },
  {
   "cell_type": "code",
   "execution_count": null,
   "metadata": {},
   "outputs": [],
   "source": []
  },
  {
   "cell_type": "code",
   "execution_count": null,
   "metadata": {},
   "outputs": [],
   "source": []
  }
 ],
 "metadata": {
  "kernelspec": {
   "display_name": "paramProfiles",
   "language": "python",
   "name": "paramprofiles"
  },
  "language_info": {
   "codemirror_mode": {
    "name": "ipython",
    "version": 3
   },
   "file_extension": ".py",
   "mimetype": "text/x-python",
   "name": "python",
   "nbconvert_exporter": "python",
   "pygments_lexer": "ipython3",
   "version": "3.8.15"
  }
 },
 "nbformat": 4,
 "nbformat_minor": 4
}
