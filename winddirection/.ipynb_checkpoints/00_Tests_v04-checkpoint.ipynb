{
 "cells": [
  {
   "cell_type": "markdown",
   "metadata": {},
   "source": [
    "## Wind directions from Kepert BL model\n",
    "\n",
    "### Fit on real SAR cases\n",
    "\n",
    "### Step-by-step convergence model to cope the fact that the reduction factor is on the tangential wind speed and not the total one (doesn't change anything)\n",
    "\n",
    "### Optimization to find the minimum of asymmetric differences via Scipy (takes too long)\n",
    "\n",
    "TODO\n",
    "\n",
    "- In Kepert framework, the TC moves to the right. Put everything moving to the top of the page to be consistent. WAIT: I feel like in Theo's TCVA database TCs are also moving to the right of the image.\n",
    "\n",
    "- In Kepert framework, we have the storm-relative wind speed. To convert it to a wind speed that would be observed by a radar, add the storm motion. In scatterometer acquisitions, the strongest surface winds appear on the right side (see Tamizi). So consistent with what I found.\n",
    "\n",
    "- The BL has a time 1/I to set up. So near the Rmax this is roughly 2-min, very close to the 1-min wind speed of SAR data. Yet near R+ this is more like 2-hrs, so I would need to average (~40km) to get wind speed close to that of SAR. Yet, this doesn't change too much wind_speed as a function of theta, because near R+ the wind speed gradients are very small. Yet it justifies that asymmetries from lower-resolution images (such as Rad or Ascat) near R+ may be examined to do similar work.\n",
    "\n",
    "- Make the model more user-friendly!!!!\n",
    "\n",
    "- Try on TC Goni? (to link with Paper 3)\n",
    "\n",
    "- Link with h+ and u_bar from Paper 3?\n",
    "\n",
    "- If I do a composite analysis, remove storms from the southern hemisphere\n",
    "\n",
    "- To re-put the kepert asymmetries at the right location, turn the Kepert wind field from an angle phi, where phi is the phase of the fitted cosine.\n",
    "\n",
    "- I need to check that the cosine fit happened well at each radius. Remove all the cases for which this was not the case. Indeed, because of rain or spirals, I will have holes in the azimuthal profile of wind_speed at certain radii, which makes the cosine not fit well. I can probably compute a metric such as the RMSE between the fitted cosine and the real data, and remove all the cases that have a too large RMSE (even if that's a lot of cases). In the end if I have only 20 cases left, this is good, because I will make a law on K with the SST. Not that considering the difference between the 90% and 10% percentiles is not necessarily more robust (it is more robust in some cases, but not a significant nb of cases, and I would like to keep track of the phase of the fitted cosine to put the wind field in the right direction).\n",
    "\n",
    "- CAVEAT, the radius range where Kepert's model is valid is in fact very limited and confined near Rmax and R+;\n",
    "\n",
    "WHYs\n",
    "\n",
    "- To compute the WN1 in Kepert at R+, I need to use the R+ of SAR. This is because sharp gradients in the vorticity profiles when I ~ V/r, which prevents from efficiently computing R+. So I will probably also have to use the Rmax of SAR to be consistent.\n",
    "\n",
    "- If I remove the symmetric part before computing the asymmetries, it doesn't change anything.\n",
    "\n",
    "- Compared to the Holland wind profile, Willoughby doesn't seem to remove the I~V/r sharp gradients.\n",
    "\n",
    "- Problem: the wind reduction factor is only on the total wind, not the tangential wind. So I will have to initialize using the wind reduction factor on the total wind, find the inflow angle, and then use these inflow angle values to compute the tangential wind, on which I reapply the wind reduction factor, and so on until the model converges. Answer: This is almost the same like computing the wind reduction factor on the total wind in the radii range for which the model is valid (inertial stability)"
   ]
  },
  {
   "cell_type": "code",
   "execution_count": 1,
   "metadata": {},
   "outputs": [],
   "source": [
    "# General\n",
    "import glob\n",
    "import re\n",
    "import os.path\n",
    "# import warnings\n",
    "# warnings.filterwarnings('ignore')\n",
    "from tqdm.notebook import tqdm\n",
    "import copy\n",
    "\n",
    "# Arrays & Displays\n",
    "import xarray as xr\n",
    "import numpy as np\n",
    "import matplotlib as mpl\n",
    "import matplotlib.pyplot as plt\n",
    "from matplotlib.colors import Normalize\n",
    "from matplotlib.gridspec import GridSpec\n",
    "import matplotlib.cm as cm\n",
    "import pandas as pd\n",
    "\n",
    "# Data treatment\n",
    "from datetime import datetime\n",
    "from scipy.optimize import curve_fit\n",
    "from scipy.optimize import minimize\n",
    "from scipy.interpolate import griddata\n",
    "\n",
    "# Statistics\n",
    "from sklearn import linear_model, neighbors\n",
    "from pykalman import KalmanFilter\n",
    "\n",
    "# Default parameters\n",
    "mpl.rcParams.update({'font.size': 18})\n",
    "mpl.rcParams['figure.figsize'] = (15, 10)\n",
    "mpl.rcParams['axes.facecolor'] = 'white'\n",
    "mpl.rcParams['figure.facecolor'] = 'white'"
   ]
  },
  {
   "cell_type": "code",
   "execution_count": 2,
   "metadata": {},
   "outputs": [],
   "source": [
    "#########################\n",
    "### General functions ###\n",
    "#########################\n",
    "def coriolis(lat):\n",
    "    '''Latitude must be in degrees.'''\n",
    "    Omega = 7.2921e-5                             # Earth rotation vector\n",
    "    fcor  = 2 * Omega * np.sin(lat * np.pi / 180) # Coriolis parameter assuming it's constant \n",
    "    return fcor\n",
    "\n",
    "# def h80(r, vm, rm, B, lat, vmin=0):\n",
    "#     '''Holland 1980 profile.'''\n",
    "#     fcor = coriolis(lat)\n",
    "#     V    = r * 0.\n",
    "#     V    = vmin + np.sqrt((vm ** 2) * ((rm / r) ** B) * np.exp(1 - (rm / r) ** B) + (r * fcor / 2) ** 2) - (r * fcor / 2)\n",
    "#     return V\n",
    "\n",
    "def holland_profile(r, lat, B, Vmin, Rmax, Vmax):\n",
    "    '''We assume that rho is constant and equals 1.15 kg.m-3'''\n",
    "    fcor   = abs(coriolis(lat))\n",
    "    rho    = 1.15\n",
    "    r      = r.astype(float) + 0.001           # To avoid dividing by zero\n",
    "    r_star = (Rmax / r) ** B\n",
    "    V      = r * 0.\n",
    "    V      = Vmin + np.sqrt( ((Vmax - Vmin) ** 2) * r_star * np.exp(1 - r_star) + (r * fcor / 2) ** 2) - (r * fcor / 2)\n",
    "    return V\n",
    "\n",
    "def pol2cart(rho, phi):\n",
    "    x = rho * np.cos(phi)\n",
    "    y = rho * np.sin(phi)\n",
    "    return(x, y)\n",
    "\n",
    "#########################\n",
    "### KEPERT 2001 MODEL ###\n",
    "#########################\n",
    "# Inertial stability\n",
    "def I(Rs, Vs, fcor):\n",
    "    dr   = np.diff(Rs[0, :])[0] # meters\n",
    "    ksi  = 2 * Vs / Rs + fcor\n",
    "    zeta = np.gradient(Vs, dr, axis=1) + Vs / Rs + fcor\n",
    "    return np.sqrt(ksi * zeta)\n",
    "\n",
    "# Coefficients\n",
    "def sqrt_alpha_beta(Rs, Vs, fcor):\n",
    "    '''Corresponds to sqrt(alpha / beta).'''\n",
    "    dr   = np.diff(Rs[0, :])[0] # meteRs\n",
    "    ksi  = 2 * Vs / Rs + fcor\n",
    "    zeta = np.gradient(Vs, dr, axis=1) + Vs / Rs + fcor\n",
    "    return np.sqrt(ksi / zeta)\n",
    "\n",
    "def eta(Rs, Vs, K, C, fcor):\n",
    "    return C * Vs * np.sqrt(2 / (K * ((Vs / Rs) + I(Rs, Vs, fcor))))\n",
    "\n",
    "def ki(Rs, Vs, K, C, fcor):\n",
    "    return C * Vs * np.sqrt(2 / (K * I(Rs, Vs, fcor)))\n",
    "\n",
    "def psi(Rs, Vs, K, C, fcor):\n",
    "    return C * Vs * np.sqrt(2 / abs(K * ((Vs / Rs) - I(Rs, Vs, fcor))))\n",
    "\n",
    "# Amplitudes\n",
    "def A0(Rs, Vs, K, C, fcor):\n",
    "    num = -ki(Rs, Vs, K, C, fcor) * Vs * [1 + 1j * (1 + ki(Rs, Vs, K, C, fcor))]\n",
    "    den = 2 * ki(Rs, Vs, K, C, fcor) ** 2 + 3 * ki(Rs, Vs, K, C, fcor) + 2\n",
    "    return num / den\n",
    "\n",
    "def A1(Rs, Vs, Ut, K, C, fcor):\n",
    "    num = -eta(Rs, Vs, K, C, fcor) * Ut * [1 - 2 * sqrt_alpha_beta(Rs, Vs, fcor) + (1 + 1j) * (1 - sqrt_alpha_beta(Rs, Vs, fcor)) * psi(Rs, Vs, K, C, fcor)]\n",
    "    den = sqrt_alpha_beta(Rs, Vs, fcor) * [(2 + 2j) * (1 + eta(Rs, Vs, K, C, fcor) * psi(Rs, Vs, K, C, fcor)) + 3 * eta(Rs, Vs, K, C, fcor) + 3j * psi(Rs, Vs, K, C, fcor)]\n",
    "    return num / den\n",
    "\n",
    "def A_1(Rs, Vs, Ut, K, C, fcor):\n",
    "    num = -psi(Rs, Vs, K, C, fcor) * Ut * [1 + 2 * sqrt_alpha_beta(Rs, Vs, fcor) + (1 + 1j) * (1 + sqrt_alpha_beta(Rs, Vs, fcor)) * eta(Rs, Vs, K, C, fcor)]\n",
    "    den = sqrt_alpha_beta(Rs, Vs, fcor) * [(2 + 2j) * (1 + eta(Rs, Vs, K, C, fcor) * psi(Rs, Vs, K, C, fcor)) + 3 * psi(Rs, Vs, K, C, fcor) + 3j * eta(Rs, Vs, K, C, fcor)]\n",
    "    return num / den\n",
    "\n",
    "def A1_prime(Rs, Vs, Ut, K, C, fcor):\n",
    "    num = -eta(Rs, Vs, K, C, fcor) * Ut * [1 - 2 * sqrt_alpha_beta(Rs, Vs, fcor) + (1 - 1j) * (1 - sqrt_alpha_beta(Rs, Vs, fcor)) * psi(Rs, Vs, K, C, fcor)]\n",
    "    den = sqrt_alpha_beta(Rs, Vs, fcor) * [2 + 2j + 3 * (eta(Rs, Vs, K, C, fcor) + psi(Rs, Vs, K, C, fcor)) + (2 - 2j) * eta(Rs, Vs, K, C, fcor) * psi(Rs, Vs, K, C, fcor)]\n",
    "    return num / den\n",
    "\n",
    "def A_1_prime(Rs, Vs, Ut, K, C, fcor):\n",
    "    num = -psi(Rs, Vs, K, C, fcor) * Ut * [1 + 2 * sqrt_alpha_beta(Rs, Vs, fcor) + (1 + 1j) * (1 + sqrt_alpha_beta(Rs, Vs, fcor)) * eta(Rs, Vs, K, C, fcor)]\n",
    "    den = sqrt_alpha_beta(Rs, Vs, fcor) * [2 - 2j + 3 * (eta(Rs, Vs, K, C, fcor) + psi(Rs, Vs, K, C, fcor)) + (2 + 2j) * eta(Rs, Vs, K, C, fcor) * psi(Rs, Vs, K, C, fcor)]\n",
    "    return num / den\n",
    "\n",
    "# Radial and tangential wind components at the surface (z = 0)\n",
    "def u0(Rs, Vs, K, C, fcor):\n",
    "    '''At the surface (z = 0)'''\n",
    "    u0 = sqrt_alpha_beta(Rs, Vs, fcor) * np.real(A0(Rs, Vs, K, C, fcor))\n",
    "    return np.reshape(u0,  np.shape(u0)[1:])\n",
    "\n",
    "def v0(Rs, Vs, K, C, fcor):\n",
    "    '''At the surface (z = 0)'''\n",
    "    v0 = np.imag(A0(Rs, Vs, K, C, fcor))\n",
    "    return np.reshape(v0,  np.shape(v0)[1:])\n",
    "\n",
    "def u1(THs, Rs, Vs, Ut, K, C, fcor):\n",
    "    '''At the surface (z = 0)'''\n",
    "    u1        = Vs * 0\n",
    "    msk       = I(Rs, Vs, fcor) >= Vs / Rs\n",
    "    if_msked  = sqrt_alpha_beta(Rs, Vs, fcor) * np.real(A1(Rs, Vs, Ut, K, C, fcor)       * np.exp(1j * THs))\n",
    "    otherwise = sqrt_alpha_beta(Rs, Vs, fcor) * np.real(A1_prime(Rs, Vs, Ut, K, C, fcor) * np.exp(1j * THs))\n",
    "    u1[msk]   = np.reshape(if_msked,  np.shape(if_msked)[1:])[msk]\n",
    "    u1[~msk]  = np.reshape(otherwise, np.shape(if_msked)[1:])[~msk]\n",
    "    return u1\n",
    "\n",
    "def v1(THs, Rs, Vs, Ut, K, C, fcor):\n",
    "    '''At the surface (z = 0)'''\n",
    "    v1        = Vs * 0\n",
    "    msk       = I(Rs, Vs, fcor) >= Vs / Rs\n",
    "    if_msked  = np.imag(A1(Rs, Vs, Ut, K, C, fcor)       * np.exp(1j * THs))\n",
    "    otherwise = np.imag(A1_prime(Rs, Vs, Ut, K, C, fcor) * np.exp(1j * THs))\n",
    "    v1[msk]   = np.reshape(if_msked,  np.shape(if_msked)[1:])[msk]\n",
    "    v1[~msk]  = np.reshape(otherwise, np.shape(if_msked)[1:])[~msk]\n",
    "    return v1\n",
    "\n",
    "def u_1(THs, Rs, Vs, Ut, K, C, fcor):\n",
    "    '''At the surface (z = 0)'''\n",
    "    u1        = Vs * 0\n",
    "    msk       = I(Rs, Vs, fcor) >= Vs / Rs\n",
    "    if_msked  = sqrt_alpha_beta(Rs, Vs, fcor) * np.real(A_1(Rs, Vs, Ut, K, C, fcor)       * np.exp(-1j * THs))\n",
    "    otherwise = sqrt_alpha_beta(Rs, Vs, fcor) * np.real(A_1_prime(Rs, Vs, Ut, K, C, fcor) * np.exp(-1j * THs))\n",
    "    u1[msk]   = np.reshape(if_msked,  np.shape(if_msked)[1:])[msk]\n",
    "    u1[~msk]  = np.reshape(otherwise, np.shape(if_msked)[1:])[~msk]\n",
    "    return u1\n",
    "\n",
    "def v_1(THs, Rs, Vs, Ut, K, C, fcor):\n",
    "    '''At the surface (z = 0)'''\n",
    "    v1        = Vs * 0\n",
    "    msk       = I(Rs, Vs, fcor) >= Vs / Rs\n",
    "    if_msked  = np.imag(A_1(Rs, Vs, Ut, K, C, fcor)       * np.exp(-1j * THs))\n",
    "    otherwise = np.imag(A_1_prime(Rs, Vs, Ut, K, C, fcor) * np.exp(-1j * THs))\n",
    "    v1[msk]   = np.reshape(if_msked,  np.shape(if_msked)[1:])[msk]\n",
    "    v1[~msk]  = np.reshape(otherwise, np.shape(if_msked)[1:])[~msk]\n",
    "    return v1\n",
    "\n",
    "# TOTAL WIND COMPONENTS IN THE BL\n",
    "def u_BL(THs, Rs, Vs, Ut, K, C, fcor):\n",
    "    '''At the surface (z = 0)'''\n",
    "    return u_1(THs, Rs, Vs, Ut, K, C, fcor) + u0(Rs, Vs, K, C, fcor) + u1(THs, Rs, Vs, Ut, K, C, fcor)\n",
    "\n",
    "def v_BL(THs, Rs, Vs, Ut, K, C, fcor):\n",
    "    '''At the surface (z = 0)'''\n",
    "    return Vs + v_1(THs, Rs, Vs, Ut, K, C, fcor) + v0(Rs, Vs, K, C, fcor) + v1(THs, Rs, Vs, Ut, K, C, fcor)\n",
    "\n",
    "# FINAL MODEL\n",
    "def kepert2001(THs, Rs, Vs, Ut, K, C, fcor):\n",
    "    # Returns Kepert wind speeds\n",
    "    u_K01   = u_BL(THs, Rs, Vs, Ut, K, C, fcor)\n",
    "    v_K01   = v_BL(THs, Rs, Vs, Ut, K, C, fcor)  \n",
    "\n",
    "    # Adds the translation speed\n",
    "    Utu     = Ut * np.cos(THs) # Radial component of Ut\n",
    "    Utv     = -Ut * np.sin(THs) # Tangential component of Ut\n",
    "    \n",
    "    return u_K01 + Utu, v_K01 + Utv\n",
    "\n",
    "#########################\n",
    "### CREATE STRUCTURES ###\n",
    "#########################\n",
    "def get_xrDataset_polar(rs, ths, u_K01, v_K01):\n",
    "    kep_pol = xr.Dataset(\n",
    "        data_vars={\n",
    "            'wind_speed': (('theta', 'rad'), np.sqrt(v_K01 ** 2 + u_K01 ** 2)),\n",
    "            'rad_wind':   (('theta', 'rad'), u_K01),\n",
    "            'tan_wind':   (('theta', 'rad'), v_K01),\n",
    "        },\n",
    "        coords={\n",
    "            'theta': np.rad2deg(ths),\n",
    "            'rad': rs,\n",
    "        }\n",
    "    )\n",
    "    kep_pol['inflow_angle'] = np.rad2deg(np.arctan((kep_pol.rad_wind / kep_pol.tan_wind))) # Inflow Angle Polar\n",
    "    return kep_pol\n",
    "\n",
    "def get_xrDataset_cartesian(Xs, Ys, x_ref, y_ref, dim_ref, kep_pol):\n",
    "    '''Slower than its polar counterpart, because 4 interpolations are performed.'''\n",
    "    kep_car = xr.Dataset(\n",
    "        data_vars={\n",
    "            'wind_speed':   (('x', 'y'), griddata((Xs.flatten(), Ys.flatten()), np.array(kep_pol.wind_speed).flatten(),   (x_ref, y_ref), method='nearest')),\n",
    "            'rad_wind':     (('x', 'y'), griddata((Xs.flatten(), Ys.flatten()), np.array(kep_pol.rad_wind).flatten(),     (x_ref, y_ref), method='nearest')),\n",
    "            'tan_wind':     (('x', 'y'), griddata((Xs.flatten(), Ys.flatten()), np.array(kep_pol.tan_wind).flatten(),     (x_ref, y_ref), method='nearest')),\n",
    "            'inflow_angle': (('x', 'y'), griddata((Xs.flatten(), Ys.flatten()), np.array(kep_pol.inflow_angle).flatten(), (x_ref, y_ref), method='nearest')),\n",
    "        },\n",
    "        coords={\n",
    "            'x': dim_ref,\n",
    "            'y': dim_ref,\n",
    "        }\n",
    "    )\n",
    "    return kep_car\n",
    "\n",
    "#########################\n",
    "###   MODEL FITTING   ###\n",
    "#########################\n",
    "def wind_reduction_factor(Rs, Vs, K, C, fcor):\n",
    "    '''wrf = surface azim. wind / gradient azim. wind'''\n",
    "    ki_cst  = ki(Rs, Vs, K, C, fcor)\n",
    "    num     = ki_cst ** 2 + 2 * ki_cst + 2\n",
    "    den     = 2 * ki_cst ** 2 + 3 * ki_cst + 2\n",
    "    return num / den\n",
    "\n",
    "def wn1(thetas, a, phi, c):\n",
    "    return a * np.cos(thetas + phi) + c\n",
    "\n",
    "def get_wn1(thetas, wind_speed, initial_condition=15, upper_bound=80):\n",
    "    '''\n",
    "    initial_condition: initial conidition for the amplitude and the constant c (just put Vplus)\n",
    "    upper_bound: upper bound for the the amplitude and the constant c (just put Vmax)\n",
    "    '''\n",
    "    # Fitting process\n",
    "    popt, pcov = curve_fit(\n",
    "        f=wn1,\n",
    "        xdata=thetas,\n",
    "        ydata=wind_speed,\n",
    "        p0=[initial_condition, np.pi / 2, initial_condition],\n",
    "        bounds=([1., 0., 0.1], [upper_bound, np.pi, upper_bound]) # ([lower bounds], [upper bounds])\n",
    "    )\n",
    "    a, phi, c = popt[0], popt[1], popt[2]\n",
    "    return a, phi, c\n",
    "\n",
    "def get_kepert_asymmetries(THs, Rs, ths, rs, Vs, Ut, K, C, fcr):\n",
    "    # Estimate the wind at the top of the BL with the wind reduction factor\n",
    "    wrf    = wind_reduction_factor(Rs, Vs, K, C, fcr) # azimuthal wind\n",
    "    # wrf    = wind_reduction_factor_total_wind(Rs, Vs, K, C, fcr, Ut) # total wind\n",
    "    Vs_try = Vs / wrf\n",
    "    \n",
    "    # Apply Kepert's model\n",
    "    u_K01, v_K01 = kepert2001(THs, Rs, Vs, Ut, K, C, fcr) # Takes 3-4 seconds\n",
    "    kep_pol      = get_xrDataset_polar(rs, ths, u_K01, v_K01)\n",
    "    \n",
    "    # Test\n",
    "    ASS = []\n",
    "    for rad in np.linspace(ds.rmx - 2000, 2 * ds.rps, 20): # WTF? TO UPDATE: ds should be as input parameters of the function (and change its name to avoid errors)\n",
    "        as_rmx, _,  _ = get_wn1(np.deg2rad(kep_pol.theta), kep_pol.wind_speed.sel(rad=rad, method='nearest'), float(ds.vps), float(ds.vmx))\n",
    "        ASS.append(as_rmx)\n",
    "    plt.plot(np.linspace(ds.rmx - 2000, 2 * ds.rps, 20), ASS, label='K = {}'.format(K))\n",
    "    \n",
    "    # kep_pol.wind_speed.sel(rad=float(ds.rmx), method='nearest').plot(label='K = {}'.format(K))\n",
    "    \n",
    "    # # Plot asymmetries\n",
    "    # kep_pol.wind_speed.sel(rad=float(ds.rmx), method='nearest').plot(label='K = {}'.format(K))\n",
    "    # kep_pol.wind_speed.sel(rad=float(ds.rps), method='nearest').plot(label='K = {}'.format(K))\n",
    "    \n",
    "    # Extract WN1 metrics\n",
    "    ak_rmx, phi, ck_rmx = get_wn1(np.deg2rad(kep_pol.theta), kep_pol.wind_speed.sel(rad=float(ds.rmx), method='nearest'), float(ds.vps), 2 * float(ds.vmx)) # Kepert at Rmax\n",
    "    # print(ak_rmx, phi, ck_rmx)\n",
    "    # plt.plot(kep_pol.theta, wn1(np.deg2rad(kep_pol.theta), ak_rmx, phi, ck_rmx))\n",
    "    ak_rps, _, ck_rps = get_wn1(np.deg2rad(kep_pol.theta), kep_pol.wind_speed.sel(rad=float(ds.rps), method='nearest'), float(ds.vps), float(ds.vmx)) # Kepert at R+\n",
    "    \n",
    "    return ak_rmx, ck_rmx, ak_rps, ck_rps"
   ]
  },
  {
   "cell_type": "code",
   "execution_count": 3,
   "metadata": {},
   "outputs": [],
   "source": [
    "#########################\n",
    "###  HYPERPARAMETERS  ###\n",
    "#########################\n",
    "# Reference grids\n",
    "rs           = np.linspace(100, 5e5, 5000)\n",
    "ths          = np.linspace(0, 2 * np.pi, 361)                         # in radians\n",
    "Rs, THs      = np.meshgrid(rs, ths)                                   # shape (361, 5000)\n",
    "Xs, Ys       = pol2cart(Rs, THs)                                      # to create cartesian dataset\n",
    "dim_ref      = np.linspace(-500, 500, int((500 // 1 * 2) + 1)) * 1000 # to create cartesian dataset\n",
    "x_ref, y_ref = np.meshgrid(dim_ref, dim_ref)                          # to create cartesian dataset"
   ]
  },
  {
   "cell_type": "code",
   "execution_count": 4,
   "metadata": {},
   "outputs": [
    {
     "name": "stderr",
     "output_type": "stream",
     "text": [
      "/home/arthur/anaconda3/envs/paramProfiles/lib/python3.8/site-packages/xarray/backends/plugins.py:71: RuntimeWarning: Engine 'cfgrib' loading failed:\n",
      "/home/arthur/anaconda3/envs/paramProfiles/lib/python3.8/lib-dynload/../../libffi.so.8: version `LIBFFI_CLOSURE_7.0' not found (required by /home/arthur/anaconda3/envs/paramProfiles/lib/python3.8/site-packages/_cffi_backend.cpython-38-x86_64-linux-gnu.so)\n",
      "  warnings.warn(f\"Engine {name!r} loading failed:\\n{ex}\", RuntimeWarning)\n"
     ]
    },
    {
     "name": "stdout",
     "output_type": "stream",
     "text": [
      "['DARIAN' 'DORA' 'DORIAN' 'FREDDY' 'LEE' 'MARGOT' 'SURIGAE']\n"
     ]
    }
   ],
   "source": [
    "### OPEN THE SAR IMAGE\n",
    "# Need to choose a TC for which speed is sufficiently high during most intense phases of the TC\n",
    "# If possible >2023 to have RCM\n",
    "# I would like to have a collocated Ascat on the RCM acquisition!!\n",
    "\n",
    "dsg      = xr.open_dataset('/home/arthur/results/sar_extended/03_addIBT/dsg.nc')\n",
    "vls, cts = np.unique(dsg.name, return_counts=True)\n",
    "print(vls[cts >= 10])\n",
    "\n",
    "dsg.where(dsg.name == 'DORA', drop=True).isel(time=7).file\n",
    "ds   = dsg.where(dsg.name == 'DORA', drop=True).isel(time=7)\n",
    "# a   = xr.open_dataset('/home/arthur/data/cyclobs/RCM/sar_files/s1a-ew-owi-ca-20230809t165107-20230809t165210-000003-05FD3D_sw_ep052023_cyclone_polar.nc').isel(time=0) # time = 8, Dora\n",
    "dsp  = xr.open_dataset('/home/arthur/data/cyclobs/RCM/sar_files/rcm1--owi-ca-20230809t050027-20230809t050143-00003-______sw_ep052023_cyclone_polar.nc').isel(time=0) # time = 7, Dora"
   ]
  },
  {
   "cell_type": "code",
   "execution_count": 5,
   "metadata": {},
   "outputs": [],
   "source": [
    "# ### Extract WN1 metrics on the SAR\n",
    "# as_rmx, _, _, cs_rmx = get_wn1(np.deg2rad(dsp.theta), dsp.sel(rad=ds.rmx, method='nearest').wind_speed, float(ds.vps), float(ds.vmx)) # SAR at Rmax\n",
    "# as_rps, _, _, cs_rps = get_wn1(np.deg2rad(dsp.theta), dsp.sel(rad=ds.rps, method='nearest').wind_speed, float(ds.vps), float(ds.vmx)) # SAR at R+\n",
    "\n",
    "# ### Extract WN1 metrics on the SAR\n",
    "# as_rmx, _, cs_rmx = get_wn1(np.deg2rad(dsp.theta), dsp.sel(rad=ds.rmx, method='nearest').wind_speed, float(ds.vps), float(ds.vmx)) # SAR at Rmax\n",
    "# as_rps, _, cs_rps = get_wn1(np.deg2rad(dsp.theta), dsp.sel(rad=ds.rps, method='nearest').wind_speed, float(ds.vps), float(ds.vmx)) # SAR at R+"
   ]
  },
  {
   "cell_type": "code",
   "execution_count": 6,
   "metadata": {},
   "outputs": [],
   "source": [
    "### Initialize\n",
    "# Fixed parameters\n",
    "vmx = float(ds.vmx_hol)\n",
    "rmx = float(ds.rmx_hol)\n",
    "vmn = float(ds.vmn_hol)\n",
    "B   = float(ds.B_hol)\n",
    "lat = float(ds.lat)\n",
    "fcr = float(ds.fcor)\n",
    "Ut  = float(ds.speed)\n",
    "\n",
    "# Holland with fixed parameters\n",
    "# V   = h80(rs, vmx, rmx, B, lat, vmn)\n",
    "V   = holland_profile(rs, lat, B, vmn, rmx, vmx)\n",
    "Vs  = np.stack([V for i in range(np.shape(THs)[0])]) # Shape (361, 5000)\n",
    "\n",
    "# Error threshold when fitting WN1s\n",
    "eps = 0.1"
   ]
  },
  {
   "cell_type": "code",
   "execution_count": 7,
   "metadata": {},
   "outputs": [],
   "source": [
    "def get_wn1(thetas, wind_speed, initial_condition=15, upper_bound=80):\n",
    "    '''\n",
    "    initial_condition: initial conidition for the amplitude and the constant c (just put Vplus)\n",
    "    upper_bound: upper bound for the the amplitude and the constant c (just put Vmax)\n",
    "    '''\n",
    "    # Fitting process\n",
    "    popt, pcov = curve_fit(\n",
    "        f=wn1,\n",
    "        xdata=thetas,\n",
    "        ydata=wind_speed,\n",
    "        p0=[initial_condition, np.pi / 2, initial_condition],\n",
    "        bounds=([0.1, 0., 0.1], [upper_bound, np.pi, upper_bound]) # ([lower bounds], [upper bounds])\n",
    "    )\n",
    "    a, phi, c = popt[0], popt[1], popt[2]\n",
    "    return a, phi, c\n",
    "\n",
    "def rmse(predictions, targets):\n",
    "    return np.sqrt(((predictions - targets) ** 2).mean())"
   ]
  },
  {
   "cell_type": "code",
   "execution_count": 8,
   "metadata": {},
   "outputs": [
    {
     "data": {
      "application/vnd.jupyter.widget-view+json": {
       "model_id": "75be42d0a25d4121a7a318f92e158e8f",
       "version_major": 2,
       "version_minor": 0
      },
      "text/plain": [
       "  0%|          | 0/38 [00:00<?, ?it/s]"
      ]
     },
     "metadata": {},
     "output_type": "display_data"
    }
   ],
   "source": [
    "# Compute SAR asymmetries\n",
    "I_Vr         = (I(Rs, Vs, fcr) - Vs / rs)[0, :]                # I - V/r\n",
    "r_stt, r_end = rs[I_Vr <= 0][0], rs[I_Vr <= 0][-1] # Define the bounds\n",
    "# Initialize\n",
    "ass         = []\n",
    "valid_radii = np.array(dsp.rad.where((dsp.rad >= r_stt) & (dsp.rad <= r_end), drop=True))\n",
    "# Iterate over all radii\n",
    "for rad in tqdm(valid_radii): # Iterate only in the valid range to optimize time\n",
    "    valid_dsp = dsp.sel(rad=rad, method='nearest').dropna(subset=['wind_speed'], dim='theta')\n",
    "    a, phi, c = get_wn1(np.deg2rad(valid_dsp.theta), valid_dsp.wind_speed, float(ds.vps), float(ds.vmx))\n",
    "    avg_ws    = float(valid_dsp.wind_speed.mean(dim='theta'))\n",
    "    error     = float(rmse(wn1(np.deg2rad(valid_dsp.theta), a, phi, c), valid_dsp.wind_speed)) \n",
    "    if error < eps * avg_ws: # check that the fit did well\n",
    "        ass.append(a)\n",
    "    else:\n",
    "        ass.append(np.nan)"
   ]
  },
  {
   "cell_type": "code",
   "execution_count": null,
   "metadata": {},
   "outputs": [],
   "source": []
  },
  {
   "cell_type": "code",
   "execution_count": 9,
   "metadata": {},
   "outputs": [],
   "source": [
    "def get_kepert_asymmetries(THs, Rs, ths, rs, Vs, Ut, K, C, fcr, valid_radii):\n",
    "    # Estimate the wind at the top of the BL with the wind reduction factor\n",
    "    wrf          = wind_reduction_factor(Rs, Vs, K, C, fcr) # azimuthal wind\n",
    "    Vs_try       = Vs / wrf\n",
    "\n",
    "    # Apply Kepert's model\n",
    "    u_K01, v_K01 = kepert2001(THs, Rs, Vs_try, Ut, K, C, fcr) # Takes 3-4 seconds\n",
    "    kep_pol      = get_xrDataset_polar(rs, ths, u_K01, v_K01)\n",
    "\n",
    "    # Compute asymmetries on Kepert wind field\n",
    "    aks         = []\n",
    "    # Iterate over all radii\n",
    "    for rad in tqdm(valid_radii): # Iterate only in the valid range to optimize time\n",
    "        ak, _, _  = get_wn1(np.deg2rad(kep_pol.theta), kep_pol.wind_speed.sel(rad=rad, method='nearest'), np.max(Vs[0, :]) / 3, np.max(Vs[0, :]))\n",
    "        aks.append(ak)\n",
    "    \n",
    "    return aks, kep_pol\n",
    "\n",
    "def get_asymmetries_difference(K, THs, Rs, ths, rs, Vs, Ut, C, fcr, valid_radii, ass):\n",
    "    aks, _ = get_kepert_asymmetries(THs, Rs, ths, rs, Vs, Ut, K, C, fcr, valid_radii)\n",
    "    diffs  = abs(np.array(aks) - np.array(ass))\n",
    "    diff   = diffs.mean()\n",
    "    print(diff)\n",
    "    return diff"
   ]
  },
  {
   "cell_type": "code",
   "execution_count": 11,
   "metadata": {},
   "outputs": [
    {
     "data": {
      "application/vnd.jupyter.widget-view+json": {
       "model_id": "4038127232b5405c97fa26d97e715dbb",
       "version_major": 2,
       "version_minor": 0
      },
      "text/plain": [
       "  0%|          | 0/38 [00:00<?, ?it/s]"
      ]
     },
     "metadata": {},
     "output_type": "display_data"
    },
    {
     "name": "stdout",
     "output_type": "stream",
     "text": [
      "2.040486349818045\n"
     ]
    },
    {
     "data": {
      "application/vnd.jupyter.widget-view+json": {
       "model_id": "a21498f539504cd6864b9649eea289a7",
       "version_major": 2,
       "version_minor": 0
      },
      "text/plain": [
       "  0%|          | 0/38 [00:00<?, ?it/s]"
      ]
     },
     "metadata": {},
     "output_type": "display_data"
    },
    {
     "name": "stdout",
     "output_type": "stream",
     "text": [
      "1.9675450677792539\n"
     ]
    },
    {
     "data": {
      "application/vnd.jupyter.widget-view+json": {
       "model_id": "37d30a5ccffa4e0b8ccd5861e8792b2f",
       "version_major": 2,
       "version_minor": 0
      },
      "text/plain": [
       "  0%|          | 0/38 [00:00<?, ?it/s]"
      ]
     },
     "metadata": {},
     "output_type": "display_data"
    },
    {
     "name": "stdout",
     "output_type": "stream",
     "text": [
      "1.89880673310717\n"
     ]
    },
    {
     "data": {
      "application/vnd.jupyter.widget-view+json": {
       "model_id": "8ecad51a0b2c4676b626b3399ee1e3ed",
       "version_major": 2,
       "version_minor": 0
      },
      "text/plain": [
       "  0%|          | 0/38 [00:00<?, ?it/s]"
      ]
     },
     "metadata": {},
     "output_type": "display_data"
    },
    {
     "name": "stdout",
     "output_type": "stream",
     "text": [
      "1.8338676430566887\n"
     ]
    },
    {
     "data": {
      "application/vnd.jupyter.widget-view+json": {
       "model_id": "529d766ee08b4fe8afef1ed2c7f807d6",
       "version_major": 2,
       "version_minor": 0
      },
      "text/plain": [
       "  0%|          | 0/38 [00:00<?, ?it/s]"
      ]
     },
     "metadata": {},
     "output_type": "display_data"
    },
    {
     "name": "stdout",
     "output_type": "stream",
     "text": [
      "1.7140360467844704\n"
     ]
    },
    {
     "data": {
      "application/vnd.jupyter.widget-view+json": {
       "model_id": "2805f5ca32b24f09b690a5c088b3140f",
       "version_major": 2,
       "version_minor": 0
      },
      "text/plain": [
       "  0%|          | 0/38 [00:00<?, ?it/s]"
      ]
     },
     "metadata": {},
     "output_type": "display_data"
    },
    {
     "name": "stdout",
     "output_type": "stream",
     "text": [
      "1.6057540961899992\n"
     ]
    },
    {
     "data": {
      "application/vnd.jupyter.widget-view+json": {
       "model_id": "ce46f8a5e4984a53ae7682d1576700aa",
       "version_major": 2,
       "version_minor": 0
      },
      "text/plain": [
       "  0%|          | 0/38 [00:00<?, ?it/s]"
      ]
     },
     "metadata": {},
     "output_type": "display_data"
    },
    {
     "name": "stdout",
     "output_type": "stream",
     "text": [
      "1.4170769680076474\n"
     ]
    },
    {
     "data": {
      "application/vnd.jupyter.widget-view+json": {
       "model_id": "19f91b8b423a48ce8e182d94729c8f15",
       "version_major": 2,
       "version_minor": 0
      },
      "text/plain": [
       "  0%|          | 0/38 [00:00<?, ?it/s]"
      ]
     },
     "metadata": {},
     "output_type": "display_data"
    },
    {
     "name": "stdout",
     "output_type": "stream",
     "text": [
      "1.2574718359052928\n"
     ]
    },
    {
     "data": {
      "application/vnd.jupyter.widget-view+json": {
       "model_id": "24c3fa119d934ad38030493a89560eaf",
       "version_major": 2,
       "version_minor": 0
      },
      "text/plain": [
       "  0%|          | 0/38 [00:00<?, ?it/s]"
      ]
     },
     "metadata": {},
     "output_type": "display_data"
    },
    {
     "name": "stdout",
     "output_type": "stream",
     "text": [
      "1.052434689466531\n"
     ]
    },
    {
     "data": {
      "application/vnd.jupyter.widget-view+json": {
       "model_id": "37856092404a4f08ad290ce8a5e87beb",
       "version_major": 2,
       "version_minor": 0
      },
      "text/plain": [
       "  0%|          | 0/38 [00:00<?, ?it/s]"
      ]
     },
     "metadata": {},
     "output_type": "display_data"
    },
    {
     "name": "stdout",
     "output_type": "stream",
     "text": [
      "0.9517333654619526\n"
     ]
    },
    {
     "data": {
      "application/vnd.jupyter.widget-view+json": {
       "model_id": "453c8b39f1de45d1b6eae1be819e4408",
       "version_major": 2,
       "version_minor": 0
      },
      "text/plain": [
       "  0%|          | 0/38 [00:00<?, ?it/s]"
      ]
     },
     "metadata": {},
     "output_type": "display_data"
    },
    {
     "name": "stdout",
     "output_type": "stream",
     "text": [
      "0.8469569849494183\n"
     ]
    },
    {
     "data": {
      "application/vnd.jupyter.widget-view+json": {
       "model_id": "4d47948f635f4dd58d7ffc5454e07045",
       "version_major": 2,
       "version_minor": 0
      },
      "text/plain": [
       "  0%|          | 0/38 [00:00<?, ?it/s]"
      ]
     },
     "metadata": {},
     "output_type": "display_data"
    },
    {
     "name": "stdout",
     "output_type": "stream",
     "text": [
      "0.8149855719115997\n"
     ]
    },
    {
     "data": {
      "application/vnd.jupyter.widget-view+json": {
       "model_id": "e073dfe62d8c41018b4075707f0bd73d",
       "version_major": 2,
       "version_minor": 0
      },
      "text/plain": [
       "  0%|          | 0/38 [00:00<?, ?it/s]"
      ]
     },
     "metadata": {},
     "output_type": "display_data"
    },
    {
     "name": "stdout",
     "output_type": "stream",
     "text": [
      "0.82252532079687\n"
     ]
    },
    {
     "data": {
      "application/vnd.jupyter.widget-view+json": {
       "model_id": "ba9429e1e6cc49a0afefccc64f0f9560",
       "version_major": 2,
       "version_minor": 0
      },
      "text/plain": [
       "  0%|          | 0/38 [00:00<?, ?it/s]"
      ]
     },
     "metadata": {},
     "output_type": "display_data"
    },
    {
     "name": "stdout",
     "output_type": "stream",
     "text": [
      "0.812835320522208\n"
     ]
    },
    {
     "data": {
      "application/vnd.jupyter.widget-view+json": {
       "model_id": "dc4cc51ae81a441a8d9504157b9365e9",
       "version_major": 2,
       "version_minor": 0
      },
      "text/plain": [
       "  0%|          | 0/38 [00:00<?, ?it/s]"
      ]
     },
     "metadata": {},
     "output_type": "display_data"
    },
    {
     "name": "stdout",
     "output_type": "stream",
     "text": [
      "0.82252532079687\n"
     ]
    },
    {
     "data": {
      "application/vnd.jupyter.widget-view+json": {
       "model_id": "39703f26f33f42aebc5d13ebc33d6b61",
       "version_major": 2,
       "version_minor": 0
      },
      "text/plain": [
       "  0%|          | 0/38 [00:00<?, ?it/s]"
      ]
     },
     "metadata": {},
     "output_type": "display_data"
    },
    {
     "name": "stdout",
     "output_type": "stream",
     "text": [
      "0.8116510277339009\n"
     ]
    },
    {
     "data": {
      "application/vnd.jupyter.widget-view+json": {
       "model_id": "f99a3339b3c4438ba7aede9882067d48",
       "version_major": 2,
       "version_minor": 0
      },
      "text/plain": [
       "  0%|          | 0/38 [00:00<?, ?it/s]"
      ]
     },
     "metadata": {},
     "output_type": "display_data"
    },
    {
     "name": "stdout",
     "output_type": "stream",
     "text": [
      "0.8149855719115997\n"
     ]
    },
    {
     "data": {
      "application/vnd.jupyter.widget-view+json": {
       "model_id": "725e9154aa724142a2aabad2eeefe8d4",
       "version_major": 2,
       "version_minor": 0
      },
      "text/plain": [
       "  0%|          | 0/38 [00:00<?, ?it/s]"
      ]
     },
     "metadata": {},
     "output_type": "display_data"
    },
    {
     "name": "stdout",
     "output_type": "stream",
     "text": [
      "0.811467355234521\n"
     ]
    },
    {
     "data": {
      "application/vnd.jupyter.widget-view+json": {
       "model_id": "b7763b6bbc414a1695d04259f1839cf2",
       "version_major": 2,
       "version_minor": 0
      },
      "text/plain": [
       "  0%|          | 0/38 [00:00<?, ?it/s]"
      ]
     },
     "metadata": {},
     "output_type": "display_data"
    },
    {
     "name": "stdout",
     "output_type": "stream",
     "text": [
      "0.812835320522208\n"
     ]
    },
    {
     "data": {
      "application/vnd.jupyter.widget-view+json": {
       "model_id": "cd8720f01c5e4d65a0c2acb4fce3e3ac",
       "version_major": 2,
       "version_minor": 0
      },
      "text/plain": [
       "  0%|          | 0/38 [00:00<?, ?it/s]"
      ]
     },
     "metadata": {},
     "output_type": "display_data"
    },
    {
     "name": "stdout",
     "output_type": "stream",
     "text": [
      "0.8110834939119845\n"
     ]
    },
    {
     "data": {
      "application/vnd.jupyter.widget-view+json": {
       "model_id": "9197670908bc498c86bdc97a903404eb",
       "version_major": 2,
       "version_minor": 0
      },
      "text/plain": [
       "  0%|          | 0/38 [00:00<?, ?it/s]"
      ]
     },
     "metadata": {},
     "output_type": "display_data"
    },
    {
     "name": "stdout",
     "output_type": "stream",
     "text": [
      "0.8116510277339009\n"
     ]
    },
    {
     "data": {
      "application/vnd.jupyter.widget-view+json": {
       "model_id": "d27075c9a8f542dcb36ba360a745cbfd",
       "version_major": 2,
       "version_minor": 0
      },
      "text/plain": [
       "  0%|          | 0/38 [00:00<?, ?it/s]"
      ]
     },
     "metadata": {},
     "output_type": "display_data"
    },
    {
     "name": "stdout",
     "output_type": "stream",
     "text": [
      "0.8112789938785984\n"
     ]
    },
    {
     "data": {
      "application/vnd.jupyter.widget-view+json": {
       "model_id": "00970dc6f14742758ac0ed3e37b26de9",
       "version_major": 2,
       "version_minor": 0
      },
      "text/plain": [
       "  0%|          | 0/38 [00:00<?, ?it/s]"
      ]
     },
     "metadata": {},
     "output_type": "display_data"
    },
    {
     "name": "stdout",
     "output_type": "stream",
     "text": [
      "0.8112776351850332\n"
     ]
    },
    {
     "data": {
      "application/vnd.jupyter.widget-view+json": {
       "model_id": "dc69fb0e86694899a7d2e7188adf5b35",
       "version_major": 2,
       "version_minor": 0
      },
      "text/plain": [
       "  0%|          | 0/38 [00:00<?, ?it/s]"
      ]
     },
     "metadata": {},
     "output_type": "display_data"
    },
    {
     "name": "stdout",
     "output_type": "stream",
     "text": [
      "0.8110912740409824\n"
     ]
    },
    {
     "data": {
      "application/vnd.jupyter.widget-view+json": {
       "model_id": "8e7127dad13e450580ebf878e1300bd5",
       "version_major": 2,
       "version_minor": 0
      },
      "text/plain": [
       "  0%|          | 0/38 [00:00<?, ?it/s]"
      ]
     },
     "metadata": {},
     "output_type": "display_data"
    },
    {
     "name": "stdout",
     "output_type": "stream",
     "text": [
      "0.811182151325124\n"
     ]
    },
    {
     "data": {
      "application/vnd.jupyter.widget-view+json": {
       "model_id": "e858dd5510ac4da289d6dc8314fa4e9e",
       "version_major": 2,
       "version_minor": 0
      },
      "text/plain": [
       "  0%|          | 0/38 [00:00<?, ?it/s]"
      ]
     },
     "metadata": {},
     "output_type": "display_data"
    },
    {
     "name": "stdout",
     "output_type": "stream",
     "text": [
      "0.8110334761493597\n"
     ]
    },
    {
     "data": {
      "application/vnd.jupyter.widget-view+json": {
       "model_id": "1913107eb4054c4289ede767ce49cee0",
       "version_major": 2,
       "version_minor": 0
      },
      "text/plain": [
       "  0%|          | 0/38 [00:00<?, ?it/s]"
      ]
     },
     "metadata": {},
     "output_type": "display_data"
    },
    {
     "name": "stdout",
     "output_type": "stream",
     "text": [
      "0.8110912740409824\n"
     ]
    },
    {
     "data": {
      "application/vnd.jupyter.widget-view+json": {
       "model_id": "458f91b41e944ec882a2ded613f7fa93",
       "version_major": 2,
       "version_minor": 0
      },
      "text/plain": [
       "  0%|          | 0/38 [00:00<?, ?it/s]"
      ]
     },
     "metadata": {},
     "output_type": "display_data"
    },
    {
     "name": "stdout",
     "output_type": "stream",
     "text": [
      "0.8110585425242532\n"
     ]
    },
    {
     "data": {
      "application/vnd.jupyter.widget-view+json": {
       "model_id": "852db538b59f4265bdf8d92fd6b27c95",
       "version_major": 2,
       "version_minor": 0
      },
      "text/plain": [
       "  0%|          | 0/38 [00:00<?, ?it/s]"
      ]
     },
     "metadata": {},
     "output_type": "display_data"
    },
    {
     "name": "stdout",
     "output_type": "stream",
     "text": [
      "0.8110447191665602\n"
     ]
    },
    {
     "data": {
      "application/vnd.jupyter.widget-view+json": {
       "model_id": "ff38ca23696c44c0b690de76e7d81167",
       "version_major": 2,
       "version_minor": 0
      },
      "text/plain": [
       "  0%|          | 0/38 [00:00<?, ?it/s]"
      ]
     },
     "metadata": {},
     "output_type": "display_data"
    },
    {
     "name": "stdout",
     "output_type": "stream",
     "text": [
      "0.8110214481347368\n"
     ]
    },
    {
     "data": {
      "application/vnd.jupyter.widget-view+json": {
       "model_id": "edd25466726442ff968f4f2f1aacd6fe",
       "version_major": 2,
       "version_minor": 0
      },
      "text/plain": [
       "  0%|          | 0/38 [00:00<?, ?it/s]"
      ]
     },
     "metadata": {},
     "output_type": "display_data"
    },
    {
     "name": "stdout",
     "output_type": "stream",
     "text": [
      "0.8110447191665602\n"
     ]
    },
    {
     "data": {
      "application/vnd.jupyter.widget-view+json": {
       "model_id": "40f2dd13a46049c8b329b67ad94d20b9",
       "version_major": 2,
       "version_minor": 0
      },
      "text/plain": [
       "  0%|          | 0/38 [00:00<?, ?it/s]"
      ]
     },
     "metadata": {},
     "output_type": "display_data"
    },
    {
     "name": "stdout",
     "output_type": "stream",
     "text": [
      "0.8110271915262557\n"
     ]
    }
   ],
   "source": [
    "C = 1.5e-3\n",
    "\n",
    "# Find K by minimizing the asymmetries difference;\n",
    "# Takes a few minutes...\n",
    "res = minimize(get_asymmetries_difference, x0=50, args=(THs, Rs, ths, rs, Vs, Ut, C, fcr, valid_radii, ass), tol=0.1, method='Nelder-Mead')"
   ]
  },
  {
   "cell_type": "code",
   "execution_count": 12,
   "metadata": {},
   "outputs": [
    {
     "data": {
      "text/plain": [
       "array([231.71875])"
      ]
     },
     "execution_count": 12,
     "metadata": {},
     "output_type": "execute_result"
    }
   ],
   "source": [
    "res.x"
   ]
  },
  {
   "cell_type": "code",
   "execution_count": null,
   "metadata": {},
   "outputs": [],
   "source": []
  },
  {
   "cell_type": "code",
   "execution_count": null,
   "metadata": {},
   "outputs": [],
   "source": [
    "p1 = 's1a-ew-owi-cm-20201029t205631-20201029t205758-000003-0415BC_sw.nc'\n",
    "p2 = 's1a-ew-owi-cm-20201030t092540-20201030t092711-000003-0415F8_sw.nc'\n",
    "p3 = 'rs2--owi-cm-20201030t211604-20201030t211719-00003-______sw.nc'"
   ]
  },
  {
   "cell_type": "code",
   "execution_count": null,
   "metadata": {},
   "outputs": [],
   "source": []
  },
  {
   "cell_type": "code",
   "execution_count": null,
   "metadata": {},
   "outputs": [],
   "source": [
    "ds.file"
   ]
  },
  {
   "cell_type": "code",
   "execution_count": null,
   "metadata": {},
   "outputs": [],
   "source": []
  },
  {
   "cell_type": "code",
   "execution_count": null,
   "metadata": {},
   "outputs": [],
   "source": []
  }
 ],
 "metadata": {
  "kernelspec": {
   "display_name": "Python 3 (ipykernel)",
   "language": "python",
   "name": "python3"
  },
  "language_info": {
   "codemirror_mode": {
    "name": "ipython",
    "version": 3
   },
   "file_extension": ".py",
   "mimetype": "text/x-python",
   "name": "python",
   "nbconvert_exporter": "python",
   "pygments_lexer": "ipython3",
   "version": "3.12.2"
  }
 },
 "nbformat": 4,
 "nbformat_minor": 4
}
