{
 "cells": [
  {
   "cell_type": "markdown",
   "metadata": {},
   "source": [
    "## Get SAR Asymmetries\n"
   ]
  },
  {
   "cell_type": "code",
   "execution_count": 2,
   "metadata": {},
   "outputs": [],
   "source": [
    "# General\n",
    "import glob\n",
    "import re\n",
    "import os.path\n",
    "# import warnings\n",
    "# warnings.filterwarnings('ignore')\n",
    "from tqdm.notebook import tqdm\n",
    "import copy\n",
    "\n",
    "# Arrays & Displays\n",
    "import xarray as xr\n",
    "import numpy as np\n",
    "import matplotlib as mpl\n",
    "import matplotlib.pyplot as plt\n",
    "from matplotlib.colors import Normalize\n",
    "from matplotlib.gridspec import GridSpec\n",
    "import matplotlib.cm as cm\n",
    "import pandas as pd\n",
    "\n",
    "# Data treatment\n",
    "from datetime import datetime\n",
    "from scipy.optimize import curve_fit\n",
    "from scipy.interpolate import griddata\n",
    "\n",
    "# Statistics\n",
    "# from sklearn import linear_model, neighbors\n",
    "# from pykalman import KalmanFilter\n",
    "\n",
    "# Default parameters\n",
    "mpl.rcParams.update({'font.size': 18})\n",
    "mpl.rcParams['figure.figsize'] = (15, 10)\n",
    "mpl.rcParams['axes.facecolor'] = 'white'\n",
    "mpl.rcParams['figure.facecolor'] = 'white'"
   ]
  },
  {
   "cell_type": "code",
   "execution_count": 32,
   "metadata": {},
   "outputs": [],
   "source": [
    "# Paths & Params\n",
    "PTHS = {\n",
    "    # 'dsg_pth': '/home/arthur/results/sar_extended/03_addIBT/dsg.nc',\n",
    "    'dsg_pth': '/home/arthur/results/sar_extended/05_addPRIMED/dsg.nc',\n",
    "    # 'sar_dir': '/home/arthur/data/cyclobs/RCM/sar_files/',\n",
    "    'sar_dir': '/home/arthur/data/tropical_cyclones/SAR/S1_RS2_RCM/sar_files/',\n",
    "    'sav_dir': '/home/arthur/results/TCsLifeMonitFromObs/winddirection/01_getSARasymmetries/',\n",
    "}"
   ]
  },
  {
   "cell_type": "code",
   "execution_count": 28,
   "metadata": {},
   "outputs": [],
   "source": [
    "def wn1(thetas, a, phi, c):\n",
    "    return a * np.cos(thetas + phi) + c\n",
    "\n",
    "def get_wn1(thetas, wind_speed, initial_condition=15, upper_bound=80):\n",
    "    '''\n",
    "    initial_condition: initial conidition for the amplitude and the constant c (just put Vplus)\n",
    "    upper_bound: upper bound for the the amplitude and the constant c (just put Vmax)\n",
    "    '''\n",
    "    # Fitting process\n",
    "    popt, pcov = curve_fit(\n",
    "        f=wn1,\n",
    "        xdata=thetas,\n",
    "        ydata=wind_speed,\n",
    "        p0=[initial_condition, np.pi / 2, initial_condition],\n",
    "        bounds=([0.1, 0., 0.1], [upper_bound, np.pi, upper_bound]) # ([lower bounds], [upper bounds])\n",
    "    )\n",
    "    a, phi, c = popt[0], popt[1], popt[2]\n",
    "    return a, phi, c\n",
    "\n",
    "def I(Rs, Vs, fcor):\n",
    "    dr   = np.diff(Rs[0, :])[0] # meters\n",
    "    ksi  = 2 * Vs / Rs + fcor\n",
    "    zeta = np.gradient(Vs, dr, axis=1) + Vs / Rs + fcor\n",
    "    return np.sqrt(ksi * zeta)\n",
    "\n",
    "def holland_profile(r, lat, B, Vmin, Rmax, Vmax):\n",
    "    '''We assume that rho is constant and equals 1.15 kg.m-3'''\n",
    "    fcor   = abs(coriolis(lat))\n",
    "    rho    = 1.15\n",
    "    r      = r.astype(float) + 0.001           # To avoid dividing by zero\n",
    "    r_star = (Rmax / r) ** B\n",
    "    V      = r * 0.\n",
    "    V      = Vmin + np.sqrt( ((Vmax - Vmin) ** 2) * r_star * np.exp(1 - r_star) + (r * fcor / 2) ** 2) - (r * fcor / 2)\n",
    "    return V\n",
    "\n",
    "def coriolis(lat):\n",
    "    '''Latitude must be in degrees.'''\n",
    "    Omega = 7.2921e-5                             # Earth rotation vector\n",
    "    fcor  = 2 * Omega * np.sin(lat * np.pi / 180) # Coriolis parameter assuming it's constant \n",
    "    return fcor\n",
    "\n",
    "def rmse(predictions, targets):\n",
    "    return np.sqrt(((predictions - targets) ** 2).mean())\n",
    "\n",
    "# Reference grids\n",
    "rs           = np.linspace(100, 5e5, 5000)\n",
    "ths          = np.linspace(0, 2 * np.pi, 361)                         # in radians\n",
    "Rs, THs      = np.meshgrid(rs, ths)                                   # shape (361, 5000)"
   ]
  },
  {
   "cell_type": "code",
   "execution_count": 29,
   "metadata": {},
   "outputs": [],
   "source": [
    "# Open data\n",
    "dsg = xr.open_dataset(PTHS['dsg_pth'])"
   ]
  },
  {
   "cell_type": "code",
   "execution_count": 30,
   "metadata": {},
   "outputs": [
    {
     "name": "stdout",
     "output_type": "stream",
     "text": [
      "Nb of valid cases: 23\n"
     ]
    },
    {
     "name": "stderr",
     "output_type": "stream",
     "text": [
      "/tmp/ipykernel_37214/1245524597.py:20: DeprecationWarning: dropping variables using `drop` is deprecated; use drop_vars.\n",
      "  dsg_valid = dsg.where(dsg.keep, drop=True).drop('keep')\n"
     ]
    }
   ],
   "source": [
    "### FILTERS\n",
    "filters = {\n",
    "    'correct_center': (dsg.center_quality_flag < 2),\n",
    "    'uncropped'     : (dsg.percent_outside < 5),\n",
    "    'tropical_lat'  : (abs(dsg.lat) < 30),\n",
    "    # 'northern_hem'  : (dsg.lat > 0), # remove southern hemisphere or not?\n",
    "    'strong_storm'  : (dsg.vmx >= 33),\n",
    "    'small_rmx'     : (dsg.rmx <= 100000),\n",
    "    'far_from_coast': (dsg.dist2coast >= dsg.r0),   \n",
    "\n",
    "    'low_vws':        (dsg.speed > 2 * dsg.vws_pmd), # new filter\n",
    "}\n",
    "\n",
    "kept_storms = np.logical_and.reduce([filters[e] for e in filters.keys()])\n",
    "dsg['keep'] = xr.DataArray(\n",
    "    data=kept_storms,\n",
    "    coords={'time': dsg.time}\n",
    ")\n",
    "\n",
    "dsg_valid = dsg.where(dsg.keep, drop=True).drop('keep')\n",
    "print('Nb of valid cases: {}'.format(len(dsg_valid.time)))"
   ]
  },
  {
   "cell_type": "code",
   "execution_count": 31,
   "metadata": {},
   "outputs": [
    {
     "data": {
      "application/vnd.jupyter.widget-view+json": {
       "model_id": "22c103f936bb46a08f6bfd1022bf8b57",
       "version_major": 2,
       "version_minor": 0
      },
      "text/plain": [
       "  0%|          | 0/23 [00:00<?, ?it/s]"
      ]
     },
     "metadata": {},
     "output_type": "display_data"
    },
    {
     "data": {
      "application/vnd.jupyter.widget-view+json": {
       "model_id": "00a66c832a5948ea9a65b10b0c790ec5",
       "version_major": 2,
       "version_minor": 0
      },
      "text/plain": [
       "  0%|          | 0/250 [00:00<?, ?it/s]"
      ]
     },
     "metadata": {},
     "output_type": "display_data"
    },
    {
     "data": {
      "application/vnd.jupyter.widget-view+json": {
       "model_id": "71da4100cb2942189317906af03d61be",
       "version_major": 2,
       "version_minor": 0
      },
      "text/plain": [
       "  0%|          | 0/250 [00:00<?, ?it/s]"
      ]
     },
     "metadata": {},
     "output_type": "display_data"
    },
    {
     "data": {
      "application/vnd.jupyter.widget-view+json": {
       "model_id": "eeeb306f64ac4769b4fb9ea8e92234e9",
       "version_major": 2,
       "version_minor": 0
      },
      "text/plain": [
       "  0%|          | 0/250 [00:00<?, ?it/s]"
      ]
     },
     "metadata": {},
     "output_type": "display_data"
    },
    {
     "data": {
      "application/vnd.jupyter.widget-view+json": {
       "model_id": "aa574b4e4d0e4201b5b4cf3b0367594d",
       "version_major": 2,
       "version_minor": 0
      },
      "text/plain": [
       "  0%|          | 0/250 [00:00<?, ?it/s]"
      ]
     },
     "metadata": {},
     "output_type": "display_data"
    },
    {
     "data": {
      "application/vnd.jupyter.widget-view+json": {
       "model_id": "74dccf1d2ce14386b7e30041e8ea3c26",
       "version_major": 2,
       "version_minor": 0
      },
      "text/plain": [
       "  0%|          | 0/250 [00:00<?, ?it/s]"
      ]
     },
     "metadata": {},
     "output_type": "display_data"
    },
    {
     "data": {
      "application/vnd.jupyter.widget-view+json": {
       "model_id": "24ad974f12914c9caf984b621ffa1173",
       "version_major": 2,
       "version_minor": 0
      },
      "text/plain": [
       "  0%|          | 0/250 [00:00<?, ?it/s]"
      ]
     },
     "metadata": {},
     "output_type": "display_data"
    },
    {
     "data": {
      "application/vnd.jupyter.widget-view+json": {
       "model_id": "c9a8034babd94321bc99a7f62129a57b",
       "version_major": 2,
       "version_minor": 0
      },
      "text/plain": [
       "  0%|          | 0/250 [00:00<?, ?it/s]"
      ]
     },
     "metadata": {},
     "output_type": "display_data"
    },
    {
     "data": {
      "application/vnd.jupyter.widget-view+json": {
       "model_id": "4b26e6428ef24d108777a9cfdd845f92",
       "version_major": 2,
       "version_minor": 0
      },
      "text/plain": [
       "  0%|          | 0/250 [00:00<?, ?it/s]"
      ]
     },
     "metadata": {},
     "output_type": "display_data"
    },
    {
     "data": {
      "application/vnd.jupyter.widget-view+json": {
       "model_id": "909b023cea1d4311a90843dada557a95",
       "version_major": 2,
       "version_minor": 0
      },
      "text/plain": [
       "  0%|          | 0/250 [00:00<?, ?it/s]"
      ]
     },
     "metadata": {},
     "output_type": "display_data"
    },
    {
     "data": {
      "application/vnd.jupyter.widget-view+json": {
       "model_id": "06f4efdc189b428985ac10b15b6fa345",
       "version_major": 2,
       "version_minor": 0
      },
      "text/plain": [
       "  0%|          | 0/250 [00:00<?, ?it/s]"
      ]
     },
     "metadata": {},
     "output_type": "display_data"
    },
    {
     "data": {
      "application/vnd.jupyter.widget-view+json": {
       "model_id": "aa0f538d06ce4982abc0349ea7dc6241",
       "version_major": 2,
       "version_minor": 0
      },
      "text/plain": [
       "  0%|          | 0/250 [00:00<?, ?it/s]"
      ]
     },
     "metadata": {},
     "output_type": "display_data"
    },
    {
     "data": {
      "application/vnd.jupyter.widget-view+json": {
       "model_id": "2cdeb14cc84a45a590e60c89d6a18ab7",
       "version_major": 2,
       "version_minor": 0
      },
      "text/plain": [
       "  0%|          | 0/250 [00:00<?, ?it/s]"
      ]
     },
     "metadata": {},
     "output_type": "display_data"
    },
    {
     "data": {
      "application/vnd.jupyter.widget-view+json": {
       "model_id": "5e7b5bc5a2194ebd96f48eebb7459cd0",
       "version_major": 2,
       "version_minor": 0
      },
      "text/plain": [
       "  0%|          | 0/250 [00:00<?, ?it/s]"
      ]
     },
     "metadata": {},
     "output_type": "display_data"
    },
    {
     "data": {
      "application/vnd.jupyter.widget-view+json": {
       "model_id": "42a44350eb72499f8ee0ae0a50528e72",
       "version_major": 2,
       "version_minor": 0
      },
      "text/plain": [
       "  0%|          | 0/250 [00:00<?, ?it/s]"
      ]
     },
     "metadata": {},
     "output_type": "display_data"
    },
    {
     "data": {
      "application/vnd.jupyter.widget-view+json": {
       "model_id": "85ba35453f554d65b4f66f4ecfff40de",
       "version_major": 2,
       "version_minor": 0
      },
      "text/plain": [
       "  0%|          | 0/250 [00:00<?, ?it/s]"
      ]
     },
     "metadata": {},
     "output_type": "display_data"
    },
    {
     "data": {
      "application/vnd.jupyter.widget-view+json": {
       "model_id": "456a0a5b0ba04e288c3df24d646c6f79",
       "version_major": 2,
       "version_minor": 0
      },
      "text/plain": [
       "  0%|          | 0/250 [00:00<?, ?it/s]"
      ]
     },
     "metadata": {},
     "output_type": "display_data"
    },
    {
     "data": {
      "application/vnd.jupyter.widget-view+json": {
       "model_id": "f6153b67f51f41f79098bf78353cf408",
       "version_major": 2,
       "version_minor": 0
      },
      "text/plain": [
       "  0%|          | 0/250 [00:00<?, ?it/s]"
      ]
     },
     "metadata": {},
     "output_type": "display_data"
    },
    {
     "data": {
      "application/vnd.jupyter.widget-view+json": {
       "model_id": "6e86fff93e7340ebbef08483249afd92",
       "version_major": 2,
       "version_minor": 0
      },
      "text/plain": [
       "  0%|          | 0/250 [00:00<?, ?it/s]"
      ]
     },
     "metadata": {},
     "output_type": "display_data"
    },
    {
     "data": {
      "application/vnd.jupyter.widget-view+json": {
       "model_id": "80501afb434c4836b4cc37fd254a7a8c",
       "version_major": 2,
       "version_minor": 0
      },
      "text/plain": [
       "  0%|          | 0/250 [00:00<?, ?it/s]"
      ]
     },
     "metadata": {},
     "output_type": "display_data"
    },
    {
     "data": {
      "application/vnd.jupyter.widget-view+json": {
       "model_id": "81892f92f7c74972b91a3c63afea14af",
       "version_major": 2,
       "version_minor": 0
      },
      "text/plain": [
       "  0%|          | 0/250 [00:00<?, ?it/s]"
      ]
     },
     "metadata": {},
     "output_type": "display_data"
    },
    {
     "data": {
      "application/vnd.jupyter.widget-view+json": {
       "model_id": "6f0f0e7af4434fe28cb39d919b48485e",
       "version_major": 2,
       "version_minor": 0
      },
      "text/plain": [
       "  0%|          | 0/250 [00:00<?, ?it/s]"
      ]
     },
     "metadata": {},
     "output_type": "display_data"
    },
    {
     "data": {
      "application/vnd.jupyter.widget-view+json": {
       "model_id": "c2223133f13a4b519fa6a52a8e9a1e6a",
       "version_major": 2,
       "version_minor": 0
      },
      "text/plain": [
       "  0%|          | 0/250 [00:00<?, ?it/s]"
      ]
     },
     "metadata": {},
     "output_type": "display_data"
    },
    {
     "data": {
      "application/vnd.jupyter.widget-view+json": {
       "model_id": "424b457bb63141fb84b2b1b2b5888e69",
       "version_major": 2,
       "version_minor": 0
      },
      "text/plain": [
       "  0%|          | 0/250 [00:00<?, ?it/s]"
      ]
     },
     "metadata": {},
     "output_type": "display_data"
    }
   ],
   "source": [
    "# Initialize\n",
    "listOfDatasets = []\n",
    "\n",
    "# Iterate\n",
    "for t in tqdm(range(len(dsg_valid.time))):\n",
    "    # Open file\n",
    "    ds  = dsg_valid.isel(time=t)\n",
    "    dsp = xr.open_dataset(PTHS['sar_dir'] + ds.file_tcva.item()).isel(time=0)\n",
    "    \n",
    "    # Fixed parameters\n",
    "    vmx = float(ds.vmx_hol)\n",
    "    rmx = float(ds.rmx_hol)\n",
    "    vmn = float(ds.vmn_hol)\n",
    "    B   = float(ds.B_hol)\n",
    "    lat = float(ds.lat)\n",
    "    fcr = abs(float(ds.fcor))\n",
    "\n",
    "    # Holland with fixed parameters\n",
    "    V   = holland_profile(rs, lat, B, vmn, rmx, vmx)\n",
    "    Vs  = np.stack([V for i in range(np.shape(THs)[0])]) # Shape (361, 5000)\n",
    "\n",
    "    # I ~ V/r radii\n",
    "    try:\n",
    "        I_Vr         = (I(Rs, Vs, fcr) - Vs / rs)[0, :]    # I - V/r\n",
    "        r_stt, r_end = rs[I_Vr <= 0][0], rs[I_Vr <= 0][-1] # Define the bounds\n",
    "    except IndexError:\n",
    "        r_stt = r_end = np.nan\n",
    "\n",
    "    # Prepare averagings\n",
    "    timescale   = 1 / I(Rs, Vs, fcr)[0, :]             # time needed for the BL to develop\n",
    "    radialscale = timescale * Vs[0, :] / 5             # radial distance travelled by an air parcel in the meantime, considering that U/V = 5\n",
    "    tangenscale = timescale * Vs[0, :]                 # tangential distance travelled by an air parcel in the meantime\n",
    "    thetascale  = 360 * tangenscale / (2 * np.pi * rs) # convert this tangential distance to theta\n",
    "    thetascale[np.isnan(thetascale)] = 9999            # # happens when time 1/I explodes, so put a high value to enter the ValueError exception below (AS2 and AS3 computation)\n",
    "\n",
    "    # print(t, ds.file.item())\n",
    "\n",
    "    # x-axis\n",
    "    # xs = np.linspace(ds.rmx, 2 * ds.rps, 50)\n",
    "    # xs = np.linspace(ds.rmx, 2 * ds.rps, 10)\n",
    "    # xs = np.linspace(1000, 250000, 250)[::100]\n",
    "    xs = np.linspace(1000, 250000, 250)\n",
    "    \n",
    "    # Asymmetries\n",
    "    ASS  = []\n",
    "    AS2  = []\n",
    "    AS3  = []\n",
    "    ASQ  = []\n",
    "    rads = []\n",
    "    ERR  = []\n",
    "    VTS  = []\n",
    "    for rad in tqdm(xs):\n",
    "        try:\n",
    "            # dsp.sel(rad=rad, method='nearest').wind_speed.fillna(dsp.sel(rad=rad, method='nearest').wind_speed.mean(skipna=True)).plot()\n",
    "            # ass, _, _ = get_wn1(np.deg2rad(dsp.theta), dsp.sel(rad=rad, method='nearest').wind_speed.fillna(dsp.sel(rad=rad, method='nearest').wind_speed.mean(skipna=True)), float(ds.vps), float(ds.vmx))\n",
    "            valid_dsp     = dsp.sel(rad=rad, method='nearest').dropna(subset=['wind_speed'], dim='theta')\n",
    "            ass, phi, c   = get_wn1(np.deg2rad(valid_dsp.theta), valid_dsp.wind_speed, float(ds.vps), float(ds.vmx))\n",
    "            error         = float(rmse(wn1(np.deg2rad(valid_dsp.theta), ass, phi, c), valid_dsp.wind_speed)) \n",
    "            ASS.append(ass)\n",
    "            ERR.append(error)\n",
    "            VTS.append(len(valid_dsp.theta))\n",
    "\n",
    "            # Preparing averagings\n",
    "            avg_on_u = radialscale[rs >= rad][0]\n",
    "            avg_on_v = int(thetascale[rs >= rad][0])\n",
    "\n",
    "            try:\n",
    "                # Average on theta\n",
    "                valid_dsp2      = dsp.sel(rad=rad, method='nearest').rolling(theta=avg_on_v, center=True, min_periods=2).mean().dropna(subset=['wind_speed'], dim='theta')\n",
    "                as2, phi2, c2   = get_wn1(np.deg2rad(valid_dsp2.theta), valid_dsp2.wind_speed, float(ds.vps), float(ds.vmx))\n",
    "                AS2.append(as2)\n",
    "\n",
    "                # Average on theta AND r\n",
    "                valid_dsp3      = dsp.sel(rad=slice(rad - avg_on_u, rad + avg_on_u))[['wind_speed']].mean(dim='rad', skipna=True).rolling(theta=avg_on_v, center=True, min_periods=2).mean().dropna(dim='theta')\n",
    "                as3, phi3, c3   = get_wn1(np.deg2rad(valid_dsp3.theta), valid_dsp3.wind_speed, float(ds.vps), float(ds.vmx))\n",
    "                AS3.append(as3)\n",
    "                \n",
    "            except ValueError:\n",
    "                # happens when time 1/I explodes, such that to average on theta we would average on more than 361 values of theta!\n",
    "                as2 = as3 = np.nan\n",
    "                AS2.append(as2)\n",
    "                AS3.append(as3)\n",
    "\n",
    "            # Add radius\n",
    "            rads.append(rad)\n",
    "\n",
    "        except RuntimeError:\n",
    "            print('RuntimeError when computing the asymmetries.')\n",
    "            break\n",
    "        # Asymmetries with the quantiles\n",
    "        a_qtl = dsp.sel(rad=rad, method='nearest').wind_speed.quantile(0.9) - dsp.sel(rad=rad, method='nearest').wind_speed.quantile(0.1)\n",
    "        ASQ.append(a_qtl)\n",
    "        \n",
    "    # Inertial neutrality?\n",
    "    dr                 = np.diff(Rs[0, :])[0] # meteRs\n",
    "    dM_dr              = Vs + Rs * np.gradient(Vs, dr, axis=1) + fcr * Rs\n",
    "    beta               = dM_dr[0, :] / rs\n",
    "    u_in               = (0.5 * Vs[0, :] / (2 * float(ds.rps))) * rs\n",
    "    u_out              = 0.5 * Vs[0, :]\n",
    "    u                  = np.ones_like(Vs[0, :])\n",
    "    msk                = rs <= 2 * float(ds.rps)\n",
    "    u[msk]             = u_in[msk]   # Assume that u/v ~ r   on [0, 2R+]\n",
    "    u[~msk]            = u_out[~msk] # Assume that u/v = 0.5 on [2R+, infty]\n",
    "    idxs               = np.searchsorted(rs, xs)\n",
    "    secnd_term_eq5_k01 = u[idxs] * beta[idxs]\n",
    "    first_term_eq5_k01 = (Vs[0, idxs] / rs[idxs]) * (np.array(AS3) / (2 * np.pi))\n",
    "    \n",
    "    # Create dataset\n",
    "    dsa = xr.Dataset(\n",
    "        data_vars={\n",
    "            'wn1':            ('rad', ASS),\n",
    "            'wn1_avgTH':      ('rad', AS2),\n",
    "            'wn1_avgTHandR':  ('rad', AS3),\n",
    "            'wn1_err':        ('rad', ERR),\n",
    "            'valid_thetas':   ('rad', VTS),\n",
    "            'quantile_diff':  ('rad', ASQ),\n",
    "            'inertial_ratio': ('rad', first_term_eq5_k01 / secnd_term_eq5_k01),\n",
    "            'translat_ratio': ('rad', float(ds.speed) / Vs[0, idxs]),\n",
    "            'I_Vr1':          r_stt,\n",
    "            'I_Vr2':          r_end,\n",
    "        },\n",
    "        coords={\n",
    "            'time': ds.time,\n",
    "            'rad': xs\n",
    "        }\n",
    "    )\n",
    "    listOfDatasets.append(dsa)"
   ]
  },
  {
   "cell_type": "code",
   "execution_count": 33,
   "metadata": {},
   "outputs": [],
   "source": [
    "# Concatenate dataset\n",
    "dsga = xr.concat(listOfDatasets, dim='time')\n",
    "# Add it to dsg_valid\n",
    "dsgm = xr.merge([dsg_valid, dsga]) # dsg merged"
   ]
  },
  {
   "cell_type": "code",
   "execution_count": 34,
   "metadata": {},
   "outputs": [],
   "source": [
    "# Attributes\n",
    "dsgm.rad.attrs = {'long_name': 'Radius, or distance from TC center', 'description': 'Radii used to compute the asymmetric WN1s', 'units': 'meters'}\n",
    "dsgm.wn1.attrs = {\n",
    "    'long_name':   'Wave Number 1', \n",
    "    'description': 'Amplitude of a cosine fitted, at each radius, on the SAR azimuthal wind speed', \n",
    "    'method':      'Both the phase and and the intercept are let as free parameters during fitting procedure',\n",
    "    'units':       'm/s'          \n",
    "}\n",
    "dsgm.wn1_avgTH.attrs = {\n",
    "    'long_name':   'Wave Number 1 when SAR azimuthal wind is averaged on the theta dimension', \n",
    "    'description': 'Amplitude of a cosine fitted, at each radius, on the SAR azimuthal wind speed avg. on the theta dimension, according to the development time of the BL', \n",
    "    'method':      'Both the phase and and the intercept are let as free parameters during fitting procedure',\n",
    "    'units':       'm/s'          \n",
    "}\n",
    "dsgm.wn1_avgTHandR.attrs = {\n",
    "    'long_name':   'Wave Number 1 when SAR azimuthal wind is averaged on both the theta and radius dimensions', \n",
    "    'description': 'Amplitude of a cosine fitted, at each radius, on the SAR azimuthal wind speed avg. on both the theta and radius dimensions, according to the development time of the BL', \n",
    "    'method':      'Both the phase and and the intercept are let as free parameters during fitting procedure',\n",
    "    'units':       'm/s'          \n",
    "}\n",
    "dsgm.wn1_err.attrs        = {'long_name': 'WN1 RMSE', 'description': 'RMSE between the fitted WN1 (non-averaged version) and the SAR azimuthal wind speed', 'units': 'm/s'}\n",
    "dsgm.valid_thetas.attrs   = {'long_name': 'Valid thetas', 'description': 'Nb of valid wind speed values on the theta dimension (between 0 and 360)', 'units': 'm/s'}\n",
    "dsgm.quantile_diff.attrs  = {'long_name': 'Asymmetric quantile difference', 'description': 'Diff. between the 90%- and 10%-quantile of the SAR azim. wind speed', 'units': 'm/s'}\n",
    "dsgm.inertial_ratio.attrs = {\n",
    "    'long_name':   'Ratio to assess the inertial neutrality of the SAR wind profile', \n",
    "    'description': 'Ratio of the 1st term of Eq.5 from K01, to the 2nd term of the equation', \n",
    "    'method':      'u/v is assumed linear on [0, 2R+] and then constant = 1/2'        \n",
    "}\n",
    "dsgm.translat_ratio.attrs = {\n",
    "    'long_name':   'Translation speed ratio', \n",
    "    'description': 'Ratio of the translation speed over the SAR wind speed', \n",
    "    'units': 'm/s'          \n",
    "}\n",
    "dsgm.I_Vr1.attrs = {'long_name':   'First radius where I ~ V/r (whenever it exists)', 'units': 'meters'}\n",
    "dsgm.I_Vr2.attrs = {'long_name':   'Second radius where I ~ V/r (whenever it exists)', 'units': 'meters'}"
   ]
  },
  {
   "cell_type": "code",
   "execution_count": 37,
   "metadata": {},
   "outputs": [],
   "source": [
    "# # Save\n",
    "# dsgm[['name', 'id', 'file', 'file_tcva', 'basin', 'id_ibt']] = dsgm[['name', 'id', 'file', 'file_tcva', 'basin', 'id_ibt']].astype(str)\n",
    "# dsgm.to_netcdf(PTHS['sav_dir'] + 'dsga.nc')"
   ]
  },
  {
   "cell_type": "code",
   "execution_count": null,
   "metadata": {},
   "outputs": [],
   "source": []
  },
  {
   "cell_type": "code",
   "execution_count": null,
   "metadata": {},
   "outputs": [],
   "source": []
  },
  {
   "cell_type": "code",
   "execution_count": null,
   "metadata": {},
   "outputs": [],
   "source": []
  }
 ],
 "metadata": {
  "kernelspec": {
   "display_name": "dataBasics",
   "language": "python",
   "name": "databasics"
  },
  "language_info": {
   "codemirror_mode": {
    "name": "ipython",
    "version": 3
   },
   "file_extension": ".py",
   "mimetype": "text/x-python",
   "name": "python",
   "nbconvert_exporter": "python",
   "pygments_lexer": "ipython3",
   "version": "3.13.0"
  }
 },
 "nbformat": 4,
 "nbformat_minor": 4
}
