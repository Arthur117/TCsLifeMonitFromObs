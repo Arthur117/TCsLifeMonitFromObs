{
 "cells": [
  {
   "cell_type": "markdown",
   "metadata": {},
   "source": [
    "## SAR Asymmetries\n",
    "\n",
    "TODO\n",
    "\n",
    "- Find the correct filters\n",
    "\n",
    "- Kepert model will fail when the validity area is too small (e.g Goni)... Why? Add that to filters? In fact, if the validity area is too small, the radii inside the validity area are affected by the large gradients at the edges of the area. Analytically, the BL depth delta-1 becomes infinite, at a rate 1 / sqrt(I - V/r), when I ~ V/r."
   ]
  },
  {
   "cell_type": "code",
   "execution_count": 1,
   "metadata": {},
   "outputs": [],
   "source": [
    "# General\n",
    "import glob\n",
    "import re\n",
    "import os.path\n",
    "# import warnings\n",
    "# warnings.filterwarnings('ignore')\n",
    "from tqdm.notebook import tqdm\n",
    "import copy\n",
    "\n",
    "# Arrays & Displays\n",
    "import xarray as xr\n",
    "import numpy as np\n",
    "import matplotlib as mpl\n",
    "import matplotlib.pyplot as plt\n",
    "from matplotlib.colors import Normalize\n",
    "from matplotlib.gridspec import GridSpec\n",
    "import matplotlib.cm as cm\n",
    "import pandas as pd\n",
    "\n",
    "# Data treatment\n",
    "from datetime import datetime\n",
    "from scipy.optimize import curve_fit\n",
    "from scipy.interpolate import griddata\n",
    "\n",
    "# Statistics\n",
    "from sklearn import linear_model, neighbors\n",
    "from pykalman import KalmanFilter\n",
    "\n",
    "# Default parameters\n",
    "mpl.rcParams.update({'font.size': 18})\n",
    "mpl.rcParams['figure.figsize'] = (15, 10)\n",
    "mpl.rcParams['axes.facecolor'] = 'white'\n",
    "mpl.rcParams['figure.facecolor'] = 'white'"
   ]
  },
  {
   "cell_type": "code",
   "execution_count": 2,
   "metadata": {},
   "outputs": [],
   "source": [
    "def wn1(thetas, a, phi, c):\n",
    "    return a * np.cos(thetas + phi) + c\n",
    "\n",
    "def get_wn1(thetas, wind_speed, initial_condition=15, upper_bound=80):\n",
    "    '''\n",
    "    initial_condition: initial conidition for the amplitude and the constant c (just put Vplus)\n",
    "    upper_bound: upper bound for the the amplitude and the constant c (just put Vmax)\n",
    "    '''\n",
    "    # Fitting process\n",
    "    popt, pcov = curve_fit(\n",
    "        f=wn1,\n",
    "        xdata=thetas,\n",
    "        ydata=wind_speed,\n",
    "        p0=[initial_condition, np.pi / 2, initial_condition],\n",
    "        bounds=([0.1, 0., 0.1], [upper_bound, np.pi, upper_bound]) # ([lower bounds], [upper bounds])\n",
    "    )\n",
    "    a, phi, c = popt[0], popt[1], popt[2]\n",
    "    return a, phi, c\n",
    "\n",
    "def I(Rs, Vs, fcor):\n",
    "    dr   = np.diff(Rs[0, :])[0] # meters\n",
    "    ksi  = 2 * Vs / Rs + fcor\n",
    "    zeta = np.gradient(Vs, dr, axis=1) + Vs / Rs + fcor\n",
    "    return np.sqrt(ksi * zeta)\n",
    "\n",
    "def holland_profile(r, lat, B, Vmin, Rmax, Vmax):\n",
    "    '''We assume that rho is constant and equals 1.15 kg.m-3'''\n",
    "    fcor   = abs(coriolis(lat))\n",
    "    rho    = 1.15\n",
    "    r      = r.astype(float) + 0.001           # To avoid dividing by zero\n",
    "    r_star = (Rmax / r) ** B\n",
    "    V      = r * 0.\n",
    "    V      = Vmin + np.sqrt( ((Vmax - Vmin) ** 2) * r_star * np.exp(1 - r_star) + (r * fcor / 2) ** 2) - (r * fcor / 2)\n",
    "    return V\n",
    "\n",
    "def pol2cart(rho, phi):\n",
    "    x = rho * np.cos(phi)\n",
    "    y = rho * np.sin(phi)\n",
    "    return(x, y)\n",
    "\n",
    "def coriolis(lat):\n",
    "    '''Latitude must be in degrees.'''\n",
    "    Omega = 7.2921e-5                             # Earth rotation vector\n",
    "    fcor  = 2 * Omega * np.sin(lat * np.pi / 180) # Coriolis parameter assuming it's constant \n",
    "    return fcor\n",
    "\n",
    "def rmse(predictions, targets):\n",
    "    return np.sqrt(((predictions - targets) ** 2).mean())\n",
    "\n",
    "def getColorMap(rgbFile=\"medspiration.rgb\"):\n",
    "    '''\n",
    "    Load a RGB palette provided in ascii file\n",
    "    '''\n",
    "    colors = []\n",
    "    nbCol  =0\n",
    "    for line in open( rgbFile ):\n",
    "        r,g,b = [int(c) for c in line.split()]\n",
    "        colors.append( [r/255.,g/255.,b/255.] )\n",
    "        nbCol += 1\n",
    "    return(mpl.colors.ListedColormap(colors, name=\"custom\", N=nbCol))\n",
    "\n",
    "palette      = '/home/arthur/scripts/ck22model/PRJCT_RAD_SCAT_CK22_RMW/high_wind_speed.pal'\n",
    "cwnd         = getColorMap(rgbFile=palette)\n",
    "normalizer   = Normalize(0, 80)\n",
    "\n",
    "# Reference grids\n",
    "rs           = np.linspace(100, 5e5, 5000)\n",
    "ths          = np.linspace(0, 2 * np.pi, 361)                         # in radians\n",
    "Rs, THs      = np.meshgrid(rs, ths)                                   # shape (361, 5000)\n",
    "Xs, Ys       = pol2cart(Rs, THs)                                      # to create cartesian dataset\n",
    "dim_ref      = np.linspace(-500, 500, int((500 // 1 * 2) + 1)) * 1000 # to create cartesian dataset\n",
    "x_ref, y_ref = np.meshgrid(dim_ref, dim_ref)                          # to create cartesian dataset"
   ]
  },
  {
   "cell_type": "code",
   "execution_count": 3,
   "metadata": {},
   "outputs": [],
   "source": [
    "# Paths & Params\n",
    "PTHS = {\n",
    "    'dsg_pth': '/home/arthur/results/sar_extended/03_addIBT/dsg.nc',\n",
    "    'sar_dir':  '/home/arthur/data/cyclobs/RCM/sar_files/',\n",
    "    'sav_dir': '/home/arthur/results/winddirection/00_plotSARasymmetries/',\n",
    "}"
   ]
  },
  {
   "cell_type": "code",
   "execution_count": 4,
   "metadata": {},
   "outputs": [
    {
     "name": "stderr",
     "output_type": "stream",
     "text": [
      "/home/arthur/anaconda3/envs/paramProfiles/lib/python3.8/site-packages/xarray/backends/plugins.py:71: RuntimeWarning: Engine 'cfgrib' loading failed:\n",
      "/home/arthur/anaconda3/envs/paramProfiles/lib/python3.8/lib-dynload/../../libffi.so.8: version `LIBFFI_CLOSURE_7.0' not found (required by /home/arthur/anaconda3/envs/paramProfiles/lib/python3.8/site-packages/_cffi_backend.cpython-38-x86_64-linux-gnu.so)\n",
      "  warnings.warn(f\"Engine {name!r} loading failed:\\n{ex}\", RuntimeWarning)\n"
     ]
    }
   ],
   "source": [
    "# Open data\n",
    "dsg = xr.open_dataset(PTHS['dsg_pth'])\n",
    "\n",
    "# # Open data\n",
    "# all_data = glob.glob(PTHS['sar_dir'] + \"*.nc\")\n",
    "# print('Nb of SAR files = {}'.format(len(all_data)))"
   ]
  },
  {
   "cell_type": "code",
   "execution_count": 5,
   "metadata": {},
   "outputs": [],
   "source": [
    "# all_data = ['/home/arthur/data/cyclobs/RCM/sar_files/rs2--owi-ca-20201030t211604-20201030t211719-00003-______sw_wp222020_cyclone_polar.nc']\n",
    "# all_data = ['/home/arthur/data/cyclobs/RCM/sar_files/rcm1--owi-ca-20230809t050027-20230809t050143-00003-______sw_ep052023_cyclone_polar.nc']"
   ]
  },
  {
   "cell_type": "code",
   "execution_count": 6,
   "metadata": {},
   "outputs": [],
   "source": [
    "### FILTERS\n",
    "# TODO: Remove Southern Hemisphere storms? \n",
    "filters = {\n",
    "    'correct_center': (dsg.center_quality_flag < 2),\n",
    "    'uncropped'     : (dsg.percent_outside < 5),\n",
    "    'tropical_lat'  : (abs(dsg.lat) < 30),\n",
    "    'strong_storm'  : (dsg.vmx >= 33),\n",
    "    'small_rmx'     : (dsg.rmx <= 100000),\n",
    "    'far_from_coast': (dsg.dist2coast >= dsg.r0),   \n",
    "}\n",
    "\n",
    "kept_storms = np.logical_and.reduce([filters[e] for e in filters.keys()])\n",
    "dsg['keep'] = xr.DataArray(\n",
    "    data=kept_storms,\n",
    "    coords={'time': dsg.time}\n",
    ")\n",
    "\n",
    "dsg_valid = dsg.where(dsg.keep, drop=True)"
   ]
  },
  {
   "cell_type": "code",
   "execution_count": 42,
   "metadata": {},
   "outputs": [
    {
     "data": {
      "application/vnd.jupyter.widget-view+json": {
       "model_id": "d33e19facd6440ef8509b91a8121b808",
       "version_major": 2,
       "version_minor": 0
      },
      "text/plain": [
       "  0%|          | 0/54 [00:00<?, ?it/s]"
      ]
     },
     "metadata": {},
     "output_type": "display_data"
    },
    {
     "name": "stdout",
     "output_type": "stream",
     "text": [
      "69 rs2--owi-cm-20210208t235939-20210209t000055-00003-______sw.nc\n"
     ]
    },
    {
     "data": {
      "application/vnd.jupyter.widget-view+json": {
       "model_id": "cc1e81c414e044b59fb2874788146e13",
       "version_major": 2,
       "version_minor": 0
      },
      "text/plain": [
       "  0%|          | 0/250 [00:00<?, ?it/s]"
      ]
     },
     "metadata": {},
     "output_type": "display_data"
    },
    {
     "name": "stdout",
     "output_type": "stream",
     "text": [
      "70 rs2--owi-cm-20210307t130816-20210307t130931-00003-______sw.nc\n"
     ]
    },
    {
     "data": {
      "application/vnd.jupyter.widget-view+json": {
       "model_id": "08defce5bb4b438b805fd553e0d14660",
       "version_major": 2,
       "version_minor": 0
      },
      "text/plain": [
       "  0%|          | 0/250 [00:00<?, ?it/s]"
      ]
     },
     "metadata": {},
     "output_type": "display_data"
    },
    {
     "name": "stdout",
     "output_type": "stream",
     "text": [
      "71 rs2--owi-cm-20210311t002612-20210311t002728-00003-______sw.nc\n"
     ]
    },
    {
     "data": {
      "application/vnd.jupyter.widget-view+json": {
       "model_id": "34dd45c60fee472d959cce00ab3054a1",
       "version_major": 2,
       "version_minor": 0
      },
      "text/plain": [
       "  0%|          | 0/250 [00:00<?, ?it/s]"
      ]
     },
     "metadata": {},
     "output_type": "display_data"
    },
    {
     "name": "stdout",
     "output_type": "stream",
     "text": [
      "72 rs2--owi-cm-20210717t022156-20210717t022312-00003-______sw.nc\n"
     ]
    },
    {
     "data": {
      "application/vnd.jupyter.widget-view+json": {
       "model_id": "184d6a925dbb4a6ba6dcd2c881d72847",
       "version_major": 2,
       "version_minor": 0
      },
      "text/plain": [
       "  0%|          | 0/250 [00:00<?, ?it/s]"
      ]
     },
     "metadata": {},
     "output_type": "display_data"
    },
    {
     "name": "stdout",
     "output_type": "stream",
     "text": [
      "73 rs2--owi-cm-20210718t142039-20210718t142154-00003-______sw.nc\n"
     ]
    },
    {
     "data": {
      "application/vnd.jupyter.widget-view+json": {
       "model_id": "9f22798bd60b49c79854d4f738c89819",
       "version_major": 2,
       "version_minor": 0
      },
      "text/plain": [
       "  0%|          | 0/250 [00:00<?, ?it/s]"
      ]
     },
     "metadata": {},
     "output_type": "display_data"
    },
    {
     "name": "stdout",
     "output_type": "stream",
     "text": [
      "74 rcm2--owi-cm-20210818t143906-20210818t144138-00003-______sw.nc\n"
     ]
    },
    {
     "data": {
      "application/vnd.jupyter.widget-view+json": {
       "model_id": "91b64a40c75d452db0da58e7f46ada6e",
       "version_major": 2,
       "version_minor": 0
      },
      "text/plain": [
       "  0%|          | 0/250 [00:00<?, ?it/s]"
      ]
     },
     "metadata": {},
     "output_type": "display_data"
    },
    {
     "name": "stdout",
     "output_type": "stream",
     "text": [
      "75 s1b-ew-owi-cm-20210904t085102-20210904t085352-000003-036818_sw.nc\n"
     ]
    },
    {
     "data": {
      "application/vnd.jupyter.widget-view+json": {
       "model_id": "acd52907a7ce498aab91f8048f0bd030",
       "version_major": 2,
       "version_minor": 0
      },
      "text/plain": [
       "  0%|          | 0/250 [00:00<?, ?it/s]"
      ]
     },
     "metadata": {},
     "output_type": "display_data"
    },
    {
     "name": "stdout",
     "output_type": "stream",
     "text": [
      "76 rs2--owi-cm-20210905t213342-20210905t213606-00003-______sw.nc\n"
     ]
    },
    {
     "data": {
      "application/vnd.jupyter.widget-view+json": {
       "model_id": "d13b7a0e9fe3470a908af911e678fa19",
       "version_major": 2,
       "version_minor": 0
      },
      "text/plain": [
       "  0%|          | 0/250 [00:00<?, ?it/s]"
      ]
     },
     "metadata": {},
     "output_type": "display_data"
    },
    {
     "name": "stdout",
     "output_type": "stream",
     "text": [
      "77 s1a-ew-owi-cm-20210906t092329-20210906t092604-000003-04ACFC_sw.nc\n"
     ]
    },
    {
     "data": {
      "application/vnd.jupyter.widget-view+json": {
       "model_id": "423f248b10754014a1b4a630841bff6d",
       "version_major": 2,
       "version_minor": 0
      },
      "text/plain": [
       "  0%|          | 0/250 [00:00<?, ?it/s]"
      ]
     },
     "metadata": {},
     "output_type": "display_data"
    },
    {
     "name": "stdout",
     "output_type": "stream",
     "text": [
      "78 rs2--owi-cm-20210907t092755-20210907t093019-00003-______sw.nc\n"
     ]
    },
    {
     "data": {
      "application/vnd.jupyter.widget-view+json": {
       "model_id": "dc88bf37d96041459a2a1f90ed84b86f",
       "version_major": 2,
       "version_minor": 0
      },
      "text/plain": [
       "  0%|          | 0/250 [00:00<?, ?it/s]"
      ]
     },
     "metadata": {},
     "output_type": "display_data"
    },
    {
     "name": "stdout",
     "output_type": "stream",
     "text": [
      "79 s1b-ew-owi-cm-20210907t214630-20210907t215005-000003-0369AB_sw.nc\n"
     ]
    },
    {
     "data": {
      "application/vnd.jupyter.widget-view+json": {
       "model_id": "6b1a14e7c0df4dd683c141b22405e08f",
       "version_major": 2,
       "version_minor": 0
      },
      "text/plain": [
       "  0%|          | 0/250 [00:00<?, ?it/s]"
      ]
     },
     "metadata": {},
     "output_type": "display_data"
    },
    {
     "name": "stdout",
     "output_type": "stream",
     "text": [
      "80 s1a-ew-owi-cm-20210925t204659-20210925t204934-000003-04B69E_sw.nc\n"
     ]
    },
    {
     "data": {
      "application/vnd.jupyter.widget-view+json": {
       "model_id": "9f3d15eada314b0abf043162e143716f",
       "version_major": 2,
       "version_minor": 0
      },
      "text/plain": [
       "  0%|          | 0/250 [00:00<?, ?it/s]"
      ]
     },
     "metadata": {},
     "output_type": "display_data"
    },
    {
     "name": "stdout",
     "output_type": "stream",
     "text": [
      "81 s1b-ew-owi-cm-20210926t090903-20210926t091107-000003-0371EC_sw.nc\n"
     ]
    },
    {
     "data": {
      "application/vnd.jupyter.widget-view+json": {
       "model_id": "c80f9baa6fde409ca6b9913605363205",
       "version_major": 2,
       "version_minor": 0
      },
      "text/plain": [
       "  0%|          | 0/250 [00:00<?, ?it/s]"
      ]
     },
     "metadata": {},
     "output_type": "display_data"
    },
    {
     "name": "stdout",
     "output_type": "stream",
     "text": [
      "82 rcm1--owi-cm-20210929t085655-20210929t085807-00003-______sw.nc\n"
     ]
    },
    {
     "data": {
      "application/vnd.jupyter.widget-view+json": {
       "model_id": "5333ef2fb1fc42fa85cb3462d0972733",
       "version_major": 2,
       "version_minor": 0
      },
      "text/plain": [
       "  0%|          | 0/250 [00:00<?, ?it/s]"
      ]
     },
     "metadata": {},
     "output_type": "display_data"
    },
    {
     "name": "stdout",
     "output_type": "stream",
     "text": [
      "83 s1a-ew-owi-cm-20220130t010458-20220130t010632-000003-04F596_sw.nc\n"
     ]
    },
    {
     "data": {
      "application/vnd.jupyter.widget-view+json": {
       "model_id": "d85c72784d1d4a27ae6ada7c97636507",
       "version_major": 2,
       "version_minor": 0
      },
      "text/plain": [
       "  0%|          | 0/250 [00:00<?, ?it/s]"
      ]
     },
     "metadata": {},
     "output_type": "display_data"
    },
    {
     "name": "stdout",
     "output_type": "stream",
     "text": [
      "84 s1a-ew-owi-cm-20220204t150030-20220204t150335-000003-04F859_sw.nc\n"
     ]
    },
    {
     "data": {
      "application/vnd.jupyter.widget-view+json": {
       "model_id": "363df03198084a79b0f051d69c41f512",
       "version_major": 2,
       "version_minor": 0
      },
      "text/plain": [
       "  0%|          | 0/250 [00:00<?, ?it/s]"
      ]
     },
     "metadata": {},
     "output_type": "display_data"
    },
    {
     "name": "stdout",
     "output_type": "stream",
     "text": [
      "85 s1a-ew-owi-cm-20220324t132353-20220324t132628-000003-05105F_sw.nc\n"
     ]
    },
    {
     "data": {
      "application/vnd.jupyter.widget-view+json": {
       "model_id": "d5b02b554f0345bdaef187ac530a7eba",
       "version_major": 2,
       "version_minor": 0
      },
      "text/plain": [
       "  0%|          | 0/250 [00:00<?, ?it/s]"
      ]
     },
     "metadata": {},
     "output_type": "display_data"
    },
    {
     "name": "stdout",
     "output_type": "stream",
     "text": [
      "86 s1a-ew-owi-cm-20220714t151857-20220714t152046-000003-05438A_sw.nc\n"
     ]
    },
    {
     "data": {
      "application/vnd.jupyter.widget-view+json": {
       "model_id": "3052df7af8dd4bb2af806caf939105b0",
       "version_major": 2,
       "version_minor": 0
      },
      "text/plain": [
       "  0%|          | 0/250 [00:00<?, ?it/s]"
      ]
     },
     "metadata": {},
     "output_type": "display_data"
    },
    {
     "name": "stdout",
     "output_type": "stream",
     "text": [
      "87 rs2--owi-cm-20220731t135319-20220731t135632-00003-______sw.nc\n"
     ]
    },
    {
     "data": {
      "application/vnd.jupyter.widget-view+json": {
       "model_id": "cf1cf6813f104af7a8c52ddd275ba9a7",
       "version_major": 2,
       "version_minor": 0
      },
      "text/plain": [
       "  0%|          | 0/250 [00:00<?, ?it/s]"
      ]
     },
     "metadata": {},
     "output_type": "display_data"
    },
    {
     "name": "stdout",
     "output_type": "stream",
     "text": [
      "88 rs2--owi-cm-20220916t210335-20220916t210558-00003-______sw.nc\n"
     ]
    },
    {
     "data": {
      "application/vnd.jupyter.widget-view+json": {
       "model_id": "a4585032ca044145adf1356d8d4a8a72",
       "version_major": 2,
       "version_minor": 0
      },
      "text/plain": [
       "  0%|          | 0/250 [00:00<?, ?it/s]"
      ]
     },
     "metadata": {},
     "output_type": "display_data"
    },
    {
     "name": "stdout",
     "output_type": "stream",
     "text": [
      "89 rcm2--owi-cm-20221022t124742-20221022t124922-00003-______sw.nc\n"
     ]
    },
    {
     "data": {
      "application/vnd.jupyter.widget-view+json": {
       "model_id": "accaf85ee22a44d8a38f11266a36828e",
       "version_major": 2,
       "version_minor": 0
      },
      "text/plain": [
       "  0%|          | 0/250 [00:00<?, ?it/s]"
      ]
     },
     "metadata": {},
     "output_type": "display_data"
    },
    {
     "name": "stdout",
     "output_type": "stream",
     "text": [
      "90 rcm1--owi-cm-20221223t124804-20221223t124948-00003-______sw.nc\n"
     ]
    },
    {
     "data": {
      "application/vnd.jupyter.widget-view+json": {
       "model_id": "51926884b98c4d60a6ffb0971f918563",
       "version_major": 2,
       "version_minor": 0
      },
      "text/plain": [
       "  0%|          | 0/250 [00:00<?, ?it/s]"
      ]
     },
     "metadata": {},
     "output_type": "display_data"
    },
    {
     "name": "stdout",
     "output_type": "stream",
     "text": [
      "91 rcm3--owi-cm-20221223t235548-20221223t235732-00003-______sw.nc\n"
     ]
    },
    {
     "data": {
      "application/vnd.jupyter.widget-view+json": {
       "model_id": "2f8654fa3781404592f633d975dc8353",
       "version_major": 2,
       "version_minor": 0
      },
      "text/plain": [
       "  0%|          | 0/250 [00:00<?, ?it/s]"
      ]
     },
     "metadata": {},
     "output_type": "display_data"
    },
    {
     "name": "stdout",
     "output_type": "stream",
     "text": [
      "92 rcm1--owi-cm-20221226t234838-20221226t235018-00003-______sw.nc\n"
     ]
    },
    {
     "data": {
      "application/vnd.jupyter.widget-view+json": {
       "model_id": "59af53cf42c84eb4be7f5bb2ee1b6c30",
       "version_major": 2,
       "version_minor": 0
      },
      "text/plain": [
       "  0%|          | 0/250 [00:00<?, ?it/s]"
      ]
     },
     "metadata": {},
     "output_type": "display_data"
    },
    {
     "name": "stdout",
     "output_type": "stream",
     "text": [
      "93 rcm3--owi-cm-20230210t222810-20230210t222926-00003-______sw.nc\n"
     ]
    },
    {
     "data": {
      "application/vnd.jupyter.widget-view+json": {
       "model_id": "d8fed4e4bd564753aa232c7fe185b0fb",
       "version_major": 2,
       "version_minor": 0
      },
      "text/plain": [
       "  0%|          | 0/250 [00:00<?, ?it/s]"
      ]
     },
     "metadata": {},
     "output_type": "display_data"
    },
    {
     "name": "stdout",
     "output_type": "stream",
     "text": [
      "94 rcm2--owi-cm-20230213t232405-20230213t232520-00003-______sw.nc\n"
     ]
    },
    {
     "data": {
      "application/vnd.jupyter.widget-view+json": {
       "model_id": "2e90fa4264694185ba77334e5a78bf94",
       "version_major": 2,
       "version_minor": 0
      },
      "text/plain": [
       "  0%|          | 0/250 [00:00<?, ?it/s]"
      ]
     },
     "metadata": {},
     "output_type": "display_data"
    },
    {
     "name": "stdout",
     "output_type": "stream",
     "text": [
      "95 rcm3--owi-cm-20230214t122357-20230214t122511-00003-______sw.nc\n"
     ]
    },
    {
     "data": {
      "application/vnd.jupyter.widget-view+json": {
       "model_id": "cd6e217f38644fff8689621f55d496d6",
       "version_major": 2,
       "version_minor": 0
      },
      "text/plain": [
       "  0%|          | 0/250 [00:00<?, ?it/s]"
      ]
     },
     "metadata": {},
     "output_type": "display_data"
    },
    {
     "name": "stdout",
     "output_type": "stream",
     "text": [
      "96 rcm1--owi-cm-20230216t001151-20230216t001305-00003-______sw.nc\n"
     ]
    },
    {
     "data": {
      "application/vnd.jupyter.widget-view+json": {
       "model_id": "f532778b6b5d4d9e9344363f524d4d4e",
       "version_major": 2,
       "version_minor": 0
      },
      "text/plain": [
       "  0%|          | 0/250 [00:00<?, ?it/s]"
      ]
     },
     "metadata": {},
     "output_type": "display_data"
    },
    {
     "name": "stdout",
     "output_type": "stream",
     "text": [
      "97 rcm2--owi-cm-20230216t131202-20230216t131317-00003-______sw.nc\n"
     ]
    },
    {
     "data": {
      "application/vnd.jupyter.widget-view+json": {
       "model_id": "7f9b0a14a6894445bbe1ec35a0e1d077",
       "version_major": 2,
       "version_minor": 0
      },
      "text/plain": [
       "  0%|          | 0/250 [00:00<?, ?it/s]"
      ]
     },
     "metadata": {},
     "output_type": "display_data"
    },
    {
     "name": "stdout",
     "output_type": "stream",
     "text": [
      "98 rcm1--owi-cm-20230218t135942-20230218t140057-00003-______sw.nc\n"
     ]
    },
    {
     "data": {
      "application/vnd.jupyter.widget-view+json": {
       "model_id": "924df4d709e944e0837e28bad515719a",
       "version_major": 2,
       "version_minor": 0
      },
      "text/plain": [
       "  0%|          | 0/250 [00:00<?, ?it/s]"
      ]
     },
     "metadata": {},
     "output_type": "display_data"
    },
    {
     "name": "stdout",
     "output_type": "stream",
     "text": [
      "99 rcm1--owi-cm-20230330t111910-20230330t112038-00003-______sw.nc\n"
     ]
    },
    {
     "data": {
      "application/vnd.jupyter.widget-view+json": {
       "model_id": "a8d01173821644299ad9d9935cf6cd58",
       "version_major": 2,
       "version_minor": 0
      },
      "text/plain": [
       "  0%|          | 0/250 [00:00<?, ?it/s]"
      ]
     },
     "metadata": {},
     "output_type": "display_data"
    },
    {
     "name": "stdout",
     "output_type": "stream",
     "text": [
      "100 rcm3--owi-cm-20230330t222809-20230330t222926-00003-______sw.nc\n"
     ]
    },
    {
     "data": {
      "application/vnd.jupyter.widget-view+json": {
       "model_id": "f57016b76d8f4a00be6f1378def9208d",
       "version_major": 2,
       "version_minor": 0
      },
      "text/plain": [
       "  0%|          | 0/250 [00:00<?, ?it/s]"
      ]
     },
     "metadata": {},
     "output_type": "display_data"
    },
    {
     "name": "stdout",
     "output_type": "stream",
     "text": [
      "101 rcm1--owi-cm-20230331t112651-20230331t112806-00003-______sw.nc\n"
     ]
    },
    {
     "data": {
      "application/vnd.jupyter.widget-view+json": {
       "model_id": "6cf8e2360cf54c59b3e0e481105e5d3c",
       "version_major": 2,
       "version_minor": 0
      },
      "text/plain": [
       "  0%|          | 0/250 [00:00<?, ?it/s]"
      ]
     },
     "metadata": {},
     "output_type": "display_data"
    },
    {
     "name": "stdout",
     "output_type": "stream",
     "text": [
      "102 rcm3--owi-cm-20230515t131440-20230515t131555-00003-______sw.nc\n"
     ]
    },
    {
     "data": {
      "application/vnd.jupyter.widget-view+json": {
       "model_id": "6bf5e04a4ba3471496a56518668aeb91",
       "version_major": 2,
       "version_minor": 0
      },
      "text/plain": [
       "  0%|          | 0/250 [00:00<?, ?it/s]"
      ]
     },
     "metadata": {},
     "output_type": "display_data"
    },
    {
     "name": "stdout",
     "output_type": "stream",
     "text": [
      "103 rcm2--owi-cm-20230522t082128-20230522t082226-00003-______sw.nc\n"
     ]
    },
    {
     "data": {
      "application/vnd.jupyter.widget-view+json": {
       "model_id": "67a45934a4034f8d8cfe08877f02151e",
       "version_major": 2,
       "version_minor": 0
      },
      "text/plain": [
       "  0%|          | 0/250 [00:00<?, ?it/s]"
      ]
     },
     "metadata": {},
     "output_type": "display_data"
    },
    {
     "name": "stdout",
     "output_type": "stream",
     "text": [
      "104 rcm1--owi-cm-20230528t094334-20230528t094451-00003-______sw.nc\n"
     ]
    },
    {
     "data": {
      "application/vnd.jupyter.widget-view+json": {
       "model_id": "825ce22434b845acaca5f482438d42f0",
       "version_major": 2,
       "version_minor": 0
      },
      "text/plain": [
       "  0%|          | 0/250 [00:00<?, ?it/s]"
      ]
     },
     "metadata": {},
     "output_type": "display_data"
    },
    {
     "name": "stdout",
     "output_type": "stream",
     "text": [
      "105 rcm1--owi-cm-20230614t012242-20230614t012349-00003-______sw.nc\n"
     ]
    },
    {
     "data": {
      "application/vnd.jupyter.widget-view+json": {
       "model_id": "e320dcc03f924d9587167a208690327b",
       "version_major": 2,
       "version_minor": 0
      },
      "text/plain": [
       "  0%|          | 0/250 [00:00<?, ?it/s]"
      ]
     },
     "metadata": {},
     "output_type": "display_data"
    },
    {
     "name": "stdout",
     "output_type": "stream",
     "text": [
      "106 rcm1--owi-cm-20230629t130417-20230629t130535-00003-______sw.nc\n"
     ]
    },
    {
     "data": {
      "application/vnd.jupyter.widget-view+json": {
       "model_id": "23d3def6f9f540618186816ac6388aeb",
       "version_major": 2,
       "version_minor": 0
      },
      "text/plain": [
       "  0%|          | 0/250 [00:00<?, ?it/s]"
      ]
     },
     "metadata": {},
     "output_type": "display_data"
    },
    {
     "name": "stdout",
     "output_type": "stream",
     "text": [
      "107 rcm2--owi-cm-20230808t161815-20230808t161931-00003-______sw.nc\n"
     ]
    },
    {
     "data": {
      "application/vnd.jupyter.widget-view+json": {
       "model_id": "71d1a55d917f404b9ec380393a726da7",
       "version_major": 2,
       "version_minor": 0
      },
      "text/plain": [
       "  0%|          | 0/250 [00:00<?, ?it/s]"
      ]
     },
     "metadata": {},
     "output_type": "display_data"
    },
    {
     "name": "stdout",
     "output_type": "stream",
     "text": [
      "108 rcm1--owi-cm-20230809t050027-20230809t050143-00003-______sw.nc\n"
     ]
    },
    {
     "data": {
      "application/vnd.jupyter.widget-view+json": {
       "model_id": "a2317c77d0e04cdeace9c9fa9c14e55c",
       "version_major": 2,
       "version_minor": 0
      },
      "text/plain": [
       "  0%|          | 0/250 [00:00<?, ?it/s]"
      ]
     },
     "metadata": {},
     "output_type": "display_data"
    },
    {
     "name": "stdout",
     "output_type": "stream",
     "text": [
      "109 rcm3--owi-cm-20230811t054945-20230811t055101-00003-______sw.nc\n"
     ]
    },
    {
     "data": {
      "application/vnd.jupyter.widget-view+json": {
       "model_id": "284e74006e174214b4097453c4db2c2b",
       "version_major": 2,
       "version_minor": 0
      },
      "text/plain": [
       "  0%|          | 0/250 [00:00<?, ?it/s]"
      ]
     },
     "metadata": {},
     "output_type": "display_data"
    },
    {
     "name": "stdout",
     "output_type": "stream",
     "text": [
      "110 rcm2--owi-cm-20230815t140018-20230815t140119-00003-______sw.nc\n"
     ]
    },
    {
     "data": {
      "application/vnd.jupyter.widget-view+json": {
       "model_id": "3c5567e5d016439d8cc5ffff462cd12c",
       "version_major": 2,
       "version_minor": 0
      },
      "text/plain": [
       "  0%|          | 0/250 [00:00<?, ?it/s]"
      ]
     },
     "metadata": {},
     "output_type": "display_data"
    },
    {
     "name": "stdout",
     "output_type": "stream",
     "text": [
      "111 rcm2--owi-cm-20230907t090310-20230907t090426-00003-______sw.nc\n"
     ]
    },
    {
     "data": {
      "application/vnd.jupyter.widget-view+json": {
       "model_id": "92de689e0e5d46c6b16f20212048436f",
       "version_major": 2,
       "version_minor": 0
      },
      "text/plain": [
       "  0%|          | 0/250 [00:00<?, ?it/s]"
      ]
     },
     "metadata": {},
     "output_type": "display_data"
    },
    {
     "name": "stdout",
     "output_type": "stream",
     "text": [
      "112 s1a-ew-owi-cm-20230908t092521-20230908t092624-000003-060BF1_sw.nc\n"
     ]
    },
    {
     "data": {
      "application/vnd.jupyter.widget-view+json": {
       "model_id": "d47aaca5e7e9432ba32ac8e7c6228826",
       "version_major": 2,
       "version_minor": 0
      },
      "text/plain": [
       "  0%|          | 0/250 [00:00<?, ?it/s]"
      ]
     },
     "metadata": {},
     "output_type": "display_data"
    },
    {
     "name": "stdout",
     "output_type": "stream",
     "text": [
      "113 rcm1--owi-cm-20230908t215553-20230908t215709-00003-______sw.nc\n"
     ]
    },
    {
     "data": {
      "application/vnd.jupyter.widget-view+json": {
       "model_id": "25051322d7c340c5a88ab5416204ab81",
       "version_major": 2,
       "version_minor": 0
      },
      "text/plain": [
       "  0%|          | 0/250 [00:00<?, ?it/s]"
      ]
     },
     "metadata": {},
     "output_type": "display_data"
    },
    {
     "name": "stdout",
     "output_type": "stream",
     "text": [
      "114 rcm1--owi-cm-20230909t094956-20230909t095112-00003-______sw.nc\n"
     ]
    },
    {
     "data": {
      "application/vnd.jupyter.widget-view+json": {
       "model_id": "6135ab4437c04807a2d401182cc01fb5",
       "version_major": 2,
       "version_minor": 0
      },
      "text/plain": [
       "  0%|          | 0/250 [00:00<?, ?it/s]"
      ]
     },
     "metadata": {},
     "output_type": "display_data"
    },
    {
     "name": "stdout",
     "output_type": "stream",
     "text": [
      "115 rcm1--owi-cm-20230909t220434-20230909t220551-00003-______sw.nc\n"
     ]
    },
    {
     "data": {
      "application/vnd.jupyter.widget-view+json": {
       "model_id": "6a28c81a4c81459bb936924679a8e79f",
       "version_major": 2,
       "version_minor": 0
      },
      "text/plain": [
       "  0%|          | 0/250 [00:00<?, ?it/s]"
      ]
     },
     "metadata": {},
     "output_type": "display_data"
    },
    {
     "name": "stdout",
     "output_type": "stream",
     "text": [
      "116 rcm1--owi-cm-20230910t095738-20230910t095854-00003-______sw.nc\n"
     ]
    },
    {
     "data": {
      "application/vnd.jupyter.widget-view+json": {
       "model_id": "d10d59b2cc694e848bdf7f50e0c1a020",
       "version_major": 2,
       "version_minor": 0
      },
      "text/plain": [
       "  0%|          | 0/250 [00:00<?, ?it/s]"
      ]
     },
     "metadata": {},
     "output_type": "display_data"
    },
    {
     "name": "stdout",
     "output_type": "stream",
     "text": [
      "117 rcm1--owi-cm-20230910t221257-20230910t221412-00003-______sw.nc\n"
     ]
    },
    {
     "data": {
      "application/vnd.jupyter.widget-view+json": {
       "model_id": "0a2f0d3a27aa41ac8985191d5886ea3f",
       "version_major": 2,
       "version_minor": 0
      },
      "text/plain": [
       "  0%|          | 0/250 [00:00<?, ?it/s]"
      ]
     },
     "metadata": {},
     "output_type": "display_data"
    },
    {
     "name": "stdout",
     "output_type": "stream",
     "text": [
      "118 rcm1--owi-cm-20230911t100516-20230911t100633-00003-______sw.nc\n"
     ]
    },
    {
     "data": {
      "application/vnd.jupyter.widget-view+json": {
       "model_id": "810fa4854114439a90db8cd548375662",
       "version_major": 2,
       "version_minor": 0
      },
      "text/plain": [
       "  0%|          | 0/250 [00:00<?, ?it/s]"
      ]
     },
     "metadata": {},
     "output_type": "display_data"
    },
    {
     "name": "stdout",
     "output_type": "stream",
     "text": [
      "119 rcm1--owi-cm-20230911t222124-20230911t222239-00003-______sw.nc\n"
     ]
    },
    {
     "data": {
      "application/vnd.jupyter.widget-view+json": {
       "model_id": "b6f6d580db6544fc88d832fb32840559",
       "version_major": 2,
       "version_minor": 0
      },
      "text/plain": [
       "  0%|          | 0/250 [00:00<?, ?it/s]"
      ]
     },
     "metadata": {},
     "output_type": "display_data"
    },
    {
     "name": "stdout",
     "output_type": "stream",
     "text": [
      "120 rcm1--owi-cm-20230912t083507-20230912t083624-00003-______sw.nc\n"
     ]
    },
    {
     "data": {
      "application/vnd.jupyter.widget-view+json": {
       "model_id": "b29bb438b86647c9a6feb31dc616e2d7",
       "version_major": 2,
       "version_minor": 0
      },
      "text/plain": [
       "  0%|          | 0/250 [00:00<?, ?it/s]"
      ]
     },
     "metadata": {},
     "output_type": "display_data"
    },
    {
     "name": "stdout",
     "output_type": "stream",
     "text": [
      "121 rcm1--owi-cm-20230912t101305-20230912t101421-00003-______sw.nc\n"
     ]
    },
    {
     "data": {
      "application/vnd.jupyter.widget-view+json": {
       "model_id": "ea90fdd01d4a47e1bf730555fd56095b",
       "version_major": 2,
       "version_minor": 0
      },
      "text/plain": [
       "  0%|          | 0/250 [00:00<?, ?it/s]"
      ]
     },
     "metadata": {},
     "output_type": "display_data"
    },
    {
     "name": "stdout",
     "output_type": "stream",
     "text": [
      "122 rcm1--owi-cm-20230912t222941-20230912t223057-00003-______sw.nc\n"
     ]
    },
    {
     "data": {
      "application/vnd.jupyter.widget-view+json": {
       "model_id": "dc4eb47000b046e58b5ff80910e096fe",
       "version_major": 2,
       "version_minor": 0
      },
      "text/plain": [
       "  0%|          | 0/250 [00:00<?, ?it/s]"
      ]
     },
     "metadata": {},
     "output_type": "display_data"
    },
    {
     "data": {
      "text/plain": [
       "<Figure size 1500x1000 with 0 Axes>"
      ]
     },
     "metadata": {},
     "output_type": "display_data"
    }
   ],
   "source": [
    "# Iterate\n",
    "for t in tqdm(range(len(dsg_valid.time))[23 + 46:]):\n",
    "    # 23+46\n",
    "    # Open file\n",
    "    ds  = dsg_valid.isel(time=t)\n",
    "    dsp = xr.open_dataset(PTHS['sar_dir'] + ds.file_tcva.item()).isel(time=0)\n",
    "    \n",
    "    # Fixed parameters\n",
    "    vmx = float(ds.vmx_hol)\n",
    "    rmx = float(ds.rmx_hol)\n",
    "    vmn = float(ds.vmn_hol)\n",
    "    B   = float(ds.B_hol)\n",
    "    lat = float(ds.lat)\n",
    "    fcr = abs(float(ds.fcor))\n",
    "\n",
    "    # Holland with fixed parameters\n",
    "    V   = holland_profile(rs, lat, B, vmn, rmx, vmx)\n",
    "    Vs  = np.stack([V for i in range(np.shape(THs)[0])]) # Shape (361, 5000)\n",
    "\n",
    "    # I ~ V/r radii\n",
    "    try:\n",
    "        I_Vr         = (I(Rs, Vs, fcr) - Vs / rs)[0, :]    # I - V/r\n",
    "        r_stt, r_end = rs[I_Vr <= 0][0], rs[I_Vr <= 0][-1] # Define the bounds\n",
    "    except IndexError:\n",
    "        r_stt = r_end = np.nan\n",
    "\n",
    "    # Prepare averagings\n",
    "    timescale   = 1 / I(Rs, Vs, fcr)[0, :]             # time needed for the BL to develop\n",
    "    radialscale = timescale * Vs[0, :] / 5             # radial distance travelled by an air parcel in the meantime, considering that U/V = 5\n",
    "    tangenscale = timescale * Vs[0, :]                 # tangential distance travelled by an air parcel in the meantime\n",
    "    thetascale  = 360 * tangenscale / (2 * np.pi * rs) # convert this tangential distance to theta\n",
    "    thetascale[np.isnan(thetascale)] = 9999            # # happens when time 1/I explodes, so put a high value to enter the ValueError exception below (AS2 and AS3 computation)\n",
    "\n",
    "    print(t, ds.file.item())\n",
    "\n",
    "    # x-axis\n",
    "    # xs = np.linspace(ds.rmx, 2 * ds.rps, 50)\n",
    "    # xs = np.linspace(ds.rmx, 2 * ds.rps, 10)\n",
    "    # xs = np.linspace(1000, 250000, 250)[::100]\n",
    "    xs = np.linspace(1000, 250000, 250)\n",
    "    \n",
    "    # Asymmetries\n",
    "    ASS  = []\n",
    "    AS2  = []\n",
    "    AS3  = []\n",
    "    ASQ  = []\n",
    "    rads = []\n",
    "    ERR  = []\n",
    "    for rad in tqdm(xs):\n",
    "        try:\n",
    "            # dsp.sel(rad=rad, method='nearest').wind_speed.fillna(dsp.sel(rad=rad, method='nearest').wind_speed.mean(skipna=True)).plot()\n",
    "            # ass, _, _ = get_wn1(np.deg2rad(dsp.theta), dsp.sel(rad=rad, method='nearest').wind_speed.fillna(dsp.sel(rad=rad, method='nearest').wind_speed.mean(skipna=True)), float(ds.vps), float(ds.vmx))\n",
    "            valid_dsp     = dsp.sel(rad=rad, method='nearest').dropna(subset=['wind_speed'], dim='theta')\n",
    "            ass, phi, c   = get_wn1(np.deg2rad(valid_dsp.theta), valid_dsp.wind_speed, float(ds.vps), float(ds.vmx))\n",
    "            error         = float(rmse(wn1(np.deg2rad(valid_dsp.theta), ass, phi, c), valid_dsp.wind_speed)) \n",
    "            ASS.append(ass)\n",
    "            ERR.append(error)\n",
    "\n",
    "            # Preparing averagings\n",
    "            avg_on_u = radialscale[rs >= rad][0]\n",
    "            avg_on_v = int(thetascale[rs >= rad][0])\n",
    "\n",
    "            try:\n",
    "                # Average on theta\n",
    "                valid_dsp2      = dsp.sel(rad=rad, method='nearest').rolling(theta=avg_on_v, center=True, min_periods=2).mean().dropna(subset=['wind_speed'], dim='theta')\n",
    "                as2, phi2, c2   = get_wn1(np.deg2rad(valid_dsp2.theta), valid_dsp2.wind_speed, float(ds.vps), float(ds.vmx))\n",
    "                AS2.append(as2)\n",
    "\n",
    "                # Average on theta AND r\n",
    "                valid_dsp3      = dsp.sel(rad=slice(rad - avg_on_u, rad + avg_on_u))[['wind_speed']].mean(dim='rad', skipna=True).rolling(theta=avg_on_v, center=True, min_periods=2).mean().dropna(dim='theta')\n",
    "                as3, phi3, c3   = get_wn1(np.deg2rad(valid_dsp3.theta), valid_dsp3.wind_speed, float(ds.vps), float(ds.vmx))\n",
    "                AS3.append(as3)\n",
    "                \n",
    "            except ValueError:\n",
    "                # happens when time 1/I explodes, such that to average on theta we would average on more than 361 values of theta!\n",
    "                as2 = as3 = np.nan\n",
    "                AS2.append(as2)\n",
    "                AS3.append(as3)\n",
    "\n",
    "            # Add radius\n",
    "            rads.append(rad)\n",
    "\n",
    "        except RuntimeError:\n",
    "            print('RuntimeError when computing the asymmetries.')\n",
    "            break\n",
    "        # Asymmetries with the quantiles\n",
    "        a_qtl = dsp.sel(rad=rad, method='nearest').wind_speed.quantile(0.9) - dsp.sel(rad=rad, method='nearest').wind_speed.quantile(0.1)\n",
    "        ASQ.append(a_qtl)\n",
    "        \n",
    "    # Inertial neutrality?\n",
    "    dr                 = np.diff(Rs[0, :])[0] # meteRs\n",
    "    dM_dr              = Vs + Rs * np.gradient(Vs, dr, axis=1) + fcr * Rs\n",
    "    beta               = dM_dr[0, :] / rs\n",
    "    idxs               = np.searchsorted(rs, xs)\n",
    "    first_term_eq5_k01 = (Vs[0, idxs] / rs[idxs]) * (np.array(AS3) / (2 * np.pi))\n",
    "\n",
    "    ### Plot\n",
    "    # First save the SAR image\n",
    "    dr, th       = np.meshgrid(dsp.rad, np.deg2rad(dsp.theta))\n",
    "    ds_x, ds_y   = pol2cart(dr, th)\n",
    "    ws_car       = griddata((ds_x.flatten(), ds_y.flatten()), np.array(dsp.wind_speed.transpose()).flatten(), (x_ref, y_ref), method='linear')\n",
    "\n",
    "    plt.title('{}, Translation speed = {:.1f} m/s'.format(ds.id.item(), ds.speed))\n",
    "    plt.pcolormesh(x_ref / 1000, y_ref / 1000, ws_car, cmap=cwnd, norm=normalizer);plt.colorbar()\n",
    "    plt.xlabel('x (km)');plt.ylabel('y (km)')\n",
    "    plt.grid()\n",
    "\n",
    "    plt.savefig(PTHS['sav_dir'] + ds.file.item().item().split('.')[0] + '_2Dwindfield', bbox_inches='tight', format='png');plt.clf()\n",
    "\n",
    "    # Then plot the asymmetry profiles\n",
    "    plt.plot(rads, ASS, c='k',          linewidth=3,        label='Amplitude of cosine')\n",
    "    plt.plot(rads, AS2, c='k',                              label='Amplitude of cosine, avg. on th')\n",
    "    plt.plot(rads, AS3, c='k',          linestyle='dashed', label='Amplitude of cosine, avg. on th AND r')\n",
    "    plt.plot(rads, ERR, c='tab:purple', linestyle='dashed', label='RMSE in fitting cosine (non-avg.)')\n",
    "    plt.plot(rads, ASQ, c='tab:blue',   linewidth=3,        label='10%-quantile difference')\n",
    "    # Wind radii\n",
    "    plt.axvline(ds.rmx, c='tab:red',    linewidth=3,        label='Rmax')\n",
    "    plt.axvline(ds.rps, c='tab:red',    label='R+')\n",
    "    plt.axvline(ds.r0,  c='tab:red',    linestyle='dashed', label='R0')\n",
    "    # I ~ V/r\n",
    "    plt.axvline(r_stt,  c='orange',                         label='I ~ V/r (if exists), with SAR wind speed (not BL-top)')\n",
    "    plt.axvline(r_end,  c='orange')\n",
    "    # Validity curves\n",
    "    plt.plot(rs[idxs], first_term_eq5_k01 / beta[idxs], c='green',                     label='Inertial non-neutrality - must be close to 1')\n",
    "    plt.plot(rs, float(ds.speed) / Vs[0, :],            c='green', linestyle='dashed', label='Ut / V - must remain small')\n",
    "    plt.axhline(1, c='gray', alpha=0.3)\n",
    "    # Legends\n",
    "    plt.xlabel('r (m)')\n",
    "    plt.ylabel('Asymmetry - amplitude of WN1 (m/s)')\n",
    "    plt.title('{}, Translation speed = {:.1f} m/s'.format(ds.id.item(), ds.speed))\n",
    "    plt.legend(frameon=False, loc='upper right')\n",
    "    plt.xlim(0, max(float(ds.r0) + 5000, 250000))\n",
    "    plt.ylim(0, 1 + float(max(max(ASQ), max(ASS))))\n",
    "\n",
    "    ### Save\n",
    "    plt.savefig(PTHS['sav_dir'] + ds.file.item().item().split('.')[0] + '_asym', bbox_inches='tight', format='png');plt.clf()"
   ]
  },
  {
   "cell_type": "code",
   "execution_count": 39,
   "metadata": {},
   "outputs": [
    {
     "data": {
      "text/plain": [
       "250"
      ]
     },
     "execution_count": 39,
     "metadata": {},
     "output_type": "execute_result"
    }
   ],
   "source": [
    "len(xs)"
   ]
  },
  {
   "cell_type": "code",
   "execution_count": null,
   "metadata": {},
   "outputs": [],
   "source": []
  },
  {
   "cell_type": "code",
   "execution_count": null,
   "metadata": {},
   "outputs": [],
   "source": []
  },
  {
   "cell_type": "code",
   "execution_count": 29,
   "metadata": {},
   "outputs": [
    {
     "data": {
      "text/plain": [
       "array([   9,   19,   29,   39,   49,   59,   69,   79,   89,   99,  109,\n",
       "        119,  129,  139,  149,  159,  169,  179,  189,  199,  209,  219,\n",
       "        229,  239,  249,  259,  269,  279,  289,  299,  309,  319,  329,\n",
       "        339,  349,  359,  369,  379,  389,  399,  409,  419,  429,  439,\n",
       "        449,  459,  469,  479,  489,  499,  509,  519,  529,  539,  549,\n",
       "        559,  569,  579,  589,  599,  609,  619,  629,  639,  649,  659,\n",
       "        669,  679,  689,  699,  709,  719,  729,  739,  749,  759,  769,\n",
       "        779,  789,  799,  809,  819,  829,  839,  849,  859,  869,  879,\n",
       "        889,  899,  909,  919,  929,  939,  949,  959,  969,  979,  989,\n",
       "        999, 1009, 1019, 1029, 1039, 1049, 1059, 1069, 1079, 1089, 1099,\n",
       "       1109, 1119, 1129, 1139, 1149, 1159, 1169, 1179, 1189, 1199, 1209,\n",
       "       1219, 1229, 1239, 1249, 1259, 1269, 1279, 1289, 1299, 1309, 1319,\n",
       "       1329, 1339, 1349, 1359, 1369, 1379, 1389, 1399, 1409, 1419, 1429,\n",
       "       1439, 1449, 1459, 1469, 1479, 1489, 1499, 1509, 1519, 1529, 1539,\n",
       "       1549, 1559, 1569, 1579, 1589, 1599, 1609, 1619, 1629, 1639, 1649,\n",
       "       1659, 1669, 1679, 1689, 1699, 1709, 1719, 1729, 1739, 1749, 1759,\n",
       "       1769, 1779, 1789, 1799, 1809, 1819, 1829, 1839, 1849, 1859, 1869,\n",
       "       1879, 1889, 1899, 1909, 1919, 1929, 1939, 1949, 1959, 1969, 1979,\n",
       "       1989, 1999, 2009, 2019, 2029, 2039, 2049, 2059, 2069, 2079, 2089,\n",
       "       2099, 2109, 2119, 2129, 2139, 2149, 2159, 2169, 2179, 2189, 2199,\n",
       "       2209, 2219, 2229, 2239, 2249, 2259, 2269, 2279, 2289, 2299, 2309,\n",
       "       2319, 2329, 2339, 2349, 2359, 2369, 2379, 2389, 2399, 2409, 2419,\n",
       "       2429, 2439, 2449, 2459, 2469, 2479, 2489, 2499])"
      ]
     },
     "execution_count": 29,
     "metadata": {},
     "output_type": "execute_result"
    }
   ],
   "source": [
    "# Inertial neutrality?\n",
    "# dr                 = np.diff(Rs[0, :])[0] # meteRs\n",
    "# dM_dr              = Vs + Rs * np.gradient(Vs, dr, axis=1) + fcr * Rs\n",
    "# beta               = dM_dr[0, :] / rs\n",
    "# idxs               = np.searchsorted(rs, xs)\n",
    "# first_term_eq5_k01 = (Vs[0, idxs] / rs[idxs]) * (np.array(AS3) / (2 * np.pi))"
   ]
  },
  {
   "cell_type": "code",
   "execution_count": 33,
   "metadata": {},
   "outputs": [
    {
     "data": {
      "text/plain": [
       "154"
      ]
     },
     "execution_count": 33,
     "metadata": {},
     "output_type": "execute_result"
    }
   ],
   "source": [
    "len(AS3)"
   ]
  },
  {
   "cell_type": "code",
   "execution_count": 34,
   "metadata": {},
   "outputs": [
    {
     "data": {
      "text/plain": [
       "(250,)"
      ]
     },
     "execution_count": 34,
     "metadata": {},
     "output_type": "execute_result"
    }
   ],
   "source": [
    "np.shape(Vs[0, idxs] / rs[idxs])"
   ]
  },
  {
   "cell_type": "code",
   "execution_count": 37,
   "metadata": {},
   "outputs": [
    {
     "data": {
      "text/plain": [
       "array([   9,   19,   29,   39,   49,   59,   69,   79,   89,   99,  109,\n",
       "        119,  129,  139,  149,  159,  169,  179,  189,  199,  209,  219,\n",
       "        229,  239,  249,  259,  269,  279,  289,  299,  309,  319,  329,\n",
       "        339,  349,  359,  369,  379,  389,  399,  409,  419,  429,  439,\n",
       "        449,  459,  469,  479,  489,  499,  509,  519,  529,  539,  549,\n",
       "        559,  569,  579,  589,  599,  609,  619,  629,  639,  649,  659,\n",
       "        669,  679,  689,  699,  709,  719,  729,  739,  749,  759,  769,\n",
       "        779,  789,  799,  809,  819,  829,  839,  849,  859,  869,  879,\n",
       "        889,  899,  909,  919,  929,  939,  949,  959,  969,  979,  989,\n",
       "        999, 1009, 1019, 1029, 1039, 1049, 1059, 1069, 1079, 1089, 1099,\n",
       "       1109, 1119, 1129, 1139, 1149, 1159, 1169, 1179, 1189, 1199, 1209,\n",
       "       1219, 1229, 1239, 1249, 1259, 1269, 1279, 1289, 1299, 1309, 1319,\n",
       "       1329, 1339, 1349, 1359, 1369, 1379, 1389, 1399, 1409, 1419, 1429,\n",
       "       1439, 1449, 1459, 1469, 1479, 1489, 1499, 1509, 1519, 1529, 1539,\n",
       "       1549, 1559, 1569, 1579, 1589, 1599, 1609, 1619, 1629, 1639, 1649,\n",
       "       1659, 1669, 1679, 1689, 1699, 1709, 1719, 1729, 1739, 1749, 1759,\n",
       "       1769, 1779, 1789, 1799, 1809, 1819, 1829, 1839, 1849, 1859, 1869,\n",
       "       1879, 1889, 1899, 1909, 1919, 1929, 1939, 1949, 1959, 1969, 1979,\n",
       "       1989, 1999, 2009, 2019, 2029, 2039, 2049, 2059, 2069, 2079, 2089,\n",
       "       2099, 2109, 2119, 2129, 2139, 2149, 2159, 2169, 2179, 2189, 2199,\n",
       "       2209, 2219, 2229, 2239, 2249, 2259, 2269, 2279, 2289, 2299, 2309,\n",
       "       2319, 2329, 2339, 2349, 2359, 2369, 2379, 2389, 2399, 2409, 2419,\n",
       "       2429, 2439, 2449, 2459, 2469, 2479, 2489, 2499])"
      ]
     },
     "execution_count": 37,
     "metadata": {},
     "output_type": "execute_result"
    }
   ],
   "source": [
    "idxs"
   ]
  },
  {
   "cell_type": "code",
   "execution_count": 31,
   "metadata": {},
   "outputs": [
    {
     "data": {
      "text/plain": [
       "[<matplotlib.lines.Line2D at 0x7f9c0a448370>]"
      ]
     },
     "execution_count": 31,
     "metadata": {},
     "output_type": "execute_result"
    },
    {
     "data": {
      "image/png": "[encoded data removed]",
      "text/plain": [
       "<Figure size 1500x1000 with 1 Axes>"
      ]
     },
     "metadata": {},
     "output_type": "display_data"
    }
   ],
   "source": [
    "plt.plot(rs, Vs[0, :])"
   ]
  },
  {
   "cell_type": "code",
   "execution_count": null,
   "metadata": {},
   "outputs": [],
   "source": []
  },
  {
   "cell_type": "code",
   "execution_count": null,
   "metadata": {},
   "outputs": [],
   "source": []
  },
  {
   "cell_type": "code",
   "execution_count": null,
   "metadata": {},
   "outputs": [],
   "source": []
  }
 ],
 "metadata": {
  "kernelspec": {
   "display_name": "paramProfiles",
   "language": "python",
   "name": "paramprofiles"
  },
  "language_info": {
   "codemirror_mode": {
    "name": "ipython",
    "version": 3
   },
   "file_extension": ".py",
   "mimetype": "text/x-python",
   "name": "python",
   "nbconvert_exporter": "python",
   "pygments_lexer": "ipython3",
   "version": "3.8.15"
  }
 },
 "nbformat": 4,
 "nbformat_minor": 4
}
