{
 "cells": [
  {
   "cell_type": "markdown",
   "metadata": {},
   "source": [
    "## Fit K01 to collocated SAR/SCAT data\n",
    "\n",
    "Fit (C, K) using both SAR wind speeds and scatterometer inflow angle.\n",
    "\n",
    "TODO: Some cases do not have enough scat inflow angle nonzero values. Add a parameter to caracterize this, in order to remove them later. If I remove them from this notebook, should I remove them from the other notebooks as well? "
   ]
  },
  {
   "cell_type": "code",
   "execution_count": 1,
   "metadata": {},
   "outputs": [],
   "source": [
    "# General\n",
    "import glob\n",
    "import re\n",
    "import os.path\n",
    "# import warnings\n",
    "# warnings.filterwarnings('ignore')\n",
    "from tqdm.notebook import tqdm\n",
    "import copy\n",
    "\n",
    "# Arrays & Displays\n",
    "import xarray as xr\n",
    "import numpy as np\n",
    "import matplotlib as mpl\n",
    "import matplotlib.pyplot as plt\n",
    "from matplotlib.colors import Normalize\n",
    "from matplotlib.gridspec import GridSpec\n",
    "import matplotlib.cm as cm\n",
    "import pandas as pd\n",
    "\n",
    "# Data treatment\n",
    "from datetime import datetime\n",
    "from scipy.optimize import curve_fit\n",
    "from scipy.interpolate import griddata\n",
    "from scipy.optimize import minimize\n",
    "\n",
    "# Default parameters\n",
    "mpl.rcParams.update({'font.size': 18})\n",
    "mpl.rcParams['figure.figsize'] = (15, 10)\n",
    "mpl.rcParams['axes.facecolor'] = 'white'\n",
    "mpl.rcParams['figure.facecolor'] = 'white'"
   ]
  },
  {
   "cell_type": "code",
   "execution_count": 2,
   "metadata": {},
   "outputs": [],
   "source": [
    "# Paths & Params\n",
    "PTHS = {\n",
    "    'dsg_pth': '/home/arthur/data/tropical_cyclones/SAR/parametric_dataset/dsg.nc',\n",
    "    'sar_dir': '/home/arthur/data/tropical_cyclones/SAR/S1_RS2_RCM/sar_files/',\n",
    "    'sct_dir': '/home/arthur/data/tropical_cyclones/scatterometer/hy-2/',\n",
    "    'sav_dir': '/home/arthur/results/TCsLifeMonitFromObs/winddirection/PRJCT_TCBL/00_FIT_K01_wINFLOW_ANGLE/',\n",
    "}\n",
    "\n",
    "PRMS = {\n",
    "    'dt': 90, # Delta time used for collocation, in min\n",
    "    'sav_fgs': True,\n",
    "    'sav_css': True,\n",
    "}\n",
    "\n",
    "# Open data\n",
    "dsg = xr.open_dataset(PTHS['dsg_pth'])"
   ]
  },
  {
   "cell_type": "code",
   "execution_count": 3,
   "metadata": {},
   "outputs": [
    {
     "name": "stdout",
     "output_type": "stream",
     "text": [
      "117\n"
     ]
    }
   ],
   "source": [
    "# FILTERS\n",
    "cond = (\n",
    "    (dsg.center_quality_flag < 2) & \n",
    "    (dsg.percent_outside < 50) & \n",
    "    (dsg.percent_rmx_inside == 1) &\n",
    "    (abs(dsg.lat) < 30) & \n",
    "    (dsg.rmx < 100000) & \n",
    "    (dsg.vmx > 20) &\n",
    "    (dsg.dist2coast  > dsg.r34)             & # Distance to coast\n",
    "    (dsg.percent_outside < 10)              & # Sufficient SAR coverage\n",
    "    ((dsg.storm_speed_ibt / dsg.vws_pmd) > 1) # Ratio storm_speed / wind_shear\n",
    ")\n",
    "dsg_filtered    = dsg.where(cond, drop=True)\n",
    "print(len(dsg_filtered.time))"
   ]
  },
  {
   "cell_type": "markdown",
   "metadata": {},
   "source": [
    "### 1) Collocate SAR and HY-2"
   ]
  },
  {
   "cell_type": "code",
   "execution_count": 4,
   "metadata": {},
   "outputs": [
    {
     "data": {
      "application/vnd.jupyter.widget-view+json": {
       "model_id": "580ad6c5d02e46f0a0198f032eefd66b",
       "version_major": 2,
       "version_minor": 0
      },
      "text/plain": [
       "  0%|          | 0/117 [00:00<?, ?it/s]"
      ]
     },
     "metadata": {},
     "output_type": "display_data"
    },
    {
     "name": "stdout",
     "output_type": "stream",
     "text": [
      "79\n"
     ]
    }
   ],
   "source": [
    "# For debug, use t = 90\n",
    "\n",
    "# Initialize\n",
    "list_of_collocated_sct_pths = []\n",
    "list_of_collocated_sar_fles = []\n",
    "\n",
    "# Iterate\n",
    "for t in tqdm(range(len(dsg_filtered.time))):\n",
    "    ### Open SAR\n",
    "    ds         = dsg_filtered.isel(time=t)\n",
    "\n",
    "    ### Collocate eventual SCAT data\n",
    "    # Extract SCAT data from that previous, current, and next day\n",
    "    year = ds.time.data.astype('datetime64[Y]').astype(int) + 1970 # Year of the current ibt_time\n",
    "    days = int((ds.time - np.datetime64('{}-01-01'.format(year))) / np.timedelta64(1, 'D')) + 1 # Nb of days since beginning of that year\n",
    "    # Take previous, current and next day (note that this doesn't cover the beginning or end of a year, in the unlikely occurrence)\n",
    "    sct_data_crt = np.array(\n",
    "        glob.glob(PTHS['sct_dir'] + 'polar/*/{}/'.format(year) + '{0:03}/*.nc'.format(days - 1)) +  \n",
    "        glob.glob(PTHS['sct_dir'] + 'polar/*/{}/'.format(year) + '{0:03}/*.nc'.format(days))     + \n",
    "        glob.glob(PTHS['sct_dir'] + 'polar/*/{}/'.format(year) + '{0:03}/*.nc'.format(days + 1))\n",
    "    )\n",
    "    # Paths that have the correct ATCF ID\n",
    "    matching_paths = []\n",
    "    for path in sct_data_crt:\n",
    "        filename = os.path.basename(path) \n",
    "        if filename.endswith(f\"{ds.id.item()}.nc\"):\n",
    "            matching_paths.append(path)\n",
    "    # Collocated paths\n",
    "    for matching_path in matching_paths:\n",
    "        # Open\n",
    "        ds_matching = xr.open_dataset(matching_path)\n",
    "        # If collocated, append\n",
    "        if abs(ds.time - ds_matching.time) < np.timedelta64(PRMS['dt'], 'm'):\n",
    "            list_of_collocated_sct_pths.append(matching_path)\n",
    "            list_of_collocated_sar_fles.append(ds.file_tcva.item())\n",
    "        # Close\n",
    "        ds_matching.close()\n",
    "    # Close\n",
    "    ds.close()\n",
    "    ### Open models\n",
    "    # dsp        = xr.open_dataset(PTHS['sar_dir'] + ds.file_tcva.item()).isel(time=0)\n",
    "    # dsk_prm    = xr.open_dataset(PTHS['K01_PRM_dir'] + ds.file_tcva.item()[:-17] + '.nc').sel(z=10, theta=slice(0, 359))\n",
    "    # dsk_fit    = xr.open_dataset(PTHS['K01_FIT_dir'] + ds.file_tcva.item()[:-17] + '.nc').sel(z=10).interp(theta=np.array(dsp.theta))\n",
    "\n",
    "print(len(list_of_collocated_sct_pths))"
   ]
  },
  {
   "cell_type": "code",
   "execution_count": 5,
   "metadata": {},
   "outputs": [
    {
     "name": "stdout",
     "output_type": "stream",
     "text": [
      "La liste contient des doublons.\n"
     ]
    }
   ],
   "source": [
    "# Check for duplicates\n",
    "has_duplicates = len(list_of_collocated_sar_fles) != len(set(list_of_collocated_sar_fles))\n",
    "if has_duplicates:\n",
    "    print(\"La liste contient des doublons.\")\n",
    "else:\n",
    "    print(\"La liste ne contient pas de doublons.\")"
   ]
  },
  {
   "cell_type": "markdown",
   "metadata": {},
   "source": [
    "### 2) Model functions"
   ]
  },
  {
   "cell_type": "code",
   "execution_count": 6,
   "metadata": {},
   "outputs": [],
   "source": [
    "#########################\n",
    "### General functions ###\n",
    "#########################\n",
    "def coriolis(lat):\n",
    "    '''Latitude must be in degrees.'''\n",
    "    Omega = 7.2921e-5                             # Earth rotation vector\n",
    "    fcor  = 2 * Omega * np.sin(lat * np.pi / 180) # Coriolis parameter assuming it's constant \n",
    "    return fcor\n",
    "\n",
    "def holland_profile(r, lat, B, Vmin, Rmax, Vmax):\n",
    "    '''We assume that rho is constant and equals 1.15 kg.m-3'''\n",
    "    fcor   = abs(coriolis(lat))\n",
    "    rho    = 1.15\n",
    "    r      = r.astype(float) + 0.001           # To avoid dividing by zero\n",
    "    r_star = (Rmax / r) ** B\n",
    "    V      = r * 0.\n",
    "    V      = Vmin + np.sqrt( ((Vmax - Vmin) ** 2) * r_star * np.exp(1 - r_star) + (r * fcor / 2) ** 2) - (r * fcor / 2)\n",
    "    return V\n",
    "\n",
    "def pol2cart(rho, phi):\n",
    "    x = rho * np.cos(phi)\n",
    "    y = rho * np.sin(phi)\n",
    "    return(x, y)\n",
    "\n",
    "#########################\n",
    "### KEPERT 2001 MODEL ###\n",
    "#########################\n",
    "# Inertial stability\n",
    "def I(Rs, Vs, fcor):\n",
    "    dr   = np.diff(Rs[0, 0, :])[0] # meters\n",
    "    ksi  = 2 * Vs / Rs + fcor\n",
    "    zeta = np.gradient(Vs, dr, axis=2) + Vs / Rs + fcor\n",
    "    return np.sqrt(ksi * zeta)\n",
    "\n",
    "# Coefficients\n",
    "def sqrt_alpha_beta(Rs, Vs, fcor):\n",
    "    '''Corresponds to sqrt(alpha / beta).'''\n",
    "    dr   = np.diff(Rs[0, 0, :])[0] # meters\n",
    "    ksi  = 2 * Vs / Rs + fcor\n",
    "    zeta = np.gradient(Vs, dr, axis=2) + Vs / Rs + fcor\n",
    "    return np.sqrt(ksi / zeta)\n",
    "\n",
    "def eta(Rs, Vs, K, C, fcor):\n",
    "    return C * Vs * np.sqrt(2 / (K * ((Vs / Rs) + I(Rs, Vs, fcor))))\n",
    "\n",
    "def ki(Rs, Vs, K, C, fcor):\n",
    "    return C * Vs * np.sqrt(2 / (K * I(Rs, Vs, fcor)))\n",
    "\n",
    "def psi(Rs, Vs, K, C, fcor):\n",
    "    return C * Vs * np.sqrt(2 / abs(K * ((Vs / Rs) - I(Rs, Vs, fcor))))\n",
    "\n",
    "# Amplitudes\n",
    "def A0(Rs, Vs, K, C, fcor):\n",
    "    num = -ki(Rs, Vs, K, C, fcor) * Vs * [1 + 1j * (1 + ki(Rs, Vs, K, C, fcor))]\n",
    "    den = 2 * ki(Rs, Vs, K, C, fcor) ** 2 + 3 * ki(Rs, Vs, K, C, fcor) + 2\n",
    "    return num / den\n",
    "\n",
    "def A1(Rs, Vs, Ut, K, C, fcor):\n",
    "    num = -eta(Rs, Vs, K, C, fcor) * Ut * [1 - 2 * sqrt_alpha_beta(Rs, Vs, fcor) + (1 + 1j) * (1 - sqrt_alpha_beta(Rs, Vs, fcor)) * psi(Rs, Vs, K, C, fcor)]\n",
    "    den = sqrt_alpha_beta(Rs, Vs, fcor) * [(2 + 2j) * (1 + eta(Rs, Vs, K, C, fcor) * psi(Rs, Vs, K, C, fcor)) + 3 * eta(Rs, Vs, K, C, fcor) + 3j * psi(Rs, Vs, K, C, fcor)]\n",
    "    return num / den\n",
    "\n",
    "def A_1(Rs, Vs, Ut, K, C, fcor):\n",
    "    num = -psi(Rs, Vs, K, C, fcor) * Ut * [1 + 2 * sqrt_alpha_beta(Rs, Vs, fcor) + (1 + 1j) * (1 + sqrt_alpha_beta(Rs, Vs, fcor)) * eta(Rs, Vs, K, C, fcor)]\n",
    "    den = sqrt_alpha_beta(Rs, Vs, fcor) * [(2 + 2j) * (1 + eta(Rs, Vs, K, C, fcor) * psi(Rs, Vs, K, C, fcor)) + 3 * psi(Rs, Vs, K, C, fcor) + 3j * eta(Rs, Vs, K, C, fcor)]\n",
    "    return num / den\n",
    "\n",
    "def A1_prime(Rs, Vs, Ut, K, C, fcor):\n",
    "    num = -eta(Rs, Vs, K, C, fcor) * Ut * [1 - 2 * sqrt_alpha_beta(Rs, Vs, fcor) + (1 - 1j) * (1 - sqrt_alpha_beta(Rs, Vs, fcor)) * psi(Rs, Vs, K, C, fcor)]\n",
    "    den = sqrt_alpha_beta(Rs, Vs, fcor) * [2 + 2j + 3 * (eta(Rs, Vs, K, C, fcor) + psi(Rs, Vs, K, C, fcor)) + (2 - 2j) * eta(Rs, Vs, K, C, fcor) * psi(Rs, Vs, K, C, fcor)]\n",
    "    return num / den\n",
    "\n",
    "def A_1_prime(Rs, Vs, Ut, K, C, fcor):\n",
    "    num = -psi(Rs, Vs, K, C, fcor) * Ut * [1 + 2 * sqrt_alpha_beta(Rs, Vs, fcor) + (1 + 1j) * (1 + sqrt_alpha_beta(Rs, Vs, fcor)) * eta(Rs, Vs, K, C, fcor)]\n",
    "    den = sqrt_alpha_beta(Rs, Vs, fcor) * [2 - 2j + 3 * (eta(Rs, Vs, K, C, fcor) + psi(Rs, Vs, K, C, fcor)) + (2 + 2j) * eta(Rs, Vs, K, C, fcor) * psi(Rs, Vs, K, C, fcor)]\n",
    "    return num / den\n",
    "\n",
    "# Thicknesses\n",
    "def delta0(Rs, Vs, K, fcor):\n",
    "    return np.sqrt(2 * K / abs(I(Rs, Vs, fcor)))\n",
    "\n",
    "def delta1(Rs, Vs, K, fcor):\n",
    "    return np.sqrt(2 * K / abs(I(Rs, Vs, fcor) + Vs / Rs))\n",
    "\n",
    "def delta_1(Rs, Vs, K, fcor):\n",
    "    return np.sqrt(2 * K / abs(I(Rs, Vs, fcor) - Vs / Rs))\n",
    "\n",
    "# Radial and tangential wind components\n",
    "def u0(Rs, Vs, K, C, fcor, zi, z_ref):\n",
    "    u0 = sqrt_alpha_beta(Rs, Vs, fcor) * np.real(A0(Rs, Vs, K, C, fcor) * np.exp(- (1 + 1j) * (zi - z_ref) / delta0(Rs, Vs, K, fcor)))\n",
    "    return np.reshape(u0,  np.shape(u0)[1:])\n",
    "\n",
    "def v0(Rs, Vs, K, C, fcor, zi, z_ref):\n",
    "    v0 = np.imag(A0(Rs, Vs, K, C, fcor) * np.exp(- (1 + 1j) * (zi - z_ref) / delta0(Rs, Vs, K, fcor)))\n",
    "    return np.reshape(v0,  np.shape(v0)[1:])\n",
    "\n",
    "def u1(THs, Rs, Vs, Ut, K, C, fcor, zi, z_ref, h):\n",
    "    u1        = Vs * 0\n",
    "    msk       = I(Rs, Vs, fcor) >= Vs / Rs\n",
    "    if_msked  = sqrt_alpha_beta(Rs, Vs, fcor) * np.real(A1(Rs, Vs, Ut, K, C, fcor)       * np.exp(- (1 + 1j) * (zi - z_ref) / delta1(Rs, Vs, K, fcor) + 1j * h * THs))\n",
    "    otherwise = sqrt_alpha_beta(Rs, Vs, fcor) * np.real(A1_prime(Rs, Vs, Ut, K, C, fcor) * np.exp(- (1 + 1j) * (zi - z_ref) / delta1(Rs, Vs, K, fcor) + 1j * h * THs))\n",
    "    u1[msk]   = np.reshape(if_msked,  np.shape(if_msked)[1:])[msk]\n",
    "    u1[~msk]  = np.reshape(otherwise, np.shape(if_msked)[1:])[~msk]\n",
    "    return u1\n",
    "\n",
    "def v1(THs, Rs, Vs, Ut, K, C, fcor, zi, z_ref, h):\n",
    "    v1        = Vs * 0\n",
    "    msk       = I(Rs, Vs, fcor) >= Vs / Rs\n",
    "    if_msked  = np.imag(A1(Rs, Vs, Ut, K, C, fcor)       * np.exp(- (1 + 1j) * (zi - z_ref) / delta1(Rs, Vs, K, fcor) + 1j * h * THs))\n",
    "    otherwise = np.imag(A1_prime(Rs, Vs, Ut, K, C, fcor) * np.exp(- (1 + 1j) * (zi - z_ref) / delta1(Rs, Vs, K, fcor) + 1j * h * THs))\n",
    "    v1[msk]   = np.reshape(if_msked,  np.shape(if_msked)[1:])[msk]\n",
    "    v1[~msk]  = np.reshape(otherwise, np.shape(if_msked)[1:])[~msk]\n",
    "    return v1\n",
    "\n",
    "def u_1(THs, Rs, Vs, Ut, K, C, fcor, zi, z_ref, h):\n",
    "    u1        = Vs * 0\n",
    "    msk       = I(Rs, Vs, fcor) >= Vs / Rs\n",
    "    if_msked  = sqrt_alpha_beta(Rs, Vs, fcor) * np.real(A_1(Rs, Vs, Ut, K, C, fcor)       * np.exp(- (1 + 1j) * (zi - z_ref) / delta_1(Rs, Vs, K, fcor) - 1j * h * THs))\n",
    "    otherwise = sqrt_alpha_beta(Rs, Vs, fcor) * np.real(A_1_prime(Rs, Vs, Ut, K, C, fcor) * np.exp(- (1 - 1j) * (zi - z_ref) / delta_1(Rs, Vs, K, fcor) - 1j * h * THs))\n",
    "    u1[msk]   = np.reshape(if_msked,  np.shape(if_msked)[1:])[msk]\n",
    "    u1[~msk]  = np.reshape(otherwise, np.shape(if_msked)[1:])[~msk]\n",
    "    return u1\n",
    "\n",
    "def v_1(THs, Rs, Vs, Ut, K, C, fcor, zi, z_ref, h):\n",
    "    v1        = Vs * 0\n",
    "    msk       = I(Rs, Vs, fcor) >= Vs / Rs\n",
    "    if_msked  = np.imag(A_1(Rs, Vs, Ut, K, C, fcor)       * np.exp(- (1 + 1j) * (zi - z_ref) / delta_1(Rs, Vs, K, fcor) - 1j * h * THs))\n",
    "    otherwise = np.imag(A_1_prime(Rs, Vs, Ut, K, C, fcor) * np.exp(- (1 - 1j) * (zi - z_ref) / delta_1(Rs, Vs, K, fcor) - 1j * h * THs))\n",
    "    v1[msk]   = np.reshape(if_msked,  np.shape(if_msked)[1:])[msk]\n",
    "    v1[~msk]  = np.reshape(otherwise, np.shape(if_msked)[1:])[~msk]\n",
    "    return v1\n",
    "\n",
    "# TOTAL WIND COMPONENTS IN THE BL\n",
    "def u_BL(THs, Rs, Vs, Ut, K, C, fcor, zi, z_ref, h):\n",
    "    return u_1(THs, Rs, Vs, Ut, K, C, fcor, zi, z_ref, h) + u0(Rs, Vs, K, C, fcor, zi, z_ref) + u1(THs, Rs, Vs, Ut, K, C, fcor, zi, z_ref, h)\n",
    "\n",
    "def v_BL(THs, Rs, Vs, Ut, K, C, fcor, zi, z_ref, h):\n",
    "    return Vs + v_1(THs, Rs, Vs, Ut, K, C, fcor, zi, z_ref, h) + v0(Rs, Vs, K, C, fcor, zi, z_ref) + v1(THs, Rs, Vs, Ut, K, C, fcor, zi, z_ref, h)\n",
    "\n",
    "# FINAL MODEL\n",
    "def kepert2001(THs, Rs, Vs, Ut, K, C, fcor, zi, z_ref, h):\n",
    "    # Returns Kepert wind speeds\n",
    "    u_K01   = u_BL(THs, Rs, Vs, Ut, K, C, fcor, zi, z_ref, h)\n",
    "    v_K01   = h * v_BL(THs, Rs, Vs, Ut, K, C, fcor, zi, z_ref, h)  \n",
    "\n",
    "    # Adds the translation speed\n",
    "    Utu     = Ut * np.cos(THs) # Radial component of Ut\n",
    "    Utv     = - Ut * np.sin(THs) # Tangential component of Ut\n",
    "    # Utu = Utv = 0\n",
    "    \n",
    "    return u_K01 + Utu, v_K01 + Utv\n",
    "\n",
    "#########################\n",
    "### CREATE STRUCTURES ###\n",
    "#########################\n",
    "def get_xrDataset_polar(zs, ths, rs, u_K01, v_K01):\n",
    "    kep_pol = xr.Dataset(\n",
    "        data_vars={\n",
    "            'wind_speed': (('z', 'theta', 'rad'), np.sqrt(np.array(v_K01) ** 2 + np.array(u_K01) ** 2)),\n",
    "            'rad_wind':   (('z', 'theta', 'rad'), np.array(u_K01)),\n",
    "            'tan_wind':   (('z', 'theta', 'rad'), np.array(v_K01)),\n",
    "        },\n",
    "        coords={\n",
    "            'z': zs,\n",
    "            'theta': np.rad2deg(ths),\n",
    "            'rad': rs,\n",
    "        }\n",
    "    )\n",
    "    kep_pol['inflow_angle'] = np.rad2deg(np.arctan((kep_pol.rad_wind / kep_pol.tan_wind))) # Inflow Angle Polar\n",
    "    return kep_pol\n",
    "\n",
    "def get_xrDataset_cartesian(Xs, Ys, x_ref, y_ref, dim_ref, kep_pol):\n",
    "    KEP_CARS = []\n",
    "    for z in tqdm(zs): # Takes ~20 seconds\n",
    "        kep_car = xr.Dataset(\n",
    "            data_vars={\n",
    "                'wind_speed':   (('x', 'y'), griddata((Xs[0, :, :].flatten(), Ys[0, :, :].flatten()), np.array(kep_pol.sel(z=z).wind_speed).flatten(),   (x_ref, y_ref), method='nearest')),\n",
    "                'rad_wind':     (('x', 'y'), griddata((Xs[0, :, :].flatten(), Ys[0, :, :].flatten()), np.array(kep_pol.sel(z=z).rad_wind).flatten(),     (x_ref, y_ref), method='nearest')),\n",
    "                'tan_wind':     (('x', 'y'), griddata((Xs[0, :, :].flatten(), Ys[0, :, :].flatten()), np.array(kep_pol.sel(z=z).tan_wind).flatten(),     (x_ref, y_ref), method='nearest')),\n",
    "                'inflow_angle': (('x', 'y'), griddata((Xs[0, :, :].flatten(), Ys[0, :, :].flatten()), np.array(kep_pol.sel(z=z).inflow_angle).flatten(), (x_ref, y_ref), method='nearest')),\n",
    "            },\n",
    "            coords={\n",
    "                'x': dim_ref,\n",
    "                'y': dim_ref,\n",
    "            }\n",
    "        )\n",
    "        KEP_CARS.append(kep_car)\n",
    "    kep_car = xr.concat(KEP_CARS, 'z').assign_coords({'z': zs})\n",
    "    return kep_car\n",
    "\n",
    "### Get vertical velocity estimates\n",
    "# For the expression see e.g Ueno and Kunii 2009\n",
    "def get_w(kep_pol, kep_car, zs):\n",
    "    # Compute vertical velocity by integrating continuity equation\n",
    "    dru_dr = (kep_pol.rad * kep_pol.rad_wind).differentiate('rad') # d(ru)/dr\n",
    "    dv_dth = kep_pol.tan_wind.differentiate('theta') / (2 * np.pi / 360) # dv/dtheta, dtheta converted in radians here\n",
    "    # dv_dth = kep_pol.tan_wind.differentiate('theta')               # dv/dtheta\n",
    "    WS_POL = []\n",
    "    WS_CAR = []\n",
    "    for z in tqdm(zs):\n",
    "        integral = (dru_dr + dv_dth).sel(z=slice(None, z)).integrate('z')\n",
    "        w_pol    = - (1 / integral.rad) * integral\n",
    "        WS_POL.append(w_pol)\n",
    "        w_car = griddata((Xs[0, :, :].flatten(), Ys[0, :, :].flatten()), np.array(w_pol.transpose()).flatten(), (x_ref, y_ref), method='nearest')\n",
    "        WS_CAR.append(xr.DataArray(w_car, coords={'x': dim_ref,'y': dim_ref}))\n",
    "    kep_pol['w'] = xr.concat(WS_POL, dim='z')\n",
    "    kep_car['w'] = xr.concat(WS_CAR, dim='z')\n",
    "    return kep_pol, kep_car\n",
    "\n",
    "#########################\n",
    "###   MODEL FITTING   ###\n",
    "#########################\n",
    "def wind_reduction_factor(Rs, Vs, K, C, fcor):\n",
    "    '''wrf = surface azim. wind / gradient azim. wind'''\n",
    "    ki_cst  = ki(Rs, Vs, K, C, fcor)\n",
    "    num     = ki_cst ** 2 + 2 * ki_cst + 2\n",
    "    den     = 2 * ki_cst ** 2 + 3 * ki_cst + 2\n",
    "    return num / den\n",
    "\n",
    "def wn1(thetas, a, phi, c):\n",
    "    return a * np.cos(thetas + phi) + c\n",
    "\n",
    "def get_wn1(thetas, wind_speed, initial_condition=15, upper_bound=80):\n",
    "    '''\n",
    "    initial_condition: initial conidition for the amplitude and the constant c (just put Vplus)\n",
    "    upper_bound: upper bound for the the amplitude and the constant c (just put Vmax)\n",
    "    '''\n",
    "    # Fitting process\n",
    "    popt, pcov = curve_fit(\n",
    "        f=wn1,\n",
    "        xdata=thetas,\n",
    "        ydata=wind_speed,\n",
    "        p0=[initial_condition, np.pi / 2, initial_condition],\n",
    "        bounds=([1., -2 * np.pi, 0.1], [upper_bound, 2 * np.pi, upper_bound]) # ([lower bounds], [upper bounds])\n",
    "    )\n",
    "    a, phi, c = popt[0], popt[1], popt[2]\n",
    "    return a, phi, c\n",
    "\n",
    "def rmse(predictions, targets):\n",
    "    return np.sqrt(((predictions - targets) ** 2).mean())\n",
    "\n",
    "#########################\n",
    "###       PLOT        ###\n",
    "#########################\n",
    "def truncate_colormap(cmap, minval=0.0, maxval=1.0, n=100):\n",
    "    new_cmap = mpl.colors.LinearSegmentedColormap.from_list(\n",
    "        'trunc({n},{a:.2f},{b:.2f})'.format(n=cmap.name, a=minval, b=maxval),\n",
    "        cmap(np.linspace(minval, maxval, n)))\n",
    "    return new_cmap\n",
    "\n",
    "def getColorMap(rgbFile=\"medspiration.rgb\"):\n",
    "    '''\n",
    "    Load a RGB palette provided in ascii file\n",
    "    '''\n",
    "    colors = []\n",
    "    nbCol  =0\n",
    "    for line in open( rgbFile ):\n",
    "        r,g,b = [int(c) for c in line.split()]\n",
    "        colors.append( [r/255.,g/255.,b/255.] )\n",
    "        nbCol += 1\n",
    "    return(mpl.colors.ListedColormap(colors, name=\"custom\", N=nbCol))\n",
    "\n",
    "palette      = '/home/arthur/scripts/tools/high_wind_speed.pal'\n",
    "cwnd         = getColorMap(rgbFile=palette)\n",
    "normalizer   = Normalize(0, 80)"
   ]
  },
  {
   "cell_type": "code",
   "execution_count": 7,
   "metadata": {},
   "outputs": [],
   "source": [
    "### FUNCTIONS TO COMPUTE ASYMMETRY AMPLITUDE\n",
    "### FITS HOLLAND AT EACH RADIUS\n",
    "\n",
    "def initialize_radius(spdm):\n",
    "    '''Given the spdm, returns the largest radius (and asociated spdm) on which the profile can be fitted. \n",
    "    Indeed, sometimes the spdm isn't defined from r = 0 to r = 500, in this case the largest domain is taken instead.'''\n",
    "    # Initialize first and last indexes\n",
    "    first_valid_index = 0\n",
    "    last_valid_index  = len(spdm)\n",
    "    r                 = np.arange(last_valid_index) # to avoid having both r = 0 and n < 0 during fitting process\n",
    "    \n",
    "    ### Lower bound\n",
    "    # We change it if spdm[0] = nan\n",
    "    if np.isnan(spdm[0]):\n",
    "        first_valid_index = np.min(np.where(np.isfinite(spdm)))\n",
    "        \n",
    "    ### Upper bound\n",
    "    # We change it if there is a nan somewhere\n",
    "    if np.isnan(np.min(spdm[first_valid_index:])):\n",
    "        last_valid_index  = np.min(np.where(np.isnan(spdm[first_valid_index:]))[0]) # returns the index of the last valid value before the first nan\n",
    "        last_valid_index += first_valid_index - 1\n",
    "        \n",
    "    # Define r and spdm\n",
    "    r    = r[first_valid_index:last_valid_index] * 1000\n",
    "    spdm = spdm[first_valid_index:last_valid_index]\n",
    "    \n",
    "    return r, spdm\n",
    "\n",
    "# Test - Compute asymmetry by computing an average Holland per theta slice to smooth all the noise\n",
    "BDS_HOL = {\n",
    "    'B':      [0.01, 3.],\n",
    "    'Vmin':   [0, 50],\n",
    "    'Rmax':   [5 * 1000, 500 * 1000],\n",
    "    'Vmax':   [10, 100],   \n",
    "}\n",
    "\n",
    "# Define the steps\n",
    "# TODO: I could refine how I choose these steps to make them more continuous\n",
    "# th_steps = np.linspace(0, 340, 341)\n",
    "th_steps = np.linspace(0, 360, 19)[:-1] # Slice of 20 degrees\n",
    "th_delta = 20 # degrees"
   ]
  },
  {
   "cell_type": "code",
   "execution_count": 8,
   "metadata": {},
   "outputs": [],
   "source": [
    "def get_rmse_wrt_sar_and_sct_fixedK(optim_params, K, THs_sar, Rs_sar, Zs_sar, ths, rs, zs_sar, Vs_sar, Ut, fcr, z_ref, h, dsp_sar, dsp_sct):\n",
    "    # Extraire les paramètres à optimiser\n",
    "    C = optim_params\n",
    "\n",
    "    # Wind at gradient level\n",
    "    wrf        = wind_reduction_factor(Rs_sar, Vs_sar, K, C, fcr) # azimuthal wind\n",
    "    Vs_try_sar = Vs_sar / wrf\n",
    "\n",
    "    # Get K01\n",
    "    u_K01, v_K01 = kepert2001(THs_sar, Rs_sar, Vs_try_sar, Ut, K, C, fcr, Zs_sar, z_ref, h)\n",
    "\n",
    "    # Get polar dataset\n",
    "    kep_pol      = get_xrDataset_polar(zs_sar, ths, rs, u_K01, v_K01)\n",
    "\n",
    "    # RMSE\n",
    "    rmse_sar = float(rmse(kep_pol.interp(coords={'rad': np.array(dsp_sar.wind_speed.transpose().rad)}).sel(theta=slice(0, 359)).wind_speed,     dsp_sar.wind_speed.transpose()))\n",
    "    rmse_sct = rmse(kep_pol.interp(coords={'rad': np.array(dsp_sct.wind_speed.rad), 'theta': np.array(dsp_sct.wind_speed.theta)}).inflow_angle, dsp_sct.inflow_angle)\n",
    "\n",
    "    # Divide inflow angle RMSE by 3, since the largest possible error is 180°, while the largest possible wind speed error is of the order 60 m/s\n",
    "    return rmse_sar + rmse_sct / 3 "
   ]
  },
  {
   "cell_type": "code",
   "execution_count": 9,
   "metadata": {},
   "outputs": [],
   "source": [
    "# rmse_sar = float(rmse(kep_pol.interp(coords={'rad': np.array(dsp.wind_speed.transpose().rad)}).sel(theta=slice(0, 359)).wind_speed,     dsp.wind_speed.transpose()))\n",
    "# rmse_sct = rmse(kep_pol.interp(coords={'rad': np.array(ds_sct.wind_speed.rad), 'theta': np.array(ds_sct.wind_speed.theta)}).inflow_angle, ds_sct.inflow_angle)"
   ]
  },
  {
   "cell_type": "code",
   "execution_count": null,
   "metadata": {},
   "outputs": [],
   "source": []
  },
  {
   "cell_type": "markdown",
   "metadata": {},
   "source": [
    "### 3) Fit to all"
   ]
  },
  {
   "cell_type": "code",
   "execution_count": 10,
   "metadata": {},
   "outputs": [],
   "source": [
    "#########################\n",
    "###  HYPERPARAMETERS  ###\n",
    "#########################\n",
    "### Reference grids\n",
    "# Low-resolution grids - To speed up fitting\n",
    "rs            = np.linspace(1000, 5e5, 500)\n",
    "ths           = np.linspace(0, 2 * np.pi, 181)                           # in radians\n",
    "zs            = np.array([10])\n",
    "Rs, THs       = np.meshgrid(rs, ths)                                     # shape (361, 5000)\n",
    "\n",
    "# Vectorize on dim z\n",
    "THs           = np.repeat(np.expand_dims(THs, axis=0), len(zs),  axis=0) # shape e.g (len(zs), 361, 5000)\n",
    "Rs            = np.repeat(np.expand_dims(Rs,  axis=0), len(zs),  axis=0) # shape e.g (len(zs), 361, 5000)\n",
    "Zs            = np.repeat(np.expand_dims(zs,  axis=1), len(ths), axis=1) # shape e.g (len(zs), 361, 5000)\n",
    "Zs            = np.repeat(np.expand_dims(Zs,  axis=2), len(rs),  axis=2) # shape e.g (len(zs), 361, 5000)\n",
    "\n",
    "# To create cartesian dataset\n",
    "Xs, Ys        = pol2cart(Rs, THs)                                        # to create cartesian dataset\n",
    "dim_ref       = np.linspace(-500, 500, int((500 // 1 * 2) + 1)) * 1000   # to create cartesian dataset\n",
    "x_ref, y_ref  = np.meshgrid(dim_ref, dim_ref)                            # to create cartesian dataset\n",
    "\n",
    "# To compute asymmetries\n",
    "xs            = np.linspace(1000, 250000, 250)\n",
    "\n",
    "# Ref. height\n",
    "z_ref         = 10\n",
    "\n",
    "# Fitting values\n",
    "fixed_K       = 50\n",
    "initial_guess = [1.5e-3] \n",
    "bounds        = [(1e-4, 1e-1)] # (min, max) pour chaque paramètre; Use the same boundaries for all!!!"
   ]
  },
  {
   "cell_type": "code",
   "execution_count": 11,
   "metadata": {},
   "outputs": [
    {
     "data": {
      "application/vnd.jupyter.widget-view+json": {
       "model_id": "b26a6a0ae4134832a7f895fc366d4ab8",
       "version_major": 2,
       "version_minor": 0
      },
      "text/plain": [
       "0it [00:00, ?it/s]"
      ]
     },
     "metadata": {},
     "output_type": "display_data"
    },
    {
     "name": "stdout",
     "output_type": "stream",
     "text": [
      "Optimisation failed for t = 116\n",
      "ABNORMAL_TERMINATION_IN_LNSRCH\n"
     ]
    },
    {
     "name": "stderr",
     "output_type": "stream",
     "text": [
      "/tmp/ipykernel_22946/1023552982.py:156: RuntimeWarning: More than 20 figures have been opened. Figures created through the pyplot interface (`matplotlib.pyplot.figure`) are retained until explicitly closed and may consume too much memory. (To control this warning, see the rcParam `figure.max_open_warning`). Consider using `matplotlib.pyplot.close()`.\n",
      "  fig          = plt.figure(figsize=(20, 20))\n",
      "/tmp/ipykernel_22946/1023552982.py:144: RuntimeWarning: All-NaN slice encountered\n",
      "  ds['max_asym_sar']  = np.nanmax(np.array(ACN)[xs >= rmx])\n",
      "/tmp/ipykernel_22946/1023552982.py:150: RuntimeWarning: Mean of empty slice\n",
      "  ds['phase_avg_err'] = np.nanmean(np.minimum(abs(a_sar - a_K01), 360 - abs(a_sar - a_K01)))\n"
     ]
    },
    {
     "name": "stdout",
     "output_type": "stream",
     "text": [
      "Optimisation failed for t = 116\n",
      "ABNORMAL_TERMINATION_IN_LNSRCH\n",
      "Optimisation failed for t = 116\n",
      "ABNORMAL_TERMINATION_IN_LNSRCH\n",
      "Optimisation failed for t = 116\n",
      "ABNORMAL_TERMINATION_IN_LNSRCH\n",
      "Concatenating all datasets into ds_glob. Can take a few seconds...\n",
      "Concatenation ended.\n"
     ]
    },
    {
     "data": {
      "text/plain": [
       "<Figure size 2000x2000 with 0 Axes>"
      ]
     },
     "metadata": {},
     "output_type": "display_data"
    },
    {
     "data": {
      "text/plain": [
       "<Figure size 2000x2000 with 0 Axes>"
      ]
     },
     "metadata": {},
     "output_type": "display_data"
    },
    {
     "data": {
      "text/plain": [
       "<Figure size 2000x2000 with 0 Axes>"
      ]
     },
     "metadata": {},
     "output_type": "display_data"
    },
    {
     "data": {
      "text/plain": [
       "<Figure size 2000x2000 with 0 Axes>"
      ]
     },
     "metadata": {},
     "output_type": "display_data"
    },
    {
     "data": {
      "text/plain": [
       "<Figure size 2000x2000 with 0 Axes>"
      ]
     },
     "metadata": {},
     "output_type": "display_data"
    },
    {
     "data": {
      "text/plain": [
       "<Figure size 2000x2000 with 0 Axes>"
      ]
     },
     "metadata": {},
     "output_type": "display_data"
    },
    {
     "data": {
      "text/plain": [
       "<Figure size 2000x2000 with 0 Axes>"
      ]
     },
     "metadata": {},
     "output_type": "display_data"
    },
    {
     "data": {
      "text/plain": [
       "<Figure size 2000x2000 with 0 Axes>"
      ]
     },
     "metadata": {},
     "output_type": "display_data"
    },
    {
     "data": {
      "text/plain": [
       "<Figure size 2000x2000 with 0 Axes>"
      ]
     },
     "metadata": {},
     "output_type": "display_data"
    },
    {
     "data": {
      "text/plain": [
       "<Figure size 2000x2000 with 0 Axes>"
      ]
     },
     "metadata": {},
     "output_type": "display_data"
    },
    {
     "data": {
      "text/plain": [
       "<Figure size 2000x2000 with 0 Axes>"
      ]
     },
     "metadata": {},
     "output_type": "display_data"
    },
    {
     "data": {
      "text/plain": [
       "<Figure size 2000x2000 with 0 Axes>"
      ]
     },
     "metadata": {},
     "output_type": "display_data"
    },
    {
     "data": {
      "text/plain": [
       "<Figure size 2000x2000 with 0 Axes>"
      ]
     },
     "metadata": {},
     "output_type": "display_data"
    },
    {
     "data": {
      "text/plain": [
       "<Figure size 2000x2000 with 0 Axes>"
      ]
     },
     "metadata": {},
     "output_type": "display_data"
    },
    {
     "data": {
      "text/plain": [
       "<Figure size 2000x2000 with 0 Axes>"
      ]
     },
     "metadata": {},
     "output_type": "display_data"
    },
    {
     "data": {
      "text/plain": [
       "<Figure size 2000x2000 with 0 Axes>"
      ]
     },
     "metadata": {},
     "output_type": "display_data"
    },
    {
     "data": {
      "text/plain": [
       "<Figure size 2000x2000 with 0 Axes>"
      ]
     },
     "metadata": {},
     "output_type": "display_data"
    },
    {
     "data": {
      "text/plain": [
       "<Figure size 2000x2000 with 0 Axes>"
      ]
     },
     "metadata": {},
     "output_type": "display_data"
    },
    {
     "data": {
      "text/plain": [
       "<Figure size 2000x2000 with 0 Axes>"
      ]
     },
     "metadata": {},
     "output_type": "display_data"
    },
    {
     "data": {
      "text/plain": [
       "<Figure size 2000x2000 with 0 Axes>"
      ]
     },
     "metadata": {},
     "output_type": "display_data"
    },
    {
     "data": {
      "text/plain": [
       "<Figure size 2000x2000 with 0 Axes>"
      ]
     },
     "metadata": {},
     "output_type": "display_data"
    },
    {
     "data": {
      "text/plain": [
       "<Figure size 2000x2000 with 0 Axes>"
      ]
     },
     "metadata": {},
     "output_type": "display_data"
    },
    {
     "data": {
      "text/plain": [
       "<Figure size 2000x2000 with 0 Axes>"
      ]
     },
     "metadata": {},
     "output_type": "display_data"
    },
    {
     "data": {
      "text/plain": [
       "<Figure size 2000x2000 with 0 Axes>"
      ]
     },
     "metadata": {},
     "output_type": "display_data"
    },
    {
     "data": {
      "text/plain": [
       "<Figure size 2000x2000 with 0 Axes>"
      ]
     },
     "metadata": {},
     "output_type": "display_data"
    },
    {
     "data": {
      "text/plain": [
       "<Figure size 2000x2000 with 0 Axes>"
      ]
     },
     "metadata": {},
     "output_type": "display_data"
    },
    {
     "data": {
      "text/plain": [
       "<Figure size 2000x2000 with 0 Axes>"
      ]
     },
     "metadata": {},
     "output_type": "display_data"
    },
    {
     "data": {
      "text/plain": [
       "<Figure size 2000x2000 with 0 Axes>"
      ]
     },
     "metadata": {},
     "output_type": "display_data"
    },
    {
     "data": {
      "text/plain": [
       "<Figure size 2000x2000 with 0 Axes>"
      ]
     },
     "metadata": {},
     "output_type": "display_data"
    },
    {
     "data": {
      "text/plain": [
       "<Figure size 2000x2000 with 0 Axes>"
      ]
     },
     "metadata": {},
     "output_type": "display_data"
    },
    {
     "data": {
      "text/plain": [
       "<Figure size 2000x2000 with 0 Axes>"
      ]
     },
     "metadata": {},
     "output_type": "display_data"
    },
    {
     "data": {
      "text/plain": [
       "<Figure size 2000x2000 with 0 Axes>"
      ]
     },
     "metadata": {},
     "output_type": "display_data"
    },
    {
     "data": {
      "text/plain": [
       "<Figure size 2000x2000 with 0 Axes>"
      ]
     },
     "metadata": {},
     "output_type": "display_data"
    },
    {
     "data": {
      "text/plain": [
       "<Figure size 2000x2000 with 0 Axes>"
      ]
     },
     "metadata": {},
     "output_type": "display_data"
    },
    {
     "data": {
      "text/plain": [
       "<Figure size 2000x2000 with 0 Axes>"
      ]
     },
     "metadata": {},
     "output_type": "display_data"
    },
    {
     "data": {
      "text/plain": [
       "<Figure size 2000x2000 with 0 Axes>"
      ]
     },
     "metadata": {},
     "output_type": "display_data"
    },
    {
     "data": {
      "text/plain": [
       "<Figure size 2000x2000 with 0 Axes>"
      ]
     },
     "metadata": {},
     "output_type": "display_data"
    },
    {
     "data": {
      "text/plain": [
       "<Figure size 2000x2000 with 0 Axes>"
      ]
     },
     "metadata": {},
     "output_type": "display_data"
    },
    {
     "data": {
      "text/plain": [
       "<Figure size 2000x2000 with 0 Axes>"
      ]
     },
     "metadata": {},
     "output_type": "display_data"
    },
    {
     "data": {
      "text/plain": [
       "<Figure size 2000x2000 with 0 Axes>"
      ]
     },
     "metadata": {},
     "output_type": "display_data"
    },
    {
     "data": {
      "text/plain": [
       "<Figure size 2000x2000 with 0 Axes>"
      ]
     },
     "metadata": {},
     "output_type": "display_data"
    },
    {
     "data": {
      "text/plain": [
       "<Figure size 2000x2000 with 0 Axes>"
      ]
     },
     "metadata": {},
     "output_type": "display_data"
    },
    {
     "data": {
      "text/plain": [
       "<Figure size 2000x2000 with 0 Axes>"
      ]
     },
     "metadata": {},
     "output_type": "display_data"
    },
    {
     "data": {
      "text/plain": [
       "<Figure size 2000x2000 with 0 Axes>"
      ]
     },
     "metadata": {},
     "output_type": "display_data"
    },
    {
     "data": {
      "text/plain": [
       "<Figure size 2000x2000 with 0 Axes>"
      ]
     },
     "metadata": {},
     "output_type": "display_data"
    },
    {
     "data": {
      "text/plain": [
       "<Figure size 2000x2000 with 0 Axes>"
      ]
     },
     "metadata": {},
     "output_type": "display_data"
    },
    {
     "data": {
      "text/plain": [
       "<Figure size 2000x2000 with 0 Axes>"
      ]
     },
     "metadata": {},
     "output_type": "display_data"
    },
    {
     "data": {
      "text/plain": [
       "<Figure size 2000x2000 with 0 Axes>"
      ]
     },
     "metadata": {},
     "output_type": "display_data"
    },
    {
     "data": {
      "text/plain": [
       "<Figure size 2000x2000 with 0 Axes>"
      ]
     },
     "metadata": {},
     "output_type": "display_data"
    },
    {
     "data": {
      "text/plain": [
       "<Figure size 2000x2000 with 0 Axes>"
      ]
     },
     "metadata": {},
     "output_type": "display_data"
    },
    {
     "data": {
      "text/plain": [
       "<Figure size 2000x2000 with 0 Axes>"
      ]
     },
     "metadata": {},
     "output_type": "display_data"
    },
    {
     "data": {
      "text/plain": [
       "<Figure size 2000x2000 with 0 Axes>"
      ]
     },
     "metadata": {},
     "output_type": "display_data"
    },
    {
     "data": {
      "text/plain": [
       "<Figure size 2000x2000 with 0 Axes>"
      ]
     },
     "metadata": {},
     "output_type": "display_data"
    },
    {
     "data": {
      "text/plain": [
       "<Figure size 2000x2000 with 0 Axes>"
      ]
     },
     "metadata": {},
     "output_type": "display_data"
    },
    {
     "data": {
      "text/plain": [
       "<Figure size 2000x2000 with 0 Axes>"
      ]
     },
     "metadata": {},
     "output_type": "display_data"
    },
    {
     "data": {
      "text/plain": [
       "<Figure size 2000x2000 with 0 Axes>"
      ]
     },
     "metadata": {},
     "output_type": "display_data"
    },
    {
     "data": {
      "text/plain": [
       "<Figure size 2000x2000 with 0 Axes>"
      ]
     },
     "metadata": {},
     "output_type": "display_data"
    },
    {
     "data": {
      "text/plain": [
       "<Figure size 2000x2000 with 0 Axes>"
      ]
     },
     "metadata": {},
     "output_type": "display_data"
    },
    {
     "data": {
      "text/plain": [
       "<Figure size 2000x2000 with 0 Axes>"
      ]
     },
     "metadata": {},
     "output_type": "display_data"
    },
    {
     "data": {
      "text/plain": [
       "<Figure size 2000x2000 with 0 Axes>"
      ]
     },
     "metadata": {},
     "output_type": "display_data"
    },
    {
     "data": {
      "text/plain": [
       "<Figure size 2000x2000 with 0 Axes>"
      ]
     },
     "metadata": {},
     "output_type": "display_data"
    },
    {
     "data": {
      "text/plain": [
       "<Figure size 2000x2000 with 0 Axes>"
      ]
     },
     "metadata": {},
     "output_type": "display_data"
    },
    {
     "data": {
      "text/plain": [
       "<Figure size 2000x2000 with 0 Axes>"
      ]
     },
     "metadata": {},
     "output_type": "display_data"
    },
    {
     "data": {
      "text/plain": [
       "<Figure size 2000x2000 with 0 Axes>"
      ]
     },
     "metadata": {},
     "output_type": "display_data"
    },
    {
     "data": {
      "text/plain": [
       "<Figure size 2000x2000 with 0 Axes>"
      ]
     },
     "metadata": {},
     "output_type": "display_data"
    },
    {
     "data": {
      "text/plain": [
       "<Figure size 2000x2000 with 0 Axes>"
      ]
     },
     "metadata": {},
     "output_type": "display_data"
    },
    {
     "data": {
      "text/plain": [
       "<Figure size 2000x2000 with 0 Axes>"
      ]
     },
     "metadata": {},
     "output_type": "display_data"
    },
    {
     "data": {
      "text/plain": [
       "<Figure size 2000x2000 with 0 Axes>"
      ]
     },
     "metadata": {},
     "output_type": "display_data"
    },
    {
     "data": {
      "text/plain": [
       "<Figure size 2000x2000 with 0 Axes>"
      ]
     },
     "metadata": {},
     "output_type": "display_data"
    },
    {
     "data": {
      "text/plain": [
       "<Figure size 2000x2000 with 0 Axes>"
      ]
     },
     "metadata": {},
     "output_type": "display_data"
    },
    {
     "data": {
      "text/plain": [
       "<Figure size 2000x2000 with 0 Axes>"
      ]
     },
     "metadata": {},
     "output_type": "display_data"
    },
    {
     "data": {
      "text/plain": [
       "<Figure size 2000x2000 with 0 Axes>"
      ]
     },
     "metadata": {},
     "output_type": "display_data"
    },
    {
     "data": {
      "text/plain": [
       "<Figure size 2000x2000 with 0 Axes>"
      ]
     },
     "metadata": {},
     "output_type": "display_data"
    },
    {
     "data": {
      "text/plain": [
       "<Figure size 2000x2000 with 0 Axes>"
      ]
     },
     "metadata": {},
     "output_type": "display_data"
    },
    {
     "data": {
      "text/plain": [
       "<Figure size 2000x2000 with 0 Axes>"
      ]
     },
     "metadata": {},
     "output_type": "display_data"
    }
   ],
   "source": [
    "# Prepare new_dsg\n",
    "listOfDatasets  = []\n",
    "\n",
    "for file_tcva, file_sct in tqdm(zip(list_of_collocated_sar_fles, list_of_collocated_sct_pths)):\n",
    "    ### Open\n",
    "    ds     = dsg_filtered.where(dsg_filtered.file_tcva == file_tcva, drop=True)\n",
    "    dsp    = xr.open_dataset(PTHS['sar_dir'] + ds.file_tcva.item()).isel(time=0)\n",
    "    ds_sct = xr.open_dataset(file_sct)\n",
    "\n",
    "    # Determined parameters\n",
    "    vmx = float(ds.vmx_hol)\n",
    "    rmx = float(ds.rmx_hol)\n",
    "    vmn = float(ds.vmn_hol)\n",
    "    B   = float(ds.B_hol)\n",
    "    lat = float(ds.lat)\n",
    "    fcr = abs(float(ds.fcor))\n",
    "    Ut  = float(ds.speed)\n",
    "    \n",
    "    # Holland\n",
    "    V    = holland_profile(rs, lat, B, vmn, rmx, vmx)\n",
    "    Vs   = np.stack([V for i in range(np.shape(THs)[1])]) # Shape (361, 5000)\n",
    "    Vs   = np.repeat(np.expand_dims(Vs, axis=0), len(zs), axis=0)\n",
    "    \n",
    "    # Sign due to hemisphere\n",
    "    h    = 1 if lat > 0 else -1\n",
    "\n",
    "    ############\n",
    "    ### Fit  ###\n",
    "    ############\n",
    "    # Fitting\n",
    "    fixed_args    = (fixed_K, THs, Rs, Zs, ths, rs, zs, Vs, Ut, fcr, z_ref, h, dsp, ds_sct)\n",
    "    result        = minimize(get_rmse_wrt_sar_and_sct_fixedK, initial_guess, args=fixed_args, method='L-BFGS-B', bounds=bounds) # Takes less than 30 seconds\n",
    "    \n",
    "    # Extract result\n",
    "    if result.success:\n",
    "        C_opt = result.x\n",
    "        # print(\"Optimisation réussie !\")\n",
    "        # print(f\"K initial : {fixed_K:.0f}\")\n",
    "        # print(f\"C optimisé : {C_opt:.5f}\")\n",
    "        # print(f\"RMSE final : {result.fun:.4f}\")\n",
    "        # print(f\"C / sqrt(K) : {C_opt / np.sqrt(fixed_K):.6f}\")\n",
    "    else:\n",
    "        print('Optimisation failed for t = {}'.format(t))\n",
    "        print(result.message)\n",
    "        C_opt = np.array([np.nan])\n",
    "\n",
    "    # Assign\n",
    "    ds['C_sqrtK_K01'] = (C_opt.item() / np.sqrt(fixed_K))\n",
    "\n",
    "    if result.success:\n",
    "        #####################\n",
    "        ### Extract. sol. ###\n",
    "        #####################\n",
    "        # Wind at gradient level\n",
    "        wrf    = wind_reduction_factor(Rs, Vs, fixed_K, C_opt, fcr) # azimuthal wind\n",
    "        Vs_try = Vs / wrf\n",
    "        \n",
    "        # Get K01\n",
    "        u_K01, v_K01 = kepert2001(THs, Rs, Vs_try, Ut, fixed_K, C_opt, fcr, Zs, z_ref, h)\n",
    "        \n",
    "        # Get polar dataset\n",
    "        kep_pol      = get_xrDataset_polar(zs, ths, rs, u_K01, v_K01)\n",
    "        \n",
    "        # Compute asymmetries on Kepert wind field\n",
    "        aks         = []\n",
    "        pks         = []\n",
    "        # Iterate over all radii\n",
    "        for rad in xs: # Iterate only in the valid range to optimize time\n",
    "            try:\n",
    "                ak, phi, _  = get_wn1(np.deg2rad(kep_pol.sel(z=10).theta), kep_pol.sel(z=10).wind_speed.sel(rad=rad, method='nearest'), np.max(Vs[0, 0, :]) / 3, np.max(Vs[0, 0, :]))\n",
    "            except RuntimeError:\n",
    "                ak = phi = np.nan\n",
    "            aks.append(ak)\n",
    "            pks.append(phi)\n",
    "\n",
    "        # Non-C1 points?\n",
    "        I__V_r       = I(Rs, Vs_try, fcr)[0, :, :].mean(axis=0) - Vs_try[0, :, :].mean(axis=0) / rs\n",
    "        ds['non_C1'] = (np.count_nonzero(I__V_r[rs >= rmx] < 0) > 0)\n",
    "    \n",
    "        #################\n",
    "        ### SAR asym. ###\n",
    "        #################\n",
    "        # Initialize\n",
    "        LWS = [] # To save the Holland wind speeds\n",
    "        ERR = [] # To compute RMSE\n",
    "        ACN = [] # Amplitude of cosine\n",
    "        PHS = [] # Phase of cosine\n",
    "        VTS = [] # Nb of valid thetas\n",
    "    \n",
    "        # Fit Holland for each theta\n",
    "        for th in th_steps:\n",
    "            ds_slice          = dsp.sel(theta=slice(th, th + th_delta))\n",
    "            wsm               = ds_slice.wind_speed.mean(dim='theta', skipna=True)\n",
    "            r_crop, spdm_crop = initialize_radius(np.array(wsm))\n",
    "        \n",
    "            try:\n",
    "                # Holland\n",
    "                popt, pcov = curve_fit(\n",
    "                    lambda r, B, Vmin, Rmax, Vmax: holland_profile(r, lat, B, Vmin, Rmax, Vmax), \n",
    "                    np.array(r_crop), \n",
    "                    np.array(spdm_crop), \n",
    "                    p0=[1.8, 5, 20 * 1000, 40], \n",
    "                    bounds=(\n",
    "                        tuple([BDS_HOL[e][0] for e in BDS_HOL.keys()]), # NB: lat is fixed\n",
    "                        tuple([BDS_HOL[e][1] for e in BDS_HOL.keys()])\n",
    "                    ) \n",
    "                ) \n",
    "                B_hol, vmn_hol, rmx_hol, vmx_hol = popt\n",
    "                \n",
    "            except RuntimeError:\n",
    "                B_hol = vmn_hol = rmx_hol = vmx_hol = np.nan\n",
    "            \n",
    "            # Append\n",
    "            LWS.append(holland_profile(rs, lat, B_hol, vmn_hol, rmx_hol, vmx_hol))\n",
    "    \n",
    "        # Create dataset with Holland for each theta\n",
    "        dsh = xr.Dataset(\n",
    "            data_vars={\n",
    "                'ws':        (('th', 'rad'), LWS),\n",
    "            },\n",
    "            coords={\n",
    "                'th': th_steps,\n",
    "                'rad': rs,\n",
    "            }\n",
    "        )\n",
    "    \n",
    "        # Compute asymmetries\n",
    "        for rad in xs:\n",
    "            # Amplitude of cosine\n",
    "            if np.count_nonzero(np.isnan(dsh.sel(rad=rad, method='nearest').ws)) == 0:\n",
    "                acn, phi, c = get_wn1(np.deg2rad(dsh.sel(rad=rad, method='nearest').th), dsh.sel(rad=rad, method='nearest').ws, float(ds.vmx) / 3, float(ds.vmx))\n",
    "            else:\n",
    "                acn = phi = c = np.nan\n",
    "            ACN.append(acn)\n",
    "            PHS.append(phi)\n",
    "            # Error\n",
    "            error         = float(rmse(dsh.sel(rad=rad, method='nearest').ws, wn1(np.deg2rad(dsh.th), acn, phi, c))) \n",
    "            ERR.append(error)\n",
    "            # Valid thetas\n",
    "            VTS.append(len(dsp.sel(rad=rad, method='nearest').dropna(subset=['wind_speed'], dim='theta').theta))\n",
    "\n",
    "        ### Validation metrics\n",
    "        # Asymmetry amplitude metrics\n",
    "        ds['max_asym_sar']  = np.nanmax(np.array(ACN)[xs >= rmx])\n",
    "        ds['max_asym_K01']  = np.nanmax(np.array(aks)[xs >= rmx])\n",
    "        ds['asym_avg_err']  = rmse(np.array(aks)[xs >= rmx], np.array(ACN)[xs >= rmx])\n",
    "        # Asymmetry phase metrics\n",
    "        a_sar               = (np.rad2deg(PHS) % 360)[xs >= rmx]\n",
    "        a_K01               = (np.rad2deg(pks) % 360)[xs >= rmx]\n",
    "        ds['phase_avg_err'] = np.nanmean(np.minimum(abs(a_sar - a_K01), 360 - abs(a_sar - a_K01)))\n",
    "        # Valid scat points\n",
    "        ds['ratio_of_valid_scat_values'] = float(np.count_nonzero(~np.isnan(ds_sct.inflow_angle.mean(dim='theta', skipna=True))) / len(ds_sct.rad))\n",
    "        # Inflow angle error\n",
    "        ds['ia_avg_err']    = rmse(kep_pol.sel(z=10).inflow_angle.mean(dim='theta').interp(rad=ds_sct.rad), ds_sct.inflow_angle.mean(dim='theta', skipna=True))\n",
    "    \n",
    "        ############\n",
    "        ### Plot ###\n",
    "        ############\n",
    "        if PRMS['sav_fgs']:\n",
    "            fig          = plt.figure(figsize=(20, 20))\n",
    "            gs           = GridSpec(4, 2, hspace=0.24, wspace=0.21)\n",
    "            cmap         = plt.get_cmap('PuOr') # Spectral\n",
    "            normalizer   = Normalize(0, 80)\n",
    "            ax_lims      = 250\n",
    "            ts           = pd.to_datetime(str(ds.time.data[0])) \n",
    "            d            = ts.strftime('%Y-%m-%d, %H:%M')\n",
    "            plt.suptitle('{}, {}, {} UTC \\nTranslation speed = {:.1f} m/s'.format(ds.name.item(), ds.id.item(), d, ds.speed.item()), y=0.92)\n",
    "            \n",
    "            ### Plot SAR\n",
    "            ax           = fig.add_subplot(gs[0, 0])\n",
    "            dr, th       = np.meshgrid(dsp.rad, np.deg2rad(dsp.theta))\n",
    "            ds_x, ds_y   = pol2cart(dr, th)\n",
    "            ws_car       = griddata((ds_x.flatten(), ds_y.flatten()), np.array(dsp.wind_speed.transpose()).flatten(), (x_ref, y_ref), method='linear')\n",
    "            im           = ax.pcolormesh(x_ref / 1000, y_ref / 1000, ws_car, cmap=cwnd, norm=normalizer)\n",
    "            \n",
    "            # Axes\n",
    "            ax.set_xlim(-ax_lims, ax_lims);ax.set_ylim(-ax_lims, ax_lims)\n",
    "            ax.set_ylabel(r'Distance from TC center (km)')\n",
    "            ax.set_xlabel(r'Distance from TC center (km)')\n",
    "            # ax.set_box_aspect(1)\n",
    "            ax.minorticks_on()\n",
    "            ax.tick_params(length=7, width=1.2)\n",
    "            ax.grid()\n",
    "            \n",
    "            ax2 = ax.twinx().twiny() \n",
    "            ax2.set_xlim(-ax_lims, ax_lims);ax2.set_ylim(-ax_lims, ax_lims)\n",
    "            ax2.minorticks_on()\n",
    "            ax2.tick_params(axis='both', length=7, width=1.2)\n",
    "            ax2.set_box_aspect(1)\n",
    "            ax2.set_yticklabels([])\n",
    "            ax2.set_xticklabels([])\n",
    "            \n",
    "            # Colorbar\n",
    "            cb_ax = fig.add_axes([0.39, 0.717, 0.014, 0.163])\n",
    "            cbar  = fig.colorbar(im, cax=cb_ax)\n",
    "            cbar.set_label(r'Wind speed (m/s)', rotation=90)\n",
    "            cbar.ax.get_yaxis().labelpad=5\n",
    "            \n",
    "            ### Plot inflow angle profiles (SCAT + Kepert)\n",
    "            ax       = fig.add_subplot(gs[0, 1])\n",
    "            \n",
    "            ax.plot(ds_sct.rad / 1000, ds_sct.inflow_angle.mean(dim='theta', skipna=True), c='k', linewidth=3, label='Scatterometer')\n",
    "            ax.plot(rs / 1000,  kep_pol.sel(z=10).inflow_angle.mean(dim='theta'),          c='tab:red', label='Model')\n",
    "            # Wind radii\n",
    "            ax.axvline(ds.rmx / 1000,                      c='k',    linewidth=3,      )\n",
    "            ax.axvline(ds.rps / 1000,                      c='k',                      )\n",
    "            ax.axvline(ds.r0 / 1000,                       c='k',    linestyle='dashed')\n",
    "            # Legends\n",
    "            ax.set_xlabel(r'Distance from TC center (km)')\n",
    "            ax.set_ylabel('Inflow angle (degrees)')\n",
    "            ax.set_xlim(0, ax_lims)\n",
    "            ax.legend(frameon=False)\n",
    "            ax.grid()\n",
    "            \n",
    "            ### Plot wind field SAR\n",
    "            ax       = fig.add_subplot(gs[1, 0])\n",
    "            ax.pcolormesh(dsp.wind_speed.transpose(), cmap=cwnd, norm=normalizer)\n",
    "            ax.set_xlabel(r'Distance from TC center (km)')\n",
    "            ax.set_ylabel(r'Azimuth (deg)')\n",
    "            ax.set_xlim(0, ax_lims)\n",
    "            \n",
    "            ### Plot wind field Kepert\n",
    "            ax       = fig.add_subplot(gs[1, 1])\n",
    "            ax.pcolormesh(Rs[0, :, :] / 1000, np.rad2deg(THs[0, :, :]), kep_pol.sel(z=10).wind_speed, cmap=cwnd, norm=normalizer)\n",
    "            ax.set_xlabel(r'Distance from TC center (km)')\n",
    "            ax.set_ylabel(r'Azimuth (deg)')\n",
    "            ax.set_xlim(0, ax_lims)\n",
    "            \n",
    "            ### Plot wind profiles (SAR + Kepert)\n",
    "            ax       = fig.add_subplot(gs[2, 0])\n",
    "            ax.plot(rs / 1000,  kep_pol.sel(z=10).wind_speed.mean(dim='theta'), c='tab:red', label='Model')\n",
    "            ax.plot(rs / 1000,  Vs[0, 0, :], c='k', linewidth=3, label='SAR (Holland fit)')\n",
    "            ax.plot(dsp.rad / 1000, dsp.wind_speed.mean(dim='theta'), c='k', linestyle='dashed', label='SAR (Obs)')\n",
    "            ax.legend(frameon=False)\n",
    "            ax.set_xlabel(r'Distance from TC center (km)')\n",
    "            ax.set_ylabel(r'Wind speed (m/s)')\n",
    "            ax.set_xlim(0, ax_lims)\n",
    "            ax.grid()\n",
    "            \n",
    "            ### Plot conditional curves to highlight non-C1 points\n",
    "            ax       = fig.add_subplot(gs[2, 1])\n",
    "            ax.plot(rs / 1000, I__V_r, c='k', linewidth=3)\n",
    "            ax.axhline(0, c='gray', linewidth=3)\n",
    "            ax.set_xlabel(r'Distance from TC center (km)')\n",
    "            ax.set_ylabel(r'I - V/r (s-1)')\n",
    "            ax.set_xlim(0, ax_lims)\n",
    "            ax.set_ylim(-0.00001, 0.0002)\n",
    "            ax.grid()\n",
    "            \n",
    "            ### Plot asymmetries (SAR + Kepert)\n",
    "            ax       = fig.add_subplot(gs[3, 0])\n",
    "            \n",
    "            ax.plot(xs / 1000, ACN, c='k', linewidth=3,                 label='Amplitude of cosine to Holland fit')\n",
    "            ax.plot(xs / 1000, ERR, c='tab:purple', linestyle='dashed', label='RMSE in fitting cosine (non-avg.)')\n",
    "            # Kepert asymmetry profiles\n",
    "            ax.plot(xs / 1000, aks,                 c='tab:red',                        label='Model')\n",
    "            # Wind radii\n",
    "            ax.axvline(ds.rmx / 1000,                      c='k',    linewidth=3,        label='Rmax')\n",
    "            ax.axvline(ds.rps / 1000,                      c='k',                        label='R+')\n",
    "            ax.axvline(ds.r0 / 1000,                       c='k',    linestyle='dashed', label='R0')\n",
    "            \n",
    "            # Validity curves\n",
    "            ax.plot(xs / 1000, np.array(VTS) / 360., c='green',                          label='Percentage of valid thetas - must be close to 1')\n",
    "            # ax.plot(xs / 1000, Ut / Vs[0, idxs],      c='green',      linestyle='dashed', label='Ut / V - must remain small')\n",
    "            ax.axhline(1, c='gray', alpha=0.3)\n",
    "            \n",
    "            # Legends\n",
    "            ax.set_xlabel(r'Distance from TC center (km)')\n",
    "            ax.set_ylabel('Asym. WN1 amp. (m/s)')\n",
    "            ax.legend(loc='lower center', bbox_to_anchor=(1.06, -0.62), ncol=3, fancybox=True, shadow=True)\n",
    "            # ax.set_xlim(0, max(float(ds.r0 / 1000) + 5, 250))\n",
    "            ax.set_xlim(0, ax_lims)\n",
    "            ax.set_ylim(0, 0.2 + float(np.nanmax([max(ACN), max(ERR), np.nanmax(aks)])))\n",
    "            ax.grid()\n",
    "            \n",
    "            ### Phase of max. asymmetry\n",
    "            ax       = fig.add_subplot(gs[3, 1])\n",
    "            ax.plot(xs / 1000,  np.rad2deg(pks) % 360, c='tab:red', label='Model')\n",
    "            ax.plot(xs / 1000,  np.rad2deg(PHS) % 360, c='k', linewidth=3, label='SAR')\n",
    "            ax.axvline(ds.rmx / 1000,    c='k', linewidth=3)\n",
    "            ax.axvline(ds.rps / 1000,    c='k')\n",
    "            ax.axvline(ds.r0  / 1000,    c='k', linestyle='dashed')\n",
    "            # ax.legend(frameon=False)\n",
    "            ax.set_xlabel(r'Distance from TC center (km)')\n",
    "            ax.set_ylabel(r'Phase of max. asym. (deg)')\n",
    "            ax.set_xlim(0, ax_lims)\n",
    "            ax.grid()\n",
    "    \n",
    "            # Save\n",
    "            plt.savefig(PTHS['sav_dir'] + 'figs/{}.png'.format(ds.file_tcva.item()[:-17]), bbox_inches='tight', format='png');plt.clf()\n",
    "\n",
    "    # Concatenate\n",
    "    listOfDatasets.append(ds)                   # Append to list of xarray.Dataset\n",
    "\n",
    "    # Close\n",
    "    dsp.close()\n",
    "    ds_sct.close()\n",
    "\n",
    "    # Save cases\n",
    "    if PRMS['sav_css']:\n",
    "        kep_pol['C_sqrtK_K01']                = (C_opt.item() / np.sqrt(fixed_K))\n",
    "        kep_pol['fixed_K']                    = fixed_K\n",
    "        kep_pol['ratio_of_valid_scat_values'] = float(np.count_nonzero(~np.isnan(ds_sct.inflow_angle.mean(dim='theta', skipna=True))) / len(ds_sct.rad))\n",
    "        kep_pol.to_netcdf(PTHS['sav_dir'] + 'cases/{}.nc'.format(ds.file_tcva.item()[:-17]))\n",
    "\n",
    "# Concatenate\n",
    "print('Concatenating all datasets into ds_glob. Can take a few seconds...')\n",
    "new_dsg = xr.concat(listOfDatasets, dim='time') # Concatenate all datasets into a global dataset\n",
    "print('Concatenation ended.')"
   ]
  },
  {
   "cell_type": "code",
   "execution_count": 12,
   "metadata": {},
   "outputs": [],
   "source": [
    "### SAVE\n",
    "new_dsg['C_K01']         = new_dsg.C_sqrtK_K01 * np.sqrt(fixed_K)\n",
    "new_dsg.attrs['fixed_K'] = '{}'.format(fixed_K)\n",
    "new_dsg.to_netcdf(PTHS['sav_dir'] + 'dsg_K01wIA_withKsetto{}.nc'.format(fixed_K))"
   ]
  },
  {
   "cell_type": "code",
   "execution_count": null,
   "metadata": {},
   "outputs": [],
   "source": []
  },
  {
   "cell_type": "code",
   "execution_count": null,
   "metadata": {},
   "outputs": [],
   "source": []
  },
  {
   "cell_type": "code",
   "execution_count": null,
   "metadata": {},
   "outputs": [],
   "source": []
  },
  {
   "cell_type": "code",
   "execution_count": null,
   "metadata": {},
   "outputs": [],
   "source": []
  },
  {
   "cell_type": "code",
   "execution_count": null,
   "metadata": {},
   "outputs": [],
   "source": [
    "ds['max_asym_sar']  = np.nanmax(np.array(ACN)[xs >= rmx])\n",
    "ds['max_asym_K01']  = np.nanmax(np.array(aks)[xs >= rmx])\n",
    "ds['asym_avg_err']  = rmse(np.array(aks)[xs >= rmx], np.array(ACN)[xs >= rmx])\n",
    "# Asymmetry phase metrics\n",
    "a_sar               = (np.rad2deg(PHS) % 360)[xs >= rmx]\n",
    "a_K01               = (np.rad2deg(pks) % 360)[xs >= rmx]\n",
    "ds['phase_avg_err'] = np.nanmean(np.minimum(abs(a_sar - a_K01), 360 - abs(a_sar - a_K01)))\n",
    "# Valid scat points\n",
    "ds['ratio_of_valid_scat_values'] = float(np.count_nonzero(~np.isnan(ds_sct.inflow_angle.mean(dim='theta', skipna=True))) / len(ds_sct.rad))"
   ]
  },
  {
   "cell_type": "code",
   "execution_count": null,
   "metadata": {},
   "outputs": [],
   "source": []
  },
  {
   "cell_type": "code",
   "execution_count": null,
   "metadata": {},
   "outputs": [],
   "source": []
  },
  {
   "cell_type": "code",
   "execution_count": 18,
   "metadata": {},
   "outputs": [
    {
     "data": {
      "text/plain": [
       "\u001b[0;31mSignature:\u001b[0m \u001b[0mrmse\u001b[0m\u001b[0;34m(\u001b[0m\u001b[0mpredictions\u001b[0m\u001b[0;34m,\u001b[0m \u001b[0mtargets\u001b[0m\u001b[0;34m)\u001b[0m\u001b[0;34m\u001b[0m\u001b[0;34m\u001b[0m\u001b[0m\n",
       "\u001b[0;31mDocstring:\u001b[0m <no docstring>\n",
       "\u001b[0;31mFile:\u001b[0m      /tmp/ipykernel_22946/2321167502.py\n",
       "\u001b[0;31mType:\u001b[0m      function"
      ]
     },
     "metadata": {},
     "output_type": "display_data"
    }
   ],
   "source": [
    "rmse?"
   ]
  },
  {
   "cell_type": "code",
   "execution_count": 19,
   "metadata": {},
   "outputs": [
    {
     "data": {
      "text/html": [
       "<div><svg style=\"position: absolute; width: 0; height: 0; overflow: hidden\">\n",
       "<defs>\n",
       "<symbol id=\"icon-database\" viewBox=\"0 0 32 32\">\n",
       "<path d=\"M16 0c-8.837 0-16 2.239-16 5v4c0 2.761 7.163 5 16 5s16-2.239 16-5v-4c0-2.761-7.163-5-16-5z\"></path>\n",
       "<path d=\"M16 17c-8.837 0-16-2.239-16-5v6c0 2.761 7.163 5 16 5s16-2.239 16-5v-6c0 2.761-7.163 5-16 5z\"></path>\n",
       "<path d=\"M16 26c-8.837 0-16-2.239-16-5v6c0 2.761 7.163 5 16 5s16-2.239 16-5v-6c0 2.761-7.163 5-16 5z\"></path>\n",
       "</symbol>\n",
       "<symbol id=\"icon-file-text2\" viewBox=\"0 0 32 32\">\n",
       "<path d=\"M28.681 7.159c-0.694-0.947-1.662-2.053-2.724-3.116s-2.169-2.030-3.116-2.724c-1.612-1.182-2.393-1.319-2.841-1.319h-15.5c-1.378 0-2.5 1.121-2.5 2.5v27c0 1.378 1.122 2.5 2.5 2.5h23c1.378 0 2.5-1.122 2.5-2.5v-19.5c0-0.448-0.137-1.23-1.319-2.841zM24.543 5.457c0.959 0.959 1.712 1.825 2.268 2.543h-4.811v-4.811c0.718 0.556 1.584 1.309 2.543 2.268zM28 29.5c0 0.271-0.229 0.5-0.5 0.5h-23c-0.271 0-0.5-0.229-0.5-0.5v-27c0-0.271 0.229-0.5 0.5-0.5 0 0 15.499-0 15.5 0v7c0 0.552 0.448 1 1 1h7v19.5z\"></path>\n",
       "<path d=\"M23 26h-14c-0.552 0-1-0.448-1-1s0.448-1 1-1h14c0.552 0 1 0.448 1 1s-0.448 1-1 1z\"></path>\n",
       "<path d=\"M23 22h-14c-0.552 0-1-0.448-1-1s0.448-1 1-1h14c0.552 0 1 0.448 1 1s-0.448 1-1 1z\"></path>\n",
       "<path d=\"M23 18h-14c-0.552 0-1-0.448-1-1s0.448-1 1-1h14c0.552 0 1 0.448 1 1s-0.448 1-1 1z\"></path>\n",
       "</symbol>\n",
       "</defs>\n",
       "</svg>\n",
       "<style>/* CSS stylesheet for displaying xarray objects in jupyterlab.\n",
       " *\n",
       " */\n",
       "\n",
       ":root {\n",
       "  --xr-font-color0: var(--jp-content-font-color0, rgba(0, 0, 0, 1));\n",
       "  --xr-font-color2: var(--jp-content-font-color2, rgba(0, 0, 0, 0.54));\n",
       "  --xr-font-color3: var(--jp-content-font-color3, rgba(0, 0, 0, 0.38));\n",
       "  --xr-border-color: var(--jp-border-color2, #e0e0e0);\n",
       "  --xr-disabled-color: var(--jp-layout-color3, #bdbdbd);\n",
       "  --xr-background-color: var(--jp-layout-color0, white);\n",
       "  --xr-background-color-row-even: var(--jp-layout-color1, white);\n",
       "  --xr-background-color-row-odd: var(--jp-layout-color2, #eeeeee);\n",
       "}\n",
       "\n",
       "html[theme=\"dark\"],\n",
       "html[data-theme=\"dark\"],\n",
       "body[data-theme=\"dark\"],\n",
       "body.vscode-dark {\n",
       "  --xr-font-color0: rgba(255, 255, 255, 1);\n",
       "  --xr-font-color2: rgba(255, 255, 255, 0.54);\n",
       "  --xr-font-color3: rgba(255, 255, 255, 0.38);\n",
       "  --xr-border-color: #1f1f1f;\n",
       "  --xr-disabled-color: #515151;\n",
       "  --xr-background-color: #111111;\n",
       "  --xr-background-color-row-even: #111111;\n",
       "  --xr-background-color-row-odd: #313131;\n",
       "}\n",
       "\n",
       ".xr-wrap {\n",
       "  display: block !important;\n",
       "  min-width: 300px;\n",
       "  max-width: 700px;\n",
       "}\n",
       "\n",
       ".xr-text-repr-fallback {\n",
       "  /* fallback to plain text repr when CSS is not injected (untrusted notebook) */\n",
       "  display: none;\n",
       "}\n",
       "\n",
       ".xr-header {\n",
       "  padding-top: 6px;\n",
       "  padding-bottom: 6px;\n",
       "  margin-bottom: 4px;\n",
       "  border-bottom: solid 1px var(--xr-border-color);\n",
       "}\n",
       "\n",
       ".xr-header > div,\n",
       ".xr-header > ul {\n",
       "  display: inline;\n",
       "  margin-top: 0;\n",
       "  margin-bottom: 0;\n",
       "}\n",
       "\n",
       ".xr-obj-type,\n",
       ".xr-array-name {\n",
       "  margin-left: 2px;\n",
       "  margin-right: 10px;\n",
       "}\n",
       "\n",
       ".xr-obj-type {\n",
       "  color: var(--xr-font-color2);\n",
       "}\n",
       "\n",
       ".xr-sections {\n",
       "  padding-left: 0 !important;\n",
       "  display: grid;\n",
       "  grid-template-columns: 150px auto auto 1fr 0 20px 0 20px;\n",
       "}\n",
       "\n",
       ".xr-section-item {\n",
       "  display: contents;\n",
       "}\n",
       "\n",
       ".xr-section-item input {\n",
       "  display: inline-block;\n",
       "  opacity: 0;\n",
       "  height: 0;\n",
       "}\n",
       "\n",
       ".xr-section-item input + label {\n",
       "  color: var(--xr-disabled-color);\n",
       "}\n",
       "\n",
       ".xr-section-item input:enabled + label {\n",
       "  cursor: pointer;\n",
       "  color: var(--xr-font-color2);\n",
       "}\n",
       "\n",
       ".xr-section-item input:focus + label {\n",
       "  border: 2px solid var(--xr-font-color0);\n",
       "}\n",
       "\n",
       ".xr-section-item input:enabled + label:hover {\n",
       "  color: var(--xr-font-color0);\n",
       "}\n",
       "\n",
       ".xr-section-summary {\n",
       "  grid-column: 1;\n",
       "  color: var(--xr-font-color2);\n",
       "  font-weight: 500;\n",
       "}\n",
       "\n",
       ".xr-section-summary > span {\n",
       "  display: inline-block;\n",
       "  padding-left: 0.5em;\n",
       "}\n",
       "\n",
       ".xr-section-summary-in:disabled + label {\n",
       "  color: var(--xr-font-color2);\n",
       "}\n",
       "\n",
       ".xr-section-summary-in + label:before {\n",
       "  display: inline-block;\n",
       "  content: \"►\";\n",
       "  font-size: 11px;\n",
       "  width: 15px;\n",
       "  text-align: center;\n",
       "}\n",
       "\n",
       ".xr-section-summary-in:disabled + label:before {\n",
       "  color: var(--xr-disabled-color);\n",
       "}\n",
       "\n",
       ".xr-section-summary-in:checked + label:before {\n",
       "  content: \"▼\";\n",
       "}\n",
       "\n",
       ".xr-section-summary-in:checked + label > span {\n",
       "  display: none;\n",
       "}\n",
       "\n",
       ".xr-section-summary,\n",
       ".xr-section-inline-details {\n",
       "  padding-top: 4px;\n",
       "  padding-bottom: 4px;\n",
       "}\n",
       "\n",
       ".xr-section-inline-details {\n",
       "  grid-column: 2 / -1;\n",
       "}\n",
       "\n",
       ".xr-section-details {\n",
       "  display: none;\n",
       "  grid-column: 1 / -1;\n",
       "  margin-bottom: 5px;\n",
       "}\n",
       "\n",
       ".xr-section-summary-in:checked ~ .xr-section-details {\n",
       "  display: contents;\n",
       "}\n",
       "\n",
       ".xr-array-wrap {\n",
       "  grid-column: 1 / -1;\n",
       "  display: grid;\n",
       "  grid-template-columns: 20px auto;\n",
       "}\n",
       "\n",
       ".xr-array-wrap > label {\n",
       "  grid-column: 1;\n",
       "  vertical-align: top;\n",
       "}\n",
       "\n",
       ".xr-preview {\n",
       "  color: var(--xr-font-color3);\n",
       "}\n",
       "\n",
       ".xr-array-preview,\n",
       ".xr-array-data {\n",
       "  padding: 0 5px !important;\n",
       "  grid-column: 2;\n",
       "}\n",
       "\n",
       ".xr-array-data,\n",
       ".xr-array-in:checked ~ .xr-array-preview {\n",
       "  display: none;\n",
       "}\n",
       "\n",
       ".xr-array-in:checked ~ .xr-array-data,\n",
       ".xr-array-preview {\n",
       "  display: inline-block;\n",
       "}\n",
       "\n",
       ".xr-dim-list {\n",
       "  display: inline-block !important;\n",
       "  list-style: none;\n",
       "  padding: 0 !important;\n",
       "  margin: 0;\n",
       "}\n",
       "\n",
       ".xr-dim-list li {\n",
       "  display: inline-block;\n",
       "  padding: 0;\n",
       "  margin: 0;\n",
       "}\n",
       "\n",
       ".xr-dim-list:before {\n",
       "  content: \"(\";\n",
       "}\n",
       "\n",
       ".xr-dim-list:after {\n",
       "  content: \")\";\n",
       "}\n",
       "\n",
       ".xr-dim-list li:not(:last-child):after {\n",
       "  content: \",\";\n",
       "  padding-right: 5px;\n",
       "}\n",
       "\n",
       ".xr-has-index {\n",
       "  font-weight: bold;\n",
       "}\n",
       "\n",
       ".xr-var-list,\n",
       ".xr-var-item {\n",
       "  display: contents;\n",
       "}\n",
       "\n",
       ".xr-var-item > div,\n",
       ".xr-var-item label,\n",
       ".xr-var-item > .xr-var-name span {\n",
       "  background-color: var(--xr-background-color-row-even);\n",
       "  margin-bottom: 0;\n",
       "}\n",
       "\n",
       ".xr-var-item > .xr-var-name:hover span {\n",
       "  padding-right: 5px;\n",
       "}\n",
       "\n",
       ".xr-var-list > li:nth-child(odd) > div,\n",
       ".xr-var-list > li:nth-child(odd) > label,\n",
       ".xr-var-list > li:nth-child(odd) > .xr-var-name span {\n",
       "  background-color: var(--xr-background-color-row-odd);\n",
       "}\n",
       "\n",
       ".xr-var-name {\n",
       "  grid-column: 1;\n",
       "}\n",
       "\n",
       ".xr-var-dims {\n",
       "  grid-column: 2;\n",
       "}\n",
       "\n",
       ".xr-var-dtype {\n",
       "  grid-column: 3;\n",
       "  text-align: right;\n",
       "  color: var(--xr-font-color2);\n",
       "}\n",
       "\n",
       ".xr-var-preview {\n",
       "  grid-column: 4;\n",
       "}\n",
       "\n",
       ".xr-index-preview {\n",
       "  grid-column: 2 / 5;\n",
       "  color: var(--xr-font-color2);\n",
       "}\n",
       "\n",
       ".xr-var-name,\n",
       ".xr-var-dims,\n",
       ".xr-var-dtype,\n",
       ".xr-preview,\n",
       ".xr-attrs dt {\n",
       "  white-space: nowrap;\n",
       "  overflow: hidden;\n",
       "  text-overflow: ellipsis;\n",
       "  padding-right: 10px;\n",
       "}\n",
       "\n",
       ".xr-var-name:hover,\n",
       ".xr-var-dims:hover,\n",
       ".xr-var-dtype:hover,\n",
       ".xr-attrs dt:hover {\n",
       "  overflow: visible;\n",
       "  width: auto;\n",
       "  z-index: 1;\n",
       "}\n",
       "\n",
       ".xr-var-attrs,\n",
       ".xr-var-data,\n",
       ".xr-index-data {\n",
       "  display: none;\n",
       "  background-color: var(--xr-background-color) !important;\n",
       "  padding-bottom: 5px !important;\n",
       "}\n",
       "\n",
       ".xr-var-attrs-in:checked ~ .xr-var-attrs,\n",
       ".xr-var-data-in:checked ~ .xr-var-data,\n",
       ".xr-index-data-in:checked ~ .xr-index-data {\n",
       "  display: block;\n",
       "}\n",
       "\n",
       ".xr-var-data > table {\n",
       "  float: right;\n",
       "}\n",
       "\n",
       ".xr-var-name span,\n",
       ".xr-var-data,\n",
       ".xr-index-name div,\n",
       ".xr-index-data,\n",
       ".xr-attrs {\n",
       "  padding-left: 25px !important;\n",
       "}\n",
       "\n",
       ".xr-attrs,\n",
       ".xr-var-attrs,\n",
       ".xr-var-data,\n",
       ".xr-index-data {\n",
       "  grid-column: 1 / -1;\n",
       "}\n",
       "\n",
       "dl.xr-attrs {\n",
       "  padding: 0;\n",
       "  margin: 0;\n",
       "  display: grid;\n",
       "  grid-template-columns: 125px auto;\n",
       "}\n",
       "\n",
       ".xr-attrs dt,\n",
       ".xr-attrs dd {\n",
       "  padding: 0;\n",
       "  margin: 0;\n",
       "  float: left;\n",
       "  padding-right: 10px;\n",
       "  width: auto;\n",
       "}\n",
       "\n",
       ".xr-attrs dt {\n",
       "  font-weight: normal;\n",
       "  grid-column: 1;\n",
       "}\n",
       "\n",
       ".xr-attrs dt:hover span {\n",
       "  display: inline-block;\n",
       "  background: var(--xr-background-color);\n",
       "  padding-right: 10px;\n",
       "}\n",
       "\n",
       ".xr-attrs dd {\n",
       "  grid-column: 2;\n",
       "  white-space: pre-wrap;\n",
       "  word-break: break-all;\n",
       "}\n",
       "\n",
       ".xr-icon-database,\n",
       ".xr-icon-file-text2,\n",
       ".xr-no-icon {\n",
       "  display: inline-block;\n",
       "  vertical-align: middle;\n",
       "  width: 1em;\n",
       "  height: 1.5em !important;\n",
       "  stroke-width: 0;\n",
       "  stroke: currentColor;\n",
       "  fill: currentColor;\n",
       "}\n",
       "</style><pre class='xr-text-repr-fallback'>&lt;xarray.DataArray &#x27;inflow_angle&#x27; ()&gt; Size: 8B\n",
       "array(17.61366415)\n",
       "Coordinates:\n",
       "    z        int64 8B 10</pre><div class='xr-wrap' style='display:none'><div class='xr-header'><div class='xr-obj-type'>xarray.DataArray</div><div class='xr-array-name'>'inflow_angle'</div></div><ul class='xr-sections'><li class='xr-section-item'><div class='xr-array-wrap'><input id='section-746699f7-de80-46d4-b7ac-4cff3372d1ef' class='xr-array-in' type='checkbox' checked><label for='section-746699f7-de80-46d4-b7ac-4cff3372d1ef' title='Show/hide data repr'><svg class='icon xr-icon-database'><use xlink:href='#icon-database'></use></svg></label><div class='xr-array-preview xr-preview'><span>17.61</span></div><div class='xr-array-data'><pre>array(17.61366415)</pre></div></div></li><li class='xr-section-item'><input id='section-f58726e1-c234-4761-940e-9e1f522957eb' class='xr-section-summary-in' type='checkbox'  checked><label for='section-f58726e1-c234-4761-940e-9e1f522957eb' class='xr-section-summary' >Coordinates: <span>(1)</span></label><div class='xr-section-inline-details'></div><div class='xr-section-details'><ul class='xr-var-list'><li class='xr-var-item'><div class='xr-var-name'><span>z</span></div><div class='xr-var-dims'>()</div><div class='xr-var-dtype'>int64</div><div class='xr-var-preview xr-preview'>10</div><input id='attrs-7cff6290-24ad-40c2-9909-07d6083970ed' class='xr-var-attrs-in' type='checkbox' disabled><label for='attrs-7cff6290-24ad-40c2-9909-07d6083970ed' title='Show/Hide attributes'><svg class='icon xr-icon-file-text2'><use xlink:href='#icon-file-text2'></use></svg></label><input id='data-202db105-085d-4dfd-a6a7-23fdedf0134f' class='xr-var-data-in' type='checkbox'><label for='data-202db105-085d-4dfd-a6a7-23fdedf0134f' title='Show/Hide data repr'><svg class='icon xr-icon-database'><use xlink:href='#icon-database'></use></svg></label><div class='xr-var-attrs'><dl class='xr-attrs'></dl></div><div class='xr-var-data'><pre>array(10)</pre></div></li></ul></div></li><li class='xr-section-item'><input id='section-a2553a9d-674f-4eaa-8972-705947afded9' class='xr-section-summary-in' type='checkbox' disabled ><label for='section-a2553a9d-674f-4eaa-8972-705947afded9' class='xr-section-summary'  title='Expand/collapse section'>Indexes: <span>(0)</span></label><div class='xr-section-inline-details'></div><div class='xr-section-details'><ul class='xr-var-list'></ul></div></li><li class='xr-section-item'><input id='section-b20e1876-c8be-4023-bfb2-fe4cd37d6b6b' class='xr-section-summary-in' type='checkbox' disabled ><label for='section-b20e1876-c8be-4023-bfb2-fe4cd37d6b6b' class='xr-section-summary'  title='Expand/collapse section'>Attributes: <span>(0)</span></label><div class='xr-section-inline-details'></div><div class='xr-section-details'><dl class='xr-attrs'></dl></div></li></ul></div></div>"
      ],
      "text/plain": [
       "<xarray.DataArray 'inflow_angle' ()> Size: 8B\n",
       "array(17.61366415)\n",
       "Coordinates:\n",
       "    z        int64 8B 10"
      ]
     },
     "execution_count": 19,
     "metadata": {},
     "output_type": "execute_result"
    }
   ],
   "source": []
  },
  {
   "cell_type": "code",
   "execution_count": 15,
   "metadata": {},
   "outputs": [
    {
     "data": {
      "text/html": [
       "<div><svg style=\"position: absolute; width: 0; height: 0; overflow: hidden\">\n",
       "<defs>\n",
       "<symbol id=\"icon-database\" viewBox=\"0 0 32 32\">\n",
       "<path d=\"M16 0c-8.837 0-16 2.239-16 5v4c0 2.761 7.163 5 16 5s16-2.239 16-5v-4c0-2.761-7.163-5-16-5z\"></path>\n",
       "<path d=\"M16 17c-8.837 0-16-2.239-16-5v6c0 2.761 7.163 5 16 5s16-2.239 16-5v-6c0 2.761-7.163 5-16 5z\"></path>\n",
       "<path d=\"M16 26c-8.837 0-16-2.239-16-5v6c0 2.761 7.163 5 16 5s16-2.239 16-5v-6c0 2.761-7.163 5-16 5z\"></path>\n",
       "</symbol>\n",
       "<symbol id=\"icon-file-text2\" viewBox=\"0 0 32 32\">\n",
       "<path d=\"M28.681 7.159c-0.694-0.947-1.662-2.053-2.724-3.116s-2.169-2.030-3.116-2.724c-1.612-1.182-2.393-1.319-2.841-1.319h-15.5c-1.378 0-2.5 1.121-2.5 2.5v27c0 1.378 1.122 2.5 2.5 2.5h23c1.378 0 2.5-1.122 2.5-2.5v-19.5c0-0.448-0.137-1.23-1.319-2.841zM24.543 5.457c0.959 0.959 1.712 1.825 2.268 2.543h-4.811v-4.811c0.718 0.556 1.584 1.309 2.543 2.268zM28 29.5c0 0.271-0.229 0.5-0.5 0.5h-23c-0.271 0-0.5-0.229-0.5-0.5v-27c0-0.271 0.229-0.5 0.5-0.5 0 0 15.499-0 15.5 0v7c0 0.552 0.448 1 1 1h7v19.5z\"></path>\n",
       "<path d=\"M23 26h-14c-0.552 0-1-0.448-1-1s0.448-1 1-1h14c0.552 0 1 0.448 1 1s-0.448 1-1 1z\"></path>\n",
       "<path d=\"M23 22h-14c-0.552 0-1-0.448-1-1s0.448-1 1-1h14c0.552 0 1 0.448 1 1s-0.448 1-1 1z\"></path>\n",
       "<path d=\"M23 18h-14c-0.552 0-1-0.448-1-1s0.448-1 1-1h14c0.552 0 1 0.448 1 1s-0.448 1-1 1z\"></path>\n",
       "</symbol>\n",
       "</defs>\n",
       "</svg>\n",
       "<style>/* CSS stylesheet for displaying xarray objects in jupyterlab.\n",
       " *\n",
       " */\n",
       "\n",
       ":root {\n",
       "  --xr-font-color0: var(--jp-content-font-color0, rgba(0, 0, 0, 1));\n",
       "  --xr-font-color2: var(--jp-content-font-color2, rgba(0, 0, 0, 0.54));\n",
       "  --xr-font-color3: var(--jp-content-font-color3, rgba(0, 0, 0, 0.38));\n",
       "  --xr-border-color: var(--jp-border-color2, #e0e0e0);\n",
       "  --xr-disabled-color: var(--jp-layout-color3, #bdbdbd);\n",
       "  --xr-background-color: var(--jp-layout-color0, white);\n",
       "  --xr-background-color-row-even: var(--jp-layout-color1, white);\n",
       "  --xr-background-color-row-odd: var(--jp-layout-color2, #eeeeee);\n",
       "}\n",
       "\n",
       "html[theme=\"dark\"],\n",
       "html[data-theme=\"dark\"],\n",
       "body[data-theme=\"dark\"],\n",
       "body.vscode-dark {\n",
       "  --xr-font-color0: rgba(255, 255, 255, 1);\n",
       "  --xr-font-color2: rgba(255, 255, 255, 0.54);\n",
       "  --xr-font-color3: rgba(255, 255, 255, 0.38);\n",
       "  --xr-border-color: #1f1f1f;\n",
       "  --xr-disabled-color: #515151;\n",
       "  --xr-background-color: #111111;\n",
       "  --xr-background-color-row-even: #111111;\n",
       "  --xr-background-color-row-odd: #313131;\n",
       "}\n",
       "\n",
       ".xr-wrap {\n",
       "  display: block !important;\n",
       "  min-width: 300px;\n",
       "  max-width: 700px;\n",
       "}\n",
       "\n",
       ".xr-text-repr-fallback {\n",
       "  /* fallback to plain text repr when CSS is not injected (untrusted notebook) */\n",
       "  display: none;\n",
       "}\n",
       "\n",
       ".xr-header {\n",
       "  padding-top: 6px;\n",
       "  padding-bottom: 6px;\n",
       "  margin-bottom: 4px;\n",
       "  border-bottom: solid 1px var(--xr-border-color);\n",
       "}\n",
       "\n",
       ".xr-header > div,\n",
       ".xr-header > ul {\n",
       "  display: inline;\n",
       "  margin-top: 0;\n",
       "  margin-bottom: 0;\n",
       "}\n",
       "\n",
       ".xr-obj-type,\n",
       ".xr-array-name {\n",
       "  margin-left: 2px;\n",
       "  margin-right: 10px;\n",
       "}\n",
       "\n",
       ".xr-obj-type {\n",
       "  color: var(--xr-font-color2);\n",
       "}\n",
       "\n",
       ".xr-sections {\n",
       "  padding-left: 0 !important;\n",
       "  display: grid;\n",
       "  grid-template-columns: 150px auto auto 1fr 0 20px 0 20px;\n",
       "}\n",
       "\n",
       ".xr-section-item {\n",
       "  display: contents;\n",
       "}\n",
       "\n",
       ".xr-section-item input {\n",
       "  display: inline-block;\n",
       "  opacity: 0;\n",
       "  height: 0;\n",
       "}\n",
       "\n",
       ".xr-section-item input + label {\n",
       "  color: var(--xr-disabled-color);\n",
       "}\n",
       "\n",
       ".xr-section-item input:enabled + label {\n",
       "  cursor: pointer;\n",
       "  color: var(--xr-font-color2);\n",
       "}\n",
       "\n",
       ".xr-section-item input:focus + label {\n",
       "  border: 2px solid var(--xr-font-color0);\n",
       "}\n",
       "\n",
       ".xr-section-item input:enabled + label:hover {\n",
       "  color: var(--xr-font-color0);\n",
       "}\n",
       "\n",
       ".xr-section-summary {\n",
       "  grid-column: 1;\n",
       "  color: var(--xr-font-color2);\n",
       "  font-weight: 500;\n",
       "}\n",
       "\n",
       ".xr-section-summary > span {\n",
       "  display: inline-block;\n",
       "  padding-left: 0.5em;\n",
       "}\n",
       "\n",
       ".xr-section-summary-in:disabled + label {\n",
       "  color: var(--xr-font-color2);\n",
       "}\n",
       "\n",
       ".xr-section-summary-in + label:before {\n",
       "  display: inline-block;\n",
       "  content: \"►\";\n",
       "  font-size: 11px;\n",
       "  width: 15px;\n",
       "  text-align: center;\n",
       "}\n",
       "\n",
       ".xr-section-summary-in:disabled + label:before {\n",
       "  color: var(--xr-disabled-color);\n",
       "}\n",
       "\n",
       ".xr-section-summary-in:checked + label:before {\n",
       "  content: \"▼\";\n",
       "}\n",
       "\n",
       ".xr-section-summary-in:checked + label > span {\n",
       "  display: none;\n",
       "}\n",
       "\n",
       ".xr-section-summary,\n",
       ".xr-section-inline-details {\n",
       "  padding-top: 4px;\n",
       "  padding-bottom: 4px;\n",
       "}\n",
       "\n",
       ".xr-section-inline-details {\n",
       "  grid-column: 2 / -1;\n",
       "}\n",
       "\n",
       ".xr-section-details {\n",
       "  display: none;\n",
       "  grid-column: 1 / -1;\n",
       "  margin-bottom: 5px;\n",
       "}\n",
       "\n",
       ".xr-section-summary-in:checked ~ .xr-section-details {\n",
       "  display: contents;\n",
       "}\n",
       "\n",
       ".xr-array-wrap {\n",
       "  grid-column: 1 / -1;\n",
       "  display: grid;\n",
       "  grid-template-columns: 20px auto;\n",
       "}\n",
       "\n",
       ".xr-array-wrap > label {\n",
       "  grid-column: 1;\n",
       "  vertical-align: top;\n",
       "}\n",
       "\n",
       ".xr-preview {\n",
       "  color: var(--xr-font-color3);\n",
       "}\n",
       "\n",
       ".xr-array-preview,\n",
       ".xr-array-data {\n",
       "  padding: 0 5px !important;\n",
       "  grid-column: 2;\n",
       "}\n",
       "\n",
       ".xr-array-data,\n",
       ".xr-array-in:checked ~ .xr-array-preview {\n",
       "  display: none;\n",
       "}\n",
       "\n",
       ".xr-array-in:checked ~ .xr-array-data,\n",
       ".xr-array-preview {\n",
       "  display: inline-block;\n",
       "}\n",
       "\n",
       ".xr-dim-list {\n",
       "  display: inline-block !important;\n",
       "  list-style: none;\n",
       "  padding: 0 !important;\n",
       "  margin: 0;\n",
       "}\n",
       "\n",
       ".xr-dim-list li {\n",
       "  display: inline-block;\n",
       "  padding: 0;\n",
       "  margin: 0;\n",
       "}\n",
       "\n",
       ".xr-dim-list:before {\n",
       "  content: \"(\";\n",
       "}\n",
       "\n",
       ".xr-dim-list:after {\n",
       "  content: \")\";\n",
       "}\n",
       "\n",
       ".xr-dim-list li:not(:last-child):after {\n",
       "  content: \",\";\n",
       "  padding-right: 5px;\n",
       "}\n",
       "\n",
       ".xr-has-index {\n",
       "  font-weight: bold;\n",
       "}\n",
       "\n",
       ".xr-var-list,\n",
       ".xr-var-item {\n",
       "  display: contents;\n",
       "}\n",
       "\n",
       ".xr-var-item > div,\n",
       ".xr-var-item label,\n",
       ".xr-var-item > .xr-var-name span {\n",
       "  background-color: var(--xr-background-color-row-even);\n",
       "  margin-bottom: 0;\n",
       "}\n",
       "\n",
       ".xr-var-item > .xr-var-name:hover span {\n",
       "  padding-right: 5px;\n",
       "}\n",
       "\n",
       ".xr-var-list > li:nth-child(odd) > div,\n",
       ".xr-var-list > li:nth-child(odd) > label,\n",
       ".xr-var-list > li:nth-child(odd) > .xr-var-name span {\n",
       "  background-color: var(--xr-background-color-row-odd);\n",
       "}\n",
       "\n",
       ".xr-var-name {\n",
       "  grid-column: 1;\n",
       "}\n",
       "\n",
       ".xr-var-dims {\n",
       "  grid-column: 2;\n",
       "}\n",
       "\n",
       ".xr-var-dtype {\n",
       "  grid-column: 3;\n",
       "  text-align: right;\n",
       "  color: var(--xr-font-color2);\n",
       "}\n",
       "\n",
       ".xr-var-preview {\n",
       "  grid-column: 4;\n",
       "}\n",
       "\n",
       ".xr-index-preview {\n",
       "  grid-column: 2 / 5;\n",
       "  color: var(--xr-font-color2);\n",
       "}\n",
       "\n",
       ".xr-var-name,\n",
       ".xr-var-dims,\n",
       ".xr-var-dtype,\n",
       ".xr-preview,\n",
       ".xr-attrs dt {\n",
       "  white-space: nowrap;\n",
       "  overflow: hidden;\n",
       "  text-overflow: ellipsis;\n",
       "  padding-right: 10px;\n",
       "}\n",
       "\n",
       ".xr-var-name:hover,\n",
       ".xr-var-dims:hover,\n",
       ".xr-var-dtype:hover,\n",
       ".xr-attrs dt:hover {\n",
       "  overflow: visible;\n",
       "  width: auto;\n",
       "  z-index: 1;\n",
       "}\n",
       "\n",
       ".xr-var-attrs,\n",
       ".xr-var-data,\n",
       ".xr-index-data {\n",
       "  display: none;\n",
       "  background-color: var(--xr-background-color) !important;\n",
       "  padding-bottom: 5px !important;\n",
       "}\n",
       "\n",
       ".xr-var-attrs-in:checked ~ .xr-var-attrs,\n",
       ".xr-var-data-in:checked ~ .xr-var-data,\n",
       ".xr-index-data-in:checked ~ .xr-index-data {\n",
       "  display: block;\n",
       "}\n",
       "\n",
       ".xr-var-data > table {\n",
       "  float: right;\n",
       "}\n",
       "\n",
       ".xr-var-name span,\n",
       ".xr-var-data,\n",
       ".xr-index-name div,\n",
       ".xr-index-data,\n",
       ".xr-attrs {\n",
       "  padding-left: 25px !important;\n",
       "}\n",
       "\n",
       ".xr-attrs,\n",
       ".xr-var-attrs,\n",
       ".xr-var-data,\n",
       ".xr-index-data {\n",
       "  grid-column: 1 / -1;\n",
       "}\n",
       "\n",
       "dl.xr-attrs {\n",
       "  padding: 0;\n",
       "  margin: 0;\n",
       "  display: grid;\n",
       "  grid-template-columns: 125px auto;\n",
       "}\n",
       "\n",
       ".xr-attrs dt,\n",
       ".xr-attrs dd {\n",
       "  padding: 0;\n",
       "  margin: 0;\n",
       "  float: left;\n",
       "  padding-right: 10px;\n",
       "  width: auto;\n",
       "}\n",
       "\n",
       ".xr-attrs dt {\n",
       "  font-weight: normal;\n",
       "  grid-column: 1;\n",
       "}\n",
       "\n",
       ".xr-attrs dt:hover span {\n",
       "  display: inline-block;\n",
       "  background: var(--xr-background-color);\n",
       "  padding-right: 10px;\n",
       "}\n",
       "\n",
       ".xr-attrs dd {\n",
       "  grid-column: 2;\n",
       "  white-space: pre-wrap;\n",
       "  word-break: break-all;\n",
       "}\n",
       "\n",
       ".xr-icon-database,\n",
       ".xr-icon-file-text2,\n",
       ".xr-no-icon {\n",
       "  display: inline-block;\n",
       "  vertical-align: middle;\n",
       "  width: 1em;\n",
       "  height: 1.5em !important;\n",
       "  stroke-width: 0;\n",
       "  stroke: currentColor;\n",
       "  fill: currentColor;\n",
       "}\n",
       "</style><pre class='xr-text-repr-fallback'>&lt;xarray.DataArray &#x27;inflow_angle&#x27; (rad: 21)&gt; Size: 168B\n",
       "array([         nan, -14.27403457, -21.28641801, -20.20303903,\n",
       "       -18.47038066, -16.8792174 , -15.46903233, -14.28591397,\n",
       "       -13.36544267, -12.69522184, -12.22846286, -11.9112693 ,\n",
       "       -11.69805906, -11.55521826, -11.45950373, -11.39528984,\n",
       "       -11.35217106, -11.32321749, -11.30379243, -11.29077346,\n",
       "       -11.27955371])\n",
       "Coordinates:\n",
       "    z        int64 8B 10\n",
       "  * rad      (rad) float64 168B 0.0 2.5e+04 5e+04 ... 4.5e+05 4.75e+05 5e+05</pre><div class='xr-wrap' style='display:none'><div class='xr-header'><div class='xr-obj-type'>xarray.DataArray</div><div class='xr-array-name'>'inflow_angle'</div><ul class='xr-dim-list'><li><span class='xr-has-index'>rad</span>: 21</li></ul></div><ul class='xr-sections'><li class='xr-section-item'><div class='xr-array-wrap'><input id='section-fc251f88-2917-4828-9aef-38ccac371257' class='xr-array-in' type='checkbox' checked><label for='section-fc251f88-2917-4828-9aef-38ccac371257' title='Show/hide data repr'><svg class='icon xr-icon-database'><use xlink:href='#icon-database'></use></svg></label><div class='xr-array-preview xr-preview'><span>nan -14.27 -21.29 -20.2 -18.47 ... -11.35 -11.32 -11.3 -11.29 -11.28</span></div><div class='xr-array-data'><pre>array([         nan, -14.27403457, -21.28641801, -20.20303903,\n",
       "       -18.47038066, -16.8792174 , -15.46903233, -14.28591397,\n",
       "       -13.36544267, -12.69522184, -12.22846286, -11.9112693 ,\n",
       "       -11.69805906, -11.55521826, -11.45950373, -11.39528984,\n",
       "       -11.35217106, -11.32321749, -11.30379243, -11.29077346,\n",
       "       -11.27955371])</pre></div></div></li><li class='xr-section-item'><input id='section-b572c462-3bbe-484f-ba1a-9bca8d046e32' class='xr-section-summary-in' type='checkbox'  checked><label for='section-b572c462-3bbe-484f-ba1a-9bca8d046e32' class='xr-section-summary' >Coordinates: <span>(2)</span></label><div class='xr-section-inline-details'></div><div class='xr-section-details'><ul class='xr-var-list'><li class='xr-var-item'><div class='xr-var-name'><span>z</span></div><div class='xr-var-dims'>()</div><div class='xr-var-dtype'>int64</div><div class='xr-var-preview xr-preview'>10</div><input id='attrs-37021619-57e3-4306-8e1b-565a03f3b8cf' class='xr-var-attrs-in' type='checkbox' disabled><label for='attrs-37021619-57e3-4306-8e1b-565a03f3b8cf' title='Show/Hide attributes'><svg class='icon xr-icon-file-text2'><use xlink:href='#icon-file-text2'></use></svg></label><input id='data-019f7350-47c6-4bb2-85b6-b3f4aa1811ba' class='xr-var-data-in' type='checkbox'><label for='data-019f7350-47c6-4bb2-85b6-b3f4aa1811ba' title='Show/Hide data repr'><svg class='icon xr-icon-database'><use xlink:href='#icon-database'></use></svg></label><div class='xr-var-attrs'><dl class='xr-attrs'></dl></div><div class='xr-var-data'><pre>array(10)</pre></div></li><li class='xr-var-item'><div class='xr-var-name'><span class='xr-has-index'>rad</span></div><div class='xr-var-dims'>(rad)</div><div class='xr-var-dtype'>float64</div><div class='xr-var-preview xr-preview'>0.0 2.5e+04 ... 4.75e+05 5e+05</div><input id='attrs-686a8e12-a72f-45b4-a5ab-ce7cbbaf2866' class='xr-var-attrs-in' type='checkbox' disabled><label for='attrs-686a8e12-a72f-45b4-a5ab-ce7cbbaf2866' title='Show/Hide attributes'><svg class='icon xr-icon-file-text2'><use xlink:href='#icon-file-text2'></use></svg></label><input id='data-d03fe4c5-9cd2-41c3-96c6-f175c312992a' class='xr-var-data-in' type='checkbox'><label for='data-d03fe4c5-9cd2-41c3-96c6-f175c312992a' title='Show/Hide data repr'><svg class='icon xr-icon-database'><use xlink:href='#icon-database'></use></svg></label><div class='xr-var-attrs'><dl class='xr-attrs'></dl></div><div class='xr-var-data'><pre>array([     0.,  25000.,  50000.,  75000., 100000., 125000., 150000., 175000.,\n",
       "       200000., 225000., 250000., 275000., 300000., 325000., 350000., 375000.,\n",
       "       400000., 425000., 450000., 475000., 500000.])</pre></div></li></ul></div></li><li class='xr-section-item'><input id='section-8b01473e-7e39-4e1e-b889-a3b40c72004e' class='xr-section-summary-in' type='checkbox'  ><label for='section-8b01473e-7e39-4e1e-b889-a3b40c72004e' class='xr-section-summary' >Indexes: <span>(1)</span></label><div class='xr-section-inline-details'></div><div class='xr-section-details'><ul class='xr-var-list'><li class='xr-var-item'><div class='xr-index-name'><div>rad</div></div><div class='xr-index-preview'>PandasIndex</div><input type='checkbox' disabled/><label></label><input id='index-7a8a5af5-0d58-44b6-956a-ce33c5bac37e' class='xr-index-data-in' type='checkbox'/><label for='index-7a8a5af5-0d58-44b6-956a-ce33c5bac37e' title='Show/Hide index repr'><svg class='icon xr-icon-database'><use xlink:href='#icon-database'></use></svg></label><div class='xr-index-data'><pre>PandasIndex(Index([     0.0,  25000.0,  50000.0,  75000.0, 100000.0, 125000.0, 150000.0,\n",
       "       175000.0, 200000.0, 225000.0, 250000.0, 275000.0, 300000.0, 325000.0,\n",
       "       350000.0, 375000.0, 400000.0, 425000.0, 450000.0, 475000.0, 500000.0],\n",
       "      dtype=&#x27;float64&#x27;, name=&#x27;rad&#x27;))</pre></div></li></ul></div></li><li class='xr-section-item'><input id='section-45f41e40-35c3-4c70-b15f-330229a2f739' class='xr-section-summary-in' type='checkbox' disabled ><label for='section-45f41e40-35c3-4c70-b15f-330229a2f739' class='xr-section-summary'  title='Expand/collapse section'>Attributes: <span>(0)</span></label><div class='xr-section-inline-details'></div><div class='xr-section-details'><dl class='xr-attrs'></dl></div></li></ul></div></div>"
      ],
      "text/plain": [
       "<xarray.DataArray 'inflow_angle' (rad: 21)> Size: 168B\n",
       "array([         nan, -14.27403457, -21.28641801, -20.20303903,\n",
       "       -18.47038066, -16.8792174 , -15.46903233, -14.28591397,\n",
       "       -13.36544267, -12.69522184, -12.22846286, -11.9112693 ,\n",
       "       -11.69805906, -11.55521826, -11.45950373, -11.39528984,\n",
       "       -11.35217106, -11.32321749, -11.30379243, -11.29077346,\n",
       "       -11.27955371])\n",
       "Coordinates:\n",
       "    z        int64 8B 10\n",
       "  * rad      (rad) float64 168B 0.0 2.5e+04 5e+04 ... 4.5e+05 4.75e+05 5e+05"
      ]
     },
     "execution_count": 15,
     "metadata": {},
     "output_type": "execute_result"
    }
   ],
   "source": []
  },
  {
   "cell_type": "code",
   "execution_count": null,
   "metadata": {},
   "outputs": [],
   "source": []
  },
  {
   "cell_type": "code",
   "execution_count": null,
   "metadata": {},
   "outputs": [],
   "source": []
  },
  {
   "cell_type": "code",
   "execution_count": null,
   "metadata": {},
   "outputs": [],
   "source": []
  },
  {
   "cell_type": "code",
   "execution_count": null,
   "metadata": {},
   "outputs": [],
   "source": []
  },
  {
   "cell_type": "code",
   "execution_count": null,
   "metadata": {},
   "outputs": [],
   "source": []
  },
  {
   "cell_type": "code",
   "execution_count": null,
   "metadata": {},
   "outputs": [],
   "source": []
  },
  {
   "cell_type": "code",
   "execution_count": null,
   "metadata": {},
   "outputs": [],
   "source": []
  },
  {
   "cell_type": "code",
   "execution_count": null,
   "metadata": {},
   "outputs": [],
   "source": []
  },
  {
   "cell_type": "code",
   "execution_count": null,
   "metadata": {},
   "outputs": [],
   "source": []
  }
 ],
 "metadata": {
  "kernelspec": {
   "display_name": "dataBasics",
   "language": "python",
   "name": "databasics"
  },
  "language_info": {
   "codemirror_mode": {
    "name": "ipython",
    "version": 3
   },
   "file_extension": ".py",
   "mimetype": "text/x-python",
   "name": "python",
   "nbconvert_exporter": "python",
   "pygments_lexer": "ipython3",
   "version": "3.13.0"
  }
 },
 "nbformat": 4,
 "nbformat_minor": 4
}
