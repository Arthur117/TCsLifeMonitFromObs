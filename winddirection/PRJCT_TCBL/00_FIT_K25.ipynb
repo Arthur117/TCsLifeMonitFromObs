{
 "cells": [
  {
   "cell_type": "markdown",
   "metadata": {},
   "source": [
    "## Fit K25 to all SAR data\n",
    "\n",
    "Pre-filter my SAR database, remove locations where I = V/r, and apply my fitting code massively\n",
    "\n",
    "Why is the phase between 0 and 180°?\n",
    "\n",
    "Add filter on distance to coast? Do it a posteriori to see check if I have a higher drag coefficient in case of landfall."
   ]
  },
  {
   "cell_type": "code",
   "execution_count": 1,
   "metadata": {},
   "outputs": [],
   "source": [
    "# General\n",
    "import glob\n",
    "import re\n",
    "import os.path\n",
    "# import warnings\n",
    "# warnings.filterwarnings('ignore')\n",
    "from tqdm.notebook import tqdm\n",
    "import copy\n",
    "\n",
    "# Arrays & Displays\n",
    "import xarray as xr\n",
    "import numpy as np\n",
    "import matplotlib as mpl\n",
    "import matplotlib.pyplot as plt\n",
    "from matplotlib.colors import Normalize\n",
    "from matplotlib.gridspec import GridSpec\n",
    "import matplotlib.cm as cm\n",
    "import pandas as pd\n",
    "\n",
    "# Data treatment\n",
    "from datetime import datetime\n",
    "from scipy.optimize import curve_fit\n",
    "from scipy.interpolate import griddata\n",
    "from scipy.optimize import minimize\n",
    "\n",
    "# Default parameters\n",
    "mpl.rcParams.update({'font.size': 18})\n",
    "mpl.rcParams['figure.figsize'] = (15, 10)\n",
    "mpl.rcParams['axes.facecolor'] = 'white'\n",
    "mpl.rcParams['figure.facecolor'] = 'white'"
   ]
  },
  {
   "cell_type": "code",
   "execution_count": 2,
   "metadata": {},
   "outputs": [],
   "source": [
    "# Paths & Params\n",
    "PTHS = {\n",
    "    'dsg_pth': '/home/arthur/data/tropical_cyclones/SAR/parametric_dataset/dsg.nc',\n",
    "    'sar_dir': '/home/arthur/data/tropical_cyclones/SAR/S1_RS2_RCM/sar_files/',\n",
    "    'sav_dir': '/home/arthur/results/TCsLifeMonitFromObs/winddirection/PRJCT_TCBL/00_FIT_K25/',\n",
    "}\n",
    "\n",
    "PRMS = {\n",
    "    'sav_fgs': True,\n",
    "}\n",
    "\n",
    "# Open data\n",
    "dsg = xr.open_dataset(PTHS['dsg_pth'])"
   ]
  },
  {
   "cell_type": "code",
   "execution_count": 3,
   "metadata": {},
   "outputs": [
    {
     "name": "stdout",
     "output_type": "stream",
     "text": [
      "640\n"
     ]
    }
   ],
   "source": [
    "# FILTERS\n",
    "cond = (\n",
    "    (dsg.center_quality_flag < 2) & \n",
    "    (dsg.percent_outside < 50) & \n",
    "    (dsg.percent_rmx_inside == 1) &\n",
    "    (abs(dsg.lat) < 30) & \n",
    "    (dsg.rmx < 100000) & \n",
    "    (dsg.vmx > 20)\n",
    ")\n",
    "dsg_filtered    = dsg.where(cond, drop=True)\n",
    "print(len(dsg_filtered.time))"
   ]
  },
  {
   "cell_type": "code",
   "execution_count": 4,
   "metadata": {},
   "outputs": [],
   "source": [
    "#########################\n",
    "### General functions ###\n",
    "#########################\n",
    "def coriolis(lat):\n",
    "    '''Latitude must be in degrees.'''\n",
    "    Omega = 7.2921e-5                             # Earth rotation vector\n",
    "    fcor  = 2 * Omega * np.sin(lat * np.pi / 180) # Coriolis parameter assuming it's constant \n",
    "    return fcor\n",
    "\n",
    "def holland_profile(r, lat, B, Vmin, Rmax, Vmax):\n",
    "    '''We assume that rho is constant and equals 1.15 kg.m-3'''\n",
    "    fcor   = abs(coriolis(lat))\n",
    "    rho    = 1.15\n",
    "    r      = r.astype(float) + 0.001           # To avoid dividing by zero\n",
    "    r_star = (Rmax / r) ** B\n",
    "    V      = r * 0.\n",
    "    V      = Vmin + np.sqrt( ((Vmax - Vmin) ** 2) * r_star * np.exp(1 - r_star) + (r * fcor / 2) ** 2) - (r * fcor / 2)\n",
    "    return V\n",
    "\n",
    "def pol2cart(rho, phi):\n",
    "    x = rho * np.cos(phi)\n",
    "    y = rho * np.sin(phi)\n",
    "    return(x, y)\n",
    "\n",
    "#########################\n",
    "### KEPERT 2025 MODEL ###\n",
    "#########################\n",
    "# Inertial stability\n",
    "def I(Rs, Vs, fcor):\n",
    "    dr   = np.diff(Rs[0, 0, :])[0] # meters\n",
    "    ksi  = 2 * Vs / Rs + fcor\n",
    "    zeta = np.gradient(Vs, dr, axis=2) + Vs / Rs + fcor\n",
    "    return np.sqrt(ksi * zeta)\n",
    "\n",
    "# Coefficients\n",
    "def sqrt_alpha_beta(Rs, Vs, fcor):\n",
    "    '''Corresponds to sqrt(alpha / beta).'''\n",
    "    dr   = np.diff(Rs[0, 0, :])[0] # meters\n",
    "    ksi  = 2 * Vs / Rs + fcor\n",
    "    zeta = np.gradient(Vs, dr, axis=2) + Vs / Rs + fcor\n",
    "    return np.sqrt(ksi / zeta)\n",
    "\n",
    "def eta(Rs, Vs, K, C, fcor):\n",
    "    return C * Vs * np.sqrt(2 / (K * ((Vs / Rs) + I(Rs, Vs, fcor))))\n",
    "\n",
    "def ki(Rs, Vs, K, C, fcor):\n",
    "    return C * Vs * np.sqrt(2 / (K * I(Rs, Vs, fcor)))\n",
    "\n",
    "def psi(Rs, Vs, K, C, fcor):\n",
    "    return C * Vs * np.sqrt(2 / (K * abs((Vs / Rs) - I(Rs, Vs, fcor))))\n",
    "\n",
    "# Amplitudes\n",
    "def A0(Rs, Vs, K, C, fcor):\n",
    "    num = -ki(Rs, Vs, K, C, fcor) * Vs * [1 + 1j * (1 + ki(Rs, Vs, K, C, fcor))]\n",
    "    den = 2 * ki(Rs, Vs, K, C, fcor) ** 2 + 3 * ki(Rs, Vs, K, C, fcor) + 2\n",
    "    return num / den\n",
    "\n",
    "def A1(Rs, Vs, K, C, c1, c2, fcor):\n",
    "    '''Note the error of parenthesis in his Eq. 29 - I re-computed the exact coefficients, the parenthesis should be removed.'''\n",
    "    # New notations\n",
    "    ki0  = ki(Rs, Vs, K, C, fcor)\n",
    "    ki1  = eta(Rs, Vs, K, C, fcor)\n",
    "    ki_1 = psi(Rs, Vs, K, C, fcor)\n",
    "    # New expressions\n",
    "    num  = (c1 - 1j * c2) * ki1 * [(3 + 1j) * ki0 * ki_1 + (2 - 2j) * (ki0 + ki_1) - 4j] * abs(Vs)\n",
    "    den  = 2 * (2 * ki0 ** 2 + 3 * ki0 + 2) * [(2 + 2j) * (1 + ki1 * ki_1) + 3 * ki1 + 3j * ki_1]\n",
    "    return num / den\n",
    "\n",
    "def A_1(Rs, Vs, K, C, c1, c2, fcor):\n",
    "    '''Note the error of parenthesis in his Eq. 29 - I re-computed the exact coefficients, the parenthesis should be removed.'''\n",
    "    # New notations\n",
    "    ki0  = ki(Rs, Vs, K, C, fcor)\n",
    "    ki1  = eta(Rs, Vs, K, C, fcor)\n",
    "    ki_1 = psi(Rs, Vs, K, C, fcor)\n",
    "    # New expressions\n",
    "    num  = (c1 + 1j * c2) * ki_1 * [(3 + 1j) * ki0 * ki1 + (2 - 2j) * (ki0 + ki1) - 4j] * abs(Vs)\n",
    "    den  = 2 * (2 * ki0 ** 2 + 3 * ki0 + 2) * [(2 + 2j) * (1 + ki1 * ki_1) + 3 * ki_1 + 3j * ki1]\n",
    "    return num / den\n",
    "\n",
    "def A1_prime(Rs, Vs, K, C, c1, c2, fcor):\n",
    "    # New notations\n",
    "    ki0  = ki(Rs, Vs, K, C, fcor)\n",
    "    ki1  = eta(Rs, Vs, K, C, fcor)\n",
    "    ki_1 = psi(Rs, Vs, K, C, fcor)\n",
    "    # New expressions\n",
    "    num  = (c1 - 1j * c2) * ki1 * [(1 - 3j) * ki0 * ki_1 + (2 - 2j) * ki0 - (2 + 2j) * ki_1 - 4j] * abs(Vs)\n",
    "    den  = 2 * (2 * ki0 ** 2 + 3 * ki0 + 2) * [2 + 2j + 3 * (ki1 + ki_1) + (2 - 2j) * ki1 * ki_1]\n",
    "    return num / den\n",
    "\n",
    "def A_1_prime(Rs, Vs, K, C, c1, c2, fcor):\n",
    "    # New notations\n",
    "    ki0  = ki(Rs, Vs, K, C, fcor)\n",
    "    ki1  = eta(Rs, Vs, K, C, fcor)\n",
    "    ki_1 = psi(Rs, Vs, K, C, fcor)\n",
    "    # New expressions\n",
    "    num  = (c1 + 1j * c2) * ki_1 * [1j * (1 - 3j) * ki0 * ki1 + (2 - 2j) * ki0 + (2 + 2j) * ki1 - 4j] * abs(Vs)\n",
    "    den  = 2 * (2 * ki0 ** 2 + 3 * ki0 + 2) * [2 - 2j + 3 * (ki1 + ki_1) + (2 + 2j) * ki1 * ki_1]\n",
    "    return num / den\n",
    "\n",
    "# Thicknesses\n",
    "def delta0(Rs, Vs, K, fcor):\n",
    "    return np.sqrt(2 * K / abs(I(Rs, Vs, fcor)))\n",
    "\n",
    "def delta1(Rs, Vs, K, fcor):\n",
    "    return np.sqrt(2 * K / abs(I(Rs, Vs, fcor) + Vs / Rs))\n",
    "\n",
    "def delta_1(Rs, Vs, K, fcor):\n",
    "    return np.sqrt(2 * K / abs(I(Rs, Vs, fcor) - Vs / Rs))\n",
    "\n",
    "# Radial and tangential wind components\n",
    "def u0(Rs, Vs, K, C, fcor, zi, z_ref):\n",
    "    u0 = sqrt_alpha_beta(Rs, Vs, fcor) * np.real(A0(Rs, Vs, K, C, fcor) * np.exp(- (1 + 1j) * (zi - z_ref) / delta0(Rs, Vs, K, fcor)))\n",
    "    return np.reshape(u0,  np.shape(u0)[1:])\n",
    "\n",
    "def v0(Rs, Vs, K, C, fcor, zi, z_ref):\n",
    "    v0 = np.imag(A0(Rs, Vs, K, C, fcor) * np.exp(- (1 + 1j) * (zi - z_ref) / delta0(Rs, Vs, K, fcor)))\n",
    "    return np.reshape(v0,  np.shape(v0)[1:])\n",
    "\n",
    "def u1(THs, Rs, Vs, K, C, c1, c2, fcor, zi, z_ref, h):\n",
    "    u1        = Vs * 0\n",
    "    msk       = I(Rs, Vs, fcor) >= Vs / Rs\n",
    "    if_msked  = sqrt_alpha_beta(Rs, Vs, fcor) * np.real(A1(Rs, Vs, K, C, c1, c2, fcor)       * np.exp(- (1 + 1j) * (zi - z_ref) / delta1(Rs, Vs, K, fcor) + 1j * h * THs))\n",
    "    otherwise = sqrt_alpha_beta(Rs, Vs, fcor) * np.real(A1_prime(Rs, Vs, K, C, c1, c2, fcor) * np.exp(- (1 + 1j) * (zi - z_ref) / delta1(Rs, Vs, K, fcor) + 1j * h * THs))\n",
    "    u1[msk]   = np.reshape(if_msked,  np.shape(if_msked)[1:])[msk]\n",
    "    u1[~msk]  = np.reshape(otherwise, np.shape(if_msked)[1:])[~msk]\n",
    "    return u1\n",
    "\n",
    "def v1(THs, Rs, Vs, K, C, c1, c2, fcor, zi, z_ref, h):\n",
    "    v1        = Vs * 0\n",
    "    msk       = I(Rs, Vs, fcor) >= Vs / Rs\n",
    "    if_msked  = np.imag(A1(Rs, Vs, K, C, c1, c2, fcor)       * np.exp(- (1 + 1j) * (zi - z_ref) / delta1(Rs, Vs, K, fcor) + 1j * h * THs))\n",
    "    otherwise = np.imag(A1_prime(Rs, Vs, K, C, c1, c2, fcor) * np.exp(- (1 + 1j) * (zi - z_ref) / delta1(Rs, Vs, K, fcor) + 1j * h * THs))\n",
    "    v1[msk]   = np.reshape(if_msked,  np.shape(if_msked)[1:])[msk]\n",
    "    v1[~msk]  = np.reshape(otherwise, np.shape(if_msked)[1:])[~msk]\n",
    "    return v1\n",
    "\n",
    "def u_1(THs, Rs, Vs, K, C, c1, c2, fcor, zi, z_ref, h):\n",
    "    u1        = Vs * 0\n",
    "    msk       = I(Rs, Vs, fcor) >= Vs / Rs\n",
    "    if_msked  = sqrt_alpha_beta(Rs, Vs, fcor) * np.real(A_1(Rs, Vs, K, C, c1, c2, fcor)       * np.exp(- (1 + 1j) * (zi - z_ref) / delta_1(Rs, Vs, K, fcor) - 1j * h * THs))\n",
    "    otherwise = sqrt_alpha_beta(Rs, Vs, fcor) * np.real(A_1_prime(Rs, Vs, K, C, c1, c2, fcor) * np.exp(- (1 - 1j) * (zi - z_ref) / delta_1(Rs, Vs, K, fcor) - 1j * h * THs))\n",
    "    u1[msk]   = np.reshape(if_msked,  np.shape(if_msked)[1:])[msk]\n",
    "    u1[~msk]  = np.reshape(otherwise, np.shape(if_msked)[1:])[~msk]\n",
    "    return u1\n",
    "\n",
    "def v_1(THs, Rs, Vs, K, C, c1, c2, fcor, zi, z_ref, h):\n",
    "    v1        = Vs * 0\n",
    "    msk       = I(Rs, Vs, fcor) >= Vs / Rs\n",
    "    if_msked  = np.imag(A_1(Rs, Vs, K, C, c1, c2, fcor)       * np.exp(- (1 + 1j) * (zi - z_ref) / delta_1(Rs, Vs, K, fcor) - 1j * h * THs))\n",
    "    otherwise = np.imag(A_1_prime(Rs, Vs, K, C, c1, c2, fcor) * np.exp(- (1 - 1j) * (zi - z_ref) / delta_1(Rs, Vs, K, fcor) - 1j * h * THs))\n",
    "    v1[msk]   = np.reshape(if_msked,  np.shape(if_msked)[1:])[msk]\n",
    "    v1[~msk]  = np.reshape(otherwise, np.shape(if_msked)[1:])[~msk]\n",
    "    return v1\n",
    "\n",
    "# TOTAL WIND COMPONENTS IN THE BL\n",
    "def u_BL(THs, Rs, Vs, K, C, c1, c2, fcor, zi, z_ref, h):\n",
    "    # print(np.shape(THs), np.shape(zi), np.shape(z_ref))\n",
    "    # Vs_dyd = np.concatenate((np.stack([np.ones(np.argmax(Vs)) for i in range(np.shape(Vs)[0])]) * Vs[0, 0], Vs), axis=1)[:, :np.shape(Vs)[1]]\n",
    "    # return u_1(THs, Rs, Vs_dyd, K, C, c1, c2, fcor, zi, z_ref, h) + u0(Rs, Vs, K, C, fcor, zi, z_ref) + u1(THs, Rs, Vs_dyd, K, C, c1, c2, fcor, zi, z_ref, h)\n",
    "    return u_1(THs, Rs, Vs, K, C, c1, c2, fcor, zi, z_ref, h) + u0(Rs, Vs, K, C, fcor, zi, z_ref) + u1(THs, Rs, Vs, K, C, c1, c2, fcor, zi, z_ref, h)\n",
    "\n",
    "def v_BL(THs, Rs, Vs, K, C, c1, c2, fcor, zi, z_ref, h):\n",
    "    # Vs_dyd = np.concatenate((np.stack([np.ones(np.argmax(Vs)) for i in range(np.shape(Vs)[0])]) * Vs[0, 0], Vs), axis=1)[:, :np.shape(Vs)[1]]\n",
    "    # return Vs + v_1(THs, Rs, Vs_dyd, K, C, c1, c2, fcor, zi, z_ref, h) + v0(Rs, Vs, K, C, fcor, zi, z_ref) + v1(THs, Rs, Vs_dyd, K, C, c1, c2, fcor, zi, z_ref, h)\n",
    "    return Vs + v_1(THs, Rs, Vs, K, C, c1, c2, fcor, zi, z_ref, h) + v0(Rs, Vs, K, C, fcor, zi, z_ref) + v1(THs, Rs, Vs, K, C, c1, c2, fcor, zi, z_ref, h)\n",
    "\n",
    "# FINAL MODEL\n",
    "def kepert2025(THs, Rs, Vs, K, C, c1, c2, fcor, zi, z_ref, h):\n",
    "    # Returns Kepert wind speeds\n",
    "    u_K25   = u_BL(THs, Rs, Vs, K, C, c1, c2, fcor, zi, z_ref, h)\n",
    "    v_K25   = v_BL(THs, Rs, Vs, K, C, c1, c2, fcor, zi, z_ref, h)  \n",
    "\n",
    "    # Not for K25!!!\n",
    "    # # Adds the translation speed\n",
    "    # Utu     = Ut * np.cos(THs) # Radial component of Ut\n",
    "    # Utv     = -Ut * np.sin(THs) # Tangential component of Ut\n",
    "    # # Utu = Utv = 0\n",
    "    \n",
    "    # return u_K25 + Utu, v_K25 + Utv\n",
    "    return u_K25, v_K25\n",
    "\n",
    "#########################\n",
    "### CREATE STRUCTURES ###\n",
    "#########################\n",
    "def get_xrDataset_polar(zs, ths, rs, u_K25, v_K25):\n",
    "    kep_pol = xr.Dataset(\n",
    "        data_vars={\n",
    "            'wind_speed': (('z', 'theta', 'rad'), np.sqrt(np.array(v_K25) ** 2 + np.array(u_K25) ** 2)),\n",
    "            'rad_wind':   (('z', 'theta', 'rad'), np.array(u_K25)),\n",
    "            'tan_wind':   (('z', 'theta', 'rad'), np.array(v_K25)),\n",
    "        },\n",
    "        coords={\n",
    "            'z': zs,\n",
    "            'theta': np.rad2deg(ths),\n",
    "            'rad': rs,\n",
    "        }\n",
    "    )\n",
    "    kep_pol['inflow_angle'] = np.rad2deg(np.arctan((kep_pol.rad_wind / kep_pol.tan_wind))) # Inflow Angle Polar\n",
    "    return kep_pol\n",
    "\n",
    "def get_xrDataset_cartesian(Xs, Ys, x_ref, y_ref, dim_ref, kep_pol):\n",
    "    KEP_CARS = []\n",
    "    for z in tqdm(zs): # Takes ~20 seconds\n",
    "        kep_car = xr.Dataset(\n",
    "            data_vars={\n",
    "                'wind_speed':   (('x', 'y'), griddata((Xs[0, :, :].flatten(), Ys[0, :, :].flatten()), np.array(kep_pol.sel(z=z).wind_speed).flatten(),   (x_ref, y_ref), method='nearest')),\n",
    "                'rad_wind':     (('x', 'y'), griddata((Xs[0, :, :].flatten(), Ys[0, :, :].flatten()), np.array(kep_pol.sel(z=z).rad_wind).flatten(),     (x_ref, y_ref), method='nearest')),\n",
    "                'tan_wind':     (('x', 'y'), griddata((Xs[0, :, :].flatten(), Ys[0, :, :].flatten()), np.array(kep_pol.sel(z=z).tan_wind).flatten(),     (x_ref, y_ref), method='nearest')),\n",
    "                'inflow_angle': (('x', 'y'), griddata((Xs[0, :, :].flatten(), Ys[0, :, :].flatten()), np.array(kep_pol.sel(z=z).inflow_angle).flatten(), (x_ref, y_ref), method='nearest')),\n",
    "            },\n",
    "            coords={\n",
    "                'x': dim_ref,\n",
    "                'y': dim_ref,\n",
    "            }\n",
    "        )\n",
    "        KEP_CARS.append(kep_car)\n",
    "    kep_car = xr.concat(KEP_CARS, 'z').assign_coords({'z': zs})\n",
    "    return kep_car\n",
    "\n",
    "### Get vertical velocity estimates\n",
    "# For the expression see e.g Ueno and Kunii 2009\n",
    "def get_w(kep_pol, kep_car, zs):\n",
    "    # Compute vertical velocity by integrating continuity equation\n",
    "    dru_dr = (kep_pol.rad * kep_pol.rad_wind).differentiate('rad') # d(ru)/dr\n",
    "    dv_dth = kep_pol.tan_wind.differentiate('theta') / (2 * np.pi / 360) # dv/dtheta, dtheta converted in radians here\n",
    "    # dv_dth = kep_pol.tan_wind.differentiate('theta')               # dv/dtheta\n",
    "    WS_POL = []\n",
    "    WS_CAR = []\n",
    "    for z in tqdm(zs):\n",
    "        integral = (dru_dr + dv_dth).sel(z=slice(None, z)).integrate('z')\n",
    "        w_pol    = - (1 / integral.rad) * integral\n",
    "        WS_POL.append(w_pol)\n",
    "        w_car = griddata((Xs[0, :, :].flatten(), Ys[0, :, :].flatten()), np.array(w_pol.transpose()).flatten(), (x_ref, y_ref), method='nearest')\n",
    "        WS_CAR.append(xr.DataArray(w_car, coords={'x': dim_ref,'y': dim_ref}))\n",
    "    kep_pol['w'] = xr.concat(WS_POL, dim='z')\n",
    "    kep_car['w'] = xr.concat(WS_CAR, dim='z')\n",
    "    return kep_pol, kep_car\n",
    "\n",
    "#########################\n",
    "###   MODEL FITTING   ###\n",
    "#########################\n",
    "def wind_reduction_factor(Rs, Vs, K, C, fcor):\n",
    "    '''wrf = surface azim. wind / gradient azim. wind'''\n",
    "    ki_cst  = ki(Rs, Vs, K, C, fcor)\n",
    "    num     = ki_cst ** 2 + 2 * ki_cst + 2\n",
    "    den     = 2 * ki_cst ** 2 + 3 * ki_cst + 2\n",
    "    return num / den\n",
    "\n",
    "def wn1(thetas, a, phi, c):\n",
    "    return a * np.cos(thetas + phi) + c\n",
    "\n",
    "def get_wn1(thetas, wind_speed, initial_condition=15, upper_bound=80):\n",
    "    '''\n",
    "    initial_condition: initial conidition for the amplitude and the constant c (just put Vplus)\n",
    "    upper_bound: upper bound for the the amplitude and the constant c (just put Vmax)\n",
    "    '''\n",
    "    # Fitting process\n",
    "    popt, pcov = curve_fit(\n",
    "        f=wn1,\n",
    "        xdata=thetas,\n",
    "        ydata=wind_speed,\n",
    "        p0=[initial_condition, np.pi / 2, initial_condition],\n",
    "        bounds=([1., 0., 0.1], [upper_bound, np.pi, upper_bound]) # ([lower bounds], [upper bounds])\n",
    "    )\n",
    "    a, phi, c = popt[0], popt[1], popt[2]\n",
    "    return a, phi, c\n",
    "\n",
    "def rmse(predictions, targets):\n",
    "    return np.sqrt(((predictions - targets) ** 2).mean())\n",
    "\n",
    "#########################\n",
    "###       PLOT        ###\n",
    "#########################\n",
    "def truncate_colormap(cmap, minval=0.0, maxval=1.0, n=100):\n",
    "    new_cmap = mpl.colors.LinearSegmentedColormap.from_list(\n",
    "        'trunc({n},{a:.2f},{b:.2f})'.format(n=cmap.name, a=minval, b=maxval),\n",
    "        cmap(np.linspace(minval, maxval, n)))\n",
    "    return new_cmap\n",
    "\n",
    "def getColorMap(rgbFile=\"medspiration.rgb\"):\n",
    "    '''\n",
    "    Load a RGB palette provided in ascii file\n",
    "    '''\n",
    "    colors = []\n",
    "    nbCol  = 0\n",
    "    for line in open( rgbFile ):\n",
    "        r,g,b = [int(c) for c in line.split()]\n",
    "        colors.append( [r/255.,g/255.,b/255.] )\n",
    "        nbCol += 1\n",
    "    return(mpl.colors.ListedColormap(colors, name=\"custom\", N=nbCol))\n",
    "\n",
    "palette = '/home/arthur/scripts/tools/high_wind_speed.pal'\n",
    "cwnd         = getColorMap(rgbFile=palette)\n",
    "normalizer   = Normalize(0, 80)"
   ]
  },
  {
   "cell_type": "code",
   "execution_count": 5,
   "metadata": {},
   "outputs": [],
   "source": [
    "### FUNCTIONS TO COMPUTE ASYMMETRY AMPLITUDE\n",
    "### FITS HOLLAND AT EACH RADIUS\n",
    "\n",
    "def initialize_radius(spdm):\n",
    "    '''Given the spdm, returns the largest radius (and asociated spdm) on which the profile can be fitted. \n",
    "    Indeed, sometimes the spdm isn't defined from r = 0 to r = 500, in this case the largest domain is taken instead.'''\n",
    "    # Initialize first and last indexes\n",
    "    first_valid_index = 0\n",
    "    last_valid_index  = len(spdm)\n",
    "    r                 = np.arange(last_valid_index) # to avoid having both r = 0 and n < 0 during fitting process\n",
    "    \n",
    "    ### Lower bound\n",
    "    # We change it if spdm[0] = nan\n",
    "    if np.isnan(spdm[0]):\n",
    "        first_valid_index = np.min(np.where(np.isfinite(spdm)))\n",
    "        \n",
    "    ### Upper bound\n",
    "    # We change it if there is a nan somewhere\n",
    "    if np.isnan(np.min(spdm[first_valid_index:])):\n",
    "        last_valid_index  = np.min(np.where(np.isnan(spdm[first_valid_index:]))[0]) # returns the index of the last valid value before the first nan\n",
    "        last_valid_index += first_valid_index - 1\n",
    "        \n",
    "    # Define r and spdm\n",
    "    r    = r[first_valid_index:last_valid_index] * 1000\n",
    "    spdm = spdm[first_valid_index:last_valid_index]\n",
    "    \n",
    "    return r, spdm\n",
    "\n",
    "# Test - Compute asymmetry by computing an average Holland per theta slice to smooth all the noise\n",
    "BDS_HOL = {\n",
    "    'B':      [0.01, 3.],\n",
    "    'Vmin':   [0, 50],\n",
    "    'Rmax':   [5 * 1000, 500 * 1000],\n",
    "    'Vmax':   [10, 100],   \n",
    "}\n",
    "\n",
    "# Define the steps\n",
    "# TODO: I could refine how I choose these steps to make them more continuous\n",
    "# th_steps = np.linspace(0, 340, 341)\n",
    "th_steps = np.linspace(0, 360, 19)[:-1] # Slice of 20 degrees\n",
    "th_delta = 20 # degrees"
   ]
  },
  {
   "cell_type": "code",
   "execution_count": 6,
   "metadata": {},
   "outputs": [],
   "source": [
    "def get_rmse_wrt_sar_fixedK(optim_params, K, THs_sar, Rs_sar, Zs_sar, ths, rs, zs_sar, Vs_sar, fcr, z_ref, h, dsp_sar):\n",
    "    # Extraire les paramètres à optimiser\n",
    "    C, c1, c2 = optim_params\n",
    "\n",
    "    # Wind at gradient level\n",
    "    wrf        = wind_reduction_factor(Rs_sar, Vs_sar, K, C, fcr) # azimuthal wind\n",
    "    Vs_try_sar = Vs_sar / wrf\n",
    "\n",
    "    # Get K25\n",
    "    u_K25, v_K25 = kepert2025(THs_sar, Rs_sar, Vs_try_sar, K, C, c1, c2, fcr, Zs_sar, z_ref, h)\n",
    "\n",
    "    # Get polar dataset\n",
    "    kep_pol      = get_xrDataset_polar(zs_sar, ths, rs, u_K25, v_K25)\n",
    "\n",
    "    return float(rmse(kep_pol.interp(coords={'rad': np.array(dsp_sar.wind_speed.transpose().rad)}).sel(theta=slice(0, 359)).wind_speed, dsp_sar.wind_speed.transpose()))"
   ]
  },
  {
   "cell_type": "markdown",
   "metadata": {},
   "source": [
    "### 1) Fit to all"
   ]
  },
  {
   "cell_type": "code",
   "execution_count": 7,
   "metadata": {},
   "outputs": [],
   "source": [
    "#########################\n",
    "###  HYPERPARAMETERS  ###\n",
    "#########################\n",
    "### Reference grids\n",
    "# Low-resolution grids - To speed up fitting\n",
    "rs            = np.linspace(1000, 5e5, 500)\n",
    "ths           = np.linspace(0, 2 * np.pi, 181)                         # in radians\n",
    "zs            = np.array([10])\n",
    "Rs, THs       = np.meshgrid(rs, ths)                                   # shape (361, 5000)\n",
    "\n",
    "# Vectorize on dim z\n",
    "THs           = np.repeat(np.expand_dims(THs, axis=0), len(zs), axis=0) # shape e.g (len(zs), 361, 5000)\n",
    "Rs            = np.repeat(np.expand_dims(Rs, axis=0), len(zs), axis=0)  # shape e.g (len(zs), 361, 5000)\n",
    "Zs            = np.repeat(np.expand_dims(zs, axis=1), len(ths), axis=1) # shape e.g (len(zs), 361, 5000)\n",
    "Zs            = np.repeat(np.expand_dims(Zs, axis=2), len(rs), axis=2)  # shape e.g (len(zs), 361, 5000)\n",
    "\n",
    "# To create cartesian dataset\n",
    "Xs, Ys        = pol2cart(Rs, THs)                                      # to create cartesian dataset\n",
    "dim_ref       = np.linspace(-500, 500, int((500 // 1 * 2) + 1)) * 1000 # to create cartesian dataset\n",
    "x_ref, y_ref  = np.meshgrid(dim_ref, dim_ref)                          # to create cartesian dataset\n",
    "\n",
    "# To compute asymmetries\n",
    "xs            = np.linspace(1000, 250000, 250)\n",
    "\n",
    "# Ref. height\n",
    "z_ref         = 10\n",
    "\n",
    "# Fitting values\n",
    "fixed_K       = 50\n",
    "initial_guess = [1.5e-3, 0.1, 0.1] \n",
    "bounds        = [(1e-4, 1e-2), (-10., 10.), (-10., 10.)] # (min, max) pour chaque paramètre"
   ]
  },
  {
   "cell_type": "code",
   "execution_count": 11,
   "metadata": {},
   "outputs": [
    {
     "data": {
      "application/vnd.jupyter.widget-view+json": {
       "model_id": "0b6fac0d80b74534be4145c08fc89666",
       "version_major": 2,
       "version_minor": 0
      },
      "text/plain": [
       "  0%|          | 0/82 [00:00<?, ?it/s]"
      ]
     },
     "metadata": {},
     "output_type": "display_data"
    },
    {
     "data": {
      "application/vnd.jupyter.widget-view+json": {
       "model_id": "989f070135494d7ba0e8a975ca61da2f",
       "version_major": 2,
       "version_minor": 0
      },
      "text/plain": [
       "  0%|          | 0/250 [00:00<?, ?it/s]"
      ]
     },
     "metadata": {},
     "output_type": "display_data"
    },
    {
     "data": {
      "application/vnd.jupyter.widget-view+json": {
       "model_id": "d35b1a32215e4cfb96690af9f6088422",
       "version_major": 2,
       "version_minor": 0
      },
      "text/plain": [
       "  0%|          | 0/18 [00:00<?, ?it/s]"
      ]
     },
     "metadata": {},
     "output_type": "display_data"
    },
    {
     "data": {
      "application/vnd.jupyter.widget-view+json": {
       "model_id": "a9fa9e88d48144d6a2f048e2187fd194",
       "version_major": 2,
       "version_minor": 0
      },
      "text/plain": [
       "  0%|          | 0/250 [00:00<?, ?it/s]"
      ]
     },
     "metadata": {},
     "output_type": "display_data"
    },
    {
     "data": {
      "application/vnd.jupyter.widget-view+json": {
       "model_id": "b290d3d0df7d42a6a6542540699e8021",
       "version_major": 2,
       "version_minor": 0
      },
      "text/plain": [
       "  0%|          | 0/250 [00:00<?, ?it/s]"
      ]
     },
     "metadata": {},
     "output_type": "display_data"
    },
    {
     "data": {
      "application/vnd.jupyter.widget-view+json": {
       "model_id": "4d4e02c009844b26bb7ec5e9922791ad",
       "version_major": 2,
       "version_minor": 0
      },
      "text/plain": [
       "  0%|          | 0/18 [00:00<?, ?it/s]"
      ]
     },
     "metadata": {},
     "output_type": "display_data"
    },
    {
     "data": {
      "application/vnd.jupyter.widget-view+json": {
       "model_id": "3ae033d8e3454d67b410221d9872af3d",
       "version_major": 2,
       "version_minor": 0
      },
      "text/plain": [
       "  0%|          | 0/250 [00:00<?, ?it/s]"
      ]
     },
     "metadata": {},
     "output_type": "display_data"
    },
    {
     "data": {
      "application/vnd.jupyter.widget-view+json": {
       "model_id": "abb7da3a25274bf990161fb39568a77a",
       "version_major": 2,
       "version_minor": 0
      },
      "text/plain": [
       "  0%|          | 0/250 [00:00<?, ?it/s]"
      ]
     },
     "metadata": {},
     "output_type": "display_data"
    },
    {
     "data": {
      "application/vnd.jupyter.widget-view+json": {
       "model_id": "e50d4702cfd5483f8dcc74bea984e406",
       "version_major": 2,
       "version_minor": 0
      },
      "text/plain": [
       "  0%|          | 0/18 [00:00<?, ?it/s]"
      ]
     },
     "metadata": {},
     "output_type": "display_data"
    },
    {
     "data": {
      "application/vnd.jupyter.widget-view+json": {
       "model_id": "db069118c7284eb9b030bb9b0a7403c3",
       "version_major": 2,
       "version_minor": 0
      },
      "text/plain": [
       "  0%|          | 0/250 [00:00<?, ?it/s]"
      ]
     },
     "metadata": {},
     "output_type": "display_data"
    },
    {
     "data": {
      "application/vnd.jupyter.widget-view+json": {
       "model_id": "8839bf4f5d414638b8e6578ca9d534d9",
       "version_major": 2,
       "version_minor": 0
      },
      "text/plain": [
       "  0%|          | 0/250 [00:00<?, ?it/s]"
      ]
     },
     "metadata": {},
     "output_type": "display_data"
    },
    {
     "data": {
      "application/vnd.jupyter.widget-view+json": {
       "model_id": "c7b6c208b7fc4ceeabfd7f9f76854c5f",
       "version_major": 2,
       "version_minor": 0
      },
      "text/plain": [
       "  0%|          | 0/18 [00:00<?, ?it/s]"
      ]
     },
     "metadata": {},
     "output_type": "display_data"
    },
    {
     "data": {
      "application/vnd.jupyter.widget-view+json": {
       "model_id": "034582e4f9014b99abdf33e85f077f47",
       "version_major": 2,
       "version_minor": 0
      },
      "text/plain": [
       "  0%|          | 0/250 [00:00<?, ?it/s]"
      ]
     },
     "metadata": {},
     "output_type": "display_data"
    },
    {
     "data": {
      "application/vnd.jupyter.widget-view+json": {
       "model_id": "312ab7c0dd664536ae95744bd9f6bfd8",
       "version_major": 2,
       "version_minor": 0
      },
      "text/plain": [
       "  0%|          | 0/250 [00:00<?, ?it/s]"
      ]
     },
     "metadata": {},
     "output_type": "display_data"
    },
    {
     "data": {
      "application/vnd.jupyter.widget-view+json": {
       "model_id": "99ac7e9b2b304fdfabfc25412c8ee79f",
       "version_major": 2,
       "version_minor": 0
      },
      "text/plain": [
       "  0%|          | 0/18 [00:00<?, ?it/s]"
      ]
     },
     "metadata": {},
     "output_type": "display_data"
    },
    {
     "data": {
      "application/vnd.jupyter.widget-view+json": {
       "model_id": "11d0dcb162b748548c3c175e615ef447",
       "version_major": 2,
       "version_minor": 0
      },
      "text/plain": [
       "  0%|          | 0/250 [00:00<?, ?it/s]"
      ]
     },
     "metadata": {},
     "output_type": "display_data"
    },
    {
     "data": {
      "application/vnd.jupyter.widget-view+json": {
       "model_id": "721e1f2558944d9ca6ad1d02b5d060bc",
       "version_major": 2,
       "version_minor": 0
      },
      "text/plain": [
       "  0%|          | 0/250 [00:00<?, ?it/s]"
      ]
     },
     "metadata": {},
     "output_type": "display_data"
    },
    {
     "data": {
      "application/vnd.jupyter.widget-view+json": {
       "model_id": "05a3f9cb4a5c4b258c2ca6dffbcfa7d1",
       "version_major": 2,
       "version_minor": 0
      },
      "text/plain": [
       "  0%|          | 0/18 [00:00<?, ?it/s]"
      ]
     },
     "metadata": {},
     "output_type": "display_data"
    },
    {
     "data": {
      "application/vnd.jupyter.widget-view+json": {
       "model_id": "fc522b08d159467f8779c85afbd7dfdd",
       "version_major": 2,
       "version_minor": 0
      },
      "text/plain": [
       "  0%|          | 0/250 [00:00<?, ?it/s]"
      ]
     },
     "metadata": {},
     "output_type": "display_data"
    },
    {
     "data": {
      "application/vnd.jupyter.widget-view+json": {
       "model_id": "66990c177b0442128ac2741accbf0bda",
       "version_major": 2,
       "version_minor": 0
      },
      "text/plain": [
       "  0%|          | 0/250 [00:00<?, ?it/s]"
      ]
     },
     "metadata": {},
     "output_type": "display_data"
    },
    {
     "data": {
      "application/vnd.jupyter.widget-view+json": {
       "model_id": "6c32ab0daa4a444a824378050a2b026c",
       "version_major": 2,
       "version_minor": 0
      },
      "text/plain": [
       "  0%|          | 0/18 [00:00<?, ?it/s]"
      ]
     },
     "metadata": {},
     "output_type": "display_data"
    },
    {
     "data": {
      "application/vnd.jupyter.widget-view+json": {
       "model_id": "c98e5847b64348dbbd6c7e530394b36d",
       "version_major": 2,
       "version_minor": 0
      },
      "text/plain": [
       "  0%|          | 0/250 [00:00<?, ?it/s]"
      ]
     },
     "metadata": {},
     "output_type": "display_data"
    },
    {
     "data": {
      "application/vnd.jupyter.widget-view+json": {
       "model_id": "55c9d503671849718492d4fca4d35145",
       "version_major": 2,
       "version_minor": 0
      },
      "text/plain": [
       "  0%|          | 0/250 [00:00<?, ?it/s]"
      ]
     },
     "metadata": {},
     "output_type": "display_data"
    },
    {
     "data": {
      "application/vnd.jupyter.widget-view+json": {
       "model_id": "08ba4ddf6eeb4160bcf43a1795d3c95a",
       "version_major": 2,
       "version_minor": 0
      },
      "text/plain": [
       "  0%|          | 0/18 [00:00<?, ?it/s]"
      ]
     },
     "metadata": {},
     "output_type": "display_data"
    },
    {
     "data": {
      "application/vnd.jupyter.widget-view+json": {
       "model_id": "25e31f6f9e984486a77ddb3e44fc8add",
       "version_major": 2,
       "version_minor": 0
      },
      "text/plain": [
       "  0%|          | 0/250 [00:00<?, ?it/s]"
      ]
     },
     "metadata": {},
     "output_type": "display_data"
    },
    {
     "data": {
      "application/vnd.jupyter.widget-view+json": {
       "model_id": "6a22ab316e194b52a0bdae0aecf83554",
       "version_major": 2,
       "version_minor": 0
      },
      "text/plain": [
       "  0%|          | 0/250 [00:00<?, ?it/s]"
      ]
     },
     "metadata": {},
     "output_type": "display_data"
    },
    {
     "data": {
      "application/vnd.jupyter.widget-view+json": {
       "model_id": "5556f76ae9194356846650a7bb55ee6b",
       "version_major": 2,
       "version_minor": 0
      },
      "text/plain": [
       "  0%|          | 0/18 [00:00<?, ?it/s]"
      ]
     },
     "metadata": {},
     "output_type": "display_data"
    },
    {
     "data": {
      "application/vnd.jupyter.widget-view+json": {
       "model_id": "f8ae02012c5d4474a2fb844fd651893e",
       "version_major": 2,
       "version_minor": 0
      },
      "text/plain": [
       "  0%|          | 0/250 [00:00<?, ?it/s]"
      ]
     },
     "metadata": {},
     "output_type": "display_data"
    },
    {
     "data": {
      "application/vnd.jupyter.widget-view+json": {
       "model_id": "4d36588edc2f4327b7d6c11749f64741",
       "version_major": 2,
       "version_minor": 0
      },
      "text/plain": [
       "  0%|          | 0/250 [00:00<?, ?it/s]"
      ]
     },
     "metadata": {},
     "output_type": "display_data"
    },
    {
     "data": {
      "application/vnd.jupyter.widget-view+json": {
       "model_id": "8795fd5908644176a73864e2f49b3fa0",
       "version_major": 2,
       "version_minor": 0
      },
      "text/plain": [
       "  0%|          | 0/18 [00:00<?, ?it/s]"
      ]
     },
     "metadata": {},
     "output_type": "display_data"
    },
    {
     "data": {
      "application/vnd.jupyter.widget-view+json": {
       "model_id": "537f9bf6cc494c2ea64e55a794de260c",
       "version_major": 2,
       "version_minor": 0
      },
      "text/plain": [
       "  0%|          | 0/250 [00:00<?, ?it/s]"
      ]
     },
     "metadata": {},
     "output_type": "display_data"
    },
    {
     "data": {
      "application/vnd.jupyter.widget-view+json": {
       "model_id": "43b95bbafd6342e284c695f0eda49f2d",
       "version_major": 2,
       "version_minor": 0
      },
      "text/plain": [
       "  0%|          | 0/250 [00:00<?, ?it/s]"
      ]
     },
     "metadata": {},
     "output_type": "display_data"
    },
    {
     "data": {
      "application/vnd.jupyter.widget-view+json": {
       "model_id": "1df3ade056514774b7387e5c528b755a",
       "version_major": 2,
       "version_minor": 0
      },
      "text/plain": [
       "  0%|          | 0/18 [00:00<?, ?it/s]"
      ]
     },
     "metadata": {},
     "output_type": "display_data"
    },
    {
     "data": {
      "application/vnd.jupyter.widget-view+json": {
       "model_id": "c3c4b4754a99488c9aec3084f10b1f44",
       "version_major": 2,
       "version_minor": 0
      },
      "text/plain": [
       "  0%|          | 0/250 [00:00<?, ?it/s]"
      ]
     },
     "metadata": {},
     "output_type": "display_data"
    },
    {
     "data": {
      "application/vnd.jupyter.widget-view+json": {
       "model_id": "da4c63cc284e4b628b2412e704509e5a",
       "version_major": 2,
       "version_minor": 0
      },
      "text/plain": [
       "  0%|          | 0/250 [00:00<?, ?it/s]"
      ]
     },
     "metadata": {},
     "output_type": "display_data"
    },
    {
     "data": {
      "application/vnd.jupyter.widget-view+json": {
       "model_id": "4928113cde764244821505b4a96c0d6b",
       "version_major": 2,
       "version_minor": 0
      },
      "text/plain": [
       "  0%|          | 0/18 [00:00<?, ?it/s]"
      ]
     },
     "metadata": {},
     "output_type": "display_data"
    },
    {
     "data": {
      "application/vnd.jupyter.widget-view+json": {
       "model_id": "79050056039c40999039f22de2d28240",
       "version_major": 2,
       "version_minor": 0
      },
      "text/plain": [
       "  0%|          | 0/250 [00:00<?, ?it/s]"
      ]
     },
     "metadata": {},
     "output_type": "display_data"
    },
    {
     "data": {
      "application/vnd.jupyter.widget-view+json": {
       "model_id": "3838538a32c64b2db47d2e3db0442080",
       "version_major": 2,
       "version_minor": 0
      },
      "text/plain": [
       "  0%|          | 0/250 [00:00<?, ?it/s]"
      ]
     },
     "metadata": {},
     "output_type": "display_data"
    },
    {
     "data": {
      "application/vnd.jupyter.widget-view+json": {
       "model_id": "5b9045e026e84dff979d14f3924a47ef",
       "version_major": 2,
       "version_minor": 0
      },
      "text/plain": [
       "  0%|          | 0/18 [00:00<?, ?it/s]"
      ]
     },
     "metadata": {},
     "output_type": "display_data"
    },
    {
     "data": {
      "application/vnd.jupyter.widget-view+json": {
       "model_id": "1461ce4482b34d9bbad08cdd1fd2ba12",
       "version_major": 2,
       "version_minor": 0
      },
      "text/plain": [
       "  0%|          | 0/250 [00:00<?, ?it/s]"
      ]
     },
     "metadata": {},
     "output_type": "display_data"
    },
    {
     "data": {
      "application/vnd.jupyter.widget-view+json": {
       "model_id": "fd8c8df47e8a42ba80fd226df4d52700",
       "version_major": 2,
       "version_minor": 0
      },
      "text/plain": [
       "  0%|          | 0/250 [00:00<?, ?it/s]"
      ]
     },
     "metadata": {},
     "output_type": "display_data"
    },
    {
     "data": {
      "application/vnd.jupyter.widget-view+json": {
       "model_id": "42d4f2ad44a44454a60ed233bc6024ba",
       "version_major": 2,
       "version_minor": 0
      },
      "text/plain": [
       "  0%|          | 0/18 [00:00<?, ?it/s]"
      ]
     },
     "metadata": {},
     "output_type": "display_data"
    },
    {
     "data": {
      "application/vnd.jupyter.widget-view+json": {
       "model_id": "cbd3ff639eb04c39a4899e83c727b3ff",
       "version_major": 2,
       "version_minor": 0
      },
      "text/plain": [
       "  0%|          | 0/250 [00:00<?, ?it/s]"
      ]
     },
     "metadata": {},
     "output_type": "display_data"
    },
    {
     "data": {
      "application/vnd.jupyter.widget-view+json": {
       "model_id": "c0ed168cf4f14e2e81b90af840aaa8a9",
       "version_major": 2,
       "version_minor": 0
      },
      "text/plain": [
       "  0%|          | 0/250 [00:00<?, ?it/s]"
      ]
     },
     "metadata": {},
     "output_type": "display_data"
    },
    {
     "data": {
      "application/vnd.jupyter.widget-view+json": {
       "model_id": "d283a6d0e82f40ed988b9dd07ec0607e",
       "version_major": 2,
       "version_minor": 0
      },
      "text/plain": [
       "  0%|          | 0/18 [00:00<?, ?it/s]"
      ]
     },
     "metadata": {},
     "output_type": "display_data"
    },
    {
     "data": {
      "application/vnd.jupyter.widget-view+json": {
       "model_id": "f3b26b9ddb1d44998538b978cfe07c6f",
       "version_major": 2,
       "version_minor": 0
      },
      "text/plain": [
       "  0%|          | 0/250 [00:00<?, ?it/s]"
      ]
     },
     "metadata": {},
     "output_type": "display_data"
    },
    {
     "data": {
      "application/vnd.jupyter.widget-view+json": {
       "model_id": "de986dba86b54c61aa2f061825667cdc",
       "version_major": 2,
       "version_minor": 0
      },
      "text/plain": [
       "  0%|          | 0/250 [00:00<?, ?it/s]"
      ]
     },
     "metadata": {},
     "output_type": "display_data"
    },
    {
     "data": {
      "application/vnd.jupyter.widget-view+json": {
       "model_id": "f01d044c4f1747418c4605b4b1ac0252",
       "version_major": 2,
       "version_minor": 0
      },
      "text/plain": [
       "  0%|          | 0/18 [00:00<?, ?it/s]"
      ]
     },
     "metadata": {},
     "output_type": "display_data"
    },
    {
     "data": {
      "application/vnd.jupyter.widget-view+json": {
       "model_id": "28a3ee2182254d1fb4ab602e4b617998",
       "version_major": 2,
       "version_minor": 0
      },
      "text/plain": [
       "  0%|          | 0/250 [00:00<?, ?it/s]"
      ]
     },
     "metadata": {},
     "output_type": "display_data"
    },
    {
     "data": {
      "application/vnd.jupyter.widget-view+json": {
       "model_id": "40bf8531f8cf465abdcb3844db746839",
       "version_major": 2,
       "version_minor": 0
      },
      "text/plain": [
       "  0%|          | 0/250 [00:00<?, ?it/s]"
      ]
     },
     "metadata": {},
     "output_type": "display_data"
    },
    {
     "data": {
      "application/vnd.jupyter.widget-view+json": {
       "model_id": "eadd76e296114f2ba0cb41001961ef5b",
       "version_major": 2,
       "version_minor": 0
      },
      "text/plain": [
       "  0%|          | 0/18 [00:00<?, ?it/s]"
      ]
     },
     "metadata": {},
     "output_type": "display_data"
    },
    {
     "data": {
      "application/vnd.jupyter.widget-view+json": {
       "model_id": "a5d5062e6c394b359dffb3a656ef3273",
       "version_major": 2,
       "version_minor": 0
      },
      "text/plain": [
       "  0%|          | 0/250 [00:00<?, ?it/s]"
      ]
     },
     "metadata": {},
     "output_type": "display_data"
    },
    {
     "data": {
      "application/vnd.jupyter.widget-view+json": {
       "model_id": "6ef3703d4e404d02a1771fffe3769658",
       "version_major": 2,
       "version_minor": 0
      },
      "text/plain": [
       "  0%|          | 0/250 [00:00<?, ?it/s]"
      ]
     },
     "metadata": {},
     "output_type": "display_data"
    },
    {
     "data": {
      "application/vnd.jupyter.widget-view+json": {
       "model_id": "d64f24ff1eec44f5bf0c14517b78fb35",
       "version_major": 2,
       "version_minor": 0
      },
      "text/plain": [
       "  0%|          | 0/18 [00:00<?, ?it/s]"
      ]
     },
     "metadata": {},
     "output_type": "display_data"
    },
    {
     "data": {
      "application/vnd.jupyter.widget-view+json": {
       "model_id": "fff569ffb2514734a459bc3bdbc10ea6",
       "version_major": 2,
       "version_minor": 0
      },
      "text/plain": [
       "  0%|          | 0/250 [00:00<?, ?it/s]"
      ]
     },
     "metadata": {},
     "output_type": "display_data"
    },
    {
     "data": {
      "application/vnd.jupyter.widget-view+json": {
       "model_id": "b1777940b669494bbcc0c6aeea0fdf6b",
       "version_major": 2,
       "version_minor": 0
      },
      "text/plain": [
       "  0%|          | 0/250 [00:00<?, ?it/s]"
      ]
     },
     "metadata": {},
     "output_type": "display_data"
    },
    {
     "data": {
      "application/vnd.jupyter.widget-view+json": {
       "model_id": "46c86ca6456743999264841cb2cf6f99",
       "version_major": 2,
       "version_minor": 0
      },
      "text/plain": [
       "  0%|          | 0/18 [00:00<?, ?it/s]"
      ]
     },
     "metadata": {},
     "output_type": "display_data"
    },
    {
     "data": {
      "application/vnd.jupyter.widget-view+json": {
       "model_id": "20c74472716e42458a73887867f197eb",
       "version_major": 2,
       "version_minor": 0
      },
      "text/plain": [
       "  0%|          | 0/250 [00:00<?, ?it/s]"
      ]
     },
     "metadata": {},
     "output_type": "display_data"
    },
    {
     "data": {
      "application/vnd.jupyter.widget-view+json": {
       "model_id": "f98914fd8d244f35ad459b8020799d58",
       "version_major": 2,
       "version_minor": 0
      },
      "text/plain": [
       "  0%|          | 0/250 [00:00<?, ?it/s]"
      ]
     },
     "metadata": {},
     "output_type": "display_data"
    },
    {
     "data": {
      "application/vnd.jupyter.widget-view+json": {
       "model_id": "3f08b8869a944ab397c4a91570833528",
       "version_major": 2,
       "version_minor": 0
      },
      "text/plain": [
       "  0%|          | 0/18 [00:00<?, ?it/s]"
      ]
     },
     "metadata": {},
     "output_type": "display_data"
    },
    {
     "data": {
      "application/vnd.jupyter.widget-view+json": {
       "model_id": "ab621f211c4d4d53ad6b82827fe3f2b0",
       "version_major": 2,
       "version_minor": 0
      },
      "text/plain": [
       "  0%|          | 0/250 [00:00<?, ?it/s]"
      ]
     },
     "metadata": {},
     "output_type": "display_data"
    },
    {
     "data": {
      "application/vnd.jupyter.widget-view+json": {
       "model_id": "31467fbb84174b2a9d84bd838b7d1f00",
       "version_major": 2,
       "version_minor": 0
      },
      "text/plain": [
       "  0%|          | 0/250 [00:00<?, ?it/s]"
      ]
     },
     "metadata": {},
     "output_type": "display_data"
    },
    {
     "data": {
      "application/vnd.jupyter.widget-view+json": {
       "model_id": "1eff32d68f98499584b5fe49f5704583",
       "version_major": 2,
       "version_minor": 0
      },
      "text/plain": [
       "  0%|          | 0/18 [00:00<?, ?it/s]"
      ]
     },
     "metadata": {},
     "output_type": "display_data"
    },
    {
     "data": {
      "application/vnd.jupyter.widget-view+json": {
       "model_id": "45d668e91ffe44fc8630cf70a36eb080",
       "version_major": 2,
       "version_minor": 0
      },
      "text/plain": [
       "  0%|          | 0/250 [00:00<?, ?it/s]"
      ]
     },
     "metadata": {},
     "output_type": "display_data"
    },
    {
     "name": "stderr",
     "output_type": "stream",
     "text": [
      "/tmp/ipykernel_19302/1165566213.py:139: RuntimeWarning: More than 20 figures have been opened. Figures created through the pyplot interface (`matplotlib.pyplot.figure`) are retained until explicitly closed and may consume too much memory. (To control this warning, see the rcParam `figure.max_open_warning`). Consider using `matplotlib.pyplot.close()`.\n",
      "  fig          = plt.figure(figsize=(20, 20))\n"
     ]
    },
    {
     "data": {
      "application/vnd.jupyter.widget-view+json": {
       "model_id": "a6a4d24fa8f9429bae9be30b74e16b1d",
       "version_major": 2,
       "version_minor": 0
      },
      "text/plain": [
       "  0%|          | 0/250 [00:00<?, ?it/s]"
      ]
     },
     "metadata": {},
     "output_type": "display_data"
    },
    {
     "data": {
      "application/vnd.jupyter.widget-view+json": {
       "model_id": "4322f448db374f3aab26a44b47ec544e",
       "version_major": 2,
       "version_minor": 0
      },
      "text/plain": [
       "  0%|          | 0/18 [00:00<?, ?it/s]"
      ]
     },
     "metadata": {},
     "output_type": "display_data"
    },
    {
     "data": {
      "application/vnd.jupyter.widget-view+json": {
       "model_id": "508f0c28aeb749b99542be46b2b38d20",
       "version_major": 2,
       "version_minor": 0
      },
      "text/plain": [
       "  0%|          | 0/250 [00:00<?, ?it/s]"
      ]
     },
     "metadata": {},
     "output_type": "display_data"
    },
    {
     "data": {
      "application/vnd.jupyter.widget-view+json": {
       "model_id": "42a4b16af92a46fb903c551a9076068d",
       "version_major": 2,
       "version_minor": 0
      },
      "text/plain": [
       "  0%|          | 0/250 [00:00<?, ?it/s]"
      ]
     },
     "metadata": {},
     "output_type": "display_data"
    },
    {
     "data": {
      "application/vnd.jupyter.widget-view+json": {
       "model_id": "87bb9292d8b544d291cba8ef1bffb089",
       "version_major": 2,
       "version_minor": 0
      },
      "text/plain": [
       "  0%|          | 0/18 [00:00<?, ?it/s]"
      ]
     },
     "metadata": {},
     "output_type": "display_data"
    },
    {
     "data": {
      "application/vnd.jupyter.widget-view+json": {
       "model_id": "3389d02290e04e78a85a18408f53aeda",
       "version_major": 2,
       "version_minor": 0
      },
      "text/plain": [
       "  0%|          | 0/250 [00:00<?, ?it/s]"
      ]
     },
     "metadata": {},
     "output_type": "display_data"
    },
    {
     "data": {
      "application/vnd.jupyter.widget-view+json": {
       "model_id": "8c3fb6c1ccd54364ac5298a0b771e463",
       "version_major": 2,
       "version_minor": 0
      },
      "text/plain": [
       "  0%|          | 0/250 [00:00<?, ?it/s]"
      ]
     },
     "metadata": {},
     "output_type": "display_data"
    },
    {
     "data": {
      "application/vnd.jupyter.widget-view+json": {
       "model_id": "f30cbea117be42688d0234d291d3cca7",
       "version_major": 2,
       "version_minor": 0
      },
      "text/plain": [
       "  0%|          | 0/18 [00:00<?, ?it/s]"
      ]
     },
     "metadata": {},
     "output_type": "display_data"
    },
    {
     "data": {
      "application/vnd.jupyter.widget-view+json": {
       "model_id": "eaba93d0cd6b42c0b55a3ff089da453a",
       "version_major": 2,
       "version_minor": 0
      },
      "text/plain": [
       "  0%|          | 0/250 [00:00<?, ?it/s]"
      ]
     },
     "metadata": {},
     "output_type": "display_data"
    },
    {
     "data": {
      "application/vnd.jupyter.widget-view+json": {
       "model_id": "5a44bfc6d6894dd7a2fa88189b76756e",
       "version_major": 2,
       "version_minor": 0
      },
      "text/plain": [
       "  0%|          | 0/250 [00:00<?, ?it/s]"
      ]
     },
     "metadata": {},
     "output_type": "display_data"
    },
    {
     "data": {
      "application/vnd.jupyter.widget-view+json": {
       "model_id": "57065184cd9e41908057baef62acc7c9",
       "version_major": 2,
       "version_minor": 0
      },
      "text/plain": [
       "  0%|          | 0/18 [00:00<?, ?it/s]"
      ]
     },
     "metadata": {},
     "output_type": "display_data"
    },
    {
     "data": {
      "application/vnd.jupyter.widget-view+json": {
       "model_id": "4e20385e12764203bfa3ddda0620f122",
       "version_major": 2,
       "version_minor": 0
      },
      "text/plain": [
       "  0%|          | 0/250 [00:00<?, ?it/s]"
      ]
     },
     "metadata": {},
     "output_type": "display_data"
    },
    {
     "data": {
      "application/vnd.jupyter.widget-view+json": {
       "model_id": "ffe47e219e9c47d4a8a722c1d6a4d123",
       "version_major": 2,
       "version_minor": 0
      },
      "text/plain": [
       "  0%|          | 0/250 [00:00<?, ?it/s]"
      ]
     },
     "metadata": {},
     "output_type": "display_data"
    },
    {
     "data": {
      "application/vnd.jupyter.widget-view+json": {
       "model_id": "449837987fda41de8cc9c5facb18816c",
       "version_major": 2,
       "version_minor": 0
      },
      "text/plain": [
       "  0%|          | 0/18 [00:00<?, ?it/s]"
      ]
     },
     "metadata": {},
     "output_type": "display_data"
    },
    {
     "data": {
      "application/vnd.jupyter.widget-view+json": {
       "model_id": "6bc6b55f7abd4f01a00fcf7684667520",
       "version_major": 2,
       "version_minor": 0
      },
      "text/plain": [
       "  0%|          | 0/250 [00:00<?, ?it/s]"
      ]
     },
     "metadata": {},
     "output_type": "display_data"
    },
    {
     "name": "stdout",
     "output_type": "stream",
     "text": [
      "Optimisation failed for t = 44\n",
      "ABNORMAL_TERMINATION_IN_LNSRCH\n"
     ]
    },
    {
     "data": {
      "application/vnd.jupyter.widget-view+json": {
       "model_id": "688ccc195e0f48e688eadef41c4e2563",
       "version_major": 2,
       "version_minor": 0
      },
      "text/plain": [
       "  0%|          | 0/250 [00:00<?, ?it/s]"
      ]
     },
     "metadata": {},
     "output_type": "display_data"
    },
    {
     "data": {
      "application/vnd.jupyter.widget-view+json": {
       "model_id": "1c6c1567afb14b7584715844d0f0d1c8",
       "version_major": 2,
       "version_minor": 0
      },
      "text/plain": [
       "  0%|          | 0/18 [00:00<?, ?it/s]"
      ]
     },
     "metadata": {},
     "output_type": "display_data"
    },
    {
     "data": {
      "application/vnd.jupyter.widget-view+json": {
       "model_id": "b6cddc503def46908071dc140b8bc852",
       "version_major": 2,
       "version_minor": 0
      },
      "text/plain": [
       "  0%|          | 0/250 [00:00<?, ?it/s]"
      ]
     },
     "metadata": {},
     "output_type": "display_data"
    },
    {
     "data": {
      "application/vnd.jupyter.widget-view+json": {
       "model_id": "79531ebadeb647918a8e6f7fd866bc87",
       "version_major": 2,
       "version_minor": 0
      },
      "text/plain": [
       "  0%|          | 0/250 [00:00<?, ?it/s]"
      ]
     },
     "metadata": {},
     "output_type": "display_data"
    },
    {
     "data": {
      "application/vnd.jupyter.widget-view+json": {
       "model_id": "6849dd927ab746199129e07f869892d3",
       "version_major": 2,
       "version_minor": 0
      },
      "text/plain": [
       "  0%|          | 0/18 [00:00<?, ?it/s]"
      ]
     },
     "metadata": {},
     "output_type": "display_data"
    },
    {
     "data": {
      "application/vnd.jupyter.widget-view+json": {
       "model_id": "06f0ff76b49141be8268853c7778a5d4",
       "version_major": 2,
       "version_minor": 0
      },
      "text/plain": [
       "  0%|          | 0/250 [00:00<?, ?it/s]"
      ]
     },
     "metadata": {},
     "output_type": "display_data"
    },
    {
     "data": {
      "application/vnd.jupyter.widget-view+json": {
       "model_id": "2ce16ebac90e4caf87729ae53c2129d7",
       "version_major": 2,
       "version_minor": 0
      },
      "text/plain": [
       "  0%|          | 0/250 [00:00<?, ?it/s]"
      ]
     },
     "metadata": {},
     "output_type": "display_data"
    },
    {
     "data": {
      "application/vnd.jupyter.widget-view+json": {
       "model_id": "7322aa5e769f48f4a3fe2c53ecc6883d",
       "version_major": 2,
       "version_minor": 0
      },
      "text/plain": [
       "  0%|          | 0/18 [00:00<?, ?it/s]"
      ]
     },
     "metadata": {},
     "output_type": "display_data"
    },
    {
     "data": {
      "application/vnd.jupyter.widget-view+json": {
       "model_id": "a804ca27dd654117bb1efc49bfe1c689",
       "version_major": 2,
       "version_minor": 0
      },
      "text/plain": [
       "  0%|          | 0/250 [00:00<?, ?it/s]"
      ]
     },
     "metadata": {},
     "output_type": "display_data"
    },
    {
     "data": {
      "application/vnd.jupyter.widget-view+json": {
       "model_id": "e099c27f676042b5ac8bb822738067b4",
       "version_major": 2,
       "version_minor": 0
      },
      "text/plain": [
       "  0%|          | 0/250 [00:00<?, ?it/s]"
      ]
     },
     "metadata": {},
     "output_type": "display_data"
    },
    {
     "data": {
      "application/vnd.jupyter.widget-view+json": {
       "model_id": "60062938e605476d826af97f6289a301",
       "version_major": 2,
       "version_minor": 0
      },
      "text/plain": [
       "  0%|          | 0/18 [00:00<?, ?it/s]"
      ]
     },
     "metadata": {},
     "output_type": "display_data"
    },
    {
     "data": {
      "application/vnd.jupyter.widget-view+json": {
       "model_id": "200d554f8bb342299d957978daf44109",
       "version_major": 2,
       "version_minor": 0
      },
      "text/plain": [
       "  0%|          | 0/250 [00:00<?, ?it/s]"
      ]
     },
     "metadata": {},
     "output_type": "display_data"
    },
    {
     "data": {
      "application/vnd.jupyter.widget-view+json": {
       "model_id": "46bd0f1b9743452a8c5f0931d6babb64",
       "version_major": 2,
       "version_minor": 0
      },
      "text/plain": [
       "  0%|          | 0/250 [00:00<?, ?it/s]"
      ]
     },
     "metadata": {},
     "output_type": "display_data"
    },
    {
     "data": {
      "application/vnd.jupyter.widget-view+json": {
       "model_id": "354bb4d5f8ed437cb73e3a303e76ca3f",
       "version_major": 2,
       "version_minor": 0
      },
      "text/plain": [
       "  0%|          | 0/18 [00:00<?, ?it/s]"
      ]
     },
     "metadata": {},
     "output_type": "display_data"
    },
    {
     "data": {
      "application/vnd.jupyter.widget-view+json": {
       "model_id": "3d77a64e2c8c42e6b795a491d5676934",
       "version_major": 2,
       "version_minor": 0
      },
      "text/plain": [
       "  0%|          | 0/250 [00:00<?, ?it/s]"
      ]
     },
     "metadata": {},
     "output_type": "display_data"
    },
    {
     "data": {
      "application/vnd.jupyter.widget-view+json": {
       "model_id": "256b65ebb698435aa17c65e359caa013",
       "version_major": 2,
       "version_minor": 0
      },
      "text/plain": [
       "  0%|          | 0/250 [00:00<?, ?it/s]"
      ]
     },
     "metadata": {},
     "output_type": "display_data"
    },
    {
     "data": {
      "application/vnd.jupyter.widget-view+json": {
       "model_id": "d532d1818dc1430283365e58e216176f",
       "version_major": 2,
       "version_minor": 0
      },
      "text/plain": [
       "  0%|          | 0/18 [00:00<?, ?it/s]"
      ]
     },
     "metadata": {},
     "output_type": "display_data"
    },
    {
     "data": {
      "application/vnd.jupyter.widget-view+json": {
       "model_id": "4faf5c302430473f972b831f3d6cf46a",
       "version_major": 2,
       "version_minor": 0
      },
      "text/plain": [
       "  0%|          | 0/250 [00:00<?, ?it/s]"
      ]
     },
     "metadata": {},
     "output_type": "display_data"
    },
    {
     "data": {
      "application/vnd.jupyter.widget-view+json": {
       "model_id": "5c644bf2e7324204ae4a1e948f95e311",
       "version_major": 2,
       "version_minor": 0
      },
      "text/plain": [
       "  0%|          | 0/250 [00:00<?, ?it/s]"
      ]
     },
     "metadata": {},
     "output_type": "display_data"
    },
    {
     "data": {
      "application/vnd.jupyter.widget-view+json": {
       "model_id": "58a137278bb8461f88fb644a9c114a49",
       "version_major": 2,
       "version_minor": 0
      },
      "text/plain": [
       "  0%|          | 0/18 [00:00<?, ?it/s]"
      ]
     },
     "metadata": {},
     "output_type": "display_data"
    },
    {
     "data": {
      "application/vnd.jupyter.widget-view+json": {
       "model_id": "938da004b62f49729780503b2aa0fafa",
       "version_major": 2,
       "version_minor": 0
      },
      "text/plain": [
       "  0%|          | 0/250 [00:00<?, ?it/s]"
      ]
     },
     "metadata": {},
     "output_type": "display_data"
    },
    {
     "data": {
      "application/vnd.jupyter.widget-view+json": {
       "model_id": "bf5b4665f1a649938916cc4df396bfe7",
       "version_major": 2,
       "version_minor": 0
      },
      "text/plain": [
       "  0%|          | 0/250 [00:00<?, ?it/s]"
      ]
     },
     "metadata": {},
     "output_type": "display_data"
    },
    {
     "data": {
      "application/vnd.jupyter.widget-view+json": {
       "model_id": "104635c0d6684489b5e093319cf7b2ab",
       "version_major": 2,
       "version_minor": 0
      },
      "text/plain": [
       "  0%|          | 0/18 [00:00<?, ?it/s]"
      ]
     },
     "metadata": {},
     "output_type": "display_data"
    },
    {
     "data": {
      "application/vnd.jupyter.widget-view+json": {
       "model_id": "f76f430d5f004b2fa6ee194ac0711183",
       "version_major": 2,
       "version_minor": 0
      },
      "text/plain": [
       "  0%|          | 0/250 [00:00<?, ?it/s]"
      ]
     },
     "metadata": {},
     "output_type": "display_data"
    },
    {
     "data": {
      "application/vnd.jupyter.widget-view+json": {
       "model_id": "43c957189c5b406ea3b6c568e1ae96fd",
       "version_major": 2,
       "version_minor": 0
      },
      "text/plain": [
       "  0%|          | 0/250 [00:00<?, ?it/s]"
      ]
     },
     "metadata": {},
     "output_type": "display_data"
    },
    {
     "data": {
      "application/vnd.jupyter.widget-view+json": {
       "model_id": "c1552ad250e04da18177562a2e00e8f5",
       "version_major": 2,
       "version_minor": 0
      },
      "text/plain": [
       "  0%|          | 0/18 [00:00<?, ?it/s]"
      ]
     },
     "metadata": {},
     "output_type": "display_data"
    },
    {
     "data": {
      "application/vnd.jupyter.widget-view+json": {
       "model_id": "39bb96b01fe244e7b471b5f1663c9773",
       "version_major": 2,
       "version_minor": 0
      },
      "text/plain": [
       "  0%|          | 0/250 [00:00<?, ?it/s]"
      ]
     },
     "metadata": {},
     "output_type": "display_data"
    },
    {
     "data": {
      "application/vnd.jupyter.widget-view+json": {
       "model_id": "807c5b0a71ea4fc8a19ad5610e423f85",
       "version_major": 2,
       "version_minor": 0
      },
      "text/plain": [
       "  0%|          | 0/250 [00:00<?, ?it/s]"
      ]
     },
     "metadata": {},
     "output_type": "display_data"
    },
    {
     "data": {
      "application/vnd.jupyter.widget-view+json": {
       "model_id": "d9a063cf1c4b49b88a49622c2dc04b56",
       "version_major": 2,
       "version_minor": 0
      },
      "text/plain": [
       "  0%|          | 0/18 [00:00<?, ?it/s]"
      ]
     },
     "metadata": {},
     "output_type": "display_data"
    },
    {
     "data": {
      "application/vnd.jupyter.widget-view+json": {
       "model_id": "263771c8176940a59224957c572a9f5a",
       "version_major": 2,
       "version_minor": 0
      },
      "text/plain": [
       "  0%|          | 0/250 [00:00<?, ?it/s]"
      ]
     },
     "metadata": {},
     "output_type": "display_data"
    },
    {
     "data": {
      "application/vnd.jupyter.widget-view+json": {
       "model_id": "8485b56c639f4fc5a3b495ace0d782c8",
       "version_major": 2,
       "version_minor": 0
      },
      "text/plain": [
       "  0%|          | 0/250 [00:00<?, ?it/s]"
      ]
     },
     "metadata": {},
     "output_type": "display_data"
    },
    {
     "data": {
      "application/vnd.jupyter.widget-view+json": {
       "model_id": "4bba7b4edee64c6980fd4c47f4b2f95d",
       "version_major": 2,
       "version_minor": 0
      },
      "text/plain": [
       "  0%|          | 0/18 [00:00<?, ?it/s]"
      ]
     },
     "metadata": {},
     "output_type": "display_data"
    },
    {
     "data": {
      "application/vnd.jupyter.widget-view+json": {
       "model_id": "3ee19ff201a3466384e2eb2655d2938e",
       "version_major": 2,
       "version_minor": 0
      },
      "text/plain": [
       "  0%|          | 0/250 [00:00<?, ?it/s]"
      ]
     },
     "metadata": {},
     "output_type": "display_data"
    },
    {
     "data": {
      "application/vnd.jupyter.widget-view+json": {
       "model_id": "fab0c311647e4f00b94741592b4304ed",
       "version_major": 2,
       "version_minor": 0
      },
      "text/plain": [
       "  0%|          | 0/250 [00:00<?, ?it/s]"
      ]
     },
     "metadata": {},
     "output_type": "display_data"
    },
    {
     "data": {
      "application/vnd.jupyter.widget-view+json": {
       "model_id": "2c32a56f95cb43a1be2ac0b5f12c6f92",
       "version_major": 2,
       "version_minor": 0
      },
      "text/plain": [
       "  0%|          | 0/18 [00:00<?, ?it/s]"
      ]
     },
     "metadata": {},
     "output_type": "display_data"
    },
    {
     "data": {
      "application/vnd.jupyter.widget-view+json": {
       "model_id": "d80e8b471daa43b3b6a01997f1eb958c",
       "version_major": 2,
       "version_minor": 0
      },
      "text/plain": [
       "  0%|          | 0/250 [00:00<?, ?it/s]"
      ]
     },
     "metadata": {},
     "output_type": "display_data"
    },
    {
     "data": {
      "application/vnd.jupyter.widget-view+json": {
       "model_id": "43563196a4784cd4b981f58ab16917d7",
       "version_major": 2,
       "version_minor": 0
      },
      "text/plain": [
       "  0%|          | 0/250 [00:00<?, ?it/s]"
      ]
     },
     "metadata": {},
     "output_type": "display_data"
    },
    {
     "data": {
      "application/vnd.jupyter.widget-view+json": {
       "model_id": "b9edaf0ba2404daf92896a7deac35c65",
       "version_major": 2,
       "version_minor": 0
      },
      "text/plain": [
       "  0%|          | 0/18 [00:00<?, ?it/s]"
      ]
     },
     "metadata": {},
     "output_type": "display_data"
    },
    {
     "data": {
      "application/vnd.jupyter.widget-view+json": {
       "model_id": "0a557641823a470d96c20fb6b358c865",
       "version_major": 2,
       "version_minor": 0
      },
      "text/plain": [
       "  0%|          | 0/250 [00:00<?, ?it/s]"
      ]
     },
     "metadata": {},
     "output_type": "display_data"
    },
    {
     "data": {
      "application/vnd.jupyter.widget-view+json": {
       "model_id": "b0b20dd64c7a418ab2d26ee34f5def55",
       "version_major": 2,
       "version_minor": 0
      },
      "text/plain": [
       "  0%|          | 0/250 [00:00<?, ?it/s]"
      ]
     },
     "metadata": {},
     "output_type": "display_data"
    },
    {
     "data": {
      "application/vnd.jupyter.widget-view+json": {
       "model_id": "c19166eac739423fb673b64c21066a6d",
       "version_major": 2,
       "version_minor": 0
      },
      "text/plain": [
       "  0%|          | 0/18 [00:00<?, ?it/s]"
      ]
     },
     "metadata": {},
     "output_type": "display_data"
    },
    {
     "data": {
      "application/vnd.jupyter.widget-view+json": {
       "model_id": "57b78f064b3d47f1a3d1e5fb6ba476f0",
       "version_major": 2,
       "version_minor": 0
      },
      "text/plain": [
       "  0%|          | 0/250 [00:00<?, ?it/s]"
      ]
     },
     "metadata": {},
     "output_type": "display_data"
    },
    {
     "data": {
      "application/vnd.jupyter.widget-view+json": {
       "model_id": "174bbe4cc056458aa0bcb16b8c1eff09",
       "version_major": 2,
       "version_minor": 0
      },
      "text/plain": [
       "  0%|          | 0/250 [00:00<?, ?it/s]"
      ]
     },
     "metadata": {},
     "output_type": "display_data"
    },
    {
     "data": {
      "application/vnd.jupyter.widget-view+json": {
       "model_id": "0042aa7631334ca5907fac6cee33efe8",
       "version_major": 2,
       "version_minor": 0
      },
      "text/plain": [
       "  0%|          | 0/18 [00:00<?, ?it/s]"
      ]
     },
     "metadata": {},
     "output_type": "display_data"
    },
    {
     "data": {
      "application/vnd.jupyter.widget-view+json": {
       "model_id": "ba6c7f76307d43a0b88c50278f39fe4a",
       "version_major": 2,
       "version_minor": 0
      },
      "text/plain": [
       "  0%|          | 0/250 [00:00<?, ?it/s]"
      ]
     },
     "metadata": {},
     "output_type": "display_data"
    },
    {
     "data": {
      "application/vnd.jupyter.widget-view+json": {
       "model_id": "24901f4c07674dd0a39ba40ef30fc40e",
       "version_major": 2,
       "version_minor": 0
      },
      "text/plain": [
       "  0%|          | 0/250 [00:00<?, ?it/s]"
      ]
     },
     "metadata": {},
     "output_type": "display_data"
    },
    {
     "data": {
      "application/vnd.jupyter.widget-view+json": {
       "model_id": "c50d8b1e98014681b6db100edb7b39f9",
       "version_major": 2,
       "version_minor": 0
      },
      "text/plain": [
       "  0%|          | 0/18 [00:00<?, ?it/s]"
      ]
     },
     "metadata": {},
     "output_type": "display_data"
    },
    {
     "data": {
      "application/vnd.jupyter.widget-view+json": {
       "model_id": "727fe931f8c145a8aaf426570356b468",
       "version_major": 2,
       "version_minor": 0
      },
      "text/plain": [
       "  0%|          | 0/250 [00:00<?, ?it/s]"
      ]
     },
     "metadata": {},
     "output_type": "display_data"
    },
    {
     "data": {
      "application/vnd.jupyter.widget-view+json": {
       "model_id": "a42dd6e601db47478178915e7c1df1ba",
       "version_major": 2,
       "version_minor": 0
      },
      "text/plain": [
       "  0%|          | 0/250 [00:00<?, ?it/s]"
      ]
     },
     "metadata": {},
     "output_type": "display_data"
    },
    {
     "data": {
      "application/vnd.jupyter.widget-view+json": {
       "model_id": "391b6b09879d4f5ba85241a574c6faf1",
       "version_major": 2,
       "version_minor": 0
      },
      "text/plain": [
       "  0%|          | 0/18 [00:00<?, ?it/s]"
      ]
     },
     "metadata": {},
     "output_type": "display_data"
    },
    {
     "data": {
      "application/vnd.jupyter.widget-view+json": {
       "model_id": "999f3f435e3243c1bd4a110303901530",
       "version_major": 2,
       "version_minor": 0
      },
      "text/plain": [
       "  0%|          | 0/250 [00:00<?, ?it/s]"
      ]
     },
     "metadata": {},
     "output_type": "display_data"
    },
    {
     "data": {
      "application/vnd.jupyter.widget-view+json": {
       "model_id": "8e5dd069eb494ca8aff3126743b00050",
       "version_major": 2,
       "version_minor": 0
      },
      "text/plain": [
       "  0%|          | 0/250 [00:00<?, ?it/s]"
      ]
     },
     "metadata": {},
     "output_type": "display_data"
    },
    {
     "data": {
      "application/vnd.jupyter.widget-view+json": {
       "model_id": "642cd91e24a741518d0bd874f070105c",
       "version_major": 2,
       "version_minor": 0
      },
      "text/plain": [
       "  0%|          | 0/18 [00:00<?, ?it/s]"
      ]
     },
     "metadata": {},
     "output_type": "display_data"
    },
    {
     "data": {
      "application/vnd.jupyter.widget-view+json": {
       "model_id": "0cdc824ef9ce44a3b661ec65636faab3",
       "version_major": 2,
       "version_minor": 0
      },
      "text/plain": [
       "  0%|          | 0/250 [00:00<?, ?it/s]"
      ]
     },
     "metadata": {},
     "output_type": "display_data"
    },
    {
     "data": {
      "application/vnd.jupyter.widget-view+json": {
       "model_id": "736417a333b6498789922d30c39f6fb9",
       "version_major": 2,
       "version_minor": 0
      },
      "text/plain": [
       "  0%|          | 0/250 [00:00<?, ?it/s]"
      ]
     },
     "metadata": {},
     "output_type": "display_data"
    },
    {
     "data": {
      "application/vnd.jupyter.widget-view+json": {
       "model_id": "b4bcd9ababd8412287bce2c17d4899d1",
       "version_major": 2,
       "version_minor": 0
      },
      "text/plain": [
       "  0%|          | 0/18 [00:00<?, ?it/s]"
      ]
     },
     "metadata": {},
     "output_type": "display_data"
    },
    {
     "data": {
      "application/vnd.jupyter.widget-view+json": {
       "model_id": "ab78676d6d4543978cf408593aaf621d",
       "version_major": 2,
       "version_minor": 0
      },
      "text/plain": [
       "  0%|          | 0/250 [00:00<?, ?it/s]"
      ]
     },
     "metadata": {},
     "output_type": "display_data"
    },
    {
     "data": {
      "application/vnd.jupyter.widget-view+json": {
       "model_id": "a780b1f0cc7141dfb784e08e7c6d6f52",
       "version_major": 2,
       "version_minor": 0
      },
      "text/plain": [
       "  0%|          | 0/250 [00:00<?, ?it/s]"
      ]
     },
     "metadata": {},
     "output_type": "display_data"
    },
    {
     "data": {
      "application/vnd.jupyter.widget-view+json": {
       "model_id": "c78b2ffe57df4e9395d41e757667e5f6",
       "version_major": 2,
       "version_minor": 0
      },
      "text/plain": [
       "  0%|          | 0/18 [00:00<?, ?it/s]"
      ]
     },
     "metadata": {},
     "output_type": "display_data"
    },
    {
     "data": {
      "application/vnd.jupyter.widget-view+json": {
       "model_id": "de3f56172b23420e9655d4ca6c4d9bbb",
       "version_major": 2,
       "version_minor": 0
      },
      "text/plain": [
       "  0%|          | 0/250 [00:00<?, ?it/s]"
      ]
     },
     "metadata": {},
     "output_type": "display_data"
    },
    {
     "data": {
      "application/vnd.jupyter.widget-view+json": {
       "model_id": "dd5a91f570024f25ad9317e72febd5fa",
       "version_major": 2,
       "version_minor": 0
      },
      "text/plain": [
       "  0%|          | 0/250 [00:00<?, ?it/s]"
      ]
     },
     "metadata": {},
     "output_type": "display_data"
    },
    {
     "data": {
      "application/vnd.jupyter.widget-view+json": {
       "model_id": "aa7e6c6b25474251a95f263b8217f65e",
       "version_major": 2,
       "version_minor": 0
      },
      "text/plain": [
       "  0%|          | 0/18 [00:00<?, ?it/s]"
      ]
     },
     "metadata": {},
     "output_type": "display_data"
    },
    {
     "data": {
      "application/vnd.jupyter.widget-view+json": {
       "model_id": "484ac98481924d7486fa76a2cfefa584",
       "version_major": 2,
       "version_minor": 0
      },
      "text/plain": [
       "  0%|          | 0/250 [00:00<?, ?it/s]"
      ]
     },
     "metadata": {},
     "output_type": "display_data"
    },
    {
     "data": {
      "application/vnd.jupyter.widget-view+json": {
       "model_id": "97c67a84361b4bb492b157f92c7c30ad",
       "version_major": 2,
       "version_minor": 0
      },
      "text/plain": [
       "  0%|          | 0/250 [00:00<?, ?it/s]"
      ]
     },
     "metadata": {},
     "output_type": "display_data"
    },
    {
     "data": {
      "application/vnd.jupyter.widget-view+json": {
       "model_id": "7496c97caee344a594978614722b8329",
       "version_major": 2,
       "version_minor": 0
      },
      "text/plain": [
       "  0%|          | 0/18 [00:00<?, ?it/s]"
      ]
     },
     "metadata": {},
     "output_type": "display_data"
    },
    {
     "data": {
      "application/vnd.jupyter.widget-view+json": {
       "model_id": "c5546a9f7e7346aea86b34e0b617328e",
       "version_major": 2,
       "version_minor": 0
      },
      "text/plain": [
       "  0%|          | 0/250 [00:00<?, ?it/s]"
      ]
     },
     "metadata": {},
     "output_type": "display_data"
    },
    {
     "data": {
      "application/vnd.jupyter.widget-view+json": {
       "model_id": "b5b64acd2249469c8c0adf31032ee461",
       "version_major": 2,
       "version_minor": 0
      },
      "text/plain": [
       "  0%|          | 0/250 [00:00<?, ?it/s]"
      ]
     },
     "metadata": {},
     "output_type": "display_data"
    },
    {
     "data": {
      "application/vnd.jupyter.widget-view+json": {
       "model_id": "6925de79ea4448b98aafb36331e3c8d6",
       "version_major": 2,
       "version_minor": 0
      },
      "text/plain": [
       "  0%|          | 0/18 [00:00<?, ?it/s]"
      ]
     },
     "metadata": {},
     "output_type": "display_data"
    },
    {
     "data": {
      "application/vnd.jupyter.widget-view+json": {
       "model_id": "2233516f7f8c4166b1715440d8587c12",
       "version_major": 2,
       "version_minor": 0
      },
      "text/plain": [
       "  0%|          | 0/250 [00:00<?, ?it/s]"
      ]
     },
     "metadata": {},
     "output_type": "display_data"
    },
    {
     "data": {
      "application/vnd.jupyter.widget-view+json": {
       "model_id": "c751e630396844f8a55c83ea294d4203",
       "version_major": 2,
       "version_minor": 0
      },
      "text/plain": [
       "  0%|          | 0/250 [00:00<?, ?it/s]"
      ]
     },
     "metadata": {},
     "output_type": "display_data"
    },
    {
     "data": {
      "application/vnd.jupyter.widget-view+json": {
       "model_id": "462674a4a53f4241962de8df3f475f42",
       "version_major": 2,
       "version_minor": 0
      },
      "text/plain": [
       "  0%|          | 0/18 [00:00<?, ?it/s]"
      ]
     },
     "metadata": {},
     "output_type": "display_data"
    },
    {
     "data": {
      "application/vnd.jupyter.widget-view+json": {
       "model_id": "8ae2b063c3814f09bfb3215e6a57827c",
       "version_major": 2,
       "version_minor": 0
      },
      "text/plain": [
       "  0%|          | 0/250 [00:00<?, ?it/s]"
      ]
     },
     "metadata": {},
     "output_type": "display_data"
    },
    {
     "ename": "KeyboardInterrupt",
     "evalue": "",
     "output_type": "error",
     "traceback": [
      "\u001b[0;31m---------------------------------------------------------------------------\u001b[0m",
      "\u001b[0;31mKeyboardInterrupt\u001b[0m                         Traceback (most recent call last)",
      "Cell \u001b[0;32mIn[11], line 152\u001b[0m\n\u001b[1;32m    150\u001b[0m dr, th       \u001b[38;5;241m=\u001b[39m np\u001b[38;5;241m.\u001b[39mmeshgrid(dsp\u001b[38;5;241m.\u001b[39mrad, np\u001b[38;5;241m.\u001b[39mdeg2rad(dsp\u001b[38;5;241m.\u001b[39mtheta))\n\u001b[1;32m    151\u001b[0m ds_x, ds_y   \u001b[38;5;241m=\u001b[39m pol2cart(dr, th)\n\u001b[0;32m--> 152\u001b[0m ws_car       \u001b[38;5;241m=\u001b[39m \u001b[43mgriddata\u001b[49m\u001b[43m(\u001b[49m\u001b[43m(\u001b[49m\u001b[43mds_x\u001b[49m\u001b[38;5;241;43m.\u001b[39;49m\u001b[43mflatten\u001b[49m\u001b[43m(\u001b[49m\u001b[43m)\u001b[49m\u001b[43m,\u001b[49m\u001b[43m \u001b[49m\u001b[43mds_y\u001b[49m\u001b[38;5;241;43m.\u001b[39;49m\u001b[43mflatten\u001b[49m\u001b[43m(\u001b[49m\u001b[43m)\u001b[49m\u001b[43m)\u001b[49m\u001b[43m,\u001b[49m\u001b[43m \u001b[49m\u001b[43mnp\u001b[49m\u001b[38;5;241;43m.\u001b[39;49m\u001b[43marray\u001b[49m\u001b[43m(\u001b[49m\u001b[43mdsp\u001b[49m\u001b[38;5;241;43m.\u001b[39;49m\u001b[43mwind_speed\u001b[49m\u001b[38;5;241;43m.\u001b[39;49m\u001b[43mtranspose\u001b[49m\u001b[43m(\u001b[49m\u001b[43m)\u001b[49m\u001b[43m)\u001b[49m\u001b[38;5;241;43m.\u001b[39;49m\u001b[43mflatten\u001b[49m\u001b[43m(\u001b[49m\u001b[43m)\u001b[49m\u001b[43m,\u001b[49m\u001b[43m \u001b[49m\u001b[43m(\u001b[49m\u001b[43mx_ref\u001b[49m\u001b[43m,\u001b[49m\u001b[43m \u001b[49m\u001b[43my_ref\u001b[49m\u001b[43m)\u001b[49m\u001b[43m,\u001b[49m\u001b[43m \u001b[49m\u001b[43mmethod\u001b[49m\u001b[38;5;241;43m=\u001b[39;49m\u001b[38;5;124;43m'\u001b[39;49m\u001b[38;5;124;43mlinear\u001b[39;49m\u001b[38;5;124;43m'\u001b[39;49m\u001b[43m)\u001b[49m\n\u001b[1;32m    153\u001b[0m im           \u001b[38;5;241m=\u001b[39m ax\u001b[38;5;241m.\u001b[39mpcolormesh(x_ref \u001b[38;5;241m/\u001b[39m \u001b[38;5;241m1000\u001b[39m, y_ref \u001b[38;5;241m/\u001b[39m \u001b[38;5;241m1000\u001b[39m, ws_car, cmap\u001b[38;5;241m=\u001b[39mcwnd, norm\u001b[38;5;241m=\u001b[39mnormalizer)\n\u001b[1;32m    155\u001b[0m \u001b[38;5;66;03m# Axes\u001b[39;00m\n",
      "File \u001b[0;32m~/anaconda3/envs/dataBasics/lib/python3.13/site-packages/scipy/interpolate/_ndgriddata.py:323\u001b[0m, in \u001b[0;36mgriddata\u001b[0;34m(points, values, xi, method, fill_value, rescale)\u001b[0m\n\u001b[1;32m    321\u001b[0m     \u001b[38;5;28;01mreturn\u001b[39;00m ip(xi)\n\u001b[1;32m    322\u001b[0m \u001b[38;5;28;01melif\u001b[39;00m method \u001b[38;5;241m==\u001b[39m \u001b[38;5;124m'\u001b[39m\u001b[38;5;124mlinear\u001b[39m\u001b[38;5;124m'\u001b[39m:\n\u001b[0;32m--> 323\u001b[0m     ip \u001b[38;5;241m=\u001b[39m \u001b[43mLinearNDInterpolator\u001b[49m\u001b[43m(\u001b[49m\u001b[43mpoints\u001b[49m\u001b[43m,\u001b[49m\u001b[43m \u001b[49m\u001b[43mvalues\u001b[49m\u001b[43m,\u001b[49m\u001b[43m \u001b[49m\u001b[43mfill_value\u001b[49m\u001b[38;5;241;43m=\u001b[39;49m\u001b[43mfill_value\u001b[49m\u001b[43m,\u001b[49m\n\u001b[1;32m    324\u001b[0m \u001b[43m                              \u001b[49m\u001b[43mrescale\u001b[49m\u001b[38;5;241;43m=\u001b[39;49m\u001b[43mrescale\u001b[49m\u001b[43m)\u001b[49m\n\u001b[1;32m    325\u001b[0m     \u001b[38;5;28;01mreturn\u001b[39;00m ip(xi)\n\u001b[1;32m    326\u001b[0m \u001b[38;5;28;01melif\u001b[39;00m method \u001b[38;5;241m==\u001b[39m \u001b[38;5;124m'\u001b[39m\u001b[38;5;124mcubic\u001b[39m\u001b[38;5;124m'\u001b[39m \u001b[38;5;129;01mand\u001b[39;00m ndim \u001b[38;5;241m==\u001b[39m \u001b[38;5;241m2\u001b[39m:\n",
      "File \u001b[0;32minterpnd.pyx:301\u001b[0m, in \u001b[0;36mscipy.interpolate.interpnd.LinearNDInterpolator.__init__\u001b[0;34m()\u001b[0m\n",
      "File \u001b[0;32minterpnd.pyx:95\u001b[0m, in \u001b[0;36mscipy.interpolate.interpnd.NDInterpolatorBase.__init__\u001b[0;34m()\u001b[0m\n",
      "File \u001b[0;32minterpnd.pyx:116\u001b[0m, in \u001b[0;36mscipy.interpolate.interpnd.NDInterpolatorBase._set_values\u001b[0;34m()\u001b[0m\n",
      "File \u001b[0;32m~/anaconda3/envs/dataBasics/lib/python3.13/site-packages/numpy/_core/numerictypes.py:471\u001b[0m, in \u001b[0;36missubdtype\u001b[0;34m(arg1, arg2)\u001b[0m\n\u001b[1;32m    466\u001b[0m             processed_kinds\u001b[38;5;241m.\u001b[39madd(kind)\n\u001b[1;32m    468\u001b[0m     \u001b[38;5;28;01mreturn\u001b[39;00m dtype \u001b[38;5;129;01min\u001b[39;00m processed_kinds\n\u001b[0;32m--> 471\u001b[0m \u001b[38;5;129m@set_module\u001b[39m(\u001b[38;5;124m'\u001b[39m\u001b[38;5;124mnumpy\u001b[39m\u001b[38;5;124m'\u001b[39m)\n\u001b[1;32m    472\u001b[0m \u001b[38;5;28;01mdef\u001b[39;00m\u001b[38;5;250m \u001b[39m\u001b[38;5;21missubdtype\u001b[39m(arg1, arg2):\n\u001b[1;32m    473\u001b[0m \u001b[38;5;250m    \u001b[39m\u001b[38;5;124mr\u001b[39m\u001b[38;5;124;03m\"\"\"\u001b[39;00m\n\u001b[1;32m    474\u001b[0m \u001b[38;5;124;03m    Returns True if first argument is a typecode lower/equal in type hierarchy.\u001b[39;00m\n\u001b[1;32m    475\u001b[0m \n\u001b[0;32m   (...)\u001b[0m\n\u001b[1;32m    527\u001b[0m \n\u001b[1;32m    528\u001b[0m \u001b[38;5;124;03m    \"\"\"\u001b[39;00m\n\u001b[1;32m    529\u001b[0m     \u001b[38;5;28;01mif\u001b[39;00m \u001b[38;5;129;01mnot\u001b[39;00m issubclass_(arg1, generic):\n",
      "\u001b[0;31mKeyboardInterrupt\u001b[0m: "
     ]
    },
    {
     "name": "stdout",
     "output_type": "stream",
     "text": [
      "Error in callback <function _draw_all_if_interactive at 0x79f794799bc0> (for post_execute), with arguments args (),kwargs {}:\n"
     ]
    },
    {
     "name": "stderr",
     "output_type": "stream",
     "text": [
      "\n",
      "KeyboardInterrupt\n",
      "\n"
     ]
    },
    {
     "data": {
      "text/plain": [
       "<Figure size 2000x2000 with 0 Axes>"
      ]
     },
     "metadata": {},
     "output_type": "display_data"
    },
    {
     "data": {
      "text/plain": [
       "<Figure size 2000x2000 with 0 Axes>"
      ]
     },
     "metadata": {},
     "output_type": "display_data"
    },
    {
     "data": {
      "text/plain": [
       "<Figure size 2000x2000 with 0 Axes>"
      ]
     },
     "metadata": {},
     "output_type": "display_data"
    },
    {
     "data": {
      "text/plain": [
       "<Figure size 2000x2000 with 0 Axes>"
      ]
     },
     "metadata": {},
     "output_type": "display_data"
    },
    {
     "data": {
      "text/plain": [
       "<Figure size 2000x2000 with 0 Axes>"
      ]
     },
     "metadata": {},
     "output_type": "display_data"
    },
    {
     "data": {
      "text/plain": [
       "<Figure size 2000x2000 with 0 Axes>"
      ]
     },
     "metadata": {},
     "output_type": "display_data"
    },
    {
     "data": {
      "text/plain": [
       "<Figure size 2000x2000 with 0 Axes>"
      ]
     },
     "metadata": {},
     "output_type": "display_data"
    },
    {
     "data": {
      "text/plain": [
       "<Figure size 2000x2000 with 0 Axes>"
      ]
     },
     "metadata": {},
     "output_type": "display_data"
    },
    {
     "data": {
      "text/plain": [
       "<Figure size 2000x2000 with 0 Axes>"
      ]
     },
     "metadata": {},
     "output_type": "display_data"
    },
    {
     "data": {
      "text/plain": [
       "<Figure size 2000x2000 with 0 Axes>"
      ]
     },
     "metadata": {},
     "output_type": "display_data"
    },
    {
     "data": {
      "text/plain": [
       "<Figure size 2000x2000 with 0 Axes>"
      ]
     },
     "metadata": {},
     "output_type": "display_data"
    },
    {
     "data": {
      "text/plain": [
       "<Figure size 2000x2000 with 0 Axes>"
      ]
     },
     "metadata": {},
     "output_type": "display_data"
    },
    {
     "data": {
      "text/plain": [
       "<Figure size 2000x2000 with 0 Axes>"
      ]
     },
     "metadata": {},
     "output_type": "display_data"
    },
    {
     "data": {
      "text/plain": [
       "<Figure size 2000x2000 with 0 Axes>"
      ]
     },
     "metadata": {},
     "output_type": "display_data"
    },
    {
     "data": {
      "text/plain": [
       "<Figure size 2000x2000 with 0 Axes>"
      ]
     },
     "metadata": {},
     "output_type": "display_data"
    },
    {
     "data": {
      "text/plain": [
       "<Figure size 2000x2000 with 0 Axes>"
      ]
     },
     "metadata": {},
     "output_type": "display_data"
    },
    {
     "data": {
      "text/plain": [
       "<Figure size 2000x2000 with 0 Axes>"
      ]
     },
     "metadata": {},
     "output_type": "display_data"
    },
    {
     "data": {
      "text/plain": [
       "<Figure size 2000x2000 with 0 Axes>"
      ]
     },
     "metadata": {},
     "output_type": "display_data"
    },
    {
     "data": {
      "text/plain": [
       "<Figure size 2000x2000 with 0 Axes>"
      ]
     },
     "metadata": {},
     "output_type": "display_data"
    },
    {
     "data": {
      "text/plain": [
       "<Figure size 2000x2000 with 0 Axes>"
      ]
     },
     "metadata": {},
     "output_type": "display_data"
    },
    {
     "data": {
      "text/plain": [
       "<Figure size 2000x2000 with 0 Axes>"
      ]
     },
     "metadata": {},
     "output_type": "display_data"
    },
    {
     "data": {
      "text/plain": [
       "<Figure size 2000x2000 with 0 Axes>"
      ]
     },
     "metadata": {},
     "output_type": "display_data"
    },
    {
     "data": {
      "text/plain": [
       "<Figure size 2000x2000 with 0 Axes>"
      ]
     },
     "metadata": {},
     "output_type": "display_data"
    },
    {
     "data": {
      "text/plain": [
       "<Figure size 2000x2000 with 0 Axes>"
      ]
     },
     "metadata": {},
     "output_type": "display_data"
    },
    {
     "data": {
      "text/plain": [
       "<Figure size 2000x2000 with 0 Axes>"
      ]
     },
     "metadata": {},
     "output_type": "display_data"
    },
    {
     "data": {
      "text/plain": [
       "<Figure size 2000x2000 with 0 Axes>"
      ]
     },
     "metadata": {},
     "output_type": "display_data"
    },
    {
     "data": {
      "text/plain": [
       "<Figure size 2000x2000 with 0 Axes>"
      ]
     },
     "metadata": {},
     "output_type": "display_data"
    },
    {
     "data": {
      "text/plain": [
       "<Figure size 2000x2000 with 0 Axes>"
      ]
     },
     "metadata": {},
     "output_type": "display_data"
    },
    {
     "data": {
      "text/plain": [
       "<Figure size 2000x2000 with 0 Axes>"
      ]
     },
     "metadata": {},
     "output_type": "display_data"
    },
    {
     "data": {
      "text/plain": [
       "<Figure size 2000x2000 with 0 Axes>"
      ]
     },
     "metadata": {},
     "output_type": "display_data"
    },
    {
     "data": {
      "text/plain": [
       "<Figure size 2000x2000 with 0 Axes>"
      ]
     },
     "metadata": {},
     "output_type": "display_data"
    },
    {
     "data": {
      "text/plain": [
       "<Figure size 2000x2000 with 0 Axes>"
      ]
     },
     "metadata": {},
     "output_type": "display_data"
    },
    {
     "data": {
      "text/plain": [
       "<Figure size 2000x2000 with 0 Axes>"
      ]
     },
     "metadata": {},
     "output_type": "display_data"
    },
    {
     "data": {
      "text/plain": [
       "<Figure size 2000x2000 with 0 Axes>"
      ]
     },
     "metadata": {},
     "output_type": "display_data"
    },
    {
     "data": {
      "text/plain": [
       "<Figure size 2000x2000 with 0 Axes>"
      ]
     },
     "metadata": {},
     "output_type": "display_data"
    },
    {
     "data": {
      "text/plain": [
       "<Figure size 2000x2000 with 0 Axes>"
      ]
     },
     "metadata": {},
     "output_type": "display_data"
    },
    {
     "data": {
      "text/plain": [
       "<Figure size 2000x2000 with 0 Axes>"
      ]
     },
     "metadata": {},
     "output_type": "display_data"
    },
    {
     "data": {
      "text/plain": [
       "<Figure size 2000x2000 with 0 Axes>"
      ]
     },
     "metadata": {},
     "output_type": "display_data"
    },
    {
     "data": {
      "text/plain": [
       "<Figure size 2000x2000 with 0 Axes>"
      ]
     },
     "metadata": {},
     "output_type": "display_data"
    },
    {
     "data": {
      "text/plain": [
       "<Figure size 2000x2000 with 0 Axes>"
      ]
     },
     "metadata": {},
     "output_type": "display_data"
    },
    {
     "data": {
      "text/plain": [
       "<Figure size 2000x2000 with 0 Axes>"
      ]
     },
     "metadata": {},
     "output_type": "display_data"
    },
    {
     "data": {
      "text/plain": [
       "<Figure size 2000x2000 with 0 Axes>"
      ]
     },
     "metadata": {},
     "output_type": "display_data"
    },
    {
     "data": {
      "text/plain": [
       "<Figure size 2000x2000 with 0 Axes>"
      ]
     },
     "metadata": {},
     "output_type": "display_data"
    },
    {
     "data": {
      "text/plain": [
       "<Figure size 2000x2000 with 0 Axes>"
      ]
     },
     "metadata": {},
     "output_type": "display_data"
    },
    {
     "data": {
      "text/plain": [
       "<Figure size 2000x2000 with 0 Axes>"
      ]
     },
     "metadata": {},
     "output_type": "display_data"
    },
    {
     "data": {
      "text/plain": [
       "<Figure size 2000x2000 with 0 Axes>"
      ]
     },
     "metadata": {},
     "output_type": "display_data"
    },
    {
     "data": {
      "text/plain": [
       "<Figure size 2000x2000 with 0 Axes>"
      ]
     },
     "metadata": {},
     "output_type": "display_data"
    },
    {
     "data": {
      "text/plain": [
       "<Figure size 2000x2000 with 0 Axes>"
      ]
     },
     "metadata": {},
     "output_type": "display_data"
    },
    {
     "data": {
      "text/plain": [
       "<Figure size 2000x2000 with 0 Axes>"
      ]
     },
     "metadata": {},
     "output_type": "display_data"
    },
    {
     "data": {
      "image/png": "[encoded data removed]",
      "text/plain": [
       "<Figure size 2000x2000 with 1 Axes>"
      ]
     },
     "metadata": {},
     "output_type": "display_data"
    }
   ],
   "source": [
    "# Prepare new_dsg\n",
    "listOfDatasets  = []\n",
    "\n",
    "for t in tqdm(range(len(dsg_filtered.time))):\n",
    "    # Open\n",
    "    ds  = dsg_filtered.isel(time=t)\n",
    "    dsp = xr.open_dataset(PTHS['sar_dir'] + ds.file_tcva.item()).isel(time=0)\n",
    "\n",
    "    # Determined parameters\n",
    "    vmx = float(ds.vmx_hol)\n",
    "    rmx = float(ds.rmx_hol)\n",
    "    vmn = float(ds.vmn_hol)\n",
    "    B   = float(ds.B_hol)\n",
    "    lat = float(ds.lat)\n",
    "    fcr = abs(float(ds.fcor))\n",
    "    Ut  = float(ds.speed)\n",
    "    \n",
    "    # Holland\n",
    "    V    = holland_profile(rs, lat, B, vmn, rmx, vmx)\n",
    "    Vs   = np.stack([V for i in range(np.shape(THs)[1])]) # Shape (361, 5000)\n",
    "    Vs   = np.repeat(np.expand_dims(Vs, axis=0), len(zs), axis=0)\n",
    "    \n",
    "    # Sign due to hemisphere\n",
    "    h    = 1 if lat > 0 else -1\n",
    "\n",
    "    ############\n",
    "    ### Fit  ###\n",
    "    ############\n",
    "    # Fitting\n",
    "    fixed_args    = (fixed_K, THs, Rs, Zs, ths, rs, zs, Vs, fcr, z_ref, h, dsp)\n",
    "    result        = minimize(get_rmse_wrt_sar_fixedK, initial_guess, args=fixed_args, method='L-BFGS-B', bounds=bounds) # Takes less than 30 seconds\n",
    "    \n",
    "    # Extract result\n",
    "    if result.success:\n",
    "        C_opt, c1_opt, c2_opt = result.x\n",
    "        # print(\"Optimisation réussie !\")\n",
    "        # print(f\"K initial : {fixed_K:.0f}\")\n",
    "        # print(f\"C optimisé : {C_opt:.5f}\")\n",
    "        # print(f\"c1 optimisé : {c1_opt:.4f}\")\n",
    "        # print(f\"c2 optimisé : {c2_opt:.4f}\")\n",
    "        # print(f\"RMSE final : {result.fun:.4f}\")\n",
    "        # print(f\"c1 / c2 : {c1_opt / c2_opt:.4f}\")\n",
    "        # print(f\"C / sqrt(K) : {C_opt / np.sqrt(fixed_K):.6f}\")\n",
    "    else:\n",
    "        print('Optimisation failed for t = {}'.format(t))\n",
    "        print(result.message)\n",
    "        C_opt = c1_opt = c2_opt = np.nan\n",
    "\n",
    "    # Assign\n",
    "    ds['C_sqrtK_K25'] = C_opt / np.sqrt(fixed_K)\n",
    "    ds['c1_K25']      = c1_opt\n",
    "    ds['c2_K25']      = c2_opt\n",
    "\n",
    "    if result.success:\n",
    "        #####################\n",
    "        ### Extract. sol. ###\n",
    "        #####################\n",
    "        # Wind at gradient level\n",
    "        wrf    = wind_reduction_factor(Rs, Vs, fixed_K, C_opt, fcr) # azimuthal wind\n",
    "        Vs_try = Vs / wrf\n",
    "        \n",
    "        # Get K25\n",
    "        u_K25, v_K25 = kepert2025(THs, Rs, Vs_try, fixed_K, C_opt, c1_opt, c2_opt, fcr, Zs, z_ref, h)\n",
    "        \n",
    "        # Get polar dataset\n",
    "        kep_pol      = get_xrDataset_polar(zs, ths, rs, u_K25, v_K25)\n",
    "        \n",
    "        # Compute asymmetries on Kepert wind field\n",
    "        aks         = []\n",
    "        pks         = []\n",
    "        # Iterate over all radii\n",
    "        for rad in xs: # Iterate only in the valid range to optimize time\n",
    "            try:\n",
    "                ak, phi, _  = get_wn1(np.deg2rad(kep_pol.sel(z=10).theta), kep_pol.sel(z=10).wind_speed.sel(rad=rad, method='nearest'), np.max(Vs[0, 0, :]) / 3, np.max(Vs[0, 0, :]))\n",
    "            except RuntimeError:\n",
    "                ak = phi = np.nan\n",
    "            aks.append(ak)\n",
    "            pks.append(phi)\n",
    "    \n",
    "        #################\n",
    "        ### SAR asym. ###\n",
    "        #################\n",
    "        # Initialize\n",
    "        LWS = [] # To save the Holland wind speeds\n",
    "        ERR = [] # To compute RMSE\n",
    "        ACN = [] # Amplitude of cosine\n",
    "        PHS = [] # Phase of cosine\n",
    "        VTS = [] # Nb of valid thetas\n",
    "    \n",
    "        # Fit Holland for each theta\n",
    "        for th in th_steps:\n",
    "            ds_slice          = dsp.sel(theta=slice(th, th + th_delta))\n",
    "            wsm               = ds_slice.wind_speed.mean(dim='theta', skipna=True)\n",
    "            r_crop, spdm_crop = initialize_radius(np.array(wsm))\n",
    "        \n",
    "            try:\n",
    "                # Holland\n",
    "                popt, pcov = curve_fit(\n",
    "                    lambda r, B, Vmin, Rmax, Vmax: holland_profile(r, lat, B, Vmin, Rmax, Vmax), \n",
    "                    np.array(r_crop), \n",
    "                    np.array(spdm_crop), \n",
    "                    p0=[1.8, 5, 20 * 1000, 40], \n",
    "                    bounds=(\n",
    "                        tuple([BDS_HOL[e][0] for e in BDS_HOL.keys()]), # NB: lat is fixed\n",
    "                        tuple([BDS_HOL[e][1] for e in BDS_HOL.keys()])\n",
    "                    ) \n",
    "                ) \n",
    "                B_hol, vmn_hol, rmx_hol, vmx_hol = popt\n",
    "                \n",
    "            except RuntimeError:\n",
    "                B_hol = vmn_hol = rmx_hol = vmx_hol = np.nan\n",
    "            \n",
    "            # Append\n",
    "            LWS.append(holland_profile(rs, lat, B_hol, vmn_hol, rmx_hol, vmx_hol))\n",
    "    \n",
    "        # Create dataset with Holland for each theta\n",
    "        dsh = xr.Dataset(\n",
    "            data_vars={\n",
    "                'ws':        (('th', 'rad'), LWS),\n",
    "            },\n",
    "            coords={\n",
    "                'th': th_steps,\n",
    "                'rad': rs,\n",
    "            }\n",
    "        )\n",
    "    \n",
    "        # Compute asymmetries\n",
    "        for rad in xs:\n",
    "            # Amplitude of cosine\n",
    "            acn, phi, c   = get_wn1(np.deg2rad(dsh.sel(rad=rad, method='nearest').th), dsh.sel(rad=rad, method='nearest').ws, float(ds.vps), float(ds.vmx))\n",
    "            ACN.append(acn)\n",
    "            PHS.append(phi)\n",
    "            # Error\n",
    "            error         = float(rmse(dsh.sel(rad=rad, method='nearest').ws, wn1(np.deg2rad(dsh.th), acn, phi, c))) \n",
    "            ERR.append(error)\n",
    "            # Valid thetas\n",
    "            VTS.append(len(dsp.sel(rad=rad, method='nearest').dropna(subset=['wind_speed'], dim='theta').theta))\n",
    "    \n",
    "        ############\n",
    "        ### Plot ###\n",
    "        ############\n",
    "        if PRMS['sav_fgs']:\n",
    "            fig          = plt.figure(figsize=(20, 20))\n",
    "            gs           = GridSpec(4, 2, hspace=0.24, wspace=0.21)\n",
    "            cmap         = plt.get_cmap('PuOr') # Spectral\n",
    "            normalizer   = Normalize(0, 80)\n",
    "            ax_lims      = 250\n",
    "            ts           = pd.to_datetime(str(ds.time.values)) \n",
    "            d            = ts.strftime('%Y-%m-%d, %H:%M')\n",
    "            plt.suptitle('{}, {}, {} UTC \\nTranslation speed = {:.1f} m/s'.format(ds.name.item(), ds.id.item(), d, ds.speed), y=0.92)\n",
    "            \n",
    "            ### Plot SAR\n",
    "            ax           = fig.add_subplot(gs[0, :])\n",
    "            dr, th       = np.meshgrid(dsp.rad, np.deg2rad(dsp.theta))\n",
    "            ds_x, ds_y   = pol2cart(dr, th)\n",
    "            ws_car       = griddata((ds_x.flatten(), ds_y.flatten()), np.array(dsp.wind_speed.transpose()).flatten(), (x_ref, y_ref), method='linear')\n",
    "            im           = ax.pcolormesh(x_ref / 1000, y_ref / 1000, ws_car, cmap=cwnd, norm=normalizer)\n",
    "            \n",
    "            # Axes\n",
    "            ax.set_xlim(-ax_lims, ax_lims);ax.set_ylim(-ax_lims, ax_lims)\n",
    "            ax.set_ylabel(r'Distance from TC center (km)')\n",
    "            ax.set_xlabel(r'Distance from TC center (km)')\n",
    "            # ax.set_box_aspect(1)\n",
    "            ax.minorticks_on()\n",
    "            ax.tick_params(length=7, width=1.2)\n",
    "            ax.grid()\n",
    "            \n",
    "            ax2 = ax.twinx().twiny() \n",
    "            ax2.set_xlim(-ax_lims, ax_lims);ax2.set_ylim(-ax_lims, ax_lims)\n",
    "            ax2.minorticks_on()\n",
    "            ax2.tick_params(axis='both', length=7, width=1.2)\n",
    "            ax2.set_box_aspect(1)\n",
    "            ax2.set_yticklabels([])\n",
    "            ax2.set_xticklabels([])\n",
    "            \n",
    "            # Colorbar\n",
    "            cb_ax = fig.add_axes([0.6, 0.717, 0.014, 0.163])\n",
    "            cbar  = fig.colorbar(im, cax=cb_ax)\n",
    "            cbar.set_label(r'Wind speed (m/s)', rotation=90)\n",
    "            cbar.ax.get_yaxis().labelpad=5\n",
    "            \n",
    "            ### Plot wind field SAR\n",
    "            ax       = fig.add_subplot(gs[1, 0])\n",
    "            ax.pcolormesh(dsp.wind_speed.transpose(), cmap=cwnd, norm=normalizer)\n",
    "            ax.set_xlabel(r'Distance from TC center (km)')\n",
    "            ax.set_ylabel(r'Wind speed (m/s)')\n",
    "            ax.set_xlim(0, ax_lims)\n",
    "            \n",
    "            ### Plot wind field Kepert\n",
    "            ax       = fig.add_subplot(gs[1, 1])\n",
    "            ax.pcolormesh(Rs[0, :, :] / 1000, np.rad2deg(THs[0, :, :]), kep_pol.sel(z=10).wind_speed, cmap=cwnd, norm=normalizer)\n",
    "            ax.set_xlabel(r'Distance from TC center (km)')\n",
    "            ax.set_ylabel(r'Wind speed (m/s')\n",
    "            ax.set_xlim(0, ax_lims)\n",
    "            \n",
    "            ### Plot wind profiles (SAR + Kepert)\n",
    "            ax       = fig.add_subplot(gs[2, 0])\n",
    "            ax.plot(rs / 1000,  kep_pol.sel(z=10).wind_speed.mean(dim='theta'), c='tab:red', label='Model')\n",
    "            ax.plot(rs / 1000,  Vs[0, 0, :], c='k', linewidth=3, label='SAR (Holland fit)')\n",
    "            ax.plot(dsp.rad / 1000, dsp.wind_speed.mean(dim='theta'), c='k', linestyle='dashed', label='SAR (Obs)')\n",
    "            ax.legend(frameon=False)\n",
    "            ax.set_xlabel(r'Distance from TC center (km)')\n",
    "            ax.set_ylabel(r'Wind speed (m/s)')\n",
    "            ax.set_xlim(0, ax_lims)\n",
    "            ax.grid()\n",
    "            \n",
    "            ### Plot conditional curves to highlight non-C1 points\n",
    "            ax       = fig.add_subplot(gs[2, 1])\n",
    "            ax.plot(rs / 1000, I(Rs, Vs_try, fcr)[0, :, :].mean(axis=0) - Vs_try[0, :, :].mean(axis=0) / rs, c='k', linewidth=3)\n",
    "            ax.axhline(0, c='gray', linewidth=3)\n",
    "            ax.set_xlabel(r'Distance from TC center (km)')\n",
    "            ax.set_ylabel(r'I - V/r (s-1)')\n",
    "            ax.set_xlim(0, ax_lims)\n",
    "            ax.set_ylim(-0.00001, 0.0002)\n",
    "            ax.grid()\n",
    "            \n",
    "            ### Plot asymmetries (SAR + Kepert)\n",
    "            ax       = fig.add_subplot(gs[3, 0])\n",
    "            \n",
    "            ax.plot(xs / 1000, ACN, c='k', linewidth=3,                 label='Amplitude of cosine to Holland fit')\n",
    "            ax.plot(xs / 1000, ERR, c='tab:purple', linestyle='dashed', label='RMSE in fitting cosine (non-avg.)')\n",
    "            # Kepert asymmetry profiles\n",
    "            ax.plot(xs / 1000, aks,                 c='tab:red',                        label='Model')\n",
    "            # Wind radii\n",
    "            ax.axvline(ds.rmx / 1000,                      c='k',    linewidth=3,        label='Rmax')\n",
    "            ax.axvline(ds.rps / 1000,                      c='k',                        label='R+')\n",
    "            ax.axvline(ds.r0 / 1000,                       c='k',    linestyle='dashed', label='R0')\n",
    "            \n",
    "            # Validity curves\n",
    "            ax.plot(xs / 1000, np.array(VTS) / 360., c='green',                          label='Percentage of valid thetas - must be close to 1')\n",
    "            # ax.plot(xs / 1000, Ut / Vs[0, idxs],      c='green',      linestyle='dashed', label='Ut / V - must remain small')\n",
    "            ax.axhline(1, c='gray', alpha=0.3)\n",
    "            \n",
    "            # Legends\n",
    "            ax.set_xlabel(r'Distance from TC center (km)')\n",
    "            ax.set_ylabel('Asym. WN1 amp. (m/s)')\n",
    "            ax.legend(loc='lower center', bbox_to_anchor=(1.06, -0.62), ncol=3, fancybox=True, shadow=True)\n",
    "            # ax.set_xlim(0, max(float(ds.r0 / 1000) + 5, 250))\n",
    "            ax.set_xlim(0, ax_lims)\n",
    "            ax.set_ylim(0, 0.2 + float(max(max(ACN), max(ERR), max(aks))))\n",
    "            ax.grid()\n",
    "            \n",
    "            ### Phase of max. asymmetry\n",
    "            ax       = fig.add_subplot(gs[3, 1])\n",
    "            ax.plot(xs / 1000,  np.rad2deg(pks), c='tab:red', label='Model')\n",
    "            ax.plot(xs / 1000, np.rad2deg(PHS), c='k', linewidth=3, label='SAR')\n",
    "            ax.axvline(ds.rmx / 1000,    c='k', linewidth=3)\n",
    "            ax.axvline(ds.rps / 1000,    c='k')\n",
    "            ax.axvline(ds.r0  / 1000,    c='k', linestyle='dashed')\n",
    "            # ax.legend(frameon=False)\n",
    "            ax.set_xlabel(r'Distance from TC center (km)')\n",
    "            ax.set_ylabel(r'Phase of max. asym. (deg)')\n",
    "            ax.set_xlim(0, ax_lims)\n",
    "            ax.grid()\n",
    "    \n",
    "            # Save\n",
    "            plt.savefig(PTHS['sav_dir'] + 'figs/{}.png'.format(ds.file_tcva.item()[:-17]), bbox_inches='tight', format='png');plt.clf()\n",
    "\n",
    "    # Concatenate\n",
    "    listOfDatasets.append(ds)                   # Append to list of xarray.Dataset\n",
    "\n",
    "    # Close\n",
    "    dsp.close()\n",
    "\n",
    "# Concatenate\n",
    "print('Concatenating all datasets into ds_glob. Can take a few seconds...')\n",
    "new_dsg = xr.concat(listOfDatasets, dim='time') # Concatenate all datasets into a global dataset\n",
    "print('Concatenation ended.')"
   ]
  },
  {
   "cell_type": "code",
   "execution_count": null,
   "metadata": {},
   "outputs": [],
   "source": [
    "### SAVE\n",
    "new_dsg['C']             = new_dsg.C_sqrtK_K25 * fixed_K\n",
    "new_dsg.attrs['fixed_K'] = '50'\n",
    "new_dsg.to_netcdf(PTHS['sav_dir'] + 'dsg_K25_withKsetto{}.nc'.format(fixed_K))"
   ]
  },
  {
   "cell_type": "code",
   "execution_count": null,
   "metadata": {},
   "outputs": [],
   "source": []
  },
  {
   "cell_type": "code",
   "execution_count": 42,
   "metadata": {},
   "outputs": [],
   "source": []
  },
  {
   "cell_type": "code",
   "execution_count": null,
   "metadata": {},
   "outputs": [],
   "source": []
  },
  {
   "cell_type": "code",
   "execution_count": null,
   "metadata": {},
   "outputs": [],
   "source": []
  },
  {
   "cell_type": "code",
   "execution_count": 15,
   "metadata": {},
   "outputs": [
    {
     "ename": "AttributeError",
     "evalue": "'Dataset' object has no attribute 'C_sqrtK_K25'",
     "output_type": "error",
     "traceback": [
      "\u001b[0;31m---------------------------------------------------------------------------\u001b[0m",
      "\u001b[0;31mAttributeError\u001b[0m                            Traceback (most recent call last)",
      "Cell \u001b[0;32mIn[15], line 1\u001b[0m\n\u001b[0;32m----> 1\u001b[0m new_dsg[\u001b[38;5;124m'\u001b[39m\u001b[38;5;124mC\u001b[39m\u001b[38;5;124m'\u001b[39m]             \u001b[38;5;241m=\u001b[39m \u001b[43mnew_dsg\u001b[49m\u001b[38;5;241;43m.\u001b[39;49m\u001b[43mC_sqrtK_K25\u001b[49m \u001b[38;5;241m*\u001b[39m fixed_K\n\u001b[1;32m      2\u001b[0m new_dsg\u001b[38;5;241m.\u001b[39mattrs[\u001b[38;5;124m'\u001b[39m\u001b[38;5;124mfixed_K\u001b[39m\u001b[38;5;124m'\u001b[39m] \u001b[38;5;241m=\u001b[39m \u001b[38;5;124m'\u001b[39m\u001b[38;5;124m50\u001b[39m\u001b[38;5;124m'\u001b[39m\n",
      "File \u001b[0;32m~/anaconda3/envs/dataBasics/lib/python3.13/site-packages/xarray/core/common.py:302\u001b[0m, in \u001b[0;36mAttrAccessMixin.__getattr__\u001b[0;34m(self, name)\u001b[0m\n\u001b[1;32m    300\u001b[0m         \u001b[38;5;28;01mwith\u001b[39;00m suppress(\u001b[38;5;167;01mKeyError\u001b[39;00m):\n\u001b[1;32m    301\u001b[0m             \u001b[38;5;28;01mreturn\u001b[39;00m source[name]\n\u001b[0;32m--> 302\u001b[0m \u001b[38;5;28;01mraise\u001b[39;00m \u001b[38;5;167;01mAttributeError\u001b[39;00m(\n\u001b[1;32m    303\u001b[0m     \u001b[38;5;124mf\u001b[39m\u001b[38;5;124m\"\u001b[39m\u001b[38;5;132;01m{\u001b[39;00m\u001b[38;5;28mtype\u001b[39m(\u001b[38;5;28mself\u001b[39m)\u001b[38;5;241m.\u001b[39m\u001b[38;5;18m__name__\u001b[39m\u001b[38;5;132;01m!r}\u001b[39;00m\u001b[38;5;124m object has no attribute \u001b[39m\u001b[38;5;132;01m{\u001b[39;00mname\u001b[38;5;132;01m!r}\u001b[39;00m\u001b[38;5;124m\"\u001b[39m\n\u001b[1;32m    304\u001b[0m )\n",
      "\u001b[0;31mAttributeError\u001b[0m: 'Dataset' object has no attribute 'C_sqrtK_K25'"
     ]
    }
   ],
   "source": [
    "new_dsg['C']             = new_dsg.C_sqrtK_K25 * fixed_K\n",
    "new_dsg.attrs['fixed_K'] = '50'"
   ]
  },
  {
   "cell_type": "code",
   "execution_count": null,
   "metadata": {},
   "outputs": [],
   "source": []
  },
  {
   "cell_type": "code",
   "execution_count": 16,
   "metadata": {},
   "outputs": [
    {
     "data": {
      "text/html": [
       "<div><svg style=\"position: absolute; width: 0; height: 0; overflow: hidden\">\n",
       "<defs>\n",
       "<symbol id=\"icon-database\" viewBox=\"0 0 32 32\">\n",
       "<path d=\"M16 0c-8.837 0-16 2.239-16 5v4c0 2.761 7.163 5 16 5s16-2.239 16-5v-4c0-2.761-7.163-5-16-5z\"></path>\n",
       "<path d=\"M16 17c-8.837 0-16-2.239-16-5v6c0 2.761 7.163 5 16 5s16-2.239 16-5v-6c0 2.761-7.163 5-16 5z\"></path>\n",
       "<path d=\"M16 26c-8.837 0-16-2.239-16-5v6c0 2.761 7.163 5 16 5s16-2.239 16-5v-6c0 2.761-7.163 5-16 5z\"></path>\n",
       "</symbol>\n",
       "<symbol id=\"icon-file-text2\" viewBox=\"0 0 32 32\">\n",
       "<path d=\"M28.681 7.159c-0.694-0.947-1.662-2.053-2.724-3.116s-2.169-2.030-3.116-2.724c-1.612-1.182-2.393-1.319-2.841-1.319h-15.5c-1.378 0-2.5 1.121-2.5 2.5v27c0 1.378 1.122 2.5 2.5 2.5h23c1.378 0 2.5-1.122 2.5-2.5v-19.5c0-0.448-0.137-1.23-1.319-2.841zM24.543 5.457c0.959 0.959 1.712 1.825 2.268 2.543h-4.811v-4.811c0.718 0.556 1.584 1.309 2.543 2.268zM28 29.5c0 0.271-0.229 0.5-0.5 0.5h-23c-0.271 0-0.5-0.229-0.5-0.5v-27c0-0.271 0.229-0.5 0.5-0.5 0 0 15.499-0 15.5 0v7c0 0.552 0.448 1 1 1h7v19.5z\"></path>\n",
       "<path d=\"M23 26h-14c-0.552 0-1-0.448-1-1s0.448-1 1-1h14c0.552 0 1 0.448 1 1s-0.448 1-1 1z\"></path>\n",
       "<path d=\"M23 22h-14c-0.552 0-1-0.448-1-1s0.448-1 1-1h14c0.552 0 1 0.448 1 1s-0.448 1-1 1z\"></path>\n",
       "<path d=\"M23 18h-14c-0.552 0-1-0.448-1-1s0.448-1 1-1h14c0.552 0 1 0.448 1 1s-0.448 1-1 1z\"></path>\n",
       "</symbol>\n",
       "</defs>\n",
       "</svg>\n",
       "<style>/* CSS stylesheet for displaying xarray objects in jupyterlab.\n",
       " *\n",
       " */\n",
       "\n",
       ":root {\n",
       "  --xr-font-color0: var(--jp-content-font-color0, rgba(0, 0, 0, 1));\n",
       "  --xr-font-color2: var(--jp-content-font-color2, rgba(0, 0, 0, 0.54));\n",
       "  --xr-font-color3: var(--jp-content-font-color3, rgba(0, 0, 0, 0.38));\n",
       "  --xr-border-color: var(--jp-border-color2, #e0e0e0);\n",
       "  --xr-disabled-color: var(--jp-layout-color3, #bdbdbd);\n",
       "  --xr-background-color: var(--jp-layout-color0, white);\n",
       "  --xr-background-color-row-even: var(--jp-layout-color1, white);\n",
       "  --xr-background-color-row-odd: var(--jp-layout-color2, #eeeeee);\n",
       "}\n",
       "\n",
       "html[theme=\"dark\"],\n",
       "html[data-theme=\"dark\"],\n",
       "body[data-theme=\"dark\"],\n",
       "body.vscode-dark {\n",
       "  --xr-font-color0: rgba(255, 255, 255, 1);\n",
       "  --xr-font-color2: rgba(255, 255, 255, 0.54);\n",
       "  --xr-font-color3: rgba(255, 255, 255, 0.38);\n",
       "  --xr-border-color: #1f1f1f;\n",
       "  --xr-disabled-color: #515151;\n",
       "  --xr-background-color: #111111;\n",
       "  --xr-background-color-row-even: #111111;\n",
       "  --xr-background-color-row-odd: #313131;\n",
       "}\n",
       "\n",
       ".xr-wrap {\n",
       "  display: block !important;\n",
       "  min-width: 300px;\n",
       "  max-width: 700px;\n",
       "}\n",
       "\n",
       ".xr-text-repr-fallback {\n",
       "  /* fallback to plain text repr when CSS is not injected (untrusted notebook) */\n",
       "  display: none;\n",
       "}\n",
       "\n",
       ".xr-header {\n",
       "  padding-top: 6px;\n",
       "  padding-bottom: 6px;\n",
       "  margin-bottom: 4px;\n",
       "  border-bottom: solid 1px var(--xr-border-color);\n",
       "}\n",
       "\n",
       ".xr-header > div,\n",
       ".xr-header > ul {\n",
       "  display: inline;\n",
       "  margin-top: 0;\n",
       "  margin-bottom: 0;\n",
       "}\n",
       "\n",
       ".xr-obj-type,\n",
       ".xr-array-name {\n",
       "  margin-left: 2px;\n",
       "  margin-right: 10px;\n",
       "}\n",
       "\n",
       ".xr-obj-type {\n",
       "  color: var(--xr-font-color2);\n",
       "}\n",
       "\n",
       ".xr-sections {\n",
       "  padding-left: 0 !important;\n",
       "  display: grid;\n",
       "  grid-template-columns: 150px auto auto 1fr 0 20px 0 20px;\n",
       "}\n",
       "\n",
       ".xr-section-item {\n",
       "  display: contents;\n",
       "}\n",
       "\n",
       ".xr-section-item input {\n",
       "  display: inline-block;\n",
       "  opacity: 0;\n",
       "  height: 0;\n",
       "}\n",
       "\n",
       ".xr-section-item input + label {\n",
       "  color: var(--xr-disabled-color);\n",
       "}\n",
       "\n",
       ".xr-section-item input:enabled + label {\n",
       "  cursor: pointer;\n",
       "  color: var(--xr-font-color2);\n",
       "}\n",
       "\n",
       ".xr-section-item input:focus + label {\n",
       "  border: 2px solid var(--xr-font-color0);\n",
       "}\n",
       "\n",
       ".xr-section-item input:enabled + label:hover {\n",
       "  color: var(--xr-font-color0);\n",
       "}\n",
       "\n",
       ".xr-section-summary {\n",
       "  grid-column: 1;\n",
       "  color: var(--xr-font-color2);\n",
       "  font-weight: 500;\n",
       "}\n",
       "\n",
       ".xr-section-summary > span {\n",
       "  display: inline-block;\n",
       "  padding-left: 0.5em;\n",
       "}\n",
       "\n",
       ".xr-section-summary-in:disabled + label {\n",
       "  color: var(--xr-font-color2);\n",
       "}\n",
       "\n",
       ".xr-section-summary-in + label:before {\n",
       "  display: inline-block;\n",
       "  content: \"►\";\n",
       "  font-size: 11px;\n",
       "  width: 15px;\n",
       "  text-align: center;\n",
       "}\n",
       "\n",
       ".xr-section-summary-in:disabled + label:before {\n",
       "  color: var(--xr-disabled-color);\n",
       "}\n",
       "\n",
       ".xr-section-summary-in:checked + label:before {\n",
       "  content: \"▼\";\n",
       "}\n",
       "\n",
       ".xr-section-summary-in:checked + label > span {\n",
       "  display: none;\n",
       "}\n",
       "\n",
       ".xr-section-summary,\n",
       ".xr-section-inline-details {\n",
       "  padding-top: 4px;\n",
       "  padding-bottom: 4px;\n",
       "}\n",
       "\n",
       ".xr-section-inline-details {\n",
       "  grid-column: 2 / -1;\n",
       "}\n",
       "\n",
       ".xr-section-details {\n",
       "  display: none;\n",
       "  grid-column: 1 / -1;\n",
       "  margin-bottom: 5px;\n",
       "}\n",
       "\n",
       ".xr-section-summary-in:checked ~ .xr-section-details {\n",
       "  display: contents;\n",
       "}\n",
       "\n",
       ".xr-array-wrap {\n",
       "  grid-column: 1 / -1;\n",
       "  display: grid;\n",
       "  grid-template-columns: 20px auto;\n",
       "}\n",
       "\n",
       ".xr-array-wrap > label {\n",
       "  grid-column: 1;\n",
       "  vertical-align: top;\n",
       "}\n",
       "\n",
       ".xr-preview {\n",
       "  color: var(--xr-font-color3);\n",
       "}\n",
       "\n",
       ".xr-array-preview,\n",
       ".xr-array-data {\n",
       "  padding: 0 5px !important;\n",
       "  grid-column: 2;\n",
       "}\n",
       "\n",
       ".xr-array-data,\n",
       ".xr-array-in:checked ~ .xr-array-preview {\n",
       "  display: none;\n",
       "}\n",
       "\n",
       ".xr-array-in:checked ~ .xr-array-data,\n",
       ".xr-array-preview {\n",
       "  display: inline-block;\n",
       "}\n",
       "\n",
       ".xr-dim-list {\n",
       "  display: inline-block !important;\n",
       "  list-style: none;\n",
       "  padding: 0 !important;\n",
       "  margin: 0;\n",
       "}\n",
       "\n",
       ".xr-dim-list li {\n",
       "  display: inline-block;\n",
       "  padding: 0;\n",
       "  margin: 0;\n",
       "}\n",
       "\n",
       ".xr-dim-list:before {\n",
       "  content: \"(\";\n",
       "}\n",
       "\n",
       ".xr-dim-list:after {\n",
       "  content: \")\";\n",
       "}\n",
       "\n",
       ".xr-dim-list li:not(:last-child):after {\n",
       "  content: \",\";\n",
       "  padding-right: 5px;\n",
       "}\n",
       "\n",
       ".xr-has-index {\n",
       "  font-weight: bold;\n",
       "}\n",
       "\n",
       ".xr-var-list,\n",
       ".xr-var-item {\n",
       "  display: contents;\n",
       "}\n",
       "\n",
       ".xr-var-item > div,\n",
       ".xr-var-item label,\n",
       ".xr-var-item > .xr-var-name span {\n",
       "  background-color: var(--xr-background-color-row-even);\n",
       "  margin-bottom: 0;\n",
       "}\n",
       "\n",
       ".xr-var-item > .xr-var-name:hover span {\n",
       "  padding-right: 5px;\n",
       "}\n",
       "\n",
       ".xr-var-list > li:nth-child(odd) > div,\n",
       ".xr-var-list > li:nth-child(odd) > label,\n",
       ".xr-var-list > li:nth-child(odd) > .xr-var-name span {\n",
       "  background-color: var(--xr-background-color-row-odd);\n",
       "}\n",
       "\n",
       ".xr-var-name {\n",
       "  grid-column: 1;\n",
       "}\n",
       "\n",
       ".xr-var-dims {\n",
       "  grid-column: 2;\n",
       "}\n",
       "\n",
       ".xr-var-dtype {\n",
       "  grid-column: 3;\n",
       "  text-align: right;\n",
       "  color: var(--xr-font-color2);\n",
       "}\n",
       "\n",
       ".xr-var-preview {\n",
       "  grid-column: 4;\n",
       "}\n",
       "\n",
       ".xr-index-preview {\n",
       "  grid-column: 2 / 5;\n",
       "  color: var(--xr-font-color2);\n",
       "}\n",
       "\n",
       ".xr-var-name,\n",
       ".xr-var-dims,\n",
       ".xr-var-dtype,\n",
       ".xr-preview,\n",
       ".xr-attrs dt {\n",
       "  white-space: nowrap;\n",
       "  overflow: hidden;\n",
       "  text-overflow: ellipsis;\n",
       "  padding-right: 10px;\n",
       "}\n",
       "\n",
       ".xr-var-name:hover,\n",
       ".xr-var-dims:hover,\n",
       ".xr-var-dtype:hover,\n",
       ".xr-attrs dt:hover {\n",
       "  overflow: visible;\n",
       "  width: auto;\n",
       "  z-index: 1;\n",
       "}\n",
       "\n",
       ".xr-var-attrs,\n",
       ".xr-var-data,\n",
       ".xr-index-data {\n",
       "  display: none;\n",
       "  background-color: var(--xr-background-color) !important;\n",
       "  padding-bottom: 5px !important;\n",
       "}\n",
       "\n",
       ".xr-var-attrs-in:checked ~ .xr-var-attrs,\n",
       ".xr-var-data-in:checked ~ .xr-var-data,\n",
       ".xr-index-data-in:checked ~ .xr-index-data {\n",
       "  display: block;\n",
       "}\n",
       "\n",
       ".xr-var-data > table {\n",
       "  float: right;\n",
       "}\n",
       "\n",
       ".xr-var-name span,\n",
       ".xr-var-data,\n",
       ".xr-index-name div,\n",
       ".xr-index-data,\n",
       ".xr-attrs {\n",
       "  padding-left: 25px !important;\n",
       "}\n",
       "\n",
       ".xr-attrs,\n",
       ".xr-var-attrs,\n",
       ".xr-var-data,\n",
       ".xr-index-data {\n",
       "  grid-column: 1 / -1;\n",
       "}\n",
       "\n",
       "dl.xr-attrs {\n",
       "  padding: 0;\n",
       "  margin: 0;\n",
       "  display: grid;\n",
       "  grid-template-columns: 125px auto;\n",
       "}\n",
       "\n",
       ".xr-attrs dt,\n",
       ".xr-attrs dd {\n",
       "  padding: 0;\n",
       "  margin: 0;\n",
       "  float: left;\n",
       "  padding-right: 10px;\n",
       "  width: auto;\n",
       "}\n",
       "\n",
       ".xr-attrs dt {\n",
       "  font-weight: normal;\n",
       "  grid-column: 1;\n",
       "}\n",
       "\n",
       ".xr-attrs dt:hover span {\n",
       "  display: inline-block;\n",
       "  background: var(--xr-background-color);\n",
       "  padding-right: 10px;\n",
       "}\n",
       "\n",
       ".xr-attrs dd {\n",
       "  grid-column: 2;\n",
       "  white-space: pre-wrap;\n",
       "  word-break: break-all;\n",
       "}\n",
       "\n",
       ".xr-icon-database,\n",
       ".xr-icon-file-text2,\n",
       ".xr-no-icon {\n",
       "  display: inline-block;\n",
       "  vertical-align: middle;\n",
       "  width: 1em;\n",
       "  height: 1.5em !important;\n",
       "  stroke-width: 0;\n",
       "  stroke: currentColor;\n",
       "  fill: currentColor;\n",
       "}\n",
       "</style><pre class='xr-text-repr-fallback'>&lt;xarray.Dataset&gt; Size: 30kB\n",
       "Dimensions:              (time: 50)\n",
       "Coordinates:\n",
       "  * time                 (time) datetime64[ns] 400B 2015-07-10T20:31:29 ... 2...\n",
       "Data variables: (12/75)\n",
       "    dist2coast           (time) float64 400B 5.425e+05 1.852e+06 ... 6.404e+05\n",
       "    speed                (time) float64 400B 3.035 3.636 7.009 ... 1.749 3.143\n",
       "    name                 (time) object 400B &#x27;NANGKA&#x27; &#x27;ENRIQUE&#x27; ... &#x27;JONGDARI&#x27;\n",
       "    id                   (time) object 400B &#x27;wp112015&#x27; &#x27;ep062015&#x27; ... &#x27;wp152018&#x27;\n",
       "    file                 (time) object 400B &#x27;rs2--owi-cm-20150710t203051-2015...\n",
       "    file_tcva            (time) object 400B &#x27;rs2--owi-ca-20150710t203051-2015...\n",
       "    ...                   ...\n",
       "    vws__12hr_pmd        (time) float64 400B 13.63 9.389 2.063 ... 3.059 1.143\n",
       "    wsd_pmd              (time) float64 400B 199.4 40.59 275.7 ... 87.4 161.9\n",
       "    file_pmd             (time) object 400B &#x27;tc_primed/v01r01/final/2015/WP/T...\n",
       "    beta0_pmd            (time) float64 400B 1.316e+04 1.794e+04 ... 1.402e+04\n",
       "    beta0_T0_pmd         (time) float64 400B 50.44 66.0 57.09 ... 53.86 54.65\n",
       "    pre_sss_rms          (time) float64 400B 34.63 34.42 34.16 ... nan nan 34.22\n",
       "Attributes:\n",
       "    Version:            1.0\n",
       "    SAR_wind_product:   Ifremer (https://cyclobs.ifremer.fr/app/tropical), co...\n",
       "    Best_track_data:    IBTrACS (https://www.ncei.noaa.gov/products/internati...\n",
       "    SST_product:        REMSS, collocated with tropical cyclones during MAXSS...\n",
       "    Authors:            Arthur Avenas, Alexis Mouche, Théo Cevaer\n",
       "    Contact:            arthur.avenas@esa.int\n",
       "    TC-PRIMED_product:  Version v01r01-preliminary, created 2024-11-20T06:17:...</pre><div class='xr-wrap' style='display:none'><div class='xr-header'><div class='xr-obj-type'>xarray.Dataset</div></div><ul class='xr-sections'><li class='xr-section-item'><input id='section-dec6bdbe-57ec-4818-b1d3-01dd9e40d1ba' class='xr-section-summary-in' type='checkbox' disabled ><label for='section-dec6bdbe-57ec-4818-b1d3-01dd9e40d1ba' class='xr-section-summary'  title='Expand/collapse section'>Dimensions:</label><div class='xr-section-inline-details'><ul class='xr-dim-list'><li><span class='xr-has-index'>time</span>: 50</li></ul></div><div class='xr-section-details'></div></li><li class='xr-section-item'><input id='section-86a85c0f-fa73-460c-aa28-856810612f44' class='xr-section-summary-in' type='checkbox'  checked><label for='section-86a85c0f-fa73-460c-aa28-856810612f44' class='xr-section-summary' >Coordinates: <span>(1)</span></label><div class='xr-section-inline-details'></div><div class='xr-section-details'><ul class='xr-var-list'><li class='xr-var-item'><div class='xr-var-name'><span class='xr-has-index'>time</span></div><div class='xr-var-dims'>(time)</div><div class='xr-var-dtype'>datetime64[ns]</div><div class='xr-var-preview xr-preview'>2015-07-10T20:31:29 ... 2018-07-...</div><input id='attrs-ad0a0291-daf8-4421-bd71-039151c64c8f' class='xr-var-attrs-in' type='checkbox' ><label for='attrs-ad0a0291-daf8-4421-bd71-039151c64c8f' title='Show/Hide attributes'><svg class='icon xr-icon-file-text2'><use xlink:href='#icon-file-text2'></use></svg></label><input id='data-46a9831f-e575-482c-812d-a624de7a4bf8' class='xr-var-data-in' type='checkbox'><label for='data-46a9831f-e575-482c-812d-a624de7a4bf8' title='Show/Hide data repr'><svg class='icon xr-icon-database'><use xlink:href='#icon-database'></use></svg></label><div class='xr-var-attrs'><dl class='xr-attrs'><dt><span>long_name :</span></dt><dd>Acquisition time</dd><dt><span>description :</span></dt><dd>Taken from Ifremer TCVA product</dd></dl></div><div class='xr-var-data'><pre>array([&#x27;2015-07-10T20:31:29.000000000&#x27;, &#x27;2015-07-15T14:43:30.000000000&#x27;,\n",
       "       &#x27;2015-08-01T19:50:35.000000000&#x27;, &#x27;2015-08-03T15:30:06.000000000&#x27;,\n",
       "       &#x27;2015-08-03T20:31:45.000000000&#x27;, &#x27;2015-08-05T21:12:44.000000000&#x27;,\n",
       "       &#x27;2015-08-21T21:46:50.000000000&#x27;, &#x27;2015-08-27T17:11:14.000000000&#x27;,\n",
       "       &#x27;2015-08-29T03:44:58.000000000&#x27;, &#x27;2015-08-30T15:42:27.000000000&#x27;,\n",
       "       &#x27;2015-09-02T20:16:58.000000000&#x27;, &#x27;2015-09-03T15:25:12.000000000&#x27;,\n",
       "       &#x27;2015-09-04T18:15:55.000000000&#x27;, &#x27;2015-09-06T18:57:43.000000000&#x27;,\n",
       "       &#x27;2015-10-21T15:26:44.000000000&#x27;, &#x27;2015-10-23T12:47:07.000000000&#x27;,\n",
       "       &#x27;2016-07-08T02:46:14.000000000&#x27;, &#x27;2016-07-09T14:42:19.000000000&#x27;,\n",
       "       &#x27;2016-07-24T14:06:24.000000000&#x27;, &#x27;2016-08-25T09:30:52.000000000&#x27;,\n",
       "       &#x27;2016-08-25T09:31:04.000000000&#x27;, &#x27;2016-08-26T21:16:37.000000000&#x27;,\n",
       "       &#x27;2016-08-29T02:28:49.000000000&#x27;, &#x27;2016-08-30T14:46:05.000000000&#x27;,\n",
       "       &#x27;2016-08-31T03:16:16.000000000&#x27;, &#x27;2016-09-01T23:45:19.000000000&#x27;,\n",
       "       &#x27;2016-09-02T03:53:41.000000000&#x27;, &#x27;2016-09-04T16:31:18.000000000&#x27;,\n",
       "       &#x27;2016-09-10T20:48:38.000000000&#x27;, &#x27;2016-09-12T21:29:20.000000000&#x27;,\n",
       "       &#x27;2016-09-25T09:25:51.000000000&#x27;, &#x27;2016-10-06T22:33:10.000000000&#x27;,\n",
       "       &#x27;2016-10-08T10:24:41.000000000&#x27;, &#x27;2016-10-15T20:29:16.000000000&#x27;,\n",
       "       &#x27;2017-02-07T01:54:25.000000000&#x27;, &#x27;2017-05-04T07:14:33.000000000&#x27;,\n",
       "       &#x27;2017-07-29T08:32:34.000000000&#x27;, &#x27;2017-07-30T08:02:41.000000000&#x27;,\n",
       "       &#x27;2017-08-19T14:01:25.000000000&#x27;, &#x27;2017-08-25T00:20:34.000000000&#x27;,\n",
       "       &#x27;2017-08-25T09:58:11.000000000&#x27;, &#x27;2017-09-06T21:17:20.000000000&#x27;,\n",
       "       &#x27;2017-09-07T10:30:39.000000000&#x27;, &#x27;2017-09-08T22:03:19.000000000&#x27;,\n",
       "       &#x27;2017-09-21T22:45:23.000000000&#x27;, &#x27;2017-09-23T10:44:51.000000000&#x27;,\n",
       "       &#x27;2017-10-21T09:21:35.000000000&#x27;, &#x27;2018-01-03T14:54:35.000000000&#x27;,\n",
       "       &#x27;2018-02-01T13:23:53.000000000&#x27;, &#x27;2018-07-24T20:55:36.000000000&#x27;],\n",
       "      dtype=&#x27;datetime64[ns]&#x27;)</pre></div></li></ul></div></li><li class='xr-section-item'><input id='section-feef92b1-109a-4aaf-a7a0-952851f11931' class='xr-section-summary-in' type='checkbox'  ><label for='section-feef92b1-109a-4aaf-a7a0-952851f11931' class='xr-section-summary' >Data variables: <span>(75)</span></label><div class='xr-section-inline-details'></div><div class='xr-section-details'><ul class='xr-var-list'><li class='xr-var-item'><div class='xr-var-name'><span>dist2coast</span></div><div class='xr-var-dims'>(time)</div><div class='xr-var-dtype'>float64</div><div class='xr-var-preview xr-preview'>5.425e+05 1.852e+06 ... 6.404e+05</div><input id='attrs-3e6d9b57-00f9-4203-a963-88258bc0fff4' class='xr-var-attrs-in' type='checkbox' ><label for='attrs-3e6d9b57-00f9-4203-a963-88258bc0fff4' title='Show/Hide attributes'><svg class='icon xr-icon-file-text2'><use xlink:href='#icon-file-text2'></use></svg></label><input id='data-06fa7461-b8ca-4fb6-8751-2feccbd9a8f6' class='xr-var-data-in' type='checkbox'><label for='data-06fa7461-b8ca-4fb6-8751-2feccbd9a8f6' title='Show/Hide data repr'><svg class='icon xr-icon-database'><use xlink:href='#icon-database'></use></svg></label><div class='xr-var-attrs'><dl class='xr-attrs'><dt><span>long_name :</span></dt><dd>Distance of track point to nearest coast.</dd><dt><span>description :</span></dt><dd>Distance of track point to nearest coast. A negative value means track point is inside land.</dd><dt><span>units :</span></dt><dd>meters</dd></dl></div><div class='xr-var-data'><pre>array([ 542462.96994776, 1851990.44676621,  395066.13633871,\n",
       "        962625.16690417,  566234.48590584,  616633.29882806,\n",
       "         74826.68129516,  170757.64121505, 1124626.39247391,\n",
       "        676074.52608056,  754776.61794005, 1144270.86922241,\n",
       "        951934.99277229,  572292.99054107, 1392485.06758973,\n",
       "        225189.55415636, 1470567.42854561, 1730466.23796058,\n",
       "       1102394.42258076,  261216.88485107,  261216.88485107,\n",
       "       1559478.88678372, 1216233.57604608, 2030728.23548684,\n",
       "       1937078.87491789,   63365.96368443,  904343.80281387,\n",
       "        278672.44406036,  742505.25522461,  406509.71919182,\n",
       "        659489.7715894 ,  532818.70367933,  737445.12268251,\n",
       "         58316.42202414,  193409.72685715,   91128.66892328,\n",
       "         85827.60630829,  115786.6436362 ,  824707.27376639,\n",
       "        286008.85429477,   56865.68084913, 1206632.98841628,\n",
       "         99596.28904537,  263735.42302555,  117248.36235824,\n",
       "        262796.73106496,  317341.38272729,  171550.11740323,\n",
       "       1002595.21564916,  640428.06602117])</pre></div></li><li class='xr-var-item'><div class='xr-var-name'><span>speed</span></div><div class='xr-var-dims'>(time)</div><div class='xr-var-dtype'>float64</div><div class='xr-var-preview xr-preview'>3.035 3.636 7.009 ... 1.749 3.143</div><input id='attrs-a3316f81-0d10-4a71-84fd-fa629325bff9' class='xr-var-attrs-in' type='checkbox' ><label for='attrs-a3316f81-0d10-4a71-84fd-fa629325bff9' title='Show/Hide attributes'><svg class='icon xr-icon-file-text2'><use xlink:href='#icon-file-text2'></use></svg></label><input id='data-d1ee4df1-d7d2-42c8-a936-cba2f5db62ee' class='xr-var-data-in' type='checkbox'><label for='data-d1ee4df1-d7d2-42c8-a936-cba2f5db62ee' title='Show/Hide data repr'><svg class='icon xr-icon-database'><use xlink:href='#icon-database'></use></svg></label><div class='xr-var-attrs'><dl class='xr-attrs'><dt><span>long_name :</span></dt><dd>Estimated cyclone propagation speed</dd><dt><span>description :</span></dt><dd>Taken from Ifremer TCVA product</dd><dt><span>units :</span></dt><dd>m/s</dd></dl></div><div class='xr-var-data'><pre>array([3.03543589, 3.63601005, 7.00891795, 4.53156594, 5.81819969,\n",
       "       5.91842134, 1.9578655 , 2.10871746, 3.51385635, 4.37403687,\n",
       "       4.69982451, 1.32984075, 4.29910832, 4.34903349, 3.34656316,\n",
       "       4.66682123, 3.74076484, 5.13101873, 4.66402325, 1.27731693,\n",
       "       1.27731693, 6.95422784, 7.07294388, 5.86532255, 4.99633989,\n",
       "       6.45900023, 6.04869381, 7.63080282, 6.67619882, 6.31418388,\n",
       "       5.40531147, 1.04489196, 2.63147023, 3.70166025, 5.17775315,\n",
       "       2.6147511 , 4.33776491, 2.06297927, 7.49314583, 4.65701574,\n",
       "       5.52737243, 7.76845049, 7.24756845, 5.70981615, 3.02696436,\n",
       "       3.88066203, 8.24807606, 3.99736646, 1.74851131, 3.14349228])</pre></div></li><li class='xr-var-item'><div class='xr-var-name'><span>name</span></div><div class='xr-var-dims'>(time)</div><div class='xr-var-dtype'>object</div><div class='xr-var-preview xr-preview'>&#x27;NANGKA&#x27; &#x27;ENRIQUE&#x27; ... &#x27;JONGDARI&#x27;</div><input id='attrs-a20dd9b6-a2c8-4c19-881c-73f989acea02' class='xr-var-attrs-in' type='checkbox' ><label for='attrs-a20dd9b6-a2c8-4c19-881c-73f989acea02' title='Show/Hide attributes'><svg class='icon xr-icon-file-text2'><use xlink:href='#icon-file-text2'></use></svg></label><input id='data-bf99de82-382c-43d8-a6dc-2e2186d9c113' class='xr-var-data-in' type='checkbox'><label for='data-bf99de82-382c-43d8-a6dc-2e2186d9c113' title='Show/Hide data repr'><svg class='icon xr-icon-database'><use xlink:href='#icon-database'></use></svg></label><div class='xr-var-attrs'><dl class='xr-attrs'><dt><span>long_name :</span></dt><dd>Name of the system</dd><dt><span>description :</span></dt><dd>Taken from Ifremer TCVA product</dd></dl></div><div class='xr-var-data'><pre>array([&#x27;NANGKA&#x27;, &#x27;ENRIQUE&#x27;, &#x27;SOUDELOR&#x27;, &#x27;GUILLERMO&#x27;, &#x27;SOUDELOR&#x27;,\n",
       "       &#x27;SOUDELOR&#x27;, &#x27;GONI&#x27;, &#x27;KILO&#x27;, &#x27;IGNACIO&#x27;, &#x27;IGNACIO&#x27;, &#x27;FRED&#x27;, &#x27;JIMENA&#x27;,\n",
       "       &#x27;KILO&#x27;, &#x27;KILO&#x27;, &#x27;OLAF&#x27;, &#x27;PATRICIA&#x27;, &#x27;BLAS&#x27;, &#x27;BLAS&#x27;, &#x27;GEORGETTE&#x27;,\n",
       "       &#x27;LIONROCK&#x27;, &#x27;LIONROCK&#x27;, &#x27;GASTON&#x27;, &#x27;LESTER&#x27;, &#x27;LESTER&#x27;, &#x27;LESTER&#x27;,\n",
       "       &#x27;HERMINE&#x27;, &#x27;LESTER&#x27;, &#x27;LESTER&#x27;, &#x27;MERANTI&#x27;, &#x27;MERANTI&#x27;, &#x27;MEGI&#x27;,\n",
       "       &#x27;NICOLE&#x27;, &#x27;NICOLE&#x27;, &#x27;HAIMA&#x27;, &#x27;CARLOS&#x27;, &#x27;DONNA&#x27;, &#x27;NORU&#x27;, &#x27;NORU&#x27;,\n",
       "       &#x27;KENNETH&#x27;, &#x27;HARVEY&#x27;, &#x27;PAKHAR&#x27;, &#x27;JOSE&#x27;, &#x27;IRMA&#x27;, &#x27;JOSE&#x27;, &#x27;MARIA&#x27;,\n",
       "       &#x27;MARIA&#x27;, &#x27;LAN&#x27;, &#x27;AVA&#x27;, &#x27;CEBILE&#x27;, &#x27;JONGDARI&#x27;], dtype=object)</pre></div></li><li class='xr-var-item'><div class='xr-var-name'><span>id</span></div><div class='xr-var-dims'>(time)</div><div class='xr-var-dtype'>object</div><div class='xr-var-preview xr-preview'>&#x27;wp112015&#x27; ... &#x27;wp152018&#x27;</div><input id='attrs-ac136e6d-a1b9-4924-b44a-a1ac77b8e940' class='xr-var-attrs-in' type='checkbox' ><label for='attrs-ac136e6d-a1b9-4924-b44a-a1ac77b8e940' title='Show/Hide attributes'><svg class='icon xr-icon-file-text2'><use xlink:href='#icon-file-text2'></use></svg></label><input id='data-6d3e7192-c746-454a-a2fe-d54f6144be3a' class='xr-var-data-in' type='checkbox'><label for='data-6d3e7192-c746-454a-a2fe-d54f6144be3a' title='Show/Hide data repr'><svg class='icon xr-icon-database'><use xlink:href='#icon-database'></use></svg></label><div class='xr-var-attrs'><dl class='xr-attrs'><dt><span>long_name :</span></dt><dd>ATCF ID of the system</dd><dt><span>description :</span></dt><dd>Taken from Ifremer TCVA product</dd></dl></div><div class='xr-var-data'><pre>array([&#x27;wp112015&#x27;, &#x27;ep062015&#x27;, &#x27;wp132015&#x27;, &#x27;ep092015&#x27;, &#x27;wp132015&#x27;,\n",
       "       &#x27;wp132015&#x27;, &#x27;wp162015&#x27;, &#x27;cp032015&#x27;, &#x27;ep122015&#x27;, &#x27;ep122015&#x27;,\n",
       "       &#x27;al062015&#x27;, &#x27;ep132015&#x27;, &#x27;cp032015&#x27;, &#x27;cp032015&#x27;, &#x27;ep192015&#x27;,\n",
       "       &#x27;ep202015&#x27;, &#x27;ep032016&#x27;, &#x27;ep032016&#x27;, &#x27;ep082016&#x27;, &#x27;wp122016&#x27;,\n",
       "       &#x27;wp122016&#x27;, &#x27;al072016&#x27;, &#x27;ep132016&#x27;, &#x27;ep132016&#x27;, &#x27;ep132016&#x27;,\n",
       "       &#x27;al092016&#x27;, &#x27;ep132016&#x27;, &#x27;ep132016&#x27;, &#x27;wp162016&#x27;, &#x27;wp162016&#x27;,\n",
       "       &#x27;wp202016&#x27;, &#x27;al152016&#x27;, &#x27;al152016&#x27;, &#x27;wp252016&#x27;, &#x27;sh042017&#x27;,\n",
       "       &#x27;sh182017&#x27;, &#x27;wp072017&#x27;, &#x27;wp072017&#x27;, &#x27;ep132017&#x27;, &#x27;al092017&#x27;,\n",
       "       &#x27;wp162017&#x27;, &#x27;al122017&#x27;, &#x27;al112017&#x27;, &#x27;al122017&#x27;, &#x27;al152017&#x27;,\n",
       "       &#x27;al152017&#x27;, &#x27;wp252017&#x27;, &#x27;sh032018&#x27;, &#x27;sh072018&#x27;, &#x27;wp152018&#x27;],\n",
       "      dtype=object)</pre></div></li><li class='xr-var-item'><div class='xr-var-name'><span>file</span></div><div class='xr-var-dims'>(time)</div><div class='xr-var-dtype'>object</div><div class='xr-var-preview xr-preview'>&#x27;rs2--owi-cm-20150710t203051-201...</div><input id='attrs-950ee309-bed4-47d4-bbe0-9c73524a3f0e' class='xr-var-attrs-in' type='checkbox' ><label for='attrs-950ee309-bed4-47d4-bbe0-9c73524a3f0e' title='Show/Hide attributes'><svg class='icon xr-icon-file-text2'><use xlink:href='#icon-file-text2'></use></svg></label><input id='data-1a995c50-57e0-4d4e-8dfc-bea2dd297ae2' class='xr-var-data-in' type='checkbox'><label for='data-1a995c50-57e0-4d4e-8dfc-bea2dd297ae2' title='Show/Hide data repr'><svg class='icon xr-icon-database'><use xlink:href='#icon-database'></use></svg></label><div class='xr-var-attrs'><dl class='xr-attrs'><dt><span>long_name :</span></dt><dd>Satellite file of the SAR acquisition</dd><dt><span>description :</span></dt><dd>Taken from Ifremer TCVA product</dd></dl></div><div class='xr-var-data'><pre>array([&#x27;rs2--owi-cm-20150710t203051-20150710t203207-00003-______sw.nc&#x27;,\n",
       "       &#x27;rs2--owi-cm-20150715t144252-20150715t144408-00003-______sw.nc&#x27;,\n",
       "       &#x27;rs2--owi-cm-20150801t194958-20150801t195113-00003-______sw.nc&#x27;,\n",
       "       &#x27;rs2--owi-cm-20150803t152928-20150803t153044-00003-______sw.nc&#x27;,\n",
       "       &#x27;rs2--owi-cm-20150803t202943-20150803t203347-00003-______sw.nc&#x27;,\n",
       "       &#x27;rs2--owi-cm-20150805t211206-20150805t211322-00003-______sw.nc&#x27;,\n",
       "       &#x27;rs2--owi-cm-20150821t214623-20150821t214717-00003-______sw.nc&#x27;,\n",
       "       &#x27;rs2--owi-cm-20150827t170957-20150827t171231-00003-______sw.nc&#x27;,\n",
       "       &#x27;rs2--owi-cm-20150829t034258-20150829t034658-00003-______sw.nc&#x27;,\n",
       "       &#x27;rs2--owi-cm-20150830t154150-20150830t154305-00003-______sw.nc&#x27;,\n",
       "       &#x27;rs2--owi-cm-20150902t201620-20150902t201736-00003-______sw.nc&#x27;,\n",
       "       &#x27;rs2--owi-cm-20150903t152310-20150903t152714-00003-______sw.nc&#x27;,\n",
       "       &#x27;rs2--owi-cm-20150904t181517-20150904t181633-00003-______sw.nc&#x27;,\n",
       "       &#x27;rs2--owi-cm-20150906t185705-20150906t185821-00003-______sw.nc&#x27;,\n",
       "       &#x27;rs2--owi-cm-20151021t152606-20151021t152722-00003-______sw.nc&#x27;,\n",
       "       &#x27;rs2--owi-cm-20151023t124550-20151023t124825-00003-______sw.nc&#x27;,\n",
       "       &#x27;rs2--owi-cm-20160708t024536-20160708t024652-00003-______sw.nc&#x27;,\n",
       "       &#x27;rs2--owi-cm-20160709t144141-20160709t144257-00003-______sw.nc&#x27;,\n",
       "       &#x27;rs2--owi-cm-20160724t140547-20160724t140702-00003-______sw.nc&#x27;,\n",
       "       &#x27;rs2--owi-cm-20160825t093014-20160825t093130-00003-______sw.nc&#x27;,\n",
       "...\n",
       "       &#x27;rs2--owi-cm-20161006t223232-20161006t223348-00003-______sw.nc&#x27;,\n",
       "       &#x27;rs2--owi-cm-20161008t102403-20161008t102520-00003-______sw.nc&#x27;,\n",
       "       &#x27;rs2--owi-cm-20161015t202838-20161015t202954-00003-______sw.nc&#x27;,\n",
       "       &#x27;s1a-ew-owi-cm-20170207t015253-20170207t015558-000003-018D33_sw.nc&#x27;,\n",
       "       &#x27;s1a-iw-owi-cm-20170504t071401-20170504t071505-000003-01B35C_sw.nc&#x27;,\n",
       "       &#x27;rs2--owi-cm-20170729t083209-20170729t083300-00003-______sw.nc&#x27;,\n",
       "       &#x27;rs2--owi-cm-20170730t080121-20170730t080401-00003-______sw.nc&#x27;,\n",
       "       &#x27;rs2--owi-cm-20170819t140047-20170819t140203-00003-______sw.nc&#x27;,\n",
       "       &#x27;rs2--owi-cm-20170825t001957-20170825t002112-00003-______sw.nc&#x27;,\n",
       "       &#x27;s1b-iw-owi-cm-20170825t095721-20170825t095901-000003-00C80B_sw.nc&#x27;,\n",
       "       &#x27;rs2--owi-cm-20170906t211519-20170906t211921-00003-______sw.nc&#x27;,\n",
       "       &#x27;s1a-iw-owi-cm-20170907t102951-20170907t103127-000003-01EB76_sw.nc&#x27;,\n",
       "       &#x27;s1a-iw-owi-cm-20170908t220217-20170908t220421-000003-01EC26_sw.nc&#x27;,\n",
       "       &#x27;s1a-iw-owi-cm-20170921t224421-20170921t224626-000003-01F204_sw.nc&#x27;,\n",
       "       &#x27;s1b-iw-owi-cm-20170923t104349-20170923t104554-000003-00D45F_sw.nc&#x27;,\n",
       "       &#x27;rs2--owi-cm-20171021t092057-20171021t092213-00003-______sw.nc&#x27;,\n",
       "       &#x27;s1a-iw-owi-cm-20180103t145358-20180103t145513-000003-0220D9_sw.nc&#x27;,\n",
       "       &#x27;s1a-ew-owi-cm-20180201t132219-20180201t132527-000003-022E2F_sw.nc&#x27;,\n",
       "       &#x27;rs2--owi-cm-20180724t205425-20180724t205648-00003-______sw.nc&#x27;],\n",
       "      dtype=object)</pre></div></li><li class='xr-var-item'><div class='xr-var-name'><span>file_tcva</span></div><div class='xr-var-dims'>(time)</div><div class='xr-var-dtype'>object</div><div class='xr-var-preview xr-preview'>&#x27;rs2--owi-ca-20150710t203051-201...</div><input id='attrs-6dd379a3-960d-4cfb-8439-feb6014b374c' class='xr-var-attrs-in' type='checkbox' ><label for='attrs-6dd379a3-960d-4cfb-8439-feb6014b374c' title='Show/Hide attributes'><svg class='icon xr-icon-file-text2'><use xlink:href='#icon-file-text2'></use></svg></label><input id='data-9b2952aa-5ef6-4dba-8ea0-9c650118409a' class='xr-var-data-in' type='checkbox'><label for='data-9b2952aa-5ef6-4dba-8ea0-9c650118409a' title='Show/Hide data repr'><svg class='icon xr-icon-database'><use xlink:href='#icon-database'></use></svg></label><div class='xr-var-attrs'><dl class='xr-attrs'><dt><span>long_name :</span></dt><dd>File name in the TCVA database</dd><dt><span>description :</span></dt><dd>Taken from Ifremer TCVA product</dd></dl></div><div class='xr-var-data'><pre>array([&#x27;rs2--owi-ca-20150710t203051-20150710t203207-00003-______sw_wp112015_cyclone_polar.nc&#x27;,\n",
       "       &#x27;rs2--owi-ca-20150715t144252-20150715t144408-00003-______sw_ep062015_cyclone_polar.nc&#x27;,\n",
       "       &#x27;rs2--owi-ca-20150801t194958-20150801t195113-00003-______sw_wp132015_cyclone_polar.nc&#x27;,\n",
       "       &#x27;rs2--owi-ca-20150803t152928-20150803t153044-00003-______sw_ep092015_cyclone_polar.nc&#x27;,\n",
       "       &#x27;rs2--owi-ca-20150803t202943-20150803t203347-00003-______sw_wp132015_cyclone_polar.nc&#x27;,\n",
       "       &#x27;rs2--owi-ca-20150805t211206-20150805t211322-00003-______sw_wp132015_cyclone_polar.nc&#x27;,\n",
       "       &#x27;rs2--owi-ca-20150821t214623-20150821t214717-00003-______sw_wp162015_cyclone_polar.nc&#x27;,\n",
       "       &#x27;rs2--owi-ca-20150827t170957-20150827t171231-00003-______sw_cp032015_cyclone_polar.nc&#x27;,\n",
       "       &#x27;rs2--owi-ca-20150829t034258-20150829t034658-00003-______sw_ep122015_cyclone_polar.nc&#x27;,\n",
       "       &#x27;rs2--owi-ca-20150830t154150-20150830t154305-00003-______sw_ep122015_cyclone_polar.nc&#x27;,\n",
       "       &#x27;rs2--owi-ca-20150902t201620-20150902t201736-00003-______sw_al062015_cyclone_polar.nc&#x27;,\n",
       "       &#x27;rs2--owi-ca-20150903t152310-20150903t152714-00003-______sw_ep132015_cyclone_polar.nc&#x27;,\n",
       "       &#x27;rs2--owi-ca-20150904t181517-20150904t181633-00003-______sw_cp032015_cyclone_polar.nc&#x27;,\n",
       "       &#x27;rs2--owi-ca-20150906t185705-20150906t185821-00003-______sw_cp032015_cyclone_polar.nc&#x27;,\n",
       "       &#x27;rs2--owi-ca-20151021t152606-20151021t152722-00003-______sw_ep192015_cyclone_polar.nc&#x27;,\n",
       "       &#x27;rs2--owi-ca-20151023t124550-20151023t124825-00003-______sw_ep202015_cyclone_polar.nc&#x27;,\n",
       "       &#x27;rs2--owi-ca-20160708t024536-20160708t024652-00003-______sw_ep032016_cyclone_polar.nc&#x27;,\n",
       "       &#x27;rs2--owi-ca-20160709t144141-20160709t144257-00003-______sw_ep032016_cyclone_polar.nc&#x27;,\n",
       "       &#x27;rs2--owi-ca-20160724t140547-20160724t140702-00003-______sw_ep082016_cyclone_polar.nc&#x27;,\n",
       "       &#x27;rs2--owi-ca-20160825t093014-20160825t093130-00003-______sw_wp122016_cyclone_polar.nc&#x27;,\n",
       "...\n",
       "       &#x27;rs2--owi-ca-20161006t223232-20161006t223348-00003-______sw_al152016_cyclone_polar.nc&#x27;,\n",
       "       &#x27;rs2--owi-ca-20161008t102403-20161008t102520-00003-______sw_al152016_cyclone_polar.nc&#x27;,\n",
       "       &#x27;rs2--owi-ca-20161015t202838-20161015t202954-00003-______sw_wp252016_cyclone_polar.nc&#x27;,\n",
       "       &#x27;s1a-ew-owi-ca-20170207t015253-20170207t015558-000003-018D33_sw_sh042017_cyclone_polar.nc&#x27;,\n",
       "       &#x27;s1a-iw-owi-ca-20170504t071401-20170504t071505-000003-01B35C_sw_sh182017_cyclone_polar.nc&#x27;,\n",
       "       &#x27;rs2--owi-ca-20170729t083209-20170729t083300-00003-______sw_wp072017_cyclone_polar.nc&#x27;,\n",
       "       &#x27;rs2--owi-ca-20170730t080121-20170730t080401-00003-______sw_wp072017_cyclone_polar.nc&#x27;,\n",
       "       &#x27;rs2--owi-ca-20170819t140047-20170819t140203-00003-______sw_ep132017_cyclone_polar.nc&#x27;,\n",
       "       &#x27;rs2--owi-ca-20170825t001957-20170825t002112-00003-______sw_al092017_cyclone_polar.nc&#x27;,\n",
       "       &#x27;s1b-iw-owi-ca-20170825t095721-20170825t095901-000003-00C80B_sw_wp162017_cyclone_polar.nc&#x27;,\n",
       "       &#x27;rs2--owi-ca-20170906t211519-20170906t211921-00003-______sw_al122017_cyclone_polar.nc&#x27;,\n",
       "       &#x27;s1a-iw-owi-ca-20170907t102951-20170907t103127-000003-01EB76_sw_al112017_cyclone_polar.nc&#x27;,\n",
       "       &#x27;s1a-iw-owi-ca-20170908t220217-20170908t220421-000003-01EC26_sw_al122017_cyclone_polar.nc&#x27;,\n",
       "       &#x27;s1a-iw-owi-ca-20170921t224421-20170921t224626-000003-01F204_sw_al152017_cyclone_polar.nc&#x27;,\n",
       "       &#x27;s1b-iw-owi-ca-20170923t104349-20170923t104554-000003-00D45F_sw_al152017_cyclone_polar.nc&#x27;,\n",
       "       &#x27;rs2--owi-ca-20171021t092057-20171021t092213-00003-______sw_wp252017_cyclone_polar.nc&#x27;,\n",
       "       &#x27;s1a-iw-owi-ca-20180103t145358-20180103t145513-000003-0220D9_sw_sh032018_cyclone_polar.nc&#x27;,\n",
       "       &#x27;s1a-ew-owi-ca-20180201t132219-20180201t132527-000003-022E2F_sw_sh072018_cyclone_polar.nc&#x27;,\n",
       "       &#x27;rs2--owi-ca-20180724t205425-20180724t205648-00003-______sw_wp152018_cyclone_polar.nc&#x27;],\n",
       "      dtype=object)</pre></div></li><li class='xr-var-item'><div class='xr-var-name'><span>lat</span></div><div class='xr-var-dims'>(time)</div><div class='xr-var-dtype'>float64</div><div class='xr-var-preview xr-preview'>18.27 18.9 14.52 ... -15.84 20.49</div><input id='attrs-a8d64171-28a5-4f07-8a34-b38ef9cc8095' class='xr-var-attrs-in' type='checkbox' ><label for='attrs-a8d64171-28a5-4f07-8a34-b38ef9cc8095' title='Show/Hide attributes'><svg class='icon xr-icon-file-text2'><use xlink:href='#icon-file-text2'></use></svg></label><input id='data-eaeb748a-a2ae-4e6c-abd0-042d75d54648' class='xr-var-data-in' type='checkbox'><label for='data-eaeb748a-a2ae-4e6c-abd0-042d75d54648' title='Show/Hide data repr'><svg class='icon xr-icon-database'><use xlink:href='#icon-database'></use></svg></label><div class='xr-var-attrs'><dl class='xr-attrs'><dt><span>long_name :</span></dt><dd>Latitude of the storm SAR center</dd><dt><span>description :</span></dt><dd>Based on Vinour et al., 2021 (JAS) method </dd><dt><span>units :</span></dt><dd>degrees_north</dd></dl></div><div class='xr-var-data'><pre>array([ 18.27130404,  18.90114799,  14.51896536,  17.1822596 ,\n",
       "        17.9280054 ,  20.31251148,  19.91299524,  17.61040309,\n",
       "        15.08441396,  18.27875952,  20.15611646,  18.7183718 ,\n",
       "        23.47757205,  24.30990146,  11.83837835,  17.26345187,\n",
       "        16.87086156,  20.42717244,  15.0792131 ,  23.30790766,\n",
       "        23.31058534,  26.08966502,  17.8056385 ,  17.9009629 ,\n",
       "        17.61699569,  29.08133131,  18.74355744,  24.78790853,\n",
       "        16.05373768,  19.44659376,  19.90418561,  27.40308796,\n",
       "        25.56762206,   9.88588037, -19.17436156, -12.46093527,\n",
       "        25.67924502,  23.00672682,  15.47613525,  24.93125715,\n",
       "        15.83638347,  13.86137206,  20.00589207,  16.59489475,\n",
       "        20.72599345,  24.84476426,  23.18565051, -16.39422866,\n",
       "       -15.83724111,  20.48540808])</pre></div></li><li class='xr-var-item'><div class='xr-var-name'><span>lon</span></div><div class='xr-var-dims'>(time)</div><div class='xr-var-dtype'>float64</div><div class='xr-var-preview xr-preview'>140.4 -132.9 149.0 ... 75.94 136.6</div><input id='attrs-c3629c3e-da4d-4f00-b15c-66ec05108e8a' class='xr-var-attrs-in' type='checkbox' ><label for='attrs-c3629c3e-da4d-4f00-b15c-66ec05108e8a' title='Show/Hide attributes'><svg class='icon xr-icon-file-text2'><use xlink:href='#icon-file-text2'></use></svg></label><input id='data-32cab5f7-6f7f-43cc-ae9a-6577c59c3c67' class='xr-var-data-in' type='checkbox'><label for='data-32cab5f7-6f7f-43cc-ae9a-6577c59c3c67' title='Show/Hide data repr'><svg class='icon xr-icon-database'><use xlink:href='#icon-database'></use></svg></label><div class='xr-var-attrs'><dl class='xr-attrs'><dt><span>long_name :</span></dt><dd>Longitude of the storm SAR center</dd><dt><span>description :</span></dt><dd>Based on Vinour et al., 2021 (JAS) method </dd><dt><span>units :</span></dt><dd>degrees_east</dd></dl></div><div class='xr-var-data'><pre>array([ 140.39725112, -132.94376881,  148.95384781, -146.10873229,\n",
       "        140.24135707,  130.74463769,  122.49655585, -168.40258508,\n",
       "       -145.30551865, -148.52328064,  -31.67572745, -144.08451678,\n",
       "        174.6411784 ,  166.00788728, -144.5220491 , -105.54426888,\n",
       "       -128.60042429, -132.49194719, -124.61934063,  130.95849262,\n",
       "        130.95951504,  -49.77319009, -126.25757333, -134.26370577,\n",
       "       -136.51877899,  -84.78911505, -146.22540983, -159.23680208,\n",
       "        136.49926212,  126.00165414,  129.60028434,  -65.16480146,\n",
       "        -65.67044956,  139.96312279,   55.82210085,  167.95655055,\n",
       "        142.13946526,  141.51717705, -121.93087059,  -94.38825487,\n",
       "        122.45866457,  -46.07315536,  -68.64940004,  -58.53680379,\n",
       "        -69.95024363,  -72.18514993,  132.37304797,   53.00642768,\n",
       "         75.94126311,  136.56506237])</pre></div></li><li class='xr-var-item'><div class='xr-var-name'><span>fcor</span></div><div class='xr-var-dims'>(time)</div><div class='xr-var-dtype'>float64</div><div class='xr-var-preview xr-preview'>4.572e-05 4.724e-05 ... 5.104e-05</div><input id='attrs-b6af639c-c3bc-45bd-a8c3-34237d6a365f' class='xr-var-attrs-in' type='checkbox' ><label for='attrs-b6af639c-c3bc-45bd-a8c3-34237d6a365f' title='Show/Hide attributes'><svg class='icon xr-icon-file-text2'><use xlink:href='#icon-file-text2'></use></svg></label><input id='data-ee22a0f4-c6c4-4629-aa96-246952aa8776' class='xr-var-data-in' type='checkbox'><label for='data-ee22a0f4-c6c4-4629-aa96-246952aa8776' title='Show/Hide data repr'><svg class='icon xr-icon-database'><use xlink:href='#icon-database'></use></svg></label><div class='xr-var-attrs'><dl class='xr-attrs'><dt><span>long_name :</span></dt><dd>Coriolis parameter of the storm SAR center</dd><dt><span>units :</span></dt><dd>s-1</dd></dl></div><div class='xr-var-data'><pre>array([ 4.57239328e-05,  4.72435287e-05,  3.65626557e-05,  4.30835140e-05,\n",
       "        4.48933335e-05,  5.06276570e-05,  4.96727363e-05,  4.41234696e-05,\n",
       "        3.79541939e-05,  4.57419530e-05,  5.02541335e-05,  4.68031327e-05,\n",
       "        5.81020036e-05,  6.00390467e-05,  2.99197312e-05,  4.32809157e-05,\n",
       "        4.23256173e-05,  5.09012662e-05,  3.79414115e-05,  5.77056334e-05,\n",
       "        5.77118930e-05,  6.41379830e-05,  4.45968798e-05,  4.48278362e-05,\n",
       "        4.41394639e-05,  7.08865994e-05,  4.68638455e-05,  6.11457898e-05,\n",
       "        4.03309719e-05,  4.85548947e-05,  4.96516522e-05,  6.71234353e-05,\n",
       "        6.29419147e-05,  2.50390778e-05, -4.79009340e-05, -3.14688996e-05,\n",
       "        6.31981000e-05,  5.70007703e-05,  3.89160393e-05,  6.14768628e-05,\n",
       "        3.97990001e-05,  3.49398851e-05,  4.98949948e-05,  4.16529093e-05,\n",
       "        5.16133659e-05,  6.12771477e-05,  5.74197023e-05, -4.11631497e-05,\n",
       "       -3.98011002e-05,  5.10401528e-05])</pre></div></li><li class='xr-var-item'><div class='xr-var-name'><span>vmx</span></div><div class='xr-var-dims'>(time)</div><div class='xr-var-dtype'>float64</div><div class='xr-var-preview xr-preview'>43.64 26.21 29.19 ... 43.43 28.05</div><input id='attrs-13767d7c-4f5b-4138-9101-d9e64a76b551' class='xr-var-attrs-in' type='checkbox' ><label for='attrs-13767d7c-4f5b-4138-9101-d9e64a76b551' title='Show/Hide attributes'><svg class='icon xr-icon-file-text2'><use xlink:href='#icon-file-text2'></use></svg></label><input id='data-7abf25aa-280d-4683-a670-a44f66768885' class='xr-var-data-in' type='checkbox'><label for='data-7abf25aa-280d-4683-a670-a44f66768885' title='Show/Hide data repr'><svg class='icon xr-icon-database'><use xlink:href='#icon-database'></use></svg></label><div class='xr-var-attrs'><dl class='xr-attrs'><dt><span>long_name :</span></dt><dd>Maximum wind speed of the SAR axisymmetric wind profile</dd><dt><span>units :</span></dt><dd>m/s</dd></dl></div><div class='xr-var-data'><pre>array([43.64159259, 26.20988889, 29.19373148, 26.75675   , 69.97524074,\n",
       "       38.70633333, 34.93223148, 24.40833333, 38.20713889, 45.4057037 ,\n",
       "       20.17831481, 41.13811111, 33.44665741, 37.27127778, 49.65109259,\n",
       "       70.2857963 , 40.21836111, 26.53857407, 33.27343519, 42.19740741,\n",
       "       42.08751852, 28.82030556, 35.84878704, 48.99841667, 48.42958333,\n",
       "       29.37474074, 48.99664815, 29.48591667, 25.83813889, 64.02996296,\n",
       "       30.06064815, 43.35769444, 20.63176852, 21.17656481, 25.63375926,\n",
       "       38.49144444, 28.62562037, 42.80355556, 21.85613889, 37.86670623,\n",
       "       28.47593519, 27.7905    , 60.13821296, 57.42075926, 51.52565741,\n",
       "       45.21475   , 56.72160185, 25.28181481, 43.42746296, 28.04953704])</pre></div></li><li class='xr-var-item'><div class='xr-var-name'><span>rmx</span></div><div class='xr-var-dims'>(time)</div><div class='xr-var-dtype'>float64</div><div class='xr-var-preview xr-preview'>3.4e+04 2e+04 ... 4.2e+04 1.3e+04</div><input id='attrs-65951dbf-7f69-4989-b13d-5b51f9dd36b3' class='xr-var-attrs-in' type='checkbox' ><label for='attrs-65951dbf-7f69-4989-b13d-5b51f9dd36b3' title='Show/Hide attributes'><svg class='icon xr-icon-file-text2'><use xlink:href='#icon-file-text2'></use></svg></label><input id='data-09c28551-11fd-4abf-a9be-8ef9f0fcc131' class='xr-var-data-in' type='checkbox'><label for='data-09c28551-11fd-4abf-a9be-8ef9f0fcc131' title='Show/Hide data repr'><svg class='icon xr-icon-database'><use xlink:href='#icon-database'></use></svg></label><div class='xr-var-attrs'><dl class='xr-attrs'><dt><span>long_name :</span></dt><dd>Radius of maximum wind speed of the SAR axisymmetric wind profile</dd><dt><span>units :</span></dt><dd>meters</dd></dl></div><div class='xr-var-data'><pre>array([34000., 20000., 13000., 38000., 16000., 36000., 45000., 10000.,\n",
       "       28000., 17000., 50000., 44000., 80000., 83000., 23000.,  8000.,\n",
       "       38000., 46000., 22000., 20000., 20000., 31000., 25000., 20000.,\n",
       "       19000., 39000., 21000., 47000., 35000., 11000.,  9000., 11000.,\n",
       "       60000., 42000., 33000., 28000., 31000., 23000., 20000., 18000.,\n",
       "       23000., 34000., 20000., 13000., 35000., 34000., 32000., 42000.,\n",
       "       42000., 13000.])</pre></div></li><li class='xr-var-item'><div class='xr-var-name'><span>vmn</span></div><div class='xr-var-dims'>(time)</div><div class='xr-var-dtype'>float64</div><div class='xr-var-preview xr-preview'>7.992 6.745 6.653 ... 10.49 4.715</div><input id='attrs-62cd9450-2e71-440c-8ff1-4b967f00c2d9' class='xr-var-attrs-in' type='checkbox' ><label for='attrs-62cd9450-2e71-440c-8ff1-4b967f00c2d9' title='Show/Hide attributes'><svg class='icon xr-icon-file-text2'><use xlink:href='#icon-file-text2'></use></svg></label><input id='data-96d544cd-e39a-4755-bf34-44abf556f819' class='xr-var-data-in' type='checkbox'><label for='data-96d544cd-e39a-4755-bf34-44abf556f819' title='Show/Hide data repr'><svg class='icon xr-icon-database'><use xlink:href='#icon-database'></use></svg></label><div class='xr-var-attrs'><dl class='xr-attrs'><dt><span>long_name :</span></dt><dd>Minimum wind speed of the SAR axisymmetric wind profile</dd><dt><span>units :</span></dt><dd>m/s</dd></dl></div><div class='xr-var-data'><pre>array([ 7.99162963,  6.74497967,  6.65259259,  8.14394444, 11.15028011,\n",
       "       12.1452381 ,  4.38378205,  5.60677778,  6.62669799,  8.99096491,\n",
       "        6.64462037,  5.38036111,  5.58757407,  7.98333333, 11.21016667,\n",
       "       10.42362222,  7.8415    , 11.39108333,  7.09572381,  5.94444444,\n",
       "        5.83655556,  8.33694444,  4.55222222, 10.56559524, 10.63904762,\n",
       "        9.04052778,  7.42476389,  2.08916667,  4.525625  ,  7.47754682,\n",
       "        8.01215741,  4.31162338,  7.04264706,  7.44094444,  9.73368687,\n",
       "       10.52213889,  5.855     ,  8.89501852,  6.58402778,  5.35664103,\n",
       "        8.53194444,  6.21089744,  8.66801802,  8.64283333,  8.3621131 ,\n",
       "       11.83361111, 11.01623148,  8.52288889, 10.49443519,  4.71524691])</pre></div></li><li class='xr-var-item'><div class='xr-var-name'><span>r34</span></div><div class='xr-var-dims'>(time)</div><div class='xr-var-dtype'>float64</div><div class='xr-var-preview xr-preview'>3e+05 7.6e+04 ... 3.34e+05 3.6e+04</div><input id='attrs-8aa5ecdb-5886-423e-af88-7b0911696edc' class='xr-var-attrs-in' type='checkbox' ><label for='attrs-8aa5ecdb-5886-423e-af88-7b0911696edc' title='Show/Hide attributes'><svg class='icon xr-icon-file-text2'><use xlink:href='#icon-file-text2'></use></svg></label><input id='data-c6e020ef-ce43-4586-a35b-1405b3b8fc03' class='xr-var-data-in' type='checkbox'><label for='data-c6e020ef-ce43-4586-a35b-1405b3b8fc03' title='Show/Hide data repr'><svg class='icon xr-icon-database'><use xlink:href='#icon-database'></use></svg></label><div class='xr-var-attrs'><dl class='xr-attrs'><dt><span>long_name :</span></dt><dd>Radius of gale-force winds, or 34 kts (17.5 m/s) of the SAR axisymmetric wind profile</dd><dt><span>units :</span></dt><dd>meters</dd></dl></div><div class='xr-var-data'><pre>array([300000.,  76000.,  38000.,  99000., 210000., 378000., 214000.,\n",
       "        57000.,  96000., 140000.,  72000., 253000., 217000., 281000.,\n",
       "       161000., 197000., 161000., 118000.,  59000., 173000., 173000.,\n",
       "       163000.,  95000., 106000., 118000., 147000., 110000., 113000.,\n",
       "       108000., 201000., 377000.,  66000.,  95000., 116000., 129000.,\n",
       "       163000.,  75000., 140000.,  34000.,  76000.,  74000.,  90000.,\n",
       "       260000., 147000., 239000., 318000., 471000., 138000., 334000.,\n",
       "        36000.])</pre></div></li><li class='xr-var-item'><div class='xr-var-name'><span>r50</span></div><div class='xr-var-dims'>(time)</div><div class='xr-var-dtype'>float64</div><div class='xr-var-preview xr-preview'>2e+05 2.4e+04 ... 1.4e+05 1.8e+04</div><input id='attrs-8872fc66-ecd6-43f3-bdbe-b8d33cf25ec6' class='xr-var-attrs-in' type='checkbox' ><label for='attrs-8872fc66-ecd6-43f3-bdbe-b8d33cf25ec6' title='Show/Hide attributes'><svg class='icon xr-icon-file-text2'><use xlink:href='#icon-file-text2'></use></svg></label><input id='data-a31ca4ad-183a-45f3-b981-d728fa1841e5' class='xr-var-data-in' type='checkbox'><label for='data-a31ca4ad-183a-45f3-b981-d728fa1841e5' title='Show/Hide data repr'><svg class='icon xr-icon-database'><use xlink:href='#icon-database'></use></svg></label><div class='xr-var-attrs'><dl class='xr-attrs'><dt><span>long_name :</span></dt><dd>Radius of damaging-force winds, or 50 kts (25.7 m/s) of the SAR axisymmetric wind profile</dd><dt><span>units :</span></dt><dd>meters</dd></dl></div><div class='xr-var-data'><pre>array([200000.,  24000.,     nan,  45000.,  97000., 175000., 100000.,\n",
       "           nan,  52000.,  85000.,     nan, 146000., 126000., 204000.,\n",
       "        86000.,  75000., 101000.,  55000.,  38000., 105000., 106000.,\n",
       "        42000.,  57000.,  67000.,  66000.,  53000.,  72000.,  65000.,\n",
       "        36000., 110000.,  15000.,  39000.,     nan,     nan,  34000.,\n",
       "        71000.,  40000.,     nan,     nan,  43000.,  31000.,  45000.,\n",
       "       153000.,  80000., 148000., 180000., 239000.,     nan, 140000.,\n",
       "        18000.])</pre></div></li><li class='xr-var-item'><div class='xr-var-name'><span>r64</span></div><div class='xr-var-dims'>(time)</div><div class='xr-var-dtype'>float64</div><div class='xr-var-preview xr-preview'>1.2e+05 nan nan ... nan 9.6e+04 nan</div><input id='attrs-99a96b13-9098-44e4-a660-3328e58c3712' class='xr-var-attrs-in' type='checkbox' ><label for='attrs-99a96b13-9098-44e4-a660-3328e58c3712' title='Show/Hide attributes'><svg class='icon xr-icon-file-text2'><use xlink:href='#icon-file-text2'></use></svg></label><input id='data-7e3d5d85-f195-4307-8390-847de056ec5b' class='xr-var-data-in' type='checkbox'><label for='data-7e3d5d85-f195-4307-8390-847de056ec5b' title='Show/Hide data repr'><svg class='icon xr-icon-database'><use xlink:href='#icon-database'></use></svg></label><div class='xr-var-attrs'><dl class='xr-attrs'><dt><span>long_name :</span></dt><dd>Radius of hurricane-force winds, or 64 kts (32.9 m/s) of the SAR axisymmetric wind profile</dd><dt><span>units :</span></dt><dd>meters</dd></dl></div><div class='xr-var-data'><pre>array([120000.,     nan,     nan,     nan,  62000.,  56000.,  62000.,\n",
       "           nan,  39000.,  47000.,     nan,  88000.,  85000., 141000.,\n",
       "        55000.,  44000.,  67000.,     nan,  23000.,  67000.,  67000.,\n",
       "           nan,  32000.,  51000.,  48000.,     nan,  53000.,     nan,\n",
       "           nan,  80000.,     nan,  27000.,     nan,     nan,     nan,\n",
       "        41000.,     nan,  55000.,     nan,  26000.,     nan,     nan,\n",
       "        99000.,  54000., 106000., 105000.,  96000.,     nan,  96000.,\n",
       "           nan])</pre></div></li><li class='xr-var-item'><div class='xr-var-name'><span>B_hol</span></div><div class='xr-var-dims'>(time)</div><div class='xr-var-dtype'>float64</div><div class='xr-var-preview xr-preview'>1.137 1.787 1.871 ... 2.194 1.557</div><input id='attrs-17f5081d-258f-4502-a6d8-81ab487b773c' class='xr-var-attrs-in' type='checkbox' ><label for='attrs-17f5081d-258f-4502-a6d8-81ab487b773c' title='Show/Hide attributes'><svg class='icon xr-icon-file-text2'><use xlink:href='#icon-file-text2'></use></svg></label><input id='data-fd16c690-a184-4a35-8cc1-8edb1a999855' class='xr-var-data-in' type='checkbox'><label for='data-fd16c690-a184-4a35-8cc1-8edb1a999855' title='Show/Hide data repr'><svg class='icon xr-icon-database'><use xlink:href='#icon-database'></use></svg></label><div class='xr-var-attrs'><dl class='xr-attrs'><dt><span>long_name :</span></dt><dd>B parameter of an adjusted Holland parametric wind profile suited for non-zero minimum wind speeds at the storm center</dd><dt><span>description :</span></dt><dd>See Avenas et al., 2023 (MWR) for more details (Bs in the text)</dd></dl></div><div class='xr-var-data'><pre>array([1.13719984, 1.78706153, 1.87145333, 2.10427022, 1.85348982,\n",
       "       1.07639775, 1.14197017, 1.06264956, 1.96614672, 1.64831423,\n",
       "       2.08501758, 1.62420535, 1.55776222, 1.8171918 , 2.0972651 ,\n",
       "       1.44859955, 2.07736184, 2.70634691, 2.78743103, 1.32630657,\n",
       "       1.2978557 , 0.48472788, 1.54343562, 2.54326084, 2.35794793,\n",
       "       1.74844819, 2.16415274, 1.36997701, 1.45396025, 1.30204181,\n",
       "       0.42921029, 1.66847645, 1.65110526, 1.10939398, 1.36406805,\n",
       "       2.44895131, 2.22390673, 1.89681605, 0.98280503, 1.87589925,\n",
       "       2.36351577, 1.83558474, 1.55975367, 1.57979954, 1.64291782,\n",
       "       1.61387076, 2.35608495, 1.72034118, 2.19426908, 1.55705666])</pre></div></li><li class='xr-var-item'><div class='xr-var-name'><span>vmn_hol</span></div><div class='xr-var-dims'>(time)</div><div class='xr-var-dtype'>float64</div><div class='xr-var-preview xr-preview'>5.29 7.53 12.78 ... 14.38 5.495</div><input id='attrs-7f533b8b-b343-4a04-96bf-7a2871c333b2' class='xr-var-attrs-in' type='checkbox' ><label for='attrs-7f533b8b-b343-4a04-96bf-7a2871c333b2' title='Show/Hide attributes'><svg class='icon xr-icon-file-text2'><use xlink:href='#icon-file-text2'></use></svg></label><input id='data-0625c656-d136-4ff9-b47a-dcacf42e7ba6' class='xr-var-data-in' type='checkbox'><label for='data-0625c656-d136-4ff9-b47a-dcacf42e7ba6' title='Show/Hide data repr'><svg class='icon xr-icon-database'><use xlink:href='#icon-database'></use></svg></label><div class='xr-var-attrs'><dl class='xr-attrs'><dt><span>long_name :</span></dt><dd>Vmin parameter of an adjusted Holland parametric wind profile suited for non-zero minimum wind speeds at the storm center</dd><dt><span>description :</span></dt><dd>See Avenas et al., 2023 (MWR) for more details (Vmin in the text)</dd><dt><span>units :</span></dt><dd>m/s</dd></dl></div><div class='xr-var-data'><pre>array([ 5.29012674,  7.53009479, 12.78325004,  8.77646948, 12.19009756,\n",
       "        9.79027246,  1.10092006,  5.18795408,  7.99451668,  8.11563783,\n",
       "        7.33169173,  7.75908774,  7.99958572,  7.39704414, 12.31342857,\n",
       "       10.37193284, 10.64307701, 11.78585164,  8.01580296,  7.10972504,\n",
       "        6.35653529,  3.24776055,  5.14811083, 11.9513856 , 12.81267528,\n",
       "       11.35956677,  9.0372184 ,  6.7277602 ,  5.7659478 ,  5.69316348,\n",
       "        0.66734425,  5.08677275,  6.68424486,  8.66621318,  9.58645233,\n",
       "       14.13376246,  9.51177047,  9.0436211 ,  6.11673895,  6.51705906,\n",
       "       12.60390188,  5.5412358 ,  8.96540044,  8.64635543,  6.85869815,\n",
       "       14.02773389, 20.3626953 , 11.35419636, 14.37843809,  5.49529908])</pre></div></li><li class='xr-var-item'><div class='xr-var-name'><span>rmx_hol</span></div><div class='xr-var-dims'>(time)</div><div class='xr-var-dtype'>float64</div><div class='xr-var-preview xr-preview'>4.036e+04 2.547e+04 ... 1.365e+04</div><input id='attrs-98a964dd-64f6-4537-b4ac-eac4a9052375' class='xr-var-attrs-in' type='checkbox' ><label for='attrs-98a964dd-64f6-4537-b4ac-eac4a9052375' title='Show/Hide attributes'><svg class='icon xr-icon-file-text2'><use xlink:href='#icon-file-text2'></use></svg></label><input id='data-7de273ee-9750-4cea-b944-a5597712bbef' class='xr-var-data-in' type='checkbox'><label for='data-7de273ee-9750-4cea-b944-a5597712bbef' title='Show/Hide data repr'><svg class='icon xr-icon-database'><use xlink:href='#icon-database'></use></svg></label><div class='xr-var-attrs'><dl class='xr-attrs'><dt><span>long_name :</span></dt><dd>Rmax parameter of an adjusted Holland parametric wind profile suited for non-zero minimum wind speeds at the storm center</dd><dt><span>description :</span></dt><dd>See Avenas et al., 2023 (MWR) for more details (Rmax in the text)</dd><dt><span>units :</span></dt><dd>meters</dd></dl></div><div class='xr-var-data'><pre>array([40355.32494794, 25466.7697126 , 14826.53113017, 41520.85084452,\n",
       "       17631.05924296, 50492.38706304, 34334.13894693, 16183.06254935,\n",
       "       28606.89596192, 21477.88782258, 53496.51067338, 51511.69421711,\n",
       "       70208.66303278, 85441.00387448, 24153.46542209,  8317.41104238,\n",
       "       37685.14066482, 49994.25038778, 23404.35976359, 22311.88828777,\n",
       "       22522.74265681, 38497.33271667, 21803.90905205, 21769.77951127,\n",
       "       19186.19627325, 48619.37557531, 22257.93020499, 36486.22757078,\n",
       "       36750.10277458, 14626.21989871, 76188.67612173, 13766.03946419,\n",
       "       62342.28303457, 34453.72945331, 30840.37116706, 31407.52839392,\n",
       "       34018.28369051, 27956.55686547,  9814.96780285, 20999.23905501,\n",
       "       25307.61828886, 28739.89651189, 26359.08211292, 13281.42758709,\n",
       "       42449.41603783, 44753.89400309, 40453.1236228 , 53274.75638075,\n",
       "       51455.76400839, 13652.57507654])</pre></div></li><li class='xr-var-item'><div class='xr-var-name'><span>vmx_hol</span></div><div class='xr-var-dims'>(time)</div><div class='xr-var-dtype'>float64</div><div class='xr-var-preview xr-preview'>43.62 26.69 25.2 ... 43.53 25.64</div><input id='attrs-5123b7c5-7a37-428c-9fde-a81a670ceff4' class='xr-var-attrs-in' type='checkbox' ><label for='attrs-5123b7c5-7a37-428c-9fde-a81a670ceff4' title='Show/Hide attributes'><svg class='icon xr-icon-file-text2'><use xlink:href='#icon-file-text2'></use></svg></label><input id='data-197602fd-dd2a-4e63-b3bf-afeb899e4949' class='xr-var-data-in' type='checkbox'><label for='data-197602fd-dd2a-4e63-b3bf-afeb899e4949' title='Show/Hide data repr'><svg class='icon xr-icon-database'><use xlink:href='#icon-database'></use></svg></label><div class='xr-var-attrs'><dl class='xr-attrs'><dt><span>long_name :</span></dt><dd>Vmax parameter of an adjusted Holland parametric wind profile suited for non-zero minimum wind speeds at the storm center</dd><dt><span>description :</span></dt><dd>See Avenas et al., 2023 (MWR) for more details (Vmax in the text)</dd><dt><span>units :</span></dt><dd>m/s</dd></dl></div><div class='xr-var-data'><pre>array([43.62346364, 26.68765387, 25.19938035, 26.9023971 , 61.1263962 ,\n",
       "       36.18041813, 36.33561561, 22.27348972, 34.16813232, 43.74447347,\n",
       "       20.75319012, 40.55268666, 32.56552854, 40.33496694, 46.82317093,\n",
       "       64.20496583, 40.78804023, 27.98506431, 32.70297813, 44.88925594,\n",
       "       44.73462331, 24.3233058 , 34.96568609, 49.10878835, 50.98775749,\n",
       "       29.22990304, 49.33551939, 29.13603744, 26.05426998, 60.50345814,\n",
       "       27.83214747, 41.74951073, 22.2577718 , 21.59951135, 26.35957149,\n",
       "       36.79811024, 27.66909252, 42.51641493, 21.92681021, 35.1980506 ,\n",
       "       27.18785371, 28.68226495, 57.01155133, 56.88270836, 48.44408763,\n",
       "       44.75968561, 52.19649287, 24.29328523, 43.52836967, 25.64150974])</pre></div></li><li class='xr-var-item'><div class='xr-var-name'><span>rps</span></div><div class='xr-var-dims'>(time)</div><div class='xr-var-dtype'>float64</div><div class='xr-var-preview xr-preview'>9.557e+04 4.818e+04 ... 3.616e+04</div><input id='attrs-b5d5b5dd-d217-4477-9f68-738de2e420f0' class='xr-var-attrs-in' type='checkbox' ><label for='attrs-b5d5b5dd-d217-4477-9f68-738de2e420f0' title='Show/Hide attributes'><svg class='icon xr-icon-file-text2'><use xlink:href='#icon-file-text2'></use></svg></label><input id='data-e8a113df-f754-4319-b83e-6affc46715d1' class='xr-var-data-in' type='checkbox'><label for='data-e8a113df-f754-4319-b83e-6affc46715d1' title='Show/Hide data repr'><svg class='icon xr-icon-database'><use xlink:href='#icon-database'></use></svg></label><div class='xr-var-attrs'><dl class='xr-attrs'><dt><span>long_name :</span></dt><dd>Radius of significant upward motions R+</dd><dt><span>description :</span></dt><dd>Defined as when the relative vorticity is 5 times the planetary vorticity (fcor)</dd><dt><span>method :</span></dt><dd>Computed on the adjusted Holland parametric wind profile</dd><dt><span>units :</span></dt><dd>meters</dd></dl></div><div class='xr-var-data'><pre>array([ 95570.,  48180.,  63440.,  60720.,  60840.,  92550.,  73020.,\n",
       "        51290.,  57730.,  58500.,  59750.,  84860.,  81940.,  96180.,\n",
       "        74130.,  64320.,  67480.,  61100.,  36440.,  61930.,  62260.,\n",
       "        60700.,  53690.,  41900.,  46290.,  58640.,  46130.,  57490.,\n",
       "        66620.,  67130.,  92650.,  34510.,  61050., 100680.,  62620.,\n",
       "        71700.,  45850.,  52610.,  53490.,  39370.,  54320.,  56420.,\n",
       "        72120.,  60830.,  77290.,  77200.,  70090.,  76480.,  86160.,\n",
       "        36160.])</pre></div></li><li class='xr-var-item'><div class='xr-var-name'><span>vps</span></div><div class='xr-var-dims'>(time)</div><div class='xr-var-dtype'>float64</div><div class='xr-var-preview xr-preview'>35.43 21.23 16.84 ... 35.5 17.71</div><input id='attrs-223fc9eb-d075-4961-af54-01c0c5d31385' class='xr-var-attrs-in' type='checkbox' ><label for='attrs-223fc9eb-d075-4961-af54-01c0c5d31385' title='Show/Hide attributes'><svg class='icon xr-icon-file-text2'><use xlink:href='#icon-file-text2'></use></svg></label><input id='data-4aae9c74-b37c-4a0a-96c5-dcfe706cbc46' class='xr-var-data-in' type='checkbox'><label for='data-4aae9c74-b37c-4a0a-96c5-dcfe706cbc46' title='Show/Hide data repr'><svg class='icon xr-icon-database'><use xlink:href='#icon-database'></use></svg></label><div class='xr-var-attrs'><dl class='xr-attrs'><dt><span>long_name :</span></dt><dd>Wind speed of the SAR axisymmetric wind profile at the radius R+</dd><dt><span>units :</span></dt><dd>m/s</dd></dl></div><div class='xr-var-data'><pre>array([35.43283333, 21.23141667, 16.84350926, 22.67993519, 33.41682407,\n",
       "       29.19587553, 30.9991181 , 18.71447222, 23.61151688, 30.54287037,\n",
       "       19.1670463 , 33.5917963 , 33.31664815, 35.86221296, 27.93660185,\n",
       "       27.96851056, 33.00026852, 25.31050926, 26.61488889, 35.01077667,\n",
       "       35.10828   , 21.4140463 , 26.42790741, 36.49184259, 34.05203704,\n",
       "       24.87122396, 35.93640741, 27.86350926, 22.37451852, 35.74940092,\n",
       "       25.99433333, 27.8472963 , 20.62181481, 18.26119444, 22.11749074,\n",
       "       25.81761111, 24.22737037, 33.65712037, 14.69384259, 27.43754649,\n",
       "       20.50603632, 22.64651852, 40.73978877, 30.2242963 , 38.09826412,\n",
       "       37.65060185, 39.85412096, 20.38737354, 35.50117593, 17.7135    ])</pre></div></li><li class='xr-var-item'><div class='xr-var-name'><span>K</span></div><div class='xr-var-dims'>(time)</div><div class='xr-var-dtype'>float64</div><div class='xr-var-preview xr-preview'>5.849e+16 2.204e+15 ... 1.15e+15</div><input id='attrs-555bc4d6-516c-4b77-8b29-d9a05efd7bc9' class='xr-var-attrs-in' type='checkbox' ><label for='attrs-555bc4d6-516c-4b77-8b29-d9a05efd7bc9' title='Show/Hide attributes'><svg class='icon xr-icon-file-text2'><use xlink:href='#icon-file-text2'></use></svg></label><input id='data-331aff3b-4a1d-487c-b5ab-fdaa66ca7c9f' class='xr-var-data-in' type='checkbox'><label for='data-331aff3b-4a1d-487c-b5ab-fdaa66ca7c9f' title='Show/Hide data repr'><svg class='icon xr-icon-database'><use xlink:href='#icon-database'></use></svg></label><div class='xr-var-attrs'><dl class='xr-attrs'><dt><span>long_name :</span></dt><dd>Integrated kinetic energy (IKE) estimated from the SAR axysmmetric wind profile</dd><dt><span>description :</span></dt><dd>Based on the integral of rv^2 and the constants defined in Avenas et al., 2024 (GRL)</dd><dt><span>units :</span></dt><dd>Joules</dd></dl></div><div class='xr-var-data'><pre>array([5.84862471e+16, 2.20429158e+15, 2.58010825e+15, 4.70988354e+15,\n",
       "       8.16102060e+16, 3.55274357e+16, 1.92945347e+16, 9.74752252e+14,\n",
       "       1.17952093e+16, 1.91989443e+16, 1.67465884e+15, 4.34385399e+16,\n",
       "       2.50734512e+16, 5.10351058e+16, 4.13036478e+16, 4.64815500e+16,\n",
       "       2.69492382e+16, 5.48613881e+15, 3.79999455e+15, 2.06545491e+16,\n",
       "       2.06049397e+16, 5.43077300e+15, 8.17784579e+15, 2.12111386e+16,\n",
       "       2.23163081e+16, 6.81634202e+15, 2.21024085e+16, 7.25189667e+15,\n",
       "       4.50266248e+15, 5.94118441e+16, 3.84076703e+15, 5.68622945e+15,\n",
       "       2.30025871e+15, 4.30459343e+15, 4.25973923e+15, 2.05166971e+16,\n",
       "       3.41869860e+15, 1.74317273e+16, 1.06183105e+15, 5.36321343e+15,\n",
       "       3.93629083e+15, 4.23044597e+15, 8.56311229e+16, 3.53956214e+16,\n",
       "       7.30650577e+16, 5.17731520e+16, 1.01082071e+17, 5.81973705e+15,\n",
       "       5.83568844e+16, 1.14972863e+15])</pre></div></li><li class='xr-var-item'><div class='xr-var-name'><span>center_quality_flag</span></div><div class='xr-var-dims'>(time)</div><div class='xr-var-dtype'>float64</div><div class='xr-var-preview xr-preview'>0.0 0.0 0.0 0.0 ... 0.0 0.3 0.85</div><input id='attrs-17b81bd2-5abe-48e6-b4dc-d0bca9180176' class='xr-var-attrs-in' type='checkbox' ><label for='attrs-17b81bd2-5abe-48e6-b4dc-d0bca9180176' title='Show/Hide attributes'><svg class='icon xr-icon-file-text2'><use xlink:href='#icon-file-text2'></use></svg></label><input id='data-61425ea6-9f12-43ae-b8c7-c217b2df2269' class='xr-var-data-in' type='checkbox'><label for='data-61425ea6-9f12-43ae-b8c7-c217b2df2269' title='Show/Hide data repr'><svg class='icon xr-icon-database'><use xlink:href='#icon-database'></use></svg></label><div class='xr-var-attrs'><dl class='xr-attrs'><dt><span>long_name :</span></dt><dd>aggregated flag indicating general center quality</dd><dt><span>description :</span></dt><dd>Taken from Ifremer TCVA product</dd><dt><span>flag_values :</span></dt><dd>0 1 2</dd><dt><span>flag_meanings :</span></dt><dd>good warning bad</dd></dl></div><div class='xr-var-data'><pre>array([0.  , 0.  , 0.  , 0.  , 0.6 , 0.  , 0.9 , 0.  , 0.  , 0.  , 1.  ,\n",
       "       0.  , 0.  , 1.6 , 0.  , 0.6 , 0.  , 0.  , 0.  , 0.7 , 0.7 , 0.  ,\n",
       "       0.  , 0.  , 0.  , 1.8 , 0.  , 0.3 , 0.  , 0.6 , 0.6 , 0.  , 0.  ,\n",
       "       0.3 , 0.  , 0.  , 0.  , 0.  , 0.  , 0.5 , 0.9 , 0.  , 1.5 , 0.6 ,\n",
       "       0.  , 0.  , 0.6 , 0.  , 0.3 , 0.85])</pre></div></li><li class='xr-var-item'><div class='xr-var-name'><span>percent_outside</span></div><div class='xr-var-dims'>(time)</div><div class='xr-var-dtype'>float64</div><div class='xr-var-preview xr-preview'>1.421e-14 2.842e-14 ... 19.55</div><input id='attrs-2598cad9-2f19-438d-897f-7feca7c67a5a' class='xr-var-attrs-in' type='checkbox' ><label for='attrs-2598cad9-2f19-438d-897f-7feca7c67a5a' title='Show/Hide attributes'><svg class='icon xr-icon-file-text2'><use xlink:href='#icon-file-text2'></use></svg></label><input id='data-c6033bff-3620-41df-a190-a5788911db34' class='xr-var-data-in' type='checkbox'><label for='data-c6033bff-3620-41df-a190-a5788911db34' title='Show/Hide data repr'><svg class='icon xr-icon-database'><use xlink:href='#icon-database'></use></svg></label><div class='xr-var-attrs'><dl class='xr-attrs'><dt><span>long_name :</span></dt><dd>Area within 100km around track point outside acquisition bounding box</dd><dt><span>description :</span></dt><dd>Taken from Ifremer TCVA product</dd><dt><span>units :</span></dt><dd>percents</dd></dl></div><div class='xr-var-data'><pre>array([ 1.42108547e-14,  2.84217094e-14,  2.84217094e-14,  6.09286470e+00,\n",
       "        9.94759830e-14,  5.85478526e-01, -4.26325641e-14,  2.84217094e-14,\n",
       "        1.10802729e+01,  0.00000000e+00,  0.00000000e+00,  1.42108547e-14,\n",
       "       -2.84217094e-14, -2.84217094e-14, -4.26325641e-14,  3.19173225e+01,\n",
       "        0.00000000e+00, -2.84217094e-14, -4.26325641e-14,  2.07325006e+01,\n",
       "        2.07447079e+01,  2.65592861e-01, -7.10542736e-14,  2.24017294e+01,\n",
       "        8.52651283e-14,  1.71304547e+01,  7.10542736e-14,  1.74092106e+01,\n",
       "       -2.84217094e-14, -2.84217094e-14, -2.84217094e-14,  1.62758456e+01,\n",
       "        1.42108547e-14,  0.00000000e+00,  1.36045576e+01, -7.10542736e-14,\n",
       "       -2.84217094e-14, -2.84217094e-14,  2.84217094e-14,  4.23867136e+01,\n",
       "        6.94083916e-01,  0.00000000e+00,  9.98456147e+00,  8.52651283e-14,\n",
       "        3.99193120e+00,  2.19240209e-02,  2.12284553e+01,  1.66946572e+01,\n",
       "        5.68434189e-14,  1.95540678e+01])</pre></div></li><li class='xr-var-item'><div class='xr-var-name'><span>percent_rmx_inside</span></div><div class='xr-var-dims'>(time)</div><div class='xr-var-dtype'>float64</div><div class='xr-var-preview xr-preview'>1.0 1.0 1.0 1.0 ... 1.0 1.0 1.0 1.0</div><input id='attrs-4b205c78-9c1b-4f8b-bb3c-2d7f0f6bd682' class='xr-var-attrs-in' type='checkbox' ><label for='attrs-4b205c78-9c1b-4f8b-bb3c-2d7f0f6bd682' title='Show/Hide attributes'><svg class='icon xr-icon-file-text2'><use xlink:href='#icon-file-text2'></use></svg></label><input id='data-e833dc93-4aad-4745-b2e8-0861b6372790' class='xr-var-data-in' type='checkbox'><label for='data-e833dc93-4aad-4745-b2e8-0861b6372790' title='Show/Hide data repr'><svg class='icon xr-icon-database'><use xlink:href='#icon-database'></use></svg></label><div class='xr-var-attrs'><dl class='xr-attrs'><dt><span>long_name :</span></dt><dd>Ratio of the nb of acquisition points inside Rmax to the number of missing values inside Rmax</dd></dl></div><div class='xr-var-data'><pre>array([1., 1., 1., 1., 1., 1., 1., 1., 1., 1., 1., 1., 1., 1., 1., 1., 1.,\n",
       "       1., 1., 1., 1., 1., 1., 1., 1., 1., 1., 1., 1., 1., 1., 1., 1., 1.,\n",
       "       1., 1., 1., 1., 1., 1., 1., 1., 1., 1., 1., 1., 1., 1., 1., 1.])</pre></div></li><li class='xr-var-item'><div class='xr-var-name'><span>percent_r0_inside</span></div><div class='xr-var-dims'>(time)</div><div class='xr-var-dtype'>float64</div><div class='xr-var-preview xr-preview'>0.891 0.9387 ... 0.8622 0.8042</div><input id='attrs-30ee8a1e-e884-47b3-bba6-9d32a084265e' class='xr-var-attrs-in' type='checkbox' ><label for='attrs-30ee8a1e-e884-47b3-bba6-9d32a084265e' title='Show/Hide attributes'><svg class='icon xr-icon-file-text2'><use xlink:href='#icon-file-text2'></use></svg></label><input id='data-1f5e1200-c7c5-4042-bece-c05b37a425ee' class='xr-var-data-in' type='checkbox'><label for='data-1f5e1200-c7c5-4042-bece-c05b37a425ee' title='Show/Hide data repr'><svg class='icon xr-icon-database'><use xlink:href='#icon-database'></use></svg></label><div class='xr-var-attrs'><dl class='xr-attrs'><dt><span>long_name :</span></dt><dd>Ratio of the nb of acquisition points inside R0 to the number of missing values inside R0</dd></dl></div><div class='xr-var-data'><pre>array([0.89102143, 0.93866366, 0.98742284, 0.72405274, 0.99656203,\n",
       "       0.80102089, 0.81095618, 1.        , 0.68796296, 0.84200061,\n",
       "       1.        , 0.84717226, 0.88753209, 0.74413292, 0.8011876 ,\n",
       "       0.61552795, 0.92275083, 0.98252156, 0.94852608, 0.71674789,\n",
       "       0.68727124, 0.86457497, 0.92284722, 0.72676768, 0.90100763,\n",
       "       0.64981378, 0.99509569, 0.76016771, 0.92748815, 0.78820261,\n",
       "       1.        , 0.83146592, 0.91929012, 0.82144946, 0.82149436,\n",
       "       0.64255002, 0.98804059, 0.87984985, 1.        , 0.64480105,\n",
       "       0.70839472, 0.96344588, 0.62789193, 0.83273075, 0.61939184,\n",
       "       0.7686846 , 0.5606795 , 0.68590308, 0.86216887, 0.80422502])</pre></div></li><li class='xr-var-item'><div class='xr-var-name'><span>deg</span></div><div class='xr-var-dims'>(time)</div><div class='xr-var-dtype'>float64</div><div class='xr-var-preview xr-preview'>0.5009 -0.2485 ... 0.1314 -0.5754</div><input id='attrs-ed4bcdc2-3cc6-4313-85b1-c127b081ce3c' class='xr-var-attrs-in' type='checkbox' ><label for='attrs-ed4bcdc2-3cc6-4313-85b1-c127b081ce3c' title='Show/Hide attributes'><svg class='icon xr-icon-file-text2'><use xlink:href='#icon-file-text2'></use></svg></label><input id='data-009c070e-d805-4ab4-aed7-d0b1902aff49' class='xr-var-data-in' type='checkbox'><label for='data-009c070e-d805-4ab4-aed7-d0b1902aff49' title='Show/Hide data repr'><svg class='icon xr-icon-database'><use xlink:href='#icon-database'></use></svg></label><div class='xr-var-attrs'><dl class='xr-attrs'><dt><span>long_name :</span></dt><dd>Degree between sun and horizon</dd><dt><span>units :</span></dt><dd>radian</dd></dl></div><div class='xr-var-data'><pre>array([ 0.50093144, -0.24852866,  0.57095003, -0.40298897,  0.38504225,\n",
       "        0.02600266, -0.4578163 ,  0.25793079,  1.05842483, -0.6771695 ,\n",
       "        0.14431825, -0.21631201,  0.02169954,  0.07064813, -0.25439936,\n",
       "        0.56401479,  0.19270264,  1.25829887,  1.21099865,  0.13915403,\n",
       "       -0.15098035,  0.22494638,  0.10021413,  1.32213092, -0.37751895,\n",
       "       -0.75987256, -0.00673172,  0.9076916 ,  1.19312501, -0.34092909,\n",
       "        0.98920232, -0.5667367 ,  0.56889117, -0.68084794, -0.29632023,\n",
       "        1.16879916, -1.17068386, -0.38030472,  0.2034615 , -0.44687009,\n",
       "        0.88820696,  0.16797253,  0.17548792, -0.01325939, -0.59529907,\n",
       "        0.61965817,  1.23877299,  0.01712427,  0.13136023, -0.57542592])</pre></div></li><li class='xr-var-item'><div class='xr-var-name'><span>rsby</span></div><div class='xr-var-dims'>(time)</div><div class='xr-var-dtype'>float64</div><div class='xr-var-preview xr-preview'>28.07 27.74 61.42 ... 25.98 42.27</div><input id='attrs-8eb8db2b-e1e2-433a-8d3f-66b1258052b7' class='xr-var-attrs-in' type='checkbox' ><label for='attrs-8eb8db2b-e1e2-433a-8d3f-66b1258052b7' title='Show/Hide attributes'><svg class='icon xr-icon-file-text2'><use xlink:href='#icon-file-text2'></use></svg></label><input id='data-c084199b-98fb-4dd5-8775-a58d0377a359' class='xr-var-data-in' type='checkbox'><label for='data-c084199b-98fb-4dd5-8775-a58d0377a359' title='Show/Hide data repr'><svg class='icon xr-icon-database'><use xlink:href='#icon-database'></use></svg></label><div class='xr-var-attrs'><dl class='xr-attrs'><dt><span>long_name :</span></dt><dd>Maximal Rossby number</dd><dt><span>description :</span></dt><dd>Vmax / (f Rmax)</dd></dl></div><div class='xr-var-data'><pre>array([ 28.07230644,  27.73913129,  61.41981775,  16.34325834,\n",
       "        97.41875258,  21.23692836,  15.62772395,  55.31825477,\n",
       "        35.95230288,  58.39111742,   8.0305095 ,  19.976378  ,\n",
       "         7.19567643,   7.47932495,  72.15115472, 202.99303712,\n",
       "        25.00561105,  11.33420769,  39.86221947,  36.5626412 ,\n",
       "        36.46347082,  14.49511244,  32.153628  ,  54.65177536,\n",
       "        57.74708653,  10.62540011,  49.78622002,  10.26006748,\n",
       "        18.30435781, 119.88298511,  67.27010821,  58.72179468,\n",
       "         5.46317681,  20.13668105,  16.21639743,  43.68422352,\n",
       "        14.61131124,  32.64910536,  28.08114506,  34.2194739 ,\n",
       "        31.10842324,  23.39354138,  60.26477524, 106.0425684 ,\n",
       "        28.5228761 ,  21.70214571,  30.87006702,  14.62346724,\n",
       "        25.97886006,  42.27371153])</pre></div></li><li class='xr-var-item'><div class='xr-var-name'><span>uc</span></div><div class='xr-var-dims'>(time)</div><div class='xr-var-dtype'>float64</div><div class='xr-var-preview xr-preview'>37.82 20.35 18.36 ... 32.55 20.28</div><input id='attrs-e640ebb8-d337-446b-9f79-fccf5dceb2f9' class='xr-var-attrs-in' type='checkbox' ><label for='attrs-e640ebb8-d337-446b-9f79-fccf5dceb2f9' title='Show/Hide attributes'><svg class='icon xr-icon-file-text2'><use xlink:href='#icon-file-text2'></use></svg></label><input id='data-30d3ac1a-f893-4e3b-981d-df6485d3c225' class='xr-var-data-in' type='checkbox'><label for='data-30d3ac1a-f893-4e3b-981d-df6485d3c225' title='Show/Hide data repr'><svg class='icon xr-icon-database'><use xlink:href='#icon-database'></use></svg></label><div class='xr-var-attrs'><dl class='xr-attrs'><dt><span>long_name :</span></dt><dd>Charac. velocity</dd><dt><span>description :</span></dt><dd>np.sqrt(3 * np.sqrt(2) * dsg.vmx ** 2 / np.sqrt(dsg.B_hol * dsg.rsby))</dd><dt><span>units :</span></dt><dd>m/s</dd></dl></div><div class='xr-var-data'><pre>array([37.81725445, 20.34582083, 18.36478524, 22.75838544, 39.31916944,\n",
       "       36.46145857, 35.00715625, 18.1568965 , 27.14107119, 29.8594524 ,\n",
       "       20.54659281, 35.50365394, 37.65109836, 39.98311405, 29.15901047,\n",
       "       34.96055542, 30.85709873, 23.22747775, 21.10932591, 32.93696096,\n",
       "       33.05219781, 36.4616914 , 27.82037417, 29.39350512, 29.20201279,\n",
       "       29.14356349, 31.32457818, 31.36655958, 23.43163517, 37.31262105,\n",
       "       26.71120034, 28.38601685, 24.52164374, 20.06343151, 24.34629185,\n",
       "       24.6522261 , 24.69571436, 31.428514  , 19.64133588, 27.55528754,\n",
       "       20.03027889, 22.36129157, 39.78219625, 32.87505606, 40.56386969,\n",
       "       38.2829506 , 40.0068616 , 23.25199051, 32.55405489, 20.28383761])</pre></div></li><li class='xr-var-item'><div class='xr-var-name'><span>r0</span></div><div class='xr-var-dims'>(time)</div><div class='xr-var-dtype'>float64</div><div class='xr-var-preview xr-preview'>2.548e+05 1.49e+05 ... 1.195e+05</div><input id='attrs-13d4f2ba-d88a-4d4a-8d2b-d2eaa6bc10c5' class='xr-var-attrs-in' type='checkbox' ><label for='attrs-13d4f2ba-d88a-4d4a-8d2b-d2eaa6bc10c5' title='Show/Hide attributes'><svg class='icon xr-icon-file-text2'><use xlink:href='#icon-file-text2'></use></svg></label><input id='data-204899de-15e7-4af2-a559-005cb3872e08' class='xr-var-data-in' type='checkbox'><label for='data-204899de-15e7-4af2-a559-005cb3872e08' title='Show/Hide data repr'><svg class='icon xr-icon-database'><use xlink:href='#icon-database'></use></svg></label><div class='xr-var-attrs'><dl class='xr-attrs'><dt><span>long_name :</span></dt><dd>Radius of vanishing outflow velocity</dd><dt><span>description :</span></dt><dd>np.sqrt(2 * dsg.rsby) * dsg.rmx</dd><dt><span>units :</span></dt><dd>meters</dd></dl></div><div class='xr-var-data'><pre>array([254761.01052311, 148967.46298582, 144082.95665654, 217254.06805737,\n",
       "       223334.72932514, 234619.09197488, 251579.57389735, 105183.89113127,\n",
       "       237430.43385943, 183711.90997312, 200381.00584631, 278116.04706161,\n",
       "       303487.49285292, 321014.23505875, 276289.56132824, 161192.76891638,\n",
       "       268730.72900506, 219012.25296715, 196434.79439583, 171026.64400052,\n",
       "       170794.54516753, 166911.97114965, 200479.51266409, 209096.67690097,\n",
       "       204189.60912761, 179784.50189746, 209550.58114527, 212906.03122686,\n",
       "       211767.97831909, 170328.16090111, 104392.32505215, 119208.53288644,\n",
       "       198330.21207373, 266537.44715939, 187934.33319671, 261719.05258083,\n",
       "       167579.65330505, 185856.80904887, 149883.00786504, 148910.10403848,\n",
       "       181418.60927579, 232563.68519713, 219571.90209831, 189320.86023149,\n",
       "       264350.23441306, 223998.57337957, 251439.64934042, 227137.82692066,\n",
       "       302743.15562158, 119534.57448252])</pre></div></li><li class='xr-var-item'><div class='xr-var-name'><span>basin</span></div><div class='xr-var-dims'>(time)</div><div class='xr-var-dtype'>object</div><div class='xr-var-preview xr-preview'>&#x27;wp&#x27; &#x27;ep&#x27; &#x27;wp&#x27; ... &#x27;sh&#x27; &#x27;sh&#x27; &#x27;wp&#x27;</div><input id='attrs-f973cace-8dba-4d00-9997-e1b9b234cdff' class='xr-var-attrs-in' type='checkbox' ><label for='attrs-f973cace-8dba-4d00-9997-e1b9b234cdff' title='Show/Hide attributes'><svg class='icon xr-icon-file-text2'><use xlink:href='#icon-file-text2'></use></svg></label><input id='data-41a8b8b5-eadf-437e-8ed3-726d669573ec' class='xr-var-data-in' type='checkbox'><label for='data-41a8b8b5-eadf-437e-8ed3-726d669573ec' title='Show/Hide data repr'><svg class='icon xr-icon-database'><use xlink:href='#icon-database'></use></svg></label><div class='xr-var-attrs'><dl class='xr-attrs'><dt><span>long_name :</span></dt><dd>Basin</dd><dt><span>description :</span></dt><dd>Based on ATCF ID, except for Bonnie (2022)</dd></dl></div><div class='xr-var-data'><pre>array([&#x27;wp&#x27;, &#x27;ep&#x27;, &#x27;wp&#x27;, &#x27;ep&#x27;, &#x27;wp&#x27;, &#x27;wp&#x27;, &#x27;wp&#x27;, &#x27;cp&#x27;, &#x27;ep&#x27;, &#x27;ep&#x27;, &#x27;al&#x27;,\n",
       "       &#x27;ep&#x27;, &#x27;cp&#x27;, &#x27;cp&#x27;, &#x27;ep&#x27;, &#x27;ep&#x27;, &#x27;ep&#x27;, &#x27;ep&#x27;, &#x27;ep&#x27;, &#x27;wp&#x27;, &#x27;wp&#x27;, &#x27;al&#x27;,\n",
       "       &#x27;ep&#x27;, &#x27;ep&#x27;, &#x27;ep&#x27;, &#x27;al&#x27;, &#x27;ep&#x27;, &#x27;ep&#x27;, &#x27;wp&#x27;, &#x27;wp&#x27;, &#x27;wp&#x27;, &#x27;al&#x27;, &#x27;al&#x27;,\n",
       "       &#x27;wp&#x27;, &#x27;sh&#x27;, &#x27;sh&#x27;, &#x27;wp&#x27;, &#x27;wp&#x27;, &#x27;ep&#x27;, &#x27;al&#x27;, &#x27;wp&#x27;, &#x27;al&#x27;, &#x27;al&#x27;, &#x27;al&#x27;,\n",
       "       &#x27;al&#x27;, &#x27;al&#x27;, &#x27;wp&#x27;, &#x27;sh&#x27;, &#x27;sh&#x27;, &#x27;wp&#x27;], dtype=object)</pre></div></li><li class='xr-var-item'><div class='xr-var-name'><span>id_ibt</span></div><div class='xr-var-dims'>(time)</div><div class='xr-var-dtype'>object</div><div class='xr-var-preview xr-preview'>&#x27;2015184N08172&#x27; ... &#x27;2018204N15137&#x27;</div><input id='attrs-0336aa31-6cbe-412f-99f6-5e42a060da75' class='xr-var-attrs-in' type='checkbox' ><label for='attrs-0336aa31-6cbe-412f-99f6-5e42a060da75' title='Show/Hide attributes'><svg class='icon xr-icon-file-text2'><use xlink:href='#icon-file-text2'></use></svg></label><input id='data-cbc2629d-db9f-4b3a-9842-3a581f910875' class='xr-var-data-in' type='checkbox'><label for='data-cbc2629d-db9f-4b3a-9842-3a581f910875' title='Show/Hide data repr'><svg class='icon xr-icon-database'><use xlink:href='#icon-database'></use></svg></label><div class='xr-var-attrs'><dl class='xr-attrs'><dt><span>long_name :</span></dt><dd>SID (IBTrACS Serial ID)</dd></dl></div><div class='xr-var-data'><pre>array([&#x27;2015184N08172&#x27;, &#x27;2015194N13235&#x27;, &#x27;2015211N13162&#x27;, &#x27;2015209N07248&#x27;,\n",
       "       &#x27;2015211N13162&#x27;, &#x27;2015211N13162&#x27;, &#x27;2015226N12151&#x27;, &#x27;2015229N08212&#x27;,\n",
       "       &#x27;2015236N12231&#x27;, &#x27;2015236N12231&#x27;, &#x27;2015242N12343&#x27;, &#x27;2015238N10255&#x27;,\n",
       "       &#x27;2015229N08212&#x27;, &#x27;2015229N08212&#x27;, &#x27;2015288N10243&#x27;, &#x27;2015293N13266&#x27;,\n",
       "       &#x27;2016185N11253&#x27;, &#x27;2016185N11253&#x27;, &#x27;2016203N10249&#x27;, &#x27;2016230N25160&#x27;,\n",
       "       &#x27;2016230N25160&#x27;, &#x27;2016235N11341&#x27;, &#x27;2016237N14253&#x27;, &#x27;2016237N14253&#x27;,\n",
       "       &#x27;2016237N14253&#x27;, &#x27;2016242N24279&#x27;, &#x27;2016237N14253&#x27;, &#x27;2016237N14253&#x27;,\n",
       "       &#x27;2016253N13144&#x27;, &#x27;2016253N13144&#x27;, &#x27;2016265N10150&#x27;, &#x27;2016278N23300&#x27;,\n",
       "       &#x27;2016278N23300&#x27;, &#x27;2016288N06146&#x27;, &#x27;2017033S14056&#x27;, &#x27;2017122S13170&#x27;,\n",
       "       &#x27;2017200N26162&#x27;, &#x27;2017200N26162&#x27;, &#x27;2017230N13249&#x27;, &#x27;2017228N14314&#x27;,\n",
       "       &#x27;2017236N15129&#x27;, &#x27;2017247N09327&#x27;, &#x27;2017242N16333&#x27;, &#x27;2017247N09327&#x27;,\n",
       "       &#x27;2017260N12310&#x27;, &#x27;2017260N12310&#x27;, &#x27;2017288N09138&#x27;, &#x27;2017364S12065&#x27;,\n",
       "       &#x27;2018025S09080&#x27;, &#x27;2018204N15137&#x27;], dtype=object)</pre></div></li><li class='xr-var-item'><div class='xr-var-name'><span>lat_ibt</span></div><div class='xr-var-dims'>(time)</div><div class='xr-var-dtype'>float64</div><div class='xr-var-preview xr-preview'>18.38 18.89 14.46 ... -15.75 20.49</div><input id='attrs-ad3abc51-4343-4d6d-bb5b-656ddd3e57c6' class='xr-var-attrs-in' type='checkbox' ><label for='attrs-ad3abc51-4343-4d6d-bb5b-656ddd3e57c6' title='Show/Hide attributes'><svg class='icon xr-icon-file-text2'><use xlink:href='#icon-file-text2'></use></svg></label><input id='data-95d5c373-d056-4ebb-92c6-35c75b04ef64' class='xr-var-data-in' type='checkbox'><label for='data-95d5c373-d056-4ebb-92c6-35c75b04ef64' title='Show/Hide data repr'><svg class='icon xr-icon-database'><use xlink:href='#icon-database'></use></svg></label><div class='xr-var-attrs'><dl class='xr-attrs'><dt><span>long_name :</span></dt><dd>Latitude of the storm center from IBTrACS (U.S. Agency)</dd><dt><span>units :</span></dt><dd>degrees_north</dd></dl></div><div class='xr-var-data'><pre>array([ 18.38415697,  18.89083292,  14.46143504,  16.95016648,\n",
       "        17.96861099,  20.21414883,  19.87805509,  17.72709294,\n",
       "        15.04996291,  18.37074951,  20.15218576,  18.7280006 ,\n",
       "        23.5       ,  24.43206456,  11.72970348,  17.43087886,\n",
       "        16.88470341,  20.16070432,  15.0404446 ,  23.48285179,\n",
       "        23.48274068,  26.3369253 ,  17.79999924,  18.00773151,\n",
       "        17.70000076,  28.95105552,  18.75964857,  24.75361111,\n",
       "        16.17474147,  19.43259233,  19.92872195,  27.45175907,\n",
       "        25.60590781,   9.98292586, -19.12713011, -12.5       ,\n",
       "        25.76096367,  23.06368543,  15.36745351,  25.03427769,\n",
       "        15.89697247,  13.91925895,  20.05108353,  16.57035212,\n",
       "        20.75854617,  24.93300054,  23.09592583, -16.38796259,\n",
       "       -15.74660184,  20.49266668])</pre></div></li><li class='xr-var-item'><div class='xr-var-name'><span>lon_ibt</span></div><div class='xr-var-dims'>(time)</div><div class='xr-var-dtype'>float64</div><div class='xr-var-preview xr-preview'>140.3 -133.0 149.1 ... 76.05 136.6</div><input id='attrs-4bf283ec-1c9d-4eee-a8c8-33c88038fe8b' class='xr-var-attrs-in' type='checkbox' ><label for='attrs-4bf283ec-1c9d-4eee-a8c8-33c88038fe8b' title='Show/Hide attributes'><svg class='icon xr-icon-file-text2'><use xlink:href='#icon-file-text2'></use></svg></label><input id='data-4991e180-4fc3-4dc8-8024-93bac62814b1' class='xr-var-data-in' type='checkbox'><label for='data-4991e180-4fc3-4dc8-8024-93bac62814b1' title='Show/Hide data repr'><svg class='icon xr-icon-database'><use xlink:href='#icon-database'></use></svg></label><div class='xr-var-attrs'><dl class='xr-attrs'><dt><span>long_name :</span></dt><dd>Longitude of the storm center from IBTrACS (U.S. Agency)</dd><dt><span>units :</span></dt><dd>degrees_east</dd></dl></div><div class='xr-var-data'><pre>array([ 140.34753131, -132.96333389,  149.10852275, -146.15017073,\n",
       "        140.27846917,  130.75755818,  122.59999847, -168.24581869,\n",
       "       -145.27494215, -148.54716595,  -31.7043697 , -143.82800262,\n",
       "        174.75579009,  165.93968203, -144.4445499 , -105.57382295,\n",
       "       -128.57706142, -132.4607043 , -124.58088765,  130.8999939 ,\n",
       "        130.8999939 ,  -49.75538951, -126.17873374, -134.35360571,\n",
       "       -136.54518518,  -84.83263218, -146.17894626, -159.45360806,\n",
       "        136.43156797,  126.00222095,  129.82818834,  -65.19999695,\n",
       "        -65.54704558,  139.96829176,   56.04574143,  167.97575484,\n",
       "        142.23047797,  141.63184578, -121.93962806,  -94.4457054 ,\n",
       "        122.53837658,  -45.97703849,  -68.65252929,  -58.57588115,\n",
       "        -69.91709386,  -72.05824911,  132.33597564,   53.        ,\n",
       "         76.05339733,  136.6000061 ])</pre></div></li><li class='xr-var-item'><div class='xr-var-name'><span>vmx_ibt</span></div><div class='xr-var-dims'>(time)</div><div class='xr-var-dtype'>float64</div><div class='xr-var-preview xr-preview'>53.15 19.64 27.3 ... 56.58 22.14</div><input id='attrs-8e5b4cdc-481f-4353-a148-719d03dcb8fa' class='xr-var-attrs-in' type='checkbox' ><label for='attrs-8e5b4cdc-481f-4353-a148-719d03dcb8fa' title='Show/Hide attributes'><svg class='icon xr-icon-file-text2'><use xlink:href='#icon-file-text2'></use></svg></label><input id='data-f10869c3-1d1d-4293-80f7-8ea0b380ae40' class='xr-var-data-in' type='checkbox'><label for='data-f10869c3-1d1d-4293-80f7-8ea0b380ae40' title='Show/Hide data repr'><svg class='icon xr-icon-database'><use xlink:href='#icon-database'></use></svg></label><div class='xr-var-attrs'><dl class='xr-attrs'><dt><span>long_name :</span></dt><dd>Maximum sustained wind speed from IBTrACS (U.S. Agency)</dd><dt><span>units :</span></dt><dd>m/s</dd></dl></div><div class='xr-var-data'><pre>array([53.14618882, 19.64150601, 27.30011331, 29.57714369, 78.86466589,\n",
       "       47.73003213, 41.15200043, 28.01327148, 41.15200043, 55.97743664,\n",
       "       18.00399971, 46.29600143, 36.14445843, 43.39411713, 54.01200104,\n",
       "       94.89470329, 47.91788329, 25.97267628, 41.46978673, 50.14657101,\n",
       "       50.14485634, 28.29199982, 44.55428015, 54.01200104, 63.36417521,\n",
       "       35.92407624, 53.24492628, 23.90845516, 28.12958286, 81.44285634,\n",
       "       45.41494772, 44.55894904, 20.57600021, 29.5717139 , 23.14800072,\n",
       "       41.15200043, 33.43600082, 50.85382263, 24.18894596, 41.44587507,\n",
       "       22.45175013, 35.07827162, 74.58799744, 69.44400024, 56.15752353,\n",
       "       51.44000244, 68.53856013, 23.14800072, 56.58399963, 22.14434822])</pre></div></li><li class='xr-var-item'><div class='xr-var-name'><span>rmx_ibt</span></div><div class='xr-var-dims'>(time)</div><div class='xr-var-dtype'>float64</div><div class='xr-var-preview xr-preview'>1.852e+04 7.408e+04 ... 9.26e+04</div><input id='attrs-8507e66e-7461-4a59-b6a4-5ce1491f1b9a' class='xr-var-attrs-in' type='checkbox' ><label for='attrs-8507e66e-7461-4a59-b6a4-5ce1491f1b9a' title='Show/Hide attributes'><svg class='icon xr-icon-file-text2'><use xlink:href='#icon-file-text2'></use></svg></label><input id='data-fb44d6f4-6bfe-4c2c-9286-adbb60e104dc' class='xr-var-data-in' type='checkbox'><label for='data-fb44d6f4-6bfe-4c2c-9286-adbb60e104dc' title='Show/Hide data repr'><svg class='icon xr-icon-database'><use xlink:href='#icon-database'></use></svg></label><div class='xr-var-attrs'><dl class='xr-attrs'><dt><span>long_name :</span></dt><dd>Radius of maximum sustained wind speed from IBTrACS (U.S. Agency)</dd><dt><span>units :</span></dt><dd>meters</dd></dl></div><div class='xr-var-data'><pre>array([18520.        , 74080.        , 44024.44075444, 37040.        ,\n",
       "       22224.        , 27386.96446499, 12964.        , 20025.26446499,\n",
       "       43521.31406038, 32025.71002054, 55560.        , 46300.        ,\n",
       "       27780.        , 23411.68072704, 27780.        ,  9260.        ,\n",
       "       37040.        , 55560.        , 37040.        , 18520.        ,\n",
       "       18520.        , 55560.        , 27780.        , 27780.        ,\n",
       "       27780.        , 45997.84961593, 28917.26523997, 46300.        ,\n",
       "       56729.50377219, 12964.        , 24066.22560349, 27780.        ,\n",
       "       55560.        , 52488.4237174 , 37040.        , 27780.        ,\n",
       "       27780.        , 26517.72482166, 67833.78707128, 18520.        ,\n",
       "       37040.        , 27780.        , 27780.        , 27780.        ,\n",
       "       46300.        , 37040.        , 53263.86297666, 83340.        ,\n",
       "       30620.93371055, 92600.        ])</pre></div></li><li class='xr-var-item'><div class='xr-var-name'><span>r34_ibt</span></div><div class='xr-var-dims'>(time)</div><div class='xr-var-dtype'>float64</div><div class='xr-var-preview xr-preview'>2.454e+05 6.482e+04 ... 1.134e+05</div><input id='attrs-40d62d7d-8c2d-4944-9cde-4d2df78647d2' class='xr-var-attrs-in' type='checkbox' ><label for='attrs-40d62d7d-8c2d-4944-9cde-4d2df78647d2' title='Show/Hide attributes'><svg class='icon xr-icon-file-text2'><use xlink:href='#icon-file-text2'></use></svg></label><input id='data-1ea25cf7-716d-47d3-9547-781610a90139' class='xr-var-data-in' type='checkbox'><label for='data-1ea25cf7-716d-47d3-9547-781610a90139' title='Show/Hide data repr'><svg class='icon xr-icon-database'><use xlink:href='#icon-database'></use></svg></label><div class='xr-var-attrs'><dl class='xr-attrs'><dt><span>long_name :</span></dt><dd>Radius of gale-force winds, or 34 kts (17.5 m/s) from IBTrACS (U.S. Agency)</dd><dt><span>description :</span></dt><dd>average of all nonzero quadrants</dd><dt><span>units :</span></dt><dd>meters</dd></dl></div><div class='xr-var-data'><pre>array([245390.        ,  64820.        , 113798.32641457, 156648.84777435,\n",
       "       262162.17478428, 319470.        , 206035.        ,  99351.22589168,\n",
       "       153366.60643868, 200181.90831621,  64820.        , 273818.19998288,\n",
       "       250347.52961593, 299822.68072704, 208350.        , 204931.94535325,\n",
       "       188046.16391457, 123832.13661688,  92600.        , 159007.91848428,\n",
       "       159018.20737317, 142675.16484906, 134270.        , 138900.        ,\n",
       "       138900.        , 185200.        , 173909.31630999, 136585.        ,\n",
       "       147575.24811391, 266173.55550419, 384954.91942732, 103139.68052987,\n",
       "       106490.        , 202138.9407065 , 142528.76254623, 140172.86405196,\n",
       "       123872.30610597, 204775.21134081,  55614.65969654, 112707.06105975,\n",
       "        56621.641845  , 100213.7777521 , 240760.        , 180697.96802987,\n",
       "       223199.6532493 , 270270.46247432, 502632.58563959, 173555.33563959,\n",
       "       287060.        , 113378.41110255])</pre></div></li><li class='xr-var-item'><div class='xr-var-name'><span>r50_ibt</span></div><div class='xr-var-dims'>(time)</div><div class='xr-var-dtype'>float64</div><div class='xr-var-preview xr-preview'>1.343e+05 nan nan ... 1.593e+05 nan</div><input id='attrs-2d0861c8-8239-49f6-a449-6d14a9e2a283' class='xr-var-attrs-in' type='checkbox' ><label for='attrs-2d0861c8-8239-49f6-a449-6d14a9e2a283' title='Show/Hide attributes'><svg class='icon xr-icon-file-text2'><use xlink:href='#icon-file-text2'></use></svg></label><input id='data-8a1eb83e-9395-4d45-8caf-68ac19a28f5a' class='xr-var-data-in' type='checkbox'><label for='data-8a1eb83e-9395-4d45-8caf-68ac19a28f5a' title='Show/Hide data repr'><svg class='icon xr-icon-database'><use xlink:href='#icon-database'></use></svg></label><div class='xr-var-attrs'><dl class='xr-attrs'><dt><span>long_name :</span></dt><dd>Radius of damaging-force winds, or 50 kts (25.7 m/s) from IBTrACS (U.S. Agency)</dd><dt><span>description :</span></dt><dd>average of all nonzero quadrants</dd><dt><span>units :</span></dt><dd>meters</dd></dl></div><div class='xr-var-data'><pre>array([134270.        ,             nan,             nan,  52083.64169235,\n",
       "       121538.78596387, 131955.        , 120380.        ,  31908.24517834,\n",
       "        76973.32128774,  91922.86247432,             nan, 151891.78003595,\n",
       "       118065.        , 138900.        ,  87970.        ,  85157.91802987,\n",
       "        94737.94536181,  37040.        ,  50930.        ,  76884.75109057,\n",
       "        76890.9244239 ,  46300.        ,  60190.        ,  83340.        ,\n",
       "        83340.        , 116127.68798008, 100032.30745377,             nan,\n",
       "        67130.19849113, 151370.13330252, 219860.95165639,  46300.        ,\n",
       "                   nan, 101295.31145922,             nan,  60148.32993837,\n",
       "        79887.30610597, 106805.56879458,             nan,  46564.51017662,\n",
       "                   nan,  46300.        , 134270.        ,  91099.32267662,\n",
       "       143530.        , 143530.        , 247995.01780388,             nan,\n",
       "       159272.        ,             nan])</pre></div></li><li class='xr-var-item'><div class='xr-var-name'><span>r64_ibt</span></div><div class='xr-var-dims'>(time)</div><div class='xr-var-dtype'>float64</div><div class='xr-var-preview xr-preview'>6.482e+04 nan nan ... 8.612e+04 nan</div><input id='attrs-831896b4-cfb2-4e36-b74d-d95b8f8f8d6c' class='xr-var-attrs-in' type='checkbox' ><label for='attrs-831896b4-cfb2-4e36-b74d-d95b8f8f8d6c' title='Show/Hide attributes'><svg class='icon xr-icon-file-text2'><use xlink:href='#icon-file-text2'></use></svg></label><input id='data-df0b863e-51fa-4d6d-82fc-c08290962b41' class='xr-var-data-in' type='checkbox'><label for='data-df0b863e-51fa-4d6d-82fc-c08290962b41' title='Show/Hide data repr'><svg class='icon xr-icon-database'><use xlink:href='#icon-database'></use></svg></label><div class='xr-var-attrs'><dl class='xr-attrs'><dt><span>long_name :</span></dt><dd>Radius of hurricane-force winds, or 64 kts (32.9 m/s) from IBTrACS (U.S. Agency)</dd><dt><span>description :</span></dt><dd>average of all nonzero quadrants</dd><dt><span>units :</span></dt><dd>meters</dd></dl></div><div class='xr-var-data'><pre>array([ 64820.        ,             nan,             nan,             nan,\n",
       "        68885.39714347,  48615.        ,  55560.        ,             nan,\n",
       "        35303.32128774,  53790.95415811,             nan,  67357.24003082,\n",
       "        62505.        ,  87970.        ,  50930.        ,  45075.75081792,\n",
       "        46300.        ,             nan,  27129.74222565,  41061.58369686,\n",
       "        41063.64147463,             nan,  32410.        ,  45266.60971709,\n",
       "        46300.        ,  50363.46802987,  53285.59822876,             nan,\n",
       "                   nan,  83480.61480112, 118330.96777093,  25465.        ,\n",
       "                   nan,             nan,             nan,             nan,\n",
       "        41670.        ,  58824.1929029 ,             nan,  23679.02035325,\n",
       "                   nan,  14531.34073389,  82880.34388546,  50930.        ,\n",
       "        92600.        ,  75428.48749144, 134211.2674659 ,             nan,\n",
       "        86118.        ,             nan])</pre></div></li><li class='xr-var-item'><div class='xr-var-name'><span>vmx_smth_ibt</span></div><div class='xr-var-dims'>(time)</div><div class='xr-var-dtype'>float64</div><div class='xr-var-preview xr-preview'>54.06 20.18 26.65 ... 55.98 21.99</div><input id='attrs-5b2ac164-998d-4c61-b032-1f5bc1548f32' class='xr-var-attrs-in' type='checkbox' ><label for='attrs-5b2ac164-998d-4c61-b032-1f5bc1548f32' title='Show/Hide attributes'><svg class='icon xr-icon-file-text2'><use xlink:href='#icon-file-text2'></use></svg></label><input id='data-45f0a37e-d701-4501-ab0b-aad839b77298' class='xr-var-data-in' type='checkbox'><label for='data-45f0a37e-d701-4501-ab0b-aad839b77298' title='Show/Hide data repr'><svg class='icon xr-icon-database'><use xlink:href='#icon-database'></use></svg></label><div class='xr-var-attrs'><dl class='xr-attrs'><dt><span>long_name :</span></dt><dd>Maximum sustained wind speed from the smoothed time series from IBTrACS (U.S. Agency)</dd><dt><span>units :</span></dt><dd>m/s</dd></dl></div><div class='xr-var-data'><pre>array([54.06038738, 20.17947937, 26.64788123, 30.39175242, 77.7297638 ,\n",
       "       48.2626232 , 41.43742436, 27.42918115, 41.47325447, 57.35441648,\n",
       "       18.5435313 , 46.26000893, 36.4506492 , 43.26061321, 54.55949733,\n",
       "       94.00660706, 48.45195087, 26.93829722, 40.51470984, 50.74916639,\n",
       "       50.74802328, 28.29199219, 43.40701752, 54.44750988, 61.97281413,\n",
       "       35.03435892, 53.74351331, 24.68376528, 27.26998339, 80.92844441,\n",
       "       44.62488036, 41.63603649, 21.09799095, 28.34844781, 23.76807252,\n",
       "       39.75561761, 33.43600845, 48.64462854, 23.50105248, 40.15987196,\n",
       "       21.43073663, 34.00755205, 74.77952113, 69.18679047, 55.31066025,\n",
       "       51.60110803, 67.94706999, 23.14799881, 55.98344097, 21.99059868])</pre></div></li><li class='xr-var-item'><div class='xr-var-name'><span>r34_smth_ibt</span></div><div class='xr-var-dims'>(time)</div><div class='xr-var-dtype'>float64</div><div class='xr-var-preview xr-preview'>2.454e+05 6.482e+04 ... 1.128e+05</div><input id='attrs-e5d32f7a-56e5-4dc3-810e-09c81ddb93b6' class='xr-var-attrs-in' type='checkbox' ><label for='attrs-e5d32f7a-56e5-4dc3-810e-09c81ddb93b6' title='Show/Hide attributes'><svg class='icon xr-icon-file-text2'><use xlink:href='#icon-file-text2'></use></svg></label><input id='data-61b16294-d69c-400a-910c-34a5d2d0b2b4' class='xr-var-data-in' type='checkbox'><label for='data-61b16294-d69c-400a-910c-34a5d2d0b2b4' title='Show/Hide data repr'><svg class='icon xr-icon-database'><use xlink:href='#icon-database'></use></svg></label><div class='xr-var-attrs'><dl class='xr-attrs'><dt><span>long_name :</span></dt><dd>Radius of gale-force winds, or 34 kts from the smoothed time series from IBTrACS (U.S. Agency)</dd><dt><span>units :</span></dt><dd>meters</dd></dl></div><div class='xr-var-data'><pre>array([245390.        ,  64820.        , 112831.33160364, 157188.11416923,\n",
       "       251960.42003188, 319625.57656594, 207405.13704389,  93033.41941876,\n",
       "       148013.70482901, 198341.96561858,  65675.47824502, 270855.        ,\n",
       "       248706.55901494, 298127.9506816 , 207530.57574673, 205483.47267662,\n",
       "       189516.83195728, 126157.31830844,  93523.42778206, 156196.69395794,\n",
       "       156203.76756905, 145417.58242453, 134270.        , 138900.        ,\n",
       "       138900.        , 185247.21099751, 172997.50638375, 135615.3365205 ,\n",
       "       140989.71615662, 260386.05550419, 380986.78435574,  99326.89697576,\n",
       "       107579.1217507 , 195179.79347144, 143303.05500039, 141312.42286102,\n",
       "       125274.61736753, 205331.3900677 ,  53097.63308045, 110574.04579481,\n",
       "        56332.83488469,  97264.29627276, 240760.        , 177740.23401494,\n",
       "       224075.17337535, 267663.19371148, 501507.55994771, 171170.67127918,\n",
       "       287060.        , 112827.95555128])</pre></div></li><li class='xr-var-item'><div class='xr-var-name'><span>vmx_dot_smth_ibt</span></div><div class='xr-var-dims'>(time)</div><div class='xr-var-dtype'>float64</div><div class='xr-var-preview xr-preview'>-0.6791 -0.3838 ... 0.1844 -0.06011</div><input id='attrs-9850f0f6-31a3-4417-98a8-81432f94b29e' class='xr-var-attrs-in' type='checkbox' ><label for='attrs-9850f0f6-31a3-4417-98a8-81432f94b29e' title='Show/Hide attributes'><svg class='icon xr-icon-file-text2'><use xlink:href='#icon-file-text2'></use></svg></label><input id='data-a05e9dfe-cd25-43d6-aae1-f0483970861f' class='xr-var-data-in' type='checkbox'><label for='data-a05e9dfe-cd25-43d6-aae1-f0483970861f' title='Show/Hide data repr'><svg class='icon xr-icon-database'><use xlink:href='#icon-database'></use></svg></label><div class='xr-var-attrs'><dl class='xr-attrs'><dt><span>long_name :</span></dt><dd>Time derivative of maximum sustained wind speed from the smoothed time series from IBTrACS (U.S. Agency)</dd><dt><span>units :</span></dt><dd>m/s</dd></dl></div><div class='xr-var-data'><pre>array([-6.79075513e-01, -3.83835624e-01,  6.84040730e-01, -4.99992030e-01,\n",
       "        2.27401730e-01, -4.28666443e-01, -1.43583108e-01,  4.28666443e-01,\n",
       "        3.21420604e-01, -7.67759561e-01, -1.32787369e-01, -5.78697581e-02,\n",
       "        1.80943161e-01, -2.28078251e-01, -2.89667698e-01,  9.96715974e-02,\n",
       "       -4.28666443e-01, -7.00983318e-01,  9.00676114e-01, -3.67423000e-01,\n",
       "       -3.67303926e-01,  0.00000000e+00,  8.66781688e-01, -2.15418915e-02,\n",
       "        6.04260908e-01,  2.65942232e-01, -2.45917744e-01, -3.31442446e-01,\n",
       "        7.39338782e-01,  2.96097462e-01,  3.48976262e-01,  6.31688266e-01,\n",
       "       -1.05946328e-01,  6.07452395e-01, -1.87085079e-01,  4.73694557e-01,\n",
       "        0.00000000e+00,  1.69610916e+00,  4.28666443e-01,  8.52435001e-01,\n",
       "        1.53278073e-01,  6.43000305e-01, -1.17497322e-01,  3.17728213e-02,\n",
       "        3.01624638e-01, -1.09041827e-01,  1.58615528e-01,  1.28997050e-03,\n",
       "        1.84367930e-01, -6.01084995e-02])</pre></div></li><li class='xr-var-item'><div class='xr-var-name'><span>r34_dot_smth_ibt</span></div><div class='xr-var-dims'>(time)</div><div class='xr-var-dtype'>float64</div><div class='xr-var-preview xr-preview'>340.9 0.0 -514.3 ... 161.1 672.9</div><input id='attrs-c17c28e8-18e6-428b-8e59-f3a4fb496f3e' class='xr-var-attrs-in' type='checkbox' ><label for='attrs-c17c28e8-18e6-428b-8e59-f3a4fb496f3e' title='Show/Hide attributes'><svg class='icon xr-icon-file-text2'><use xlink:href='#icon-file-text2'></use></svg></label><input id='data-a3148326-cbc2-4b42-b19d-7dd4f5427cad' class='xr-var-data-in' type='checkbox'><label for='data-a3148326-cbc2-4b42-b19d-7dd4f5427cad' title='Show/Hide data repr'><svg class='icon xr-icon-database'><use xlink:href='#icon-database'></use></svg></label><div class='xr-var-attrs'><dl class='xr-attrs'><dt><span>long_name :</span></dt><dd>Time derivative of radius of gale-force winds from the smoothed time series from IBTrACS (U.S. Agency)</dd><dt><span>units :</span></dt><dd>meters</dd></dl></div><div class='xr-var-data'><pre>array([  340.94269526,     0.        ,  -514.30153351,  -340.60509232,\n",
       "        8993.90893673,   414.30639453,  -736.83451323,  2138.23112398,\n",
       "        2942.01485197,   629.71213555,  -473.86048695,   555.60002036,\n",
       "        1390.05393707,  1206.98671001,  -220.42514519,   771.66668701,\n",
       "       -1142.74544526, -1919.6904955 ,  -385.83334351,  1931.95325836,\n",
       "        1932.59631378, -1543.33337402,     0.        ,     0.        ,\n",
       "           0.        ,  -112.19534185,   686.72081404,   660.68599757,\n",
       "        3954.79174805,  4369.91964052,  2080.01686151,  1347.02278412,\n",
       "         748.87390793,  3924.21070862, -1475.41946331,  4269.92105669,\n",
       "         -61.38324188,  -571.53705655,  1834.98578   ,  3282.31631623,\n",
       "         -87.49128378,  2044.20216762,     0.        ,  1157.5       ,\n",
       "         352.85888679,  3504.331262  ,   632.78454794,  1540.43069112,\n",
       "         161.07648781,   672.85044276])</pre></div></li><li class='xr-var-item'><div class='xr-var-name'><span>lmi_ibt</span></div><div class='xr-var-dims'>(time)</div><div class='xr-var-dtype'>float64</div><div class='xr-var-preview xr-preview'>69.44 23.15 78.7 ... 59.16 46.3</div><input id='attrs-cb71ff55-42db-44e7-bbbc-6b4ac773bab5' class='xr-var-attrs-in' type='checkbox' ><label for='attrs-cb71ff55-42db-44e7-bbbc-6b4ac773bab5' title='Show/Hide attributes'><svg class='icon xr-icon-file-text2'><use xlink:href='#icon-file-text2'></use></svg></label><input id='data-550c74d2-f31a-4d3a-949e-b01cbaef0432' class='xr-var-data-in' type='checkbox'><label for='data-550c74d2-f31a-4d3a-949e-b01cbaef0432' title='Show/Hide data repr'><svg class='icon xr-icon-database'><use xlink:href='#icon-database'></use></svg></label><div class='xr-var-attrs'><dl class='xr-attrs'><dt><span>long_name :</span></dt><dd>Lifetime maximum intensity from IBTrACS (U.S. Agency)</dd><dt><span>units :</span></dt><dd>m/s</dd></dl></div><div class='xr-var-data'><pre>array([69.44400024, 23.14800072, 78.70320129, 47.83919907, 78.70320129,\n",
       "       78.70320129, 60.69919968, 61.72800064, 63.27120209, 63.27120209,\n",
       "       38.58000183, 66.87200165, 61.72800064, 61.72800064, 66.87200165,\n",
       "       95.16400146, 60.69919968, 60.69919968, 58.12720108, 61.72800064,\n",
       "       61.72800064, 54.01200104, 64.30000305, 64.30000305, 64.30000305,\n",
       "       36.00799942, 64.30000305, 64.30000305, 87.44799805, 87.44799805,\n",
       "       61.72800064, 61.72800064, 61.72800064, 74.58799744, 36.00799942,\n",
       "       63.27120209, 66.87200165, 66.87200165, 59.15600204, 59.15600204,\n",
       "       30.86400032, 69.44400024, 79.73200226, 69.44400024, 77.16000366,\n",
       "       77.16000366, 69.44400024, 45.26720047, 59.15600204, 46.29600143])</pre></div></li><li class='xr-var-item'><div class='xr-var-name'><span>t_lmi_ibt</span></div><div class='xr-var-dims'>(time)</div><div class='xr-var-dtype'>datetime64[ns]</div><div class='xr-var-preview xr-preview'>2015-07-09T15:00:00.000039936 .....</div><input id='attrs-081780fc-29ac-452b-924b-5d6f7964a487' class='xr-var-attrs-in' type='checkbox' ><label for='attrs-081780fc-29ac-452b-924b-5d6f7964a487' title='Show/Hide attributes'><svg class='icon xr-icon-file-text2'><use xlink:href='#icon-file-text2'></use></svg></label><input id='data-88c81871-e50c-48d3-ab37-2f7da189f71e' class='xr-var-data-in' type='checkbox'><label for='data-88c81871-e50c-48d3-ab37-2f7da189f71e' title='Show/Hide data repr'><svg class='icon xr-icon-database'><use xlink:href='#icon-database'></use></svg></label><div class='xr-var-attrs'><dl class='xr-attrs'><dt><span>long_name :</span></dt><dd>Time of the lifetime maximum intensity from IBTrACS (U.S. Agency)</dd></dl></div><div class='xr-var-data'><pre>array([&#x27;2015-07-09T15:00:00.000039936&#x27;, &#x27;2015-07-15T00:00:00.000039936&#x27;,\n",
       "       &#x27;2015-08-03T21:00:00.000039936&#x27;, &#x27;2015-07-31T21:00:00.000039936&#x27;,\n",
       "       &#x27;2015-08-03T21:00:00.000039936&#x27;, &#x27;2015-08-03T21:00:00.000039936&#x27;,\n",
       "       &#x27;2015-08-19T15:00:00.000039936&#x27;, &#x27;2015-08-30T06:00:00.000039936&#x27;,\n",
       "       &#x27;2015-08-30T03:00:00.000039936&#x27;, &#x27;2015-08-30T03:00:00.000039936&#x27;,\n",
       "       &#x27;2015-08-31T12:00:00.000039936&#x27;, &#x27;2015-08-29T12:00:00.000039936&#x27;,\n",
       "       &#x27;2015-08-30T06:00:00.000039936&#x27;, &#x27;2015-08-30T06:00:00.000039936&#x27;,\n",
       "       &#x27;2015-10-20T12:00:00.000039936&#x27;, &#x27;2015-10-23T12:00:00.000039936&#x27;,\n",
       "       &#x27;2016-07-06T03:00:00.000039936&#x27;, &#x27;2016-07-06T03:00:00.000039936&#x27;,\n",
       "       &#x27;2016-07-25T09:00:00.000039936&#x27;, &#x27;2016-08-28T03:00:00.000039936&#x27;,\n",
       "       &#x27;2016-08-28T03:00:00.000039936&#x27;, &#x27;2016-08-31T06:00:00.000039936&#x27;,\n",
       "       &#x27;2016-08-31T06:00:00.000039936&#x27;, &#x27;2016-08-31T06:00:00.000039936&#x27;,\n",
       "       &#x27;2016-08-31T06:00:00.000039936&#x27;, &#x27;2016-09-02T03:00:00.000039936&#x27;,\n",
       "       &#x27;2016-08-31T06:00:00.000039936&#x27;, &#x27;2016-08-31T06:00:00.000039936&#x27;,\n",
       "       &#x27;2016-09-13T12:00:00.000039936&#x27;, &#x27;2016-09-13T12:00:00.000039936&#x27;,\n",
       "       &#x27;2016-09-26T21:00:00.000039936&#x27;, &#x27;2016-10-13T06:00:00.000039936&#x27;,\n",
       "       &#x27;2016-10-13T06:00:00.000039936&#x27;, &#x27;2016-10-18T18:00:00.000039936&#x27;,\n",
       "       &#x27;2017-02-09T06:00:00.000039936&#x27;, &#x27;2017-05-08T03:00:00.000039936&#x27;,\n",
       "       &#x27;2017-07-31T00:00:00.000039936&#x27;, &#x27;2017-07-31T00:00:00.000039936&#x27;,\n",
       "       &#x27;2017-08-21T12:00:00.000039936&#x27;, &#x27;2017-08-26T00:00:00.000039936&#x27;,\n",
       "       &#x27;2017-08-27T00:00:00.000039936&#x27;, &#x27;2017-09-08T21:00:00.000039936&#x27;,\n",
       "       &#x27;2017-09-06T00:00:00.000039936&#x27;, &#x27;2017-09-08T21:00:00.000039936&#x27;,\n",
       "       &#x27;2017-09-20T00:00:00.000039936&#x27;, &#x27;2017-09-20T00:00:00.000039936&#x27;,\n",
       "       &#x27;2017-10-21T12:00:00.000039936&#x27;, &#x27;2018-01-05T09:00:00.000039936&#x27;,\n",
       "       &#x27;2018-01-31T06:00:00.000039936&#x27;, &#x27;2018-07-27T12:00:00.000039936&#x27;],\n",
       "      dtype=&#x27;datetime64[ns]&#x27;)</pre></div></li><li class='xr-var-item'><div class='xr-var-name'><span>t_since_lmi_ibt</span></div><div class='xr-var-dims'>(time)</div><div class='xr-var-dtype'>float64</div><div class='xr-var-preview xr-preview'>1.063e+05 5.301e+04 ... -2.271e+05</div><input id='attrs-69fa5a23-6319-4814-8bf4-9119264c2d02' class='xr-var-attrs-in' type='checkbox' ><label for='attrs-69fa5a23-6319-4814-8bf4-9119264c2d02' title='Show/Hide attributes'><svg class='icon xr-icon-file-text2'><use xlink:href='#icon-file-text2'></use></svg></label><input id='data-0a72a897-d782-4385-9e49-a79ba98a78af' class='xr-var-data-in' type='checkbox'><label for='data-0a72a897-d782-4385-9e49-a79ba98a78af' title='Show/Hide data repr'><svg class='icon xr-icon-database'><use xlink:href='#icon-database'></use></svg></label><div class='xr-var-attrs'><dl class='xr-attrs'><dt><span>long_name :</span></dt><dd>Time since the lifetime maximum intensity from IBTrACS (U.S. Agency)</dd><dt><span>units :</span></dt><dd>second(s)</dd></dl></div><div class='xr-var-data'><pre>array([ 106288.99996006,   53009.99996006, -176965.00003994,\n",
       "        239405.99996006,   -1695.00003994,  173563.99996006,\n",
       "        197209.99996006, -218926.00003994,  -83702.00003994,\n",
       "         45746.99996006,  202617.99996006,  444311.99996006,\n",
       "        476154.99996006,  651462.99996006,   98803.99996006,\n",
       "          2826.99996006,  171973.99996006,  301338.99996006,\n",
       "        -68016.00003994, -235748.00003994, -235736.00003994,\n",
       "       -377003.00003994, -185471.00003994,  -54835.00003994,\n",
       "         -9824.00003994,  -11681.00003994,  165220.99996006,\n",
       "        383477.99996006, -227482.00003994,  -52240.00003994,\n",
       "       -128049.00003994, -545210.00003994, -416119.00003994,\n",
       "       -250244.00003994, -187535.00003994, -330327.00003994,\n",
       "       -142046.00003994,  -57439.00003994, -165515.00003994,\n",
       "        -85166.00003994, -136909.00003994, -171760.00003994,\n",
       "        124238.99996006,    3798.99996006,  168322.99996006,\n",
       "        297890.99996006,   -9505.00003994, -151525.00003994,\n",
       "        113032.99996006, -227064.00003994])</pre></div></li><li class='xr-var-item'><div class='xr-var-name'><span>t_17_ibt</span></div><div class='xr-var-dims'>(time)</div><div class='xr-var-dtype'>datetime64[ns]</div><div class='xr-var-preview xr-preview'>2015-07-03T18:00:00.000039936 .....</div><input id='attrs-c9319738-1602-4355-a5cc-ce01e1389774' class='xr-var-attrs-in' type='checkbox' ><label for='attrs-c9319738-1602-4355-a5cc-ce01e1389774' title='Show/Hide attributes'><svg class='icon xr-icon-file-text2'><use xlink:href='#icon-file-text2'></use></svg></label><input id='data-11664f16-9872-440b-a21a-ec13a25dd3dd' class='xr-var-data-in' type='checkbox'><label for='data-11664f16-9872-440b-a21a-ec13a25dd3dd' title='Show/Hide data repr'><svg class='icon xr-icon-database'><use xlink:href='#icon-database'></use></svg></label><div class='xr-var-attrs'><dl class='xr-attrs'><dt><span>long_name :</span></dt><dd>Time when the storm reached 17.5 m/s for the first time from IBTrACS (U.S. Agency)</dd><dt><span>caveat :</span></dt><dd>multiple 17.5 m/s values are yet not treated</dd></dl></div><div class='xr-var-data'><pre>array([&#x27;2015-07-03T18:00:00.000039936&#x27;, &#x27;2015-07-13T06:00:00.000039936&#x27;,\n",
       "       &#x27;2015-07-30T12:00:00.000039936&#x27;, &#x27;2015-07-30T00:00:00.000039936&#x27;,\n",
       "       &#x27;2015-07-30T12:00:00.000039936&#x27;, &#x27;2015-07-30T12:00:00.000039936&#x27;,\n",
       "       &#x27;2015-08-14T18:00:00.000039936&#x27;, &#x27;2015-08-26T18:00:00.000039936&#x27;,\n",
       "       &#x27;2015-08-25T18:00:00.000039936&#x27;, &#x27;2015-08-25T18:00:00.000039936&#x27;,\n",
       "       &#x27;2015-08-30T06:00:00.000039936&#x27;, &#x27;2015-08-27T06:00:00.000039936&#x27;,\n",
       "       &#x27;2015-08-26T18:00:00.000039936&#x27;, &#x27;2015-08-26T18:00:00.000039936&#x27;,\n",
       "       &#x27;2015-10-17T00:00:00.000039936&#x27;, &#x27;2015-10-21T00:00:00.000039936&#x27;,\n",
       "       &#x27;2016-07-03T03:00:00.000039936&#x27;, &#x27;2016-07-03T03:00:00.000039936&#x27;,\n",
       "       &#x27;2016-07-22T09:00:00.000039936&#x27;, &#x27;2016-08-17T06:00:00.000039936&#x27;,\n",
       "       &#x27;2016-08-17T06:00:00.000039936&#x27;, &#x27;2016-08-22T18:00:00.000039936&#x27;,\n",
       "       &#x27;2016-08-25T06:00:00.000039936&#x27;, &#x27;2016-08-25T06:00:00.000039936&#x27;,\n",
       "       &#x27;2016-08-25T06:00:00.000039936&#x27;, &#x27;2016-08-31T06:00:00.000039936&#x27;,\n",
       "       &#x27;2016-08-25T06:00:00.000039936&#x27;, &#x27;2016-08-25T06:00:00.000039936&#x27;,\n",
       "       &#x27;2016-09-10T00:00:00.000039936&#x27;, &#x27;2016-09-10T00:00:00.000039936&#x27;,\n",
       "       &#x27;2016-09-23T12:00:00.000039936&#x27;, &#x27;2016-10-04T06:00:00.000039936&#x27;,\n",
       "       &#x27;2016-10-04T06:00:00.000039936&#x27;, &#x27;2016-10-15T03:00:00.000039936&#x27;,\n",
       "       &#x27;2017-02-03T18:00:00.000039936&#x27;, &#x27;2017-05-02T18:00:00.000039936&#x27;,\n",
       "       &#x27;2017-07-21T06:00:00.000039936&#x27;, &#x27;2017-07-21T06:00:00.000039936&#x27;,\n",
       "       &#x27;2017-08-19T00:00:00.000039936&#x27;, &#x27;2017-08-17T18:00:00.000039936&#x27;,\n",
       "       &#x27;2017-08-24T18:00:00.000039936&#x27;, &#x27;2017-09-05T12:00:00.000039936&#x27;,\n",
       "       &#x27;2017-08-30T06:00:00.000039936&#x27;, &#x27;2017-09-05T12:00:00.000039936&#x27;,\n",
       "       &#x27;2017-09-16T15:00:00.000039936&#x27;, &#x27;2017-09-16T15:00:00.000039936&#x27;,\n",
       "       &#x27;2017-10-16T00:00:00.000039936&#x27;, &#x27;2018-01-02T18:00:00.000039936&#x27;,\n",
       "       &#x27;2018-01-26T06:00:00.000039936&#x27;, &#x27;2018-07-24T06:00:00.000039936&#x27;],\n",
       "      dtype=&#x27;datetime64[ns]&#x27;)</pre></div></li><li class='xr-var-item'><div class='xr-var-name'><span>t_since_17_ibt</span></div><div class='xr-var-dims'>(time)</div><div class='xr-var-dtype'>float64</div><div class='xr-var-preview xr-preview'>6.139e+05 2.042e+05 ... 5.374e+04</div><input id='attrs-66ace5d3-88b0-4aa2-afd5-6ff2a6949853' class='xr-var-attrs-in' type='checkbox' ><label for='attrs-66ace5d3-88b0-4aa2-afd5-6ff2a6949853' title='Show/Hide attributes'><svg class='icon xr-icon-file-text2'><use xlink:href='#icon-file-text2'></use></svg></label><input id='data-e126ea83-5bb4-4a5f-abb7-d3a3c63388df' class='xr-var-data-in' type='checkbox'><label for='data-e126ea83-5bb4-4a5f-abb7-d3a3c63388df' title='Show/Hide data repr'><svg class='icon xr-icon-database'><use xlink:href='#icon-database'></use></svg></label><div class='xr-var-attrs'><dl class='xr-attrs'><dt><span>long_name :</span></dt><dd>Time since the storm reached 17.5 m/s for the first time from IBTrACS (U.S. Agency)</dd><dt><span>units :</span></dt><dd>second(s)</dd></dl></div><div class='xr-var-data'><pre>array([613888.99996006, 204209.99996006, 201034.99996006, 401405.99996006,\n",
       "       376304.99996006, 551563.99996006, 618409.99996006,  83473.99996006,\n",
       "       294297.99996006, 423746.99996006, 310617.99996006, 638711.99996006,\n",
       "       778554.99996006, 953862.99996006, 401203.99996006, 218826.99996006,\n",
       "       431173.99996006, 560538.99996006, 191183.99996006, 703851.99996006,\n",
       "       703863.99996006, 357396.99996006, 332928.99996006, 463564.99996006,\n",
       "       508575.99996006, 150318.99996006, 683620.99996006, 901877.99996006,\n",
       "        74917.99996006, 250159.99996006, 163550.99996006, 232389.99996006,\n",
       "       361480.99996006,  62955.99996006, 287664.99996006, 134072.99996006,\n",
       "       700353.99996006, 784960.99996006,  50484.99996006, 627633.99996006,\n",
       "        57490.99996006, 119839.99996006, 707438.99996006, 295398.99996006,\n",
       "       459922.99996006, 589490.99996006, 465694.99996006,  75274.99996006,\n",
       "       545032.99996006,  53735.99996006])</pre></div></li><li class='xr-var-item'><div class='xr-var-name'><span>t_17_end_ibt</span></div><div class='xr-var-dims'>(time)</div><div class='xr-var-dtype'>datetime64[ns]</div><div class='xr-var-preview xr-preview'>2015-07-17T06:00:00.000039936 .....</div><input id='attrs-2898ff19-6cf1-4694-9cda-b75a31f7e310' class='xr-var-attrs-in' type='checkbox' ><label for='attrs-2898ff19-6cf1-4694-9cda-b75a31f7e310' title='Show/Hide attributes'><svg class='icon xr-icon-file-text2'><use xlink:href='#icon-file-text2'></use></svg></label><input id='data-e135aaeb-c602-4337-9dbd-d789da55686a' class='xr-var-data-in' type='checkbox'><label for='data-e135aaeb-c602-4337-9dbd-d789da55686a' title='Show/Hide data repr'><svg class='icon xr-icon-database'><use xlink:href='#icon-database'></use></svg></label><div class='xr-var-attrs'><dl class='xr-attrs'><dt><span>long_name :</span></dt><dd>Time when the storm reached 17.5 m/s for the last time from IBTrACS (U.S. Agency)</dd><dt><span>caveat :</span></dt><dd>multiple 17.5 m/s values are yet not treated</dd></dl></div><div class='xr-var-data'><pre>array([&#x27;2015-07-17T06:00:00.000039936&#x27;, &#x27;2015-07-15T18:00:00.000039936&#x27;,\n",
       "       &#x27;2015-08-09T06:00:00.000039936&#x27;, &#x27;2015-08-06T12:00:00.000039936&#x27;,\n",
       "       &#x27;2015-08-09T06:00:00.000039936&#x27;, &#x27;2015-08-09T06:00:00.000039936&#x27;,\n",
       "       &#x27;2015-08-26T00:00:00.000039936&#x27;, &#x27;2015-09-11T12:00:00.000039936&#x27;,\n",
       "       &#x27;2015-09-08T06:00:00.000039936&#x27;, &#x27;2015-09-08T06:00:00.000039936&#x27;,\n",
       "       &#x27;2015-09-02T18:00:00.000039936&#x27;, &#x27;2015-09-09T09:00:00.000039936&#x27;,\n",
       "       &#x27;2015-09-11T12:00:00.000039936&#x27;, &#x27;2015-09-11T12:00:00.000039936&#x27;,\n",
       "       &#x27;2015-10-27T18:00:00.000039936&#x27;, &#x27;2015-10-24T09:00:00.000039936&#x27;,\n",
       "       &#x27;2016-07-10T00:00:00.000039936&#x27;, &#x27;2016-07-10T00:00:00.000039936&#x27;,\n",
       "       &#x27;2016-07-27T06:00:00.000039936&#x27;, &#x27;2016-08-30T12:00:00.000039936&#x27;,\n",
       "       &#x27;2016-08-30T12:00:00.000039936&#x27;, &#x27;2016-09-03T00:00:00.000039936&#x27;,\n",
       "       &#x27;2016-09-04T18:00:00.000039936&#x27;, &#x27;2016-09-04T18:00:00.000039936&#x27;,\n",
       "       &#x27;2016-09-04T18:00:00.000039936&#x27;, &#x27;2016-09-07T00:00:00.000039936&#x27;,\n",
       "       &#x27;2016-09-04T18:00:00.000039936&#x27;, &#x27;2016-09-04T18:00:00.000039936&#x27;,\n",
       "       &#x27;2016-09-15T09:00:00.000039936&#x27;, &#x27;2016-09-15T09:00:00.000039936&#x27;,\n",
       "       &#x27;2016-09-28T12:00:00.000039936&#x27;, &#x27;2016-10-18T18:00:00.000039936&#x27;,\n",
       "       &#x27;2016-10-18T18:00:00.000039936&#x27;, &#x27;2016-10-21T18:00:00.000039936&#x27;,\n",
       "       &#x27;2017-02-12T00:00:00.000039936&#x27;, &#x27;2017-05-10T06:00:00.000039936&#x27;,\n",
       "       &#x27;2017-08-07T18:00:00.000039936&#x27;, &#x27;2017-08-07T18:00:00.000039936&#x27;,\n",
       "       &#x27;2017-08-23T18:00:00.000039936&#x27;, &#x27;2017-08-27T12:00:00.000039936&#x27;,\n",
       "       &#x27;2017-08-27T09:00:00.000039936&#x27;, &#x27;2017-09-23T00:00:00.000039936&#x27;,\n",
       "       &#x27;2017-09-12T00:00:00.000039936&#x27;, &#x27;2017-09-23T00:00:00.000039936&#x27;,\n",
       "       &#x27;2017-10-02T09:00:00.000039936&#x27;, &#x27;2017-10-02T09:00:00.000039936&#x27;,\n",
       "       &#x27;2017-10-23T00:00:00.000039936&#x27;, &#x27;2018-01-07T00:00:00.000039936&#x27;,\n",
       "       &#x27;2018-02-08T18:00:00.000039936&#x27;, &#x27;2018-07-29T06:00:00.000039936&#x27;],\n",
       "      dtype=&#x27;datetime64[ns]&#x27;)</pre></div></li><li class='xr-var-item'><div class='xr-var-name'><span>t_since_17_end_ibt</span></div><div class='xr-var-dims'>(time)</div><div class='xr-var-dtype'>float64</div><div class='xr-var-preview xr-preview'>-5.525e+05 ... -3.783e+05</div><input id='attrs-a1a004fe-9b92-47b1-885a-55c1f2b5a118' class='xr-var-attrs-in' type='checkbox' ><label for='attrs-a1a004fe-9b92-47b1-885a-55c1f2b5a118' title='Show/Hide attributes'><svg class='icon xr-icon-file-text2'><use xlink:href='#icon-file-text2'></use></svg></label><input id='data-8da8cde7-f326-445b-aa0a-d49ceab1c804' class='xr-var-data-in' type='checkbox'><label for='data-8da8cde7-f326-445b-aa0a-d49ceab1c804' title='Show/Hide data repr'><svg class='icon xr-icon-database'><use xlink:href='#icon-database'></use></svg></label><div class='xr-var-attrs'><dl class='xr-attrs'><dt><span>long_name :</span></dt><dd>Time since the storm reached 17.5 m/s for the last time from IBTrACS (U.S. Agency)</dd><dt><span>units :</span></dt><dd>second(s)</dd></dl></div><div class='xr-var-data'><pre>array([ -552511.00003994,   -11790.00003994,  -641365.00003994,\n",
       "        -246594.00003994,  -466095.00003994,  -290836.00003994,\n",
       "        -353590.00003994, -1277326.00003994,  -872102.00003994,\n",
       "        -742653.00003994,     8217.99996006,  -495288.00003994,\n",
       "        -582245.00003994,  -406937.00003994,  -527596.00003994,\n",
       "         -72773.00003994,  -162826.00003994,   -33461.00003994,\n",
       "        -230016.00003994,  -440948.00003994,  -440936.00003994,\n",
       "        -614603.00003994,  -574271.00003994,  -443635.00003994,\n",
       "        -398624.00003994,  -432881.00003994,  -223579.00003994,\n",
       "          -5322.00003994,  -389482.00003994,  -214240.00003994,\n",
       "        -268449.00003994, -1020410.00003994,  -891319.00003994,\n",
       "        -509444.00003994,  -425135.00003994,  -513927.00003994,\n",
       "        -811646.00003994,  -727039.00003994,  -359915.00003994,\n",
       "        -214766.00003994,  -169309.00003994, -1392160.00003994,\n",
       "        -394161.00003994, -1216601.00003994,  -900877.00003994,\n",
       "        -771309.00003994,  -139105.00003994,  -291925.00003994,\n",
       "        -621367.00003994,  -378264.00003994])</pre></div></li><li class='xr-var-item'><div class='xr-var-name'><span>dt_17_ibt</span></div><div class='xr-var-dims'>(time)</div><div class='xr-var-dtype'>float64</div><div class='xr-var-preview xr-preview'>1.166e+06 2.16e+05 ... 4.32e+05</div><input id='attrs-d7659d28-6bb4-4d36-aa6c-7bf0fe9d90b6' class='xr-var-attrs-in' type='checkbox' ><label for='attrs-d7659d28-6bb4-4d36-aa6c-7bf0fe9d90b6' title='Show/Hide attributes'><svg class='icon xr-icon-file-text2'><use xlink:href='#icon-file-text2'></use></svg></label><input id='data-ba14f4be-4313-4fe4-a103-674a3b140d0c' class='xr-var-data-in' type='checkbox'><label for='data-ba14f4be-4313-4fe4-a103-674a3b140d0c' title='Show/Hide data repr'><svg class='icon xr-icon-database'><use xlink:href='#icon-database'></use></svg></label><div class='xr-var-attrs'><dl class='xr-attrs'><dt><span>long_name :</span></dt><dd>Duration of the period when storm exceeds 17.5 m/s from IBTrACS (U.S. Agency)</dd><dt><span>units :</span></dt><dd>second(s)</dd></dl></div><div class='xr-var-data'><pre>array([1166400.,  216000.,  842400.,  648000.,  842400.,  842400.,\n",
       "        972000., 1360800., 1166400., 1166400.,  302400., 1134000.,\n",
       "       1360800., 1360800.,  928800.,  291600.,  594000.,  594000.,\n",
       "        421200., 1144800., 1144800.,  972000.,  907200.,  907200.,\n",
       "        907200.,  583200.,  907200.,  907200.,  464400.,  464400.,\n",
       "        432000., 1252800., 1252800.,  572400.,  712800.,  648000.,\n",
       "       1512000., 1512000.,  410400.,  842400.,  226800., 1512000.,\n",
       "       1101600., 1512000., 1360800., 1360800.,  604800.,  367200.,\n",
       "       1166400.,  432000.])</pre></div></li><li class='xr-var-item'><div class='xr-var-name'><span>vmx_6hr_ibt</span></div><div class='xr-var-dims'>(time)</div><div class='xr-var-dtype'>float64</div><div class='xr-var-preview xr-preview'>48.41 18.0 33.39 ... 56.58 20.58</div><input id='attrs-5a411bde-bd92-41e1-a989-0a712788a732' class='xr-var-attrs-in' type='checkbox' ><label for='attrs-5a411bde-bd92-41e1-a989-0a712788a732' title='Show/Hide attributes'><svg class='icon xr-icon-file-text2'><use xlink:href='#icon-file-text2'></use></svg></label><input id='data-8458bcd8-727f-47c4-96e6-e90c525eb031' class='xr-var-data-in' type='checkbox'><label for='data-8458bcd8-727f-47c4-96e6-e90c525eb031' title='Show/Hide data repr'><svg class='icon xr-icon-database'><use xlink:href='#icon-database'></use></svg></label><div class='xr-var-attrs'><dl class='xr-attrs'><dt><span>long_name :</span></dt><dd>Maximum sustained wind speed in 6 hours from now from IBTrACS (U.S. Agency)</dd><dt><span>units :</span></dt><dd>m/s</dd></dl></div><div class='xr-var-data'><pre>array([48.40965969, 18.00399971, 33.39218224, 28.29199982, 74.99165953,\n",
       "       45.15803326, 41.15200043, 30.58527198, 47.58104907, 52.61926264,\n",
       "       19.17826024, 45.05115227, 38.7164605 , 40.82211731, 54.01200104,\n",
       "       88.55253424, 45.3458847 , 20.82867546, 49.18578634, 48.86800003,\n",
       "       48.86800003, 28.29199982, 50.99442683, 57.80903514, 63.13174241,\n",
       "       36.00799942, 49.95095594, 23.14800072, 34.71933487, 84.01485494,\n",
       "       46.29600143, 40.56520483, 22.6032125 , 32.14371282, 23.14800072,\n",
       "       41.79114302, 33.43600082, 62.66201975, 26.76094646, 46.47232605,\n",
       "       19.74462488, 38.82767576, 74.58799744, 67.87236523, 56.58399963,\n",
       "       51.44000244, 68.23015846, 23.14800072, 56.58399963, 20.57600021])</pre></div></li><li class='xr-var-item'><div class='xr-var-name'><span>vmx_12hr_ibt</span></div><div class='xr-var-dims'>(time)</div><div class='xr-var-dtype'>float64</div><div class='xr-var-preview xr-preview'>42.86 18.0 41.11 ... 56.1 22.08</div><input id='attrs-cef0f4e4-2ebb-498c-a390-27777bc9258a' class='xr-var-attrs-in' type='checkbox' ><label for='attrs-cef0f4e4-2ebb-498c-a390-27777bc9258a' title='Show/Hide attributes'><svg class='icon xr-icon-file-text2'><use xlink:href='#icon-file-text2'></use></svg></label><input id='data-ba194a80-ab89-4c63-99ca-eccc330d9ab5' class='xr-var-data-in' type='checkbox'><label for='data-ba194a80-ab89-4c63-99ca-eccc330d9ab5' title='Show/Hide data repr'><svg class='icon xr-icon-database'><use xlink:href='#icon-database'></use></svg></label><div class='xr-var-attrs'><dl class='xr-attrs'><dt><span>long_name :</span></dt><dd>Maximum sustained wind speed in 12 hours from now from IBTrACS (U.S. Agency)</dd><dt><span>units :</span></dt><dd>m/s</dd></dl></div><div class='xr-var-data'><pre>array([42.85819002, 18.00399971, 41.10818258, 30.00723932, 71.14866248,\n",
       "       45.33997861, 39.72168231, 30.86400032, 57.86904727, 51.44000244,\n",
       "       20.57600021, 42.47915368, 41.37943178, 38.58000183, 54.01200104,\n",
       "       64.1790219 , 41.3487107 , 17.07627064, 55.8181156 , 48.86800003,\n",
       "       48.86800003, 29.93017465, 56.13842468, 63.15188975, 60.55974034,\n",
       "       31.07380889, 47.37895467, 25.21303096, 40.98958347, 86.58685992,\n",
       "       47.98694631, 32.84920424, 23.14800072, 34.71571491, 23.14800072,\n",
       "       43.29790554, 35.61600777, 68.74279618, 29.33294634, 49.16187511,\n",
       "       18.00399971, 43.97167332, 72.78202879, 65.30036663, 56.58399963,\n",
       "       51.44000244, 65.65815986, 24.64476138, 56.10455934, 22.08147709])</pre></div></li><li class='xr-var-item'><div class='xr-var-name'><span>storm_speed_ibt</span></div><div class='xr-var-dims'>(time)</div><div class='xr-var-dtype'>float64</div><div class='xr-var-preview xr-preview'>3.086 3.601 7.003 ... 2.058 3.099</div><input id='attrs-062373e0-30a6-4a67-abdc-0e0d0330f0e6' class='xr-var-attrs-in' type='checkbox' ><label for='attrs-062373e0-30a6-4a67-abdc-0e0d0330f0e6' title='Show/Hide attributes'><svg class='icon xr-icon-file-text2'><use xlink:href='#icon-file-text2'></use></svg></label><input id='data-ddc11ba6-9046-4fa6-88c5-9d65f2ffe966' class='xr-var-data-in' type='checkbox'><label for='data-ddc11ba6-9046-4fa6-88c5-9d65f2ffe966' title='Show/Hide data repr'><svg class='icon xr-icon-database'><use xlink:href='#icon-database'></use></svg></label><div class='xr-var-attrs'><dl class='xr-attrs'><dt><span>long_name :</span></dt><dd>Storm translation speed from IBTrACS</dd><dt><span>units :</span></dt><dd>m/s</dd></dl></div><div class='xr-var-data'><pre>array([3.08640003, 3.60080004, 7.00322266, 4.62960005, 6.17280006,\n",
       "       6.13641103, 2.70583929, 1.91823572, 3.60080004, 4.50828738,\n",
       "       4.62960005, 2.12961602, 4.16068634, 4.62960005, 3.60080004,\n",
       "       4.76424901, 3.60080004, 5.14400005, 4.62960005, 0.69082015,\n",
       "       0.69196326, 7.20160007, 7.20160007, 6.17280006, 5.14400005,\n",
       "       6.21476177, 6.17280006, 7.20160007, 6.14031665, 6.25662821,\n",
       "       5.21787361, 0.76255038, 2.57200003, 3.26205811, 4.95657746,\n",
       "       3.29944737, 4.62960005, 2.73579833, 7.71600008, 4.62960005,\n",
       "       4.96215012, 7.76553489, 7.20160007, 5.65840006, 3.08640003,\n",
       "       3.90043804, 7.77768045, 4.11520004, 2.05760002, 3.09897426])</pre></div></li><li class='xr-var-item'><div class='xr-var-name'><span>storm_dir_ibt</span></div><div class='xr-var-dims'>(time)</div><div class='xr-var-dtype'>float64</div><div class='xr-var-preview xr-preview'>275.8 285.5 276.9 ... 215.0 9.756</div><input id='attrs-697019ab-3d0f-440f-84db-40dea4249bbf' class='xr-var-attrs-in' type='checkbox' ><label for='attrs-697019ab-3d0f-440f-84db-40dea4249bbf' title='Show/Hide attributes'><svg class='icon xr-icon-file-text2'><use xlink:href='#icon-file-text2'></use></svg></label><input id='data-f3f4994a-8a01-495d-903f-4043c215e667' class='xr-var-data-in' type='checkbox'><label for='data-f3f4994a-8a01-495d-903f-4043c215e667' title='Show/Hide data repr'><svg class='icon xr-icon-database'><use xlink:href='#icon-database'></use></svg></label><div class='xr-var-attrs'><dl class='xr-attrs'><dt><span>long_name :</span></dt><dd>Storm translation direction from IBTrACS</dd><dt><span>units :</span></dt><dd>degrees east of north</dd></dl></div><div class='xr-var-data'><pre>array([275.79212965, 285.45833335, 276.92824076, 310.83611109,\n",
       "       295.        , 285.35370369,  10.        , 238.64537035,\n",
       "       297.49814811, 325.        , 298.80462961, 314.30000002,\n",
       "       270.        , 281.60324072, 295.74259257,   7.61759256,\n",
       "       304.23518515, 315.        , 303.51111109, 241.57037044,\n",
       "       241.54814822, 310.        , 274.13379628, 260.38657409,\n",
       "       265.        ,  30.        , 286.49120369, 320.        ,\n",
       "       295.31574076, 285.8148148 , 285.71805554, 340.17592589,\n",
       "       190.        , 293.29259256, 246.35648144, 260.        ,\n",
       "       200.76203706, 198.40787035, 280.        , 310.57129628,\n",
       "       306.61620369, 284.51851854, 290.        , 286.75879628,\n",
       "       305.        , 345.        ,  20.        , 184.2824067 ,\n",
       "       215.        ,   9.75555552])</pre></div></li><li class='xr-var-item'><div class='xr-var-name'><span>vmx_reg</span></div><div class='xr-var-dims'>(time)</div><div class='xr-var-dtype'>float64</div><div class='xr-var-preview xr-preview'>43.23 19.88 25.22 ... 45.62 21.63</div><input id='attrs-76715686-8c51-491f-9d96-a7e5f8093365' class='xr-var-attrs-in' type='checkbox' ><label for='attrs-76715686-8c51-491f-9d96-a7e5f8093365' title='Show/Hide attributes'><svg class='icon xr-icon-file-text2'><use xlink:href='#icon-file-text2'></use></svg></label><input id='data-ca2641b7-bc4d-4dae-b697-9c0afa077607' class='xr-var-data-in' type='checkbox'><label for='data-ca2641b7-bc4d-4dae-b697-9c0afa077607' title='Show/Hide data repr'><svg class='icon xr-icon-database'><use xlink:href='#icon-database'></use></svg></label><div class='xr-var-attrs'><dl class='xr-attrs'><dt><span>long_name :</span></dt><dd>Regressed maximum sustained wind speed IBTrACS (U.S. Agency) to imitate a 1D-Vmax</dd><dt><span>description :</span></dt><dd>See Avenas et al., 2023 (MWR)</dd><dt><span>units :</span></dt><dd>m/s</dd></dl></div><div class='xr-var-data'><pre>array([43.22614975, 19.88343724, 25.21918894, 26.80559601, 61.14421273,\n",
       "       39.45271338, 34.8697987 , 25.71604624, 34.8697987 , 45.19868011,\n",
       "       18.7425866 , 38.4536242 , 31.38104419, 36.4318814 , 43.82936112,\n",
       "       72.31233978, 39.58358929, 24.29436356, 35.09120042, 41.13631602,\n",
       "       41.13512142, 25.91023627, 37.24016698, 43.82936112, 50.34502087,\n",
       "       31.22750392, 43.29494014, 22.85622071, 25.79708038, 62.94043801,\n",
       "       37.83979407, 37.2434198 , 20.53449935, 26.80181307, 22.3264121 ,\n",
       "       34.8697987 , 29.49406177, 41.62905823, 23.05163865, 35.07454116,\n",
       "       21.84133432, 30.63823184, 58.16465781, 54.58083497, 45.32414664,\n",
       "       42.0374497 , 53.95001484, 22.3264121 , 45.62127254, 21.62716741])</pre></div></li><li class='xr-var-item'><div class='xr-var-name'><span>fcor_ibt</span></div><div class='xr-var-dims'>(time)</div><div class='xr-var-dtype'>float64</div><div class='xr-var-preview xr-preview'>4.6e-05 4.722e-05 ... 5.106e-05</div><input id='attrs-6f563c89-dd98-4d89-8a3e-dfec53dc4ecb' class='xr-var-attrs-in' type='checkbox' ><label for='attrs-6f563c89-dd98-4d89-8a3e-dfec53dc4ecb' title='Show/Hide attributes'><svg class='icon xr-icon-file-text2'><use xlink:href='#icon-file-text2'></use></svg></label><input id='data-472ab6b8-04ee-4818-98ce-7f46ffeb35d7' class='xr-var-data-in' type='checkbox'><label for='data-472ab6b8-04ee-4818-98ce-7f46ffeb35d7' title='Show/Hide data repr'><svg class='icon xr-icon-database'><use xlink:href='#icon-database'></use></svg></label><div class='xr-var-attrs'><dl class='xr-attrs'><dt><span>long_name :</span></dt><dd>Coriolis parameter of the storm center from IBTrACS (U.S. Agency)</dd><dt><span>units :</span></dt><dd>s-1</dd></dl></div><div class='xr-var-data'><pre>array([ 4.59966195e-05,  4.72186874e-05,  3.64208749e-05,  4.25187533e-05,\n",
       "        4.49916619e-05,  5.03927780e-05,  4.95891071e-05,  4.44064831e-05,\n",
       "        3.78695161e-05,  4.59642324e-05,  5.02447408e-05,  4.68263451e-05,\n",
       "        5.81543617e-05,  6.03222949e-05,  2.96489378e-05,  4.36877040e-05,\n",
       "        4.23593330e-05,  5.02650961e-05,  3.78461185e-05,  5.81143299e-05,\n",
       "        5.81140705e-05,  6.47026364e-05,  4.45832128e-05,  4.50863728e-05,\n",
       "        4.43407915e-05,  7.05966149e-05,  4.69026301e-05,  6.10665208e-05,\n",
       "        4.06268761e-05,  4.85212869e-05,  4.97103721e-05,  6.72333982e-05,\n",
       "        6.30298111e-05,  2.52823958e-05, -4.77873634e-05, -3.15659862e-05,\n",
       "        6.33855000e-05,  5.71341937e-05,  3.86493590e-05,  6.17145580e-05,\n",
       "        3.99473488e-05,  3.50829228e-05,  5.00030694e-05,  4.15930361e-05,\n",
       "        5.16908556e-05,  6.14808869e-05,  5.72096906e-05, -4.11478482e-05,\n",
       "       -3.95790930e-05,  5.10574602e-05])</pre></div></li><li class='xr-var-item'><div class='xr-var-name'><span>rsby_ibt</span></div><div class='xr-var-dims'>(time)</div><div class='xr-var-dtype'>float64</div><div class='xr-var-preview xr-preview'>62.39 5.615 17.03 ... 46.69 4.684</div><input id='attrs-902e5c4c-5054-4b2d-9c99-0f946a2ccdab' class='xr-var-attrs-in' type='checkbox' ><label for='attrs-902e5c4c-5054-4b2d-9c99-0f946a2ccdab' title='Show/Hide attributes'><svg class='icon xr-icon-file-text2'><use xlink:href='#icon-file-text2'></use></svg></label><input id='data-f57fd5f2-15e8-4bed-ab0c-9c69a0d8b277' class='xr-var-data-in' type='checkbox'><label for='data-f57fd5f2-15e8-4bed-ab0c-9c69a0d8b277' title='Show/Hide data repr'><svg class='icon xr-icon-database'><use xlink:href='#icon-database'></use></svg></label><div class='xr-var-attrs'><dl class='xr-attrs'><dt><span>long_name :</span></dt><dd>Maximal Rossby number from IBTrACS (U.S. Agency)</dd><dt><span>description :</span></dt><dd>Vmax / (f Rmax)</dd></dl></div><div class='xr-var-data'><pre>array([ 62.38859837,   5.61513109,  17.0262979 ,  18.7803954 ,\n",
       "        78.87297164,  34.58434286,  64.01262556,  31.50207712,\n",
       "        24.96888768,  38.02718944,   6.44935302,  21.35365544,\n",
       "        22.37315272,  30.72701757,  65.57659875, 234.56962031,\n",
       "        30.54059783,   9.30010706,  29.58281375,  46.59260843,\n",
       "        46.59122325,   7.87008517,  35.97375958,  43.12337348,\n",
       "        51.44084611,  11.06277815,  39.25760621,   8.4560462 ,\n",
       "        12.20508693, 129.47373107,  37.96153986,  23.85709914,\n",
       "         5.87560664,  22.28408159,  13.07764186,  46.92878907,\n",
       "        18.98856586,  33.56535475,   9.22632153,  36.26207975,\n",
       "        15.17369186,  35.99234782,  53.69576598,  60.10102309,\n",
       "        23.46460438,  22.58862932,  22.4922404 ,   6.75014127,\n",
       "        46.6884413 ,   4.68373924])</pre></div></li><li class='xr-var-item'><div class='xr-var-name'><span>r0_ibt</span></div><div class='xr-var-dims'>(time)</div><div class='xr-var-dtype'>float64</div><div class='xr-var-preview xr-preview'>2.069e+05 2.483e+05 ... 2.834e+05</div><input id='attrs-de1e5e4b-0a79-4f27-9592-b0386fa5a984' class='xr-var-attrs-in' type='checkbox' ><label for='attrs-de1e5e4b-0a79-4f27-9592-b0386fa5a984' title='Show/Hide attributes'><svg class='icon xr-icon-file-text2'><use xlink:href='#icon-file-text2'></use></svg></label><input id='data-52fceed8-64ee-4217-8f5a-6f988a5faebb' class='xr-var-data-in' type='checkbox'><label for='data-52fceed8-64ee-4217-8f5a-6f988a5faebb' title='Show/Hide data repr'><svg class='icon xr-icon-database'><use xlink:href='#icon-database'></use></svg></label><div class='xr-var-attrs'><dl class='xr-attrs'><dt><span>long_name :</span></dt><dd>Radius of vanishing outflow velocity from IBTrACS (U.S. Agency)</dd><dt><span>description :</span></dt><dd>np.sqrt(2 * dsg.rsby) * dsg.rmx</dd><dt><span>units :</span></dt><dd>meters</dd></dl></div><div class='xr-var-data'><pre>array([206875.27792872, 248253.80942652, 256902.87202221, 227006.52553212,\n",
       "       279126.66591265, 227771.12148592, 146685.3834686 , 158950.84950298,\n",
       "       307550.61190715, 279293.53245704, 199542.4544265 , 302574.34664938,\n",
       "       185827.86309221, 183530.30869483, 318142.49521885, 200568.10302006,\n",
       "       289484.11861821, 239618.97652283, 284908.70285224, 178778.17206472,\n",
       "       178775.51454217, 220428.09691364, 235635.19230265, 257990.43401541,\n",
       "       281774.24249404, 216363.8140421 , 256232.44667321, 190405.5759449 ,\n",
       "       280281.49227281, 208614.67320049, 209698.29133725, 191891.64103996,\n",
       "       190459.91733273, 350409.52139441, 189430.84461115, 269132.97569955,\n",
       "       171195.88517454, 217268.55609672, 291390.47697642, 157718.38977495,\n",
       "       204047.6540848 , 235696.06275217, 287883.82229714, 304570.73525983,\n",
       "       317177.67187701, 248960.76807558, 357243.23772133, 306213.91714556,\n",
       "       295895.33259741, 283414.67802891])</pre></div></li><li class='xr-var-item'><div class='xr-var-name'><span>oni_psl</span></div><div class='xr-var-dims'>(time)</div><div class='xr-var-dtype'>float64</div><div class='xr-var-preview xr-preview'>1.628 1.68 1.868 ... -0.847 0.1978</div><input id='attrs-97ec0918-95fe-4330-92dc-387661b2cb5e' class='xr-var-attrs-in' type='checkbox' ><label for='attrs-97ec0918-95fe-4330-92dc-387661b2cb5e' title='Show/Hide attributes'><svg class='icon xr-icon-file-text2'><use xlink:href='#icon-file-text2'></use></svg></label><input id='data-947b890b-484c-4efd-a3a6-c4fdae7da94b' class='xr-var-data-in' type='checkbox'><label for='data-947b890b-484c-4efd-a3a6-c4fdae7da94b' title='Show/Hide data repr'><svg class='icon xr-icon-database'><use xlink:href='#icon-database'></use></svg></label><div class='xr-var-attrs'><dl class='xr-attrs'><dt><span>long_name :</span></dt><dd>Ocean Nino Index from https://psl.noaa.gov/data/timeseries/month/ONI/</dd><dt><span>units :</span></dt><dd>K</dd></dl></div><div class='xr-var-data'><pre>array([ 1.62808925,  1.68027755,  1.86800125,  1.88560553,  1.88763275,\n",
       "        1.90726302,  2.06233093,  2.11854331,  2.13247969,  2.14697891,\n",
       "        2.17599109,  2.18290175,  2.19259588,  2.21018079,  2.5198882 ,\n",
       "        2.52902926, -0.40131547, -0.41000936, -0.49696131, -0.61082836,\n",
       "       -0.61082876, -0.61515447, -0.62159035, -0.62598   , -0.62749247,\n",
       "       -0.6319796 , -0.63232456, -0.6373768 , -0.64973421, -0.65379074,\n",
       "       -0.6787859 , -0.68616794, -0.685204  , -0.680417  , -0.11440408,\n",
       "        0.3010651 , -0.08867701, -0.09657417, -0.2718634 , -0.31915664,\n",
       "       -0.32265029, -0.43298332, -0.43794155, -0.45127072, -0.56853363,\n",
       "       -0.58203029, -0.77497087, -0.91408109, -0.84700939,  0.19780879])</pre></div></li><li class='xr-var-item'><div class='xr-var-name'><span>oni_7mths_psl</span></div><div class='xr-var-dims'>(time)</div><div class='xr-var-dtype'>float64</div><div class='xr-var-preview xr-preview'>0.625 0.6081 ... 0.135 -0.9315</div><input id='attrs-80864358-befe-4a6f-8394-725143c7c410' class='xr-var-attrs-in' type='checkbox' ><label for='attrs-80864358-befe-4a6f-8394-725143c7c410' title='Show/Hide attributes'><svg class='icon xr-icon-file-text2'><use xlink:href='#icon-file-text2'></use></svg></label><input id='data-888fd26c-07d0-48d9-9f04-1f2f085a1d7b' class='xr-var-data-in' type='checkbox'><label for='data-888fd26c-07d0-48d9-9f04-1f2f085a1d7b' title='Show/Hide data repr'><svg class='icon xr-icon-database'><use xlink:href='#icon-database'></use></svg></label><div class='xr-var-attrs'><dl class='xr-attrs'><dt><span>long_name :</span></dt><dd>Ocean Nino Index 7 months before current time</dd><dt><span>units :</span></dt><dd>K</dd></dl></div><div class='xr-var-data'><pre>array([ 0.62502997,  0.60814552,  0.54786635,  0.54317187,  0.54263128,\n",
       "        0.53739655,  0.4960451 ,  0.48105514,  0.47733877,  0.47347231,\n",
       "        0.47369023,  0.475285  ,  0.4775221 ,  0.48158016,  0.64320663,\n",
       "        0.65356651,  2.60327523,  2.59554733,  2.51825667,  2.21242628,\n",
       "        2.21242476,  2.19608321,  2.17176986,  2.15518674,  2.14947298,\n",
       "        2.12152378,  2.11830421,  2.07114991,  1.9558141 ,  1.91795317,\n",
       "        1.68466496,  1.45737399,  1.42652787,  1.27334387, -0.39908223,\n",
       "       -0.68786982, -0.35876424, -0.35181474, -0.23209106, -0.20056223,\n",
       "       -0.19823313, -0.11879074, -0.11493434, -0.10456721, -0.01336272,\n",
       "       -0.00286531,  0.14866124,  0.29562547,  0.1350156 , -0.93149688])</pre></div></li><li class='xr-var-item'><div class='xr-var-name'><span>sst_rms</span></div><div class='xr-var-dims'>(time)</div><div class='xr-var-dtype'>float64</div><div class='xr-var-preview xr-preview'>301.8 298.7 302.9 ... 300.2 302.0</div><input id='attrs-8f87bc05-ea5a-44b6-b8e4-8d3ff37e601c' class='xr-var-attrs-in' type='checkbox' ><label for='attrs-8f87bc05-ea5a-44b6-b8e4-8d3ff37e601c' title='Show/Hide attributes'><svg class='icon xr-icon-file-text2'><use xlink:href='#icon-file-text2'></use></svg></label><input id='data-7a9aef5c-bef8-4013-87f7-2dd848efd2b3' class='xr-var-data-in' type='checkbox'><label for='data-7a9aef5c-bef8-4013-87f7-2dd848efd2b3' title='Show/Hide data repr'><svg class='icon xr-icon-database'><use xlink:href='#icon-database'></use></svg></label><div class='xr-var-attrs'><dl class='xr-attrs'><dt><span>long_name :</span></dt><dd>Sea surface temperature (SST) averaged over a rectangle spanning +/-2° around the storm center</dd><dt><span>units :</span></dt><dd>K</dd></dl></div><div class='xr-var-data'><pre>array([301.78149414, 298.65783691, 302.86123657, 300.17736816,\n",
       "       302.19012451, 301.80804443, 302.06655884, 301.74459839,\n",
       "       301.06530762, 300.59951782, 299.58135986, 300.04934692,\n",
       "       302.20574951, 302.3767395 , 301.86340332, 303.08908081,\n",
       "       298.58032227, 296.92327881, 300.52685547, 303.72787476,\n",
       "       303.72787476, 301.10327148, 300.25881958, 300.11553955,\n",
       "       300.26541138, 302.29437256, 299.55596924, 299.55734253,\n",
       "       303.00265503, 303.30639648, 302.36737061, 301.74227905,\n",
       "       301.80093384, 302.59521484, 300.69195557, 302.41793823,\n",
       "       301.13339233, 302.45074463, 301.30300903, 303.09909058,\n",
       "       302.84832764, 301.75241089, 302.22311401, 301.58294678,\n",
       "       302.31240845, 301.55291748, 300.59344482, 301.06317139,\n",
       "       300.19134521, 302.00512695])</pre></div></li><li class='xr-var-item'><div class='xr-var-name'><span>rel_sst_rms</span></div><div class='xr-var-dims'>(time)</div><div class='xr-var-dtype'>float64</div><div class='xr-var-preview xr-preview'>2.457 -0.59 3.653 ... 1.058 3.088</div><input id='attrs-66a354ee-97f0-4708-a4e3-93575569c87a' class='xr-var-attrs-in' type='checkbox' ><label for='attrs-66a354ee-97f0-4708-a4e3-93575569c87a' title='Show/Hide attributes'><svg class='icon xr-icon-file-text2'><use xlink:href='#icon-file-text2'></use></svg></label><input id='data-5698f1b6-cad8-4dc7-b820-bebeab75aaec' class='xr-var-data-in' type='checkbox'><label for='data-5698f1b6-cad8-4dc7-b820-bebeab75aaec' title='Show/Hide data repr'><svg class='icon xr-icon-database'><use xlink:href='#icon-database'></use></svg></label><div class='xr-var-attrs'><dl class='xr-attrs'><dt><span>long_name :</span></dt><dd>Local sea surface temperature minus tropical (+:-30°N/S) average</dd><dt><span>units :</span></dt><dd>K</dd></dl></div><div class='xr-var-data'><pre>array([ 2.4569397 , -0.58996582,  3.65270996,  0.96179199,  2.97454834,\n",
       "        2.61657715,  2.92626953,  2.53256226,  1.82794189,  1.35314941,\n",
       "        0.3321228 ,  0.80111694,  2.94433594,  3.07736206,  2.36160278,\n",
       "        3.56774902, -0.77856445, -2.42443848,  1.28701782,  4.64575195,\n",
       "        4.64575195,  2.02099609,  1.18569946,  1.03265381,  1.18518066,\n",
       "        3.21655273,  0.48287964,  0.48883057,  3.91314697,  4.2166748 ,\n",
       "        3.17514038,  2.50811768,  2.57073975,  3.31369019,  1.17123413,\n",
       "        2.42977905,  1.97958374,  3.29516602,  2.19555664,  4.00039673,\n",
       "        3.74963379,  2.68762207,  3.14709473,  2.49078369,  3.22091675,\n",
       "        2.45974731,  1.46704102,  1.94024658,  1.05786133,  3.08813477])</pre></div></li><li class='xr-var-item'><div class='xr-var-name'><span>pre_sst_rms</span></div><div class='xr-var-dims'>(time)</div><div class='xr-var-dtype'>float64</div><div class='xr-var-preview xr-preview'>301.8 298.7 302.9 ... 300.2 302.0</div><input id='attrs-908e9249-56c4-49d8-832d-9a2b5f96dbae' class='xr-var-attrs-in' type='checkbox' ><label for='attrs-908e9249-56c4-49d8-832d-9a2b5f96dbae' title='Show/Hide attributes'><svg class='icon xr-icon-file-text2'><use xlink:href='#icon-file-text2'></use></svg></label><input id='data-a6957bad-800a-4927-9c13-9d9c4fec8f26' class='xr-var-data-in' type='checkbox'><label for='data-a6957bad-800a-4927-9c13-9d9c4fec8f26' title='Show/Hide data repr'><svg class='icon xr-icon-database'><use xlink:href='#icon-database'></use></svg></label><div class='xr-var-attrs'><dl class='xr-attrs'><dt><span>long_name :</span></dt><dd>Sea surface temperature averaged over a rectangle spanning +/-2° around the storm center three days before storm arrival</dd><dt><span>units :</span></dt><dd>K</dd></dl></div><div class='xr-var-data'><pre>array([301.78149414, 298.65783691, 302.86123657, 300.17736816,\n",
       "       302.19012451, 301.80804443, 302.06655884, 301.74459839,\n",
       "       301.06530762, 300.59951782, 299.58135986, 300.04934692,\n",
       "       302.20574951, 302.3767395 , 301.86340332, 303.08908081,\n",
       "       298.58032227, 296.92327881, 300.52685547, 303.72787476,\n",
       "       303.72787476, 301.10327148, 300.25881958, 300.11553955,\n",
       "       300.26541138, 302.29437256, 299.55596924, 299.55734253,\n",
       "       303.00265503, 303.30639648, 302.36737061, 301.74227905,\n",
       "       301.80093384, 302.59521484, 300.69195557, 302.41793823,\n",
       "       301.13339233, 302.45074463, 301.30300903, 303.09909058,\n",
       "       302.84832764, 301.75241089, 302.22311401, 301.58294678,\n",
       "       302.31240845, 301.55291748, 300.59344482, 301.06317139,\n",
       "       300.19134521, 302.00512695])</pre></div></li><li class='xr-var-item'><div class='xr-var-name'><span>cod_wak_rms</span></div><div class='xr-var-dims'>(time)</div><div class='xr-var-dtype'>float64</div><div class='xr-var-preview xr-preview'>0.4702 -0.2782 ... -1.325 0.2291</div><input id='attrs-a2f8445b-25c0-40ad-88dc-a005254590ec' class='xr-var-attrs-in' type='checkbox' ><label for='attrs-a2f8445b-25c0-40ad-88dc-a005254590ec' title='Show/Hide attributes'><svg class='icon xr-icon-file-text2'><use xlink:href='#icon-file-text2'></use></svg></label><input id='data-8f54790e-850a-4810-a7a1-32d758a2b971' class='xr-var-data-in' type='checkbox'><label for='data-8f54790e-850a-4810-a7a1-32d758a2b971' title='Show/Hide data repr'><svg class='icon xr-icon-database'><use xlink:href='#icon-database'></use></svg></label><div class='xr-var-attrs'><dl class='xr-attrs'><dt><span>long_name :</span></dt><dd>Cold wake, or SST cooling defined as SST on the day of TC minus prestorm SST</dd><dt><span>units :</span></dt><dd>K</dd></dl></div><div class='xr-var-data'><pre>array([ 0.47024536, -0.27816772, -0.46258545, -0.07940674, -0.18814087,\n",
       "       -0.43325806, -0.8458252 , -0.17919922, -0.41705322, -0.10592651,\n",
       "        0.19113159, -0.59094238, -1.06259155, -0.42218018,  0.06668091,\n",
       "       -0.44534302, -0.72528076, -0.22729492,  0.34158325, -0.05200195,\n",
       "       -0.05200195, -0.11364746, -0.34088135, -0.00723267, -0.29077148,\n",
       "       -0.61325073, -0.25747681, -0.13754272,  0.01071167,  0.13568115,\n",
       "       -0.37261963,  0.00241089, -0.54629517,  0.10058594, -0.60379028,\n",
       "       -0.2270813 , -0.47363281, -0.68844604,  0.02593994, -0.21075439,\n",
       "       -0.49539185, -0.1628418 , -0.37426758, -0.51495361, -0.01696777,\n",
       "       -0.92596436, -1.82324219, -0.51211548, -1.32473755,  0.22912598])</pre></div></li><li class='xr-var-item'><div class='xr-var-name'><span>sst_pmd</span></div><div class='xr-var-dims'>(time)</div><div class='xr-var-dtype'>float64</div><div class='xr-var-preview xr-preview'>302.6 298.2 303.3 ... 301.1 301.8</div><input id='attrs-1fc4741c-a3ff-4d89-905c-8bce76070cbb' class='xr-var-attrs-in' type='checkbox' ><label for='attrs-1fc4741c-a3ff-4d89-905c-8bce76070cbb' title='Show/Hide attributes'><svg class='icon xr-icon-file-text2'><use xlink:href='#icon-file-text2'></use></svg></label><input id='data-f81e8bde-4d1e-4969-b693-1495186eee77' class='xr-var-data-in' type='checkbox'><label for='data-f81e8bde-4d1e-4969-b693-1495186eee77' title='Show/Hide data repr'><svg class='icon xr-icon-database'><use xlink:href='#icon-database'></use></svg></label><div class='xr-var-attrs'><dl class='xr-attrs'><dt><span>long_name :</span></dt><dd>Sea surface temperature</dd><dt><span>standard_name :</span></dt><dd>sea_surface_temperature</dd><dt><span>units :</span></dt><dd>K</dd><dt><span>units_metadata :</span></dt><dd>temperature: on_scale</dd><dt><span>coverage_content_type :</span></dt><dd>modelResult</dd><dt><span>region :</span></dt><dd>0_to_50_km</dd><dt><span>SHIPS_related_label :</span></dt><dd>RSST DSST NSST</dd><dt><span>valid_range :</span></dt><dd>[-32767  32767]</dd></dl></div><div class='xr-var-data'><pre>array([302.6369456 , 298.17778676, 303.32635865, 300.41160076,\n",
       "       302.29366307, 302.13771909, 302.35173258, 301.79896698,\n",
       "       301.17901382, 300.34356935, 299.58781043, 299.809133  ,\n",
       "       302.81189656, 302.40226428, 301.52182035, 303.00445465,\n",
       "       299.14463251, 296.68144633, 301.40363607, 303.66963152,\n",
       "       303.66965901, 301.22164511, 299.99158529, 300.025378  ,\n",
       "       300.24736328, 301.93275151, 299.23361056, 299.69192352,\n",
       "       302.92155228, 302.90744538, 302.23374529, 301.23939742,\n",
       "       301.77841892, 302.43521074,          nan,          nan,\n",
       "                nan,          nan,          nan,          nan,\n",
       "                nan,          nan,          nan,          nan,\n",
       "                nan,          nan,          nan, 301.36847369,\n",
       "       301.10647405, 301.75107802])</pre></div></li><li class='xr-var-item'><div class='xr-var-name'><span>temp_pmd</span></div><div class='xr-var-dims'>(time)</div><div class='xr-var-dtype'>float64</div><div class='xr-var-preview xr-preview'>263.0 261.7 262.1 ... 261.3 262.7</div><input id='attrs-6e131227-dc1b-4886-801e-cdb3cf8d53b2' class='xr-var-attrs-in' type='checkbox' ><label for='attrs-6e131227-dc1b-4886-801e-cdb3cf8d53b2' title='Show/Hide attributes'><svg class='icon xr-icon-file-text2'><use xlink:href='#icon-file-text2'></use></svg></label><input id='data-ba104068-b82d-46c8-93ed-40a123633094' class='xr-var-data-in' type='checkbox'><label for='data-ba104068-b82d-46c8-93ed-40a123633094' title='Show/Hide data repr'><svg class='icon xr-icon-database'><use xlink:href='#icon-database'></use></svg></label><div class='xr-var-attrs'><dl class='xr-attrs'><dt><span>long_name :</span></dt><dd>Atmospheric temperature averaged over the vertical [0, 1000hPa] and the region [0, 300km]</dd><dt><span>units :</span></dt><dd>K</dd></dl></div><div class='xr-var-data'><pre>array([263.01878098, 261.66054307, 262.11981773, 261.79984523,\n",
       "       263.25281002, 264.14350423, 263.84770771, 261.89536312,\n",
       "       262.0048861 , 262.12739331, 261.30286015, 262.39506636,\n",
       "       263.34296997, 263.49162306, 261.42093861, 262.28963441,\n",
       "       261.63583445, 261.04136981, 260.97214926, 264.30256181,\n",
       "       264.302676  , 261.15322701, 261.43555733, 261.020046  ,\n",
       "       261.117348  , 262.67489341, 261.23647915, 260.76928577,\n",
       "       261.75474675, 262.38516396, 263.31419879, 261.1637537 ,\n",
       "       261.49383818, 261.71628392,          nan,          nan,\n",
       "                nan,          nan,          nan,          nan,\n",
       "                nan,          nan,          nan,          nan,\n",
       "                nan,          nan,          nan, 261.3572105 ,\n",
       "       261.33574617, 262.70077945])</pre></div></li><li class='xr-var-item'><div class='xr-var-name'><span>vws_pmd</span></div><div class='xr-var-dims'>(time)</div><div class='xr-var-dtype'>float64</div><div class='xr-var-preview xr-preview'>16.47 8.183 4.146 ... 4.749 3.041</div><input id='attrs-3d2ce43a-e441-4630-8111-dea2def31459' class='xr-var-attrs-in' type='checkbox' ><label for='attrs-3d2ce43a-e441-4630-8111-dea2def31459' title='Show/Hide attributes'><svg class='icon xr-icon-file-text2'><use xlink:href='#icon-file-text2'></use></svg></label><input id='data-28cdf7c7-ec45-4e94-a3c4-97bbd5aa4d4f' class='xr-var-data-in' type='checkbox'><label for='data-28cdf7c7-ec45-4e94-a3c4-97bbd5aa4d4f' title='Show/Hide data repr'><svg class='icon xr-icon-database'><use xlink:href='#icon-database'></use></svg></label><div class='xr-var-attrs'><dl class='xr-attrs'><dt><span>long_name :</span></dt><dd>Magnitude of the layered vertical wind shear vector</dd><dt><span>units :</span></dt><dd>m s-1</dd><dt><span>coverage_content_type :</span></dt><dd>modelResult</dd><dt><span>regions :</span></dt><dd>0_to_300_km 0_to_500_km 0_to_800_km 200_to_800_km</dd><dt><span>layer :</span></dt><dd>850_to_500_hPa 850_to_200_hPa</dd><dt><span>SHIPS_related_label :</span></dt><dd>SHRS SHDC SHRD</dd><dt><span>valid_range :</span></dt><dd>[-32767  32767]</dd></dl></div><div class='xr-var-data'><pre>array([16.47327405,  8.18286433,  4.1462743 , 10.26829204,  1.92611611,\n",
       "        5.19176926,  7.0943736 ,  5.50216457,  1.15252867,  7.03171634,\n",
       "       13.78094002,  8.28094517,  7.54565709,  8.66543996,  3.49792988,\n",
       "        6.582113  ,  2.28851457, 10.05967336,  2.88287938,  4.61299643,\n",
       "        4.61315496,  3.84286088,  1.89449869,  4.84895772,  3.23198574,\n",
       "        7.18977722,  5.01110966, 12.22338383,  7.07571889,  3.09314074,\n",
       "        5.12886043, 15.3160599 , 19.53116718,  1.05734628,         nan,\n",
       "               nan,         nan,         nan,         nan,         nan,\n",
       "               nan,         nan,         nan,         nan,         nan,\n",
       "               nan,         nan,  9.00026587,  4.74916451,  3.04128222])</pre></div></li><li class='xr-var-item'><div class='xr-var-name'><span>vws_12hr_pmd</span></div><div class='xr-var-dims'>(time)</div><div class='xr-var-dtype'>float64</div><div class='xr-var-preview xr-preview'>18.46 7.648 5.174 ... 7.572 2.033</div><input id='attrs-9e3739c8-5e2d-4df0-b6b1-1e88285d0b09' class='xr-var-attrs-in' type='checkbox' ><label for='attrs-9e3739c8-5e2d-4df0-b6b1-1e88285d0b09' title='Show/Hide attributes'><svg class='icon xr-icon-file-text2'><use xlink:href='#icon-file-text2'></use></svg></label><input id='data-657ef202-55e7-4ed6-8a00-16600d06fdc4' class='xr-var-data-in' type='checkbox'><label for='data-657ef202-55e7-4ed6-8a00-16600d06fdc4' title='Show/Hide data repr'><svg class='icon xr-icon-database'><use xlink:href='#icon-database'></use></svg></label><div class='xr-var-attrs'><dl class='xr-attrs'><dt><span>long_name :</span></dt><dd>Magnitude of the layered vertical wind shear vector in 12 hours from current time</dd><dt><span>units :</span></dt><dd>m/s</dd></dl></div><div class='xr-var-data'><pre>array([18.45613104,  7.64754341,  5.17352744, 11.46858559,  4.42416681,\n",
       "        5.31410323,  5.92207474,  4.11408598,  3.23562665, 10.31654104,\n",
       "       13.212871  ,  9.08827648,  4.47322748,  8.21460346,  3.38849761,\n",
       "       12.37561227,  4.73850418, 10.50493036,  0.81070667,  6.47710727,\n",
       "        6.47755321,  3.85937953,  4.22907953,  3.27574256,  4.18456605,\n",
       "        9.73567044,  7.46523845, 12.56237789,  6.31683119,  1.18704813,\n",
       "        3.05129231, 18.51966405, 17.56886065,  1.1587267 ,         nan,\n",
       "               nan,         nan,         nan,         nan,         nan,\n",
       "               nan,         nan,         nan,         nan,         nan,\n",
       "               nan,         nan,  5.28117565,  7.57191106,  2.03303733])</pre></div></li><li class='xr-var-item'><div class='xr-var-name'><span>vws__12hr_pmd</span></div><div class='xr-var-dims'>(time)</div><div class='xr-var-dtype'>float64</div><div class='xr-var-preview xr-preview'>13.63 9.389 2.063 ... 3.059 1.143</div><input id='attrs-621d104a-9729-4432-9638-15bc927d2039' class='xr-var-attrs-in' type='checkbox' ><label for='attrs-621d104a-9729-4432-9638-15bc927d2039' title='Show/Hide attributes'><svg class='icon xr-icon-file-text2'><use xlink:href='#icon-file-text2'></use></svg></label><input id='data-2e4ddfd7-932e-43e4-96e9-a41e4425d97b' class='xr-var-data-in' type='checkbox'><label for='data-2e4ddfd7-932e-43e4-96e9-a41e4425d97b' title='Show/Hide data repr'><svg class='icon xr-icon-database'><use xlink:href='#icon-database'></use></svg></label><div class='xr-var-attrs'><dl class='xr-attrs'><dt><span>long_name :</span></dt><dd>Magnitude of the layered vertical wind shear vector 12 hours before current time</dd><dt><span>units :</span></dt><dd>m/s</dd></dl></div><div class='xr-var-data'><pre>array([13.63043388,  9.38879757,  2.06280997,  7.96438865,  4.70813564,\n",
       "        4.21459543, 10.56122296,  3.7207776 ,  2.28180083,  4.17185866,\n",
       "       11.26421743,  5.12635189,  8.93398126,  9.85795948,  3.99666208,\n",
       "        3.64397723,  2.9587912 ,  8.12371596,  5.48211644,  1.24245107,\n",
       "        1.24296312,  9.13037294,  0.70066995,  5.3778637 ,  4.74417175,\n",
       "        9.12287967,  3.88636762, 11.14678657,  6.89247981,  1.07890549,\n",
       "        5.73410478, 13.02552039, 17.0479987 ,  2.3084047 ,         nan,\n",
       "               nan,         nan,         nan,         nan,         nan,\n",
       "               nan,         nan,         nan,         nan,         nan,\n",
       "               nan,         nan,  7.77010908,  3.05889168,  1.14332102])</pre></div></li><li class='xr-var-item'><div class='xr-var-name'><span>wsd_pmd</span></div><div class='xr-var-dims'>(time)</div><div class='xr-var-dtype'>float64</div><div class='xr-var-preview xr-preview'>199.4 40.59 275.7 ... 87.4 161.9</div><input id='attrs-2138d388-fbae-443b-a542-cd337b88bdce' class='xr-var-attrs-in' type='checkbox' ><label for='attrs-2138d388-fbae-443b-a542-cd337b88bdce' title='Show/Hide attributes'><svg class='icon xr-icon-file-text2'><use xlink:href='#icon-file-text2'></use></svg></label><input id='data-981b7e20-cb38-46bc-907c-161cdad463b0' class='xr-var-data-in' type='checkbox'><label for='data-981b7e20-cb38-46bc-907c-161cdad463b0' title='Show/Hide data repr'><svg class='icon xr-icon-database'><use xlink:href='#icon-database'></use></svg></label><div class='xr-var-attrs'><dl class='xr-attrs'><dt><span>long_name :</span></dt><dd>Direction of the layered vertical wind shear vector; Westerly shear has a value of 90 deg.</dd><dt><span>units :</span></dt><dd>degree</dd><dt><span>coverage_content_type :</span></dt><dd>modelResult</dd><dt><span>regions :</span></dt><dd>0_to_300_km 0_to_500_km 0_to_800_km 200_to_800_km</dd><dt><span>layer :</span></dt><dd>850_to_500_hPa 850_to_200_hPa</dd><dt><span>SHIPS_related_label :</span></dt><dd>SHTS SDDC SHTD</dd><dt><span>valid_range :</span></dt><dd>[-32767  32767]</dd></dl></div><div class='xr-var-data'><pre>array([199.44466281,  40.59357014, 275.70151033, 106.3372935 ,\n",
       "       266.78877288, 199.1468142 , 210.87283811,  84.41801209,\n",
       "       297.79989991,  77.47752757,  81.15968737,  85.10184441,\n",
       "       108.46623782,  72.91454876,  68.47930193,  63.31544476,\n",
       "        69.23479175,  23.37707497, 216.51115445, 259.42059579,\n",
       "       259.42443925,  39.88109575, 290.82917727, 291.7703381 ,\n",
       "       295.21414081,  83.58249115,  21.75600465,  57.80502017,\n",
       "       173.7182443 , 175.47842622,  26.53840634, 148.97722208,\n",
       "       176.85248726, 242.33038615,          nan,          nan,\n",
       "                nan,          nan,          nan,          nan,\n",
       "                nan,          nan,          nan,          nan,\n",
       "                nan,          nan,          nan, 325.54139978,\n",
       "        87.39598466, 161.88540732])</pre></div></li><li class='xr-var-item'><div class='xr-var-name'><span>file_pmd</span></div><div class='xr-var-dims'>(time)</div><div class='xr-var-dtype'>object</div><div class='xr-var-preview xr-preview'>&#x27;tc_primed/v01r01/final/2015/WP/...</div><input id='attrs-b1b05746-28d9-42b5-89f0-54824f7d2183' class='xr-var-attrs-in' type='checkbox' ><label for='attrs-b1b05746-28d9-42b5-89f0-54824f7d2183' title='Show/Hide attributes'><svg class='icon xr-icon-file-text2'><use xlink:href='#icon-file-text2'></use></svg></label><input id='data-69b039b8-736b-4016-8200-9b8c2870f0ca' class='xr-var-data-in' type='checkbox'><label for='data-69b039b8-736b-4016-8200-9b8c2870f0ca' title='Show/Hide data repr'><svg class='icon xr-icon-database'><use xlink:href='#icon-database'></use></svg></label><div class='xr-var-attrs'><dl class='xr-attrs'><dt><span>long_name :</span></dt><dd>Path of the file of the TC-PRIMED dataset</dd></dl></div><div class='xr-var-data'><pre>array([&#x27;tc_primed/v01r01/final/2015/WP/TCPRIMED_v01r01-final_WP112015_env_s20150703060000_e20150718060000.nc&#x27;,\n",
       "       &#x27;tc_primed/v01r01/final/2015/EP/TCPRIMED_v01r01-final_EP062015_env_s20150712120000_e20150721180000.nc&#x27;,\n",
       "       &#x27;tc_primed/v01r01/final/2015/WP/TCPRIMED_v01r01-final_WP132015_env_s20150730000000_e20150809060000.nc&#x27;,\n",
       "       &#x27;tc_primed/v01r01/final/2015/EP/TCPRIMED_v01r01-final_EP092015_env_s20150727120000_e20150808180000.nc&#x27;,\n",
       "       &#x27;tc_primed/v01r01/final/2015/WP/TCPRIMED_v01r01-final_WP132015_env_s20150730000000_e20150809060000.nc&#x27;,\n",
       "       &#x27;tc_primed/v01r01/final/2015/WP/TCPRIMED_v01r01-final_WP132015_env_s20150730000000_e20150809060000.nc&#x27;,\n",
       "       &#x27;tc_primed/v01r01/final/2015/WP/TCPRIMED_v01r01-final_WP162015_env_s20150813180000_e20150826000000.nc&#x27;,\n",
       "       &#x27;tc_primed/v01r01/final/2015/CP/TCPRIMED_v01r01-final_CP032015_env_s20150820000000_e20150911120000.nc&#x27;,\n",
       "       &#x27;tc_primed/v01r01/final/2015/EP/TCPRIMED_v01r01-final_EP122015_env_s20150823180000_e20150908120000.nc&#x27;,\n",
       "       &#x27;tc_primed/v01r01/final/2015/EP/TCPRIMED_v01r01-final_EP122015_env_s20150823180000_e20150908120000.nc&#x27;,\n",
       "       &#x27;tc_primed/v01r01/final/2015/AL/TCPRIMED_v01r01-final_AL062015_env_s20150830000000_e20150906120000.nc&#x27;,\n",
       "       &#x27;tc_primed/v01r01/final/2015/EP/TCPRIMED_v01r01-final_EP132015_env_s20150825120000_e20150910000000.nc&#x27;,\n",
       "       &#x27;tc_primed/v01r01/final/2015/CP/TCPRIMED_v01r01-final_CP032015_env_s20150820000000_e20150911120000.nc&#x27;,\n",
       "       &#x27;tc_primed/v01r01/final/2015/CP/TCPRIMED_v01r01-final_CP032015_env_s20150820000000_e20150911120000.nc&#x27;,\n",
       "       &#x27;tc_primed/v01r01/final/2015/EP/TCPRIMED_v01r01-final_EP192015_env_s20151015000000_e20151028120000.nc&#x27;,\n",
       "       &#x27;tc_primed/v01r01/final/2015/EP/TCPRIMED_v01r01-final_EP202015_env_s20151020060000_e20151024120000.nc&#x27;,\n",
       "       &#x27;tc_primed/v01r01/final/2016/EP/TCPRIMED_v01r01-final_EP032016_env_s20160702180000_e20160711180000.nc&#x27;,\n",
       "       &#x27;tc_primed/v01r01/final/2016/EP/TCPRIMED_v01r01-final_EP032016_env_s20160702180000_e20160711180000.nc&#x27;,\n",
       "       &#x27;tc_primed/v01r01/final/2016/EP/TCPRIMED_v01r01-final_EP082016_env_s20160721000000_e20160730000000.nc&#x27;,\n",
       "       &#x27;tc_primed/v01r01/final/2016/WP/TCPRIMED_v01r01-final_WP122016_env_s20160816180000_e20160830120000.nc&#x27;,\n",
       "       &#x27;tc_primed/v01r01/final/2016/WP/TCPRIMED_v01r01-final_WP122016_env_s20160816180000_e20160830120000.nc&#x27;,\n",
       "       &#x27;tc_primed/v01r01/final/2016/AL/TCPRIMED_v01r01-final_AL072016_env_s20160821120000_e20160903120000.nc&#x27;,\n",
       "       &#x27;tc_primed/v01r01/final/2016/EP/TCPRIMED_v01r01-final_EP132016_env_s20160824060000_e20160908000000.nc&#x27;,\n",
       "       &#x27;tc_primed/v01r01/final/2016/EP/TCPRIMED_v01r01-final_EP132016_env_s20160824060000_e20160908000000.nc&#x27;,\n",
       "       &#x27;tc_primed/v01r01/final/2016/EP/TCPRIMED_v01r01-final_EP132016_env_s20160824060000_e20160908000000.nc&#x27;,\n",
       "       &#x27;tc_primed/v01r01/final/2016/AL/TCPRIMED_v01r01-final_AL092016_env_s20160828180000_e20160908180000.nc&#x27;,\n",
       "       &#x27;tc_primed/v01r01/final/2016/EP/TCPRIMED_v01r01-final_EP132016_env_s20160824060000_e20160908000000.nc&#x27;,\n",
       "       &#x27;tc_primed/v01r01/final/2016/EP/TCPRIMED_v01r01-final_EP132016_env_s20160824060000_e20160908000000.nc&#x27;,\n",
       "       &#x27;tc_primed/v01r01/final/2016/WP/TCPRIMED_v01r01-final_WP162016_env_s20160908180000_e20160915120000.nc&#x27;,\n",
       "       &#x27;tc_primed/v01r01/final/2016/WP/TCPRIMED_v01r01-final_WP162016_env_s20160908180000_e20160915120000.nc&#x27;,\n",
       "       &#x27;tc_primed/v01r01/final/2016/WP/TCPRIMED_v01r01-final_WP202016_env_s20160922120000_e20160928180000.nc&#x27;,\n",
       "       &#x27;tc_primed/v01r01/final/2016/AL/TCPRIMED_v01r01-final_AL152016_env_s20161004060000_e20161019120000.nc&#x27;,\n",
       "       &#x27;tc_primed/v01r01/final/2016/AL/TCPRIMED_v01r01-final_AL152016_env_s20161004060000_e20161019120000.nc&#x27;,\n",
       "       &#x27;tc_primed/v01r01/final/2016/WP/TCPRIMED_v01r01-final_WP252016_env_s20161014180000_e20161022000000.nc&#x27;,\n",
       "       &#x27;&#x27;, &#x27;&#x27;, &#x27;&#x27;, &#x27;&#x27;, &#x27;&#x27;, &#x27;&#x27;, &#x27;&#x27;, &#x27;&#x27;, &#x27;&#x27;, &#x27;&#x27;, &#x27;&#x27;, &#x27;&#x27;, &#x27;&#x27;,\n",
       "       &#x27;tc_primed/v01r01/final/2018/SH/TCPRIMED_v01r01-final_SH032018_env_s20171230060000_e20180109120000.nc&#x27;,\n",
       "       &#x27;tc_primed/v01r01/final/2018/SH/TCPRIMED_v01r01-final_SH072018_env_s20180125060000_e20180209180000.nc&#x27;,\n",
       "       &#x27;tc_primed/v01r01/final/2018/WP/TCPRIMED_v01r01-final_WP152018_env_s20180723000000_e20180804060000.nc&#x27;],\n",
       "      dtype=object)</pre></div></li><li class='xr-var-item'><div class='xr-var-name'><span>beta0_pmd</span></div><div class='xr-var-dims'>(time)</div><div class='xr-var-dtype'>float64</div><div class='xr-var-preview xr-preview'>1.316e+04 1.794e+04 ... 1.402e+04</div><input id='attrs-00615050-d55c-4a3e-9214-b5f03abf9319' class='xr-var-attrs-in' type='checkbox' disabled><label for='attrs-00615050-d55c-4a3e-9214-b5f03abf9319' title='Show/Hide attributes'><svg class='icon xr-icon-file-text2'><use xlink:href='#icon-file-text2'></use></svg></label><input id='data-51697064-2d16-4ee4-94a9-a5ecd095f4d2' class='xr-var-data-in' type='checkbox'><label for='data-51697064-2d16-4ee4-94a9-a5ecd095f4d2' title='Show/Hide data repr'><svg class='icon xr-icon-database'><use xlink:href='#icon-database'></use></svg></label><div class='xr-var-attrs'><dl class='xr-attrs'></dl></div><div class='xr-var-data'><pre>array([13158.71377166, 17941.71047624, 14538.37298828, 23645.94965658,\n",
       "       12287.73825092, 12608.43939313, 13445.97750948, 20893.92126992,\n",
       "       14410.72225131, 14966.87734955, 23144.19055891, 14615.81730801,\n",
       "       13114.12777906, 12903.70994067, 13854.262983  , 18538.72951264,\n",
       "       15287.98244574, 18326.9715019 , 22894.43568685, 13943.83683184,\n",
       "       13943.58139153, 14813.00395401, 15569.34112956, 18897.69269619,\n",
       "       17311.16897601, 14549.22732868, 16434.57424739, 17065.54895985,\n",
       "       16316.55511415, 13258.79980184, 12992.23071237, 19020.08449968,\n",
       "       18233.28935873, 14223.13108121,            nan,            nan,\n",
       "                  nan,            nan,            nan,            nan,\n",
       "                  nan,            nan,            nan,            nan,\n",
       "                  nan,            nan,            nan, 16017.42834099,\n",
       "       14040.96872028, 14023.89020821])</pre></div></li><li class='xr-var-item'><div class='xr-var-name'><span>beta0_T0_pmd</span></div><div class='xr-var-dims'>(time)</div><div class='xr-var-dtype'>float64</div><div class='xr-var-preview xr-preview'>50.44 66.0 57.09 ... 53.86 54.65</div><input id='attrs-0e9c38d9-eb48-4465-8168-7790840abf3a' class='xr-var-attrs-in' type='checkbox' disabled><label for='attrs-0e9c38d9-eb48-4465-8168-7790840abf3a' title='Show/Hide attributes'><svg class='icon xr-icon-file-text2'><use xlink:href='#icon-file-text2'></use></svg></label><input id='data-49e267a3-103c-4ec5-b23b-c8ce05679d84' class='xr-var-data-in' type='checkbox'><label for='data-49e267a3-103c-4ec5-b23b-c8ce05679d84' title='Show/Hide data repr'><svg class='icon xr-icon-database'><use xlink:href='#icon-database'></use></svg></label><div class='xr-var-attrs'><dl class='xr-attrs'></dl></div><div class='xr-var-data'><pre>array([50.44093368, 66.00053527, 57.09147052, 83.64343868, 48.22902636,\n",
       "       48.70122792, 51.30219051, 77.61411222, 55.33039034, 56.78858409,\n",
       "       85.50296261, 55.37213269, 50.40444766, 49.80091533, 53.37258257,\n",
       "       68.19556587, 57.0404413 , 66.15572775, 90.02638522, 52.76385584,\n",
       "       52.7625914 , 55.85846187, 61.07553254, 69.03836242, 64.51462033,\n",
       "       55.13452359, 61.26586646, 63.43190824, 61.36838181, 51.79892516,\n",
       "       49.84703958, 67.0380872 , 65.4118341 , 55.03443569,         nan,\n",
       "               nan,         nan,         nan,         nan,         nan,\n",
       "               nan,         nan,         nan,         nan,         nan,\n",
       "               nan,         nan, 59.66067571, 53.85994603, 54.64541201])</pre></div></li><li class='xr-var-item'><div class='xr-var-name'><span>pre_sss_rms</span></div><div class='xr-var-dims'>(time)</div><div class='xr-var-dtype'>float64</div><div class='xr-var-preview xr-preview'>34.63 34.42 34.16 ... nan nan 34.22</div><input id='attrs-cba0595f-9399-4392-955b-2f770febd368' class='xr-var-attrs-in' type='checkbox' ><label for='attrs-cba0595f-9399-4392-955b-2f770febd368' title='Show/Hide attributes'><svg class='icon xr-icon-file-text2'><use xlink:href='#icon-file-text2'></use></svg></label><input id='data-b7e74239-19be-48d8-bf27-93bc26107406' class='xr-var-data-in' type='checkbox'><label for='data-b7e74239-19be-48d8-bf27-93bc26107406' title='Show/Hide data repr'><svg class='icon xr-icon-database'><use xlink:href='#icon-database'></use></svg></label><div class='xr-var-attrs'><dl class='xr-attrs'><dt><span>long_name :</span></dt><dd>Sea surface salinity averaged over a rectangle spanning +/-2° around the storm center during an 8-day period centered 5 days before storm arrival</dd><dt><span>units :</span></dt><dd>Pracitcal salinity unit (PSU)</dd></dl></div><div class='xr-var-data'><pre>array([34.6287384 , 34.42417908, 34.16226959, 34.52257156, 34.53691101,\n",
       "       34.39723969, 34.1880455 , 34.37664413, 34.03229523, 34.54395294,\n",
       "       36.98857117, 34.59302521, 35.34796906, 35.58554077, 33.22504807,\n",
       "       33.64976883, 33.88153076, 34.46063232, 33.39043808, 34.59147644,\n",
       "       34.59147644, 37.55165482, 33.63636017, 34.05661011, 34.01664352,\n",
       "       33.8650856 , 34.63297653, 35.08435822, 34.70316315, 34.52045059,\n",
       "       34.53630066, 36.73084641, 36.83339691, 34.03152466,         nan,\n",
       "       33.97013855, 34.53460312, 34.39611053, 34.03396988, 36.51472092,\n",
       "       33.50993729, 36.42827606, 35.85492325, 34.35826874, 36.50862122,\n",
       "       36.76799011, 34.6766243 ,         nan,         nan, 34.21815491])</pre></div></li></ul></div></li><li class='xr-section-item'><input id='section-99712b3f-92cd-4304-9dca-68e09910b7d3' class='xr-section-summary-in' type='checkbox'  ><label for='section-99712b3f-92cd-4304-9dca-68e09910b7d3' class='xr-section-summary' >Indexes: <span>(1)</span></label><div class='xr-section-inline-details'></div><div class='xr-section-details'><ul class='xr-var-list'><li class='xr-var-item'><div class='xr-index-name'><div>time</div></div><div class='xr-index-preview'>PandasIndex</div><input type='checkbox' disabled/><label></label><input id='index-11180827-5bdc-4266-93b7-300da1ee55ea' class='xr-index-data-in' type='checkbox'/><label for='index-11180827-5bdc-4266-93b7-300da1ee55ea' title='Show/Hide index repr'><svg class='icon xr-icon-database'><use xlink:href='#icon-database'></use></svg></label><div class='xr-index-data'><pre>PandasIndex(DatetimeIndex([&#x27;2015-07-10 20:31:29&#x27;, &#x27;2015-07-15 14:43:30&#x27;,\n",
       "               &#x27;2015-08-01 19:50:35&#x27;, &#x27;2015-08-03 15:30:06&#x27;,\n",
       "               &#x27;2015-08-03 20:31:45&#x27;, &#x27;2015-08-05 21:12:44&#x27;,\n",
       "               &#x27;2015-08-21 21:46:50&#x27;, &#x27;2015-08-27 17:11:14&#x27;,\n",
       "               &#x27;2015-08-29 03:44:58&#x27;, &#x27;2015-08-30 15:42:27&#x27;,\n",
       "               &#x27;2015-09-02 20:16:58&#x27;, &#x27;2015-09-03 15:25:12&#x27;,\n",
       "               &#x27;2015-09-04 18:15:55&#x27;, &#x27;2015-09-06 18:57:43&#x27;,\n",
       "               &#x27;2015-10-21 15:26:44&#x27;, &#x27;2015-10-23 12:47:07&#x27;,\n",
       "               &#x27;2016-07-08 02:46:14&#x27;, &#x27;2016-07-09 14:42:19&#x27;,\n",
       "               &#x27;2016-07-24 14:06:24&#x27;, &#x27;2016-08-25 09:30:52&#x27;,\n",
       "               &#x27;2016-08-25 09:31:04&#x27;, &#x27;2016-08-26 21:16:37&#x27;,\n",
       "               &#x27;2016-08-29 02:28:49&#x27;, &#x27;2016-08-30 14:46:05&#x27;,\n",
       "               &#x27;2016-08-31 03:16:16&#x27;, &#x27;2016-09-01 23:45:19&#x27;,\n",
       "               &#x27;2016-09-02 03:53:41&#x27;, &#x27;2016-09-04 16:31:18&#x27;,\n",
       "               &#x27;2016-09-10 20:48:38&#x27;, &#x27;2016-09-12 21:29:20&#x27;,\n",
       "               &#x27;2016-09-25 09:25:51&#x27;, &#x27;2016-10-06 22:33:10&#x27;,\n",
       "               &#x27;2016-10-08 10:24:41&#x27;, &#x27;2016-10-15 20:29:16&#x27;,\n",
       "               &#x27;2017-02-07 01:54:25&#x27;, &#x27;2017-05-04 07:14:33&#x27;,\n",
       "               &#x27;2017-07-29 08:32:34&#x27;, &#x27;2017-07-30 08:02:41&#x27;,\n",
       "               &#x27;2017-08-19 14:01:25&#x27;, &#x27;2017-08-25 00:20:34&#x27;,\n",
       "               &#x27;2017-08-25 09:58:11&#x27;, &#x27;2017-09-06 21:17:20&#x27;,\n",
       "               &#x27;2017-09-07 10:30:39&#x27;, &#x27;2017-09-08 22:03:19&#x27;,\n",
       "               &#x27;2017-09-21 22:45:23&#x27;, &#x27;2017-09-23 10:44:51&#x27;,\n",
       "               &#x27;2017-10-21 09:21:35&#x27;, &#x27;2018-01-03 14:54:35&#x27;,\n",
       "               &#x27;2018-02-01 13:23:53&#x27;, &#x27;2018-07-24 20:55:36&#x27;],\n",
       "              dtype=&#x27;datetime64[ns]&#x27;, name=&#x27;time&#x27;, freq=None))</pre></div></li></ul></div></li><li class='xr-section-item'><input id='section-6fa7c7b5-aadf-4ada-b832-06f76d536a9f' class='xr-section-summary-in' type='checkbox'  checked><label for='section-6fa7c7b5-aadf-4ada-b832-06f76d536a9f' class='xr-section-summary' >Attributes: <span>(7)</span></label><div class='xr-section-inline-details'></div><div class='xr-section-details'><dl class='xr-attrs'><dt><span>Version :</span></dt><dd>1.0</dd><dt><span>SAR_wind_product :</span></dt><dd>Ifremer (https://cyclobs.ifremer.fr/app/tropical), contact: alexis.mouche@ifremer.fr</dd><dt><span>Best_track_data :</span></dt><dd>IBTrACS (https://www.ncei.noaa.gov/products/international-best-track-archive)</dd><dt><span>SST_product :</span></dt><dd>REMSS, collocated with tropical cyclones during MAXSS project (https://data-maxss.ifremer.fr/)</dd><dt><span>Authors :</span></dt><dd>Arthur Avenas, Alexis Mouche, Théo Cevaer</dd><dt><span>Contact :</span></dt><dd>arthur.avenas@esa.int</dd><dt><span>TC-PRIMED_product :</span></dt><dd>Version v01r01-preliminary, created 2024-11-20T06:17:07.000Z</dd></dl></div></li></ul></div></div>"
      ],
      "text/plain": [
       "<xarray.Dataset> Size: 30kB\n",
       "Dimensions:              (time: 50)\n",
       "Coordinates:\n",
       "  * time                 (time) datetime64[ns] 400B 2015-07-10T20:31:29 ... 2...\n",
       "Data variables: (12/75)\n",
       "    dist2coast           (time) float64 400B 5.425e+05 1.852e+06 ... 6.404e+05\n",
       "    speed                (time) float64 400B 3.035 3.636 7.009 ... 1.749 3.143\n",
       "    name                 (time) object 400B 'NANGKA' 'ENRIQUE' ... 'JONGDARI'\n",
       "    id                   (time) object 400B 'wp112015' 'ep062015' ... 'wp152018'\n",
       "    file                 (time) object 400B 'rs2--owi-cm-20150710t203051-2015...\n",
       "    file_tcva            (time) object 400B 'rs2--owi-ca-20150710t203051-2015...\n",
       "    ...                   ...\n",
       "    vws__12hr_pmd        (time) float64 400B 13.63 9.389 2.063 ... 3.059 1.143\n",
       "    wsd_pmd              (time) float64 400B 199.4 40.59 275.7 ... 87.4 161.9\n",
       "    file_pmd             (time) object 400B 'tc_primed/v01r01/final/2015/WP/T...\n",
       "    beta0_pmd            (time) float64 400B 1.316e+04 1.794e+04 ... 1.402e+04\n",
       "    beta0_T0_pmd         (time) float64 400B 50.44 66.0 57.09 ... 53.86 54.65\n",
       "    pre_sss_rms          (time) float64 400B 34.63 34.42 34.16 ... nan nan 34.22\n",
       "Attributes:\n",
       "    Version:            1.0\n",
       "    SAR_wind_product:   Ifremer (https://cyclobs.ifremer.fr/app/tropical), co...\n",
       "    Best_track_data:    IBTrACS (https://www.ncei.noaa.gov/products/internati...\n",
       "    SST_product:        REMSS, collocated with tropical cyclones during MAXSS...\n",
       "    Authors:            Arthur Avenas, Alexis Mouche, Théo Cevaer\n",
       "    Contact:            arthur.avenas@esa.int\n",
       "    TC-PRIMED_product:  Version v01r01-preliminary, created 2024-11-20T06:17:..."
      ]
     },
     "execution_count": 16,
     "metadata": {},
     "output_type": "execute_result"
    }
   ],
   "source": []
  },
  {
   "cell_type": "code",
   "execution_count": null,
   "metadata": {},
   "outputs": [],
   "source": []
  },
  {
   "cell_type": "code",
   "execution_count": null,
   "metadata": {},
   "outputs": [],
   "source": []
  },
  {
   "cell_type": "code",
   "execution_count": null,
   "metadata": {},
   "outputs": [],
   "source": []
  },
  {
   "cell_type": "code",
   "execution_count": null,
   "metadata": {},
   "outputs": [],
   "source": []
  },
  {
   "cell_type": "code",
   "execution_count": null,
   "metadata": {},
   "outputs": [],
   "source": []
  },
  {
   "cell_type": "code",
   "execution_count": null,
   "metadata": {},
   "outputs": [],
   "source": []
  },
  {
   "cell_type": "code",
   "execution_count": 39,
   "metadata": {},
   "outputs": [],
   "source": []
  },
  {
   "cell_type": "code",
   "execution_count": null,
   "metadata": {},
   "outputs": [],
   "source": []
  },
  {
   "cell_type": "code",
   "execution_count": null,
   "metadata": {},
   "outputs": [],
   "source": []
  },
  {
   "cell_type": "code",
   "execution_count": null,
   "metadata": {},
   "outputs": [],
   "source": []
  },
  {
   "cell_type": "code",
   "execution_count": null,
   "metadata": {},
   "outputs": [],
   "source": []
  },
  {
   "cell_type": "code",
   "execution_count": null,
   "metadata": {},
   "outputs": [],
   "source": []
  },
  {
   "cell_type": "code",
   "execution_count": null,
   "metadata": {},
   "outputs": [],
   "source": []
  },
  {
   "cell_type": "code",
   "execution_count": null,
   "metadata": {},
   "outputs": [],
   "source": []
  },
  {
   "cell_type": "code",
   "execution_count": null,
   "metadata": {},
   "outputs": [],
   "source": []
  },
  {
   "cell_type": "code",
   "execution_count": null,
   "metadata": {},
   "outputs": [],
   "source": []
  },
  {
   "cell_type": "code",
   "execution_count": null,
   "metadata": {},
   "outputs": [],
   "source": []
  },
  {
   "cell_type": "code",
   "execution_count": null,
   "metadata": {},
   "outputs": [],
   "source": []
  }
 ],
 "metadata": {
  "kernelspec": {
   "display_name": "dataBasics",
   "language": "python",
   "name": "databasics"
  },
  "language_info": {
   "codemirror_mode": {
    "name": "ipython",
    "version": 3
   },
   "file_extension": ".py",
   "mimetype": "text/x-python",
   "name": "python",
   "nbconvert_exporter": "python",
   "pygments_lexer": "ipython3",
   "version": "3.13.0"
  }
 },
 "nbformat": 4,
 "nbformat_minor": 4
}
