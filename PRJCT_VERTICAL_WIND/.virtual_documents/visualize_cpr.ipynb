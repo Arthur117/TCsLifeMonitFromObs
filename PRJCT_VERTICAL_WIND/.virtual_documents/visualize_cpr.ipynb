%matplotlib inline
from IPython.core.display import display, HTML
display(HTML("<style>.container { width:80% !important; }</style>"))

import pandas as pd
import numpy as np
import xarray as xr
from importlib import reload
import matplotlib.pyplot as plt

import seaborn as sns
sns.set_style('ticks')
sns.set_context('poster')

#from tools.common import colormaps
from matplotlib.colors import LogNorm, Normalize

import sys
sys.path.append('/home/bpiskala/ectools')
from ectools import ecio
from ectools import ecplot as ecplt
from ectools import colormaps


reload(ecio)
reload(ecplt)
reload(colormaps)


ACTC = ecio.load_ACTC('/home/bpiskala/Data/EarthCARE/20241207/ECA_EXAA_AC__TC__2B_20241207T124033Z_20241207T142412Z_02996E/ECA_EXAA_AC__TC__2B_20241207T124033Z_20241207T142412Z_02996E.h5')

fig, axes = ecplt.quicklook_ACTC(ACTC)

ACTC.close()


lat_boundaries = [-10, -13.5]
nrows=4
ACTC_category_colors = [sns.xkcd_rgb['silver'],         #unknown
                        sns.xkcd_rgb['reddish brown'],         #surface and subsurface
                        sns.xkcd_rgb['white'],         #clear
                        sns.xkcd_rgb['dull red'],      #rain in clutter
                        sns.xkcd_rgb['off blue'],     #snow in clutter
                        sns.xkcd_rgb['dull yellow'],   #cloud in clutter
                        sns.xkcd_rgb['dark red'],      #heavy rain',
                        sns.xkcd_rgb["navy blue"],   #heavy mixed-phase precipitation
                        sns.xkcd_rgb['light grey'],    #clear (poss. liquid) 
                        sns.xkcd_rgb['pale yellow'],   #liquid cloud
                        sns.xkcd_rgb['golden'],        #drizzling liquid
                        sns.xkcd_rgb['orange'],        #warm rain
                        sns.xkcd_rgb['bright red'],    #cold rain
                        sns.xkcd_rgb['easter purple'], # melting snow
                        sns.xkcd_rgb['dark sky blue'],        # snow (possible liquid)
                        sns.xkcd_rgb['bright blue'], # snow
                        sns.xkcd_rgb["prussian blue"],   # rimed snow (poss. liquid)
                        sns.xkcd_rgb['dark teal'],   # rimed snow and SLW
                        sns.xkcd_rgb['teal'],              # snow and SLW
                        sns.xkcd_rgb['light green'],   # supercooled liquid
                        sns.xkcd_rgb["sky blue"],      # ice (poss. liquid)
                        sns.xkcd_rgb['bright teal'],   # ice and SLW
                        sns.xkcd_rgb['light blue'],    # ice (no liquid)
                        sns.xkcd_rgb['pale blue'],     # strat. ice, PSC II
                        sns.xkcd_rgb['neon green'],    # PSC Ia
                        sns.xkcd_rgb['greenish cyan'], # PSC Ib
                        sns.xkcd_rgb['ugly green'],    # insects
                        sns.xkcd_rgb['sand'],          # dust
                        sns.xkcd_rgb['pastel pink'],   # sea salt
                        sns.xkcd_rgb['dust'],          # continental pollution
                        sns.xkcd_rgb['purpley grey'],  # smoke
                        sns.xkcd_rgb['dark lavender'], # dusty smoke
                        sns.xkcd_rgb['dusty lavender'],# dusty mix
                        sns.xkcd_rgb['pinkish grey'],  # stratospheric aerosol 1 (ash)
                        sns.xkcd_rgb['light khaki'],       # stratospheric aerosol 2 (sulphate)
                        sns.xkcd_rgb['light grey'],    # stratospheric aerosol 3 (smoke)]
                  ]


ACMCAP = ecio.load_ACMCAP('/home/bpiskala/Data/EarthCARE/20241207/ECA_EXAA_ACM_CAP_2B_20241207T124033Z_20241207T142513Z_02996E/ECA_EXAA_ACM_CAP_2B_20241207T124033Z_20241207T142513Z_02996E.h5', 
                          trim={'latitude': slice(lat_boundaries[0], lat_boundaries[1])})
ACTC = ecio.load_ACTC('/home/bpiskala/Data/EarthCARE/20241207/ECA_EXAA_AC__TC__2B_20241207T124033Z_20241207T142412Z_02996E/ECA_EXAA_AC__TC__2B_20241207T124033Z_20241207T142412Z_02996E.h5', 
                          trim={'latitude': slice(lat_boundaries[0], lat_boundaries[1])})

fig, axes = plt.subplots(figsize=(20,7*nrows), nrows=nrows, gridspec_kw={'hspace':0.67})
hmax=22e3
ecplt.plot_EC_2D(axes[0], ACMCAP, 'ice_water_content', "IWC", units="kgm$^{-3}$", plot_scale='log', plot_range=[1e-7,10e-3], cmap=colormaps.chiljet2, hmax=hmax)
ecplt.plot_EC_2D(axes[1], ACMCAP, 'liquid_water_content', "$L$", units="kgm$^{-3}$", plot_scale='log', plot_range=[1e-7,2e-3], cmap=colormaps.chiljet2, hmax=hmax)
ecplt.plot_EC_2D(axes[2], ACMCAP, 'CPR_doppler_velocity', "doppler velocity", units="m s$^{-1}$", plot_scale='linear', plot_range=[-7,7], cmap='bwr', hmax=hmax)
ecplt.plot_EC_target_classification(axes[3], ACTC, 'synergetic_target_classification_low_resolution', 
                                    ACTC_category_colors, hmax=hmax, title_prefix="", label_fontsize=10)

 
ACMCAP.close()
ACTC.close()



