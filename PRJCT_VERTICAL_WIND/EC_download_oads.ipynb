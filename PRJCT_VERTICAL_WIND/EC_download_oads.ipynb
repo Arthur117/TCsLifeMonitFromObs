{
 "cells": [
  {
   "cell_type": "code",
   "execution_count": 2,
   "metadata": {},
   "outputs": [],
   "source": [
    "import os\n",
    "import zipfile\n",
    "from datetime import datetime, timedelta\n",
    "import subprocess"
   ]
  },
  {
   "cell_type": "code",
   "execution_count": 3,
   "metadata": {},
   "outputs": [],
   "source": [
    "# SFTP Credentials\n",
    "# host = 'ec-pdgs-dissemination1.eo.esa.int'\n",
    "host       = 'ec-pdgs-dissemination2.eo.esa.int'\n",
    "username   = 'arthur.avenas@polytechnique.org'\n",
    "# password   = '??'\n",
    "\n",
    "start_date = datetime(2025, 2, 5)\n",
    "end_date   = datetime(2025, 2, 28)\n",
    "\n",
    "products_baselines = {\n",
    "    # 'ATL_NOM_1B': ['AD'],\n",
    "    'AC__TC__2B': ['AB'],\n",
    "    # 'MSI_COP_2A': ['AB'],\n",
    "    # 'CPR_FMR_2A': ['AB']\n",
    "}"
   ]
  },
  {
   "cell_type": "code",
   "execution_count": null,
   "metadata": {},
   "outputs": [
    {
     "name": "stdout",
     "output_type": "stream",
     "text": [
      "Created local directory: /home/arthur/Téléchargements/test/20250205/AC__TC__2B/\n",
      "Created local directory: /home/arthur/Téléchargements/test/20250206/AC__TC__2B/\n",
      "Created local directory: /home/arthur/Téléchargements/test/20250207/AC__TC__2B/\n",
      "Created local directory: /home/arthur/Téléchargements/test/20250208/AC__TC__2B/\n",
      "Created local directory: /home/arthur/Téléchargements/test/20250209/AC__TC__2B/\n",
      "Created local directory: /home/arthur/Téléchargements/test/20250210/AC__TC__2B/\n",
      "Created local directory: /home/arthur/Téléchargements/test/20250211/AC__TC__2B/\n",
      "Created local directory: /home/arthur/Téléchargements/test/20250212/AC__TC__2B/\n",
      "Created local directory: /home/arthur/Téléchargements/test/20250213/AC__TC__2B/\n",
      "Created local directory: /home/arthur/Téléchargements/test/20250214/AC__TC__2B/\n",
      "Created local directory: /home/arthur/Téléchargements/test/20250215/AC__TC__2B/\n",
      "Created local directory: /home/arthur/Téléchargements/test/20250216/AC__TC__2B/\n",
      "Created local directory: /home/arthur/Téléchargements/test/20250217/AC__TC__2B/\n",
      "Created local directory: /home/arthur/Téléchargements/test/20250218/AC__TC__2B/\n",
      "Created local directory: /home/arthur/Téléchargements/test/20250219/AC__TC__2B/\n",
      "Created local directory: /home/arthur/Téléchargements/test/20250220/AC__TC__2B/\n",
      "Created local directory: /home/arthur/Téléchargements/test/20250221/AC__TC__2B/\n",
      "Created local directory: /home/arthur/Téléchargements/test/20250222/AC__TC__2B/\n",
      "Created local directory: /home/arthur/Téléchargements/test/20250223/AC__TC__2B/\n",
      "Created local directory: /home/arthur/Téléchargements/test/20250224/AC__TC__2B/\n",
      "Created local directory: /home/arthur/Téléchargements/test/20250225/AC__TC__2B/\n",
      "Created local directory: /home/arthur/Téléchargements/test/20250226/AC__TC__2B/\n",
      "Created local directory: /home/arthur/Téléchargements/test/20250227/AC__TC__2B/\n",
      "Created local directory: /home/arthur/Téléchargements/test/20250228/AC__TC__2B/\n"
     ]
    }
   ],
   "source": [
    "# Bulk download\n",
    "\n",
    "lftp_script = f\"\"\"\n",
    "open -u {username},{password} ftps://{host}\n",
    "set ssl:verify-certificate no\n",
    "set ftp:ssl-auth TLS\n",
    "set ftp:passive-mode true\n",
    "\"\"\"\n",
    "\n",
    "current_date = start_date\n",
    "while current_date <= end_date:\n",
    "    year  = str(current_date.year)\n",
    "    month = f\"{current_date.month:02d}\"\n",
    "    day   = f\"{current_date.day:02d}\"\n",
    "\n",
    "    for product_name, baselines in products_baselines.items():\n",
    "        local_dir = f'/home/arthur/Téléchargements/test/{year}{month}{day}/{product_name}/'\n",
    "\n",
    "        # Ensure the local directory exists\n",
    "        os.makedirs(local_dir, exist_ok=True)\n",
    "        print(f\"Created local directory: {local_dir}\")\n",
    "\n",
    "        for baseline in baselines:\n",
    "            remote_dir = f'EarthCARE/EarthCAREL1Validated/{product_name}/{baseline}/{year}/{month}/{day}'\n",
    "            # remote_dir = f'EarthCARE/EarthCAREL2Products/{product_name}/{baseline}/{year}/{month}/{day}'\n",
    "\n",
    "            # Append the mirror command to the lftp script\n",
    "            lftp_script += f\"\"\"\n",
    "            lcd {local_dir}\n",
    "            mirror --verbose {remote_dir} .\n",
    "            \"\"\"\n",
    "\n",
    "    current_date += timedelta(days=1)\n",
    "\n",
    "lftp_script += \"quit\\n\"\n",
    "\n",
    "# Execute lftp command\n",
    "try:\n",
    "    process = subprocess.run(\n",
    "        [\"lftp\", \"-c\", lftp_script],\n",
    "        capture_output=True,\n",
    "        text=True\n",
    "    )\n",
    "\n",
    "    print(\"STDOUT:\", process.stdout)\n",
    "    print(\"STDERR:\", process.stderr)\n",
    "\n",
    "    if process.returncode == 0:\n",
    "        print(\"FTPS file transfer completed successfully\")\n",
    "    else:\n",
    "        print(\"FTPS transfer failed\")\n",
    "\n",
    "except Exception as e:\n",
    "    print(\"Error executing lftp command:\", e)"
   ]
  },
  {
   "cell_type": "code",
   "execution_count": null,
   "metadata": {},
   "outputs": [],
   "source": []
  },
  {
   "cell_type": "code",
   "execution_count": null,
   "metadata": {},
   "outputs": [],
   "source": []
  },
  {
   "cell_type": "code",
   "execution_count": null,
   "metadata": {},
   "outputs": [],
   "source": []
  },
  {
   "cell_type": "code",
   "execution_count": null,
   "metadata": {},
   "outputs": [],
   "source": []
  },
  {
   "cell_type": "code",
   "execution_count": null,
   "metadata": {},
   "outputs": [],
   "source": []
  },
  {
   "cell_type": "code",
   "execution_count": null,
   "metadata": {},
   "outputs": [
    {
     "name": "stdout",
     "output_type": "stream",
     "text": [
      "STDOUT: \n",
      "STDERR: \n",
      "FTPS file transfer completed successfully\n"
     ]
    }
   ],
   "source": [
    "# Download individual files\n",
    "\n",
    "local_dir = \"/home/bpiskala/Object_Data/EarthCARE/h5/20250116/MSI_COP_2A/\"\n",
    "os.makedirs(local_dir, exist_ok=True)\n",
    "\n",
    "files_to_download = [\n",
    "    \"ECA_EXAB_MSI_COP_2A_20250116T034547Z_20250116T072939Z_03613B.ZIP\",\n",
    "    \"ECA_EXAB_MSI_COP_2A_20250116T192302Z_20250116T212825Z_03623C.ZIP\"\n",
    "]\n",
    "\n",
    "lftp_script = f\"\"\"\n",
    "open -u {username},{password} ftps://{host}\n",
    "set ssl:verify-certificate no\n",
    "set ftp:ssl-auth TLS\n",
    "set ftp:passive-mode true\n",
    "lcd {local_dir}\n",
    "\"\"\"\n",
    "\n",
    "for file_name in files_to_download:\n",
    "    remote_path = f\"/EarthCARE/EarthCAREL2Products/MSI_COP_2A/AB/2025/01/16/{file_name}\"\n",
    "    lftp_script += f\"get {remote_path} -o {file_name}\\n\"\n",
    "\n",
    "lftp_script += \"quit\\n\"\n",
    "\n",
    "# Execute lftp command\n",
    "try:\n",
    "    process = subprocess.run(\n",
    "        [\"lftp\", \"-c\", lftp_script],\n",
    "        capture_output=True,\n",
    "        text=True\n",
    "    )\n",
    "\n",
    "    print(\"STDOUT:\", process.stdout)\n",
    "    print(\"STDERR:\", process.stderr)\n",
    "\n",
    "    if process.returncode == 0:\n",
    "        print(\"FTPS file transfer completed successfully\")\n",
    "    else:\n",
    "        print(\"FTPS transfer failed\")\n",
    "\n",
    "except Exception as e:\n",
    "    print(\"Error executing lftp command:\", e)"
   ]
  },
  {
   "cell_type": "code",
   "execution_count": null,
   "metadata": {},
   "outputs": [
    {
     "name": "stdout",
     "output_type": "stream",
     "text": [
      "Processed and deleted: /home/bpiskala/Object_Data/EarthCARE/h5/20250116/MSI_COP_2A/ECA_EXAB_MSI_COP_2A_20250116T034547Z_20250116T072939Z_03613B.ZIP\n",
      "Processed and deleted: /home/bpiskala/Object_Data/EarthCARE/h5/20250116/MSI_COP_2A/ECA_EXAB_MSI_COP_2A_20250116T192302Z_20250116T212825Z_03623C.ZIP\n",
      "Extraction complete.\n"
     ]
    }
   ],
   "source": [
    "# Extract h5 files and delete ZIPs\n",
    "local_dir = \"/home/bpiskala/Object_Data/EarthCARE/h5/20250116/MSI_COP_2A/\"\n",
    "\n",
    "for filename in os.listdir(local_dir):\n",
    "    if filename.endswith(\".ZIP\"):\n",
    "        zip_path = os.path.join(local_dir, filename)\n",
    "        \n",
    "        with zipfile.ZipFile(zip_path, 'r') as zip_ref:\n",
    "            for file in zip_ref.namelist():\n",
    "                if file.endswith(\".h5\"):\n",
    "                    zip_ref.extract(file, local_dir)\n",
    "\n",
    "        os.remove(zip_path)\n",
    "        print(f\"Processed and deleted: {zip_path}\")\n",
    "\n",
    "print(\"Extraction complete.\")"
   ]
  },
  {
   "cell_type": "code",
   "execution_count": null,
   "metadata": {},
   "outputs": [],
   "source": []
  }
 ],
 "metadata": {
  "kernelspec": {
   "display_name": "Python 3 (ipykernel)",
   "language": "python",
   "name": "python3"
  },
  "language_info": {
   "codemirror_mode": {
    "name": "ipython",
    "version": 3
   },
   "file_extension": ".py",
   "mimetype": "text/x-python",
   "name": "python",
   "nbconvert_exporter": "python",
   "pygments_lexer": "ipython3",
   "version": "3.12.2"
  }
 },
 "nbformat": 4,
 "nbformat_minor": 4
}
