{
 "cells": [
  {
   "cell_type": "markdown",
   "id": "bb4c6f9e-1208-4179-bdf5-8539f093b3aa",
   "metadata": {},
   "source": [
    "## Get additional EarthCARE products\n",
    "\n",
    "Configure everything in config.toml, in particular my credentials\n",
    "\n",
    "Note that the script is outputing a lot of information in stdout, because it's designed to be run e.g in VSCode (i.e not with a notebook). I had to customize the oads_download.py script to prevent outputing too much information\n",
    "\n",
    "TODO: Keep only data within a 250-km radius."
   ]
  },
  {
   "cell_type": "code",
   "execution_count": 1,
   "id": "a2e86c0f-be46-4c0a-bf13-3767459aa062",
   "metadata": {},
   "outputs": [],
   "source": [
    "# https://earthcarehandbook.earth.esa.int/catalogue/index"
   ]
  },
  {
   "cell_type": "code",
   "execution_count": 2,
   "id": "c3261719-6d3e-40b5-abd7-c2e46f0e8c61",
   "metadata": {},
   "outputs": [],
   "source": [
    "# Used in Galfione et al.:\n",
    "# C-PRO: Reflectivity and doppler velocity... does not exist: C-FMR contains the corrected reflectivity, and C_CD the corrected doppler velocity\n",
    "# C-CD:  Sedimentation velocity best estimate\n",
    "# C-FMR: Regions contaminated by multiple scattering (mask)\n",
    "\n",
    "# Others:\n",
    "# CPR_CLD_2A: Providing cloud water content and characteristic diameters, liquid water path, and ice water path.\n",
    "\n",
    "# MSI_COP_2A: For 2D overview\n",
    "\n",
    "# Conclusions:\n",
    "# Download CPR_CD for sedimentation velocity and doppler velocity, CPR-CLD for liquid/ice water paths and sedimentation estimates, and C-FMR for corrected reflectity and  masking;\n",
    "# Download also ACM_CAP (experimental)\n",
    "# Download MSI_COP_2A to talk to Blanka and Johanna"
   ]
  },
  {
   "cell_type": "code",
   "execution_count": 3,
   "id": "bbf06f26-008b-4c74-bae4-b28ec99c9fcb",
   "metadata": {},
   "outputs": [],
   "source": [
    "# General\n",
    "import os\n",
    "import glob\n",
    "import subprocess\n",
    "import pickle\n",
    "import xarray as xr\n",
    "from tqdm.notebook import tqdm"
   ]
  },
  {
   "cell_type": "code",
   "execution_count": 4,
   "id": "bd510bd1-40dc-4c6a-a0d0-a63afaa8a47b",
   "metadata": {},
   "outputs": [],
   "source": [
    "PTHS = {\n",
    "    # 'sar_pth': '/home/arthur/results/sar_extended/05_addPRIMED/dsg.nc',\n",
    "    'ear_dir': '/home/arthur/results/TCsLifeMonitFromObs/PRJCT_VERTICAL_WIND/01_COLLOCATE_EARTHCARE_TCs/AC__TC__2B/',\n",
    "    # 'sav_dir': '/home/arthur/results/TCsLifeMonitFromObs/PRJCT_VERTICAL_WIND/02_EARTHCARE_DIAGNOSTIC/'\n",
    "}\n",
    "\n",
    "# Open EarthCARE\n",
    "all_data = glob.glob(PTHS['ear_dir'] + '*.nc')\n",
    "all_data.sort()"
   ]
  },
  {
   "cell_type": "code",
   "execution_count": 5,
   "id": "08fff9e9-4f8a-4d8c-bf97-aa05fc0edffd",
   "metadata": {},
   "outputs": [
    {
     "data": {
      "application/vnd.jupyter.widget-view+json": {
       "model_id": "77d3e63bfd3a4663aee41a083324a701",
       "version_major": 2,
       "version_minor": 0
      },
      "text/plain": [
       "  0%|          | 0/418 [00:00<?, ?it/s]"
      ]
     },
     "metadata": {},
     "output_type": "display_data"
    }
   ],
   "source": [
    "threshold          = 250000 # meters, exclude if EC's closest_distance_to_track_center_ibt is greater than\n",
    "list_of_overpasses = []\n",
    "\n",
    "for file in tqdm(all_data):\n",
    "    # Open file\n",
    "    # ds = xr.open_dataset(file)\n",
    "    ds      = xr.open_dataset(file)\n",
    "    if ds.closest_distance_to_track_center_ibt <= threshold:\n",
    "        list_of_overpasses.append(os.path.basename(file).split('.')[0].split('_')[-1])\n",
    "\n",
    "    # Close\n",
    "    ds.close()"
   ]
  },
  {
   "cell_type": "code",
   "execution_count": 6,
   "id": "619b0886-31fb-4889-91a0-187e08a1b8eb",
   "metadata": {},
   "outputs": [],
   "source": [
    "# ### Eventually save the list of files as list of EC overpasses\n",
    "\n",
    "# list_of_overpasses = [os.path.basename(file).split('.')[0].split('_')[-1] for file in all_data]\n",
    "\n",
    "# # To save the list of frames\n",
    "# filename           = PTHS['ear_dir'] + 'list_of_overpasses.pkl'\n",
    "# with open(filename, 'wb') as file:  # 'wb' pour écriture binaire\n",
    "#     pickle.dump(list_of_overpasses, file)"
   ]
  },
  {
   "cell_type": "code",
   "execution_count": 7,
   "id": "ab48460a-6a22-4405-8c16-de1f3b1b33c1",
   "metadata": {},
   "outputs": [],
   "source": [
    "# # Or, to load it\n",
    "# filename = '/home/arthur/results/TCsLifeMonitFromObs/PRJCT_VERTICAL_WIND/02_EARTHCARE_DIAGNOSTIC/' + 'list_of_overpasses.pkl'\n",
    "# with open(filename, 'rb') as file:  # 'rb' pour lecture binaire\n",
    "#     oaf_values = pickle.load(file)"
   ]
  },
  {
   "cell_type": "code",
   "execution_count": 8,
   "id": "f7a4b09f-1213-4279-a68d-126d1043b289",
   "metadata": {},
   "outputs": [],
   "source": [
    "# # Test\n",
    "# list_of_overpasses = ['01708B', '02089A', '02089B', '02618E', '02691A', '02698E', '03958E', '04237E', '04237F', '04290A']"
   ]
  },
  {
   "cell_type": "code",
   "execution_count": 9,
   "id": "7ffb0e09-9080-48c8-881f-f7247879c013",
   "metadata": {},
   "outputs": [],
   "source": [
    "# # Test\n",
    "# all_data = ['/home/arthur/results/TCsLifeMonitFromObs/PRJCT_VERTICAL_WIND/01_COLLOCATE_EARTHCARE_TCs/AC__TC__2B/ECA_EXAA_AC__TC__2B_20240915T172841Z_20240915T232259Z_01708B.nc']"
   ]
  },
  {
   "cell_type": "code",
   "execution_count": 1,
   "id": "60a06245-9b05-42af-8cb3-f229a27a6041",
   "metadata": {},
   "outputs": [],
   "source": [
    "# Try this\n",
    "# In brief, I need to apply the script oads_download.py to each overpass, and for each requested product.\n",
    "\n",
    "for oaf in tqdm(list_of_overpasses):\n",
    "    # cmd = [\"python\", \"oads_download.py\", \"CPR_CD__2A\", \"-oaf\", oaf]\n",
    "    # cmd = [\"python\", \"oads_download.py\", \"CPR_CLD_2A\", \"-oaf\", oaf]\n",
    "    # cmd = [\"python\", \"oads_download.py\", \"CPR_FMR_2A\", \"-oaf\", oaf]\n",
    "    # cmd = [\"python\", \"oads_download.py\", \"MSI_COP_2A\", \"-oaf\", oaf]\n",
    "    cmd = [\"python\", \"oads_download.py\", \"ACMCAP\", \"-oaf\", oaf]\n",
    "    print(f\"Running command: {' '.join(cmd)}\")\n",
    "    subprocess.run(cmd)"
   ]
  },
  {
   "cell_type": "code",
   "execution_count": null,
   "id": "dd27e5d1-d959-446d-9005-85bce261eb75",
   "metadata": {},
   "outputs": [],
   "source": []
  },
  {
   "cell_type": "code",
   "execution_count": null,
   "id": "3be40807-0fd1-4f81-8e9c-e57335dc7e03",
   "metadata": {},
   "outputs": [],
   "source": []
  },
  {
   "cell_type": "code",
   "execution_count": null,
   "id": "81e8ff9f-4376-45a1-a39f-4ba6cee0e5fe",
   "metadata": {},
   "outputs": [],
   "source": []
  },
  {
   "cell_type": "code",
   "execution_count": null,
   "id": "9bbec0df-47c8-489e-ae02-b9b2278b705a",
   "metadata": {},
   "outputs": [],
   "source": []
  },
  {
   "cell_type": "code",
   "execution_count": null,
   "id": "f10bb2c3-caa8-43a2-a410-166023761960",
   "metadata": {},
   "outputs": [],
   "source": []
  },
  {
   "cell_type": "code",
   "execution_count": null,
   "id": "19b33745-0dc2-4c35-96da-5bf0f90d3399",
   "metadata": {},
   "outputs": [],
   "source": []
  },
  {
   "cell_type": "code",
   "execution_count": null,
   "id": "9ab1f061-4ec6-4e12-9d3f-ced3213026ca",
   "metadata": {},
   "outputs": [],
   "source": []
  }
 ],
 "metadata": {
  "kernelspec": {
   "display_name": "dataBasics",
   "language": "python",
   "name": "databasics"
  },
  "language_info": {
   "codemirror_mode": {
    "name": "ipython",
    "version": 3
   },
   "file_extension": ".py",
   "mimetype": "text/x-python",
   "name": "python",
   "nbconvert_exporter": "python",
   "pygments_lexer": "ipython3",
   "version": "3.13.0"
  }
 },
 "nbformat": 4,
 "nbformat_minor": 5
}
