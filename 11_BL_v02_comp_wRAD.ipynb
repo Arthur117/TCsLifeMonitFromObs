{
 "cells": [
  {
   "cell_type": "markdown",
   "metadata": {},
   "source": [
    "## Boundary Layer Model - V02\n",
    "\n",
    "Comparison with RAD data collocated to SAR"
   ]
  },
  {
   "cell_type": "code",
   "execution_count": 3,
   "metadata": {},
   "outputs": [],
   "source": [
    "# General\n",
    "import glob\n",
    "import re\n",
    "import os.path\n",
    "# import warnings\n",
    "# warnings.filterwarnings('ignore')\n",
    "from tqdm.notebook import tqdm\n",
    "import copy\n",
    "\n",
    "# Arrays & Displays\n",
    "import xarray as xr\n",
    "import numpy as np\n",
    "import matplotlib as mpl\n",
    "import matplotlib.pyplot as plt\n",
    "from matplotlib.colors import Normalize\n",
    "import matplotlib.cm as cm\n",
    "from mpl_toolkits.axes_grid1 import make_axes_locatable\n",
    "import pandas as pd\n",
    "\n",
    "# Data treatment\n",
    "from datetime import datetime\n",
    "from scipy.optimize import curve_fit\n",
    "\n",
    "# Custom\n",
    "import functions as f\n",
    "import dataUtils as du\n",
    "\n",
    "# Statistics\n",
    "from sklearn import linear_model, neighbors\n",
    "from pykalman import KalmanFilter\n",
    "\n",
    "# Default parameters\n",
    "mpl.rcParams.update({'font.size': 18})\n",
    "mpl.rcParams['figure.figsize'] = (15, 10)\n",
    "mpl.rcParams['axes.facecolor'] = 'white'\n",
    "mpl.rcParams['figure.facecolor'] = 'white'\n",
    "\n",
    "import warnings\n",
    "warnings.filterwarnings(\"ignore\")"
   ]
  },
  {
   "cell_type": "code",
   "execution_count": 4,
   "metadata": {},
   "outputs": [],
   "source": [
    "PTHS = {\n",
    "    'sav_dir':     '/home/arthur/results/TCsLifeMonitFromObs/11_BL_v02_comp_wRAD/',\n",
    "    'collocs_pth': '/home/arthur/results/ck22model/Radiometer_MAXSS/02_colocate_rad_sar/ds_col_rad_sar.nc'\n",
    "}"
   ]
  },
  {
   "cell_type": "code",
   "execution_count": 5,
   "metadata": {},
   "outputs": [],
   "source": [
    "####-----------####\n",
    "#### FUNCTIONS ####\n",
    "####-----------####\n",
    "\n",
    "### MODEL\n",
    "def coriolis(lat):\n",
    "    '''Absolute vorticity.\n",
    "    Latitude must be in degrees.'''\n",
    "    Omega = 7.2921e-5                            # Earth rotation vector\n",
    "    fcor  = 2 * Omega * np.sin(lat * np.pi / 180) # Coriolis parameter at 20° latitude and assuming it's constant \n",
    "    return fcor\n",
    "\n",
    "def vorticity(r, v):\n",
    "    '''Relative vorticity'''\n",
    "    dr = 1000 # meters\n",
    "    return (1 / r) * np.gradient(r * v, dr)\n",
    "\n",
    "def h80(r, vm, rm, B, lat, vmin=0):\n",
    "    '''Holland 1980 profile.'''\n",
    "    fcor = coriolis(lat)\n",
    "    V    = r * 0.\n",
    "    V    = vmin + np.sqrt((vm ** 2) * ((rm / r) ** B) * np.exp(1 - (rm / r) ** B) + (r * fcor / 2) ** 2) - (r * fcor / 2)\n",
    "    return V\n",
    "\n",
    "def willoughby_profile_no_smooth(r, n, X1, Vmin, Rmax, Vmax):\n",
    "    '''No polynomial ramp smoothing here.\n",
    "    We assume V(0) = Vmin != 0 to fit SAR data'''\n",
    "    V    = r * 0.\n",
    "    Vinf = (Vmax - Vmin) * ((r / Rmax) ** n) + Vmin\n",
    "    Vsup = (Vmax - Vmin) * np.exp((-1.) * ((r - Rmax) / X1)) + Vmin\n",
    "    V[r <=Rmax] = Vinf[r <=Rmax]\n",
    "    V[r > Rmax] = Vsup[r > Rmax]\n",
    "    return V"
   ]
  },
  {
   "cell_type": "code",
   "execution_count": 6,
   "metadata": {},
   "outputs": [],
   "source": [
    "# Inertial stability\n",
    "def I(r, v, fcor):\n",
    "    dr   = np.unique(np.diff(r))[0] # meters\n",
    "    ksi  = 2 * v / r + fcor\n",
    "    zeta = np.gradient(v, dr) + v / r + fcor\n",
    "    return np.sqrt(ksi * zeta)\n",
    "\n",
    "# Coefficients\n",
    "def sqrt_alpha_beta(r, V, fcor):\n",
    "    '''Corresponds to sqrt(alpha / beta).'''\n",
    "    dr   = np.unique(np.diff(r))[0] # meters\n",
    "    ksi  = 2 * V / r + fcor\n",
    "    zeta = np.gradient(V, dr) + V / r + fcor\n",
    "    return np.sqrt(ksi / zeta)\n",
    "\n",
    "def eta(r, V, K, C, fcor):\n",
    "    return C * V * np.sqrt(2 / (K * ((V / r) + I(r, V, fcor))))\n",
    "\n",
    "def ki(r, V, K, C, fcor):\n",
    "    return C * V * np.sqrt(2 / (K * I(r, V, fcor)))\n",
    "\n",
    "def psi(r, V, K, C, fcor):\n",
    "    return C * V * np.sqrt(2 / abs(K * ((V / r) - I(r, V, fcor))))\n",
    "\n",
    "# Amplitudes\n",
    "def A0(r, V, K, C, fcor):\n",
    "    num = -ki(r, V, K, C, fcor) * V * [1 + 1j * (1 + ki(r, V, K, C, fcor))]\n",
    "    den = 2 * ki(r, V, K, C, fcor) ** 2 + 3 * ki(r, V, K, C, fcor) + 2\n",
    "    return num / den\n",
    "\n",
    "def A1(r, V, Ut, K, C, fcor):\n",
    "    num = -eta(r, V, K, C, fcor) * Ut * [1 - 2 * sqrt_alpha_beta(r, V, fcor) + (1 + 1j) * (1 - sqrt_alpha_beta(r, V, fcor)) * psi(r, V, K, C, fcor)]\n",
    "    den = sqrt_alpha_beta(r, V, fcor) * [(2 + 2j) * (1 + eta(r, V, K, C, fcor) * psi(r, V, K, C, fcor)) + 3 * eta(r, V, K, C, fcor) + 3j * psi(r, V, K, C, fcor)]\n",
    "    return num / den\n",
    "\n",
    "def A_1(r, V, Ut, K, C, fcor):\n",
    "    num = -psi(r, V, K, C, fcor) * Ut * [1 + 2 * sqrt_alpha_beta(r, V, fcor) + (1 + 1j) * (1 + sqrt_alpha_beta(r, V, fcor)) * eta(r, V, K, C, fcor)]\n",
    "    den = sqrt_alpha_beta(r, V, fcor) * [(2 + 2j) * (1 + eta(r, V, K, C, fcor) * psi(r, V, K, C, fcor)) + 3 * psi(r, V, K, C, fcor) + 3j * eta(r, V, K, C, fcor)]\n",
    "    return num / den\n",
    "\n",
    "def A1_prime(r, V, Ut, K, C, fcor):\n",
    "    num = -eta(r, V, K, C, fcor) * Ut * [1 - 2 * sqrt_alpha_beta(r, V, fcor) + (1 - 1j) * (1 - sqrt_alpha_beta(r, V, fcor)) * psi(r, V, K, C, fcor)]\n",
    "    den = sqrt_alpha_beta(r, V, fcor) * [2 + 2j + 3 * (eta(r, V, K, C, fcor) + psi(r, V, K, C, fcor)) + (2 - 2j) * eta(r, V, K, C, fcor) * psi(r, V, K, C, fcor)]\n",
    "    return num / den\n",
    "\n",
    "def A_1_prime(r, V, Ut, K, C, fcor):\n",
    "    num = -psi(r, V, K, C, fcor) * Ut * [1 + 2 * sqrt_alpha_beta(r, V, fcor) + (1 + 1j) * (1 + sqrt_alpha_beta(r, V, fcor)) * eta(r, V, K, C, fcor)]\n",
    "    den = sqrt_alpha_beta(r, V, fcor) * [2 - 2j + 3 * (eta(r, V, K, C, fcor) + psi(r, V, K, C, fcor)) + (2 + 2j) * eta(r, V, K, C, fcor) * psi(r, V, K, C, fcor)]\n",
    "    return num / den\n",
    "\n",
    "# Radial and tangential wind components at the surface (z = 0)\n",
    "def u0(r, V, K, C, fcor):\n",
    "    return np.squeeze(sqrt_alpha_beta(r, V, fcor) * np.real(A0(r, V, K, C, fcor)))\n",
    "\n",
    "def v0(r, V, K, C, fcor):\n",
    "    return np.squeeze(np.imag(A0(r, V, K, C, fcor)))\n",
    "\n",
    "def u1(theta, r, V, Ut, K, C, fcor):\n",
    "    u1        = V * 0\n",
    "    msk       = I(r, V, fcor) >= V / r\n",
    "    u1[msk]   = np.squeeze(sqrt_alpha_beta(r, V, fcor) * np.real(A1(r, V, Ut, K, C, fcor)       * np.exp(1j * theta)))[msk]\n",
    "    u1[~msk]  = np.squeeze(sqrt_alpha_beta(r, V, fcor) * np.real(A1_prime(r, V, Ut, K, C, fcor) * np.exp(1j * theta)))[~msk]\n",
    "    return u1\n",
    "\n",
    "def v1(theta, r, V, Ut, K, C, fcor):\n",
    "    v1      = V * 0\n",
    "    msk     = I(r, V, fcor) >= V / r\n",
    "    v1[msk] = np.squeeze(np.imag(A1(r, V, Ut, K, C, fcor)       * np.exp(1j * theta)))[msk]\n",
    "    v1[~msk]= np.squeeze(np.imag(A1_prime(r, V, Ut, K, C, fcor) * np.exp(1j * theta)))[~msk]\n",
    "    return v1\n",
    "\n",
    "def u_1(theta, r, V, Ut, K, C, fcor):\n",
    "    u1      = V * 0\n",
    "    msk     = I(r, V, fcor) >= V / r\n",
    "    u1[msk] = np.squeeze(sqrt_alpha_beta(r, V, fcor) * np.real(A_1(r, V, Ut, K, C, fcor)       * np.exp(-1j * theta)))[msk]\n",
    "    u1[~msk]= np.squeeze(sqrt_alpha_beta(r, V, fcor) * np.real(A_1_prime(r, V, Ut, K, C, fcor) * np.exp(-1j * theta)))[~msk]\n",
    "    return u1\n",
    "\n",
    "def v_1(theta, r, V, Ut, K, C, fcor):\n",
    "    v1      = V * 0\n",
    "    msk     = I(r, V, fcor) >= V / r\n",
    "    v1[msk] = np.squeeze(np.imag(A_1(r, V, Ut, K, C, fcor)       * np.exp(-1j * theta)))[msk]\n",
    "    v1[~msk]= np.squeeze(np.imag(A_1_prime(r, V, Ut, K, C, fcor) * np.exp(-1j * theta)))[~msk]\n",
    "    return v1\n",
    "\n",
    "# TOTAL WIND COMPONENTS IN THE BL\n",
    "def u_BL(theta, r, V, Ut, K, C, fcor):\n",
    "    return u_1(theta, r, V, Ut, K, C, fcor) + u0(r, V, K, C, fcor) + u1(theta, r, V, Ut, K, C, fcor)\n",
    "\n",
    "def v_BL(theta, r, V, Ut, K, C, fcor):\n",
    "    return V + v_1(theta, r, V, Ut, K, C, fcor) + v0(r, V, K, C, fcor) + v1(theta, r, V, Ut, K, C, fcor)"
   ]
  },
  {
   "cell_type": "code",
   "execution_count": 7,
   "metadata": {},
   "outputs": [],
   "source": [
    "def pol2cart(rho, phi):\n",
    "    x = rho * np.cos(phi)\n",
    "    y = rho * np.sin(phi)\n",
    "    return(x, y)\n",
    "\n",
    "def get_V_tot_BL(vmx, rmx, B, lat, Ut, vmn=0, K=50, C=2.5e-3):\n",
    "    # Initialize grids\n",
    "    rs      = np.linspace(10, 8e5, 800)\n",
    "    ths     = np.linspace(0, 2 * np.pi, 361)\n",
    "    Rs, THs = np.meshgrid(rs, ths)\n",
    "    Us      = np.ones_like(Rs)\n",
    "    Vs      = np.ones_like(Rs)\n",
    "    \n",
    "    # Compute V holland\n",
    "    V = h80(rs, vmx, rmx, B, lat, vmn)\n",
    "    \n",
    "    # Assign surface winds inside BL\n",
    "    for i, th in enumerate(ths):\n",
    "        Us[i, :] = u_BL(th, rs, V, Ut, K, C, coriolis(lat))\n",
    "        Vs[i, :] = v_BL(th, rs, V, Ut, K, C, coriolis(lat))\n",
    "        \n",
    "    # Add storm speed vector\n",
    "    Us       = Us + Ut * np.cos(THs)\n",
    "    Vs       = Vs - Ut * np.sin(THs)\n",
    "    \n",
    "    # Compute total BL wind\n",
    "    V_tot_BL = np.sqrt(Vs ** 2 + Us ** 2)\n",
    "    \n",
    "    # Define cartesian grids \n",
    "    Xs, Ys   = pol2cart(Rs, THs + np.pi/2)\n",
    "    \n",
    "    return V_tot_BL, Xs, Ys\n",
    "\n",
    "def get_V_tot_BL_will(n, X1, vmn, rmx, vmx, lat, Ut, K=50, C=2.5e-3):\n",
    "    # Initialize grids\n",
    "    rs      = np.linspace(10, 8e5, 800)\n",
    "    ths     = np.linspace(0, 2 * np.pi, 361)\n",
    "    Rs, THs = np.meshgrid(rs, ths)\n",
    "    Us      = np.ones_like(Rs)\n",
    "    Vs      = np.ones_like(Rs)\n",
    "    \n",
    "    # Compute V will\n",
    "    V = willoughby_profile_no_smooth(rs / 1000, n, X1, vmn, rmx, vmx)\n",
    "    \n",
    "    # Assign surface winds inside BL\n",
    "    for i, th in enumerate(ths):\n",
    "        Us[i, :] = u_BL(th, rs, V, Ut, K, C, coriolis(lat))\n",
    "        Vs[i, :] = v_BL(th, rs, V, Ut, K, C, coriolis(lat))\n",
    "        \n",
    "    # Add storm speed vector\n",
    "    Us       = Us + Ut * np.cos(THs)\n",
    "    Vs       = Vs - Ut * np.sin(THs)\n",
    "    \n",
    "    # Compute total BL wind\n",
    "    V_tot_BL = np.sqrt(Vs ** 2 + Us ** 2)\n",
    "    \n",
    "    # Define cartesian grids \n",
    "    Xs, Ys   = pol2cart(Rs, THs + np.pi/2)\n",
    "    \n",
    "    return V_tot_BL, Xs, Ys\n",
    "\n",
    "def std_prof(V):\n",
    "    return np.std(V / np.nanmax(V, axis=0), axis=0)"
   ]
  },
  {
   "cell_type": "code",
   "execution_count": 8,
   "metadata": {},
   "outputs": [],
   "source": [
    "### OPEN SAR DATA\n",
    "dsg_sar  = xr.open_dataset('/home/arthur/data/cyclobs/SAR_compilations_in_nc/SAR_centered_rotated_files_13052022_with_extra_params.nc')\n",
    "dsg2_sar = xr.open_dataset('/home/arthur/results/TCsLifeMonitFromObs/07_SAR_K10/ds_glob.nc')\n",
    "dsg_sar['Vmax_dot_smth_IBT'] = xr.DataArray(\n",
    "    data=np.array(dsg2_sar['Vmax_dot_smth_IBT']),\n",
    "    coords={'time': dsg_sar.time}\n",
    ")\n",
    "\n",
    "### OPEN COLLOCS\n",
    "ds_col = xr.open_dataset(PTHS['collocs_pth'])"
   ]
  },
  {
   "cell_type": "code",
   "execution_count": 34,
   "metadata": {},
   "outputs": [
    {
     "data": {
      "application/vnd.jupyter.widget-view+json": {
       "model_id": "b559abb9eaa84056b6419342f6233031",
       "version_major": 2,
       "version_minor": 0
      },
      "text/plain": [
       "0it [00:00, ?it/s]"
      ]
     },
     "metadata": {},
     "output_type": "display_data"
    },
    {
     "name": "stdout",
     "output_type": "stream",
     "text": [
      "Concatenating all datasets into ds_glob. Can take a few seconds...\n",
      "Concatenation ended.\n"
     ]
    },
    {
     "data": {
      "text/plain": [
       "<Figure size 3000x2300 with 0 Axes>"
      ]
     },
     "metadata": {},
     "output_type": "display_data"
    },
    {
     "data": {
      "text/plain": [
       "<Figure size 3000x2300 with 0 Axes>"
      ]
     },
     "metadata": {},
     "output_type": "display_data"
    },
    {
     "data": {
      "text/plain": [
       "<Figure size 3000x2300 with 0 Axes>"
      ]
     },
     "metadata": {},
     "output_type": "display_data"
    },
    {
     "data": {
      "text/plain": [
       "<Figure size 3000x2300 with 0 Axes>"
      ]
     },
     "metadata": {},
     "output_type": "display_data"
    },
    {
     "data": {
      "text/plain": [
       "<Figure size 3000x2300 with 0 Axes>"
      ]
     },
     "metadata": {},
     "output_type": "display_data"
    },
    {
     "data": {
      "text/plain": [
       "<Figure size 3000x2300 with 0 Axes>"
      ]
     },
     "metadata": {},
     "output_type": "display_data"
    },
    {
     "data": {
      "text/plain": [
       "<Figure size 3000x2300 with 0 Axes>"
      ]
     },
     "metadata": {},
     "output_type": "display_data"
    },
    {
     "data": {
      "text/plain": [
       "<Figure size 3000x2300 with 0 Axes>"
      ]
     },
     "metadata": {},
     "output_type": "display_data"
    },
    {
     "data": {
      "text/plain": [
       "<Figure size 3000x2300 with 0 Axes>"
      ]
     },
     "metadata": {},
     "output_type": "display_data"
    },
    {
     "data": {
      "text/plain": [
       "<Figure size 3000x2300 with 0 Axes>"
      ]
     },
     "metadata": {},
     "output_type": "display_data"
    },
    {
     "data": {
      "text/plain": [
       "<Figure size 3000x2300 with 0 Axes>"
      ]
     },
     "metadata": {},
     "output_type": "display_data"
    },
    {
     "data": {
      "text/plain": [
       "<Figure size 3000x2300 with 0 Axes>"
      ]
     },
     "metadata": {},
     "output_type": "display_data"
    },
    {
     "data": {
      "text/plain": [
       "<Figure size 3000x2300 with 0 Axes>"
      ]
     },
     "metadata": {},
     "output_type": "display_data"
    },
    {
     "data": {
      "text/plain": [
       "<Figure size 3000x2300 with 0 Axes>"
      ]
     },
     "metadata": {},
     "output_type": "display_data"
    },
    {
     "data": {
      "text/plain": [
       "<Figure size 3000x2300 with 0 Axes>"
      ]
     },
     "metadata": {},
     "output_type": "display_data"
    },
    {
     "data": {
      "text/plain": [
       "<Figure size 3000x2300 with 0 Axes>"
      ]
     },
     "metadata": {},
     "output_type": "display_data"
    },
    {
     "data": {
      "text/plain": [
       "<Figure size 3000x2300 with 0 Axes>"
      ]
     },
     "metadata": {},
     "output_type": "display_data"
    },
    {
     "data": {
      "text/plain": [
       "<Figure size 3000x2300 with 0 Axes>"
      ]
     },
     "metadata": {},
     "output_type": "display_data"
    },
    {
     "data": {
      "text/plain": [
       "<Figure size 3000x2300 with 0 Axes>"
      ]
     },
     "metadata": {},
     "output_type": "display_data"
    },
    {
     "data": {
      "text/plain": [
       "<Figure size 3000x2300 with 0 Axes>"
      ]
     },
     "metadata": {},
     "output_type": "display_data"
    },
    {
     "data": {
      "text/plain": [
       "<Figure size 3000x2300 with 0 Axes>"
      ]
     },
     "metadata": {},
     "output_type": "display_data"
    },
    {
     "data": {
      "text/plain": [
       "<Figure size 3000x2300 with 0 Axes>"
      ]
     },
     "metadata": {},
     "output_type": "display_data"
    },
    {
     "data": {
      "text/plain": [
       "<Figure size 3000x2300 with 0 Axes>"
      ]
     },
     "metadata": {},
     "output_type": "display_data"
    },
    {
     "data": {
      "text/plain": [
       "<Figure size 3000x2300 with 0 Axes>"
      ]
     },
     "metadata": {},
     "output_type": "display_data"
    },
    {
     "data": {
      "text/plain": [
       "<Figure size 3000x2300 with 0 Axes>"
      ]
     },
     "metadata": {},
     "output_type": "display_data"
    },
    {
     "data": {
      "text/plain": [
       "<Figure size 3000x2300 with 0 Axes>"
      ]
     },
     "metadata": {},
     "output_type": "display_data"
    },
    {
     "data": {
      "text/plain": [
       "<Figure size 3000x2300 with 0 Axes>"
      ]
     },
     "metadata": {},
     "output_type": "display_data"
    },
    {
     "data": {
      "text/plain": [
       "<Figure size 3000x2300 with 0 Axes>"
      ]
     },
     "metadata": {},
     "output_type": "display_data"
    },
    {
     "data": {
      "text/plain": [
       "<Figure size 3000x2300 with 0 Axes>"
      ]
     },
     "metadata": {},
     "output_type": "display_data"
    },
    {
     "data": {
      "text/plain": [
       "<Figure size 3000x2300 with 0 Axes>"
      ]
     },
     "metadata": {},
     "output_type": "display_data"
    },
    {
     "data": {
      "text/plain": [
       "<Figure size 3000x2300 with 0 Axes>"
      ]
     },
     "metadata": {},
     "output_type": "display_data"
    },
    {
     "data": {
      "text/plain": [
       "<Figure size 3000x2300 with 0 Axes>"
      ]
     },
     "metadata": {},
     "output_type": "display_data"
    },
    {
     "data": {
      "text/plain": [
       "<Figure size 3000x2300 with 0 Axes>"
      ]
     },
     "metadata": {},
     "output_type": "display_data"
    },
    {
     "data": {
      "text/plain": [
       "<Figure size 3000x2300 with 0 Axes>"
      ]
     },
     "metadata": {},
     "output_type": "display_data"
    },
    {
     "data": {
      "text/plain": [
       "<Figure size 3000x2300 with 0 Axes>"
      ]
     },
     "metadata": {},
     "output_type": "display_data"
    },
    {
     "data": {
      "text/plain": [
       "<Figure size 3000x2300 with 0 Axes>"
      ]
     },
     "metadata": {},
     "output_type": "display_data"
    },
    {
     "data": {
      "text/plain": [
       "<Figure size 3000x2300 with 0 Axes>"
      ]
     },
     "metadata": {},
     "output_type": "display_data"
    },
    {
     "data": {
      "text/plain": [
       "<Figure size 3000x2300 with 0 Axes>"
      ]
     },
     "metadata": {},
     "output_type": "display_data"
    },
    {
     "data": {
      "text/plain": [
       "<Figure size 3000x2300 with 0 Axes>"
      ]
     },
     "metadata": {},
     "output_type": "display_data"
    },
    {
     "data": {
      "text/plain": [
       "<Figure size 3000x2300 with 0 Axes>"
      ]
     },
     "metadata": {},
     "output_type": "display_data"
    },
    {
     "data": {
      "text/plain": [
       "<Figure size 3000x2300 with 0 Axes>"
      ]
     },
     "metadata": {},
     "output_type": "display_data"
    },
    {
     "data": {
      "text/plain": [
       "<Figure size 3000x2300 with 0 Axes>"
      ]
     },
     "metadata": {},
     "output_type": "display_data"
    },
    {
     "data": {
      "text/plain": [
       "<Figure size 3000x2300 with 0 Axes>"
      ]
     },
     "metadata": {},
     "output_type": "display_data"
    },
    {
     "data": {
      "text/plain": [
       "<Figure size 3000x2300 with 0 Axes>"
      ]
     },
     "metadata": {},
     "output_type": "display_data"
    },
    {
     "data": {
      "text/plain": [
       "<Figure size 3000x2300 with 0 Axes>"
      ]
     },
     "metadata": {},
     "output_type": "display_data"
    },
    {
     "data": {
      "text/plain": [
       "<Figure size 3000x2300 with 0 Axes>"
      ]
     },
     "metadata": {},
     "output_type": "display_data"
    },
    {
     "data": {
      "text/plain": [
       "<Figure size 3000x2300 with 0 Axes>"
      ]
     },
     "metadata": {},
     "output_type": "display_data"
    },
    {
     "data": {
      "text/plain": [
       "<Figure size 3000x2300 with 0 Axes>"
      ]
     },
     "metadata": {},
     "output_type": "display_data"
    },
    {
     "data": {
      "text/plain": [
       "<Figure size 3000x2300 with 0 Axes>"
      ]
     },
     "metadata": {},
     "output_type": "display_data"
    },
    {
     "data": {
      "text/plain": [
       "<Figure size 3000x2300 with 0 Axes>"
      ]
     },
     "metadata": {},
     "output_type": "display_data"
    },
    {
     "data": {
      "text/plain": [
       "<Figure size 3000x2300 with 0 Axes>"
      ]
     },
     "metadata": {},
     "output_type": "display_data"
    },
    {
     "data": {
      "text/plain": [
       "<Figure size 3000x2300 with 0 Axes>"
      ]
     },
     "metadata": {},
     "output_type": "display_data"
    },
    {
     "data": {
      "text/plain": [
       "<Figure size 3000x2300 with 0 Axes>"
      ]
     },
     "metadata": {},
     "output_type": "display_data"
    },
    {
     "data": {
      "text/plain": [
       "<Figure size 3000x2300 with 0 Axes>"
      ]
     },
     "metadata": {},
     "output_type": "display_data"
    },
    {
     "data": {
      "text/plain": [
       "<Figure size 3000x2300 with 0 Axes>"
      ]
     },
     "metadata": {},
     "output_type": "display_data"
    },
    {
     "data": {
      "text/plain": [
       "<Figure size 3000x2300 with 0 Axes>"
      ]
     },
     "metadata": {},
     "output_type": "display_data"
    },
    {
     "data": {
      "text/plain": [
       "<Figure size 3000x2300 with 0 Axes>"
      ]
     },
     "metadata": {},
     "output_type": "display_data"
    },
    {
     "data": {
      "text/plain": [
       "<Figure size 3000x2300 with 0 Axes>"
      ]
     },
     "metadata": {},
     "output_type": "display_data"
    },
    {
     "data": {
      "text/plain": [
       "<Figure size 3000x2300 with 0 Axes>"
      ]
     },
     "metadata": {},
     "output_type": "display_data"
    },
    {
     "data": {
      "text/plain": [
       "<Figure size 3000x2300 with 0 Axes>"
      ]
     },
     "metadata": {},
     "output_type": "display_data"
    },
    {
     "data": {
      "text/plain": [
       "<Figure size 3000x2300 with 0 Axes>"
      ]
     },
     "metadata": {},
     "output_type": "display_data"
    },
    {
     "data": {
      "text/plain": [
       "<Figure size 3000x2300 with 0 Axes>"
      ]
     },
     "metadata": {},
     "output_type": "display_data"
    },
    {
     "data": {
      "text/plain": [
       "<Figure size 3000x2300 with 0 Axes>"
      ]
     },
     "metadata": {},
     "output_type": "display_data"
    },
    {
     "data": {
      "text/plain": [
       "<Figure size 3000x2300 with 0 Axes>"
      ]
     },
     "metadata": {},
     "output_type": "display_data"
    },
    {
     "data": {
      "text/plain": [
       "<Figure size 3000x2300 with 0 Axes>"
      ]
     },
     "metadata": {},
     "output_type": "display_data"
    },
    {
     "data": {
      "text/plain": [
       "<Figure size 3000x2300 with 0 Axes>"
      ]
     },
     "metadata": {},
     "output_type": "display_data"
    },
    {
     "data": {
      "text/plain": [
       "<Figure size 3000x2300 with 0 Axes>"
      ]
     },
     "metadata": {},
     "output_type": "display_data"
    },
    {
     "data": {
      "text/plain": [
       "<Figure size 3000x2300 with 0 Axes>"
      ]
     },
     "metadata": {},
     "output_type": "display_data"
    },
    {
     "data": {
      "text/plain": [
       "<Figure size 3000x2300 with 0 Axes>"
      ]
     },
     "metadata": {},
     "output_type": "display_data"
    },
    {
     "data": {
      "text/plain": [
       "<Figure size 3000x2300 with 0 Axes>"
      ]
     },
     "metadata": {},
     "output_type": "display_data"
    },
    {
     "data": {
      "text/plain": [
       "<Figure size 3000x2300 with 0 Axes>"
      ]
     },
     "metadata": {},
     "output_type": "display_data"
    },
    {
     "data": {
      "text/plain": [
       "<Figure size 3000x2300 with 0 Axes>"
      ]
     },
     "metadata": {},
     "output_type": "display_data"
    },
    {
     "data": {
      "text/plain": [
       "<Figure size 3000x2300 with 0 Axes>"
      ]
     },
     "metadata": {},
     "output_type": "display_data"
    },
    {
     "data": {
      "text/plain": [
       "<Figure size 3000x2300 with 0 Axes>"
      ]
     },
     "metadata": {},
     "output_type": "display_data"
    },
    {
     "data": {
      "text/plain": [
       "<Figure size 3000x2300 with 0 Axes>"
      ]
     },
     "metadata": {},
     "output_type": "display_data"
    },
    {
     "data": {
      "text/plain": [
       "<Figure size 3000x2300 with 0 Axes>"
      ]
     },
     "metadata": {},
     "output_type": "display_data"
    },
    {
     "data": {
      "text/plain": [
       "<Figure size 3000x2300 with 0 Axes>"
      ]
     },
     "metadata": {},
     "output_type": "display_data"
    },
    {
     "data": {
      "text/plain": [
       "<Figure size 3000x2300 with 0 Axes>"
      ]
     },
     "metadata": {},
     "output_type": "display_data"
    },
    {
     "data": {
      "text/plain": [
       "<Figure size 3000x2300 with 0 Axes>"
      ]
     },
     "metadata": {},
     "output_type": "display_data"
    },
    {
     "data": {
      "text/plain": [
       "<Figure size 3000x2300 with 0 Axes>"
      ]
     },
     "metadata": {},
     "output_type": "display_data"
    },
    {
     "data": {
      "text/plain": [
       "<Figure size 3000x2300 with 0 Axes>"
      ]
     },
     "metadata": {},
     "output_type": "display_data"
    },
    {
     "data": {
      "text/plain": [
       "<Figure size 3000x2300 with 0 Axes>"
      ]
     },
     "metadata": {},
     "output_type": "display_data"
    },
    {
     "data": {
      "text/plain": [
       "<Figure size 3000x2300 with 0 Axes>"
      ]
     },
     "metadata": {},
     "output_type": "display_data"
    },
    {
     "data": {
      "text/plain": [
       "<Figure size 3000x2300 with 0 Axes>"
      ]
     },
     "metadata": {},
     "output_type": "display_data"
    },
    {
     "data": {
      "text/plain": [
       "<Figure size 3000x2300 with 0 Axes>"
      ]
     },
     "metadata": {},
     "output_type": "display_data"
    },
    {
     "data": {
      "text/plain": [
       "<Figure size 3000x2300 with 0 Axes>"
      ]
     },
     "metadata": {},
     "output_type": "display_data"
    },
    {
     "data": {
      "text/plain": [
       "<Figure size 3000x2300 with 0 Axes>"
      ]
     },
     "metadata": {},
     "output_type": "display_data"
    },
    {
     "data": {
      "text/plain": [
       "<Figure size 3000x2300 with 0 Axes>"
      ]
     },
     "metadata": {},
     "output_type": "display_data"
    },
    {
     "data": {
      "text/plain": [
       "<Figure size 3000x2300 with 0 Axes>"
      ]
     },
     "metadata": {},
     "output_type": "display_data"
    },
    {
     "data": {
      "text/plain": [
       "<Figure size 3000x2300 with 0 Axes>"
      ]
     },
     "metadata": {},
     "output_type": "display_data"
    },
    {
     "data": {
      "text/plain": [
       "<Figure size 3000x2300 with 0 Axes>"
      ]
     },
     "metadata": {},
     "output_type": "display_data"
    },
    {
     "data": {
      "text/plain": [
       "<Figure size 3000x2300 with 0 Axes>"
      ]
     },
     "metadata": {},
     "output_type": "display_data"
    },
    {
     "data": {
      "text/plain": [
       "<Figure size 3000x2300 with 0 Axes>"
      ]
     },
     "metadata": {},
     "output_type": "display_data"
    },
    {
     "data": {
      "text/plain": [
       "<Figure size 3000x2300 with 0 Axes>"
      ]
     },
     "metadata": {},
     "output_type": "display_data"
    },
    {
     "data": {
      "text/plain": [
       "<Figure size 3000x2300 with 0 Axes>"
      ]
     },
     "metadata": {},
     "output_type": "display_data"
    },
    {
     "data": {
      "text/plain": [
       "<Figure size 3000x2300 with 0 Axes>"
      ]
     },
     "metadata": {},
     "output_type": "display_data"
    },
    {
     "data": {
      "text/plain": [
       "<Figure size 3000x2300 with 0 Axes>"
      ]
     },
     "metadata": {},
     "output_type": "display_data"
    },
    {
     "data": {
      "text/plain": [
       "<Figure size 3000x2300 with 0 Axes>"
      ]
     },
     "metadata": {},
     "output_type": "display_data"
    },
    {
     "data": {
      "text/plain": [
       "<Figure size 3000x2300 with 0 Axes>"
      ]
     },
     "metadata": {},
     "output_type": "display_data"
    },
    {
     "data": {
      "text/plain": [
       "<Figure size 3000x2300 with 0 Axes>"
      ]
     },
     "metadata": {},
     "output_type": "display_data"
    },
    {
     "data": {
      "text/plain": [
       "<Figure size 3000x2300 with 0 Axes>"
      ]
     },
     "metadata": {},
     "output_type": "display_data"
    },
    {
     "data": {
      "text/plain": [
       "<Figure size 3000x2300 with 0 Axes>"
      ]
     },
     "metadata": {},
     "output_type": "display_data"
    },
    {
     "data": {
      "text/plain": [
       "<Figure size 3000x2300 with 0 Axes>"
      ]
     },
     "metadata": {},
     "output_type": "display_data"
    },
    {
     "data": {
      "text/plain": [
       "<Figure size 3000x2300 with 0 Axes>"
      ]
     },
     "metadata": {},
     "output_type": "display_data"
    },
    {
     "data": {
      "text/plain": [
       "<Figure size 3000x2300 with 0 Axes>"
      ]
     },
     "metadata": {},
     "output_type": "display_data"
    },
    {
     "data": {
      "text/plain": [
       "<Figure size 3000x2300 with 0 Axes>"
      ]
     },
     "metadata": {},
     "output_type": "display_data"
    },
    {
     "data": {
      "text/plain": [
       "<Figure size 3000x2300 with 0 Axes>"
      ]
     },
     "metadata": {},
     "output_type": "display_data"
    },
    {
     "data": {
      "text/plain": [
       "<Figure size 3000x2300 with 0 Axes>"
      ]
     },
     "metadata": {},
     "output_type": "display_data"
    },
    {
     "data": {
      "text/plain": [
       "<Figure size 3000x2300 with 0 Axes>"
      ]
     },
     "metadata": {},
     "output_type": "display_data"
    },
    {
     "data": {
      "text/plain": [
       "<Figure size 3000x2300 with 0 Axes>"
      ]
     },
     "metadata": {},
     "output_type": "display_data"
    },
    {
     "data": {
      "text/plain": [
       "<Figure size 3000x2300 with 0 Axes>"
      ]
     },
     "metadata": {},
     "output_type": "display_data"
    },
    {
     "data": {
      "text/plain": [
       "<Figure size 3000x2300 with 0 Axes>"
      ]
     },
     "metadata": {},
     "output_type": "display_data"
    },
    {
     "data": {
      "text/plain": [
       "<Figure size 3000x2300 with 0 Axes>"
      ]
     },
     "metadata": {},
     "output_type": "display_data"
    },
    {
     "data": {
      "text/plain": [
       "<Figure size 3000x2300 with 0 Axes>"
      ]
     },
     "metadata": {},
     "output_type": "display_data"
    },
    {
     "data": {
      "text/plain": [
       "<Figure size 3000x2300 with 0 Axes>"
      ]
     },
     "metadata": {},
     "output_type": "display_data"
    },
    {
     "data": {
      "text/plain": [
       "<Figure size 3000x2300 with 0 Axes>"
      ]
     },
     "metadata": {},
     "output_type": "display_data"
    },
    {
     "data": {
      "text/plain": [
       "<Figure size 3000x2300 with 0 Axes>"
      ]
     },
     "metadata": {},
     "output_type": "display_data"
    },
    {
     "data": {
      "text/plain": [
       "<Figure size 3000x2300 with 0 Axes>"
      ]
     },
     "metadata": {},
     "output_type": "display_data"
    },
    {
     "data": {
      "text/plain": [
       "<Figure size 3000x2300 with 0 Axes>"
      ]
     },
     "metadata": {},
     "output_type": "display_data"
    },
    {
     "data": {
      "text/plain": [
       "<Figure size 3000x2300 with 0 Axes>"
      ]
     },
     "metadata": {},
     "output_type": "display_data"
    },
    {
     "data": {
      "text/plain": [
       "<Figure size 3000x2300 with 0 Axes>"
      ]
     },
     "metadata": {},
     "output_type": "display_data"
    },
    {
     "data": {
      "text/plain": [
       "<Figure size 3000x2300 with 0 Axes>"
      ]
     },
     "metadata": {},
     "output_type": "display_data"
    },
    {
     "data": {
      "text/plain": [
       "<Figure size 3000x2300 with 0 Axes>"
      ]
     },
     "metadata": {},
     "output_type": "display_data"
    },
    {
     "data": {
      "text/plain": [
       "<Figure size 3000x2300 with 0 Axes>"
      ]
     },
     "metadata": {},
     "output_type": "display_data"
    },
    {
     "data": {
      "text/plain": [
       "<Figure size 3000x2300 with 0 Axes>"
      ]
     },
     "metadata": {},
     "output_type": "display_data"
    },
    {
     "data": {
      "text/plain": [
       "<Figure size 3000x2300 with 0 Axes>"
      ]
     },
     "metadata": {},
     "output_type": "display_data"
    },
    {
     "data": {
      "text/plain": [
       "<Figure size 3000x2300 with 0 Axes>"
      ]
     },
     "metadata": {},
     "output_type": "display_data"
    },
    {
     "data": {
      "text/plain": [
       "<Figure size 3000x2300 with 0 Axes>"
      ]
     },
     "metadata": {},
     "output_type": "display_data"
    },
    {
     "data": {
      "text/plain": [
       "<Figure size 3000x2300 with 0 Axes>"
      ]
     },
     "metadata": {},
     "output_type": "display_data"
    },
    {
     "data": {
      "text/plain": [
       "<Figure size 3000x2300 with 0 Axes>"
      ]
     },
     "metadata": {},
     "output_type": "display_data"
    },
    {
     "data": {
      "text/plain": [
       "<Figure size 3000x2300 with 0 Axes>"
      ]
     },
     "metadata": {},
     "output_type": "display_data"
    },
    {
     "data": {
      "text/plain": [
       "<Figure size 3000x2300 with 0 Axes>"
      ]
     },
     "metadata": {},
     "output_type": "display_data"
    },
    {
     "data": {
      "text/plain": [
       "<Figure size 3000x2300 with 0 Axes>"
      ]
     },
     "metadata": {},
     "output_type": "display_data"
    },
    {
     "data": {
      "text/plain": [
       "<Figure size 3000x2300 with 0 Axes>"
      ]
     },
     "metadata": {},
     "output_type": "display_data"
    },
    {
     "data": {
      "text/plain": [
       "<Figure size 3000x2300 with 0 Axes>"
      ]
     },
     "metadata": {},
     "output_type": "display_data"
    },
    {
     "data": {
      "text/plain": [
       "<Figure size 3000x2300 with 0 Axes>"
      ]
     },
     "metadata": {},
     "output_type": "display_data"
    },
    {
     "data": {
      "text/plain": [
       "<Figure size 3000x2300 with 0 Axes>"
      ]
     },
     "metadata": {},
     "output_type": "display_data"
    },
    {
     "data": {
      "text/plain": [
       "<Figure size 3000x2300 with 0 Axes>"
      ]
     },
     "metadata": {},
     "output_type": "display_data"
    },
    {
     "data": {
      "text/plain": [
       "<Figure size 3000x2300 with 0 Axes>"
      ]
     },
     "metadata": {},
     "output_type": "display_data"
    },
    {
     "data": {
      "text/plain": [
       "<Figure size 3000x2300 with 0 Axes>"
      ]
     },
     "metadata": {},
     "output_type": "display_data"
    },
    {
     "data": {
      "text/plain": [
       "<Figure size 3000x2300 with 0 Axes>"
      ]
     },
     "metadata": {},
     "output_type": "display_data"
    },
    {
     "data": {
      "text/plain": [
       "<Figure size 3000x2300 with 0 Axes>"
      ]
     },
     "metadata": {},
     "output_type": "display_data"
    },
    {
     "data": {
      "text/plain": [
       "<Figure size 3000x2300 with 0 Axes>"
      ]
     },
     "metadata": {},
     "output_type": "display_data"
    },
    {
     "data": {
      "text/plain": [
       "<Figure size 3000x2300 with 0 Axes>"
      ]
     },
     "metadata": {},
     "output_type": "display_data"
    },
    {
     "data": {
      "text/plain": [
       "<Figure size 3000x2300 with 0 Axes>"
      ]
     },
     "metadata": {},
     "output_type": "display_data"
    },
    {
     "data": {
      "text/plain": [
       "<Figure size 3000x2300 with 0 Axes>"
      ]
     },
     "metadata": {},
     "output_type": "display_data"
    },
    {
     "data": {
      "text/plain": [
       "<Figure size 3000x2300 with 0 Axes>"
      ]
     },
     "metadata": {},
     "output_type": "display_data"
    },
    {
     "data": {
      "text/plain": [
       "<Figure size 3000x2300 with 0 Axes>"
      ]
     },
     "metadata": {},
     "output_type": "display_data"
    },
    {
     "data": {
      "text/plain": [
       "<Figure size 3000x2300 with 0 Axes>"
      ]
     },
     "metadata": {},
     "output_type": "display_data"
    },
    {
     "data": {
      "text/plain": [
       "<Figure size 3000x2300 with 0 Axes>"
      ]
     },
     "metadata": {},
     "output_type": "display_data"
    },
    {
     "data": {
      "text/plain": [
       "<Figure size 3000x2300 with 0 Axes>"
      ]
     },
     "metadata": {},
     "output_type": "display_data"
    },
    {
     "data": {
      "text/plain": [
       "<Figure size 3000x2300 with 0 Axes>"
      ]
     },
     "metadata": {},
     "output_type": "display_data"
    },
    {
     "data": {
      "text/plain": [
       "<Figure size 3000x2300 with 0 Axes>"
      ]
     },
     "metadata": {},
     "output_type": "display_data"
    },
    {
     "data": {
      "text/plain": [
       "<Figure size 3000x2300 with 0 Axes>"
      ]
     },
     "metadata": {},
     "output_type": "display_data"
    },
    {
     "data": {
      "text/plain": [
       "<Figure size 3000x2300 with 0 Axes>"
      ]
     },
     "metadata": {},
     "output_type": "display_data"
    },
    {
     "data": {
      "text/plain": [
       "<Figure size 3000x2300 with 0 Axes>"
      ]
     },
     "metadata": {},
     "output_type": "display_data"
    },
    {
     "data": {
      "text/plain": [
       "<Figure size 3000x2300 with 0 Axes>"
      ]
     },
     "metadata": {},
     "output_type": "display_data"
    },
    {
     "data": {
      "text/plain": [
       "<Figure size 3000x2300 with 0 Axes>"
      ]
     },
     "metadata": {},
     "output_type": "display_data"
    },
    {
     "data": {
      "text/plain": [
       "<Figure size 3000x2300 with 0 Axes>"
      ]
     },
     "metadata": {},
     "output_type": "display_data"
    },
    {
     "data": {
      "text/plain": [
       "<Figure size 3000x2300 with 0 Axes>"
      ]
     },
     "metadata": {},
     "output_type": "display_data"
    },
    {
     "data": {
      "text/plain": [
       "<Figure size 3000x2300 with 0 Axes>"
      ]
     },
     "metadata": {},
     "output_type": "display_data"
    },
    {
     "data": {
      "text/plain": [
       "<Figure size 3000x2300 with 0 Axes>"
      ]
     },
     "metadata": {},
     "output_type": "display_data"
    },
    {
     "data": {
      "text/plain": [
       "<Figure size 3000x2300 with 0 Axes>"
      ]
     },
     "metadata": {},
     "output_type": "display_data"
    },
    {
     "data": {
      "text/plain": [
       "<Figure size 3000x2300 with 0 Axes>"
      ]
     },
     "metadata": {},
     "output_type": "display_data"
    },
    {
     "data": {
      "text/plain": [
       "<Figure size 3000x2300 with 0 Axes>"
      ]
     },
     "metadata": {},
     "output_type": "display_data"
    },
    {
     "data": {
      "text/plain": [
       "<Figure size 3000x2300 with 0 Axes>"
      ]
     },
     "metadata": {},
     "output_type": "display_data"
    },
    {
     "data": {
      "text/plain": [
       "<Figure size 3000x2300 with 0 Axes>"
      ]
     },
     "metadata": {},
     "output_type": "display_data"
    },
    {
     "data": {
      "text/plain": [
       "<Figure size 3000x2300 with 0 Axes>"
      ]
     },
     "metadata": {},
     "output_type": "display_data"
    },
    {
     "data": {
      "text/plain": [
       "<Figure size 3000x2300 with 0 Axes>"
      ]
     },
     "metadata": {},
     "output_type": "display_data"
    },
    {
     "data": {
      "text/plain": [
       "<Figure size 3000x2300 with 0 Axes>"
      ]
     },
     "metadata": {},
     "output_type": "display_data"
    },
    {
     "data": {
      "text/plain": [
       "<Figure size 3000x2300 with 0 Axes>"
      ]
     },
     "metadata": {},
     "output_type": "display_data"
    },
    {
     "data": {
      "text/plain": [
       "<Figure size 3000x2300 with 0 Axes>"
      ]
     },
     "metadata": {},
     "output_type": "display_data"
    },
    {
     "data": {
      "text/plain": [
       "<Figure size 3000x2300 with 0 Axes>"
      ]
     },
     "metadata": {},
     "output_type": "display_data"
    },
    {
     "data": {
      "text/plain": [
       "<Figure size 3000x2300 with 0 Axes>"
      ]
     },
     "metadata": {},
     "output_type": "display_data"
    },
    {
     "data": {
      "text/plain": [
       "<Figure size 3000x2300 with 0 Axes>"
      ]
     },
     "metadata": {},
     "output_type": "display_data"
    },
    {
     "data": {
      "text/plain": [
       "<Figure size 3000x2300 with 0 Axes>"
      ]
     },
     "metadata": {},
     "output_type": "display_data"
    },
    {
     "data": {
      "text/plain": [
       "<Figure size 3000x2300 with 0 Axes>"
      ]
     },
     "metadata": {},
     "output_type": "display_data"
    },
    {
     "data": {
      "text/plain": [
       "<Figure size 3000x2300 with 0 Axes>"
      ]
     },
     "metadata": {},
     "output_type": "display_data"
    },
    {
     "data": {
      "text/plain": [
       "<Figure size 3000x2300 with 0 Axes>"
      ]
     },
     "metadata": {},
     "output_type": "display_data"
    },
    {
     "data": {
      "text/plain": [
       "<Figure size 3000x2300 with 0 Axes>"
      ]
     },
     "metadata": {},
     "output_type": "display_data"
    },
    {
     "data": {
      "text/plain": [
       "<Figure size 3000x2300 with 0 Axes>"
      ]
     },
     "metadata": {},
     "output_type": "display_data"
    },
    {
     "data": {
      "text/plain": [
       "<Figure size 3000x2300 with 0 Axes>"
      ]
     },
     "metadata": {},
     "output_type": "display_data"
    },
    {
     "data": {
      "text/plain": [
       "<Figure size 3000x2300 with 0 Axes>"
      ]
     },
     "metadata": {},
     "output_type": "display_data"
    },
    {
     "data": {
      "text/plain": [
       "<Figure size 3000x2300 with 0 Axes>"
      ]
     },
     "metadata": {},
     "output_type": "display_data"
    },
    {
     "data": {
      "text/plain": [
       "<Figure size 3000x2300 with 0 Axes>"
      ]
     },
     "metadata": {},
     "output_type": "display_data"
    },
    {
     "data": {
      "text/plain": [
       "<Figure size 3000x2300 with 0 Axes>"
      ]
     },
     "metadata": {},
     "output_type": "display_data"
    },
    {
     "data": {
      "text/plain": [
       "<Figure size 3000x2300 with 0 Axes>"
      ]
     },
     "metadata": {},
     "output_type": "display_data"
    },
    {
     "data": {
      "text/plain": [
       "<Figure size 3000x2300 with 0 Axes>"
      ]
     },
     "metadata": {},
     "output_type": "display_data"
    },
    {
     "data": {
      "text/plain": [
       "<Figure size 3000x2300 with 0 Axes>"
      ]
     },
     "metadata": {},
     "output_type": "display_data"
    },
    {
     "data": {
      "text/plain": [
       "<Figure size 3000x2300 with 0 Axes>"
      ]
     },
     "metadata": {},
     "output_type": "display_data"
    },
    {
     "data": {
      "text/plain": [
       "<Figure size 3000x2300 with 0 Axes>"
      ]
     },
     "metadata": {},
     "output_type": "display_data"
    },
    {
     "data": {
      "text/plain": [
       "<Figure size 3000x2300 with 0 Axes>"
      ]
     },
     "metadata": {},
     "output_type": "display_data"
    },
    {
     "data": {
      "text/plain": [
       "<Figure size 3000x2300 with 0 Axes>"
      ]
     },
     "metadata": {},
     "output_type": "display_data"
    },
    {
     "data": {
      "text/plain": [
       "<Figure size 3000x2300 with 0 Axes>"
      ]
     },
     "metadata": {},
     "output_type": "display_data"
    },
    {
     "data": {
      "text/plain": [
       "<Figure size 3000x2300 with 0 Axes>"
      ]
     },
     "metadata": {},
     "output_type": "display_data"
    },
    {
     "data": {
      "text/plain": [
       "<Figure size 3000x2300 with 0 Axes>"
      ]
     },
     "metadata": {},
     "output_type": "display_data"
    },
    {
     "data": {
      "text/plain": [
       "<Figure size 3000x2300 with 0 Axes>"
      ]
     },
     "metadata": {},
     "output_type": "display_data"
    },
    {
     "data": {
      "text/plain": [
       "<Figure size 3000x2300 with 0 Axes>"
      ]
     },
     "metadata": {},
     "output_type": "display_data"
    },
    {
     "data": {
      "text/plain": [
       "<Figure size 3000x2300 with 0 Axes>"
      ]
     },
     "metadata": {},
     "output_type": "display_data"
    },
    {
     "data": {
      "text/plain": [
       "<Figure size 3000x2300 with 0 Axes>"
      ]
     },
     "metadata": {},
     "output_type": "display_data"
    },
    {
     "data": {
      "text/plain": [
       "<Figure size 3000x2300 with 0 Axes>"
      ]
     },
     "metadata": {},
     "output_type": "display_data"
    },
    {
     "data": {
      "text/plain": [
       "<Figure size 3000x2300 with 0 Axes>"
      ]
     },
     "metadata": {},
     "output_type": "display_data"
    },
    {
     "data": {
      "text/plain": [
       "<Figure size 3000x2300 with 0 Axes>"
      ]
     },
     "metadata": {},
     "output_type": "display_data"
    },
    {
     "data": {
      "text/plain": [
       "<Figure size 3000x2300 with 0 Axes>"
      ]
     },
     "metadata": {},
     "output_type": "display_data"
    },
    {
     "data": {
      "text/plain": [
       "<Figure size 3000x2300 with 0 Axes>"
      ]
     },
     "metadata": {},
     "output_type": "display_data"
    },
    {
     "data": {
      "text/plain": [
       "<Figure size 3000x2300 with 0 Axes>"
      ]
     },
     "metadata": {},
     "output_type": "display_data"
    },
    {
     "data": {
      "text/plain": [
       "<Figure size 3000x2300 with 0 Axes>"
      ]
     },
     "metadata": {},
     "output_type": "display_data"
    },
    {
     "data": {
      "text/plain": [
       "<Figure size 3000x2300 with 0 Axes>"
      ]
     },
     "metadata": {},
     "output_type": "display_data"
    },
    {
     "data": {
      "text/plain": [
       "<Figure size 3000x2300 with 0 Axes>"
      ]
     },
     "metadata": {},
     "output_type": "display_data"
    },
    {
     "data": {
      "text/plain": [
       "<Figure size 3000x2300 with 0 Axes>"
      ]
     },
     "metadata": {},
     "output_type": "display_data"
    },
    {
     "data": {
      "text/plain": [
       "<Figure size 3000x2300 with 0 Axes>"
      ]
     },
     "metadata": {},
     "output_type": "display_data"
    },
    {
     "data": {
      "text/plain": [
       "<Figure size 3000x2300 with 0 Axes>"
      ]
     },
     "metadata": {},
     "output_type": "display_data"
    },
    {
     "data": {
      "text/plain": [
       "<Figure size 3000x2300 with 0 Axes>"
      ]
     },
     "metadata": {},
     "output_type": "display_data"
    },
    {
     "data": {
      "text/plain": [
       "<Figure size 3000x2300 with 0 Axes>"
      ]
     },
     "metadata": {},
     "output_type": "display_data"
    },
    {
     "data": {
      "text/plain": [
       "<Figure size 3000x2300 with 0 Axes>"
      ]
     },
     "metadata": {},
     "output_type": "display_data"
    },
    {
     "data": {
      "text/plain": [
       "<Figure size 3000x2300 with 0 Axes>"
      ]
     },
     "metadata": {},
     "output_type": "display_data"
    },
    {
     "data": {
      "text/plain": [
       "<Figure size 3000x2300 with 0 Axes>"
      ]
     },
     "metadata": {},
     "output_type": "display_data"
    },
    {
     "data": {
      "text/plain": [
       "<Figure size 3000x2300 with 0 Axes>"
      ]
     },
     "metadata": {},
     "output_type": "display_data"
    },
    {
     "data": {
      "text/plain": [
       "<Figure size 3000x2300 with 0 Axes>"
      ]
     },
     "metadata": {},
     "output_type": "display_data"
    },
    {
     "data": {
      "text/plain": [
       "<Figure size 3000x2300 with 0 Axes>"
      ]
     },
     "metadata": {},
     "output_type": "display_data"
    },
    {
     "data": {
      "text/plain": [
       "<Figure size 3000x2300 with 0 Axes>"
      ]
     },
     "metadata": {},
     "output_type": "display_data"
    },
    {
     "data": {
      "text/plain": [
       "<Figure size 3000x2300 with 0 Axes>"
      ]
     },
     "metadata": {},
     "output_type": "display_data"
    },
    {
     "data": {
      "text/plain": [
       "<Figure size 3000x2300 with 0 Axes>"
      ]
     },
     "metadata": {},
     "output_type": "display_data"
    },
    {
     "data": {
      "text/plain": [
       "<Figure size 3000x2300 with 0 Axes>"
      ]
     },
     "metadata": {},
     "output_type": "display_data"
    },
    {
     "data": {
      "text/plain": [
       "<Figure size 3000x2300 with 0 Axes>"
      ]
     },
     "metadata": {},
     "output_type": "display_data"
    },
    {
     "data": {
      "text/plain": [
       "<Figure size 3000x2300 with 0 Axes>"
      ]
     },
     "metadata": {},
     "output_type": "display_data"
    },
    {
     "data": {
      "text/plain": [
       "<Figure size 3000x2300 with 0 Axes>"
      ]
     },
     "metadata": {},
     "output_type": "display_data"
    },
    {
     "data": {
      "text/plain": [
       "<Figure size 3000x2300 with 0 Axes>"
      ]
     },
     "metadata": {},
     "output_type": "display_data"
    },
    {
     "data": {
      "text/plain": [
       "<Figure size 3000x2300 with 0 Axes>"
      ]
     },
     "metadata": {},
     "output_type": "display_data"
    },
    {
     "data": {
      "text/plain": [
       "<Figure size 3000x2300 with 0 Axes>"
      ]
     },
     "metadata": {},
     "output_type": "display_data"
    },
    {
     "data": {
      "text/plain": [
       "<Figure size 3000x2300 with 0 Axes>"
      ]
     },
     "metadata": {},
     "output_type": "display_data"
    },
    {
     "data": {
      "text/plain": [
       "<Figure size 3000x2300 with 0 Axes>"
      ]
     },
     "metadata": {},
     "output_type": "display_data"
    },
    {
     "data": {
      "text/plain": [
       "<Figure size 3000x2300 with 0 Axes>"
      ]
     },
     "metadata": {},
     "output_type": "display_data"
    },
    {
     "data": {
      "text/plain": [
       "<Figure size 3000x2300 with 0 Axes>"
      ]
     },
     "metadata": {},
     "output_type": "display_data"
    },
    {
     "data": {
      "text/plain": [
       "<Figure size 3000x2300 with 0 Axes>"
      ]
     },
     "metadata": {},
     "output_type": "display_data"
    },
    {
     "data": {
      "text/plain": [
       "<Figure size 3000x2300 with 0 Axes>"
      ]
     },
     "metadata": {},
     "output_type": "display_data"
    },
    {
     "data": {
      "text/plain": [
       "<Figure size 3000x2300 with 0 Axes>"
      ]
     },
     "metadata": {},
     "output_type": "display_data"
    },
    {
     "data": {
      "text/plain": [
       "<Figure size 3000x2300 with 0 Axes>"
      ]
     },
     "metadata": {},
     "output_type": "display_data"
    },
    {
     "data": {
      "text/plain": [
       "<Figure size 3000x2300 with 0 Axes>"
      ]
     },
     "metadata": {},
     "output_type": "display_data"
    },
    {
     "data": {
      "text/plain": [
       "<Figure size 3000x2300 with 0 Axes>"
      ]
     },
     "metadata": {},
     "output_type": "display_data"
    },
    {
     "data": {
      "text/plain": [
       "<Figure size 3000x2300 with 0 Axes>"
      ]
     },
     "metadata": {},
     "output_type": "display_data"
    },
    {
     "data": {
      "text/plain": [
       "<Figure size 3000x2300 with 0 Axes>"
      ]
     },
     "metadata": {},
     "output_type": "display_data"
    },
    {
     "data": {
      "text/plain": [
       "<Figure size 3000x2300 with 0 Axes>"
      ]
     },
     "metadata": {},
     "output_type": "display_data"
    },
    {
     "data": {
      "text/plain": [
       "<Figure size 3000x2300 with 0 Axes>"
      ]
     },
     "metadata": {},
     "output_type": "display_data"
    },
    {
     "data": {
      "text/plain": [
       "<Figure size 3000x2300 with 0 Axes>"
      ]
     },
     "metadata": {},
     "output_type": "display_data"
    },
    {
     "data": {
      "text/plain": [
       "<Figure size 3000x2300 with 0 Axes>"
      ]
     },
     "metadata": {},
     "output_type": "display_data"
    },
    {
     "data": {
      "text/plain": [
       "<Figure size 3000x2300 with 0 Axes>"
      ]
     },
     "metadata": {},
     "output_type": "display_data"
    },
    {
     "data": {
      "text/plain": [
       "<Figure size 3000x2300 with 0 Axes>"
      ]
     },
     "metadata": {},
     "output_type": "display_data"
    },
    {
     "data": {
      "text/plain": [
       "<Figure size 3000x2300 with 0 Axes>"
      ]
     },
     "metadata": {},
     "output_type": "display_data"
    },
    {
     "data": {
      "text/plain": [
       "<Figure size 3000x2300 with 0 Axes>"
      ]
     },
     "metadata": {},
     "output_type": "display_data"
    },
    {
     "data": {
      "text/plain": [
       "<Figure size 3000x2300 with 0 Axes>"
      ]
     },
     "metadata": {},
     "output_type": "display_data"
    },
    {
     "data": {
      "text/plain": [
       "<Figure size 3000x2300 with 0 Axes>"
      ]
     },
     "metadata": {},
     "output_type": "display_data"
    },
    {
     "data": {
      "text/plain": [
       "<Figure size 3000x2300 with 0 Axes>"
      ]
     },
     "metadata": {},
     "output_type": "display_data"
    },
    {
     "data": {
      "text/plain": [
       "<Figure size 3000x2300 with 0 Axes>"
      ]
     },
     "metadata": {},
     "output_type": "display_data"
    },
    {
     "data": {
      "text/plain": [
       "<Figure size 3000x2300 with 0 Axes>"
      ]
     },
     "metadata": {},
     "output_type": "display_data"
    },
    {
     "data": {
      "text/plain": [
       "<Figure size 3000x2300 with 0 Axes>"
      ]
     },
     "metadata": {},
     "output_type": "display_data"
    },
    {
     "data": {
      "text/plain": [
       "<Figure size 3000x2300 with 0 Axes>"
      ]
     },
     "metadata": {},
     "output_type": "display_data"
    },
    {
     "data": {
      "text/plain": [
       "<Figure size 3000x2300 with 0 Axes>"
      ]
     },
     "metadata": {},
     "output_type": "display_data"
    },
    {
     "data": {
      "text/plain": [
       "<Figure size 3000x2300 with 0 Axes>"
      ]
     },
     "metadata": {},
     "output_type": "display_data"
    },
    {
     "data": {
      "text/plain": [
       "<Figure size 3000x2300 with 0 Axes>"
      ]
     },
     "metadata": {},
     "output_type": "display_data"
    },
    {
     "data": {
      "text/plain": [
       "<Figure size 3000x2300 with 0 Axes>"
      ]
     },
     "metadata": {},
     "output_type": "display_data"
    },
    {
     "data": {
      "text/plain": [
       "<Figure size 3000x2300 with 0 Axes>"
      ]
     },
     "metadata": {},
     "output_type": "display_data"
    },
    {
     "data": {
      "text/plain": [
       "<Figure size 3000x2300 with 0 Axes>"
      ]
     },
     "metadata": {},
     "output_type": "display_data"
    },
    {
     "data": {
      "text/plain": [
       "<Figure size 3000x2300 with 0 Axes>"
      ]
     },
     "metadata": {},
     "output_type": "display_data"
    },
    {
     "data": {
      "text/plain": [
       "<Figure size 3000x2300 with 0 Axes>"
      ]
     },
     "metadata": {},
     "output_type": "display_data"
    },
    {
     "data": {
      "text/plain": [
       "<Figure size 3000x2300 with 0 Axes>"
      ]
     },
     "metadata": {},
     "output_type": "display_data"
    },
    {
     "data": {
      "text/plain": [
       "<Figure size 3000x2300 with 0 Axes>"
      ]
     },
     "metadata": {},
     "output_type": "display_data"
    },
    {
     "data": {
      "text/plain": [
       "<Figure size 3000x2300 with 0 Axes>"
      ]
     },
     "metadata": {},
     "output_type": "display_data"
    },
    {
     "data": {
      "text/plain": [
       "<Figure size 3000x2300 with 0 Axes>"
      ]
     },
     "metadata": {},
     "output_type": "display_data"
    },
    {
     "data": {
      "text/plain": [
       "<Figure size 3000x2300 with 0 Axes>"
      ]
     },
     "metadata": {},
     "output_type": "display_data"
    }
   ],
   "source": [
    "listOfDatasets = []\n",
    "rs_star        = np.linspace(0, 15, 61)\n",
    "rs             = np.linspace(10, 8e5, 800)\n",
    "\n",
    "for i, _ in tqdm(enumerate(ds_col.i)):\n",
    "    # Open files\n",
    "    dsc          = ds_col.isel(i=i)\n",
    "    sar_pth      = dsc.sar_pth.item()\n",
    "    rad_pth      = dsc.rad_pth.item()\n",
    "    ds_sar       = xr.open_dataset(sar_pth).isel(time=0)\n",
    "    ds_rad       = xr.open_dataset(rad_pth)\n",
    "    ds_rad_car   = xr.open_dataset('/'.join(rad_pth.split('/')[:7]) + '/CARTESIAN/' + '/'.join(rad_pth.split('/')[-3:-1]) + '/CAR' + rad_pth.split('/')[-1][3:])\n",
    "    \n",
    "    # Assign asymmetries\n",
    "    std_prof_sar = (ds_sar.wind_speed / ds_sar.wind_speed.max(dim=['theta'])).std(dim='theta', skipna=True)\n",
    "    std_prof_rad = (ds_rad.wind_speed / ds_rad.wind_speed.max(dim=['theta'])).std(dim='theta', skipna=True)\n",
    "    \n",
    "    # Title\n",
    "    strm_info = '{}, {}'.format(ds_sar.attrs['Storm name'], ds_sar.attrs['Storm ID'].upper())\n",
    "    title     = strm_info + '\\nSAR: {}\\n{}: {}'.format('/'.join(sar_pth.split('/')[-2:]), dsc.rad_mission.item().upper(), '/'.join(rad_pth.split('/')[-5:]))\n",
    "    fig, axs  = plt.subplots(nrows=2, ncols=2, figsize=(30, 23))\n",
    "    fig.suptitle(title)\n",
    "\n",
    "    # Prepare colorbar\n",
    "    cmap       = plt.get_cmap('jet')\n",
    "    normalizer = Normalize(0, max(np.nanmax(ds_sar['wind_speed']), np.nanmax(ds_rad_car['wind_speed'])))\n",
    "\n",
    "    # 1) SAR\n",
    "    ax = axs[0, 0]\n",
    "    ax.set_title('SAR', fontsize=16, weight='bold')\n",
    "    y_sar, x_sar = pol2cart(ds_sar['rad'], np.deg2rad(ds_sar['theta']))\n",
    "    im = ax.pcolormesh(x_sar / 1000, y_sar / 1000, ds_sar['wind_speed'], cmap=cmap, norm=normalizer)\n",
    "    ax.set_xlabel('x (km)');ax.set_ylabel('y (km)');ax.grid()\n",
    "\n",
    "    x_lim = int(np.nanmax(x_sar.where(~np.isnan(ds_sar['wind_speed']))) / 1000)\n",
    "    y_lim = int(np.nanmax(y_sar.where(~np.isnan(ds_sar['wind_speed']))) / 1000)\n",
    "    limit = np.max((x_lim, y_lim))\n",
    "    ax.set_xlim(-limit, limit);ax.set_ylim(-limit, limit)\n",
    "\n",
    "    # 2) RAD\n",
    "    ax = axs[0, 1]\n",
    "    ax.set_title('{}'.format(dsc.rad_mission.item().upper()), fontsize=16, weight='bold')\n",
    "    x_rad, y_rad = np.meshgrid(ds_rad_car.x, ds_rad_car.y)\n",
    "    ax.pcolormesh(x_rad / 1000, y_rad / 1000, ds_rad_car['wind_speed'], cmap=cmap, norm=normalizer)\n",
    "    ax.set_xlabel('x (km)');ax.set_ylabel('y (km)');ax.grid()\n",
    "    ax.set_xlim(-limit, limit);ax.set_ylim(-limit, limit)\n",
    "\n",
    "    # Colorbar\n",
    "    fig.subplots_adjust(right=0.8)\n",
    "    cbar_ax = fig.add_axes([0.81, 0.53, 0.02, 0.35])\n",
    "    cbar    = fig.colorbar(im, cax=cbar_ax)\n",
    "    cbar.set_label('Wind speed (m/s)', rotation=270, fontsize=16)\n",
    "    cbar.ax.get_yaxis().labelpad=20\n",
    "\n",
    "    # 3) WIND SPEED PROFILES\n",
    "    gs = ax.get_gridspec()\n",
    "    axs[1, 0].remove(), axs[1, 1].remove()\n",
    "    ax = fig.add_subplot(gs[1, :])\n",
    "    # SAR\n",
    "    ax.plot(std_prof_sar.rad / 1000, std_prof_sar, c='k', linewidth=3, label='SAR')\n",
    "    # RAD\n",
    "    ax.plot(std_prof_rad.rad, std_prof_rad, c='tab:blue', linewidth=3, label='{}'.format(dsc.rad_mission.item().upper()))\n",
    "    # Validity of RAD\n",
    "    valids = ds_rad.where(ds_rad.wind_speed.notnull().sum(dim='theta') > 200, drop=True)\n",
    "    if len(valids.rad) > 2:\n",
    "        ax.axvspan(valids.rad[0], valids.rad[-1], facecolor='tab:green', alpha=0.2, label='Valid area')\n",
    "        \n",
    "        \n",
    "    ### KEPERT MODEL BASED ON SAR AND PLOT\n",
    "    dss     = dsg_sar.where(dsg_sar.sat_pth == sar_pth, drop=True).isel(time=0)\n",
    "    # Willoughby version\n",
    "    n_sar   = float(dss.n_will)\n",
    "    X1_sar  = float(dss.X1_will)\n",
    "    vmn_sar = float(dss.Vmin_will)\n",
    "    rmx_sar = float(dss.Rmax_will)\n",
    "    vmx_sar = float(dss.Vmax_will)\n",
    "    lat_sar = float(abs(dss.lat_center))\n",
    "    Ut_sar  = float(dss.cyclone_speed)\n",
    "    V_tot, Xs, Ys = get_V_tot_BL_will(n_sar, X1_sar, vmn_sar, rmx_sar, vmx_sar, lat_sar, Ut_sar)    \n",
    "    B_sar   = float(dss.B_hol)\n",
    "    \n",
    "    # Asymmetries\n",
    "    std_prof_k01 = std_prof(V_tot)\n",
    "    ax.plot(rs / 1000, std_prof_k01, c='tab:green', linewidth=3, label='Model - K01')\n",
    "    ax.set_xlim(0, 800)\n",
    "    \n",
    "    # Axes, legend\n",
    "    ax.set_xlabel('r (km)');ax.set_ylabel('Asymmetry');ax.grid();ax.legend()\n",
    "    \n",
    "    # Save\n",
    "    # plt.show()\n",
    "    # plt.savefig(PTHS['sav_dir'] + '{0:03}'.format(i) + '_{}_{}_{}'.format(ds_sar.attrs['Storm name'], ds_sar.attrs['Storm ID'].upper(), os.path.basename(sar_pth)[:-3]));plt.clf()\n",
    "    plt.clf()\n",
    "    \n",
    "    # Compute error of model\n",
    "    if len(valids.rad) > 2:\n",
    "        if (ds_sar.wind_speed.sel(rad=slice(0, 100000)).notnull().sum() > 25000) and (valids.rad[-1] > 200): # possible points: 101 * 360 = 36360\n",
    "            # print('ok')\n",
    "            ds_itp = xr.Dataset(\n",
    "                data_vars={\n",
    "                    'std_prof_rad': std_prof_rad.interp({'rad': rs / 1000}),\n",
    "                }\n",
    "            )\n",
    "            ds_itp['std_prof_k01'] = ('rad', std_prof_k01)\n",
    "            ds_itp_val = ds_itp.sel(rad=slice(200, valids.rad[-1]))\n",
    "\n",
    "            dss['asym_mean_bias'] = (ds_itp_val['std_prof_rad'] - ds_itp_val['std_prof_k01']).mean(dim='rad', skipna=True)\n",
    "            \n",
    "            # Also add radiometer and model uncertainties\n",
    "            dss['asym_rad'] = xr.DataArray(\n",
    "                data=np.array(std_prof_rad.interp({'rad': rs / 1000})),\n",
    "                coords={'rad_asym': rs}\n",
    "            )\n",
    "            dss.asym_rad[:int(valids.rad[0])]  = np.nan\n",
    "            dss.asym_rad[int(valids.rad[-1]):] = np.nan\n",
    "            dss['asym_k01'] = ('rad_asym', std_prof_k01)\n",
    "            \n",
    "            \n",
    "            listOfDatasets.append(dss)\n",
    "\n",
    "\n",
    "#     if ~np.isnan(dss.Rmax_1D):\n",
    "#         # Radiometer asymmetry must be valid\n",
    "#         valids_rad = ds_rad.where(ds_rad.wind_speed.notnull().sum(dim='theta') > 200) # Possible points: 361 (= range of thetas vector)\n",
    "#         if (len(valids_rad.rad) > 2) and (valids_rad.rad[-1] > 200): # Requires that radiometer is valid at least up to 200 km\n",
    "#             msk_rad               = np.isnan(valids_rad.lat_IBT)\n",
    "#             std_prof_rad[msk_rad] = np.nan\n",
    "            \n",
    "#             # SAR asymmetry must be valid\n",
    "#             valids_sar = ds_sar.where(ds_sar.wind_speed.notnull().sum(dim='theta') > 200)\n",
    "#             if (len(valids_sar.rad) > 2):\n",
    "#                 msk_sar = np.isnan(valids_sar.wind_speed.mean(dim='theta'))\n",
    "#                 std_prof_sar[msk_sar] = np.nan\n",
    "                \n",
    "#                 # Then inner-core of SAR must be valid, to compute Rmax and B properly\n",
    "#                 if (ds_sar.wind_speed.sel(rad=slice(0, 100000)).notnull().sum() > 25000): # Possible points: 101 * 360 = 36360\n",
    "\n",
    "#                     # Normalize r-axis\n",
    "#                     std_prof_sar['rad'] = std_prof_sar.rad / 1000 / dss.Rmax_1D # Convert SAR from meters to km, then normalize by Rmax\n",
    "#                     std_prof_rad['rad'] = std_prof_rad.rad / dss.Rmax_1D        # RAD is already in km, so we only normalize by Rmax\n",
    "\n",
    "#                     # SAR\n",
    "#                     dss['asym_sar'] = xr.DataArray(\n",
    "#                         data=np.array(std_prof_sar.interp({'rad': rs_star})),\n",
    "#                         coords={'rad_asym': rs_star}\n",
    "#                     )\n",
    "#                     # RAD\n",
    "#                     dss['asym_rad'] = xr.DataArray(\n",
    "#                         data=np.array(std_prof_rad.interp({'rad': rs_star})),\n",
    "#                         coords={'rad_asym': rs_star}\n",
    "#                     )           \n",
    "\n",
    "#                     listOfDatasets.append(dss)\n",
    "                    \n",
    "print('Concatenating all datasets into ds_glob. Can take a few seconds...')\n",
    "dsg = xr.concat(listOfDatasets, dim='time') # Concatenate all datasets into a global dataset\n",
    "print('Concatenation ended.')"
   ]
  },
  {
   "cell_type": "code",
   "execution_count": 11,
   "metadata": {},
   "outputs": [],
   "source": [
    "# Save\n",
    "# dsg.to_netcdf(PTHS['sav_dir'] + 'dsg.nc')\n",
    "# Open\n",
    "# dsg = xr.open_dataset(PTHS['sav_dir'] + 'dsg.nc')"
   ]
  },
  {
   "cell_type": "code",
   "execution_count": null,
   "metadata": {},
   "outputs": [],
   "source": []
  },
  {
   "cell_type": "code",
   "execution_count": 12,
   "metadata": {},
   "outputs": [
    {
     "data": {
      "text/plain": [
       "(0.5, 1.0)"
      ]
     },
     "execution_count": 12,
     "metadata": {},
     "output_type": "execute_result"
    },
    {
     "data": {
      "image/png": "[encoded data removed]",
      "text/plain": [
       "<Figure size 1500x1000 with 2 Axes>"
      ]
     },
     "metadata": {},
     "output_type": "display_data"
    }
   ],
   "source": [
    "d = dsg.where(abs(dsg.lat_center) < 30, drop=True)\n",
    "# d = d.where(d.Vmax_1D >= 20, drop=True)\n",
    "# d = d.where(d.distance_to_coast > 200000, drop=True)\n",
    "# d = d.where(d.Rmax_1D < 50, drop=True)\n",
    "# d = d.where(d.cyclone_speed >= 4, drop=True)\n",
    "\n",
    "d_hgh = d.where(d.B_hol > 2.2).dropna(dim='time', how='all')\n",
    "d_low = d.where(d.B_hol < 1.8).dropna(dim='time', how='all')\n",
    "\n",
    "plt.title('RAD asymmetry', weight='bold')\n",
    "\n",
    "# Asymmetries\n",
    "plt.plot(d.rad_asym, d_hgh.asym_rad.mean(dim='time', skipna=True), c='tab:red',     label='High B, #{}'.format(len(d_hgh.time)))\n",
    "plt.plot(d.rad_asym, d_hgh.asym_k01.mean(dim='time', skipna=True), c='tab:red',     alpha=0.3)\n",
    "plt.plot(d.rad_asym, d_hgh.asym_k01.mean(dim='time', skipna=True), c='tab:green',   linestyle=(0, (5, 5)))\n",
    "plt.plot(d.rad_asym, d_low.asym_rad.mean(dim='time', skipna=True), c='tab:blue',    label='Low B, #{}'.format(len(d_low.time)))\n",
    "plt.plot(d.rad_asym, d_low.asym_k01.mean(dim='time', skipna=True), c='tab:blue',    alpha=0.3)\n",
    "plt.plot(d.rad_asym, d_low.asym_k01.mean(dim='time', skipna=True), c='tab:green',   linestyle=(0, (5, 5)))\n",
    "plt.axvline(1, alpha=0.2, c='k')\n",
    "plt.xlabel('r (km)');plt.ylabel('Asymmetry')\n",
    "plt.grid();plt.legend()\n",
    "\n",
    "# Frequencies\n",
    "ax  = plt.gca()    # Get current axis\n",
    "ax2 = ax.twinx()   # Make twin axis based on x\n",
    "ax2.plot(d.rad_asym, d_hgh.asym_rad.notnull().sum(dim='time') / len(d_hgh.time), c='tab:red', linestyle='--', alpha=0.2)\n",
    "ax2.plot(d.rad_asym, d_low.asym_rad.notnull().sum(dim='time') / len(d_low.time), c='tab:blue', linestyle='--', alpha=0.2)\n",
    "ax2.set_ylabel('Frequencies');ax2.set_ylim(0.5, 1)"
   ]
  },
  {
   "cell_type": "code",
   "execution_count": null,
   "metadata": {},
   "outputs": [],
   "source": []
  },
  {
   "cell_type": "code",
   "execution_count": null,
   "metadata": {},
   "outputs": [],
   "source": []
  },
  {
   "cell_type": "code",
   "execution_count": null,
   "metadata": {},
   "outputs": [],
   "source": []
  },
  {
   "cell_type": "code",
   "execution_count": null,
   "metadata": {},
   "outputs": [],
   "source": []
  },
  {
   "cell_type": "code",
   "execution_count": null,
   "metadata": {},
   "outputs": [],
   "source": []
  },
  {
   "cell_type": "code",
   "execution_count": null,
   "metadata": {},
   "outputs": [],
   "source": []
  },
  {
   "cell_type": "code",
   "execution_count": null,
   "metadata": {},
   "outputs": [],
   "source": []
  },
  {
   "cell_type": "code",
   "execution_count": 13,
   "metadata": {},
   "outputs": [
    {
     "data": {
      "application/vnd.jupyter.widget-view+json": {
       "model_id": "723cd50085014a3a902eea16d76c0c4e",
       "version_major": 2,
       "version_minor": 0
      },
      "text/plain": [
       "  0%|          | 0/200 [00:00<?, ?it/s]"
      ]
     },
     "metadata": {},
     "output_type": "display_data"
    }
   ],
   "source": [
    "dsg['asym_mx'] = xr.DataArray(\n",
    "    data=np.ones_like(dsg.Rmax_1D) * np.nan, \n",
    "    coords={'time': dsg.time}\n",
    ")\n",
    "\n",
    "for t in tqdm(range(len(dsg.time))):\n",
    "    if ~np.isnan(dsg.isel(time=t).Rmax_1D):\n",
    "        rmx = int(dsg.isel(time=t).Rmax_1D) * 1000\n",
    "        dsg['asym_mx'][t] = dsg.isel(time=t).sel(rad_asym=slice(0, 150000)).asym_rad.max()"
   ]
  },
  {
   "cell_type": "code",
   "execution_count": 14,
   "metadata": {},
   "outputs": [
    {
     "data": {
      "text/plain": [
       "Text(0, 0.5, 'Asym. at Rmax / Asym. at 300km')"
      ]
     },
     "execution_count": 14,
     "metadata": {},
     "output_type": "execute_result"
    },
    {
     "data": {
      "image/png": "[encoded data removed]",
      "text/plain": [
       "<Figure size 1500x1000 with 2 Axes>"
      ]
     },
     "metadata": {},
     "output_type": "display_data"
    }
   ],
   "source": [
    "d = dsg.where(abs(dsg.lat_center) < 30, drop=True)\n",
    "d = d.where(d.Vmax_1D >= 20, drop=True)\n",
    "d = d.where(d.distance_to_coast > 200000, drop=True)\n",
    "d = d.where(d.Rmax_1D < 50, drop=True)\n",
    "\n",
    "d = d.where(abs(d.Vmax_dot_smth_IBT) < 0.3, drop=True)\n",
    "\n",
    "plt.title('Asymmetry colored by Holland B', weight='bold')\n",
    "plt.scatter(d.cyclone_speed, d.sel(rad_asym=300000, method='nearest').asym_rad / d.asym_mx, c=d.B_hol, cmap=cm.get_cmap('coolwarm', 3), vmin=1.2, vmax=2.8);plt.grid();plt.colorbar()\n",
    "plt.xlabel('Vtrans (m/s)');plt.ylabel('Asym. at Rmax / Asym. at 300km')"
   ]
  },
  {
   "cell_type": "code",
   "execution_count": 15,
   "metadata": {},
   "outputs": [
    {
     "data": {
      "text/plain": [
       "Text(0, 0.5, 'Asym. at Rmax / Asym. at 300km')"
      ]
     },
     "execution_count": 15,
     "metadata": {},
     "output_type": "execute_result"
    },
    {
     "data": {
      "image/png": "[encoded data removed]",
      "text/plain": [
       "<Figure size 1500x1000 with 2 Axes>"
      ]
     },
     "metadata": {},
     "output_type": "display_data"
    }
   ],
   "source": [
    "d = dsg.where(abs(dsg.lat_center) < 30, drop=True)\n",
    "d = d.where(d.Vmax_1D >= 20, drop=True)\n",
    "d = d.where(d.distance_to_coast > 200000, drop=True)\n",
    "d = d.where(d.Rmax_1D < 50, drop=True)\n",
    "\n",
    "# d = d.where(abs(d.Vmax_dot_smth_IBT) < 0.3, drop=True)\n",
    "\n",
    "plt.title('Asymmetry colored by Holland B', weight='bold')\n",
    "plt.scatter(d.B_hol, d.sel(rad_asym=300000, method='nearest').asym_rad / d.sel(rad_asym=80000, method='nearest').asym_rad, c=coriolis(abs(d.lat_center)) * d.Rmax_1D * 1000, cmap=cm.get_cmap('coolwarm', 3));plt.grid();plt.colorbar()\n",
    "plt.xlabel('Holland B');plt.ylabel('Asym. at Rmax / Asym. at 300km')"
   ]
  },
  {
   "cell_type": "code",
   "execution_count": null,
   "metadata": {},
   "outputs": [],
   "source": []
  },
  {
   "cell_type": "code",
   "execution_count": null,
   "metadata": {},
   "outputs": [],
   "source": []
  },
  {
   "cell_type": "code",
   "execution_count": 16,
   "metadata": {},
   "outputs": [
    {
     "name": "stdout",
     "output_type": "stream",
     "text": [
      "Before LMI, B = 1.94\n",
      "After  LMI, B = 2.06\n"
     ]
    }
   ],
   "source": [
    "print('Before LMI, B = {:.2f}'.format(dsg.where(dsg.hrs_since_lmi < -10, drop=True).B_hol.mean(dim='time', skipna=True)))\n",
    "print('After  LMI, B = {:.2f}'.format(dsg.where(dsg.hrs_since_lmi > 10, drop=True).B_hol.mean(dim='time', skipna=True)))"
   ]
  },
  {
   "cell_type": "code",
   "execution_count": null,
   "metadata": {},
   "outputs": [],
   "source": []
  },
  {
   "cell_type": "code",
   "execution_count": null,
   "metadata": {},
   "outputs": [],
   "source": []
  },
  {
   "cell_type": "code",
   "execution_count": 17,
   "metadata": {},
   "outputs": [
    {
     "data": {
      "text/plain": [
       "(array([24., 38., 47., 40., 20., 15.,  5.,  7.,  3.,  1.]),\n",
       " array([ 70. , 108.2, 146.4, 184.6, 222.8, 261. , 299.2, 337.4, 375.6,\n",
       "        413.8, 452. ]),\n",
       " <BarContainer object of 10 artists>)"
      ]
     },
     "execution_count": 17,
     "metadata": {},
     "output_type": "execute_result"
    },
    {
     "data": {
      "image/png": "[encoded data removed]",
      "text/plain": [
       "<Figure size 1500x1000 with 1 Axes>"
      ]
     },
     "metadata": {},
     "output_type": "display_data"
    }
   ],
   "source": [
    "plt.hist(dsg.rw0)"
   ]
  },
  {
   "cell_type": "code",
   "execution_count": null,
   "metadata": {},
   "outputs": [],
   "source": []
  },
  {
   "cell_type": "code",
   "execution_count": null,
   "metadata": {},
   "outputs": [],
   "source": []
  },
  {
   "cell_type": "code",
   "execution_count": null,
   "metadata": {},
   "outputs": [],
   "source": []
  },
  {
   "cell_type": "code",
   "execution_count": null,
   "metadata": {},
   "outputs": [],
   "source": []
  }
 ],
 "metadata": {
  "kernelspec": {
   "display_name": "paramProfiles",
   "language": "python",
   "name": "paramprofiles"
  },
  "language_info": {
   "codemirror_mode": {
    "name": "ipython",
    "version": 3
   },
   "file_extension": ".py",
   "mimetype": "text/x-python",
   "name": "python",
   "nbconvert_exporter": "python",
   "pygments_lexer": "ipython3",
   "version": "3.8.15"
  }
 },
 "nbformat": 4,
 "nbformat_minor": 4
}
