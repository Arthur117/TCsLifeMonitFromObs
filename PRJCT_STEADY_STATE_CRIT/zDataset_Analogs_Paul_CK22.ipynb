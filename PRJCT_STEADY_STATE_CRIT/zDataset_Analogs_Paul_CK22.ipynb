{
 "cells": [
  {
   "cell_type": "markdown",
   "metadata": {},
   "source": [
    "## Dataset for work with Paul on analogs"
   ]
  },
  {
   "cell_type": "code",
   "execution_count": 1,
   "metadata": {
    "tags": []
   },
   "outputs": [],
   "source": [
    "import sys,os\n",
    "sys.path.append('../')\n",
    "\n",
    "# General\n",
    "import glob\n",
    "import os.path\n",
    "import warnings\n",
    "warnings.filterwarnings('ignore')\n",
    "from tqdm import tqdm\n",
    "\n",
    "# Arrays & Displays\n",
    "import xarray as xr\n",
    "import numpy as np\n",
    "import matplotlib as mpl\n",
    "import matplotlib.pyplot as plt\n",
    "from mpl_toolkits.axes_grid1 import make_axes_locatable\n",
    "# from matplotlib.colors import Normalize\n",
    "# from matplotlib.colors import ListedColormap\n",
    "import matplotlib.cm as cm\n",
    "import pandas as pd\n",
    "\n",
    "# Data treatment\n",
    "import dask as da\n",
    "from dask.diagnostics import ProgressBar\n",
    "import zarr\n",
    "from scipy.interpolate import griddata\n",
    "from scipy.signal import convolve2d\n",
    "from datetime import datetime\n",
    "\n",
    "# Custom\n",
    "import functions as f\n",
    "# import plotUtils as pu\n",
    "\n",
    "# Default parameters\n",
    "mpl.rcParams.update({'font.size': 18})\n",
    "mpl.rcParams['figure.figsize'] = (15, 10)\n",
    "mpl.rcParams['axes.facecolor'] = 'white'\n",
    "mpl.rcParams['figure.facecolor'] = 'white'"
   ]
  },
  {
   "cell_type": "code",
   "execution_count": 2,
   "metadata": {},
   "outputs": [
    {
     "name": "stdout",
     "output_type": "stream",
     "text": [
      "Total number of files: 335\n"
     ]
    }
   ],
   "source": [
    "PRMS = {\n",
    "    'n':                5, # R+ is defined as omega(R+) = n * f\n",
    "    'save_figs':        False,\n",
    "}\n",
    "\n",
    "PTHS = {\n",
    "    'data_dir':         '/home/arthur/data/cyclobs/centered_rotated_files_31012022/',\n",
    "    'dsg_pth':          '/home/arthur/data/cyclobs/SAR_compilations_in_nc/SAR_centered_rotated_files_13052022_with_extra_params.nc',\n",
    "    'dsg2_pth':         '/home/arthur/data/cyclobs/SAR_compilations_in_nc/SAR_centered_rotated_files_17102022_with_extra_params.nc',\n",
    "    'save_dir':         '/home/arthur/results/TCsLifeMonitFromObs/PRJCT_STEADY_STATE_CRIT/03_CHARAC_RADIUS/',\n",
    "}\n",
    "\n",
    "### OPEN DATA\n",
    "all_data = glob.glob(PTHS['data_dir'] + \"*.nc\")\n",
    "print(\"Total number of files:\", len(all_data))"
   ]
  },
  {
   "cell_type": "code",
   "execution_count": 3,
   "metadata": {},
   "outputs": [],
   "source": [
    "dsg = xr.open_dataset(PTHS['dsg_pth'])\n",
    "\n",
    "### Add intensification parameters\n",
    "dsg2 = xr.open_dataset(PTHS['dsg2_pth'])\n",
    "dsg['Vmax_dot_smth_IBT'] = xr.DataArray(\n",
    "    data=np.array(dsg2['Vmax_dot_smth_IBT']),\n",
    "    coords={'time': dsg.time}\n",
    ")\n",
    "dsg['Vmax_dot_IBT'] = xr.DataArray(\n",
    "    data=np.array(dsg2['Vmax_dot_IBT']),\n",
    "    coords={'time': dsg.time}\n",
    ")\n",
    "dsg['R17_dot_IBT'] = xr.DataArray(\n",
    "    data=np.array(dsg2['R17_dot_IBT']),\n",
    "    coords={'time': dsg.time}\n",
    ")\n",
    "dsg['R17_dot_smth_IBT'] = xr.DataArray(\n",
    "    data=np.array(dsg2['R17_dot_smth_IBT']),\n",
    "    coords={'time': dsg.time}\n",
    ")\n",
    "\n",
    "### Kinetic energy\n",
    "K1_SAR = dsg['Vmax_1D'] * (dsg['Vmax_dot_smth_IBT'] * 3600) * ((dsg['R17_1D'] * 1000) ** 2)\n",
    "K2_SAR = dsg['R17_1D'] * 1000 * (dsg['R17_dot_smth_IBT'] * 1000 * 3600) * (dsg['Vmax_1D'] ** 2)\n",
    "K1_IBT = dsg['Vmax_IBT'] * (dsg['Vmax_dot_smth_IBT'] * 3600) * ((dsg['R34_IBT']) ** 2) \n",
    "K2_IBT = dsg['R34_IBT'] * (dsg['R17_dot_smth_IBT'] * 1000 * 3600) * (dsg['Vmax_IBT'] ** 2)\n",
    "\n",
    "dsg['dKdt_SAR'] = K1_SAR + K2_SAR\n",
    "dsg['dKdt_IBT'] = K1_IBT + K2_IBT"
   ]
  },
  {
   "cell_type": "code",
   "execution_count": 4,
   "metadata": {},
   "outputs": [
    {
     "name": "stdout",
     "output_type": "stream",
     "text": [
      "Nb of storms: 184\n",
      "SAR Mean Rmax = 32 km\n",
      "SAR Mean R64  = 57 km\n"
     ]
    }
   ],
   "source": [
    "### FILTER\n",
    "dsg = dsg.where(dsg.distance_to_coast > dsg.R17_1D * 1000, drop=True)\n",
    "dsg = dsg.where(abs(dsg.lat_center) < 30, drop=True)\n",
    "dsg = dsg.where(dsg.B_hol > 0.1, drop=True)\n",
    "dsg = dsg.where(dsg.Vmax_1D > 20, drop=True)\n",
    "# dsg = dsg.where(dsg.lon_center < -50, drop=True) # Keep only USA best-track agencies\n",
    "# dsg = dsg.where(dsg.distance_to_coast > 200000, drop=True)\n",
    "print('Nb of storms: {}'.format(len(dsg.time)))\n",
    "\n",
    "print('SAR Mean Rmax = {:.0f} km'.format(dsg.Rmax_1D.mean()))\n",
    "print('SAR Mean R64  = {:.0f} km'.format(dsg.R33_1D.mean()))"
   ]
  },
  {
   "cell_type": "code",
   "execution_count": 5,
   "metadata": {},
   "outputs": [],
   "source": [
    "# dsg[['sat_file', 'storm_id']].astype(str).to_netcdf('/home/arthur/Téléchargements/dsg.nc')"
   ]
  },
  {
   "cell_type": "markdown",
   "metadata": {},
   "source": [
    "### Characteristic radius R+"
   ]
  },
  {
   "cell_type": "code",
   "execution_count": 6,
   "metadata": {},
   "outputs": [],
   "source": [
    "def coriolis(lat):\n",
    "    '''Latitude must be in degrees.'''\n",
    "    Omega = 7.2921e-5                            # Earth rotation vector\n",
    "    fcor  = 2 * Omega * np.sin(lat * np.pi / 180) # Coriolis parameter at 20° latitude and assuming it's constant \n",
    "    return fcor\n",
    "\n",
    "def holland_profile(r, lat, pn, pc, Vmin, Rmax, Vmax):\n",
    "    '''We assume that rho is constant and equals 1.15 kg.m-3'''\n",
    "    fcor  = abs(coriolis(lat))\n",
    "    rho   = 1.15\n",
    "    # B     = (Vmax ** 2) * rho * np.e / (pn - pc)\n",
    "    B     = ((Vmax - Vmin) ** 2) * rho * np.e / (pn - pc)\n",
    "    A     = Rmax ** B\n",
    "    \n",
    "    r     = r.astype(np.float) + 0.001 # To avoid dividing by zero\n",
    "    V     = r * 0.\n",
    "    V     = Vmin + np.sqrt(A * B * (pn - pc) * np.exp((-1) * A / (r ** B)) / (rho * r ** B) + (r ** 2 * fcor ** 2) / 4) - (r * fcor / 2)\n",
    "    return V\n",
    "\n",
    "rs = np.linspace(0, 500000, 50001) # define dr accordingly\n",
    "def vorticity(r, v):\n",
    "    '''Relative vorticity'''\n",
    "    dr = 10 # meters\n",
    "    return (1 / r) * np.gradient(r * v, dr)"
   ]
  },
  {
   "cell_type": "code",
   "execution_count": 7,
   "metadata": {},
   "outputs": [
    {
     "name": "stderr",
     "output_type": "stream",
     "text": [
      "100%|████████████████████████████████████████| 184/184 [00:01<00:00, 102.00it/s]\n"
     ]
    }
   ],
   "source": [
    "rs  = np.linspace(0, 500000, 50001)\n",
    "n   = PRMS['n']\n",
    "DSs = dsg.mean(dim='theta', skipna=True)\n",
    "\n",
    "# Initialize\n",
    "DSs['R_plus'] = DSs['Vmax_1D'].copy(deep=True) * np.nan\n",
    "DSs['V_plus'] = DSs['Vmax_1D'].copy(deep=True) * np.nan\n",
    "\n",
    "for t in tqdm(np.arange(len(DSs.time))):\n",
    "    ds       = DSs.isel(time=t)\n",
    "    Vh       = holland_profile(rs, float(abs(ds.lat_center)), float(ds.pn_hol), float(ds.pc_hol), float(ds.Vmin_hol), float(ds.Rmax_hol), float(ds.Vmax_hol))\n",
    "    rm       = float(ds.Rmax_hol)\n",
    "    out      = rs > rm                             # To find outer-core\n",
    "    r        = rs[out]\n",
    "    vrt      = vorticity(rs, Vh)[out]              # Relative vorticity\n",
    "    vrt_plan = float(abs(coriolis(ds.lat_center))) # Planetary vorticity\n",
    "    \n",
    "    # # Plot vertical velocity\n",
    "    # q  = r * (Vh[out] ** 2) / (vrt + vrt_plan)\n",
    "    # Cd = 2e-5\n",
    "    # dr = 10 # meters\n",
    "    # we = (Cd / r) * np.gradient(q, dr)\n",
    "    # plt.plot(we, c='gray', alpha=0.25)\n",
    "    # plt.ylim(-0.001, 0.01)\n",
    "    \n",
    "    try: \n",
    "        R_plus =  r[abs(vrt - n * vrt_plan) < 1e-7][0] \n",
    "        V_plus = ds.sel(rad=slice(R_plus - 500, None)).wind_speed[0]\n",
    "    except IndexError:\n",
    "        R_plus = V_plus = np.nan\n",
    "    \n",
    "    DSs['R_plus'][t] = R_plus\n",
    "    DSs['V_plus'][t] = V_plus"
   ]
  },
  {
   "cell_type": "code",
   "execution_count": null,
   "metadata": {},
   "outputs": [],
   "source": []
  },
  {
   "cell_type": "markdown",
   "metadata": {},
   "source": [
    "#### Compute Rmax CK22A23"
   ]
  },
  {
   "cell_type": "code",
   "execution_count": 8,
   "metadata": {},
   "outputs": [],
   "source": [
    "def M(f, r, V):\n",
    "    '''Definition of angular momentum. \n",
    "    CAVEAT: R is in meters, V in m/s. \n",
    "    If V is total wind speed, then take abs(f)'''\n",
    "    return r * V + 0.5 * f * (r ** 2)\n",
    "\n",
    "def Rmax_from_M(fcor, Mmax, Vmax):\n",
    "    return (Vmax / fcor) * (np.sqrt(1 + (2 * fcor * Mmax) / (Vmax ** 2)) - 1)\n",
    "\n",
    "# def correct_vmx_ibt(vmx_ibt):\n",
    "#     return 0.6967 * vmx_ibt + 6.1992"
   ]
  },
  {
   "cell_type": "code",
   "execution_count": 9,
   "metadata": {},
   "outputs": [],
   "source": [
    "# Prepare dataset\n",
    "vmx  = DSs.Vmax_1D\n",
    "r34  = DSs.R17_1D * 1000\n",
    "r50  = DSs.R26_1D * 1000\n",
    "r64  = DSs.R33_1D * 1000\n",
    "fcor = abs(coriolis(DSs.lat_center))\n",
    "\n",
    "# Compute the momentum ratios\n",
    "Mm_M34 = 0.531 * np.exp(\n",
    "    -0.00214 * (vmx - 17.5)\n",
    "    -0.00314 * (vmx - 17.5) * 0.5 * fcor * r34\n",
    ")\n",
    "\n",
    "Mm_M50 = 0.626 * np.exp(\n",
    "     0.00282 * (vmx - 25.7)\n",
    "    -0.00724 * (vmx - 25.7) * 0.5 * fcor * r50\n",
    ")\n",
    "\n",
    "Mm_M64 = 0.612 * np.exp(\n",
    "     0.00946 * (vmx - 32.9)\n",
    "    -0.01183 * (vmx - 32.9) * 0.5 * fcor * r64\n",
    ")\n",
    "\n",
    "# Compute Mmax\n",
    "Mm_with_r34 = Mm_M34 * M(fcor, r34, 17.5)\n",
    "Mm_with_r50 = Mm_M50 * M(fcor, r50, 25.7)\n",
    "Mm_with_r64 = Mm_M64 * M(fcor, r64, 32.9)\n",
    "\n",
    "# Compute Rmax_CK22A23\n",
    "Rm_with_r34 = Rmax_from_M(fcor, Mm_with_r34, vmx) / 1000\n",
    "Rm_with_r50 = Rmax_from_M(fcor, Mm_with_r50, vmx) / 1000\n",
    "Rm_with_r64 = Rmax_from_M(fcor, Mm_with_r64, vmx) / 1000\n",
    "\n",
    "# Include\n",
    "DSs['rmx_ck22'] = Rm_with_r34.copy(deep=True)\n",
    "DSs['rmx_ck22'][Rm_with_r50.notnull()] = Rm_with_r50.copy(deep=True)[Rm_with_r50.notnull()]\n",
    "DSs['rmx_ck22'][Rm_with_r64.notnull()] = Rm_with_r64.copy(deep=True)[Rm_with_r64.notnull()]"
   ]
  },
  {
   "cell_type": "markdown",
   "metadata": {},
   "source": [
    "#### Save dataset"
   ]
  },
  {
   "cell_type": "code",
   "execution_count": 11,
   "metadata": {},
   "outputs": [],
   "source": [
    "## DATASET FOR PAUL\n",
    "\n",
    "### Computing Kinetic Energy\n",
    "V34         = 17.5 # m/s\n",
    "g           = 9.8  # m/s^2\n",
    "rho         = 1.15 # kg/m^3\n",
    "theta_ratio = 1e-2 # []\n",
    "\n",
    "# Below, dK/dt is expressed in J/hr, where 1J = 1 kg m^2 s^-2\n",
    "DSs['dKdt'] = (rho * V34 ** 2 / (g * theta_ratio)) * 2 * (DSs['R17_1D'] * 1000 * DSs['Vmax_1D']) * ((DSs['Vmax_dot_smth_IBT']) * (DSs['R17_1D'] * 1000) + (DSs['R17_dot_smth_IBT'] * 1000) * DSs['Vmax_1D'])\n",
    "nrm         = 1e15\n",
    "DSs['dKdt'] = DSs['dKdt'] / nrm # now in PJ/hr\n",
    "\n",
    "# Save data\n",
    "vars2drop               = ['interpolated_track_point', 'eye_center', 'lon_eye_c', 'lat_eye_c', 'lon_trk_c', 'lat_trk_c', 'storm_name', 'storm_id', 'sat_file', 'sat_pth']\n",
    "DSs_clean               = DSs.drop_vars(vars2drop)\n",
    "DSs_clean['storm_name'] = DSs['storm_name'].astype(str)\n",
    "DSs_clean['storm_id']   = DSs['storm_id'].astype(str)\n",
    "DSs_clean['sat_file']   = DSs['sat_file'].astype(str)\n",
    "DSs_clean['sat_pth']    = DSs['sat_pth'].astype(str)\n",
    "\n",
    "# Save\n",
    "# DSs_clean.to_netcdf(PTHS['save_dir'] + 'dsg_rpls.nc')"
   ]
  },
  {
   "cell_type": "code",
   "execution_count": null,
   "metadata": {},
   "outputs": [],
   "source": []
  },
  {
   "cell_type": "code",
   "execution_count": null,
   "metadata": {},
   "outputs": [],
   "source": []
  },
  {
   "cell_type": "code",
   "execution_count": 19,
   "metadata": {},
   "outputs": [],
   "source": [
    "p = '/home/arthur/data/ibtracs/IBTrACS.NA.v04r00.nc'"
   ]
  },
  {
   "cell_type": "code",
   "execution_count": 20,
   "metadata": {},
   "outputs": [],
   "source": [
    "a = xr.open_dataset(p)"
   ]
  },
  {
   "cell_type": "code",
   "execution_count": 31,
   "metadata": {},
   "outputs": [
    {
     "data": {
      "text/plain": [
       "[<matplotlib.lines.Line2D at 0x7fcd224cca30>]"
      ]
     },
     "execution_count": 31,
     "metadata": {},
     "output_type": "execute_result"
    },
    {
     "data": {
      "image/png": "[encoded data removed]",
      "text/plain": [
       "<Figure size 1500x1000 with 1 Axes>"
      ]
     },
     "metadata": {},
     "output_type": "display_data"
    }
   ],
   "source": [
    "a.isel(storm=0).usa_wind.plot()"
   ]
  },
  {
   "cell_type": "code",
   "execution_count": null,
   "metadata": {},
   "outputs": [],
   "source": []
  },
  {
   "cell_type": "code",
   "execution_count": null,
   "metadata": {},
   "outputs": [],
   "source": []
  }
 ],
 "metadata": {
  "kernelspec": {
   "display_name": "paramProfiles",
   "language": "python",
   "name": "paramprofiles"
  },
  "language_info": {
   "codemirror_mode": {
    "name": "ipython",
    "version": 3
   },
   "file_extension": ".py",
   "mimetype": "text/x-python",
   "name": "python",
   "nbconvert_exporter": "python",
   "pygments_lexer": "ipython3",
   "version": "3.8.15"
  }
 },
 "nbformat": 4,
 "nbformat_minor": 4
}
