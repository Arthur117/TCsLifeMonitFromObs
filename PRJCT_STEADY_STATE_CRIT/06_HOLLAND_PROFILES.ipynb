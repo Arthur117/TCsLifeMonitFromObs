{
 "cells": [
  {
   "cell_type": "markdown",
   "metadata": {},
   "source": [
    "## Holland profiles"
   ]
  },
  {
   "cell_type": "code",
   "execution_count": 1,
   "metadata": {
    "tags": []
   },
   "outputs": [],
   "source": [
    "# General\n",
    "import glob\n",
    "import os.path\n",
    "import warnings\n",
    "warnings.filterwarnings('ignore')\n",
    "from tqdm import tqdm\n",
    "\n",
    "# Arrays & Displays\n",
    "import xarray as xr\n",
    "import numpy as np\n",
    "import matplotlib as mpl\n",
    "import matplotlib.pyplot as plt\n",
    "from mpl_toolkits.axes_grid1 import make_axes_locatable\n",
    "# from matplotlib.colors import Normalize\n",
    "# from matplotlib.colors import ListedColormap\n",
    "import matplotlib.cm as cm\n",
    "import pandas as pd\n",
    "\n",
    "# Data treatment\n",
    "import dask as da\n",
    "from dask.diagnostics import ProgressBar\n",
    "import zarr\n",
    "from scipy.interpolate import griddata\n",
    "from scipy.signal import convolve2d\n",
    "from scipy.signal import argrelextrema\n",
    "from datetime import datetime\n",
    "\n",
    "# Custom\n",
    "# import functions as f\n",
    "\n",
    "# Default parameters\n",
    "mpl.rcParams.update({'font.size': 18})\n",
    "mpl.rcParams['figure.figsize'] = (15, 10)\n",
    "mpl.rcParams['axes.facecolor'] = 'white'\n",
    "mpl.rcParams['figure.facecolor'] = 'white'"
   ]
  },
  {
   "cell_type": "code",
   "execution_count": 2,
   "metadata": {},
   "outputs": [],
   "source": [
    "PRMS = {\n",
    "    'save_figs':       True,\n",
    "    'save_dir':        '/home/arthur/results/TCsLifeMonitFromObs/PRJCT_STEADY_STATE_CRIT/06_HOLLAND_PROFILES/',\n",
    "    'ds_glob_path':    '/home/arthur/data/cyclobs/SAR_compilations_in_nc/SAR_centered_rotated_files_13052022_with_extra_params.nc',\n",
    "}\n",
    "\n",
    "### OPEN DATA\n",
    "dsg = xr.open_dataset(PRMS['ds_glob_path'])"
   ]
  },
  {
   "cell_type": "code",
   "execution_count": 3,
   "metadata": {},
   "outputs": [
    {
     "name": "stdout",
     "output_type": "stream",
     "text": [
      "Nb of storms: 184\n"
     ]
    }
   ],
   "source": [
    "### FILTER\n",
    "dsg = dsg.where(dsg.distance_to_coast > dsg.R17_1D * 1000, drop=True)\n",
    "dsg = dsg.where(abs(dsg.lat_center) < 30, drop=True)\n",
    "dsg = dsg.where(dsg.B_hol > 0.1, drop=True)\n",
    "dsg = dsg.where(dsg.Vmax_1D > 20, drop=True)\n",
    "print('Nb of storms: {}'.format(len(dsg.time)))"
   ]
  },
  {
   "cell_type": "code",
   "execution_count": 4,
   "metadata": {},
   "outputs": [],
   "source": [
    "### FUNCTIONS\n",
    "def coriolis(lat):\n",
    "    '''Latitude must be in degrees.'''\n",
    "    Omega = 7.2921e-5                            # Earth rotation vector\n",
    "    fcor  = 2 * Omega * np.sin(lat * np.pi / 180) # Coriolis parameter at 20° latitude and assuming it's constant \n",
    "    return fcor\n",
    "\n",
    "def holland_profile(r, lat, pn, pc, Vmin, Rmax, Vmax):\n",
    "    '''We assume that rho is constant and equals 1.15 kg.m-3'''\n",
    "    fcor  = abs(coriolis(lat))\n",
    "    rho   = 1.15\n",
    "    # B     = (Vmax ** 2) * rho * np.e / (pn - pc)\n",
    "    B     = ((Vmax - Vmin) ** 2) * rho * np.e / (pn - pc)\n",
    "    A     = Rmax ** B\n",
    "    \n",
    "    r     = r.astype(np.float) + 0.001 # To avoid dividing by zero\n",
    "    V     = r * 0.\n",
    "    V     = Vmin + np.sqrt(A * B * (pn - pc) * np.exp((-1) * A / (r ** B)) / (rho * r ** B) + (r ** 2 * fcor ** 2) / 4) - (r * fcor / 2)\n",
    "    return V"
   ]
  },
  {
   "cell_type": "code",
   "execution_count": 13,
   "metadata": {},
   "outputs": [
    {
     "name": "stderr",
     "output_type": "stream",
     "text": [
      "100%|█████████████████████████████████████████| 184/184 [00:39<00:00,  4.70it/s]\n"
     ]
    },
    {
     "data": {
      "text/plain": [
       "<Figure size 1500x1000 with 0 Axes>"
      ]
     },
     "metadata": {},
     "output_type": "display_data"
    }
   ],
   "source": [
    "rs = np.linspace(0, 500000, 50001)\n",
    "\n",
    "for t in tqdm(range(len(dsg.time))):\n",
    "    ds = dsg.isel(time=t)\n",
    "    \n",
    "    # Save\n",
    "    if PRMS['save_figs']:\n",
    "        plt.title('B = {:.1f}'.format(ds.B_hol), weight='bold')\n",
    "        # SAR\n",
    "        wsm = ds.wind_speed.mean(dim='theta')\n",
    "        wss = ds.wind_speed.std(dim='theta')\n",
    "        plt.plot(ds.rad, wsm, c='k', linewidth=2, label='SAR')\n",
    "        plt.fill_between(ds.rad, wsm - wss, wsm + wss, color='gray', alpha=0.3)\n",
    "        # Holland\n",
    "        Vh = holland_profile(rs, float(abs(coriolis(ds.lat_center))), float(ds.pn_hol), float(ds.pc_hol), float(ds.Vmin_hol), float(ds.Rmax_hol), float(ds.Vmax_hol))\n",
    "        plt.plot(rs, Vh, label='Holland')\n",
    "        \n",
    "        # Legend\n",
    "        plt.xlabel('r (m)')\n",
    "        plt.ylabel('v (m/s)')\n",
    "        plt.legend();plt.grid()\n",
    "        plt.grid(which='major', color='#DDDDDD', linewidth=0.8)\n",
    "        plt.grid(which='minor', color='#EEEEEE', linestyle=':', linewidth=0.5);plt.minorticks_on()\n",
    "        plt.ylim(5, 75);plt.xlim(0, 500000)\n",
    "        \n",
    "        # Save\n",
    "        plt.savefig(PRMS['save_dir'] + os.path.splitext(ds.sat_file.item().item())[0]);plt.clf()"
   ]
  },
  {
   "cell_type": "code",
   "execution_count": null,
   "metadata": {},
   "outputs": [],
   "source": []
  },
  {
   "cell_type": "code",
   "execution_count": null,
   "metadata": {},
   "outputs": [],
   "source": []
  },
  {
   "cell_type": "code",
   "execution_count": null,
   "metadata": {},
   "outputs": [],
   "source": []
  },
  {
   "cell_type": "code",
   "execution_count": null,
   "metadata": {},
   "outputs": [],
   "source": []
  }
 ],
 "metadata": {
  "kernelspec": {
   "display_name": "paramProfiles",
   "language": "python",
   "name": "paramprofiles"
  },
  "language_info": {
   "codemirror_mode": {
    "name": "ipython",
    "version": 3
   },
   "file_extension": ".py",
   "mimetype": "text/x-python",
   "name": "python",
   "nbconvert_exporter": "python",
   "pygments_lexer": "ipython3",
   "version": "3.8.15"
  }
 },
 "nbformat": 4,
 "nbformat_minor": 4
}
