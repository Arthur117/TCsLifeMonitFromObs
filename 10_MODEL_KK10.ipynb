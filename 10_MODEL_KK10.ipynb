{
 "cells": [
  {
   "cell_type": "markdown",
   "metadata": {},
   "source": [
    "## Model following KK10\n",
    "\n",
    "NB: Vmin has an impact on L. See how I handle this. One idea would be to use storm_speed as an ersatz for Vmin."
   ]
  },
  {
   "cell_type": "code",
   "execution_count": 1,
   "metadata": {},
   "outputs": [],
   "source": [
    "# General\n",
    "import glob\n",
    "import re\n",
    "import os.path\n",
    "# import warnings\n",
    "# warnings.filterwarnings('ignore')\n",
    "from tqdm.notebook import tqdm\n",
    "import copy\n",
    "\n",
    "# Arrays & Displays\n",
    "import xarray as xr\n",
    "import numpy as np\n",
    "import matplotlib as mpl\n",
    "import matplotlib.pyplot as plt\n",
    "import matplotlib.cm as cm\n",
    "import pandas as pd\n",
    "\n",
    "# Data treatment\n",
    "from datetime import datetime\n",
    "from scipy.optimize import curve_fit\n",
    "\n",
    "# Custom\n",
    "import functions as f\n",
    "import dataUtils as du\n",
    "\n",
    "# Statistics\n",
    "from sklearn import linear_model, neighbors\n",
    "from pykalman import KalmanFilter\n",
    "\n",
    "# Default parameters\n",
    "mpl.rcParams.update({'font.size': 18})\n",
    "mpl.rcParams['figure.figsize'] = (15, 10)\n",
    "mpl.rcParams['axes.facecolor'] = 'white'\n",
    "mpl.rcParams['figure.facecolor'] = 'white'"
   ]
  },
  {
   "cell_type": "code",
   "execution_count": 2,
   "metadata": {},
   "outputs": [],
   "source": [
    "# PATHS = {\n",
    "#     'ds_glob_path':    '/home/arthur/data/cyclobs/SAR_compilations_in_nc/SAR_centered_rotated_files_13052022_with_extra_params.nc',\n",
    "#     'sar_dir':         '/home/arthur/data/cyclobs/centered_rotated_files_31012022/',\n",
    "#     'sct_dir':         '/home/arthur/data/scatterometer/KNMI/product_JF_rotated_filtered_v3/POLAR/2020/EP182020/',\n",
    "# }"
   ]
  },
  {
   "cell_type": "code",
   "execution_count": 30,
   "metadata": {},
   "outputs": [],
   "source": [
    "####-----------####\n",
    "#### FUNCTIONS ####\n",
    "####-----------####\n",
    "\n",
    "### MODEL\n",
    "def coriolis(lat):\n",
    "    '''Absolute vorticity.\n",
    "    Latitude must be in degrees.'''\n",
    "    Omega = 7.2921e-5                            # Earth rotation vector\n",
    "    fcor  = 2 * Omega * np.sin(lat * np.pi / 180) # Coriolis parameter at 20° latitude and assuming it's constant \n",
    "    return fcor\n",
    "\n",
    "def vorticity(r, v):\n",
    "    '''Relative vorticity'''\n",
    "    dr = 1000 # meters\n",
    "    return (1 / r) * np.gradient(r * v, dr)\n",
    "\n",
    "def charac_length(V):\n",
    "    '''Given a wind profile object V, returns its characteristic length L'''\n",
    "    rel_vort = vorticity(V.rad, V.ws)\n",
    "    abs_vort = coriolis(V.lat)\n",
    "    q        = (V.rad * V.ws ** 2) / (rel_vort + abs_vort)\n",
    "    return V.rad[np.nanargmax(q)]\n",
    "\n",
    "def get_scales(V, show=False):\n",
    "    # Fit Holland\n",
    "    vmx, rmx, B, vmn = fit_h80(V)\n",
    "    # Compute L on Vh relative (vmin = 0)\n",
    "    Vh_rel = xr.Dataset(\n",
    "        data_vars={\n",
    "            'ws': ('rad', h80(V.rad, vmx, rmx, B, V.lat, 0).data),\n",
    "            'lat': V.lat.data,\n",
    "            'time': V.time.data,\n",
    "        },\n",
    "        coords={\n",
    "            'rad': V.rad.data\n",
    "        }\n",
    "    )\n",
    "    # Compute scales\n",
    "    L      = charac_length(Vh_rel) # Vmin must be 0\n",
    "    U_star = coriolis(Vh_rel.lat) * rmx\n",
    "    \n",
    "    if show:\n",
    "        print('L  = {:.0f} km'.format(L / 1000))\n",
    "        print('U* =  {:.1f} m/s'.format(U_star))\n",
    "        print('T  = {:.1f} h'.format(L / U_star / 3600))        \n",
    "    return L, U_star\n",
    "    \n",
    "def nb_of_timesteps(L, U_star, delta_t):\n",
    "    return delta_t / (L / U_star)\n",
    "\n",
    "def non_dimensional(V, L):\n",
    "    V_nd = xr.DataArray(\n",
    "        data=V.ws / (coriolis(V.lat) * L),\n",
    "        coords={'rad': V.rad / L}\n",
    "    )\n",
    "    return V_nd\n",
    "\n",
    "def dimensional(ws, V, L):\n",
    "    V_nd = xr.DataArray(\n",
    "        data=ws * coriolis(V.lat) * L,\n",
    "        coords={'rad': V.rad}\n",
    "    )\n",
    "    return V_nd\n",
    "\n",
    "def h80(r, vm, rm, B, lat, vmin):\n",
    "    '''Holland 1980 profile.'''\n",
    "    fcor = coriolis(lat)\n",
    "    V    = r * 0.\n",
    "    V    = vmin + np.sqrt((vm ** 2) * ((rm / r) ** B) * np.exp(1 - (rm / r) ** B) + (r * fcor / 2) ** 2) - (r * fcor / 2)\n",
    "    return V\n",
    "\n",
    "def fit_h80(V):\n",
    "    '''Given an xr.Dataset V of wind speed 'ws' with 'rad' as dim & coord (m) and 'lat' as second variable,\n",
    "    returns the parameters of fitted Holland 1980 profile.\n",
    "    CAVEAT: coordinate 'rad' must be > 0, else the residuals are not finite for r = 0.\n",
    "    '''\n",
    "    popt, pcov = curve_fit(\n",
    "        f=lambda r, vm, rm, B, vmin: h80(r, vm, rm, B, V.lat, vmin),\n",
    "        xdata=V.rad,\n",
    "        ydata=V['ws'],\n",
    "        p0=[V['ws'].max(), V.rad[V['ws'].argmax()], 1.5, V['ws'].min()],\n",
    "        bounds=[\n",
    "            (V['ws'].max() * 0.5, V.rad[V['ws'].argmax()] * 0.5, 0.5, V['ws'].min() * 0.5),\n",
    "            (V['ws'].max() * 1.5, V.rad[V['ws'].argmax()] * 1.5, 5,   V['ws'].min() * 1.5)\n",
    "        ]\n",
    "    )\n",
    "    return popt # Vmax, Rmax, B, Vmin\n",
    "\n",
    "def v_kk11(v0, t, lbda):\n",
    "    '''Given an initial wind profile v0, propagates according to KK11 and using lambda'''\n",
    "    v          = np.zeros_like(v0.rad)\n",
    "    # Inner-core\n",
    "    v_prop_in  = v0.interp({'rad': v0.rad * np.exp(t)})\n",
    "    vin        = v_prop_in * np.exp((1 - lbda) * t) + v0.rad * (1 - np.exp((2 - lbda) * t)) / (lbda - 2)\n",
    "    # Near-core\n",
    "    nr_term    = np.sqrt(1 + 2 * (np.log(v0.rad) + t))\n",
    "    v_prop_nr  = v0.interp({'rad': nr_term})\n",
    "    vnr        = nr_term * v_prop_nr * np.exp(-lbda * t) / v0.rad + (lbda * v0.rad ** 2 - 2 * v0.rad ** lbda) / (lbda * v0.rad * (lbda - 2)) - np.exp(-lbda * t) / (lbda * v0.rad)\n",
    "    # Outer-core\n",
    "    ou_term    = np.sqrt(v0.rad ** 2 + 2 * t)\n",
    "    v_prop_ou  = v0.interp({'rad': ou_term})\n",
    "    vou        = ou_term * v_prop_ou * np.exp(-lbda * t) / v0.rad + (1 - np.exp(-lbda * t)) / (lbda * v0.rad)\n",
    "\n",
    "    # Declare final output\n",
    "    bd              = np.exp(-t)\n",
    "    v[v0.rad < bd]  = vin[v0.rad < bd]\n",
    "    v[v0.rad >= bd] = vnr[v0.rad >= bd]\n",
    "    v[v0.rad >= 1]  = vou[v0.rad >= 1]\n",
    "    \n",
    "    return v"
   ]
  },
  {
   "cell_type": "code",
   "execution_count": 4,
   "metadata": {},
   "outputs": [],
   "source": [
    "### PARAMS\n",
    "rs      = np.linspace(10, 5e5, 50000) # Take a lot of points to compute vorticity properly\n",
    "delta_t = 6 * 3600                    # s"
   ]
  },
  {
   "cell_type": "code",
   "execution_count": 5,
   "metadata": {},
   "outputs": [
    {
     "name": "stderr",
     "output_type": "stream",
     "text": [
      "/home/arthur/anaconda3/envs/paramProfiles/lib/python3.8/site-packages/xarray/backends/plugins.py:71: RuntimeWarning: Engine 'cfgrib' loading failed:\n",
      "/home/arthur/anaconda3/envs/paramProfiles/lib/python3.8/lib-dynload/../../libffi.so.8: version `LIBFFI_CLOSURE_7.0' not found (required by /home/arthur/anaconda3/envs/paramProfiles/lib/python3.8/site-packages/_cffi_backend.cpython-38-x86_64-linux-gnu.so)\n",
      "  warnings.warn(f\"Engine {name!r} loading failed:\\n{ex}\", RuntimeWarning)\n"
     ]
    },
    {
     "data": {
      "image/png": "[encoded data removed]",
      "text/plain": [
       "<Figure size 1500x1000 with 1 Axes>"
      ]
     },
     "metadata": {},
     "output_type": "display_data"
    }
   ],
   "source": [
    "p   = '/home/arthur/data/scatterometer/KNMI/product_JF_rotated_filtered_v3/POLAR/2020/EP182020/POL_ascat_20201001_044800_metopb_41705_srv_o_125_ovw.nc'\n",
    "dss = xr.open_dataset(p)\n",
    "\n",
    "# Custom initialization\n",
    "def affine(vmax, vmin, rmax, r):\n",
    "    return ((vmax - vmin) / (rmax - 0)) * r + vmin\n",
    "\n",
    "V_ini        = dss.wind_speed.mean(dim='theta', skipna=True)\n",
    "V_ini[0]     = 10\n",
    "V_ini[1]     = affine(vmax=V_ini.sel(rad=37.5), vmin=10, rmax=37.5, r=1 * 12.5)\n",
    "V_ini[2]     = affine(vmax=V_ini.sel(rad=37.5), vmin=10, rmax=37.5, r=2 * 12.5)\n",
    "V_ini.plot(c='k', linestyle='--', label='custom total')\n",
    "V_ini['rad'] = V_ini.rad * 1000\n",
    "V_ini        = V_ini.interp({'rad': rs})\n",
    "\n",
    "# Create the structure\n",
    "Vi = xr.Dataset(\n",
    "    data_vars={\n",
    "        'ws':          ('rad', V_ini.data),\n",
    "        'lat':         dss.lat_IBT.data,\n",
    "        # 'storm_speed': dss.storm_speed_IBT.data,\n",
    "        'time':        dss.acquisition_time.data,\n",
    "    },\n",
    "    coords={\n",
    "        'rad': rs\n",
    "    }\n",
    ")"
   ]
  },
  {
   "cell_type": "code",
   "execution_count": 46,
   "metadata": {},
   "outputs": [
    {
     "name": "stdout",
     "output_type": "stream",
     "text": [
      "L  = 49 km\n",
      "U* =  1.3 m/s\n",
      "T  = 10.6 h\n"
     ]
    },
    {
     "name": "stderr",
     "output_type": "stream",
     "text": [
      "/home/arthur/anaconda3/envs/paramProfiles/lib/python3.8/site-packages/xarray/core/computation.py:771: RuntimeWarning: invalid value encountered in sqrt\n",
      "  result_data = func(*input_data)\n"
     ]
    },
    {
     "data": {
      "image/png": "[encoded data removed]",
      "text/plain": [
       "<Figure size 1500x1000 with 1 Axes>"
      ]
     },
     "metadata": {},
     "output_type": "display_data"
    }
   ],
   "source": [
    "# Fit Holland\n",
    "vmx, rmx, B, vmn = fit_h80(Vi)\n",
    "# Get scales\n",
    "L, U_star = get_scales(Vi, show=True)\n",
    "# L *= 2\n",
    "nt        = nb_of_timesteps(L, U_star, delta_t)\n",
    "# Non-dimensionalization\n",
    "Vi_nd     = non_dimensional(Vi, L)\n",
    "# Get Kalashnik wind\n",
    "Vk_nd     = xr.DataArray(\n",
    "    data=v_kk11(Vi_nd, nt, lbda=0.7),\n",
    "    coords={'rad': Vi_nd.rad}\n",
    ")\n",
    "# Dimensionalize\n",
    "Vf = xr.Dataset(\n",
    "    data_vars={\n",
    "        'ws':          ('rad', dimensional(Vk_nd, Vi, L).data),\n",
    "        'lat':         Vi.lat.data + 5 * delta_t * np.cos(np.pi / 4) / 110000, # assume TC goes at 5 m/s, with an angle 45° from North, and 1°N is 110 km\n",
    "        # 'storm_speed': dss.storm_speed_IBT.data,\n",
    "        'time':        Vi.time.data,\n",
    "    },\n",
    "    coords={\n",
    "        'rad': Vi.rad.data\n",
    "    }\n",
    ")\n",
    "\n",
    "Vi.ws.plot()\n",
    "Vf.ws.plot()\n",
    "plt.grid()"
   ]
  },
  {
   "cell_type": "code",
   "execution_count": null,
   "metadata": {},
   "outputs": [],
   "source": []
  },
  {
   "cell_type": "code",
   "execution_count": null,
   "metadata": {},
   "outputs": [],
   "source": []
  },
  {
   "cell_type": "code",
   "execution_count": null,
   "metadata": {},
   "outputs": [],
   "source": []
  },
  {
   "cell_type": "code",
   "execution_count": null,
   "metadata": {},
   "outputs": [],
   "source": []
  },
  {
   "cell_type": "code",
   "execution_count": null,
   "metadata": {},
   "outputs": [],
   "source": []
  },
  {
   "cell_type": "code",
   "execution_count": null,
   "metadata": {},
   "outputs": [],
   "source": []
  },
  {
   "cell_type": "code",
   "execution_count": null,
   "metadata": {},
   "outputs": [],
   "source": []
  },
  {
   "cell_type": "code",
   "execution_count": null,
   "metadata": {},
   "outputs": [],
   "source": []
  },
  {
   "cell_type": "code",
   "execution_count": null,
   "metadata": {},
   "outputs": [],
   "source": [
    "\n",
    "# vh_test = h80(rs, vm=30, rm=50000, B=1, lat=20)\n",
    "# plt.plot(rs / 1000, vh_test);plt.grid()"
   ]
  },
  {
   "cell_type": "code",
   "execution_count": null,
   "metadata": {},
   "outputs": [],
   "source": []
  },
  {
   "cell_type": "code",
   "execution_count": null,
   "metadata": {},
   "outputs": [],
   "source": []
  },
  {
   "cell_type": "code",
   "execution_count": null,
   "metadata": {},
   "outputs": [],
   "source": []
  },
  {
   "cell_type": "code",
   "execution_count": null,
   "metadata": {},
   "outputs": [],
   "source": []
  },
  {
   "cell_type": "code",
   "execution_count": null,
   "metadata": {},
   "outputs": [],
   "source": []
  },
  {
   "cell_type": "code",
   "execution_count": null,
   "metadata": {},
   "outputs": [],
   "source": []
  },
  {
   "cell_type": "code",
   "execution_count": null,
   "metadata": {},
   "outputs": [],
   "source": []
  },
  {
   "cell_type": "code",
   "execution_count": null,
   "metadata": {},
   "outputs": [],
   "source": [
    "### FUNCTIONS\n",
    "\n",
    "\n",
    "\n",
    "def get_scales(ds, H=10000, show=True, L=100000, delta_t=24):\n",
    "    lat    = float(ds.lat.isel(rad=0).mean(dim='theta', skipna=True))\n",
    "    fcor   = abs(coriolis(lat)) # maybe divide by 10 to get reasonable value of fcor * L\n",
    "\n",
    "    # To define U_star\n",
    "    ws     = ds.wind_speed.mean(dim='theta', skipna=True)\n",
    "    Rmax   = float(ws.rad[int(ws.argmax())]) # m\n",
    "    Vmax   = float(ws.max())                  # m/s\n",
    "    U_star = fcor * Rmax # m/s\n",
    "\n",
    "    if show:\n",
    "        print('characteristic time --> {:.1f} h'.format(L / U_star / 3600))\n",
    "        print('radial velocity     --> {:.2f} m/s'.format(U_star))\n",
    "        print('tangential velocity --> {:.2f} m/s'.format(fcor * L))\n",
    "        print('vertical velocity   --> {:.2f} m/s'.format(H * U_star / L))\n",
    "        print('characteristic tangential velocity --> {:.1f} m/s'.format(fcor * L)) \n",
    "        print('nb of timesteps: {:.2f}'.format(delta_t / (L / U_star / 3600)))\n",
    "    \n",
    "    return Vmax, Rmax, fcor\n",
    "\n",
    "def get_v(ds, fcor, L):\n",
    "    ws = ds.wind_speed.mean(dim='theta', skipna=True)\n",
    "    r = ws.rad / L\n",
    "    v = ws     / (fcor * L)\n",
    "\n",
    "    V = xr.DataArray(\n",
    "        data=v,\n",
    "        coords={'rad': r}\n",
    "    )\n",
    "    return V\n",
    "\n",
    "def v_k10(v0, t, lbda):\n",
    "    v          = np.zeros_like(v0.rad)\n",
    "    # Inner-core\n",
    "    v_prop_in  = v0.interp({'rad': v0.rad * np.exp(t)})\n",
    "    vin        = v_prop_in * np.exp((1 - lbda) * t) + v0.rad * (1 - np.exp((2 - lbda) * t)) / (lbda - 2)\n",
    "    # Near-core\n",
    "    nr_term    = np.sqrt(1 + 2 * (np.log(v0.rad) + t))\n",
    "    v_prop_nr  = v0.interp({'rad': nr_term})\n",
    "    vnr        = nr_term * v_prop_nr * np.exp(-lbda * t) / v0.rad + (lbda * v0.rad ** 2 - 2 * v0.rad ** lbda) / (lbda * v0.rad * (lbda - 2)) - np.exp(-lbda * t) / (lbda * v0.rad)\n",
    "    # Outer-core\n",
    "    ou_term    = np.sqrt(v0.rad ** 2 + 2 * t)\n",
    "    v_prop_ou  = v0.interp({'rad': ou_term})\n",
    "    vou        = ou_term * v_prop_ou * np.exp(-lbda * t) / v0.rad + (1 - np.exp(-lbda * t)) / (lbda * v0.rad)\n",
    "\n",
    "    # Declare final output\n",
    "    bd              = np.exp(-t)\n",
    "    v[v0.rad < bd]  = vin[v0.rad < bd]\n",
    "    v[v0.rad >= bd] = vnr[v0.rad >= bd]\n",
    "    v[v0.rad >= 1]  = vou[v0.rad >= 1]\n",
    "    \n",
    "    return v"
   ]
  },
  {
   "cell_type": "code",
   "execution_count": null,
   "metadata": {},
   "outputs": [],
   "source": [
    "# Define wind speeds\n",
    "print('1)')\n",
    "L1                  = 134000\n",
    "Vmax1, Rmax1, fcor1 = get_scales(ds1, L=L1, delta_t=12)\n",
    "V1                  = get_v(ds1, fcor1, L1)\n",
    "\n",
    "print('\\n2)')\n",
    "L2                  = 142000\n",
    "Vmax2, Rmax2, fcor2 = get_scales(ds2, L=L2, delta_t=24)\n",
    "V2                  = get_v(ds2, fcor2, L2)\n",
    "\n",
    "print('\\n3)')\n",
    "L3                  = 107000\n",
    "Vmax3, Rmax3, fcor3 = get_scales(ds3, L=L3, delta_t=12)\n",
    "V3                  = get_v(ds3, fcor3, L3)\n",
    "\n",
    "print('\\n4)')\n",
    "L4                  = 146000\n",
    "Vmax4, Rmax4, fcor4 = get_scales(ds4, L=L4, delta_t=24)\n",
    "V4                  = get_v(ds4, fcor4, L4)\n",
    "\n",
    "print('\\n5)')\n",
    "L5                  = 193000\n",
    "Vmax5, Rmax5, fcor5 = get_scales(ds5, show=False, L=L5)\n",
    "V5                  = get_v(ds5, fcor5, L5)"
   ]
  },
  {
   "cell_type": "code",
   "execution_count": null,
   "metadata": {},
   "outputs": [],
   "source": [
    "# lbda  = 0.4\n",
    "# v_new = v_k10(V1, t=0.29, lbda=lbda)\n",
    "# plt.plot(ws1.rad, ws1, label='SAR t', c='k', linewidth=3)\n",
    "# plt.plot(V1.rad * L1, v_new * fcor1 * L1, label='KK11', c='tab:orange')\n",
    "# plt.plot(ws2.rad, ws2, label='SAR t + dt', c='k', linestyle='--')\n",
    "# plt.grid();plt.xlim(0, 500000)\n",
    "# plt.legend()"
   ]
  },
  {
   "cell_type": "code",
   "execution_count": null,
   "metadata": {},
   "outputs": [],
   "source": [
    "# lbda  = -0.1\n",
    "# v_new = v_k10(V2, t=0.45, lbda=lbda)\n",
    "# plt.plot(ws2.rad, ws2, label='SAR t', c='k', linewidth=3)\n",
    "# plt.plot(V2.rad * L2, v_new * fcor2 * L2, label='KK11', c='tab:orange')\n",
    "# plt.plot(ws3.rad, ws3, label='SAR t + dt', c='k', linestyle='--')\n",
    "# plt.grid();plt.xlim(0, 500000)\n",
    "# plt.legend()"
   ]
  },
  {
   "cell_type": "code",
   "execution_count": null,
   "metadata": {},
   "outputs": [],
   "source": [
    "# lbda  = 1.6\n",
    "# v_new = v_k10(V3, t=0.42, lbda=lbda)\n",
    "# plt.plot(ws3.rad, ws3, label='SAR t', c='k', linewidth=3)\n",
    "# plt.plot(V3.rad * L3, v_new * fcor3 * L3, label='KK11', c='tab:orange')\n",
    "# plt.plot(ws4.rad, ws4, label='SAR t + dt', c='k', linestyle='--')\n",
    "# plt.grid();plt.xlim(0, 500000)\n",
    "# plt.legend()"
   ]
  },
  {
   "cell_type": "code",
   "execution_count": null,
   "metadata": {},
   "outputs": [],
   "source": [
    "# lbda  = 1.6\n",
    "# v_new = v_k10(V4, t=0.65, lbda=lbda)\n",
    "# plt.plot(ws4.rad, ws4, label='SAR t', c='k', linewidth=3)\n",
    "# plt.plot(V4.rad * L4, v_new * fcor4 * L4, label='KK11', c='tab:orange')\n",
    "# plt.plot(ws5.rad, ws5, label='SAR t + dt', c='k', linestyle='--')\n",
    "# plt.grid();plt.xlim(0, 500000)\n",
    "# plt.legend()"
   ]
  },
  {
   "cell_type": "markdown",
   "metadata": {},
   "source": [
    "### 2) Scatterometer only"
   ]
  },
  {
   "cell_type": "code",
   "execution_count": null,
   "metadata": {},
   "outputs": [],
   "source": [
    "### OPEN DATA\n",
    "all_sct = glob.glob(PATHS['sct_dir'] + '*.nc')\n",
    "print('nb of scat files = ', len(all_sct))"
   ]
  },
  {
   "cell_type": "code",
   "execution_count": null,
   "metadata": {},
   "outputs": [],
   "source": [
    "def path2datetime(path):\n",
    "    '''\n",
    "    Given a path like: '/home/arthur/data/scatterometer/KNMI/metop_c/ascat/2019/025/ascat_20190125_144500_metopc_01131_srv_o_125_ovw.nc'\n",
    "    returns the datetime object corresponding to acquisition start time: datetime.datetime(2019, 1, 25, 14, 45)\n",
    "    '''\n",
    "    dt_as_list = re.split(r'(\\d+)', os.path.basename(path))[1:4] # ['20150403', '_', '071800']\n",
    "    dt_conc    = ''.join(dt_as_list)                             # '20150403T071800'\n",
    "    return datetime.strptime(dt_conc, \"%Y%m%d_%H%M%S\")"
   ]
  },
  {
   "cell_type": "code",
   "execution_count": null,
   "metadata": {},
   "outputs": [],
   "source": [
    "# Sort all files\n",
    "all_sct = sorted(all_sct, key=path2datetime)\n",
    "# Custom list\n",
    "all_sct = all_sct[22:]"
   ]
  },
  {
   "cell_type": "markdown",
   "metadata": {},
   "source": [
    "#### Initialization"
   ]
  },
  {
   "cell_type": "code",
   "execution_count": null,
   "metadata": {},
   "outputs": [],
   "source": [
    "# Initialization\n",
    "dss = xr.open_dataset(all_sct[0])\n",
    "dss.wind_speed.mean(dim='theta', skipna=True).plot(c='k', linewidth=3, label='SCAT total')\n",
    "dss.tangential_wind.mean(dim='theta', skipna=True).plot(c='tab:red', label='SCAT tangential')\n",
    "plt.axvline(37.5, c='k', alpha=0.3)\n",
    "\n",
    "# Custom initialization\n",
    "def affine(vmax, vmin, rmax, r):\n",
    "    return ((vmax - vmin) / (rmax - 0)) * r + vmin\n",
    "\n",
    "V_ini        = dss.wind_speed.mean(dim='theta', skipna=True)\n",
    "V_ini[0]     = 10\n",
    "V_ini[1]     = affine(vmax=V_ini.sel(rad=37.5), vmin=10, rmax=37.5, r=1 * 12.5)\n",
    "V_ini[2]     = affine(vmax=V_ini.sel(rad=37.5), vmin=10, rmax=37.5, r=2 * 12.5)\n",
    "V_ini.plot(c='k', linestyle='--', label='custom total')\n",
    "plt.legend();plt.grid()\n",
    "\n",
    "# Convert to meters\n",
    "V_ini['rad'] = V_ini.rad * 1000"
   ]
  },
  {
   "cell_type": "markdown",
   "metadata": {},
   "source": [
    "#### 1st iteration"
   ]
  },
  {
   "cell_type": "code",
   "execution_count": null,
   "metadata": {},
   "outputs": [],
   "source": [
    "# Define characteristic scales\n",
    "L      = 150000\n",
    "fcor   = float(coriolis(dss.lat_IBT))\n",
    "Rmax   = 37500\n",
    "delta_t= 12 # hr\n",
    "U_star = fcor * Rmax\n",
    "print('radial velocity U*  --> {:.2f} m/s'.format(U_star))\n",
    "print('characteristic time --> {:.1f} h'.format(L / U_star / 3600))\n",
    "print('latitude            --> {:.1f}°'.format(dss.lat_IBT))\n",
    "print('nb of timesteps: {:.2f}'.format(delta_t / (L / U_star / 3600)))\n",
    "\n",
    "\n",
    "V0 = xr.DataArray(\n",
    "    data=V_ini / (fcor * L),\n",
    "    coords={'rad': V_ini.rad / L}\n",
    ")"
   ]
  },
  {
   "cell_type": "code",
   "execution_count": null,
   "metadata": {},
   "outputs": [],
   "source": [
    "lbda  = 0.3\n",
    "v_new = v_k10(V0, t=0.40, lbda=lbda)\n",
    "\n",
    "# INITIAL SCAT AND MODEL\n",
    "plt.plot(V0.rad * L, V0 * fcor * L, label='SCT   at t = {}'.format(np.datetime_as_string(np.datetime64(path2datetime(all_sct[0])), unit='m')), c='k', linewidth=3)\n",
    "plt.plot(V0.rad * L, v_new * fcor * L, label='KK11 at t + 12hr', c='tab:orange')\n",
    "\n",
    "# NEXT SCAT\n",
    "dss_next        = xr.open_dataset(all_sct[5])\n",
    "dss_next['rad'] = dss_next.rad * 1000\n",
    "v_next_sct      = dss_next.wind_speed.mean(dim='theta', skipna=True)\n",
    "v_next_sct.plot(label='SCT at {}'.format(np.datetime_as_string(np.datetime64(path2datetime(all_sct[5])), unit='m')), c='k')\n",
    "\n",
    "# INTERMEDIARY SAR AND MODEL\n",
    "ws1.plot(label='SAR at {}'.format(np.datetime_as_string(ds1.time, unit='m')), c='c', linestyle='--', alpha=0.5)\n",
    "plt.plot(V0.rad * L, v_k10(V0, t=0.30, lbda=lbda) * fcor * L, label='KK11 at t + 9hr', c='tab:orange', linestyle='--', alpha=0.5)\n",
    "\n",
    "plt.title('1st iteration', weight='bold')\n",
    "plt.grid();plt.xlim(0, 500000)\n",
    "plt.legend()\n",
    "\n",
    "### SAVE v_new\n",
    "V_NEW = xr.DataArray(\n",
    "    data=v_new * fcor * L,\n",
    "    coords={'rad': V0.rad * L}\n",
    ")"
   ]
  },
  {
   "cell_type": "markdown",
   "metadata": {},
   "source": [
    "#### 2nd iteration"
   ]
  },
  {
   "cell_type": "code",
   "execution_count": null,
   "metadata": {},
   "outputs": [],
   "source": [
    "# Define characteristic scales\n",
    "L      = 130000\n",
    "fcor   = float(coriolis(dss_next.lat_IBT))\n",
    "Rmax   = 30000\n",
    "delta_t= 12 # hr\n",
    "U_star = fcor * Rmax\n",
    "print('radial velocity U*  --> {:.2f} m/s'.format(U_star))\n",
    "print('characteristic time --> {:.1f} h'.format(L / U_star / 3600))\n",
    "print('nb of timesteps: {:.2f}'.format(delta_t / (L / U_star / 3600)))\n",
    "\n",
    "V = xr.DataArray(\n",
    "    data=V_NEW / (fcor * L),\n",
    "    coords={'rad': V_NEW.rad / L}\n",
    ")"
   ]
  },
  {
   "cell_type": "code",
   "execution_count": null,
   "metadata": {},
   "outputs": [],
   "source": [
    "lbda  = 0.3\n",
    "v_new = v_k10(V, t=0.37, lbda=lbda)\n",
    "\n",
    "# INITIAL SCAT AND MODEL\n",
    "plt.plot(V_NEW.rad, V_NEW,            label='KK11 at t ~ 10-01T16:40', c='tab:orange', linewidth=3)\n",
    "plt.plot(V.rad * L, v_new * fcor * L, label='KK11 at t + 12hr', c='tab:orange')\n",
    "\n",
    "# NEXT SCAT\n",
    "dss_next        = xr.open_dataset(all_sct[8])\n",
    "dss_next['rad'] = dss_next.rad * 1000\n",
    "v_next_sct      = dss_next.wind_speed.mean(dim='theta', skipna=True)\n",
    "v_next_sct.plot(label='SCT at {}'.format(np.datetime_as_string(np.datetime64(path2datetime(all_sct[8])), unit='m')), c='k')\n",
    "\n",
    "# # INTERMEDIARY SAR AND MODEL\n",
    "ws2.plot(label='SAR at {}'.format(np.datetime_as_string(ds2.time, unit='m')), c='c', linestyle='--', alpha=0.5)\n",
    "plt.plot(V.rad * L, v_k10(V, t=0.3, lbda=lbda) * fcor * L, label='KK11 at t + 9hr30', c='tab:orange', linestyle='--', alpha=0.5)\n",
    "\n",
    "plt.title('2nd iteration', weight='bold')\n",
    "plt.grid();plt.xlim(0, 500000)\n",
    "plt.legend()\n",
    "\n",
    "### SAVE v_new\n",
    "V_NEW = xr.DataArray(\n",
    "    data=v_new * fcor * L,\n",
    "    coords={'rad': V.rad * L}\n",
    ")"
   ]
  },
  {
   "cell_type": "markdown",
   "metadata": {},
   "source": [
    "#### 3rd iteration"
   ]
  },
  {
   "cell_type": "code",
   "execution_count": null,
   "metadata": {},
   "outputs": [],
   "source": [
    "# Define characteristic scales\n",
    "L      = 120000\n",
    "fcor   = float(coriolis(dss_next.lat_IBT))\n",
    "Rmax   = 22000\n",
    "delta_t= 12 # hr\n",
    "U_star = fcor * Rmax\n",
    "print('radial velocity U*  --> {:.2f} m/s'.format(U_star))\n",
    "print('characteristic time --> {:.1f} h'.format(L / U_star / 3600))\n",
    "print('nb of timesteps: {:.2f}'.format(delta_t / (L / U_star / 3600)))\n",
    "\n",
    "V = xr.DataArray(\n",
    "    data=V_NEW / (fcor * L),\n",
    "    coords={'rad': V_NEW.rad / L}\n",
    ")"
   ]
  },
  {
   "cell_type": "code",
   "execution_count": null,
   "metadata": {},
   "outputs": [],
   "source": [
    "lbda  = 0.1\n",
    "v_new = v_k10(V, t=0.31, lbda=lbda)\n",
    "\n",
    "# INITIAL SCAT AND MODEL\n",
    "plt.plot(V_NEW.rad, V_NEW,            label='KK11 at t ~ 10-02T04:40', c='tab:orange', linewidth=3)\n",
    "plt.plot(V.rad * L, v_new * fcor * L, label='KK11 at t + 12hr', c='tab:orange')\n",
    "\n",
    "# NEXT SCAT\n",
    "dss_next        = xr.open_dataset(all_sct[10])\n",
    "dss_next['rad'] = dss_next.rad * 1000\n",
    "v_next_sct      = dss_next.wind_speed.mean(dim='theta', skipna=True)\n",
    "v_next_sct.plot(label='SCT at {}'.format(np.datetime_as_string(np.datetime64(path2datetime(all_sct[10])), unit='m')), c='k')\n",
    "\n",
    "plt.title('3rd iteration', weight='bold')\n",
    "plt.grid();plt.xlim(0, 500000)\n",
    "plt.legend()\n",
    "\n",
    "### SAVE v_new\n",
    "V_NEW = xr.DataArray(\n",
    "    data=v_new * fcor * L,\n",
    "    coords={'rad': V.rad * L}\n",
    ")"
   ]
  },
  {
   "cell_type": "markdown",
   "metadata": {},
   "source": [
    "#### 4th iteration"
   ]
  },
  {
   "cell_type": "code",
   "execution_count": null,
   "metadata": {},
   "outputs": [],
   "source": [
    "# Define characteristic scales\n",
    "L      = 110000\n",
    "fcor   = float(coriolis(dss_next.lat_IBT))\n",
    "Rmax   = 11000\n",
    "delta_t= 12 # hr\n",
    "U_star = fcor * Rmax\n",
    "print('radial velocity U*  --> {:.2f} m/s'.format(U_star))\n",
    "print('characteristic time --> {:.1f} h'.format(L / U_star / 3600))\n",
    "print('nb of timesteps: {:.2f}'.format(delta_t / (L / U_star / 3600)))\n",
    "\n",
    "V = xr.DataArray(\n",
    "    data=V_NEW / (fcor * L),\n",
    "    coords={'rad': V_NEW.rad / L}\n",
    ")"
   ]
  },
  {
   "cell_type": "code",
   "execution_count": null,
   "metadata": {},
   "outputs": [],
   "source": [
    "lbda  = -0.1\n",
    "v_new = v_k10(V, t=0.18, lbda=lbda)\n",
    "\n",
    "# INITIAL SCAT AND MODEL\n",
    "plt.plot(V_NEW.rad, V_NEW,            label='KK11 at t ~ 10-02T16:40', c='tab:orange', linewidth=3)\n",
    "plt.plot(V.rad * L, v_new * fcor * L, label='KK11 at t + 12hr', c='tab:orange')\n",
    "\n",
    "# # NEXT SCAT\n",
    "### ==> NO VALID SCAT BEFORE 10-04t04:17\n",
    "\n",
    "# # # INTERMEDIARY SAR AND MODEL\n",
    "ws3.plot(label='SAR at {}'.format(np.datetime_as_string(ds3.time, unit='m')), c='c', linestyle='--', alpha=0.5)\n",
    "plt.plot(V.rad * L, v_k10(V, t=0.15, lbda=lbda) * fcor * L, label='KK11 at t + 9hr30', c='tab:orange', linestyle='--', alpha=0.5)\n",
    "\n",
    "plt.title('4th iteration', weight='bold')\n",
    "plt.grid();plt.xlim(0, 500000)\n",
    "plt.legend()\n",
    "\n",
    "### SAVE v_new\n",
    "V_NEW = xr.DataArray(\n",
    "    data=v_new * fcor * L,\n",
    "    coords={'rad': V.rad * L}\n",
    ")"
   ]
  },
  {
   "cell_type": "markdown",
   "metadata": {},
   "source": [
    "#### 5th iteration"
   ]
  },
  {
   "cell_type": "code",
   "execution_count": null,
   "metadata": {},
   "outputs": [],
   "source": [
    "# Define characteristic scales\n",
    "L      = 140000\n",
    "fcor   = float(coriolis(dss_next.lat_IBT + 1.2)) # Data is missing ==> 1° is 100km, saying the storm goes at 10km/h, it has done ~1.2° in 12 hrs\n",
    "Rmax   = 11000\n",
    "delta_t= 12 # hr\n",
    "U_star = fcor * Rmax\n",
    "print('radial velocity U*  --> {:.2f} m/s'.format(U_star))\n",
    "print('characteristic time --> {:.1f} h'.format(L / U_star / 3600))\n",
    "print('latitude            --> {:.1f}°'.format(dss_next.lat_IBT + 1.2))\n",
    "print('nb of timesteps: {:.2f}'.format(delta_t / (L / U_star / 3600)))\n",
    "\n",
    "V = xr.DataArray(\n",
    "    data=V_NEW / (fcor * L),\n",
    "    coords={'rad': V_NEW.rad / L}\n",
    ")"
   ]
  },
  {
   "cell_type": "code",
   "execution_count": null,
   "metadata": {},
   "outputs": [],
   "source": [
    "lbda  = 2.5\n",
    "v_new = v_k10(V, t=0.19, lbda=lbda)\n",
    "\n",
    "# INITIAL SCAT AND MODEL\n",
    "plt.plot(V_NEW.rad, V_NEW,            label='KK11 at t ~ 10-03T04:40', c='tab:orange', linewidth=3)\n",
    "plt.plot(V.rad * L * 1.5, v_new * fcor * L, label='KK11 at t + 12hr', c='tab:orange')\n",
    "\n",
    "# # NEXT SCAT\n",
    "### ==> NO VALID SCAT BEFORE 10-04t04:17\n",
    "\n",
    "# INTERMEDIARY SAR AND MODEL\n",
    "ws4.plot(label='SAR at {}'.format(np.datetime_as_string(ds4.time, unit='m')), c='c', linestyle='--', alpha=0.5)\n",
    "plt.plot(V.rad * L * 1.5, v_k10(V, t=0.15, lbda=lbda) * fcor * L, label='KK11 at t + 9hr30', c='tab:orange', linestyle='--', alpha=0.5)\n",
    "\n",
    "plt.title('5th iteration', weight='bold')\n",
    "plt.grid();plt.xlim(0, 500000)\n",
    "plt.legend()\n",
    "\n",
    "### SAVE v_new\n",
    "V_NEW = xr.DataArray(\n",
    "    data=v_new * fcor * L,\n",
    "    coords={'rad': V.rad * L}\n",
    ")"
   ]
  },
  {
   "cell_type": "markdown",
   "metadata": {},
   "source": [
    "#### 6th iteration"
   ]
  },
  {
   "cell_type": "code",
   "execution_count": null,
   "metadata": {},
   "outputs": [],
   "source": [
    "# Define characteristic scales\n",
    "L      = 200000\n",
    "fcor   = float(coriolis(dss_next.lat_IBT + 2 * 1.2)) # Data is missing ==> 1° is 100km, saying the storm goes at 10km/h, it has done ~1.2° in 12 hrs\n",
    "Rmax   = 15000\n",
    "delta_t= 12 # hr\n",
    "U_star = fcor * Rmax\n",
    "print('radial velocity U*  --> {:.2f} m/s'.format(U_star))\n",
    "print('characteristic time --> {:.1f} h'.format(L / U_star / 3600))\n",
    "print('nb of timesteps: {:.2f}'.format(delta_t / (L / U_star / 3600)))\n",
    "\n",
    "V = xr.DataArray(\n",
    "    data=V_NEW / (fcor * L),\n",
    "    coords={'rad': V_NEW.rad / L}\n",
    ")"
   ]
  },
  {
   "cell_type": "code",
   "execution_count": null,
   "metadata": {},
   "outputs": [],
   "source": [
    "lbda  = 2.5\n",
    "v_new = v_k10(V, t=0.15, lbda=lbda)\n",
    "\n",
    "# INITIAL SCAT AND MODEL\n",
    "plt.plot(V_NEW.rad, V_NEW,            label='KK11 at t ~ 10-03T16:40', c='tab:orange', linewidth=3)\n",
    "plt.plot(V.rad * L * 3, v_new * fcor * L, label='KK11 at t + 12hr', c='tab:orange')\n",
    "\n",
    "# NEXT SCAT\n",
    "dss_next        = xr.open_dataset(all_sct[16])\n",
    "dss_next['rad'] = dss_next.rad * 1000\n",
    "v_next_sct      = dss_next.wind_speed.mean(dim='theta', skipna=True)\n",
    "v_next_sct.plot(label='SCT at {}'.format(np.datetime_as_string(np.datetime64(path2datetime(all_sct[16])), unit='m')), c='k')\n",
    "\n",
    "plt.title('6th iteration', weight='bold')\n",
    "plt.grid();plt.xlim(0, 500000)\n",
    "plt.legend()\n",
    "\n",
    "### SAVE v_new\n",
    "V_NEW = xr.DataArray(\n",
    "    data=v_new * fcor * L,\n",
    "    coords={'rad': V.rad * L}\n",
    ")"
   ]
  },
  {
   "cell_type": "markdown",
   "metadata": {},
   "source": [
    "#### 7th iteration"
   ]
  },
  {
   "cell_type": "code",
   "execution_count": null,
   "metadata": {},
   "outputs": [],
   "source": [
    "# Define characteristic scales\n",
    "L      = 300000\n",
    "fcor   = float(coriolis(dss_next.lat_IBT))\n",
    "Rmax   = 70000\n",
    "delta_t= 12 # hr\n",
    "U_star = fcor * Rmax\n",
    "print('radial velocity U*  --> {:.2f} m/s'.format(U_star))\n",
    "print('characteristic time --> {:.1f} h'.format(L / U_star / 3600))\n",
    "print('latitude            --> {:.1f}°'.format(dss_next.lat_IBT))\n",
    "print('nb of timesteps: {:.2f}'.format(delta_t / (L / U_star / 3600)))\n",
    "\n",
    "V = xr.DataArray(\n",
    "    data=V_NEW / (fcor * L),\n",
    "    coords={'rad': V_NEW.rad / L}\n",
    ")"
   ]
  },
  {
   "cell_type": "code",
   "execution_count": null,
   "metadata": {},
   "outputs": [],
   "source": [
    "lbda  = 1.2\n",
    "v_new = v_k10(V, t=0.49, lbda=lbda)\n",
    "\n",
    "# INITIAL SCAT AND MODEL\n",
    "plt.plot(V_NEW.rad, V_NEW,            label='KK11 at t ~ 10-04T04:40', c='tab:orange', linewidth=3)\n",
    "plt.plot(V.rad * L * 4, v_new * fcor * L, label='KK11 at t + 12hr', c='tab:orange')\n",
    "\n",
    "# NEXT SCAT\n",
    "dss_next        = xr.open_dataset(all_sct[20])\n",
    "dss_next['rad'] = dss_next.rad * 1000\n",
    "v_next_sct      = dss_next.wind_speed.mean(dim='theta', skipna=True)\n",
    "v_next_sct.plot(label='SCT at {}'.format(np.datetime_as_string(np.datetime64(path2datetime(all_sct[20])), unit='m')), c='k')\n",
    "\n",
    "# INTERMEDIARY SAR AND MODEL\n",
    "ws5.plot(label='SAR at {}'.format(np.datetime_as_string(ds5.time, unit='m')), c='c', linestyle='--', alpha=0.5)\n",
    "plt.plot(V.rad * L * 4, v_k10(V, t=0.38, lbda=lbda) * fcor * L, label='KK11 at t + 9hr30', c='tab:orange', linestyle='--', alpha=0.5)\n",
    "\n",
    "plt.title('7th iteration', weight='bold')\n",
    "plt.grid();plt.xlim(0, 500000)\n",
    "plt.legend()\n",
    "\n",
    "# ### SAVE v_new\n",
    "# V_NEW = xr.DataArray(\n",
    "#     data=v_new * fcor * L,\n",
    "#     coords={'rad': V.rad * L}\n",
    "# )"
   ]
  },
  {
   "cell_type": "code",
   "execution_count": null,
   "metadata": {},
   "outputs": [],
   "source": [
    "lat = float(xr.open_dataset(all_sct[0]).lat_IBT)"
   ]
  },
  {
   "cell_type": "code",
   "execution_count": null,
   "metadata": {},
   "outputs": [],
   "source": [
    "### TEST\n",
    "def h80(r, vm, rm, B, lat, vmin):\n",
    "    '''Holland 1980 profile.'''\n",
    "    fcor = coriolis(lat)\n",
    "    V    = r * 0.\n",
    "    V    = vmin + np.sqrt((vm ** 2) * ((r / rm) ** B) * np.exp(1 - (r / rm) ** B) + (r * fcor / 2) ** 2) - (r * fcor / 2)\n",
    "    return V\n",
    "\n",
    "r    = V_ini.rad\n",
    "vmx  = V_ini.max()\n",
    "rmx  = V_ini.rad[V_ini.argmax()]\n",
    "vmin = V_ini.min()\n",
    "B    = 1\n",
    "\n",
    "V_ini.plot()\n",
    "# h80(r, vmx - vmin, rmx, B, lat, vmin).plot()\n",
    "\n",
    "popt, pcov = curve_fit(\n",
    "    f=lambda r, vm, rm, B, vmin: h80(r, vm, rm, B, lat, vmin),\n",
    "    xdata=V_ini.rad,\n",
    "    ydata=V_ini,\n",
    "    p0=[V_ini.max(), V_ini.rad[V_ini.argmax()], 1.5, V_ini.min()],\n",
    "    bounds=[\n",
    "        (V_ini.max() * 0.5, V_ini.rad[V_ini.argmax()] * 0.5, 0.5, V_ini.min() * 0.5),\n",
    "        (V_ini.max() * 1.5, V_ini.rad[V_ini.argmax()] * 1.5, 5,   V_ini.min() * 1.5)\n",
    "    ]\n",
    ")\n",
    "\n",
    "h80(r, popt[0], popt[1], popt[2], lat, popt[3]).plot()"
   ]
  },
  {
   "cell_type": "code",
   "execution_count": null,
   "metadata": {},
   "outputs": [],
   "source": [
    "print('FIT')\n",
    "print('Vmax = {} m/s'.format(popt[0] + popt[3]))\n",
    "print('Rmax = {:.0f} km '.format(popt[1] / 1000))\n",
    "print('B    = {}'.format(B))"
   ]
  },
  {
   "cell_type": "code",
   "execution_count": null,
   "metadata": {},
   "outputs": [],
   "source": [
    "r    = np.linspace(0, 5e5, 50001)\n",
    "dr   = 1000\n",
    "v    = h80(r, popt[0], popt[1], popt[2], lat, 0)\n",
    "vort = (1 / r) * np.gradient(r * v, dr)\n",
    "q    = (r * v ** 2) / (vort + coriolis(lat))\n",
    "\n",
    "plt.plot(r, v, c='tab:blue')\n",
    "plt.plot(r, q / 1e11, c='tab:orange')\n",
    "plt.plot(r, np.gradient(q, dr) / 1e4, c='tab:orange', linestyle='--')\n",
    "plt.grid()"
   ]
  },
  {
   "cell_type": "code",
   "execution_count": null,
   "metadata": {},
   "outputs": [],
   "source": []
  },
  {
   "cell_type": "code",
   "execution_count": null,
   "metadata": {},
   "outputs": [],
   "source": []
  },
  {
   "cell_type": "code",
   "execution_count": null,
   "metadata": {},
   "outputs": [],
   "source": []
  },
  {
   "cell_type": "code",
   "execution_count": null,
   "metadata": {},
   "outputs": [],
   "source": []
  }
 ],
 "metadata": {
  "kernelspec": {
   "display_name": "paramProfiles",
   "language": "python",
   "name": "paramprofiles"
  },
  "language_info": {
   "codemirror_mode": {
    "name": "ipython",
    "version": 3
   },
   "file_extension": ".py",
   "mimetype": "text/x-python",
   "name": "python",
   "nbconvert_exporter": "python",
   "pygments_lexer": "ipython3",
   "version": "3.8.15"
  }
 },
 "nbformat": 4,
 "nbformat_minor": 4
}
